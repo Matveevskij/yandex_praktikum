{
 "cells": [
  {
   "cell_type": "markdown",
   "metadata": {
    "toc": true
   },
   "source": [
    "<h1>Table of Contents<span class=\"tocSkip\"></span></h1>\n",
    "<div class=\"toc\"><ul class=\"toc-item\"><li><span><a href=\"#Изучение-и-обработка-данных\" data-toc-modified-id=\"Изучение-и-обработка-данных-1\"><span class=\"toc-item-num\">1&nbsp;&nbsp;</span>Изучение и обработка данных</a></span><ul class=\"toc-item\"><li><span><a href=\"#Изучим-общую-информацию\" data-toc-modified-id=\"Изучим-общую-информацию-1.1\"><span class=\"toc-item-num\">1.1&nbsp;&nbsp;</span>Изучим общую информацию</a></span><ul class=\"toc-item\"><li><span><a href=\"#Информация-о-пользователях-(users)\" data-toc-modified-id=\"Информация-о-пользователях-(users)-1.1.1\"><span class=\"toc-item-num\">1.1.1&nbsp;&nbsp;</span>Информация о пользователях (users)</a></span></li><li><span><a href=\"#Информация-о-звонках-(calls)\" data-toc-modified-id=\"Информация-о-звонках-(calls)-1.1.2\"><span class=\"toc-item-num\">1.1.2&nbsp;&nbsp;</span>Информация о звонках (calls)</a></span></li><li><span><a href=\"#Информация-об-интернет-сессиях-(Internet)\" data-toc-modified-id=\"Информация-об-интернет-сессиях-(Internet)-1.1.3\"><span class=\"toc-item-num\">1.1.3&nbsp;&nbsp;</span>Информация об интернет-сессиях (Internet)</a></span></li><li><span><a href=\"#Информация-о-сообщениях-(messages)\" data-toc-modified-id=\"Информация-о-сообщениях-(messages)-1.1.4\"><span class=\"toc-item-num\">1.1.4&nbsp;&nbsp;</span>Информация о сообщениях (messages)</a></span></li><li><span><a href=\"#Информация-о-тарифах-(Tariffs)\" data-toc-modified-id=\"Информация-о-тарифах-(Tariffs)-1.1.5\"><span class=\"toc-item-num\">1.1.5&nbsp;&nbsp;</span>Информация о тарифах (Tariffs)</a></span></li></ul></li></ul></li><li><span><a href=\"#Предобработка-данных\" data-toc-modified-id=\"Предобработка-данных-2\"><span class=\"toc-item-num\">2&nbsp;&nbsp;</span>Предобработка данных</a></span><ul class=\"toc-item\"><li><span><a href=\"#Пользователи-(users)\" data-toc-modified-id=\"Пользователи-(users)-2.1\"><span class=\"toc-item-num\">2.1&nbsp;&nbsp;</span>Пользователи (users)</a></span></li><li><span><a href=\"#Звонки-(calls)\" data-toc-modified-id=\"Звонки-(calls)-2.2\"><span class=\"toc-item-num\">2.2&nbsp;&nbsp;</span>Звонки (calls)</a></span></li><li><span><a href=\"#Интернет-сессии-(internet)\" data-toc-modified-id=\"Интернет-сессии-(internet)-2.3\"><span class=\"toc-item-num\">2.3&nbsp;&nbsp;</span>Интернет-сессии (internet)</a></span></li><li><span><a href=\"#Собщения-(messages)\" data-toc-modified-id=\"Собщения-(messages)-2.4\"><span class=\"toc-item-num\">2.4&nbsp;&nbsp;</span>Собщения (messages)</a></span></li><li><span><a href=\"#Тарифы-(tariffs)\" data-toc-modified-id=\"Тарифы-(tariffs)-2.5\"><span class=\"toc-item-num\">2.5&nbsp;&nbsp;</span>Тарифы (tariffs)</a></span></li></ul></li><li><span><a href=\"#Расчёты-и-добавление-результатов-в-таблицу\" data-toc-modified-id=\"Расчёты-и-добавление-результатов-в-таблицу-3\"><span class=\"toc-item-num\">3&nbsp;&nbsp;</span>Расчёты и добавление результатов в таблицу</a></span><ul class=\"toc-item\"><li><span><a href=\"#Добавим-в-таблицу-количество-сделанных-звонков-и-израсходованных-минут-разговора-по-месяцам-для-каждого-пользователя\" data-toc-modified-id=\"Добавим-в-таблицу-количество-сделанных-звонков-и-израсходованных-минут-разговора-по-месяцам-для-каждого-пользователя-3.1\"><span class=\"toc-item-num\">3.1&nbsp;&nbsp;</span>Добавим в таблицу количество сделанных звонков и израсходованных минут разговора по месяцам для каждого пользователя</a></span></li><li><span><a href=\"#Добавим-выручку-с-каждого-пользователя\" data-toc-modified-id=\"Добавим-выручку-с-каждого-пользователя-3.2\"><span class=\"toc-item-num\">3.2&nbsp;&nbsp;</span>Добавим выручку с каждого пользователя</a></span></li></ul></li><li><span><a href=\"#Анализ-данных\" data-toc-modified-id=\"Анализ-данных-4\"><span class=\"toc-item-num\">4&nbsp;&nbsp;</span>Анализ данных</a></span><ul class=\"toc-item\"><li><span><a href=\"#Сколько-минут-/-сообщений-/-трафика-требуется-пользователям-каждого-тарифа-в-месяц\" data-toc-modified-id=\"Сколько-минут-/-сообщений-/-трафика-требуется-пользователям-каждого-тарифа-в-месяц-4.1\"><span class=\"toc-item-num\">4.1&nbsp;&nbsp;</span>Сколько минут / сообщений / трафика требуется пользователям каждого тарифа в месяц</a></span></li><li><span><a href=\"#Вычисления-для-тарифа-smart\" data-toc-modified-id=\"Вычисления-для-тарифа-smart-4.2\"><span class=\"toc-item-num\">4.2&nbsp;&nbsp;</span>Вычисления для тарифа smart</a></span></li><li><span><a href=\"#Вычисления-для-тарифа-ultra\" data-toc-modified-id=\"Вычисления-для-тарифа-ultra-4.3\"><span class=\"toc-item-num\">4.3&nbsp;&nbsp;</span>Вычисления для тарифа ultra</a></span></li></ul></li><li><span><a href=\"#Проверка-гипотез\" data-toc-modified-id=\"Проверка-гипотез-5\"><span class=\"toc-item-num\">5&nbsp;&nbsp;</span>Проверка гипотез</a></span><ul class=\"toc-item\"><li><span><a href=\"#средняя-выручка-пользователей-тарифов-«Ультра»-и-«Смарт»-различаются;\" data-toc-modified-id=\"средняя-выручка-пользователей-тарифов-«Ультра»-и-«Смарт»-различаются;-5.1\"><span class=\"toc-item-num\">5.1&nbsp;&nbsp;</span>средняя выручка пользователей тарифов «Ультра» и «Смарт» различаются;</a></span></li><li><span><a href=\"#средняя-выручка-пользователей-из-Москвы-отличается-от-выручки-пользователей-из-других-регионов.\" data-toc-modified-id=\"средняя-выручка-пользователей-из-Москвы-отличается-от-выручки-пользователей-из-других-регионов.-5.2\"><span class=\"toc-item-num\">5.2&nbsp;&nbsp;</span>средняя выручка пользователей из Москвы отличается от выручки пользователей из других регионов.</a></span></li></ul></li><li><span><a href=\"#Общий-вывод\" data-toc-modified-id=\"Общий-вывод-6\"><span class=\"toc-item-num\">6&nbsp;&nbsp;</span>Общий вывод</a></span></li></ul></div>"
   ]
  },
  {
   "cell_type": "markdown",
   "metadata": {},
   "source": [
    "<h1>Содержание<span class=\"tocSkip\"></span></h1>\n",
    "<div class=\"toc\"><ul class=\"toc-item\"><li><span><a"
   ]
  },
  {
   "cell_type": "markdown",
   "metadata": {},
   "source": [
    "# Определение перспективного тарифа для телеком-компании\n",
    "\n",
    "Вы аналитик компании «Мегалайн» — федерального оператора сотовой связи. Клиентам предлагают два тарифных плана: «Смарт» и «Ультра». Чтобы скорректировать рекламный бюджет, коммерческий департамент хочет понять, какой тариф приносит больше денег.\n",
    "Вам предстоит сделать предварительный анализ тарифов на небольшой выборке клиентов. В вашем распоряжении данные 500 пользователей «Мегалайна»: кто они, откуда, каким тарифом пользуются, сколько звонков и сообщений каждый отправил за 2018 год. Нужно проанализировать поведение клиентов и сделать вывод — какой тариф лучше.\n",
    "\n",
    "***Описание тарифов***\n",
    "\n",
    "**Тариф «Смарт»**\n",
    "\n",
    "    Ежемесячная плата: 550 рублей\n",
    "    Включено 500 минут разговора, 50 сообщений и 15 Гб интернет-трафика\n",
    "    Стоимость услуг сверх тарифного пакета: 1. минута разговора: 3 рубля («Мегалайн» всегда округляет вверх значения минут и мегабайтов. Если пользователь проговорил всего 1 секунду, в тарифе засчитывается целая минута); 2. сообщение: 3 рубля; 3. 1 Гб интернет-трафика: 200 рублей.\n",
    "\n",
    "**Тариф «Ультра»**\n",
    "\n",
    "    Ежемесячная плата: 1950 рублей\n",
    "    Включено 3000 минут разговора, 1000 сообщений и 30 Гб интернет-трафика\n",
    "    Стоимость услуг сверх тарифного пакета: 1. минута разговора: 1 рубль; 2. сообщение: 1 рубль; 3. 1 Гб интернет-трафика: 150 рублей.\n",
    "\n",
    "**Цель исследования** — проверьте 2 гипотезы:\n",
    "\n",
    "   1. Есть ли разница между средней выручкой пользователей тарифов «Ультра» и «Смарт»?;\n",
    "   2. Есть ли разница между выручкой пользователей из Москвы и выручкой пользователей из других регионов?\n",
    "\n",
    "   **Ход исследования**:\n",
    "   \n",
    "   Данные о поведении пользователей я получу из предоставленных файлов. О качестве данных ничего не известно. Поэтому перед проверкой гипотез понадобится обзор данных.\n",
    "   \n",
    "   Я проверю данные на ошибки и оцените их влияние на исследование. Затем, на этапе предобработки я поищу возможность исправить все ошибки данных. Далее нужно будет обработать и добавить необходимые значения в таблицу и проанализировать.\n",
    "\n",
    "  Таким образом, моё исследование пройдёт в шесть этапов:\n",
    " 1. Обзор данных.\n",
    " 2. Предобработка данных.\n",
    " 3. Расчеты необходимых данных и добавления их в общую таблицу.\n",
    " 4. Анализ данных предоставленных тарифов.\n",
    " 5. Проверка гипотез.\n",
    " 6. Написание общего вывода."
   ]
  },
  {
   "cell_type": "markdown",
   "metadata": {},
   "source": [
    "## Изучение и обработка данных"
   ]
  },
  {
   "cell_type": "markdown",
   "metadata": {},
   "source": [
    "### Изучим общую информацию"
   ]
  },
  {
   "cell_type": "markdown",
   "metadata": {},
   "source": [
    "Импортируем необходимые библиотеки и достаём файлы"
   ]
  },
  {
   "cell_type": "code",
   "execution_count": 1,
   "metadata": {},
   "outputs": [],
   "source": [
    "import pandas as pd # импортирую библиотеку pandas\n",
    "import matplotlib # импорт библиотек для работы с графиками\n",
    "import matplotlib.pyplot as plt\n",
    "import numpy as np\n",
    "import seaborn as sns # библиотека для графиков\n",
    "from math import factorial # математическая библиотека\n",
    "from scipy.stats import norm\n",
    "import scipy.stats\n",
    "from scipy import stats as st # Статистические распределения и функции\n",
    "import math"
   ]
  },
  {
   "cell_type": "code",
   "execution_count": 2,
   "metadata": {},
   "outputs": [],
   "source": [
    "calls = pd.read_csv('/datasets/calls.csv')\n",
    "internet = pd.read_csv('/datasets/internet.csv')\n",
    "messages = pd.read_csv('/datasets/messages.csv')\n",
    "tariffs = pd.read_csv('/datasets/tariffs.csv')\n",
    "users = pd.read_csv('/datasets/users.csv')"
   ]
  },
  {
   "cell_type": "markdown",
   "metadata": {},
   "source": [
    "#### Информация о пользователях (users)"
   ]
  },
  {
   "cell_type": "markdown",
   "metadata": {},
   "source": [
    "Ознакомимся с таблицей `users`"
   ]
  },
  {
   "cell_type": "code",
   "execution_count": 3,
   "metadata": {},
   "outputs": [
    {
     "data": {
      "text/html": [
       "<div>\n",
       "<style scoped>\n",
       "    .dataframe tbody tr th:only-of-type {\n",
       "        vertical-align: middle;\n",
       "    }\n",
       "\n",
       "    .dataframe tbody tr th {\n",
       "        vertical-align: top;\n",
       "    }\n",
       "\n",
       "    .dataframe thead th {\n",
       "        text-align: right;\n",
       "    }\n",
       "</style>\n",
       "<table border=\"1\" class=\"dataframe\">\n",
       "  <thead>\n",
       "    <tr style=\"text-align: right;\">\n",
       "      <th></th>\n",
       "      <th>user_id</th>\n",
       "      <th>age</th>\n",
       "      <th>churn_date</th>\n",
       "      <th>city</th>\n",
       "      <th>first_name</th>\n",
       "      <th>last_name</th>\n",
       "      <th>reg_date</th>\n",
       "      <th>tariff</th>\n",
       "    </tr>\n",
       "  </thead>\n",
       "  <tbody>\n",
       "    <tr>\n",
       "      <td>0</td>\n",
       "      <td>1000</td>\n",
       "      <td>52</td>\n",
       "      <td>NaN</td>\n",
       "      <td>Краснодар</td>\n",
       "      <td>Рафаил</td>\n",
       "      <td>Верещагин</td>\n",
       "      <td>2018-05-25</td>\n",
       "      <td>ultra</td>\n",
       "    </tr>\n",
       "    <tr>\n",
       "      <td>1</td>\n",
       "      <td>1001</td>\n",
       "      <td>41</td>\n",
       "      <td>NaN</td>\n",
       "      <td>Москва</td>\n",
       "      <td>Иван</td>\n",
       "      <td>Ежов</td>\n",
       "      <td>2018-11-01</td>\n",
       "      <td>smart</td>\n",
       "    </tr>\n",
       "    <tr>\n",
       "      <td>2</td>\n",
       "      <td>1002</td>\n",
       "      <td>59</td>\n",
       "      <td>NaN</td>\n",
       "      <td>Стерлитамак</td>\n",
       "      <td>Евгений</td>\n",
       "      <td>Абрамович</td>\n",
       "      <td>2018-06-17</td>\n",
       "      <td>smart</td>\n",
       "    </tr>\n",
       "    <tr>\n",
       "      <td>3</td>\n",
       "      <td>1003</td>\n",
       "      <td>23</td>\n",
       "      <td>NaN</td>\n",
       "      <td>Москва</td>\n",
       "      <td>Белла</td>\n",
       "      <td>Белякова</td>\n",
       "      <td>2018-08-17</td>\n",
       "      <td>ultra</td>\n",
       "    </tr>\n",
       "    <tr>\n",
       "      <td>4</td>\n",
       "      <td>1004</td>\n",
       "      <td>68</td>\n",
       "      <td>NaN</td>\n",
       "      <td>Новокузнецк</td>\n",
       "      <td>Татьяна</td>\n",
       "      <td>Авдеенко</td>\n",
       "      <td>2018-05-14</td>\n",
       "      <td>ultra</td>\n",
       "    </tr>\n",
       "  </tbody>\n",
       "</table>\n",
       "</div>"
      ],
      "text/plain": [
       "   user_id  age churn_date         city first_name  last_name    reg_date  \\\n",
       "0     1000   52        NaN    Краснодар     Рафаил  Верещагин  2018-05-25   \n",
       "1     1001   41        NaN       Москва       Иван       Ежов  2018-11-01   \n",
       "2     1002   59        NaN  Стерлитамак    Евгений  Абрамович  2018-06-17   \n",
       "3     1003   23        NaN       Москва      Белла   Белякова  2018-08-17   \n",
       "4     1004   68        NaN  Новокузнецк    Татьяна   Авдеенко  2018-05-14   \n",
       "\n",
       "  tariff  \n",
       "0  ultra  \n",
       "1  smart  \n",
       "2  smart  \n",
       "3  ultra  \n",
       "4  ultra  "
      ]
     },
     "execution_count": 3,
     "metadata": {},
     "output_type": "execute_result"
    }
   ],
   "source": [
    "users.head()"
   ]
  },
  {
   "cell_type": "markdown",
   "metadata": {},
   "source": [
    "- user_id — уникальный идентификатор пользователя\n",
    "- first_name — имя пользователя\n",
    "- last_name — фамилия пользователя\n",
    "- age — возраст пользователя (годы)\n",
    "- reg_date — дата подключения тарифа (день, месяц, год)\n",
    "- churn_date — дата прекращения пользования тарифом (если значение пропущено, то тариф ещё действовал на момент выгрузки данных)\n",
    "- city — город проживания пользователя\n",
    "- tarif — название тарифного плана"
   ]
  },
  {
   "cell_type": "markdown",
   "metadata": {},
   "source": [
    "#### Информация о звонках (calls)"
   ]
  },
  {
   "cell_type": "markdown",
   "metadata": {},
   "source": [
    "Выведем первые строки, чтобы понять представление"
   ]
  },
  {
   "cell_type": "code",
   "execution_count": 4,
   "metadata": {
    "scrolled": true
   },
   "outputs": [
    {
     "data": {
      "text/html": [
       "<div>\n",
       "<style scoped>\n",
       "    .dataframe tbody tr th:only-of-type {\n",
       "        vertical-align: middle;\n",
       "    }\n",
       "\n",
       "    .dataframe tbody tr th {\n",
       "        vertical-align: top;\n",
       "    }\n",
       "\n",
       "    .dataframe thead th {\n",
       "        text-align: right;\n",
       "    }\n",
       "</style>\n",
       "<table border=\"1\" class=\"dataframe\">\n",
       "  <thead>\n",
       "    <tr style=\"text-align: right;\">\n",
       "      <th></th>\n",
       "      <th>id</th>\n",
       "      <th>call_date</th>\n",
       "      <th>duration</th>\n",
       "      <th>user_id</th>\n",
       "    </tr>\n",
       "  </thead>\n",
       "  <tbody>\n",
       "    <tr>\n",
       "      <td>0</td>\n",
       "      <td>1000_0</td>\n",
       "      <td>2018-07-25</td>\n",
       "      <td>0.00</td>\n",
       "      <td>1000</td>\n",
       "    </tr>\n",
       "    <tr>\n",
       "      <td>1</td>\n",
       "      <td>1000_1</td>\n",
       "      <td>2018-08-17</td>\n",
       "      <td>0.00</td>\n",
       "      <td>1000</td>\n",
       "    </tr>\n",
       "    <tr>\n",
       "      <td>2</td>\n",
       "      <td>1000_2</td>\n",
       "      <td>2018-06-11</td>\n",
       "      <td>2.85</td>\n",
       "      <td>1000</td>\n",
       "    </tr>\n",
       "    <tr>\n",
       "      <td>3</td>\n",
       "      <td>1000_3</td>\n",
       "      <td>2018-09-21</td>\n",
       "      <td>13.80</td>\n",
       "      <td>1000</td>\n",
       "    </tr>\n",
       "    <tr>\n",
       "      <td>4</td>\n",
       "      <td>1000_4</td>\n",
       "      <td>2018-12-15</td>\n",
       "      <td>5.18</td>\n",
       "      <td>1000</td>\n",
       "    </tr>\n",
       "  </tbody>\n",
       "</table>\n",
       "</div>"
      ],
      "text/plain": [
       "       id   call_date  duration  user_id\n",
       "0  1000_0  2018-07-25      0.00     1000\n",
       "1  1000_1  2018-08-17      0.00     1000\n",
       "2  1000_2  2018-06-11      2.85     1000\n",
       "3  1000_3  2018-09-21     13.80     1000\n",
       "4  1000_4  2018-12-15      5.18     1000"
      ]
     },
     "execution_count": 4,
     "metadata": {},
     "output_type": "execute_result"
    }
   ],
   "source": [
    "calls.head()"
   ]
  },
  {
   "cell_type": "markdown",
   "metadata": {},
   "source": [
    "- id — уникальный номер сообщения\n",
    "- message_date — дата сообщения\n",
    "- user_id — идентификатор пользователя, отправившего сообщение"
   ]
  },
  {
   "cell_type": "markdown",
   "metadata": {},
   "source": [
    "#### Информация об интернет-сессиях (Internet)"
   ]
  },
  {
   "cell_type": "code",
   "execution_count": 5,
   "metadata": {},
   "outputs": [
    {
     "data": {
      "text/html": [
       "<div>\n",
       "<style scoped>\n",
       "    .dataframe tbody tr th:only-of-type {\n",
       "        vertical-align: middle;\n",
       "    }\n",
       "\n",
       "    .dataframe tbody tr th {\n",
       "        vertical-align: top;\n",
       "    }\n",
       "\n",
       "    .dataframe thead th {\n",
       "        text-align: right;\n",
       "    }\n",
       "</style>\n",
       "<table border=\"1\" class=\"dataframe\">\n",
       "  <thead>\n",
       "    <tr style=\"text-align: right;\">\n",
       "      <th></th>\n",
       "      <th>Unnamed: 0</th>\n",
       "      <th>id</th>\n",
       "      <th>mb_used</th>\n",
       "      <th>session_date</th>\n",
       "      <th>user_id</th>\n",
       "    </tr>\n",
       "  </thead>\n",
       "  <tbody>\n",
       "    <tr>\n",
       "      <td>0</td>\n",
       "      <td>0</td>\n",
       "      <td>1000_0</td>\n",
       "      <td>112.95</td>\n",
       "      <td>2018-11-25</td>\n",
       "      <td>1000</td>\n",
       "    </tr>\n",
       "    <tr>\n",
       "      <td>1</td>\n",
       "      <td>1</td>\n",
       "      <td>1000_1</td>\n",
       "      <td>1052.81</td>\n",
       "      <td>2018-09-07</td>\n",
       "      <td>1000</td>\n",
       "    </tr>\n",
       "    <tr>\n",
       "      <td>2</td>\n",
       "      <td>2</td>\n",
       "      <td>1000_2</td>\n",
       "      <td>1197.26</td>\n",
       "      <td>2018-06-25</td>\n",
       "      <td>1000</td>\n",
       "    </tr>\n",
       "    <tr>\n",
       "      <td>3</td>\n",
       "      <td>3</td>\n",
       "      <td>1000_3</td>\n",
       "      <td>550.27</td>\n",
       "      <td>2018-08-22</td>\n",
       "      <td>1000</td>\n",
       "    </tr>\n",
       "    <tr>\n",
       "      <td>4</td>\n",
       "      <td>4</td>\n",
       "      <td>1000_4</td>\n",
       "      <td>302.56</td>\n",
       "      <td>2018-09-24</td>\n",
       "      <td>1000</td>\n",
       "    </tr>\n",
       "  </tbody>\n",
       "</table>\n",
       "</div>"
      ],
      "text/plain": [
       "   Unnamed: 0      id  mb_used session_date  user_id\n",
       "0           0  1000_0   112.95   2018-11-25     1000\n",
       "1           1  1000_1  1052.81   2018-09-07     1000\n",
       "2           2  1000_2  1197.26   2018-06-25     1000\n",
       "3           3  1000_3   550.27   2018-08-22     1000\n",
       "4           4  1000_4   302.56   2018-09-24     1000"
      ]
     },
     "execution_count": 5,
     "metadata": {},
     "output_type": "execute_result"
    }
   ],
   "source": [
    "internet.head()"
   ]
  },
  {
   "cell_type": "markdown",
   "metadata": {},
   "source": [
    "- id — уникальный номер сессии\n",
    "- mb_used — объём потраченного за сессию интернет-трафика (в мегабайтах)\n",
    "- session_date — дата интернет-сессии\n",
    "- user_id — идентификатор пользователя"
   ]
  },
  {
   "cell_type": "markdown",
   "metadata": {},
   "source": [
    "#### Информация о сообщениях (messages)"
   ]
  },
  {
   "cell_type": "code",
   "execution_count": 6,
   "metadata": {},
   "outputs": [
    {
     "data": {
      "text/html": [
       "<div>\n",
       "<style scoped>\n",
       "    .dataframe tbody tr th:only-of-type {\n",
       "        vertical-align: middle;\n",
       "    }\n",
       "\n",
       "    .dataframe tbody tr th {\n",
       "        vertical-align: top;\n",
       "    }\n",
       "\n",
       "    .dataframe thead th {\n",
       "        text-align: right;\n",
       "    }\n",
       "</style>\n",
       "<table border=\"1\" class=\"dataframe\">\n",
       "  <thead>\n",
       "    <tr style=\"text-align: right;\">\n",
       "      <th></th>\n",
       "      <th>id</th>\n",
       "      <th>message_date</th>\n",
       "      <th>user_id</th>\n",
       "    </tr>\n",
       "  </thead>\n",
       "  <tbody>\n",
       "    <tr>\n",
       "      <td>0</td>\n",
       "      <td>1000_0</td>\n",
       "      <td>2018-06-27</td>\n",
       "      <td>1000</td>\n",
       "    </tr>\n",
       "    <tr>\n",
       "      <td>1</td>\n",
       "      <td>1000_1</td>\n",
       "      <td>2018-10-08</td>\n",
       "      <td>1000</td>\n",
       "    </tr>\n",
       "    <tr>\n",
       "      <td>2</td>\n",
       "      <td>1000_2</td>\n",
       "      <td>2018-08-04</td>\n",
       "      <td>1000</td>\n",
       "    </tr>\n",
       "    <tr>\n",
       "      <td>3</td>\n",
       "      <td>1000_3</td>\n",
       "      <td>2018-06-16</td>\n",
       "      <td>1000</td>\n",
       "    </tr>\n",
       "    <tr>\n",
       "      <td>4</td>\n",
       "      <td>1000_4</td>\n",
       "      <td>2018-12-05</td>\n",
       "      <td>1000</td>\n",
       "    </tr>\n",
       "  </tbody>\n",
       "</table>\n",
       "</div>"
      ],
      "text/plain": [
       "       id message_date  user_id\n",
       "0  1000_0   2018-06-27     1000\n",
       "1  1000_1   2018-10-08     1000\n",
       "2  1000_2   2018-08-04     1000\n",
       "3  1000_3   2018-06-16     1000\n",
       "4  1000_4   2018-12-05     1000"
      ]
     },
     "execution_count": 6,
     "metadata": {},
     "output_type": "execute_result"
    }
   ],
   "source": [
    "messages.head()"
   ]
  },
  {
   "cell_type": "markdown",
   "metadata": {},
   "source": [
    "   - id — уникальный номер сообщения\n",
    "   - message_date — дата сообщения\n",
    "   - user_id — идентификатор пользователя, отправившего сообщение"
   ]
  },
  {
   "cell_type": "markdown",
   "metadata": {},
   "source": [
    "#### Информация о тарифах (Tariffs)"
   ]
  },
  {
   "cell_type": "code",
   "execution_count": 7,
   "metadata": {
    "scrolled": true
   },
   "outputs": [
    {
     "data": {
      "text/html": [
       "<div>\n",
       "<style scoped>\n",
       "    .dataframe tbody tr th:only-of-type {\n",
       "        vertical-align: middle;\n",
       "    }\n",
       "\n",
       "    .dataframe tbody tr th {\n",
       "        vertical-align: top;\n",
       "    }\n",
       "\n",
       "    .dataframe thead th {\n",
       "        text-align: right;\n",
       "    }\n",
       "</style>\n",
       "<table border=\"1\" class=\"dataframe\">\n",
       "  <thead>\n",
       "    <tr style=\"text-align: right;\">\n",
       "      <th></th>\n",
       "      <th>messages_included</th>\n",
       "      <th>mb_per_month_included</th>\n",
       "      <th>minutes_included</th>\n",
       "      <th>rub_monthly_fee</th>\n",
       "      <th>rub_per_gb</th>\n",
       "      <th>rub_per_message</th>\n",
       "      <th>rub_per_minute</th>\n",
       "      <th>tariff_name</th>\n",
       "    </tr>\n",
       "  </thead>\n",
       "  <tbody>\n",
       "    <tr>\n",
       "      <td>0</td>\n",
       "      <td>50</td>\n",
       "      <td>15360</td>\n",
       "      <td>500</td>\n",
       "      <td>550</td>\n",
       "      <td>200</td>\n",
       "      <td>3</td>\n",
       "      <td>3</td>\n",
       "      <td>smart</td>\n",
       "    </tr>\n",
       "    <tr>\n",
       "      <td>1</td>\n",
       "      <td>1000</td>\n",
       "      <td>30720</td>\n",
       "      <td>3000</td>\n",
       "      <td>1950</td>\n",
       "      <td>150</td>\n",
       "      <td>1</td>\n",
       "      <td>1</td>\n",
       "      <td>ultra</td>\n",
       "    </tr>\n",
       "  </tbody>\n",
       "</table>\n",
       "</div>"
      ],
      "text/plain": [
       "   messages_included  mb_per_month_included  minutes_included  \\\n",
       "0                 50                  15360               500   \n",
       "1               1000                  30720              3000   \n",
       "\n",
       "   rub_monthly_fee  rub_per_gb  rub_per_message  rub_per_minute tariff_name  \n",
       "0              550         200                3               3       smart  \n",
       "1             1950         150                1               1       ultra  "
      ]
     },
     "execution_count": 7,
     "metadata": {},
     "output_type": "execute_result"
    }
   ],
   "source": [
    "tariffs.head()"
   ]
  },
  {
   "cell_type": "markdown",
   "metadata": {},
   "source": [
    "- tariff_name — название тарифа\n",
    "- rub_monthly_fee — ежемесячная абонентская плата в рублях\n",
    "- minutes_included — количество минут разговора в месяц, включённых в абонентскую плату\n",
    "- messages_included — количество сообщений в месяц, включённых в абонентскую плату\n",
    "- mb_per_month_included — объём интернет-трафика, включённого в абонентскую плату (в мегабайтах)\n",
    "- rub_per_minute — стоимость минуты разговора сверх тарифного пакета (например, если в тарифе 100 минут разговора в месяц, то со 101 минуты будет взиматься плата)\n",
    "- rub_per_message — стоимость отправки сообщения сверх тарифного пакета\n",
    "- rub_per_gb — стоимость дополнительного гигабайта интернет-трафика сверх тарифного пакета (1 гигабайт = 1024 мегабайта)"
   ]
  },
  {
   "cell_type": "markdown",
   "metadata": {},
   "source": [
    "Вывод: 5 таблиц. \n",
    "\n",
    "Столбцы, в которых указаны даты, для дальнейшей работы, необходимо будет привести к другому типу данных\n",
    "\n",
    "`churn_date` имеет значение `NaN`. Нужно будет проверить"
   ]
  },
  {
   "cell_type": "markdown",
   "metadata": {},
   "source": [
    "## Предобработка данных"
   ]
  },
  {
   "cell_type": "markdown",
   "metadata": {},
   "source": [
    "### Пользователи (users)"
   ]
  },
  {
   "cell_type": "code",
   "execution_count": 8,
   "metadata": {},
   "outputs": [
    {
     "data": {
      "text/html": [
       "<div>\n",
       "<style scoped>\n",
       "    .dataframe tbody tr th:only-of-type {\n",
       "        vertical-align: middle;\n",
       "    }\n",
       "\n",
       "    .dataframe tbody tr th {\n",
       "        vertical-align: top;\n",
       "    }\n",
       "\n",
       "    .dataframe thead th {\n",
       "        text-align: right;\n",
       "    }\n",
       "</style>\n",
       "<table border=\"1\" class=\"dataframe\">\n",
       "  <thead>\n",
       "    <tr style=\"text-align: right;\">\n",
       "      <th></th>\n",
       "      <th>user_id</th>\n",
       "      <th>age</th>\n",
       "      <th>churn_date</th>\n",
       "      <th>city</th>\n",
       "      <th>first_name</th>\n",
       "      <th>last_name</th>\n",
       "      <th>reg_date</th>\n",
       "      <th>tariff</th>\n",
       "    </tr>\n",
       "  </thead>\n",
       "  <tbody>\n",
       "    <tr>\n",
       "      <td>0</td>\n",
       "      <td>1000</td>\n",
       "      <td>52</td>\n",
       "      <td>NaN</td>\n",
       "      <td>Краснодар</td>\n",
       "      <td>Рафаил</td>\n",
       "      <td>Верещагин</td>\n",
       "      <td>2018-05-25</td>\n",
       "      <td>ultra</td>\n",
       "    </tr>\n",
       "    <tr>\n",
       "      <td>1</td>\n",
       "      <td>1001</td>\n",
       "      <td>41</td>\n",
       "      <td>NaN</td>\n",
       "      <td>Москва</td>\n",
       "      <td>Иван</td>\n",
       "      <td>Ежов</td>\n",
       "      <td>2018-11-01</td>\n",
       "      <td>smart</td>\n",
       "    </tr>\n",
       "    <tr>\n",
       "      <td>2</td>\n",
       "      <td>1002</td>\n",
       "      <td>59</td>\n",
       "      <td>NaN</td>\n",
       "      <td>Стерлитамак</td>\n",
       "      <td>Евгений</td>\n",
       "      <td>Абрамович</td>\n",
       "      <td>2018-06-17</td>\n",
       "      <td>smart</td>\n",
       "    </tr>\n",
       "    <tr>\n",
       "      <td>3</td>\n",
       "      <td>1003</td>\n",
       "      <td>23</td>\n",
       "      <td>NaN</td>\n",
       "      <td>Москва</td>\n",
       "      <td>Белла</td>\n",
       "      <td>Белякова</td>\n",
       "      <td>2018-08-17</td>\n",
       "      <td>ultra</td>\n",
       "    </tr>\n",
       "    <tr>\n",
       "      <td>4</td>\n",
       "      <td>1004</td>\n",
       "      <td>68</td>\n",
       "      <td>NaN</td>\n",
       "      <td>Новокузнецк</td>\n",
       "      <td>Татьяна</td>\n",
       "      <td>Авдеенко</td>\n",
       "      <td>2018-05-14</td>\n",
       "      <td>ultra</td>\n",
       "    </tr>\n",
       "  </tbody>\n",
       "</table>\n",
       "</div>"
      ],
      "text/plain": [
       "   user_id  age churn_date         city first_name  last_name    reg_date  \\\n",
       "0     1000   52        NaN    Краснодар     Рафаил  Верещагин  2018-05-25   \n",
       "1     1001   41        NaN       Москва       Иван       Ежов  2018-11-01   \n",
       "2     1002   59        NaN  Стерлитамак    Евгений  Абрамович  2018-06-17   \n",
       "3     1003   23        NaN       Москва      Белла   Белякова  2018-08-17   \n",
       "4     1004   68        NaN  Новокузнецк    Татьяна   Авдеенко  2018-05-14   \n",
       "\n",
       "  tariff  \n",
       "0  ultra  \n",
       "1  smart  \n",
       "2  smart  \n",
       "3  ultra  \n",
       "4  ultra  "
      ]
     },
     "execution_count": 8,
     "metadata": {},
     "output_type": "execute_result"
    }
   ],
   "source": [
    "users.head()"
   ]
  },
  {
   "cell_type": "markdown",
   "metadata": {},
   "source": [
    "Проверим на наличие пропусков:"
   ]
  },
  {
   "cell_type": "code",
   "execution_count": 9,
   "metadata": {},
   "outputs": [
    {
     "name": "stdout",
     "output_type": "stream",
     "text": [
      "<class 'pandas.core.frame.DataFrame'>\n",
      "RangeIndex: 500 entries, 0 to 499\n",
      "Data columns (total 8 columns):\n",
      "user_id       500 non-null int64\n",
      "age           500 non-null int64\n",
      "churn_date    38 non-null object\n",
      "city          500 non-null object\n",
      "first_name    500 non-null object\n",
      "last_name     500 non-null object\n",
      "reg_date      500 non-null object\n",
      "tariff        500 non-null object\n",
      "dtypes: int64(2), object(6)\n",
      "memory usage: 31.4+ KB\n"
     ]
    }
   ],
   "source": [
    "users.info()"
   ]
  },
  {
   "cell_type": "markdown",
   "metadata": {},
   "source": [
    "В столбце `churn_date` слишком много пропусков. Но, согласно, условиям ТЗ (тех. задания), если значение пропущено, то тариф ещё действовал на момент выгрузки данных. Соответственно, оставим данные в этом столбце, как есть.\n",
    "\n",
    "Для дальнейших работ с датафреймом - `reg_date` нужно перевести в `datetime`."
   ]
  },
  {
   "cell_type": "code",
   "execution_count": 10,
   "metadata": {},
   "outputs": [],
   "source": [
    "users['reg_date'] = pd.to_datetime(users['reg_date'], format = '%Y-%m-%d')"
   ]
  },
  {
   "cell_type": "markdown",
   "metadata": {},
   "source": [
    "Проверим:"
   ]
  },
  {
   "cell_type": "code",
   "execution_count": 11,
   "metadata": {},
   "outputs": [
    {
     "name": "stdout",
     "output_type": "stream",
     "text": [
      "<class 'pandas.core.frame.DataFrame'>\n",
      "RangeIndex: 500 entries, 0 to 499\n",
      "Data columns (total 8 columns):\n",
      "user_id       500 non-null int64\n",
      "age           500 non-null int64\n",
      "churn_date    38 non-null object\n",
      "city          500 non-null object\n",
      "first_name    500 non-null object\n",
      "last_name     500 non-null object\n",
      "reg_date      500 non-null datetime64[ns]\n",
      "tariff        500 non-null object\n",
      "dtypes: datetime64[ns](1), int64(2), object(5)\n",
      "memory usage: 31.4+ KB\n"
     ]
    }
   ],
   "source": [
    "users.info()"
   ]
  },
  {
   "cell_type": "markdown",
   "metadata": {},
   "source": [
    "Проверим на наличие дубликатов:"
   ]
  },
  {
   "cell_type": "code",
   "execution_count": 12,
   "metadata": {},
   "outputs": [
    {
     "data": {
      "text/plain": [
       "0"
      ]
     },
     "execution_count": 12,
     "metadata": {},
     "output_type": "execute_result"
    }
   ],
   "source": [
    "users.duplicated().sum()"
   ]
  },
  {
   "cell_type": "markdown",
   "metadata": {},
   "source": [
    "### Звонки (calls)"
   ]
  },
  {
   "cell_type": "code",
   "execution_count": 13,
   "metadata": {},
   "outputs": [
    {
     "data": {
      "text/html": [
       "<div>\n",
       "<style scoped>\n",
       "    .dataframe tbody tr th:only-of-type {\n",
       "        vertical-align: middle;\n",
       "    }\n",
       "\n",
       "    .dataframe tbody tr th {\n",
       "        vertical-align: top;\n",
       "    }\n",
       "\n",
       "    .dataframe thead th {\n",
       "        text-align: right;\n",
       "    }\n",
       "</style>\n",
       "<table border=\"1\" class=\"dataframe\">\n",
       "  <thead>\n",
       "    <tr style=\"text-align: right;\">\n",
       "      <th></th>\n",
       "      <th>id</th>\n",
       "      <th>call_date</th>\n",
       "      <th>duration</th>\n",
       "      <th>user_id</th>\n",
       "    </tr>\n",
       "  </thead>\n",
       "  <tbody>\n",
       "    <tr>\n",
       "      <td>0</td>\n",
       "      <td>1000_0</td>\n",
       "      <td>2018-07-25</td>\n",
       "      <td>0.00</td>\n",
       "      <td>1000</td>\n",
       "    </tr>\n",
       "    <tr>\n",
       "      <td>1</td>\n",
       "      <td>1000_1</td>\n",
       "      <td>2018-08-17</td>\n",
       "      <td>0.00</td>\n",
       "      <td>1000</td>\n",
       "    </tr>\n",
       "    <tr>\n",
       "      <td>2</td>\n",
       "      <td>1000_2</td>\n",
       "      <td>2018-06-11</td>\n",
       "      <td>2.85</td>\n",
       "      <td>1000</td>\n",
       "    </tr>\n",
       "    <tr>\n",
       "      <td>3</td>\n",
       "      <td>1000_3</td>\n",
       "      <td>2018-09-21</td>\n",
       "      <td>13.80</td>\n",
       "      <td>1000</td>\n",
       "    </tr>\n",
       "    <tr>\n",
       "      <td>4</td>\n",
       "      <td>1000_4</td>\n",
       "      <td>2018-12-15</td>\n",
       "      <td>5.18</td>\n",
       "      <td>1000</td>\n",
       "    </tr>\n",
       "  </tbody>\n",
       "</table>\n",
       "</div>"
      ],
      "text/plain": [
       "       id   call_date  duration  user_id\n",
       "0  1000_0  2018-07-25      0.00     1000\n",
       "1  1000_1  2018-08-17      0.00     1000\n",
       "2  1000_2  2018-06-11      2.85     1000\n",
       "3  1000_3  2018-09-21     13.80     1000\n",
       "4  1000_4  2018-12-15      5.18     1000"
      ]
     },
     "execution_count": 13,
     "metadata": {},
     "output_type": "execute_result"
    }
   ],
   "source": [
    "calls.head()"
   ]
  },
  {
   "cell_type": "markdown",
   "metadata": {},
   "source": [
    "Проверим на наличие пропусков:"
   ]
  },
  {
   "cell_type": "code",
   "execution_count": 14,
   "metadata": {},
   "outputs": [
    {
     "name": "stdout",
     "output_type": "stream",
     "text": [
      "<class 'pandas.core.frame.DataFrame'>\n",
      "RangeIndex: 202607 entries, 0 to 202606\n",
      "Data columns (total 4 columns):\n",
      "id           202607 non-null object\n",
      "call_date    202607 non-null object\n",
      "duration     202607 non-null float64\n",
      "user_id      202607 non-null int64\n",
      "dtypes: float64(1), int64(1), object(2)\n",
      "memory usage: 6.2+ MB\n"
     ]
    }
   ],
   "source": [
    "calls.info()"
   ]
  },
  {
   "cell_type": "markdown",
   "metadata": {},
   "source": [
    "202607 строк. Пропускои отсутствуют\n",
    "\n",
    "Для дальнейших работ с датафреймом - `call_date` нужно перевести в `datetime`."
   ]
  },
  {
   "cell_type": "code",
   "execution_count": 15,
   "metadata": {},
   "outputs": [],
   "source": [
    "calls['call_date'] = pd.to_datetime(calls['call_date'], format = '%Y-%m-%d')"
   ]
  },
  {
   "cell_type": "markdown",
   "metadata": {},
   "source": [
    "Проверим:"
   ]
  },
  {
   "cell_type": "code",
   "execution_count": 16,
   "metadata": {},
   "outputs": [
    {
     "name": "stdout",
     "output_type": "stream",
     "text": [
      "<class 'pandas.core.frame.DataFrame'>\n",
      "RangeIndex: 202607 entries, 0 to 202606\n",
      "Data columns (total 4 columns):\n",
      "id           202607 non-null object\n",
      "call_date    202607 non-null datetime64[ns]\n",
      "duration     202607 non-null float64\n",
      "user_id      202607 non-null int64\n",
      "dtypes: datetime64[ns](1), float64(1), int64(1), object(1)\n",
      "memory usage: 6.2+ MB\n"
     ]
    }
   ],
   "source": [
    "calls.info()"
   ]
  },
  {
   "cell_type": "markdown",
   "metadata": {},
   "source": [
    "Проверим на наличие дубликатов:"
   ]
  },
  {
   "cell_type": "code",
   "execution_count": 17,
   "metadata": {},
   "outputs": [
    {
     "data": {
      "text/plain": [
       "0"
      ]
     },
     "execution_count": 17,
     "metadata": {},
     "output_type": "execute_result"
    }
   ],
   "source": [
    "calls.duplicated().sum()"
   ]
  },
  {
   "cell_type": "markdown",
   "metadata": {},
   "source": [
    "В столбце `duration` указано время разговора. «Мегалайн» всегда округляет секунды до минут. Каждый звонок округляется отдельно: даже если он длился всего 1 секунду, будет засчитан как 1 минута. Соответственно округлим до целого значения"
   ]
  },
  {
   "cell_type": "code",
   "execution_count": 18,
   "metadata": {},
   "outputs": [
    {
     "data": {
      "text/html": [
       "<div>\n",
       "<style scoped>\n",
       "    .dataframe tbody tr th:only-of-type {\n",
       "        vertical-align: middle;\n",
       "    }\n",
       "\n",
       "    .dataframe tbody tr th {\n",
       "        vertical-align: top;\n",
       "    }\n",
       "\n",
       "    .dataframe thead th {\n",
       "        text-align: right;\n",
       "    }\n",
       "</style>\n",
       "<table border=\"1\" class=\"dataframe\">\n",
       "  <thead>\n",
       "    <tr style=\"text-align: right;\">\n",
       "      <th></th>\n",
       "      <th>id</th>\n",
       "      <th>call_date</th>\n",
       "      <th>duration</th>\n",
       "      <th>user_id</th>\n",
       "    </tr>\n",
       "  </thead>\n",
       "  <tbody>\n",
       "    <tr>\n",
       "      <td>0</td>\n",
       "      <td>1000_0</td>\n",
       "      <td>2018-07-25</td>\n",
       "      <td>0.00</td>\n",
       "      <td>1000</td>\n",
       "    </tr>\n",
       "    <tr>\n",
       "      <td>1</td>\n",
       "      <td>1000_1</td>\n",
       "      <td>2018-08-17</td>\n",
       "      <td>0.00</td>\n",
       "      <td>1000</td>\n",
       "    </tr>\n",
       "    <tr>\n",
       "      <td>2</td>\n",
       "      <td>1000_2</td>\n",
       "      <td>2018-06-11</td>\n",
       "      <td>2.85</td>\n",
       "      <td>1000</td>\n",
       "    </tr>\n",
       "    <tr>\n",
       "      <td>3</td>\n",
       "      <td>1000_3</td>\n",
       "      <td>2018-09-21</td>\n",
       "      <td>13.80</td>\n",
       "      <td>1000</td>\n",
       "    </tr>\n",
       "    <tr>\n",
       "      <td>4</td>\n",
       "      <td>1000_4</td>\n",
       "      <td>2018-12-15</td>\n",
       "      <td>5.18</td>\n",
       "      <td>1000</td>\n",
       "    </tr>\n",
       "  </tbody>\n",
       "</table>\n",
       "</div>"
      ],
      "text/plain": [
       "       id  call_date  duration  user_id\n",
       "0  1000_0 2018-07-25      0.00     1000\n",
       "1  1000_1 2018-08-17      0.00     1000\n",
       "2  1000_2 2018-06-11      2.85     1000\n",
       "3  1000_3 2018-09-21     13.80     1000\n",
       "4  1000_4 2018-12-15      5.18     1000"
      ]
     },
     "execution_count": 18,
     "metadata": {},
     "output_type": "execute_result"
    }
   ],
   "source": [
    "calls.head()"
   ]
  },
  {
   "cell_type": "code",
   "execution_count": 19,
   "metadata": {},
   "outputs": [],
   "source": [
    "calls['duration'] = np.ceil(calls['duration'])"
   ]
  },
  {
   "cell_type": "markdown",
   "metadata": {},
   "source": [
    "Проверим:"
   ]
  },
  {
   "cell_type": "code",
   "execution_count": 20,
   "metadata": {
    "scrolled": true
   },
   "outputs": [
    {
     "data": {
      "text/html": [
       "<div>\n",
       "<style scoped>\n",
       "    .dataframe tbody tr th:only-of-type {\n",
       "        vertical-align: middle;\n",
       "    }\n",
       "\n",
       "    .dataframe tbody tr th {\n",
       "        vertical-align: top;\n",
       "    }\n",
       "\n",
       "    .dataframe thead th {\n",
       "        text-align: right;\n",
       "    }\n",
       "</style>\n",
       "<table border=\"1\" class=\"dataframe\">\n",
       "  <thead>\n",
       "    <tr style=\"text-align: right;\">\n",
       "      <th></th>\n",
       "      <th>id</th>\n",
       "      <th>call_date</th>\n",
       "      <th>duration</th>\n",
       "      <th>user_id</th>\n",
       "    </tr>\n",
       "  </thead>\n",
       "  <tbody>\n",
       "    <tr>\n",
       "      <td>0</td>\n",
       "      <td>1000_0</td>\n",
       "      <td>2018-07-25</td>\n",
       "      <td>0.0</td>\n",
       "      <td>1000</td>\n",
       "    </tr>\n",
       "    <tr>\n",
       "      <td>1</td>\n",
       "      <td>1000_1</td>\n",
       "      <td>2018-08-17</td>\n",
       "      <td>0.0</td>\n",
       "      <td>1000</td>\n",
       "    </tr>\n",
       "    <tr>\n",
       "      <td>2</td>\n",
       "      <td>1000_2</td>\n",
       "      <td>2018-06-11</td>\n",
       "      <td>3.0</td>\n",
       "      <td>1000</td>\n",
       "    </tr>\n",
       "    <tr>\n",
       "      <td>3</td>\n",
       "      <td>1000_3</td>\n",
       "      <td>2018-09-21</td>\n",
       "      <td>14.0</td>\n",
       "      <td>1000</td>\n",
       "    </tr>\n",
       "    <tr>\n",
       "      <td>4</td>\n",
       "      <td>1000_4</td>\n",
       "      <td>2018-12-15</td>\n",
       "      <td>6.0</td>\n",
       "      <td>1000</td>\n",
       "    </tr>\n",
       "  </tbody>\n",
       "</table>\n",
       "</div>"
      ],
      "text/plain": [
       "       id  call_date  duration  user_id\n",
       "0  1000_0 2018-07-25       0.0     1000\n",
       "1  1000_1 2018-08-17       0.0     1000\n",
       "2  1000_2 2018-06-11       3.0     1000\n",
       "3  1000_3 2018-09-21      14.0     1000\n",
       "4  1000_4 2018-12-15       6.0     1000"
      ]
     },
     "execution_count": 20,
     "metadata": {},
     "output_type": "execute_result"
    }
   ],
   "source": [
    "calls.head()"
   ]
  },
  {
   "cell_type": "markdown",
   "metadata": {},
   "source": [
    "Проверим `duration` на наличие выбросов:"
   ]
  },
  {
   "cell_type": "code",
   "execution_count": 21,
   "metadata": {
    "scrolled": true
   },
   "outputs": [
    {
     "data": {
      "image/png": "[encoded data removed]",
      "text/plain": [
       "<Figure size 432x288 with 1 Axes>"
      ]
     },
     "metadata": {
      "needs_background": "light"
     },
     "output_type": "display_data"
    }
   ],
   "source": [
    "calls['duration'].plot(kind='hist', bins = 40);"
   ]
  },
  {
   "cell_type": "markdown",
   "metadata": {},
   "source": [
    "Наблюдаем звонки с нулевой продолжительностью. Это не ошибка: нулями обозначены пропущенные звонки, поэтому их не нужно удалять.\n",
    "\n",
    "Пик значений наблюдаем диапазоне от 1 до 15 минут"
   ]
  },
  {
   "cell_type": "markdown",
   "metadata": {},
   "source": [
    "### Интернет-сессии (internet)"
   ]
  },
  {
   "cell_type": "markdown",
   "metadata": {},
   "source": [
    "Проверим на наличие пропусков:"
   ]
  },
  {
   "cell_type": "code",
   "execution_count": 22,
   "metadata": {
    "scrolled": true
   },
   "outputs": [
    {
     "name": "stdout",
     "output_type": "stream",
     "text": [
      "<class 'pandas.core.frame.DataFrame'>\n",
      "RangeIndex: 149396 entries, 0 to 149395\n",
      "Data columns (total 5 columns):\n",
      "Unnamed: 0      149396 non-null int64\n",
      "id              149396 non-null object\n",
      "mb_used         149396 non-null float64\n",
      "session_date    149396 non-null object\n",
      "user_id         149396 non-null int64\n",
      "dtypes: float64(1), int64(2), object(2)\n",
      "memory usage: 5.7+ MB\n"
     ]
    }
   ],
   "source": [
    "internet.info()"
   ]
  },
  {
   "cell_type": "markdown",
   "metadata": {},
   "source": [
    "Пропуски отсутствуют. `session_date` нужно перевести в формат даты"
   ]
  },
  {
   "cell_type": "code",
   "execution_count": 23,
   "metadata": {},
   "outputs": [
    {
     "data": {
      "text/html": [
       "<div>\n",
       "<style scoped>\n",
       "    .dataframe tbody tr th:only-of-type {\n",
       "        vertical-align: middle;\n",
       "    }\n",
       "\n",
       "    .dataframe tbody tr th {\n",
       "        vertical-align: top;\n",
       "    }\n",
       "\n",
       "    .dataframe thead th {\n",
       "        text-align: right;\n",
       "    }\n",
       "</style>\n",
       "<table border=\"1\" class=\"dataframe\">\n",
       "  <thead>\n",
       "    <tr style=\"text-align: right;\">\n",
       "      <th></th>\n",
       "      <th>Unnamed: 0</th>\n",
       "      <th>id</th>\n",
       "      <th>mb_used</th>\n",
       "      <th>session_date</th>\n",
       "      <th>user_id</th>\n",
       "    </tr>\n",
       "  </thead>\n",
       "  <tbody>\n",
       "    <tr>\n",
       "      <td>0</td>\n",
       "      <td>0</td>\n",
       "      <td>1000_0</td>\n",
       "      <td>112.95</td>\n",
       "      <td>2018-11-25</td>\n",
       "      <td>1000</td>\n",
       "    </tr>\n",
       "    <tr>\n",
       "      <td>1</td>\n",
       "      <td>1</td>\n",
       "      <td>1000_1</td>\n",
       "      <td>1052.81</td>\n",
       "      <td>2018-09-07</td>\n",
       "      <td>1000</td>\n",
       "    </tr>\n",
       "    <tr>\n",
       "      <td>2</td>\n",
       "      <td>2</td>\n",
       "      <td>1000_2</td>\n",
       "      <td>1197.26</td>\n",
       "      <td>2018-06-25</td>\n",
       "      <td>1000</td>\n",
       "    </tr>\n",
       "    <tr>\n",
       "      <td>3</td>\n",
       "      <td>3</td>\n",
       "      <td>1000_3</td>\n",
       "      <td>550.27</td>\n",
       "      <td>2018-08-22</td>\n",
       "      <td>1000</td>\n",
       "    </tr>\n",
       "    <tr>\n",
       "      <td>4</td>\n",
       "      <td>4</td>\n",
       "      <td>1000_4</td>\n",
       "      <td>302.56</td>\n",
       "      <td>2018-09-24</td>\n",
       "      <td>1000</td>\n",
       "    </tr>\n",
       "  </tbody>\n",
       "</table>\n",
       "</div>"
      ],
      "text/plain": [
       "   Unnamed: 0      id  mb_used session_date  user_id\n",
       "0           0  1000_0   112.95   2018-11-25     1000\n",
       "1           1  1000_1  1052.81   2018-09-07     1000\n",
       "2           2  1000_2  1197.26   2018-06-25     1000\n",
       "3           3  1000_3   550.27   2018-08-22     1000\n",
       "4           4  1000_4   302.56   2018-09-24     1000"
      ]
     },
     "execution_count": 23,
     "metadata": {},
     "output_type": "execute_result"
    }
   ],
   "source": [
    "internet.head()"
   ]
  },
  {
   "cell_type": "code",
   "execution_count": 24,
   "metadata": {},
   "outputs": [],
   "source": [
    "internet['session_date'] = pd.to_datetime(internet['session_date'], format = '%Y-%m-%d')"
   ]
  },
  {
   "cell_type": "code",
   "execution_count": 25,
   "metadata": {},
   "outputs": [
    {
     "data": {
      "text/html": [
       "<div>\n",
       "<style scoped>\n",
       "    .dataframe tbody tr th:only-of-type {\n",
       "        vertical-align: middle;\n",
       "    }\n",
       "\n",
       "    .dataframe tbody tr th {\n",
       "        vertical-align: top;\n",
       "    }\n",
       "\n",
       "    .dataframe thead th {\n",
       "        text-align: right;\n",
       "    }\n",
       "</style>\n",
       "<table border=\"1\" class=\"dataframe\">\n",
       "  <thead>\n",
       "    <tr style=\"text-align: right;\">\n",
       "      <th></th>\n",
       "      <th>Unnamed: 0</th>\n",
       "      <th>id</th>\n",
       "      <th>mb_used</th>\n",
       "      <th>session_date</th>\n",
       "      <th>user_id</th>\n",
       "    </tr>\n",
       "  </thead>\n",
       "  <tbody>\n",
       "    <tr>\n",
       "      <td>0</td>\n",
       "      <td>0</td>\n",
       "      <td>1000_0</td>\n",
       "      <td>112.95</td>\n",
       "      <td>2018-11-25</td>\n",
       "      <td>1000</td>\n",
       "    </tr>\n",
       "    <tr>\n",
       "      <td>1</td>\n",
       "      <td>1</td>\n",
       "      <td>1000_1</td>\n",
       "      <td>1052.81</td>\n",
       "      <td>2018-09-07</td>\n",
       "      <td>1000</td>\n",
       "    </tr>\n",
       "    <tr>\n",
       "      <td>2</td>\n",
       "      <td>2</td>\n",
       "      <td>1000_2</td>\n",
       "      <td>1197.26</td>\n",
       "      <td>2018-06-25</td>\n",
       "      <td>1000</td>\n",
       "    </tr>\n",
       "    <tr>\n",
       "      <td>3</td>\n",
       "      <td>3</td>\n",
       "      <td>1000_3</td>\n",
       "      <td>550.27</td>\n",
       "      <td>2018-08-22</td>\n",
       "      <td>1000</td>\n",
       "    </tr>\n",
       "    <tr>\n",
       "      <td>4</td>\n",
       "      <td>4</td>\n",
       "      <td>1000_4</td>\n",
       "      <td>302.56</td>\n",
       "      <td>2018-09-24</td>\n",
       "      <td>1000</td>\n",
       "    </tr>\n",
       "  </tbody>\n",
       "</table>\n",
       "</div>"
      ],
      "text/plain": [
       "   Unnamed: 0      id  mb_used session_date  user_id\n",
       "0           0  1000_0   112.95   2018-11-25     1000\n",
       "1           1  1000_1  1052.81   2018-09-07     1000\n",
       "2           2  1000_2  1197.26   2018-06-25     1000\n",
       "3           3  1000_3   550.27   2018-08-22     1000\n",
       "4           4  1000_4   302.56   2018-09-24     1000"
      ]
     },
     "execution_count": 25,
     "metadata": {},
     "output_type": "execute_result"
    }
   ],
   "source": [
    "internet.head()"
   ]
  },
  {
   "cell_type": "markdown",
   "metadata": {},
   "source": [
    "Проверим `mb_used` на наличие выбросов:"
   ]
  },
  {
   "cell_type": "code",
   "execution_count": 26,
   "metadata": {},
   "outputs": [
    {
     "data": {
      "image/png": "[encoded data removed]",
      "text/plain": [
       "<Figure size 432x288 with 1 Axes>"
      ]
     },
     "metadata": {
      "needs_background": "light"
     },
     "output_type": "display_data"
    }
   ],
   "source": [
    "internet['mb_used'].plot(kind='hist', bins = 40);"
   ]
  },
  {
   "cell_type": "markdown",
   "metadata": {},
   "source": [
    "Удалять нулевые сессии не будем. Т.к. пользователи просто не использовали интернет на своём телефоне (возможно использовали только Wi-Fi). Оставляем\n",
    "\n",
    "Пик значений наблюдаем диапазоне от 50 до 750мб за сессию"
   ]
  },
  {
   "cell_type": "markdown",
   "metadata": {},
   "source": [
    "### Собщения (messages)"
   ]
  },
  {
   "cell_type": "markdown",
   "metadata": {},
   "source": [
    "Проверяем на наличие пропусков:"
   ]
  },
  {
   "cell_type": "code",
   "execution_count": 27,
   "metadata": {},
   "outputs": [
    {
     "name": "stdout",
     "output_type": "stream",
     "text": [
      "<class 'pandas.core.frame.DataFrame'>\n",
      "RangeIndex: 123036 entries, 0 to 123035\n",
      "Data columns (total 3 columns):\n",
      "id              123036 non-null object\n",
      "message_date    123036 non-null object\n",
      "user_id         123036 non-null int64\n",
      "dtypes: int64(1), object(2)\n",
      "memory usage: 2.8+ MB\n"
     ]
    }
   ],
   "source": [
    "messages.info()"
   ]
  },
  {
   "cell_type": "markdown",
   "metadata": {},
   "source": [
    "Пропуски отсутствуют. `message_date` перевести в формат даты"
   ]
  },
  {
   "cell_type": "code",
   "execution_count": 28,
   "metadata": {},
   "outputs": [],
   "source": [
    "messages['message_date'] = pd.to_datetime(messages['message_date'], format = '%Y-%m-%d')"
   ]
  },
  {
   "cell_type": "markdown",
   "metadata": {},
   "source": [
    "Проверим на наличие дубликатов"
   ]
  },
  {
   "cell_type": "code",
   "execution_count": 29,
   "metadata": {},
   "outputs": [
    {
     "data": {
      "text/plain": [
       "0"
      ]
     },
     "execution_count": 29,
     "metadata": {},
     "output_type": "execute_result"
    }
   ],
   "source": [
    "messages.duplicated().sum()"
   ]
  },
  {
   "cell_type": "markdown",
   "metadata": {},
   "source": [
    "### Тарифы (tariffs)"
   ]
  },
  {
   "cell_type": "code",
   "execution_count": 30,
   "metadata": {
    "scrolled": true
   },
   "outputs": [
    {
     "name": "stdout",
     "output_type": "stream",
     "text": [
      "<class 'pandas.core.frame.DataFrame'>\n",
      "RangeIndex: 2 entries, 0 to 1\n",
      "Data columns (total 8 columns):\n",
      "messages_included        2 non-null int64\n",
      "mb_per_month_included    2 non-null int64\n",
      "minutes_included         2 non-null int64\n",
      "rub_monthly_fee          2 non-null int64\n",
      "rub_per_gb               2 non-null int64\n",
      "rub_per_message          2 non-null int64\n",
      "rub_per_minute           2 non-null int64\n",
      "tariff_name              2 non-null object\n",
      "dtypes: int64(7), object(1)\n",
      "memory usage: 256.0+ bytes\n"
     ]
    }
   ],
   "source": [
    "tariffs.info()"
   ]
  },
  {
   "cell_type": "markdown",
   "metadata": {},
   "source": [
    "Здесь всё отлично"
   ]
  },
  {
   "cell_type": "markdown",
   "metadata": {},
   "source": [
    "Вывод:\n",
    "\n",
    "В таблицах `calls`,`internet`,`messages` имеются нулевые значения. Это означает, что пользователи не пользовались данным типом связи, например в последнее время вместо SMS, пользуются бесплатными сервисами обмена мгновенными сообщениями и голосовой связи. \n",
    "\n",
    "Так же проверили на дубликаты и пропуска. Нашли ошибки в формате даты, соответственно перевели даты в нужный тип данных."
   ]
  },
  {
   "cell_type": "markdown",
   "metadata": {},
   "source": [
    "## Расчёты и добавление результатов в таблицу"
   ]
  },
  {
   "cell_type": "markdown",
   "metadata": {},
   "source": [
    "### Добавим в таблицу количество сделанных звонков и израсходованных минут разговора по месяцам для каждого пользователя"
   ]
  },
  {
   "cell_type": "markdown",
   "metadata": {},
   "source": [
    "Создадим столбцы с месяцами:"
   ]
  },
  {
   "cell_type": "code",
   "execution_count": 31,
   "metadata": {},
   "outputs": [],
   "source": [
    "#calls['month'] = calls['call_date'].dt.month"
   ]
  },
  {
   "cell_type": "code",
   "execution_count": 32,
   "metadata": {
    "scrolled": false
   },
   "outputs": [],
   "source": [
    "# calls['call_date'].dt.date\n",
    "# calls['call_date'].astype('datetime64[M]')"
   ]
  },
  {
   "cell_type": "code",
   "execution_count": 33,
   "metadata": {},
   "outputs": [],
   "source": [
    "#calls['call_date'] = calls['call_date'].astype('datetime64[M]')\n",
    "#calls['month'] = calls['call_date'].dt.month\n",
    "#calls['month_name'] = calls['call_date'].dt.month_name()"
   ]
  },
  {
   "cell_type": "code",
   "execution_count": 34,
   "metadata": {},
   "outputs": [
    {
     "name": "stdout",
     "output_type": "stream",
     "text": [
      "<class 'pandas.core.frame.DataFrame'>\n",
      "RangeIndex: 202607 entries, 0 to 202606\n",
      "Data columns (total 4 columns):\n",
      "id           202607 non-null object\n",
      "call_date    202607 non-null datetime64[ns]\n",
      "duration     202607 non-null float64\n",
      "user_id      202607 non-null int64\n",
      "dtypes: datetime64[ns](1), float64(1), int64(1), object(1)\n",
      "memory usage: 6.2+ MB\n"
     ]
    }
   ],
   "source": [
    "calls.info()"
   ]
  },
  {
   "cell_type": "code",
   "execution_count": 35,
   "metadata": {},
   "outputs": [
    {
     "data": {
      "text/html": [
       "<div>\n",
       "<style scoped>\n",
       "    .dataframe tbody tr th:only-of-type {\n",
       "        vertical-align: middle;\n",
       "    }\n",
       "\n",
       "    .dataframe tbody tr th {\n",
       "        vertical-align: top;\n",
       "    }\n",
       "\n",
       "    .dataframe thead th {\n",
       "        text-align: right;\n",
       "    }\n",
       "</style>\n",
       "<table border=\"1\" class=\"dataframe\">\n",
       "  <thead>\n",
       "    <tr style=\"text-align: right;\">\n",
       "      <th></th>\n",
       "      <th>id</th>\n",
       "      <th>call_date</th>\n",
       "      <th>duration</th>\n",
       "      <th>user_id</th>\n",
       "    </tr>\n",
       "  </thead>\n",
       "  <tbody>\n",
       "    <tr>\n",
       "      <td>0</td>\n",
       "      <td>1000_0</td>\n",
       "      <td>2018-07-25</td>\n",
       "      <td>0.0</td>\n",
       "      <td>1000</td>\n",
       "    </tr>\n",
       "    <tr>\n",
       "      <td>1</td>\n",
       "      <td>1000_1</td>\n",
       "      <td>2018-08-17</td>\n",
       "      <td>0.0</td>\n",
       "      <td>1000</td>\n",
       "    </tr>\n",
       "    <tr>\n",
       "      <td>2</td>\n",
       "      <td>1000_2</td>\n",
       "      <td>2018-06-11</td>\n",
       "      <td>3.0</td>\n",
       "      <td>1000</td>\n",
       "    </tr>\n",
       "    <tr>\n",
       "      <td>3</td>\n",
       "      <td>1000_3</td>\n",
       "      <td>2018-09-21</td>\n",
       "      <td>14.0</td>\n",
       "      <td>1000</td>\n",
       "    </tr>\n",
       "    <tr>\n",
       "      <td>4</td>\n",
       "      <td>1000_4</td>\n",
       "      <td>2018-12-15</td>\n",
       "      <td>6.0</td>\n",
       "      <td>1000</td>\n",
       "    </tr>\n",
       "  </tbody>\n",
       "</table>\n",
       "</div>"
      ],
      "text/plain": [
       "       id  call_date  duration  user_id\n",
       "0  1000_0 2018-07-25       0.0     1000\n",
       "1  1000_1 2018-08-17       0.0     1000\n",
       "2  1000_2 2018-06-11       3.0     1000\n",
       "3  1000_3 2018-09-21      14.0     1000\n",
       "4  1000_4 2018-12-15       6.0     1000"
      ]
     },
     "execution_count": 35,
     "metadata": {},
     "output_type": "execute_result"
    }
   ],
   "source": [
    "calls.head()"
   ]
  },
  {
   "cell_type": "code",
   "execution_count": 36,
   "metadata": {},
   "outputs": [],
   "source": [
    "calls.rename(columns={'call_date':'month'}, inplace=True)"
   ]
  },
  {
   "cell_type": "code",
   "execution_count": 37,
   "metadata": {},
   "outputs": [],
   "source": [
    "month_dict = {1: 'Январь', 2: 'Февраль', 3: 'Март', 4: 'Апрель', 5: 'Май', 6: 'Июнь', 7: 'Июль', 8: 'Август', 9: 'Сентябрь', 10: 'Октябрь', 11: 'Ноябрь', 12: 'Декабрь'} #присваиваем переменной weekday_dict день недели\n",
    "calls['month'] = calls['month'].map(month_dict)# присваиваем столбцу 'month' переменную"
   ]
  },
  {
   "cell_type": "markdown",
   "metadata": {},
   "source": [
    "Посчитаем для каждого пользователя колличество использованных минут в месяц:"
   ]
  },
  {
   "cell_type": "code",
   "execution_count": 38,
   "metadata": {},
   "outputs": [],
   "source": [
    "calls = calls.groupby(['user_id', 'month']).agg({'duration': 'sum'}).reset_index()"
   ]
  },
  {
   "cell_type": "markdown",
   "metadata": {},
   "source": [
    "Проверим:"
   ]
  },
  {
   "cell_type": "code",
   "execution_count": 39,
   "metadata": {
    "scrolled": false
   },
   "outputs": [
    {
     "name": "stdout",
     "output_type": "stream",
     "text": [
      "<class 'pandas.core.frame.DataFrame'>\n",
      "RangeIndex: 0 entries\n",
      "Data columns (total 3 columns):\n",
      "user_id     0 non-null float64\n",
      "month       0 non-null float64\n",
      "duration    0 non-null float64\n",
      "dtypes: float64(3)\n",
      "memory usage: 124.0 bytes\n"
     ]
    }
   ],
   "source": [
    "calls.info()"
   ]
  },
  {
   "cell_type": "code",
   "execution_count": 40,
   "metadata": {},
   "outputs": [
    {
     "data": {
      "text/html": [
       "<div>\n",
       "<style scoped>\n",
       "    .dataframe tbody tr th:only-of-type {\n",
       "        vertical-align: middle;\n",
       "    }\n",
       "\n",
       "    .dataframe tbody tr th {\n",
       "        vertical-align: top;\n",
       "    }\n",
       "\n",
       "    .dataframe thead th {\n",
       "        text-align: right;\n",
       "    }\n",
       "</style>\n",
       "<table border=\"1\" class=\"dataframe\">\n",
       "  <thead>\n",
       "    <tr style=\"text-align: right;\">\n",
       "      <th></th>\n",
       "      <th>Unnamed: 0</th>\n",
       "      <th>id</th>\n",
       "      <th>mb_used</th>\n",
       "      <th>session_date</th>\n",
       "      <th>user_id</th>\n",
       "    </tr>\n",
       "  </thead>\n",
       "  <tbody>\n",
       "    <tr>\n",
       "      <td>0</td>\n",
       "      <td>0</td>\n",
       "      <td>1000_0</td>\n",
       "      <td>112.95</td>\n",
       "      <td>2018-11-25</td>\n",
       "      <td>1000</td>\n",
       "    </tr>\n",
       "    <tr>\n",
       "      <td>1</td>\n",
       "      <td>1</td>\n",
       "      <td>1000_1</td>\n",
       "      <td>1052.81</td>\n",
       "      <td>2018-09-07</td>\n",
       "      <td>1000</td>\n",
       "    </tr>\n",
       "    <tr>\n",
       "      <td>2</td>\n",
       "      <td>2</td>\n",
       "      <td>1000_2</td>\n",
       "      <td>1197.26</td>\n",
       "      <td>2018-06-25</td>\n",
       "      <td>1000</td>\n",
       "    </tr>\n",
       "    <tr>\n",
       "      <td>3</td>\n",
       "      <td>3</td>\n",
       "      <td>1000_3</td>\n",
       "      <td>550.27</td>\n",
       "      <td>2018-08-22</td>\n",
       "      <td>1000</td>\n",
       "    </tr>\n",
       "    <tr>\n",
       "      <td>4</td>\n",
       "      <td>4</td>\n",
       "      <td>1000_4</td>\n",
       "      <td>302.56</td>\n",
       "      <td>2018-09-24</td>\n",
       "      <td>1000</td>\n",
       "    </tr>\n",
       "  </tbody>\n",
       "</table>\n",
       "</div>"
      ],
      "text/plain": [
       "   Unnamed: 0      id  mb_used session_date  user_id\n",
       "0           0  1000_0   112.95   2018-11-25     1000\n",
       "1           1  1000_1  1052.81   2018-09-07     1000\n",
       "2           2  1000_2  1197.26   2018-06-25     1000\n",
       "3           3  1000_3   550.27   2018-08-22     1000\n",
       "4           4  1000_4   302.56   2018-09-24     1000"
      ]
     },
     "execution_count": 40,
     "metadata": {},
     "output_type": "execute_result"
    }
   ],
   "source": [
    "internet.head()"
   ]
  },
  {
   "cell_type": "markdown",
   "metadata": {},
   "source": [
    "Сделаем то же самое и для инернет сессии:"
   ]
  },
  {
   "cell_type": "code",
   "execution_count": 41,
   "metadata": {},
   "outputs": [],
   "source": [
    "internet['month'] = internet['session_date'].dt.month # добавим в DF столбец 'месяц'"
   ]
  },
  {
   "cell_type": "code",
   "execution_count": 42,
   "metadata": {},
   "outputs": [],
   "source": [
    "internet['month'] = internet['month'].map(month_dict)"
   ]
  },
  {
   "cell_type": "code",
   "execution_count": 43,
   "metadata": {},
   "outputs": [],
   "source": [
    "internet = internet.groupby(['user_id', 'month']).agg({'mb_used': 'sum'}).reset_index()"
   ]
  },
  {
   "cell_type": "markdown",
   "metadata": {},
   "source": [
    "Проверим:"
   ]
  },
  {
   "cell_type": "code",
   "execution_count": 44,
   "metadata": {
    "scrolled": true
   },
   "outputs": [
    {
     "data": {
      "text/html": [
       "<div>\n",
       "<style scoped>\n",
       "    .dataframe tbody tr th:only-of-type {\n",
       "        vertical-align: middle;\n",
       "    }\n",
       "\n",
       "    .dataframe tbody tr th {\n",
       "        vertical-align: top;\n",
       "    }\n",
       "\n",
       "    .dataframe thead th {\n",
       "        text-align: right;\n",
       "    }\n",
       "</style>\n",
       "<table border=\"1\" class=\"dataframe\">\n",
       "  <thead>\n",
       "    <tr style=\"text-align: right;\">\n",
       "      <th></th>\n",
       "      <th>user_id</th>\n",
       "      <th>month</th>\n",
       "      <th>mb_used</th>\n",
       "    </tr>\n",
       "  </thead>\n",
       "  <tbody>\n",
       "    <tr>\n",
       "      <td>0</td>\n",
       "      <td>1000</td>\n",
       "      <td>Август</td>\n",
       "      <td>14055.93</td>\n",
       "    </tr>\n",
       "    <tr>\n",
       "      <td>1</td>\n",
       "      <td>1000</td>\n",
       "      <td>Декабрь</td>\n",
       "      <td>9817.61</td>\n",
       "    </tr>\n",
       "    <tr>\n",
       "      <td>2</td>\n",
       "      <td>1000</td>\n",
       "      <td>Июль</td>\n",
       "      <td>14003.64</td>\n",
       "    </tr>\n",
       "    <tr>\n",
       "      <td>3</td>\n",
       "      <td>1000</td>\n",
       "      <td>Июнь</td>\n",
       "      <td>23233.77</td>\n",
       "    </tr>\n",
       "    <tr>\n",
       "      <td>4</td>\n",
       "      <td>1000</td>\n",
       "      <td>Май</td>\n",
       "      <td>2253.49</td>\n",
       "    </tr>\n",
       "  </tbody>\n",
       "</table>\n",
       "</div>"
      ],
      "text/plain": [
       "   user_id    month   mb_used\n",
       "0     1000   Август  14055.93\n",
       "1     1000  Декабрь   9817.61\n",
       "2     1000     Июль  14003.64\n",
       "3     1000     Июнь  23233.77\n",
       "4     1000      Май   2253.49"
      ]
     },
     "execution_count": 44,
     "metadata": {},
     "output_type": "execute_result"
    }
   ],
   "source": [
    "internet.head()"
   ]
  },
  {
   "cell_type": "markdown",
   "metadata": {},
   "source": [
    "И посчитаем кол-во использованных сообщений в месяц:"
   ]
  },
  {
   "cell_type": "code",
   "execution_count": 45,
   "metadata": {},
   "outputs": [
    {
     "data": {
      "text/html": [
       "<div>\n",
       "<style scoped>\n",
       "    .dataframe tbody tr th:only-of-type {\n",
       "        vertical-align: middle;\n",
       "    }\n",
       "\n",
       "    .dataframe tbody tr th {\n",
       "        vertical-align: top;\n",
       "    }\n",
       "\n",
       "    .dataframe thead th {\n",
       "        text-align: right;\n",
       "    }\n",
       "</style>\n",
       "<table border=\"1\" class=\"dataframe\">\n",
       "  <thead>\n",
       "    <tr style=\"text-align: right;\">\n",
       "      <th></th>\n",
       "      <th>user_id</th>\n",
       "      <th>month</th>\n",
       "      <th>message_date</th>\n",
       "    </tr>\n",
       "  </thead>\n",
       "  <tbody>\n",
       "    <tr>\n",
       "      <td>0</td>\n",
       "      <td>1000</td>\n",
       "      <td>Август</td>\n",
       "      <td>81</td>\n",
       "    </tr>\n",
       "    <tr>\n",
       "      <td>1</td>\n",
       "      <td>1000</td>\n",
       "      <td>Декабрь</td>\n",
       "      <td>70</td>\n",
       "    </tr>\n",
       "    <tr>\n",
       "      <td>2</td>\n",
       "      <td>1000</td>\n",
       "      <td>Июль</td>\n",
       "      <td>75</td>\n",
       "    </tr>\n",
       "    <tr>\n",
       "      <td>3</td>\n",
       "      <td>1000</td>\n",
       "      <td>Июнь</td>\n",
       "      <td>60</td>\n",
       "    </tr>\n",
       "    <tr>\n",
       "      <td>4</td>\n",
       "      <td>1000</td>\n",
       "      <td>Май</td>\n",
       "      <td>22</td>\n",
       "    </tr>\n",
       "    <tr>\n",
       "      <td>...</td>\n",
       "      <td>...</td>\n",
       "      <td>...</td>\n",
       "      <td>...</td>\n",
       "    </tr>\n",
       "    <tr>\n",
       "      <td>2712</td>\n",
       "      <td>1498</td>\n",
       "      <td>Сентябрь</td>\n",
       "      <td>44</td>\n",
       "    </tr>\n",
       "    <tr>\n",
       "      <td>2713</td>\n",
       "      <td>1499</td>\n",
       "      <td>Декабрь</td>\n",
       "      <td>66</td>\n",
       "    </tr>\n",
       "    <tr>\n",
       "      <td>2714</td>\n",
       "      <td>1499</td>\n",
       "      <td>Ноябрь</td>\n",
       "      <td>59</td>\n",
       "    </tr>\n",
       "    <tr>\n",
       "      <td>2715</td>\n",
       "      <td>1499</td>\n",
       "      <td>Октябрь</td>\n",
       "      <td>48</td>\n",
       "    </tr>\n",
       "    <tr>\n",
       "      <td>2716</td>\n",
       "      <td>1499</td>\n",
       "      <td>Сентябрь</td>\n",
       "      <td>11</td>\n",
       "    </tr>\n",
       "  </tbody>\n",
       "</table>\n",
       "<p>2717 rows × 3 columns</p>\n",
       "</div>"
      ],
      "text/plain": [
       "      user_id     month  message_date\n",
       "0        1000    Август            81\n",
       "1        1000   Декабрь            70\n",
       "2        1000      Июль            75\n",
       "3        1000      Июнь            60\n",
       "4        1000       Май            22\n",
       "...       ...       ...           ...\n",
       "2712     1498  Сентябрь            44\n",
       "2713     1499   Декабрь            66\n",
       "2714     1499    Ноябрь            59\n",
       "2715     1499   Октябрь            48\n",
       "2716     1499  Сентябрь            11\n",
       "\n",
       "[2717 rows x 3 columns]"
      ]
     },
     "execution_count": 45,
     "metadata": {},
     "output_type": "execute_result"
    }
   ],
   "source": [
    "messages['month'] = messages['message_date'].dt.month\n",
    "messages['month'] = messages['month'].map(month_dict)\n",
    "messages = messages.groupby(['user_id','month']).agg({'message_date': 'count'}).reset_index()\n",
    "messages"
   ]
  },
  {
   "cell_type": "markdown",
   "metadata": {},
   "source": [
    "### Добавим выручку с каждого пользователя"
   ]
  },
  {
   "cell_type": "markdown",
   "metadata": {},
   "source": [
    "Объеденим таблицы:"
   ]
  },
  {
   "cell_type": "code",
   "execution_count": 46,
   "metadata": {
    "scrolled": false
   },
   "outputs": [
    {
     "data": {
      "text/html": [
       "<div>\n",
       "<style scoped>\n",
       "    .dataframe tbody tr th:only-of-type {\n",
       "        vertical-align: middle;\n",
       "    }\n",
       "\n",
       "    .dataframe tbody tr th {\n",
       "        vertical-align: top;\n",
       "    }\n",
       "\n",
       "    .dataframe thead th {\n",
       "        text-align: right;\n",
       "    }\n",
       "</style>\n",
       "<table border=\"1\" class=\"dataframe\">\n",
       "  <thead>\n",
       "    <tr style=\"text-align: right;\">\n",
       "      <th></th>\n",
       "      <th>duration</th>\n",
       "      <th>user_id</th>\n",
       "      <th>month</th>\n",
       "      <th>message_date</th>\n",
       "      <th>mb_used</th>\n",
       "      <th>tariff</th>\n",
       "      <th>city</th>\n",
       "      <th>messages_included</th>\n",
       "      <th>mb_per_month_included</th>\n",
       "      <th>minutes_included</th>\n",
       "      <th>rub_monthly_fee</th>\n",
       "      <th>rub_per_gb</th>\n",
       "      <th>rub_per_message</th>\n",
       "      <th>rub_per_minute</th>\n",
       "    </tr>\n",
       "  </thead>\n",
       "  <tbody>\n",
       "    <tr>\n",
       "      <td>0</td>\n",
       "      <td>0.0</td>\n",
       "      <td>1000</td>\n",
       "      <td>Август</td>\n",
       "      <td>81.0</td>\n",
       "      <td>14055.93</td>\n",
       "      <td>ultra</td>\n",
       "      <td>Краснодар</td>\n",
       "      <td>1000</td>\n",
       "      <td>30720</td>\n",
       "      <td>3000</td>\n",
       "      <td>1950</td>\n",
       "      <td>150</td>\n",
       "      <td>1</td>\n",
       "      <td>1</td>\n",
       "    </tr>\n",
       "    <tr>\n",
       "      <td>1</td>\n",
       "      <td>0.0</td>\n",
       "      <td>1000</td>\n",
       "      <td>Декабрь</td>\n",
       "      <td>70.0</td>\n",
       "      <td>9817.61</td>\n",
       "      <td>ultra</td>\n",
       "      <td>Краснодар</td>\n",
       "      <td>1000</td>\n",
       "      <td>30720</td>\n",
       "      <td>3000</td>\n",
       "      <td>1950</td>\n",
       "      <td>150</td>\n",
       "      <td>1</td>\n",
       "      <td>1</td>\n",
       "    </tr>\n",
       "    <tr>\n",
       "      <td>2</td>\n",
       "      <td>0.0</td>\n",
       "      <td>1000</td>\n",
       "      <td>Июль</td>\n",
       "      <td>75.0</td>\n",
       "      <td>14003.64</td>\n",
       "      <td>ultra</td>\n",
       "      <td>Краснодар</td>\n",
       "      <td>1000</td>\n",
       "      <td>30720</td>\n",
       "      <td>3000</td>\n",
       "      <td>1950</td>\n",
       "      <td>150</td>\n",
       "      <td>1</td>\n",
       "      <td>1</td>\n",
       "    </tr>\n",
       "    <tr>\n",
       "      <td>3</td>\n",
       "      <td>0.0</td>\n",
       "      <td>1000</td>\n",
       "      <td>Июнь</td>\n",
       "      <td>60.0</td>\n",
       "      <td>23233.77</td>\n",
       "      <td>ultra</td>\n",
       "      <td>Краснодар</td>\n",
       "      <td>1000</td>\n",
       "      <td>30720</td>\n",
       "      <td>3000</td>\n",
       "      <td>1950</td>\n",
       "      <td>150</td>\n",
       "      <td>1</td>\n",
       "      <td>1</td>\n",
       "    </tr>\n",
       "    <tr>\n",
       "      <td>4</td>\n",
       "      <td>0.0</td>\n",
       "      <td>1000</td>\n",
       "      <td>Май</td>\n",
       "      <td>22.0</td>\n",
       "      <td>2253.49</td>\n",
       "      <td>ultra</td>\n",
       "      <td>Краснодар</td>\n",
       "      <td>1000</td>\n",
       "      <td>30720</td>\n",
       "      <td>3000</td>\n",
       "      <td>1950</td>\n",
       "      <td>150</td>\n",
       "      <td>1</td>\n",
       "      <td>1</td>\n",
       "    </tr>\n",
       "  </tbody>\n",
       "</table>\n",
       "</div>"
      ],
      "text/plain": [
       "   duration  user_id    month  message_date   mb_used tariff       city  \\\n",
       "0       0.0     1000   Август          81.0  14055.93  ultra  Краснодар   \n",
       "1       0.0     1000  Декабрь          70.0   9817.61  ultra  Краснодар   \n",
       "2       0.0     1000     Июль          75.0  14003.64  ultra  Краснодар   \n",
       "3       0.0     1000     Июнь          60.0  23233.77  ultra  Краснодар   \n",
       "4       0.0     1000      Май          22.0   2253.49  ultra  Краснодар   \n",
       "\n",
       "   messages_included  mb_per_month_included  minutes_included  \\\n",
       "0               1000                  30720              3000   \n",
       "1               1000                  30720              3000   \n",
       "2               1000                  30720              3000   \n",
       "3               1000                  30720              3000   \n",
       "4               1000                  30720              3000   \n",
       "\n",
       "   rub_monthly_fee  rub_per_gb  rub_per_message  rub_per_minute  \n",
       "0             1950         150                1               1  \n",
       "1             1950         150                1               1  \n",
       "2             1950         150                1               1  \n",
       "3             1950         150                1               1  \n",
       "4             1950         150                1               1  "
      ]
     },
     "execution_count": 46,
     "metadata": {},
     "output_type": "execute_result"
    }
   ],
   "source": [
    "new_df = calls.merge(messages, on=['user_id', 'month'], how='outer')\n",
    "new_df = new_df.merge(internet, on=['user_id', 'month'], how='outer')\n",
    "new_df = new_df.merge(users[['user_id', 'tariff','city']], on='user_id', how='left')\n",
    "tariffs.rename(columns={'tariff_name':'tariff'}, inplace=True)\n",
    "new_df = new_df.merge(tariffs, on = 'tariff',how = 'left')\n",
    "new_df = new_df.fillna(0)\n",
    "new_df.head()"
   ]
  },
  {
   "cell_type": "code",
   "execution_count": 47,
   "metadata": {},
   "outputs": [
    {
     "data": {
      "text/html": [
       "<div>\n",
       "<style scoped>\n",
       "    .dataframe tbody tr th:only-of-type {\n",
       "        vertical-align: middle;\n",
       "    }\n",
       "\n",
       "    .dataframe tbody tr th {\n",
       "        vertical-align: top;\n",
       "    }\n",
       "\n",
       "    .dataframe thead th {\n",
       "        text-align: right;\n",
       "    }\n",
       "</style>\n",
       "<table border=\"1\" class=\"dataframe\">\n",
       "  <thead>\n",
       "    <tr style=\"text-align: right;\">\n",
       "      <th></th>\n",
       "      <th>messages_included</th>\n",
       "      <th>mb_per_month_included</th>\n",
       "      <th>minutes_included</th>\n",
       "      <th>rub_monthly_fee</th>\n",
       "      <th>rub_per_gb</th>\n",
       "      <th>rub_per_message</th>\n",
       "      <th>rub_per_minute</th>\n",
       "      <th>tariff</th>\n",
       "    </tr>\n",
       "  </thead>\n",
       "  <tbody>\n",
       "    <tr>\n",
       "      <td>0</td>\n",
       "      <td>50</td>\n",
       "      <td>15360</td>\n",
       "      <td>500</td>\n",
       "      <td>550</td>\n",
       "      <td>200</td>\n",
       "      <td>3</td>\n",
       "      <td>3</td>\n",
       "      <td>smart</td>\n",
       "    </tr>\n",
       "    <tr>\n",
       "      <td>1</td>\n",
       "      <td>1000</td>\n",
       "      <td>30720</td>\n",
       "      <td>3000</td>\n",
       "      <td>1950</td>\n",
       "      <td>150</td>\n",
       "      <td>1</td>\n",
       "      <td>1</td>\n",
       "      <td>ultra</td>\n",
       "    </tr>\n",
       "  </tbody>\n",
       "</table>\n",
       "</div>"
      ],
      "text/plain": [
       "   messages_included  mb_per_month_included  minutes_included  \\\n",
       "0                 50                  15360               500   \n",
       "1               1000                  30720              3000   \n",
       "\n",
       "   rub_monthly_fee  rub_per_gb  rub_per_message  rub_per_minute tariff  \n",
       "0              550         200                3               3  smart  \n",
       "1             1950         150                1               1  ultra  "
      ]
     },
     "execution_count": 47,
     "metadata": {},
     "output_type": "execute_result"
    }
   ],
   "source": [
    "tariffs"
   ]
  },
  {
   "cell_type": "markdown",
   "metadata": {},
   "source": [
    "import pandas as pd\n",
    "\n",
    "from functools import reduce\n",
    "\n",
    "\n",
    "new_df = [calls, internet, users, tariffs]\n",
    "\n",
    "df_merged = reduce(lambda  left,right: pd.merge(left,right,on=['user_id'],\n",
    "                                            how='outer'), data_frames)"
   ]
  },
  {
   "cell_type": "markdown",
   "metadata": {},
   "source": [
    "Переведем из Mb в Gb (для упрощения восприятия в дальнейшем)"
   ]
  },
  {
   "cell_type": "code",
   "execution_count": 48,
   "metadata": {},
   "outputs": [],
   "source": [
    "new_df['mb_used'] = new_df['mb_used']/1024 # переводим в Gb"
   ]
  },
  {
   "cell_type": "code",
   "execution_count": 49,
   "metadata": {},
   "outputs": [],
   "source": [
    "new_df['mb_per_month_included'] = new_df['mb_per_month_included'] / 1024"
   ]
  },
  {
   "cell_type": "code",
   "execution_count": 50,
   "metadata": {},
   "outputs": [],
   "source": [
    "new_df = new_df.rename(columns= {'mb_used': 'gb_used'}) # Правильно будет переименовать столбец"
   ]
  },
  {
   "cell_type": "markdown",
   "metadata": {},
   "source": [
    "Проверим:"
   ]
  },
  {
   "cell_type": "code",
   "execution_count": 51,
   "metadata": {
    "scrolled": false
   },
   "outputs": [
    {
     "data": {
      "text/html": [
       "<div>\n",
       "<style scoped>\n",
       "    .dataframe tbody tr th:only-of-type {\n",
       "        vertical-align: middle;\n",
       "    }\n",
       "\n",
       "    .dataframe tbody tr th {\n",
       "        vertical-align: top;\n",
       "    }\n",
       "\n",
       "    .dataframe thead th {\n",
       "        text-align: right;\n",
       "    }\n",
       "</style>\n",
       "<table border=\"1\" class=\"dataframe\">\n",
       "  <thead>\n",
       "    <tr style=\"text-align: right;\">\n",
       "      <th></th>\n",
       "      <th>duration</th>\n",
       "      <th>user_id</th>\n",
       "      <th>month</th>\n",
       "      <th>message_date</th>\n",
       "      <th>gb_used</th>\n",
       "      <th>tariff</th>\n",
       "      <th>city</th>\n",
       "      <th>messages_included</th>\n",
       "      <th>mb_per_month_included</th>\n",
       "      <th>minutes_included</th>\n",
       "      <th>rub_monthly_fee</th>\n",
       "      <th>rub_per_gb</th>\n",
       "      <th>rub_per_message</th>\n",
       "      <th>rub_per_minute</th>\n",
       "    </tr>\n",
       "  </thead>\n",
       "  <tbody>\n",
       "    <tr>\n",
       "      <td>0</td>\n",
       "      <td>0.0</td>\n",
       "      <td>1000</td>\n",
       "      <td>Август</td>\n",
       "      <td>81.0</td>\n",
       "      <td>13.726494</td>\n",
       "      <td>ultra</td>\n",
       "      <td>Краснодар</td>\n",
       "      <td>1000</td>\n",
       "      <td>30.0</td>\n",
       "      <td>3000</td>\n",
       "      <td>1950</td>\n",
       "      <td>150</td>\n",
       "      <td>1</td>\n",
       "      <td>1</td>\n",
       "    </tr>\n",
       "    <tr>\n",
       "      <td>1</td>\n",
       "      <td>0.0</td>\n",
       "      <td>1000</td>\n",
       "      <td>Декабрь</td>\n",
       "      <td>70.0</td>\n",
       "      <td>9.587510</td>\n",
       "      <td>ultra</td>\n",
       "      <td>Краснодар</td>\n",
       "      <td>1000</td>\n",
       "      <td>30.0</td>\n",
       "      <td>3000</td>\n",
       "      <td>1950</td>\n",
       "      <td>150</td>\n",
       "      <td>1</td>\n",
       "      <td>1</td>\n",
       "    </tr>\n",
       "    <tr>\n",
       "      <td>2</td>\n",
       "      <td>0.0</td>\n",
       "      <td>1000</td>\n",
       "      <td>Июль</td>\n",
       "      <td>75.0</td>\n",
       "      <td>13.675430</td>\n",
       "      <td>ultra</td>\n",
       "      <td>Краснодар</td>\n",
       "      <td>1000</td>\n",
       "      <td>30.0</td>\n",
       "      <td>3000</td>\n",
       "      <td>1950</td>\n",
       "      <td>150</td>\n",
       "      <td>1</td>\n",
       "      <td>1</td>\n",
       "    </tr>\n",
       "    <tr>\n",
       "      <td>3</td>\n",
       "      <td>0.0</td>\n",
       "      <td>1000</td>\n",
       "      <td>Июнь</td>\n",
       "      <td>60.0</td>\n",
       "      <td>22.689229</td>\n",
       "      <td>ultra</td>\n",
       "      <td>Краснодар</td>\n",
       "      <td>1000</td>\n",
       "      <td>30.0</td>\n",
       "      <td>3000</td>\n",
       "      <td>1950</td>\n",
       "      <td>150</td>\n",
       "      <td>1</td>\n",
       "      <td>1</td>\n",
       "    </tr>\n",
       "    <tr>\n",
       "      <td>4</td>\n",
       "      <td>0.0</td>\n",
       "      <td>1000</td>\n",
       "      <td>Май</td>\n",
       "      <td>22.0</td>\n",
       "      <td>2.200674</td>\n",
       "      <td>ultra</td>\n",
       "      <td>Краснодар</td>\n",
       "      <td>1000</td>\n",
       "      <td>30.0</td>\n",
       "      <td>3000</td>\n",
       "      <td>1950</td>\n",
       "      <td>150</td>\n",
       "      <td>1</td>\n",
       "      <td>1</td>\n",
       "    </tr>\n",
       "  </tbody>\n",
       "</table>\n",
       "</div>"
      ],
      "text/plain": [
       "   duration  user_id    month  message_date    gb_used tariff       city  \\\n",
       "0       0.0     1000   Август          81.0  13.726494  ultra  Краснодар   \n",
       "1       0.0     1000  Декабрь          70.0   9.587510  ultra  Краснодар   \n",
       "2       0.0     1000     Июль          75.0  13.675430  ultra  Краснодар   \n",
       "3       0.0     1000     Июнь          60.0  22.689229  ultra  Краснодар   \n",
       "4       0.0     1000      Май          22.0   2.200674  ultra  Краснодар   \n",
       "\n",
       "   messages_included  mb_per_month_included  minutes_included  \\\n",
       "0               1000                   30.0              3000   \n",
       "1               1000                   30.0              3000   \n",
       "2               1000                   30.0              3000   \n",
       "3               1000                   30.0              3000   \n",
       "4               1000                   30.0              3000   \n",
       "\n",
       "   rub_monthly_fee  rub_per_gb  rub_per_message  rub_per_minute  \n",
       "0             1950         150                1               1  \n",
       "1             1950         150                1               1  \n",
       "2             1950         150                1               1  \n",
       "3             1950         150                1               1  \n",
       "4             1950         150                1               1  "
      ]
     },
     "execution_count": 51,
     "metadata": {},
     "output_type": "execute_result"
    }
   ],
   "source": [
    "new_df.head()"
   ]
  },
  {
   "cell_type": "markdown",
   "metadata": {},
   "source": []
  },
  {
   "cell_type": "markdown",
   "metadata": {},
   "source": [
    "Округлим в большую сторону. Потому-что провайдер в конце расчетного периода считает количество использованного трафика (Gb), округленного в большую сторону до целого значения"
   ]
  },
  {
   "cell_type": "code",
   "execution_count": 52,
   "metadata": {},
   "outputs": [],
   "source": [
    "new_df['gb_used'] = np.ceil(new_df['gb_used'])"
   ]
  },
  {
   "cell_type": "markdown",
   "metadata": {},
   "source": [
    "Создадим функцию, которая считает выручку вв зависимости от тарифного плана:"
   ]
  },
  {
   "cell_type": "code",
   "execution_count": 53,
   "metadata": {},
   "outputs": [],
   "source": [
    "def payment(row_values):\n",
    "    if row_values['tariff'] == 'ultra': # для тарифа ultra\n",
    "        call_sum = (row_values['duration'] - row_values['minutes_included']) # считаем перерасход минут в рублях\n",
    "        if call_sum <= 0:\n",
    "            call_sum = 0\n",
    "        else:\n",
    "            call_sum = call_sum * row_values['rub_per_minute']\n",
    "        message_sum = (row_values['message_date'] - row_values['messages_included']) # считаем перерасход SMS в рублях\n",
    "        if message_sum <= 0:\n",
    "            message_sum = 0\n",
    "        else:\n",
    "            message_sum = message_sum * row_values['rub_per_message']\n",
    "        trafic_sum = (row_values['gb_used'] - row_values['mb_per_month_included']) # считаем перерасход трафика в рублях\n",
    "        if trafic_sum <= 0:\n",
    "            trafic_sum = 0\n",
    "        else:\n",
    "            trafic_sum = trafic_sum * row_values['rub_per_gb']\n",
    "        total_sum = call_sum + message_sum + trafic_sum + row_values['rub_monthly_fee'] # суммируем перерасход + сумму тарифного плана\n",
    "        return total_sum\n",
    "    if row_values['tariff'] == 'smart': # то же самое и для тарифа smart\n",
    "        call_sum = (row_values['duration'] - row_values['minutes_included'])\n",
    "        if call_sum <= 0:\n",
    "            call_sum = 0\n",
    "        else:\n",
    "            call_sum = call_sum * row_values['rub_per_minute']\n",
    "        message_sum = (row_values['message_date'] - row_values['messages_included'])\n",
    "        if message_sum <= 0:\n",
    "            message_sum = 0\n",
    "        else:\n",
    "            message_sum = message_sum * row_values['rub_per_message']\n",
    "        trafic_sum = (row_values['gb_used'] - row_values['mb_per_month_included'])\n",
    "        if trafic_sum <= 0:\n",
    "            trafic_sum = 0\n",
    "        else:\n",
    "            trafic_sum = trafic_sum * row_values['rub_per_gb']\n",
    "        total_sum = call_sum + message_sum + trafic_sum + row_values['rub_monthly_fee']\n",
    "        return total_sum"
   ]
  },
  {
   "cell_type": "code",
   "execution_count": 54,
   "metadata": {},
   "outputs": [],
   "source": [
    "new_df['total_sum']=new_df.apply(payment,axis=1) # применяем вышеописанную функцию"
   ]
  },
  {
   "cell_type": "markdown",
   "metadata": {},
   "source": [
    "Проверим, какие суммы платят пользователи:"
   ]
  },
  {
   "cell_type": "code",
   "execution_count": 55,
   "metadata": {},
   "outputs": [
    {
     "data": {
      "text/plain": [
       "1950.0    939\n",
       "550.0     721\n",
       "950.0     131\n",
       "1150.0    120\n",
       "750.0     117\n",
       "         ... \n",
       "2153.0      1\n",
       "2831.0      1\n",
       "1583.0      1\n",
       "2183.0      1\n",
       "3040.0      1\n",
       "Name: total_sum, Length: 356, dtype: int64"
      ]
     },
     "execution_count": 55,
     "metadata": {},
     "output_type": "execute_result"
    }
   ],
   "source": [
    "new_df['total_sum'].value_counts(ascending=False)"
   ]
  },
  {
   "cell_type": "code",
   "execution_count": 56,
   "metadata": {
    "scrolled": true
   },
   "outputs": [
    {
     "data": {
      "text/html": [
       "<div>\n",
       "<style scoped>\n",
       "    .dataframe tbody tr th:only-of-type {\n",
       "        vertical-align: middle;\n",
       "    }\n",
       "\n",
       "    .dataframe tbody tr th {\n",
       "        vertical-align: top;\n",
       "    }\n",
       "\n",
       "    .dataframe thead th {\n",
       "        text-align: right;\n",
       "    }\n",
       "</style>\n",
       "<table border=\"1\" class=\"dataframe\">\n",
       "  <thead>\n",
       "    <tr style=\"text-align: right;\">\n",
       "      <th></th>\n",
       "      <th>duration</th>\n",
       "      <th>user_id</th>\n",
       "      <th>month</th>\n",
       "      <th>message_date</th>\n",
       "      <th>gb_used</th>\n",
       "      <th>tariff</th>\n",
       "      <th>city</th>\n",
       "      <th>messages_included</th>\n",
       "      <th>mb_per_month_included</th>\n",
       "      <th>minutes_included</th>\n",
       "      <th>rub_monthly_fee</th>\n",
       "      <th>rub_per_gb</th>\n",
       "      <th>rub_per_message</th>\n",
       "      <th>rub_per_minute</th>\n",
       "      <th>total_sum</th>\n",
       "    </tr>\n",
       "  </thead>\n",
       "  <tbody>\n",
       "    <tr>\n",
       "      <td>0</td>\n",
       "      <td>0.0</td>\n",
       "      <td>1000</td>\n",
       "      <td>Август</td>\n",
       "      <td>81.0</td>\n",
       "      <td>14.0</td>\n",
       "      <td>ultra</td>\n",
       "      <td>Краснодар</td>\n",
       "      <td>1000</td>\n",
       "      <td>30.0</td>\n",
       "      <td>3000</td>\n",
       "      <td>1950</td>\n",
       "      <td>150</td>\n",
       "      <td>1</td>\n",
       "      <td>1</td>\n",
       "      <td>1950.0</td>\n",
       "    </tr>\n",
       "    <tr>\n",
       "      <td>1</td>\n",
       "      <td>0.0</td>\n",
       "      <td>1000</td>\n",
       "      <td>Декабрь</td>\n",
       "      <td>70.0</td>\n",
       "      <td>10.0</td>\n",
       "      <td>ultra</td>\n",
       "      <td>Краснодар</td>\n",
       "      <td>1000</td>\n",
       "      <td>30.0</td>\n",
       "      <td>3000</td>\n",
       "      <td>1950</td>\n",
       "      <td>150</td>\n",
       "      <td>1</td>\n",
       "      <td>1</td>\n",
       "      <td>1950.0</td>\n",
       "    </tr>\n",
       "    <tr>\n",
       "      <td>2</td>\n",
       "      <td>0.0</td>\n",
       "      <td>1000</td>\n",
       "      <td>Июль</td>\n",
       "      <td>75.0</td>\n",
       "      <td>14.0</td>\n",
       "      <td>ultra</td>\n",
       "      <td>Краснодар</td>\n",
       "      <td>1000</td>\n",
       "      <td>30.0</td>\n",
       "      <td>3000</td>\n",
       "      <td>1950</td>\n",
       "      <td>150</td>\n",
       "      <td>1</td>\n",
       "      <td>1</td>\n",
       "      <td>1950.0</td>\n",
       "    </tr>\n",
       "    <tr>\n",
       "      <td>3</td>\n",
       "      <td>0.0</td>\n",
       "      <td>1000</td>\n",
       "      <td>Июнь</td>\n",
       "      <td>60.0</td>\n",
       "      <td>23.0</td>\n",
       "      <td>ultra</td>\n",
       "      <td>Краснодар</td>\n",
       "      <td>1000</td>\n",
       "      <td>30.0</td>\n",
       "      <td>3000</td>\n",
       "      <td>1950</td>\n",
       "      <td>150</td>\n",
       "      <td>1</td>\n",
       "      <td>1</td>\n",
       "      <td>1950.0</td>\n",
       "    </tr>\n",
       "    <tr>\n",
       "      <td>4</td>\n",
       "      <td>0.0</td>\n",
       "      <td>1000</td>\n",
       "      <td>Май</td>\n",
       "      <td>22.0</td>\n",
       "      <td>3.0</td>\n",
       "      <td>ultra</td>\n",
       "      <td>Краснодар</td>\n",
       "      <td>1000</td>\n",
       "      <td>30.0</td>\n",
       "      <td>3000</td>\n",
       "      <td>1950</td>\n",
       "      <td>150</td>\n",
       "      <td>1</td>\n",
       "      <td>1</td>\n",
       "      <td>1950.0</td>\n",
       "    </tr>\n",
       "    <tr>\n",
       "      <td>5</td>\n",
       "      <td>0.0</td>\n",
       "      <td>1000</td>\n",
       "      <td>Ноябрь</td>\n",
       "      <td>58.0</td>\n",
       "      <td>15.0</td>\n",
       "      <td>ultra</td>\n",
       "      <td>Краснодар</td>\n",
       "      <td>1000</td>\n",
       "      <td>30.0</td>\n",
       "      <td>3000</td>\n",
       "      <td>1950</td>\n",
       "      <td>150</td>\n",
       "      <td>1</td>\n",
       "      <td>1</td>\n",
       "      <td>1950.0</td>\n",
       "    </tr>\n",
       "    <tr>\n",
       "      <td>6</td>\n",
       "      <td>0.0</td>\n",
       "      <td>1000</td>\n",
       "      <td>Октябрь</td>\n",
       "      <td>73.0</td>\n",
       "      <td>15.0</td>\n",
       "      <td>ultra</td>\n",
       "      <td>Краснодар</td>\n",
       "      <td>1000</td>\n",
       "      <td>30.0</td>\n",
       "      <td>3000</td>\n",
       "      <td>1950</td>\n",
       "      <td>150</td>\n",
       "      <td>1</td>\n",
       "      <td>1</td>\n",
       "      <td>1950.0</td>\n",
       "    </tr>\n",
       "    <tr>\n",
       "      <td>7</td>\n",
       "      <td>0.0</td>\n",
       "      <td>1000</td>\n",
       "      <td>Сентябрь</td>\n",
       "      <td>57.0</td>\n",
       "      <td>15.0</td>\n",
       "      <td>ultra</td>\n",
       "      <td>Краснодар</td>\n",
       "      <td>1000</td>\n",
       "      <td>30.0</td>\n",
       "      <td>3000</td>\n",
       "      <td>1950</td>\n",
       "      <td>150</td>\n",
       "      <td>1</td>\n",
       "      <td>1</td>\n",
       "      <td>1950.0</td>\n",
       "    </tr>\n",
       "    <tr>\n",
       "      <td>8</td>\n",
       "      <td>0.0</td>\n",
       "      <td>1002</td>\n",
       "      <td>Август</td>\n",
       "      <td>13.0</td>\n",
       "      <td>20.0</td>\n",
       "      <td>smart</td>\n",
       "      <td>Стерлитамак</td>\n",
       "      <td>50</td>\n",
       "      <td>15.0</td>\n",
       "      <td>500</td>\n",
       "      <td>550</td>\n",
       "      <td>200</td>\n",
       "      <td>3</td>\n",
       "      <td>3</td>\n",
       "      <td>1550.0</td>\n",
       "    </tr>\n",
       "    <tr>\n",
       "      <td>9</td>\n",
       "      <td>0.0</td>\n",
       "      <td>1002</td>\n",
       "      <td>Декабрь</td>\n",
       "      <td>12.0</td>\n",
       "      <td>18.0</td>\n",
       "      <td>smart</td>\n",
       "      <td>Стерлитамак</td>\n",
       "      <td>50</td>\n",
       "      <td>15.0</td>\n",
       "      <td>500</td>\n",
       "      <td>550</td>\n",
       "      <td>200</td>\n",
       "      <td>3</td>\n",
       "      <td>3</td>\n",
       "      <td>1150.0</td>\n",
       "    </tr>\n",
       "    <tr>\n",
       "      <td>10</td>\n",
       "      <td>0.0</td>\n",
       "      <td>1002</td>\n",
       "      <td>Июль</td>\n",
       "      <td>11.0</td>\n",
       "      <td>18.0</td>\n",
       "      <td>smart</td>\n",
       "      <td>Стерлитамак</td>\n",
       "      <td>50</td>\n",
       "      <td>15.0</td>\n",
       "      <td>500</td>\n",
       "      <td>550</td>\n",
       "      <td>200</td>\n",
       "      <td>3</td>\n",
       "      <td>3</td>\n",
       "      <td>1150.0</td>\n",
       "    </tr>\n",
       "    <tr>\n",
       "      <td>11</td>\n",
       "      <td>0.0</td>\n",
       "      <td>1002</td>\n",
       "      <td>Июнь</td>\n",
       "      <td>4.0</td>\n",
       "      <td>11.0</td>\n",
       "      <td>smart</td>\n",
       "      <td>Стерлитамак</td>\n",
       "      <td>50</td>\n",
       "      <td>15.0</td>\n",
       "      <td>500</td>\n",
       "      <td>550</td>\n",
       "      <td>200</td>\n",
       "      <td>3</td>\n",
       "      <td>3</td>\n",
       "      <td>550.0</td>\n",
       "    </tr>\n",
       "    <tr>\n",
       "      <td>12</td>\n",
       "      <td>0.0</td>\n",
       "      <td>1002</td>\n",
       "      <td>Ноябрь</td>\n",
       "      <td>16.0</td>\n",
       "      <td>19.0</td>\n",
       "      <td>smart</td>\n",
       "      <td>Стерлитамак</td>\n",
       "      <td>50</td>\n",
       "      <td>15.0</td>\n",
       "      <td>500</td>\n",
       "      <td>550</td>\n",
       "      <td>200</td>\n",
       "      <td>3</td>\n",
       "      <td>3</td>\n",
       "      <td>1350.0</td>\n",
       "    </tr>\n",
       "    <tr>\n",
       "      <td>13</td>\n",
       "      <td>0.0</td>\n",
       "      <td>1002</td>\n",
       "      <td>Октябрь</td>\n",
       "      <td>10.0</td>\n",
       "      <td>14.0</td>\n",
       "      <td>smart</td>\n",
       "      <td>Стерлитамак</td>\n",
       "      <td>50</td>\n",
       "      <td>15.0</td>\n",
       "      <td>500</td>\n",
       "      <td>550</td>\n",
       "      <td>200</td>\n",
       "      <td>3</td>\n",
       "      <td>3</td>\n",
       "      <td>550.0</td>\n",
       "    </tr>\n",
       "    <tr>\n",
       "      <td>14</td>\n",
       "      <td>0.0</td>\n",
       "      <td>1002</td>\n",
       "      <td>Сентябрь</td>\n",
       "      <td>4.0</td>\n",
       "      <td>17.0</td>\n",
       "      <td>smart</td>\n",
       "      <td>Стерлитамак</td>\n",
       "      <td>50</td>\n",
       "      <td>15.0</td>\n",
       "      <td>500</td>\n",
       "      <td>550</td>\n",
       "      <td>200</td>\n",
       "      <td>3</td>\n",
       "      <td>3</td>\n",
       "      <td>950.0</td>\n",
       "    </tr>\n",
       "    <tr>\n",
       "      <td>15</td>\n",
       "      <td>0.0</td>\n",
       "      <td>1003</td>\n",
       "      <td>Август</td>\n",
       "      <td>37.0</td>\n",
       "      <td>9.0</td>\n",
       "      <td>ultra</td>\n",
       "      <td>Москва</td>\n",
       "      <td>1000</td>\n",
       "      <td>30.0</td>\n",
       "      <td>3000</td>\n",
       "      <td>1950</td>\n",
       "      <td>150</td>\n",
       "      <td>1</td>\n",
       "      <td>1</td>\n",
       "      <td>1950.0</td>\n",
       "    </tr>\n",
       "    <tr>\n",
       "      <td>16</td>\n",
       "      <td>0.0</td>\n",
       "      <td>1003</td>\n",
       "      <td>Декабрь</td>\n",
       "      <td>75.0</td>\n",
       "      <td>10.0</td>\n",
       "      <td>ultra</td>\n",
       "      <td>Москва</td>\n",
       "      <td>1000</td>\n",
       "      <td>30.0</td>\n",
       "      <td>3000</td>\n",
       "      <td>1950</td>\n",
       "      <td>150</td>\n",
       "      <td>1</td>\n",
       "      <td>1</td>\n",
       "      <td>1950.0</td>\n",
       "    </tr>\n",
       "    <tr>\n",
       "      <td>17</td>\n",
       "      <td>0.0</td>\n",
       "      <td>1003</td>\n",
       "      <td>Ноябрь</td>\n",
       "      <td>94.0</td>\n",
       "      <td>12.0</td>\n",
       "      <td>ultra</td>\n",
       "      <td>Москва</td>\n",
       "      <td>1000</td>\n",
       "      <td>30.0</td>\n",
       "      <td>3000</td>\n",
       "      <td>1950</td>\n",
       "      <td>150</td>\n",
       "      <td>1</td>\n",
       "      <td>1</td>\n",
       "      <td>1950.0</td>\n",
       "    </tr>\n",
       "    <tr>\n",
       "      <td>18</td>\n",
       "      <td>0.0</td>\n",
       "      <td>1003</td>\n",
       "      <td>Октябрь</td>\n",
       "      <td>83.0</td>\n",
       "      <td>15.0</td>\n",
       "      <td>ultra</td>\n",
       "      <td>Москва</td>\n",
       "      <td>1000</td>\n",
       "      <td>30.0</td>\n",
       "      <td>3000</td>\n",
       "      <td>1950</td>\n",
       "      <td>150</td>\n",
       "      <td>1</td>\n",
       "      <td>1</td>\n",
       "      <td>1950.0</td>\n",
       "    </tr>\n",
       "    <tr>\n",
       "      <td>19</td>\n",
       "      <td>0.0</td>\n",
       "      <td>1003</td>\n",
       "      <td>Сентябрь</td>\n",
       "      <td>91.0</td>\n",
       "      <td>13.0</td>\n",
       "      <td>ultra</td>\n",
       "      <td>Москва</td>\n",
       "      <td>1000</td>\n",
       "      <td>30.0</td>\n",
       "      <td>3000</td>\n",
       "      <td>1950</td>\n",
       "      <td>150</td>\n",
       "      <td>1</td>\n",
       "      <td>1</td>\n",
       "      <td>1950.0</td>\n",
       "    </tr>\n",
       "    <tr>\n",
       "      <td>20</td>\n",
       "      <td>0.0</td>\n",
       "      <td>1004</td>\n",
       "      <td>Август</td>\n",
       "      <td>151.0</td>\n",
       "      <td>28.0</td>\n",
       "      <td>ultra</td>\n",
       "      <td>Новокузнецк</td>\n",
       "      <td>1000</td>\n",
       "      <td>30.0</td>\n",
       "      <td>3000</td>\n",
       "      <td>1950</td>\n",
       "      <td>150</td>\n",
       "      <td>1</td>\n",
       "      <td>1</td>\n",
       "      <td>1950.0</td>\n",
       "    </tr>\n",
       "    <tr>\n",
       "      <td>21</td>\n",
       "      <td>0.0</td>\n",
       "      <td>1004</td>\n",
       "      <td>Декабрь</td>\n",
       "      <td>162.0</td>\n",
       "      <td>18.0</td>\n",
       "      <td>ultra</td>\n",
       "      <td>Новокузнецк</td>\n",
       "      <td>1000</td>\n",
       "      <td>30.0</td>\n",
       "      <td>3000</td>\n",
       "      <td>1950</td>\n",
       "      <td>150</td>\n",
       "      <td>1</td>\n",
       "      <td>1</td>\n",
       "      <td>1950.0</td>\n",
       "    </tr>\n",
       "    <tr>\n",
       "      <td>22</td>\n",
       "      <td>0.0</td>\n",
       "      <td>1004</td>\n",
       "      <td>Июль</td>\n",
       "      <td>181.0</td>\n",
       "      <td>22.0</td>\n",
       "      <td>ultra</td>\n",
       "      <td>Новокузнецк</td>\n",
       "      <td>1000</td>\n",
       "      <td>30.0</td>\n",
       "      <td>3000</td>\n",
       "      <td>1950</td>\n",
       "      <td>150</td>\n",
       "      <td>1</td>\n",
       "      <td>1</td>\n",
       "      <td>1950.0</td>\n",
       "    </tr>\n",
       "    <tr>\n",
       "      <td>23</td>\n",
       "      <td>0.0</td>\n",
       "      <td>1004</td>\n",
       "      <td>Июнь</td>\n",
       "      <td>134.0</td>\n",
       "      <td>18.0</td>\n",
       "      <td>ultra</td>\n",
       "      <td>Новокузнецк</td>\n",
       "      <td>1000</td>\n",
       "      <td>30.0</td>\n",
       "      <td>3000</td>\n",
       "      <td>1950</td>\n",
       "      <td>150</td>\n",
       "      <td>1</td>\n",
       "      <td>1</td>\n",
       "      <td>1950.0</td>\n",
       "    </tr>\n",
       "    <tr>\n",
       "      <td>24</td>\n",
       "      <td>0.0</td>\n",
       "      <td>1004</td>\n",
       "      <td>Май</td>\n",
       "      <td>95.0</td>\n",
       "      <td>14.0</td>\n",
       "      <td>ultra</td>\n",
       "      <td>Новокузнецк</td>\n",
       "      <td>1000</td>\n",
       "      <td>30.0</td>\n",
       "      <td>3000</td>\n",
       "      <td>1950</td>\n",
       "      <td>150</td>\n",
       "      <td>1</td>\n",
       "      <td>1</td>\n",
       "      <td>1950.0</td>\n",
       "    </tr>\n",
       "    <tr>\n",
       "      <td>25</td>\n",
       "      <td>0.0</td>\n",
       "      <td>1004</td>\n",
       "      <td>Ноябрь</td>\n",
       "      <td>158.0</td>\n",
       "      <td>16.0</td>\n",
       "      <td>ultra</td>\n",
       "      <td>Новокузнецк</td>\n",
       "      <td>1000</td>\n",
       "      <td>30.0</td>\n",
       "      <td>3000</td>\n",
       "      <td>1950</td>\n",
       "      <td>150</td>\n",
       "      <td>1</td>\n",
       "      <td>1</td>\n",
       "      <td>1950.0</td>\n",
       "    </tr>\n",
       "    <tr>\n",
       "      <td>26</td>\n",
       "      <td>0.0</td>\n",
       "      <td>1004</td>\n",
       "      <td>Октябрь</td>\n",
       "      <td>165.0</td>\n",
       "      <td>19.0</td>\n",
       "      <td>ultra</td>\n",
       "      <td>Новокузнецк</td>\n",
       "      <td>1000</td>\n",
       "      <td>30.0</td>\n",
       "      <td>3000</td>\n",
       "      <td>1950</td>\n",
       "      <td>150</td>\n",
       "      <td>1</td>\n",
       "      <td>1</td>\n",
       "      <td>1950.0</td>\n",
       "    </tr>\n",
       "    <tr>\n",
       "      <td>27</td>\n",
       "      <td>0.0</td>\n",
       "      <td>1004</td>\n",
       "      <td>Сентябрь</td>\n",
       "      <td>146.0</td>\n",
       "      <td>15.0</td>\n",
       "      <td>ultra</td>\n",
       "      <td>Новокузнецк</td>\n",
       "      <td>1000</td>\n",
       "      <td>30.0</td>\n",
       "      <td>3000</td>\n",
       "      <td>1950</td>\n",
       "      <td>150</td>\n",
       "      <td>1</td>\n",
       "      <td>1</td>\n",
       "      <td>1950.0</td>\n",
       "    </tr>\n",
       "    <tr>\n",
       "      <td>28</td>\n",
       "      <td>0.0</td>\n",
       "      <td>1005</td>\n",
       "      <td>Август</td>\n",
       "      <td>64.0</td>\n",
       "      <td>8.0</td>\n",
       "      <td>smart</td>\n",
       "      <td>Набережные Челны</td>\n",
       "      <td>50</td>\n",
       "      <td>15.0</td>\n",
       "      <td>500</td>\n",
       "      <td>550</td>\n",
       "      <td>200</td>\n",
       "      <td>3</td>\n",
       "      <td>3</td>\n",
       "      <td>592.0</td>\n",
       "    </tr>\n",
       "    <tr>\n",
       "      <td>29</td>\n",
       "      <td>0.0</td>\n",
       "      <td>1005</td>\n",
       "      <td>Апрель</td>\n",
       "      <td>41.0</td>\n",
       "      <td>10.0</td>\n",
       "      <td>smart</td>\n",
       "      <td>Набережные Челны</td>\n",
       "      <td>50</td>\n",
       "      <td>15.0</td>\n",
       "      <td>500</td>\n",
       "      <td>550</td>\n",
       "      <td>200</td>\n",
       "      <td>3</td>\n",
       "      <td>3</td>\n",
       "      <td>550.0</td>\n",
       "    </tr>\n",
       "    <tr>\n",
       "      <td>30</td>\n",
       "      <td>0.0</td>\n",
       "      <td>1005</td>\n",
       "      <td>Декабрь</td>\n",
       "      <td>54.0</td>\n",
       "      <td>9.0</td>\n",
       "      <td>smart</td>\n",
       "      <td>Набережные Челны</td>\n",
       "      <td>50</td>\n",
       "      <td>15.0</td>\n",
       "      <td>500</td>\n",
       "      <td>550</td>\n",
       "      <td>200</td>\n",
       "      <td>3</td>\n",
       "      <td>3</td>\n",
       "      <td>562.0</td>\n",
       "    </tr>\n",
       "    <tr>\n",
       "      <td>31</td>\n",
       "      <td>0.0</td>\n",
       "      <td>1005</td>\n",
       "      <td>Июль</td>\n",
       "      <td>56.0</td>\n",
       "      <td>8.0</td>\n",
       "      <td>smart</td>\n",
       "      <td>Набережные Челны</td>\n",
       "      <td>50</td>\n",
       "      <td>15.0</td>\n",
       "      <td>500</td>\n",
       "      <td>550</td>\n",
       "      <td>200</td>\n",
       "      <td>3</td>\n",
       "      <td>3</td>\n",
       "      <td>568.0</td>\n",
       "    </tr>\n",
       "    <tr>\n",
       "      <td>32</td>\n",
       "      <td>0.0</td>\n",
       "      <td>1005</td>\n",
       "      <td>Июнь</td>\n",
       "      <td>47.0</td>\n",
       "      <td>10.0</td>\n",
       "      <td>smart</td>\n",
       "      <td>Набережные Челны</td>\n",
       "      <td>50</td>\n",
       "      <td>15.0</td>\n",
       "      <td>500</td>\n",
       "      <td>550</td>\n",
       "      <td>200</td>\n",
       "      <td>3</td>\n",
       "      <td>3</td>\n",
       "      <td>550.0</td>\n",
       "    </tr>\n",
       "    <tr>\n",
       "      <td>33</td>\n",
       "      <td>0.0</td>\n",
       "      <td>1005</td>\n",
       "      <td>Май</td>\n",
       "      <td>42.0</td>\n",
       "      <td>8.0</td>\n",
       "      <td>smart</td>\n",
       "      <td>Набережные Челны</td>\n",
       "      <td>50</td>\n",
       "      <td>15.0</td>\n",
       "      <td>500</td>\n",
       "      <td>550</td>\n",
       "      <td>200</td>\n",
       "      <td>3</td>\n",
       "      <td>3</td>\n",
       "      <td>550.0</td>\n",
       "    </tr>\n",
       "    <tr>\n",
       "      <td>34</td>\n",
       "      <td>0.0</td>\n",
       "      <td>1005</td>\n",
       "      <td>Март</td>\n",
       "      <td>56.0</td>\n",
       "      <td>11.0</td>\n",
       "      <td>smart</td>\n",
       "      <td>Набережные Челны</td>\n",
       "      <td>50</td>\n",
       "      <td>15.0</td>\n",
       "      <td>500</td>\n",
       "      <td>550</td>\n",
       "      <td>200</td>\n",
       "      <td>3</td>\n",
       "      <td>3</td>\n",
       "      <td>568.0</td>\n",
       "    </tr>\n",
       "    <tr>\n",
       "      <td>35</td>\n",
       "      <td>0.0</td>\n",
       "      <td>1005</td>\n",
       "      <td>Ноябрь</td>\n",
       "      <td>51.0</td>\n",
       "      <td>13.0</td>\n",
       "      <td>smart</td>\n",
       "      <td>Набережные Челны</td>\n",
       "      <td>50</td>\n",
       "      <td>15.0</td>\n",
       "      <td>500</td>\n",
       "      <td>550</td>\n",
       "      <td>200</td>\n",
       "      <td>3</td>\n",
       "      <td>3</td>\n",
       "      <td>553.0</td>\n",
       "    </tr>\n",
       "    <tr>\n",
       "      <td>36</td>\n",
       "      <td>0.0</td>\n",
       "      <td>1005</td>\n",
       "      <td>Октябрь</td>\n",
       "      <td>44.0</td>\n",
       "      <td>8.0</td>\n",
       "      <td>smart</td>\n",
       "      <td>Набережные Челны</td>\n",
       "      <td>50</td>\n",
       "      <td>15.0</td>\n",
       "      <td>500</td>\n",
       "      <td>550</td>\n",
       "      <td>200</td>\n",
       "      <td>3</td>\n",
       "      <td>3</td>\n",
       "      <td>550.0</td>\n",
       "    </tr>\n",
       "    <tr>\n",
       "      <td>37</td>\n",
       "      <td>0.0</td>\n",
       "      <td>1005</td>\n",
       "      <td>Сентябрь</td>\n",
       "      <td>52.0</td>\n",
       "      <td>7.0</td>\n",
       "      <td>smart</td>\n",
       "      <td>Набережные Челны</td>\n",
       "      <td>50</td>\n",
       "      <td>15.0</td>\n",
       "      <td>500</td>\n",
       "      <td>550</td>\n",
       "      <td>200</td>\n",
       "      <td>3</td>\n",
       "      <td>3</td>\n",
       "      <td>556.0</td>\n",
       "    </tr>\n",
       "    <tr>\n",
       "      <td>38</td>\n",
       "      <td>0.0</td>\n",
       "      <td>1005</td>\n",
       "      <td>Февраль</td>\n",
       "      <td>38.0</td>\n",
       "      <td>8.0</td>\n",
       "      <td>smart</td>\n",
       "      <td>Набережные Челны</td>\n",
       "      <td>50</td>\n",
       "      <td>15.0</td>\n",
       "      <td>500</td>\n",
       "      <td>550</td>\n",
       "      <td>200</td>\n",
       "      <td>3</td>\n",
       "      <td>3</td>\n",
       "      <td>550.0</td>\n",
       "    </tr>\n",
       "    <tr>\n",
       "      <td>39</td>\n",
       "      <td>0.0</td>\n",
       "      <td>1005</td>\n",
       "      <td>Январь</td>\n",
       "      <td>7.0</td>\n",
       "      <td>3.0</td>\n",
       "      <td>smart</td>\n",
       "      <td>Набережные Челны</td>\n",
       "      <td>50</td>\n",
       "      <td>15.0</td>\n",
       "      <td>500</td>\n",
       "      <td>550</td>\n",
       "      <td>200</td>\n",
       "      <td>3</td>\n",
       "      <td>3</td>\n",
       "      <td>550.0</td>\n",
       "    </tr>\n",
       "    <tr>\n",
       "      <td>40</td>\n",
       "      <td>0.0</td>\n",
       "      <td>1007</td>\n",
       "      <td>Август</td>\n",
       "      <td>27.0</td>\n",
       "      <td>21.0</td>\n",
       "      <td>smart</td>\n",
       "      <td>Москва</td>\n",
       "      <td>50</td>\n",
       "      <td>15.0</td>\n",
       "      <td>500</td>\n",
       "      <td>550</td>\n",
       "      <td>200</td>\n",
       "      <td>3</td>\n",
       "      <td>3</td>\n",
       "      <td>1750.0</td>\n",
       "    </tr>\n",
       "    <tr>\n",
       "      <td>41</td>\n",
       "      <td>0.0</td>\n",
       "      <td>1007</td>\n",
       "      <td>Апрель</td>\n",
       "      <td>11.0</td>\n",
       "      <td>8.0</td>\n",
       "      <td>smart</td>\n",
       "      <td>Москва</td>\n",
       "      <td>50</td>\n",
       "      <td>15.0</td>\n",
       "      <td>500</td>\n",
       "      <td>550</td>\n",
       "      <td>200</td>\n",
       "      <td>3</td>\n",
       "      <td>3</td>\n",
       "      <td>550.0</td>\n",
       "    </tr>\n",
       "    <tr>\n",
       "      <td>42</td>\n",
       "      <td>0.0</td>\n",
       "      <td>1007</td>\n",
       "      <td>Декабрь</td>\n",
       "      <td>26.0</td>\n",
       "      <td>13.0</td>\n",
       "      <td>smart</td>\n",
       "      <td>Москва</td>\n",
       "      <td>50</td>\n",
       "      <td>15.0</td>\n",
       "      <td>500</td>\n",
       "      <td>550</td>\n",
       "      <td>200</td>\n",
       "      <td>3</td>\n",
       "      <td>3</td>\n",
       "      <td>550.0</td>\n",
       "    </tr>\n",
       "    <tr>\n",
       "      <td>43</td>\n",
       "      <td>0.0</td>\n",
       "      <td>1007</td>\n",
       "      <td>Июль</td>\n",
       "      <td>26.0</td>\n",
       "      <td>16.0</td>\n",
       "      <td>smart</td>\n",
       "      <td>Москва</td>\n",
       "      <td>50</td>\n",
       "      <td>15.0</td>\n",
       "      <td>500</td>\n",
       "      <td>550</td>\n",
       "      <td>200</td>\n",
       "      <td>3</td>\n",
       "      <td>3</td>\n",
       "      <td>750.0</td>\n",
       "    </tr>\n",
       "    <tr>\n",
       "      <td>44</td>\n",
       "      <td>0.0</td>\n",
       "      <td>1007</td>\n",
       "      <td>Июнь</td>\n",
       "      <td>26.0</td>\n",
       "      <td>14.0</td>\n",
       "      <td>smart</td>\n",
       "      <td>Москва</td>\n",
       "      <td>50</td>\n",
       "      <td>15.0</td>\n",
       "      <td>500</td>\n",
       "      <td>550</td>\n",
       "      <td>200</td>\n",
       "      <td>3</td>\n",
       "      <td>3</td>\n",
       "      <td>550.0</td>\n",
       "    </tr>\n",
       "    <tr>\n",
       "      <td>45</td>\n",
       "      <td>0.0</td>\n",
       "      <td>1007</td>\n",
       "      <td>Май</td>\n",
       "      <td>39.0</td>\n",
       "      <td>18.0</td>\n",
       "      <td>smart</td>\n",
       "      <td>Москва</td>\n",
       "      <td>50</td>\n",
       "      <td>15.0</td>\n",
       "      <td>500</td>\n",
       "      <td>550</td>\n",
       "      <td>200</td>\n",
       "      <td>3</td>\n",
       "      <td>3</td>\n",
       "      <td>1150.0</td>\n",
       "    </tr>\n",
       "    <tr>\n",
       "      <td>46</td>\n",
       "      <td>0.0</td>\n",
       "      <td>1007</td>\n",
       "      <td>Ноябрь</td>\n",
       "      <td>21.0</td>\n",
       "      <td>16.0</td>\n",
       "      <td>smart</td>\n",
       "      <td>Москва</td>\n",
       "      <td>50</td>\n",
       "      <td>15.0</td>\n",
       "      <td>500</td>\n",
       "      <td>550</td>\n",
       "      <td>200</td>\n",
       "      <td>3</td>\n",
       "      <td>3</td>\n",
       "      <td>750.0</td>\n",
       "    </tr>\n",
       "    <tr>\n",
       "      <td>47</td>\n",
       "      <td>0.0</td>\n",
       "      <td>1007</td>\n",
       "      <td>Октябрь</td>\n",
       "      <td>18.0</td>\n",
       "      <td>15.0</td>\n",
       "      <td>smart</td>\n",
       "      <td>Москва</td>\n",
       "      <td>50</td>\n",
       "      <td>15.0</td>\n",
       "      <td>500</td>\n",
       "      <td>550</td>\n",
       "      <td>200</td>\n",
       "      <td>3</td>\n",
       "      <td>3</td>\n",
       "      <td>550.0</td>\n",
       "    </tr>\n",
       "    <tr>\n",
       "      <td>48</td>\n",
       "      <td>0.0</td>\n",
       "      <td>1007</td>\n",
       "      <td>Сентябрь</td>\n",
       "      <td>31.0</td>\n",
       "      <td>13.0</td>\n",
       "      <td>smart</td>\n",
       "      <td>Москва</td>\n",
       "      <td>50</td>\n",
       "      <td>15.0</td>\n",
       "      <td>500</td>\n",
       "      <td>550</td>\n",
       "      <td>200</td>\n",
       "      <td>3</td>\n",
       "      <td>3</td>\n",
       "      <td>550.0</td>\n",
       "    </tr>\n",
       "    <tr>\n",
       "      <td>49</td>\n",
       "      <td>0.0</td>\n",
       "      <td>1008</td>\n",
       "      <td>Декабрь</td>\n",
       "      <td>56.0</td>\n",
       "      <td>13.0</td>\n",
       "      <td>smart</td>\n",
       "      <td>Челябинск</td>\n",
       "      <td>50</td>\n",
       "      <td>15.0</td>\n",
       "      <td>500</td>\n",
       "      <td>550</td>\n",
       "      <td>200</td>\n",
       "      <td>3</td>\n",
       "      <td>3</td>\n",
       "      <td>568.0</td>\n",
       "    </tr>\n",
       "  </tbody>\n",
       "</table>\n",
       "</div>"
      ],
      "text/plain": [
       "    duration  user_id     month  message_date  gb_used tariff  \\\n",
       "0        0.0     1000    Август          81.0     14.0  ultra   \n",
       "1        0.0     1000   Декабрь          70.0     10.0  ultra   \n",
       "2        0.0     1000      Июль          75.0     14.0  ultra   \n",
       "3        0.0     1000      Июнь          60.0     23.0  ultra   \n",
       "4        0.0     1000       Май          22.0      3.0  ultra   \n",
       "5        0.0     1000    Ноябрь          58.0     15.0  ultra   \n",
       "6        0.0     1000   Октябрь          73.0     15.0  ultra   \n",
       "7        0.0     1000  Сентябрь          57.0     15.0  ultra   \n",
       "8        0.0     1002    Август          13.0     20.0  smart   \n",
       "9        0.0     1002   Декабрь          12.0     18.0  smart   \n",
       "10       0.0     1002      Июль          11.0     18.0  smart   \n",
       "11       0.0     1002      Июнь           4.0     11.0  smart   \n",
       "12       0.0     1002    Ноябрь          16.0     19.0  smart   \n",
       "13       0.0     1002   Октябрь          10.0     14.0  smart   \n",
       "14       0.0     1002  Сентябрь           4.0     17.0  smart   \n",
       "15       0.0     1003    Август          37.0      9.0  ultra   \n",
       "16       0.0     1003   Декабрь          75.0     10.0  ultra   \n",
       "17       0.0     1003    Ноябрь          94.0     12.0  ultra   \n",
       "18       0.0     1003   Октябрь          83.0     15.0  ultra   \n",
       "19       0.0     1003  Сентябрь          91.0     13.0  ultra   \n",
       "20       0.0     1004    Август         151.0     28.0  ultra   \n",
       "21       0.0     1004   Декабрь         162.0     18.0  ultra   \n",
       "22       0.0     1004      Июль         181.0     22.0  ultra   \n",
       "23       0.0     1004      Июнь         134.0     18.0  ultra   \n",
       "24       0.0     1004       Май          95.0     14.0  ultra   \n",
       "25       0.0     1004    Ноябрь         158.0     16.0  ultra   \n",
       "26       0.0     1004   Октябрь         165.0     19.0  ultra   \n",
       "27       0.0     1004  Сентябрь         146.0     15.0  ultra   \n",
       "28       0.0     1005    Август          64.0      8.0  smart   \n",
       "29       0.0     1005    Апрель          41.0     10.0  smart   \n",
       "30       0.0     1005   Декабрь          54.0      9.0  smart   \n",
       "31       0.0     1005      Июль          56.0      8.0  smart   \n",
       "32       0.0     1005      Июнь          47.0     10.0  smart   \n",
       "33       0.0     1005       Май          42.0      8.0  smart   \n",
       "34       0.0     1005      Март          56.0     11.0  smart   \n",
       "35       0.0     1005    Ноябрь          51.0     13.0  smart   \n",
       "36       0.0     1005   Октябрь          44.0      8.0  smart   \n",
       "37       0.0     1005  Сентябрь          52.0      7.0  smart   \n",
       "38       0.0     1005   Февраль          38.0      8.0  smart   \n",
       "39       0.0     1005    Январь           7.0      3.0  smart   \n",
       "40       0.0     1007    Август          27.0     21.0  smart   \n",
       "41       0.0     1007    Апрель          11.0      8.0  smart   \n",
       "42       0.0     1007   Декабрь          26.0     13.0  smart   \n",
       "43       0.0     1007      Июль          26.0     16.0  smart   \n",
       "44       0.0     1007      Июнь          26.0     14.0  smart   \n",
       "45       0.0     1007       Май          39.0     18.0  smart   \n",
       "46       0.0     1007    Ноябрь          21.0     16.0  smart   \n",
       "47       0.0     1007   Октябрь          18.0     15.0  smart   \n",
       "48       0.0     1007  Сентябрь          31.0     13.0  smart   \n",
       "49       0.0     1008   Декабрь          56.0     13.0  smart   \n",
       "\n",
       "                city  messages_included  mb_per_month_included  \\\n",
       "0          Краснодар               1000                   30.0   \n",
       "1          Краснодар               1000                   30.0   \n",
       "2          Краснодар               1000                   30.0   \n",
       "3          Краснодар               1000                   30.0   \n",
       "4          Краснодар               1000                   30.0   \n",
       "5          Краснодар               1000                   30.0   \n",
       "6          Краснодар               1000                   30.0   \n",
       "7          Краснодар               1000                   30.0   \n",
       "8        Стерлитамак                 50                   15.0   \n",
       "9        Стерлитамак                 50                   15.0   \n",
       "10       Стерлитамак                 50                   15.0   \n",
       "11       Стерлитамак                 50                   15.0   \n",
       "12       Стерлитамак                 50                   15.0   \n",
       "13       Стерлитамак                 50                   15.0   \n",
       "14       Стерлитамак                 50                   15.0   \n",
       "15            Москва               1000                   30.0   \n",
       "16            Москва               1000                   30.0   \n",
       "17            Москва               1000                   30.0   \n",
       "18            Москва               1000                   30.0   \n",
       "19            Москва               1000                   30.0   \n",
       "20       Новокузнецк               1000                   30.0   \n",
       "21       Новокузнецк               1000                   30.0   \n",
       "22       Новокузнецк               1000                   30.0   \n",
       "23       Новокузнецк               1000                   30.0   \n",
       "24       Новокузнецк               1000                   30.0   \n",
       "25       Новокузнецк               1000                   30.0   \n",
       "26       Новокузнецк               1000                   30.0   \n",
       "27       Новокузнецк               1000                   30.0   \n",
       "28  Набережные Челны                 50                   15.0   \n",
       "29  Набережные Челны                 50                   15.0   \n",
       "30  Набережные Челны                 50                   15.0   \n",
       "31  Набережные Челны                 50                   15.0   \n",
       "32  Набережные Челны                 50                   15.0   \n",
       "33  Набережные Челны                 50                   15.0   \n",
       "34  Набережные Челны                 50                   15.0   \n",
       "35  Набережные Челны                 50                   15.0   \n",
       "36  Набережные Челны                 50                   15.0   \n",
       "37  Набережные Челны                 50                   15.0   \n",
       "38  Набережные Челны                 50                   15.0   \n",
       "39  Набережные Челны                 50                   15.0   \n",
       "40            Москва                 50                   15.0   \n",
       "41            Москва                 50                   15.0   \n",
       "42            Москва                 50                   15.0   \n",
       "43            Москва                 50                   15.0   \n",
       "44            Москва                 50                   15.0   \n",
       "45            Москва                 50                   15.0   \n",
       "46            Москва                 50                   15.0   \n",
       "47            Москва                 50                   15.0   \n",
       "48            Москва                 50                   15.0   \n",
       "49         Челябинск                 50                   15.0   \n",
       "\n",
       "    minutes_included  rub_monthly_fee  rub_per_gb  rub_per_message  \\\n",
       "0               3000             1950         150                1   \n",
       "1               3000             1950         150                1   \n",
       "2               3000             1950         150                1   \n",
       "3               3000             1950         150                1   \n",
       "4               3000             1950         150                1   \n",
       "5               3000             1950         150                1   \n",
       "6               3000             1950         150                1   \n",
       "7               3000             1950         150                1   \n",
       "8                500              550         200                3   \n",
       "9                500              550         200                3   \n",
       "10               500              550         200                3   \n",
       "11               500              550         200                3   \n",
       "12               500              550         200                3   \n",
       "13               500              550         200                3   \n",
       "14               500              550         200                3   \n",
       "15              3000             1950         150                1   \n",
       "16              3000             1950         150                1   \n",
       "17              3000             1950         150                1   \n",
       "18              3000             1950         150                1   \n",
       "19              3000             1950         150                1   \n",
       "20              3000             1950         150                1   \n",
       "21              3000             1950         150                1   \n",
       "22              3000             1950         150                1   \n",
       "23              3000             1950         150                1   \n",
       "24              3000             1950         150                1   \n",
       "25              3000             1950         150                1   \n",
       "26              3000             1950         150                1   \n",
       "27              3000             1950         150                1   \n",
       "28               500              550         200                3   \n",
       "29               500              550         200                3   \n",
       "30               500              550         200                3   \n",
       "31               500              550         200                3   \n",
       "32               500              550         200                3   \n",
       "33               500              550         200                3   \n",
       "34               500              550         200                3   \n",
       "35               500              550         200                3   \n",
       "36               500              550         200                3   \n",
       "37               500              550         200                3   \n",
       "38               500              550         200                3   \n",
       "39               500              550         200                3   \n",
       "40               500              550         200                3   \n",
       "41               500              550         200                3   \n",
       "42               500              550         200                3   \n",
       "43               500              550         200                3   \n",
       "44               500              550         200                3   \n",
       "45               500              550         200                3   \n",
       "46               500              550         200                3   \n",
       "47               500              550         200                3   \n",
       "48               500              550         200                3   \n",
       "49               500              550         200                3   \n",
       "\n",
       "    rub_per_minute  total_sum  \n",
       "0                1     1950.0  \n",
       "1                1     1950.0  \n",
       "2                1     1950.0  \n",
       "3                1     1950.0  \n",
       "4                1     1950.0  \n",
       "5                1     1950.0  \n",
       "6                1     1950.0  \n",
       "7                1     1950.0  \n",
       "8                3     1550.0  \n",
       "9                3     1150.0  \n",
       "10               3     1150.0  \n",
       "11               3      550.0  \n",
       "12               3     1350.0  \n",
       "13               3      550.0  \n",
       "14               3      950.0  \n",
       "15               1     1950.0  \n",
       "16               1     1950.0  \n",
       "17               1     1950.0  \n",
       "18               1     1950.0  \n",
       "19               1     1950.0  \n",
       "20               1     1950.0  \n",
       "21               1     1950.0  \n",
       "22               1     1950.0  \n",
       "23               1     1950.0  \n",
       "24               1     1950.0  \n",
       "25               1     1950.0  \n",
       "26               1     1950.0  \n",
       "27               1     1950.0  \n",
       "28               3      592.0  \n",
       "29               3      550.0  \n",
       "30               3      562.0  \n",
       "31               3      568.0  \n",
       "32               3      550.0  \n",
       "33               3      550.0  \n",
       "34               3      568.0  \n",
       "35               3      553.0  \n",
       "36               3      550.0  \n",
       "37               3      556.0  \n",
       "38               3      550.0  \n",
       "39               3      550.0  \n",
       "40               3     1750.0  \n",
       "41               3      550.0  \n",
       "42               3      550.0  \n",
       "43               3      750.0  \n",
       "44               3      550.0  \n",
       "45               3     1150.0  \n",
       "46               3      750.0  \n",
       "47               3      550.0  \n",
       "48               3      550.0  \n",
       "49               3      568.0  "
      ]
     },
     "execution_count": 56,
     "metadata": {},
     "output_type": "execute_result"
    }
   ],
   "source": [
    "new_df.head(50) # Проверим результат"
   ]
  },
  {
   "cell_type": "markdown",
   "metadata": {},
   "source": [
    "Вывод: Для анализа данных была создана единая таблица. Посчитано  для каждого пользователя колличество сделанных звонков, SMS и интернет-трафик в месяц. А так же посчитана и добавлена в единую таблицу выручку провайдера с каждого клиента в месяц."
   ]
  },
  {
   "cell_type": "markdown",
   "metadata": {},
   "source": [
    "## Анализ данных"
   ]
  },
  {
   "cell_type": "markdown",
   "metadata": {},
   "source": [
    "### Сколько минут / сообщений / трафика требуется пользователям каждого тарифа в месяц"
   ]
  },
  {
   "cell_type": "markdown",
   "metadata": {},
   "source": [
    "Создадим новый DataFrame, со срезом по тарифу `smart`"
   ]
  },
  {
   "cell_type": "code",
   "execution_count": 57,
   "metadata": {},
   "outputs": [],
   "source": [
    "tariff_smart = new_df.query('tariff==\"smart\"')"
   ]
  },
  {
   "cell_type": "markdown",
   "metadata": {},
   "source": [
    "Создадим новый DataFrame, со срезом по тарифу `ultra`"
   ]
  },
  {
   "cell_type": "code",
   "execution_count": 58,
   "metadata": {},
   "outputs": [],
   "source": [
    "tariff_ultra = new_df.query('tariff==\"ultra\"')"
   ]
  },
  {
   "cell_type": "code",
   "execution_count": 59,
   "metadata": {},
   "outputs": [
    {
     "data": {
      "text/plain": [
       "1950.0    851\n",
       "2250.0     21\n",
       "2400.0     18\n",
       "2550.0     13\n",
       "2100.0     12\n",
       "2700.0     10\n",
       "3000.0     10\n",
       "3300.0      9\n",
       "3150.0      9\n",
       "3750.0      9\n",
       "2850.0      7\n",
       "3900.0      6\n",
       "3450.0      4\n",
       "3600.0      2\n",
       "4200.0      1\n",
       "4650.0      1\n",
       "4050.0      1\n",
       "4800.0      1\n",
       "Name: total_sum, dtype: int64"
      ]
     },
     "execution_count": 59,
     "metadata": {},
     "output_type": "execute_result"
    }
   ],
   "source": [
    "tariff_ultra['total_sum'].value_counts()"
   ]
  },
  {
   "cell_type": "markdown",
   "metadata": {},
   "source": [
    "### Вычисления для тарифа smart"
   ]
  },
  {
   "cell_type": "markdown",
   "metadata": {},
   "source": [
    "Посчитаем дисперсию  и стандарт отклонение минут для тарифа smart:"
   ]
  },
  {
   "cell_type": "code",
   "execution_count": 60,
   "metadata": {},
   "outputs": [
    {
     "name": "stdout",
     "output_type": "stream",
     "text": [
      "среднее кол-во минут для smart: 0.0\n",
      "дисперсия минут для smart: 0.0\n",
      "стандарт отклонение минут для smart: 0.0\n"
     ]
    }
   ],
   "source": [
    "print('среднее кол-во минут для smart:', tariff_smart['duration'].mean())\n",
    "x=tariff_smart['duration']\n",
    "variance_smart_min = np.var(x, ddof=1) # ddof = 1, т.к. это выборка\n",
    "print('дисперсия минут для smart:', variance_smart_min)\n",
    "standart_smart_min = np.sqrt(variance_smart_min)\n",
    "print('стандарт отклонение минут для smart:', standart_smart_min)"
   ]
  },
  {
   "cell_type": "markdown",
   "metadata": {},
   "source": [
    "Построим гистограмму:"
   ]
  },
  {
   "cell_type": "code",
   "execution_count": 61,
   "metadata": {
    "scrolled": true
   },
   "outputs": [
    {
     "name": "stderr",
     "output_type": "stream",
     "text": [
      "/opt/conda/lib/python3.7/site-packages/statsmodels/nonparametric/kde.py:487: RuntimeWarning: invalid value encountered in true_divide\n",
      "  binned = fast_linbin(X, a, b, gridsize) / (delta * nobs)\n",
      "/opt/conda/lib/python3.7/site-packages/statsmodels/nonparametric/kdetools.py:34: RuntimeWarning: invalid value encountered in double_scalars\n",
      "  FAC1 = 2*(np.pi*bw/RANGE)**2\n"
     ]
    },
    {
     "data": {
      "image/png": "[encoded data removed]",
      "text/plain": [
       "<Figure size 432x288 with 1 Axes>"
      ]
     },
     "metadata": {
      "needs_background": "light"
     },
     "output_type": "display_data"
    }
   ],
   "source": [
    "sns.distplot(tariff_smart['duration'],bins=70); # гистограмма минут смарт"
   ]
  },
  {
   "cell_type": "markdown",
   "metadata": {},
   "source": [
    "По гистограмме можно сделать вывод о том, что пользователи расходуют от 0 до 1000 минут в месяц, далее кривая сливается с нулем. Пик графика наблюдаем на уровне 420 минут."
   ]
  },
  {
   "cell_type": "markdown",
   "metadata": {},
   "source": [
    "Посчитаем дисперсию  и стандарт отклонение для SMS тарифа `smart`:"
   ]
  },
  {
   "cell_type": "code",
   "execution_count": 62,
   "metadata": {
    "scrolled": true
   },
   "outputs": [
    {
     "name": "stdout",
     "output_type": "stream",
     "text": [
      "среднее кол-во смс для smart: 33.384028712427096\n",
      "дисперсия смс для smart: 796.8129584480083\n",
      "стандарт отклонение смс для smart: 28.22787555676141\n"
     ]
    }
   ],
   "source": [
    "print('среднее кол-во смс для smart:', tariff_smart['message_date'].mean())\n",
    "x=tariff_smart['message_date']\n",
    "variance_smart_sms = np.var(x, ddof=1) # ddof = 1, т.к. это выборка\n",
    "print('дисперсия смс для smart:', variance_smart_sms)\n",
    "standart_smart_sms = np.sqrt(variance_smart_sms)\n",
    "print('стандарт отклонение смс для smart:', standart_smart_sms)"
   ]
  },
  {
   "cell_type": "markdown",
   "metadata": {},
   "source": [
    "Построим гистограмму:"
   ]
  },
  {
   "cell_type": "code",
   "execution_count": 63,
   "metadata": {
    "scrolled": true
   },
   "outputs": [
    {
     "data": {
      "image/png": "[encoded data removed]",
      "text/plain": [
       "<Figure size 432x288 with 1 Axes>"
      ]
     },
     "metadata": {
      "needs_background": "light"
     },
     "output_type": "display_data"
    }
   ],
   "source": [
    "sns.distplot(tariff_smart['message_date'],bins=70); # гистограмма смс по месяцам смарт"
   ]
  },
  {
   "cell_type": "markdown",
   "metadata": {},
   "source": [
    "По гистограмме можно сделать вывод о том, что пользователи расходуют от 0 до 100 sms в месяц, далее линия сливается с нулем. Пик графика наблюдается на отметке 0 и 50."
   ]
  },
  {
   "cell_type": "markdown",
   "metadata": {},
   "source": [
    "Посчитаем дисперсию  и стандарт отклонение для траффика тарифа `smart`:"
   ]
  },
  {
   "cell_type": "code",
   "execution_count": 64,
   "metadata": {
    "scrolled": true
   },
   "outputs": [
    {
     "name": "stdout",
     "output_type": "stream",
     "text": [
      "среднее кол-во трафика в Гб для smart: 16.328847016599372\n",
      "дисперсия трафика для smart: 33.02870517811161\n",
      "стандарт отклонение трафика для smart: 5.7470605685090534\n"
     ]
    }
   ],
   "source": [
    "print('среднее кол-во трафика в Гб для smart:', tariff_smart['gb_used'].mean())\n",
    "x=tariff_smart['gb_used']\n",
    "variance_smart_traffic = np.var(x, ddof=1) # ddof = 1, т.к. это выборка\n",
    "print('дисперсия трафика для smart:', variance_smart_traffic)\n",
    "standart_smart_traffic = np.sqrt(variance_smart_traffic)\n",
    "print('стандарт отклонение трафика для smart:', standart_smart_traffic)"
   ]
  },
  {
   "cell_type": "markdown",
   "metadata": {},
   "source": [
    "Построим гистограмму:"
   ]
  },
  {
   "cell_type": "code",
   "execution_count": 65,
   "metadata": {
    "scrolled": true
   },
   "outputs": [
    {
     "data": {
      "image/png": "[encoded data removed]",
      "text/plain": [
       "<Figure size 432x288 with 1 Axes>"
      ]
     },
     "metadata": {
      "needs_background": "light"
     },
     "output_type": "display_data"
    }
   ],
   "source": [
    "sns.distplot(tariff_smart['gb_used'],bins=70); # гистограмма инэта по месяцам в среднем смарт"
   ]
  },
  {
   "cell_type": "markdown",
   "metadata": {},
   "source": [
    "Основной расход трафика приходится в диапазоне от 8 до 25 Gb за расчетный период. Пик наблюдаем на отметке в 16 Gb."
   ]
  },
  {
   "cell_type": "markdown",
   "metadata": {},
   "source": [
    "### Вычисления для тарифа ultra"
   ]
  },
  {
   "cell_type": "markdown",
   "metadata": {},
   "source": [
    "Посчитаем дисперсию  и стандарт отклонение для минут для тарифа `ultra`:"
   ]
  },
  {
   "cell_type": "code",
   "execution_count": 66,
   "metadata": {
    "scrolled": true
   },
   "outputs": [
    {
     "name": "stdout",
     "output_type": "stream",
     "text": [
      "среднее кол-во минут для ultra: 0.0\n",
      "дисперсия минут для ultra: 0.0\n",
      "стандарт отклонение минут для ultra: 0.0\n"
     ]
    }
   ],
   "source": [
    "print('среднее кол-во минут для ultra:', tariff_ultra['duration'].mean())\n",
    "x=tariff_ultra['duration']\n",
    "variance_ultra_min = np.var(x, ddof=1) # ddof = 1, т.к. это выборка\n",
    "print('дисперсия минут для ultra:', variance_ultra_min)\n",
    "standart_ultra_min = np.sqrt(variance_ultra_min)\n",
    "print('стандарт отклонение минут для ultra:', standart_ultra_min)"
   ]
  },
  {
   "cell_type": "markdown",
   "metadata": {},
   "source": [
    "Построим гитограмму:"
   ]
  },
  {
   "cell_type": "code",
   "execution_count": 67,
   "metadata": {
    "scrolled": true
   },
   "outputs": [
    {
     "data": {
      "image/png": "[encoded data removed]",
      "text/plain": [
       "<Figure size 1152x648 with 1 Axes>"
      ]
     },
     "metadata": {
      "needs_background": "light"
     },
     "output_type": "display_data"
    }
   ],
   "source": [
    "plt.figure(figsize=(16,9)) \n",
    "sns.set() \n",
    " \n",
    "sns.distplot(tariff_ultra[\"duration\"],color=\"m\",label=\"duration\",bins=70,)\n",
    " \n",
    "plt.title(\"Histogram of duration\") \n",
    "plt.legend();"
   ]
  },
  {
   "cell_type": "markdown",
   "metadata": {},
   "source": [
    "Наблюдаем звонки с нулевой продолжительностью. Это не ошибка: нулями обозначены пропущенные звонки. \n",
    "\n",
    "Среднемесячная продолжительность звонков наблюдается в диапазоне от 1 до 1300 минут. Пик находится на отметке в ~600 минут."
   ]
  },
  {
   "cell_type": "markdown",
   "metadata": {},
   "source": [
    "Посчитаем дисперсию и стандарт отклонение для SMS тарифа `ultra`:"
   ]
  },
  {
   "cell_type": "code",
   "execution_count": 68,
   "metadata": {
    "scrolled": true
   },
   "outputs": [
    {
     "name": "stdout",
     "output_type": "stream",
     "text": [
      "среднее кол-во смс для ultra: 49.36345177664975\n",
      "дисперсия смс для ultra: 2285.266142544674\n",
      "стандарт отклонение смс для ultra: 47.80445735017472\n"
     ]
    }
   ],
   "source": [
    "print('среднее кол-во смс для ultra:', tariff_ultra['message_date'].mean())\n",
    "x=tariff_ultra['message_date']\n",
    "variance_ultra_sms = np.var(x, ddof=1) # ddof = 1, т.к. это выборка\n",
    "print('дисперсия смс для ultra:', variance_ultra_sms)\n",
    "standart_ultra_sms = np.sqrt(variance_ultra_sms)\n",
    "print('стандарт отклонение смс для ultra:', standart_ultra_sms)"
   ]
  },
  {
   "cell_type": "markdown",
   "metadata": {},
   "source": [
    "Построим гистограмму:"
   ]
  },
  {
   "cell_type": "code",
   "execution_count": 69,
   "metadata": {
    "scrolled": true
   },
   "outputs": [
    {
     "data": {
      "image/png": "[encoded data removed]",
      "text/plain": [
       "<Figure size 1152x648 with 1 Axes>"
      ]
     },
     "metadata": {},
     "output_type": "display_data"
    }
   ],
   "source": [
    "plt.figure(figsize=(16,9)) \n",
    "sns.set() \n",
    " \n",
    "sns.distplot(tariff_ultra[\"message_date\"],color=\"purple\",label=\"message_date\",bins=70,)\n",
    " \n",
    "plt.title(\"Histogram of Message date\") \n",
    "plt.legend();"
   ]
  },
  {
   "cell_type": "markdown",
   "metadata": {},
   "source": [
    "По гистограмме можно сделать вывод о том, что многие пользователи не пользуются SMS сообщениями. Остальные расходуют от 1 до 150 sms в месяц, далее линия сливается с нулем. Пик графика наблюдается на отметке 0 и 60 SMS"
   ]
  },
  {
   "cell_type": "markdown",
   "metadata": {},
   "source": [
    "Посчитаем дисперсию и стандарт отклонение интернет-траффика для тарифа `ultra`:"
   ]
  },
  {
   "cell_type": "code",
   "execution_count": 70,
   "metadata": {
    "scrolled": true
   },
   "outputs": [
    {
     "name": "stdout",
     "output_type": "stream",
     "text": [
      "среднее кол-во трафика для ultra: 19.494416243654822\n",
      "дисперсия трафика для ultra: 97.09168626965459\n",
      "стандарт отклонение трафика для ultra: 9.853511367510293\n"
     ]
    }
   ],
   "source": [
    "print('среднее кол-во трафика для ultra:', tariff_ultra['gb_used'].mean())\n",
    "x=tariff_ultra['gb_used']\n",
    "variance_ultra_traffic = np.var(x, ddof=1) # ddof = 1, т.к. это выборка\n",
    "print('дисперсия трафика для ultra:', variance_ultra_traffic)\n",
    "standart_ultra_traffic = np.sqrt(variance_ultra_traffic)\n",
    "print('стандарт отклонение трафика для ultra:', standart_ultra_traffic)"
   ]
  },
  {
   "cell_type": "markdown",
   "metadata": {},
   "source": [
    "Построим гистограмму:"
   ]
  },
  {
   "cell_type": "code",
   "execution_count": 71,
   "metadata": {
    "scrolled": true
   },
   "outputs": [
    {
     "data": {
      "image/png": "[encoded data removed]",
      "text/plain": [
       "<Figure size 1152x648 with 1 Axes>"
      ]
     },
     "metadata": {},
     "output_type": "display_data"
    }
   ],
   "source": [
    "plt.figure(figsize=(16,9)) \n",
    "sns.set() \n",
    "\n",
    "\n",
    "sns.distplot(tariff_ultra[\"gb_used\"],color=\"chocolate\",label=\"gb_used\",bins=70,);\n",
    " \n",
    "plt.title(\"Histogram of gb used\") \n",
    "plt.legend(); # гистограмма траффика ultra"
   ]
  },
  {
   "cell_type": "markdown",
   "metadata": {},
   "source": [
    "Основной расход трафика приходится в диапазоне от 1 до 43 Gb за расчетный период. Пик наблюдаем на отметке в ~20 Gb."
   ]
  },
  {
   "cell_type": "markdown",
   "metadata": {},
   "source": [
    "Вывод: Пользователи тарифа `ultra` используют больше трафика, чем пользователи тарифа `smart`. Тем самым пользователи более дорогово тарифного плана, более заинтересованы в интернет-сёрфинге.\n",
    "\n",
    "Пользователи `smart` тарифа расходуют  меньшее минут разговоров и SMS в месяц, чем обладатели тарифа `ultra`. Найдя среднее для тарифа `smart` предположим, что в среднем пользователи ~20% имеют запас по минутам. Лимина на звонки в `ultra` достигает малое колличество клиентов."
   ]
  },
  {
   "cell_type": "code",
   "execution_count": 72,
   "metadata": {
    "scrolled": true
   },
   "outputs": [
    {
     "data": {
      "image/png": "[encoded data removed]",
      "text/plain": [
       "<Figure size 1152x648 with 1 Axes>"
      ]
     },
     "metadata": {},
     "output_type": "display_data"
    }
   ],
   "source": [
    "plt.figure(figsize=(16,9)) \n",
    "sns.set() \n",
    "sns.distplot(tariff_smart['gb_used'],bins=70, label='smart')\n",
    "\n",
    "sns.distplot(tariff_ultra[\"gb_used\"],color=\"chocolate\",label=\"ultra\",bins=70)\n",
    "\n",
    "plt.title(\"Histogram of gb used\") \n",
    "plt.legend(); # гистограмма траффика ultra"
   ]
  },
  {
   "cell_type": "markdown",
   "metadata": {},
   "source": [
    "##  Проверка гипотез"
   ]
  },
  {
   "cell_type": "markdown",
   "metadata": {},
   "source": [
    "### средняя выручка пользователей тарифов «Ультра» и «Смарт» различаются;"
   ]
  },
  {
   "cell_type": "markdown",
   "metadata": {},
   "source": [
    "Первым делом составим нулевую и альтернативную гипотезы. \n",
    "\n",
    "H₀(нулевая гипотеза) всегда формулируется так, что иcпользовать знак равенства(=)."
   ]
  },
  {
   "cell_type": "markdown",
   "metadata": {},
   "source": [
    " - H₀ - средняя выручка пользователей тарифов «Ультра» и «Смарт» равна\n",
    " - H₁ - средняя выручка пользователей тарифов «Ультра» и «Смарт» не равна"
   ]
  },
  {
   "cell_type": "markdown",
   "metadata": {},
   "source": [
    "Cравним дисперсии общей выручки для обоих тарифов:"
   ]
  },
  {
   "cell_type": "code",
   "execution_count": 73,
   "metadata": {},
   "outputs": [
    {
     "name": "stdout",
     "output_type": "stream",
     "text": [
      "Дисперсия суммы для smart: 548424.3134453383\n"
     ]
    }
   ],
   "source": [
    "x=tariff_smart['total_sum']\n",
    "variance_smart_sum = np.var(x, ddof=1) # ddof = 1, т.к. это выборка\n",
    "print('Дисперсия суммы для smart:', variance_smart_sum)"
   ]
  },
  {
   "cell_type": "code",
   "execution_count": 74,
   "metadata": {},
   "outputs": [
    {
     "name": "stdout",
     "output_type": "stream",
     "text": [
      "Дисперсия суммы для ultra: 141516.7450786183\n"
     ]
    }
   ],
   "source": [
    "x=tariff_ultra['total_sum']\n",
    "variance_ultra_sum = np.var(x, ddof=1) # ddof = 1, т.к. это выборка\n",
    "print('Дисперсия суммы для ultra:', variance_ultra_sum)"
   ]
  },
  {
   "cell_type": "markdown",
   "metadata": {},
   "source": [
    "equal_var - необязательный параметр, задающий считать ли равными дисперсии генеральных совокупностей, из которых были сформированы выборки.\n",
    "\n",
    "Т.к. дисперсии разные, значит параметр `equal_var = False` (не считать)"
   ]
  },
  {
   "cell_type": "code",
   "execution_count": 75,
   "metadata": {
    "scrolled": true
   },
   "outputs": [
    {
     "name": "stdout",
     "output_type": "stream",
     "text": [
      "p_значение 0.0\n",
      "Отвергаем H₀\n",
      "Средняя выручка с клиента для тарифа smart: 1165.0\n",
      "Средняя выручка с клиента для тарифа ultra: 2070.0\n"
     ]
    }
   ],
   "source": [
    "sample1 = tariff_smart['total_sum']\n",
    "sample2 = tariff_ultra['total_sum']\n",
    "alpha = 0.05\n",
    "results = st.ttest_ind(sample1, sample2, equal_var = False)\n",
    "print('p_значение', results.pvalue)\n",
    "if results.pvalue < alpha:\n",
    "    print('Отвергаем H₀')\n",
    "else:\n",
    "    print('Не получилось отвергнуть нулевую гипотезу')\n",
    "print('Средняя выручка с клиента для тарифа smart:',tariff_smart['total_sum'].mean().round(0))\n",
    "print('Средняя выручка с клиента для тарифа ultra:',tariff_ultra['total_sum'].mean().round(0))"
   ]
  },
  {
   "cell_type": "markdown",
   "metadata": {},
   "source": [
    "Отвергаем нулевую гипотезу о том, что средняя выручка между пользователями тарифа равна."
   ]
  },
  {
   "cell_type": "markdown",
   "metadata": {},
   "source": [
    "### средняя выручка пользователей из Москвы отличается от выручки пользователей из других регионов."
   ]
  },
  {
   "cell_type": "markdown",
   "metadata": {},
   "source": [
    " - H₀ - средняя выручка пользователей из Москвы не отличается от выручки пользователей из других регионов\n",
    " - H₁ - средняя выручка пользователей из Москвы отличается от выручки пользователей из других регионов"
   ]
  },
  {
   "cell_type": "code",
   "execution_count": 76,
   "metadata": {},
   "outputs": [
    {
     "name": "stdout",
     "output_type": "stream",
     "text": [
      "p_значение 0.2843727016644021\n",
      "Не получилось отвергнуть нулевую гипотезу\n",
      "Средняя выручка пользователей из Москвы: 1472.0\n",
      "Средняя выручка пользователей из дургих регионов: 1436.0\n"
     ]
    }
   ],
   "source": [
    "sample_1 = new_df[new_df['city']=='Москва']['total_sum']\n",
    "sample_2 = new_df[new_df['city']!='Москва']['total_sum']\n",
    "alpha = 0.05\n",
    "results = st.ttest_ind(sample_1, sample_2,equal_var=False)\n",
    "print('p_значение', results.pvalue)\n",
    "if results.pvalue < alpha:\n",
    "    print('Отвергаем H₀')\n",
    "else:\n",
    "    print('Не получилось отвергнуть нулевую гипотезу')\n",
    "print('Средняя выручка пользователей из Москвы:', sample_1.mean().round(0))\n",
    "print('Средняя выручка пользователей из дургих регионов:',sample_2.mean().round(0))"
   ]
  },
  {
   "cell_type": "markdown",
   "metadata": {},
   "source": [
    "Гипотезу о равенстве выручки между столицей и остальными городами, отвергаем. Значения практически равнозначны."
   ]
  },
  {
   "cell_type": "markdown",
   "metadata": {},
   "source": [
    "Вывод: Попадание или непопадание значения, посчитанного по выборке, в критический интервал - не повод считать, что наши гипотезы доказаны или нет. Иными словами, мы не принимаем H₀(нулевую гипотезу). Данные лишь могут дать нам основания отвергнуть(или нет) H₀.\n",
    "\n",
    "Для проверки гипотез, был выбран метод `scipy.stats.ttest_ind(array1,array2)`. Т.к. у нас есть основание полагать, что выборки взяты из схожих по параметрам совокупностей. А так же, нам нужен этот метод, для того, чтобы получить более точные результаты."
   ]
  },
  {
   "cell_type": "markdown",
   "metadata": {},
   "source": [
    "## Общий вывод"
   ]
  },
  {
   "cell_type": "markdown",
   "metadata": {},
   "source": [
    "Подведём итог:\n",
    "\n",
    "По итогу исследования было выяснено, что выручка между двумя тарифными планами различается, в пользу `ultra`. Но все пользователи примерно одинакого пользуются SMS-сообщениями. Клиенты с тарифом `smart` менее активно совершают звонки. Так же подробнее изучив веб-трафик, большинство потребителей тарифа `smart` стараются не выходить за рамки первоначального объёма предоставленного траффика (15 Gb). \n",
    "\n",
    "\n",
    " - Самым популярным является тариф `smart`\n",
    " - Самым прибыльным для компании является тариф `ultra` + обладатели этого тарифа, практически никогда не выговаривают минуты и СМС. Следовательно компания несет меньше затрат.\n",
    " \n",
    "Гипотеза о разницы выручки между столицей и регионами отвергнута. Следственно поведение клиентов \"Мегалайна\" - эквивалентны.\n",
    "\n",
    "**При работе с дасетом были выполнены следующие действия:**\n",
    "\n",
    "Предварительно изучив полученные данные, мы почти не выявили пропусков(кроме обоснованных). Заменять и удалять данные не пришлось за отсутствием необходимости.\n",
    "* После изучения приступили к предобработке и подготовке данных для дальнейшего исследования, а именно: привели даты в таблицах, где это необходимо к корректному формату, заменили типы с дробной частью на целочисленные так же, где это было необходимо.\n",
    "* Посчитали для каждого пользователя: количество сделанных звонков и израсходованных минут разговора по месяцам, количество отправленных сообщений по месяцам, объем израсходованного интернет-трафика по месяцам,помесячную выручку с каждого пользователя. Узнали, что многие пользователи используют не все типы связи, например в большинстве вместо SMS, используются бесплатные сервисамы обмена мгновенными сообщениями и голосовой связи.\n",
    "* Посчитали сколько в среднем минут разговора, сообщений и какой объём интернет-трафика требуется пользователям каждого тарифа в месяц. Тем самым узнали, что пользователи тарифа `ultra` используют больше трафика, чем пользователи тарифа `smart`. Пользователи более дорогого тарифного плана, больше заинтересованы в интернет-сёрфинге. Пользователи `smart` тарифа расходуют меньшее минут разговоров и SMS в месяц, чем обладатели тарифа `ultra`. Нашли среднее для тарифа `smart` предположим, что в среднем пользователи примерно 20%, имеют запас по минутам. Лимита на звонки в `ultra` достигает малое колличество клиентов.\n",
    "* И самое главное проверили гипотезы, что средняя выручка пользователей тарифов `ultra` и `smart` равна."
   ]
  }
 ],
 "metadata": {
  "ExecuteTimeLog": [
   {
    "duration": 88,
    "start_time": "2021-12-03T14:58:23.186Z"
   },
   {
    "duration": 1471,
    "start_time": "2021-12-03T15:10:40.275Z"
   },
   {
    "duration": 5,
    "start_time": "2021-12-03T15:12:10.043Z"
   },
   {
    "duration": 5,
    "start_time": "2021-12-03T15:15:04.459Z"
   },
   {
    "duration": 529,
    "start_time": "2021-12-03T16:10:32.029Z"
   },
   {
    "duration": 16,
    "start_time": "2021-12-03T16:19:16.317Z"
   },
   {
    "duration": 13,
    "start_time": "2021-12-03T16:19:24.823Z"
   },
   {
    "duration": 446,
    "start_time": "2021-12-03T16:19:59.022Z"
   },
   {
    "duration": 14,
    "start_time": "2021-12-03T16:20:04.630Z"
   },
   {
    "duration": 11,
    "start_time": "2021-12-03T16:20:15.936Z"
   },
   {
    "duration": 12,
    "start_time": "2021-12-03T16:20:22.437Z"
   },
   {
    "duration": 27,
    "start_time": "2021-12-03T16:20:37.312Z"
   },
   {
    "duration": 16,
    "start_time": "2021-12-03T16:22:50.371Z"
   },
   {
    "duration": 22,
    "start_time": "2021-12-03T16:33:46.367Z"
   },
   {
    "duration": 15,
    "start_time": "2021-12-03T16:34:10.506Z"
   },
   {
    "duration": 13,
    "start_time": "2021-12-03T16:35:28.873Z"
   },
   {
    "duration": 10,
    "start_time": "2021-12-03T16:41:47.157Z"
   },
   {
    "duration": 13,
    "start_time": "2021-12-03T16:52:42.575Z"
   },
   {
    "duration": 22,
    "start_time": "2021-12-03T16:54:40.835Z"
   },
   {
    "duration": 19,
    "start_time": "2021-12-03T16:56:06.577Z"
   },
   {
    "duration": 9,
    "start_time": "2021-12-03T17:12:48.357Z"
   },
   {
    "duration": 6,
    "start_time": "2021-12-03T17:22:06.256Z"
   },
   {
    "duration": 9,
    "start_time": "2021-12-03T17:23:33.149Z"
   },
   {
    "duration": 268,
    "start_time": "2021-12-03T17:25:46.596Z"
   },
   {
    "duration": 10,
    "start_time": "2021-12-03T17:25:59.401Z"
   },
   {
    "duration": 345,
    "start_time": "2021-12-04T10:02:17.268Z"
   },
   {
    "duration": 1281,
    "start_time": "2021-12-04T10:02:23.885Z"
   },
   {
    "duration": 439,
    "start_time": "2021-12-04T10:02:25.169Z"
   },
   {
    "duration": 14,
    "start_time": "2021-12-04T10:02:25.614Z"
   },
   {
    "duration": 11,
    "start_time": "2021-12-04T10:02:25.630Z"
   },
   {
    "duration": 21,
    "start_time": "2021-12-04T10:02:25.644Z"
   },
   {
    "duration": 15,
    "start_time": "2021-12-04T10:02:25.667Z"
   },
   {
    "duration": 9,
    "start_time": "2021-12-04T10:02:25.686Z"
   },
   {
    "duration": 16,
    "start_time": "2021-12-04T10:02:25.697Z"
   },
   {
    "duration": 6,
    "start_time": "2021-12-04T10:02:25.715Z"
   },
   {
    "duration": 23,
    "start_time": "2021-12-04T10:02:25.723Z"
   },
   {
    "duration": 8,
    "start_time": "2021-12-04T10:02:25.749Z"
   },
   {
    "duration": 32,
    "start_time": "2021-12-04T10:02:25.759Z"
   },
   {
    "duration": 1195,
    "start_time": "2021-12-04T10:05:08.497Z"
   },
   {
    "duration": 428,
    "start_time": "2021-12-04T10:05:09.693Z"
   },
   {
    "duration": 12,
    "start_time": "2021-12-04T10:05:10.123Z"
   },
   {
    "duration": 15,
    "start_time": "2021-12-04T10:05:10.137Z"
   },
   {
    "duration": 13,
    "start_time": "2021-12-04T10:05:10.154Z"
   },
   {
    "duration": 10,
    "start_time": "2021-12-04T10:05:10.169Z"
   },
   {
    "duration": 8,
    "start_time": "2021-12-04T10:05:10.181Z"
   },
   {
    "duration": 7,
    "start_time": "2021-12-04T10:05:10.191Z"
   },
   {
    "duration": 4,
    "start_time": "2021-12-04T10:05:10.200Z"
   },
   {
    "duration": 42,
    "start_time": "2021-12-04T10:05:10.206Z"
   },
   {
    "duration": 15,
    "start_time": "2021-12-04T10:05:10.250Z"
   },
   {
    "duration": 26,
    "start_time": "2021-12-04T10:05:10.267Z"
   },
   {
    "duration": 8,
    "start_time": "2021-12-04T10:11:55.703Z"
   },
   {
    "duration": 5,
    "start_time": "2021-12-04T10:12:19.320Z"
   },
   {
    "duration": 55,
    "start_time": "2021-12-04T10:13:04.209Z"
   },
   {
    "duration": 22,
    "start_time": "2021-12-04T10:13:41.158Z"
   },
   {
    "duration": 132,
    "start_time": "2021-12-04T10:14:23.855Z"
   },
   {
    "duration": 9,
    "start_time": "2021-12-04T10:20:06.175Z"
   },
   {
    "duration": 363,
    "start_time": "2021-12-04T10:25:32.756Z"
   },
   {
    "duration": 5,
    "start_time": "2021-12-04T10:26:32.659Z"
   },
   {
    "duration": 381,
    "start_time": "2021-12-04T10:27:03.750Z"
   },
   {
    "duration": 9,
    "start_time": "2021-12-04T10:28:17.483Z"
   },
   {
    "duration": 283,
    "start_time": "2021-12-04T10:28:33.396Z"
   },
   {
    "duration": 4,
    "start_time": "2021-12-04T10:29:37.199Z"
   },
   {
    "duration": 254,
    "start_time": "2021-12-04T10:33:06.764Z"
   },
   {
    "duration": 1201,
    "start_time": "2021-12-04T10:37:56.214Z"
   },
   {
    "duration": 107,
    "start_time": "2021-12-04T10:38:22.197Z"
   },
   {
    "duration": 10,
    "start_time": "2021-12-04T10:38:32.160Z"
   },
   {
    "duration": 175,
    "start_time": "2021-12-04T10:39:37.614Z"
   },
   {
    "duration": 10,
    "start_time": "2021-12-04T10:40:43.394Z"
   },
   {
    "duration": 6,
    "start_time": "2021-12-04T10:41:29.158Z"
   },
   {
    "duration": 1133,
    "start_time": "2021-12-04T10:48:48.470Z"
   },
   {
    "duration": 385,
    "start_time": "2021-12-04T10:48:49.605Z"
   },
   {
    "duration": 13,
    "start_time": "2021-12-04T10:48:49.992Z"
   },
   {
    "duration": 11,
    "start_time": "2021-12-04T10:48:50.007Z"
   },
   {
    "duration": 11,
    "start_time": "2021-12-04T10:48:50.019Z"
   },
   {
    "duration": 14,
    "start_time": "2021-12-04T10:48:50.031Z"
   },
   {
    "duration": 23,
    "start_time": "2021-12-04T10:48:50.047Z"
   },
   {
    "duration": 12,
    "start_time": "2021-12-04T10:48:50.073Z"
   },
   {
    "duration": 13,
    "start_time": "2021-12-04T10:48:50.088Z"
   },
   {
    "duration": 10,
    "start_time": "2021-12-04T10:48:50.102Z"
   },
   {
    "duration": 8,
    "start_time": "2021-12-04T10:48:50.114Z"
   },
   {
    "duration": 8,
    "start_time": "2021-12-04T10:48:50.124Z"
   },
   {
    "duration": 8,
    "start_time": "2021-12-04T10:48:50.144Z"
   },
   {
    "duration": 20,
    "start_time": "2021-12-04T10:48:50.154Z"
   },
   {
    "duration": 31,
    "start_time": "2021-12-04T10:48:50.176Z"
   },
   {
    "duration": 41,
    "start_time": "2021-12-04T10:48:50.209Z"
   },
   {
    "duration": 97,
    "start_time": "2021-12-04T10:48:50.252Z"
   },
   {
    "duration": 9,
    "start_time": "2021-12-04T10:48:50.351Z"
   },
   {
    "duration": 116,
    "start_time": "2021-12-04T10:48:50.362Z"
   },
   {
    "duration": 9,
    "start_time": "2021-12-04T10:48:50.480Z"
   },
   {
    "duration": 218,
    "start_time": "2021-12-04T10:48:50.490Z"
   },
   {
    "duration": 567,
    "start_time": "2021-12-04T10:49:04.242Z"
   },
   {
    "duration": 368,
    "start_time": "2021-12-04T10:49:29.246Z"
   },
   {
    "duration": 243,
    "start_time": "2021-12-04T10:49:53.409Z"
   },
   {
    "duration": 250,
    "start_time": "2021-12-04T10:49:57.683Z"
   },
   {
    "duration": 273,
    "start_time": "2021-12-04T10:50:01.628Z"
   },
   {
    "duration": 249,
    "start_time": "2021-12-04T10:50:05.763Z"
   },
   {
    "duration": 316,
    "start_time": "2021-12-04T10:50:12.981Z"
   },
   {
    "duration": 259,
    "start_time": "2021-12-04T10:50:16.706Z"
   },
   {
    "duration": 238,
    "start_time": "2021-12-04T10:50:30.015Z"
   },
   {
    "duration": 254,
    "start_time": "2021-12-04T10:50:35.428Z"
   },
   {
    "duration": 247,
    "start_time": "2021-12-04T10:51:09.052Z"
   },
   {
    "duration": 289,
    "start_time": "2021-12-04T10:52:04.055Z"
   },
   {
    "duration": 275,
    "start_time": "2021-12-04T10:52:08.205Z"
   },
   {
    "duration": 255,
    "start_time": "2021-12-04T10:52:19.275Z"
   },
   {
    "duration": 572,
    "start_time": "2021-12-04T10:59:53.318Z"
   },
   {
    "duration": 18,
    "start_time": "2021-12-04T10:59:56.073Z"
   },
   {
    "duration": 260,
    "start_time": "2021-12-04T11:00:14.165Z"
   },
   {
    "duration": 8,
    "start_time": "2021-12-04T11:00:18.124Z"
   },
   {
    "duration": 22,
    "start_time": "2021-12-04T11:03:14.814Z"
   },
   {
    "duration": 13,
    "start_time": "2021-12-04T11:04:53.161Z"
   },
   {
    "duration": 4,
    "start_time": "2021-12-04T11:08:12.487Z"
   },
   {
    "duration": 67,
    "start_time": "2021-12-04T11:08:50.740Z"
   },
   {
    "duration": 13,
    "start_time": "2021-12-04T11:09:08.405Z"
   },
   {
    "duration": 9,
    "start_time": "2021-12-04T11:09:15.264Z"
   },
   {
    "duration": 9,
    "start_time": "2021-12-04T11:11:53.350Z"
   },
   {
    "duration": 227,
    "start_time": "2021-12-04T11:14:40.412Z"
   },
   {
    "duration": 28,
    "start_time": "2021-12-04T12:42:07.152Z"
   },
   {
    "duration": 274,
    "start_time": "2021-12-04T12:42:17.537Z"
   },
   {
    "duration": 8,
    "start_time": "2021-12-04T12:42:22.093Z"
   },
   {
    "duration": 10,
    "start_time": "2021-12-04T12:43:45.538Z"
   },
   {
    "duration": 23,
    "start_time": "2021-12-04T12:44:13.836Z"
   },
   {
    "duration": 174,
    "start_time": "2021-12-04T12:44:23.686Z"
   },
   {
    "duration": 267,
    "start_time": "2021-12-04T12:44:47.117Z"
   },
   {
    "duration": 54,
    "start_time": "2021-12-04T12:44:51.800Z"
   },
   {
    "duration": 277,
    "start_time": "2021-12-04T12:45:58.106Z"
   },
   {
    "duration": 10,
    "start_time": "2021-12-04T12:46:03.192Z"
   },
   {
    "duration": 8,
    "start_time": "2021-12-04T12:46:41.520Z"
   },
   {
    "duration": 13,
    "start_time": "2021-12-04T12:48:36.081Z"
   },
   {
    "duration": 24,
    "start_time": "2021-12-04T13:00:47.325Z"
   },
   {
    "duration": 10,
    "start_time": "2021-12-04T13:00:53.882Z"
   },
   {
    "duration": 15,
    "start_time": "2021-12-04T13:05:20.032Z"
   },
   {
    "duration": 14,
    "start_time": "2021-12-04T13:05:27.282Z"
   },
   {
    "duration": 15,
    "start_time": "2021-12-04T13:09:06.830Z"
   },
   {
    "duration": 15,
    "start_time": "2021-12-04T13:09:23.903Z"
   },
   {
    "duration": 11,
    "start_time": "2021-12-04T13:09:47.481Z"
   },
   {
    "duration": 6,
    "start_time": "2021-12-04T13:09:52.424Z"
   },
   {
    "duration": 7,
    "start_time": "2021-12-04T13:09:58.702Z"
   },
   {
    "duration": 7,
    "start_time": "2021-12-04T13:10:03.016Z"
   },
   {
    "duration": 10,
    "start_time": "2021-12-04T13:10:14.908Z"
   },
   {
    "duration": 4,
    "start_time": "2021-12-04T13:28:39.818Z"
   },
   {
    "duration": 352,
    "start_time": "2021-12-04T13:28:58.523Z"
   },
   {
    "duration": 50,
    "start_time": "2021-12-04T13:29:26.493Z"
   },
   {
    "duration": 18,
    "start_time": "2021-12-04T13:29:33.993Z"
   },
   {
    "duration": 51,
    "start_time": "2021-12-04T13:31:01.222Z"
   },
   {
    "duration": 26,
    "start_time": "2021-12-04T13:31:04.168Z"
   },
   {
    "duration": 3,
    "start_time": "2021-12-04T13:31:10.136Z"
   },
   {
    "duration": 44,
    "start_time": "2021-12-04T13:31:12.015Z"
   },
   {
    "duration": 7,
    "start_time": "2021-12-04T13:31:13.837Z"
   },
   {
    "duration": 7,
    "start_time": "2021-12-04T13:31:18.021Z"
   },
   {
    "duration": 6,
    "start_time": "2021-12-04T13:31:26.637Z"
   },
   {
    "duration": 34,
    "start_time": "2021-12-04T13:31:46.700Z"
   },
   {
    "duration": 6,
    "start_time": "2021-12-04T13:31:48.271Z"
   },
   {
    "duration": 43,
    "start_time": "2021-12-04T13:31:55.684Z"
   },
   {
    "duration": 3,
    "start_time": "2021-12-04T13:31:57.968Z"
   },
   {
    "duration": 39,
    "start_time": "2021-12-04T13:31:59.842Z"
   },
   {
    "duration": 17,
    "start_time": "2021-12-04T13:32:02.927Z"
   },
   {
    "duration": 1195,
    "start_time": "2021-12-04T13:32:16.144Z"
   },
   {
    "duration": 401,
    "start_time": "2021-12-04T13:32:17.341Z"
   },
   {
    "duration": 20,
    "start_time": "2021-12-04T13:32:17.744Z"
   },
   {
    "duration": 12,
    "start_time": "2021-12-04T13:32:17.766Z"
   },
   {
    "duration": 25,
    "start_time": "2021-12-04T13:32:17.780Z"
   },
   {
    "duration": 19,
    "start_time": "2021-12-04T13:32:17.806Z"
   },
   {
    "duration": 7,
    "start_time": "2021-12-04T13:32:17.827Z"
   },
   {
    "duration": 16,
    "start_time": "2021-12-04T13:32:17.837Z"
   },
   {
    "duration": 8,
    "start_time": "2021-12-04T13:32:17.856Z"
   },
   {
    "duration": 11,
    "start_time": "2021-12-04T13:32:17.866Z"
   },
   {
    "duration": 6,
    "start_time": "2021-12-04T13:32:17.879Z"
   },
   {
    "duration": 9,
    "start_time": "2021-12-04T13:32:17.887Z"
   },
   {
    "duration": 8,
    "start_time": "2021-12-04T13:32:17.898Z"
   },
   {
    "duration": 45,
    "start_time": "2021-12-04T13:32:17.908Z"
   },
   {
    "duration": 23,
    "start_time": "2021-12-04T13:32:17.956Z"
   },
   {
    "duration": 33,
    "start_time": "2021-12-04T13:32:17.981Z"
   },
   {
    "duration": 49,
    "start_time": "2021-12-04T13:32:18.016Z"
   },
   {
    "duration": 108,
    "start_time": "2021-12-04T13:32:18.067Z"
   },
   {
    "duration": 9,
    "start_time": "2021-12-04T13:32:18.176Z"
   },
   {
    "duration": 113,
    "start_time": "2021-12-04T13:32:18.186Z"
   },
   {
    "duration": 9,
    "start_time": "2021-12-04T13:32:18.300Z"
   },
   {
    "duration": 284,
    "start_time": "2021-12-04T13:32:18.311Z"
   },
   {
    "duration": 16,
    "start_time": "2021-12-04T13:32:18.598Z"
   },
   {
    "duration": 8,
    "start_time": "2021-12-04T13:32:18.616Z"
   },
   {
    "duration": 43,
    "start_time": "2021-12-04T13:32:18.625Z"
   },
   {
    "duration": 75,
    "start_time": "2021-12-04T13:32:18.670Z"
   },
   {
    "duration": 12,
    "start_time": "2021-12-04T13:32:18.748Z"
   },
   {
    "duration": 273,
    "start_time": "2021-12-04T13:32:18.762Z"
   },
   {
    "duration": 27,
    "start_time": "2021-12-04T13:32:19.037Z"
   },
   {
    "duration": 30,
    "start_time": "2021-12-04T13:32:19.066Z"
   },
   {
    "duration": 26,
    "start_time": "2021-12-04T13:32:19.098Z"
   },
   {
    "duration": 58,
    "start_time": "2021-12-04T13:32:19.125Z"
   },
   {
    "duration": 7,
    "start_time": "2021-12-04T13:32:19.185Z"
   },
   {
    "duration": 26,
    "start_time": "2021-12-04T13:32:19.194Z"
   },
   {
    "duration": 33,
    "start_time": "2021-12-04T13:32:19.222Z"
   },
   {
    "duration": 153,
    "start_time": "2021-12-04T13:32:19.257Z"
   },
   {
    "duration": 3988,
    "start_time": "2021-12-04T13:32:15.424Z"
   },
   {
    "duration": 3940,
    "start_time": "2021-12-04T13:32:15.474Z"
   },
   {
    "duration": 3911,
    "start_time": "2021-12-04T13:32:15.504Z"
   },
   {
    "duration": 3884,
    "start_time": "2021-12-04T13:32:15.533Z"
   },
   {
    "duration": 9,
    "start_time": "2021-12-04T13:33:34.018Z"
   },
   {
    "duration": 4,
    "start_time": "2021-12-04T13:33:36.055Z"
   },
   {
    "duration": 54,
    "start_time": "2021-12-04T13:33:37.933Z"
   },
   {
    "duration": 18,
    "start_time": "2021-12-04T13:33:39.499Z"
   },
   {
    "duration": 364,
    "start_time": "2021-12-04T16:22:21.059Z"
   },
   {
    "duration": 4,
    "start_time": "2021-12-04T16:22:28.348Z"
   },
   {
    "duration": 282,
    "start_time": "2021-12-04T16:22:33.155Z"
   },
   {
    "duration": 1538,
    "start_time": "2021-12-04T16:22:42.972Z"
   },
   {
    "duration": 506,
    "start_time": "2021-12-04T16:22:44.513Z"
   },
   {
    "duration": 20,
    "start_time": "2021-12-04T16:22:45.023Z"
   },
   {
    "duration": 16,
    "start_time": "2021-12-04T16:22:45.047Z"
   },
   {
    "duration": 15,
    "start_time": "2021-12-04T16:22:45.066Z"
   },
   {
    "duration": 45,
    "start_time": "2021-12-04T16:22:45.084Z"
   },
   {
    "duration": 13,
    "start_time": "2021-12-04T16:22:45.132Z"
   },
   {
    "duration": 16,
    "start_time": "2021-12-04T16:22:45.151Z"
   },
   {
    "duration": 11,
    "start_time": "2021-12-04T16:22:45.170Z"
   },
   {
    "duration": 57,
    "start_time": "2021-12-04T16:22:45.183Z"
   },
   {
    "duration": 8,
    "start_time": "2021-12-04T16:22:45.242Z"
   },
   {
    "duration": 12,
    "start_time": "2021-12-04T16:22:45.252Z"
   },
   {
    "duration": 11,
    "start_time": "2021-12-04T16:22:45.266Z"
   },
   {
    "duration": 57,
    "start_time": "2021-12-04T16:22:45.280Z"
   },
   {
    "duration": 28,
    "start_time": "2021-12-04T16:22:45.339Z"
   },
   {
    "duration": 68,
    "start_time": "2021-12-04T16:22:45.369Z"
   },
   {
    "duration": 20,
    "start_time": "2021-12-04T16:22:45.439Z"
   },
   {
    "duration": 151,
    "start_time": "2021-12-04T16:22:45.461Z"
   },
   {
    "duration": 17,
    "start_time": "2021-12-04T16:22:45.614Z"
   },
   {
    "duration": 155,
    "start_time": "2021-12-04T16:22:45.633Z"
   },
   {
    "duration": 11,
    "start_time": "2021-12-04T16:22:45.791Z"
   },
   {
    "duration": 447,
    "start_time": "2021-12-04T16:22:45.804Z"
   },
   {
    "duration": 24,
    "start_time": "2021-12-04T16:22:46.256Z"
   },
   {
    "duration": 12,
    "start_time": "2021-12-04T16:22:46.284Z"
   },
   {
    "duration": 29,
    "start_time": "2021-12-04T16:22:46.330Z"
   },
   {
    "duration": 118,
    "start_time": "2021-12-04T16:22:46.361Z"
   },
   {
    "duration": 11,
    "start_time": "2021-12-04T16:22:46.482Z"
   },
   {
    "duration": 424,
    "start_time": "2021-12-04T16:22:46.496Z"
   },
   {
    "duration": 24,
    "start_time": "2021-12-04T16:22:46.922Z"
   },
   {
    "duration": 18,
    "start_time": "2021-12-04T16:22:46.949Z"
   },
   {
    "duration": 24,
    "start_time": "2021-12-04T16:22:46.969Z"
   },
   {
    "duration": 83,
    "start_time": "2021-12-04T16:22:46.995Z"
   },
   {
    "duration": 8,
    "start_time": "2021-12-04T16:22:47.081Z"
   },
   {
    "duration": 60,
    "start_time": "2021-12-04T16:22:47.091Z"
   },
   {
    "duration": 12,
    "start_time": "2021-12-04T16:22:47.153Z"
   },
   {
    "duration": 15,
    "start_time": "2021-12-04T16:22:47.167Z"
   },
   {
    "duration": 13,
    "start_time": "2021-12-04T16:22:47.184Z"
   },
   {
    "duration": 33,
    "start_time": "2021-12-04T16:22:47.199Z"
   },
   {
    "duration": 73,
    "start_time": "2021-12-04T16:22:47.235Z"
   },
   {
    "duration": 41,
    "start_time": "2021-12-04T16:22:47.311Z"
   },
   {
    "duration": 107,
    "start_time": "2021-12-04T16:22:47.354Z"
   },
   {
    "duration": 23,
    "start_time": "2021-12-04T16:22:56.083Z"
   },
   {
    "duration": 55,
    "start_time": "2021-12-04T16:23:50.973Z"
   },
   {
    "duration": 77,
    "start_time": "2021-12-04T16:24:44.127Z"
   },
   {
    "duration": 74,
    "start_time": "2021-12-04T16:27:23.811Z"
   },
   {
    "duration": 77,
    "start_time": "2021-12-04T16:28:37.384Z"
   },
   {
    "duration": 53,
    "start_time": "2021-12-04T16:29:54.053Z"
   },
   {
    "duration": 5,
    "start_time": "2021-12-04T16:29:56.586Z"
   },
   {
    "duration": 53,
    "start_time": "2021-12-04T16:29:59.120Z"
   },
   {
    "duration": 10,
    "start_time": "2021-12-04T16:30:02.905Z"
   },
   {
    "duration": 1465,
    "start_time": "2021-12-04T16:30:21.838Z"
   },
   {
    "duration": 556,
    "start_time": "2021-12-04T16:30:23.306Z"
   },
   {
    "duration": 21,
    "start_time": "2021-12-04T16:30:23.865Z"
   },
   {
    "duration": 22,
    "start_time": "2021-12-04T16:30:23.889Z"
   },
   {
    "duration": 18,
    "start_time": "2021-12-04T16:30:23.913Z"
   },
   {
    "duration": 13,
    "start_time": "2021-12-04T16:30:23.933Z"
   },
   {
    "duration": 15,
    "start_time": "2021-12-04T16:30:23.948Z"
   },
   {
    "duration": 14,
    "start_time": "2021-12-04T16:30:23.967Z"
   },
   {
    "duration": 10,
    "start_time": "2021-12-04T16:30:23.984Z"
   },
   {
    "duration": 10,
    "start_time": "2021-12-04T16:30:24.028Z"
   },
   {
    "duration": 9,
    "start_time": "2021-12-04T16:30:24.040Z"
   },
   {
    "duration": 17,
    "start_time": "2021-12-04T16:30:24.052Z"
   },
   {
    "duration": 10,
    "start_time": "2021-12-04T16:30:24.072Z"
   },
   {
    "duration": 11,
    "start_time": "2021-12-04T16:30:24.085Z"
   },
   {
    "duration": 27,
    "start_time": "2021-12-04T16:30:24.130Z"
   },
   {
    "duration": 46,
    "start_time": "2021-12-04T16:30:24.160Z"
   },
   {
    "duration": 21,
    "start_time": "2021-12-04T16:30:24.229Z"
   },
   {
    "duration": 151,
    "start_time": "2021-12-04T16:30:24.253Z"
   },
   {
    "duration": 21,
    "start_time": "2021-12-04T16:30:24.407Z"
   },
   {
    "duration": 150,
    "start_time": "2021-12-04T16:30:24.431Z"
   },
   {
    "duration": 12,
    "start_time": "2021-12-04T16:30:24.583Z"
   },
   {
    "duration": 439,
    "start_time": "2021-12-04T16:30:24.597Z"
   },
   {
    "duration": 22,
    "start_time": "2021-12-04T16:30:25.041Z"
   },
   {
    "duration": 13,
    "start_time": "2021-12-04T16:30:25.066Z"
   },
   {
    "duration": 60,
    "start_time": "2021-12-04T16:30:25.081Z"
   },
   {
    "duration": 105,
    "start_time": "2021-12-04T16:30:25.143Z"
   },
   {
    "duration": 12,
    "start_time": "2021-12-04T16:30:25.250Z"
   },
   {
    "duration": 401,
    "start_time": "2021-12-04T16:30:25.265Z"
   },
   {
    "duration": 20,
    "start_time": "2021-12-04T16:30:25.668Z"
   },
   {
    "duration": 44,
    "start_time": "2021-12-04T16:30:25.690Z"
   },
   {
    "duration": 26,
    "start_time": "2021-12-04T16:30:25.736Z"
   },
   {
    "duration": 83,
    "start_time": "2021-12-04T16:30:25.765Z"
   },
   {
    "duration": 9,
    "start_time": "2021-12-04T16:30:25.851Z"
   },
   {
    "duration": 34,
    "start_time": "2021-12-04T16:30:25.863Z"
   },
   {
    "duration": 39,
    "start_time": "2021-12-04T16:30:25.900Z"
   },
   {
    "duration": 18,
    "start_time": "2021-12-04T16:30:25.942Z"
   },
   {
    "duration": 14,
    "start_time": "2021-12-04T16:30:25.963Z"
   },
   {
    "duration": 4,
    "start_time": "2021-12-04T16:30:25.980Z"
   },
   {
    "duration": 111,
    "start_time": "2021-12-04T16:30:25.987Z"
   },
   {
    "duration": 39,
    "start_time": "2021-12-04T16:30:26.100Z"
   },
   {
    "duration": 86,
    "start_time": "2021-12-04T16:30:26.142Z"
   },
   {
    "duration": 114,
    "start_time": "2021-12-04T16:32:43.830Z"
   },
   {
    "duration": 11,
    "start_time": "2021-12-04T16:34:04.530Z"
   },
   {
    "duration": 910,
    "start_time": "2021-12-04T16:35:47.951Z"
   },
   {
    "duration": 8062,
    "start_time": "2021-12-04T16:36:23.849Z"
   },
   {
    "duration": 17,
    "start_time": "2021-12-04T16:37:09.789Z"
   },
   {
    "duration": 1487,
    "start_time": "2021-12-04T16:37:22.918Z"
   },
   {
    "duration": 523,
    "start_time": "2021-12-04T16:37:24.409Z"
   },
   {
    "duration": 20,
    "start_time": "2021-12-04T16:37:24.935Z"
   },
   {
    "duration": 15,
    "start_time": "2021-12-04T16:37:24.958Z"
   },
   {
    "duration": 23,
    "start_time": "2021-12-04T16:37:24.975Z"
   },
   {
    "duration": 33,
    "start_time": "2021-12-04T16:37:25.001Z"
   },
   {
    "duration": 13,
    "start_time": "2021-12-04T16:37:25.037Z"
   },
   {
    "duration": 16,
    "start_time": "2021-12-04T16:37:25.054Z"
   },
   {
    "duration": 9,
    "start_time": "2021-12-04T16:37:25.073Z"
   },
   {
    "duration": 46,
    "start_time": "2021-12-04T16:37:25.085Z"
   },
   {
    "duration": 17,
    "start_time": "2021-12-04T16:37:25.133Z"
   },
   {
    "duration": 10,
    "start_time": "2021-12-04T16:37:25.153Z"
   },
   {
    "duration": 8,
    "start_time": "2021-12-04T16:37:25.166Z"
   },
   {
    "duration": 11,
    "start_time": "2021-12-04T16:37:25.176Z"
   },
   {
    "duration": 59,
    "start_time": "2021-12-04T16:37:25.190Z"
   },
   {
    "duration": 45,
    "start_time": "2021-12-04T16:37:25.251Z"
   },
   {
    "duration": 37,
    "start_time": "2021-12-04T16:37:25.299Z"
   },
   {
    "duration": 143,
    "start_time": "2021-12-04T16:37:25.338Z"
   },
   {
    "duration": 11,
    "start_time": "2021-12-04T16:37:25.483Z"
   },
   {
    "duration": 160,
    "start_time": "2021-12-04T16:37:25.496Z"
   },
   {
    "duration": 11,
    "start_time": "2021-12-04T16:37:25.658Z"
   },
   {
    "duration": 434,
    "start_time": "2021-12-04T16:37:25.672Z"
   },
   {
    "duration": 32,
    "start_time": "2021-12-04T16:37:26.111Z"
   },
   {
    "duration": 11,
    "start_time": "2021-12-04T16:37:26.146Z"
   },
   {
    "duration": 28,
    "start_time": "2021-12-04T16:37:26.160Z"
   },
   {
    "duration": 129,
    "start_time": "2021-12-04T16:37:26.190Z"
   },
   {
    "duration": 17,
    "start_time": "2021-12-04T16:37:26.321Z"
   },
   {
    "duration": 408,
    "start_time": "2021-12-04T16:37:26.341Z"
   },
   {
    "duration": 20,
    "start_time": "2021-12-04T16:37:26.752Z"
   },
   {
    "duration": 19,
    "start_time": "2021-12-04T16:37:26.774Z"
   },
   {
    "duration": 52,
    "start_time": "2021-12-04T16:37:26.796Z"
   },
   {
    "duration": 60,
    "start_time": "2021-12-04T16:37:26.850Z"
   },
   {
    "duration": 21,
    "start_time": "2021-12-04T16:37:26.913Z"
   },
   {
    "duration": 34,
    "start_time": "2021-12-04T16:37:26.937Z"
   },
   {
    "duration": 12,
    "start_time": "2021-12-04T16:37:26.973Z"
   },
   {
    "duration": 51,
    "start_time": "2021-12-04T16:37:26.988Z"
   },
   {
    "duration": 13,
    "start_time": "2021-12-04T16:37:27.042Z"
   },
   {
    "duration": 5,
    "start_time": "2021-12-04T16:37:27.057Z"
   },
   {
    "duration": 104,
    "start_time": "2021-12-04T16:37:27.064Z"
   },
   {
    "duration": 21,
    "start_time": "2021-12-04T16:37:27.171Z"
   },
   {
    "duration": 87,
    "start_time": "2021-12-04T16:37:27.194Z"
   },
   {
    "duration": 7272,
    "start_time": "2021-12-04T16:37:27.283Z"
   },
   {
    "duration": 4224,
    "start_time": "2021-12-04T16:37:30.333Z"
   },
   {
    "duration": 4192,
    "start_time": "2021-12-04T16:37:30.367Z"
   },
   {
    "duration": 7802,
    "start_time": "2021-12-04T16:38:56.162Z"
   },
   {
    "duration": 8559,
    "start_time": "2021-12-04T16:39:52.229Z"
   },
   {
    "duration": 13,
    "start_time": "2021-12-04T16:40:22.219Z"
   },
   {
    "duration": 37,
    "start_time": "2021-12-04T16:40:38.075Z"
   },
   {
    "duration": 17,
    "start_time": "2021-12-04T16:40:52.017Z"
   },
   {
    "duration": 28,
    "start_time": "2021-12-04T16:41:40.531Z"
   },
   {
    "duration": 55,
    "start_time": "2021-12-04T16:41:50.613Z"
   },
   {
    "duration": 22,
    "start_time": "2021-12-04T16:42:00.156Z"
   },
   {
    "duration": 13,
    "start_time": "2021-12-04T16:42:21.852Z"
   },
   {
    "duration": 600,
    "start_time": "2021-12-04T16:42:28.338Z"
   },
   {
    "duration": 50,
    "start_time": "2021-12-04T16:42:42.477Z"
   },
   {
    "duration": 55,
    "start_time": "2021-12-04T16:46:03.159Z"
   },
   {
    "duration": 12,
    "start_time": "2021-12-04T16:46:16.339Z"
   },
   {
    "duration": 33,
    "start_time": "2021-12-04T16:50:44.154Z"
   },
   {
    "duration": 13,
    "start_time": "2021-12-04T16:50:52.953Z"
   },
   {
    "duration": 721,
    "start_time": "2021-12-04T16:54:03.437Z"
   },
   {
    "duration": 723,
    "start_time": "2021-12-04T16:54:17.471Z"
   },
   {
    "duration": 68,
    "start_time": "2021-12-04T16:54:58.466Z"
   },
   {
    "duration": 98,
    "start_time": "2021-12-04T17:00:38.925Z"
   },
   {
    "duration": 107,
    "start_time": "2021-12-04T17:00:50.029Z"
   },
   {
    "duration": 90,
    "start_time": "2021-12-04T17:01:33.396Z"
   },
   {
    "duration": 4,
    "start_time": "2021-12-04T17:01:55.983Z"
   },
   {
    "duration": 1184,
    "start_time": "2021-12-04T17:03:22.121Z"
   },
   {
    "duration": 5,
    "start_time": "2021-12-04T17:03:38.715Z"
   },
   {
    "duration": 9,
    "start_time": "2021-12-04T17:03:42.901Z"
   },
   {
    "duration": 27,
    "start_time": "2021-12-04T17:04:07.435Z"
   },
   {
    "duration": 5,
    "start_time": "2021-12-04T17:04:14.252Z"
   },
   {
    "duration": 7,
    "start_time": "2021-12-04T17:04:16.864Z"
   },
   {
    "duration": 3860,
    "start_time": "2021-12-04T17:04:33.308Z"
   },
   {
    "duration": 4249,
    "start_time": "2021-12-04T17:04:32.922Z"
   },
   {
    "duration": 118,
    "start_time": "2021-12-04T17:10:08.054Z"
   },
   {
    "duration": 103,
    "start_time": "2021-12-04T17:10:21.653Z"
   },
   {
    "duration": 89,
    "start_time": "2021-12-04T17:10:43.532Z"
   },
   {
    "duration": 4,
    "start_time": "2021-12-04T17:10:52.765Z"
   },
   {
    "duration": 1451,
    "start_time": "2021-12-04T17:11:12.006Z"
   },
   {
    "duration": 4,
    "start_time": "2021-12-04T17:11:29.718Z"
   },
   {
    "duration": 1385,
    "start_time": "2021-12-04T17:11:32.508Z"
   },
   {
    "duration": 7063,
    "start_time": "2021-12-04T17:13:06.451Z"
   },
   {
    "duration": 282,
    "start_time": "2021-12-04T17:17:07.501Z"
   },
   {
    "duration": 4,
    "start_time": "2021-12-04T17:17:11.309Z"
   },
   {
    "duration": 1197,
    "start_time": "2021-12-04T17:17:13.344Z"
   },
   {
    "duration": 289,
    "start_time": "2021-12-04T17:22:17.713Z"
   },
   {
    "duration": 581,
    "start_time": "2021-12-04T17:22:27.917Z"
   },
   {
    "duration": 4,
    "start_time": "2021-12-04T17:23:14.435Z"
   },
   {
    "duration": 361,
    "start_time": "2021-12-04T17:23:16.467Z"
   },
   {
    "duration": 11,
    "start_time": "2021-12-04T17:23:31.658Z"
   },
   {
    "duration": 7,
    "start_time": "2021-12-04T17:23:40.451Z"
   },
   {
    "duration": 8846,
    "start_time": "2021-12-04T17:23:57.445Z"
   },
   {
    "duration": 8050,
    "start_time": "2021-12-04T17:24:10.960Z"
   },
   {
    "duration": 4,
    "start_time": "2021-12-04T17:26:18.855Z"
   },
   {
    "duration": 56,
    "start_time": "2021-12-04T17:26:40.743Z"
   },
   {
    "duration": 8,
    "start_time": "2021-12-04T17:26:43.555Z"
   },
   {
    "duration": 3839,
    "start_time": "2021-12-04T17:27:35.933Z"
   },
   {
    "duration": 3711,
    "start_time": "2021-12-04T17:27:58.790Z"
   },
   {
    "duration": 302,
    "start_time": "2021-12-04T17:36:34.710Z"
   },
   {
    "duration": 274,
    "start_time": "2021-12-04T17:36:39.311Z"
   },
   {
    "duration": 1152,
    "start_time": "2021-12-05T09:31:53.239Z"
   },
   {
    "duration": 391,
    "start_time": "2021-12-05T09:31:54.393Z"
   },
   {
    "duration": 15,
    "start_time": "2021-12-05T09:31:54.787Z"
   },
   {
    "duration": 20,
    "start_time": "2021-12-05T09:31:54.804Z"
   },
   {
    "duration": 19,
    "start_time": "2021-12-05T09:31:54.826Z"
   },
   {
    "duration": 28,
    "start_time": "2021-12-05T09:31:54.847Z"
   },
   {
    "duration": 33,
    "start_time": "2021-12-05T09:31:54.877Z"
   },
   {
    "duration": 35,
    "start_time": "2021-12-05T09:31:54.912Z"
   },
   {
    "duration": 21,
    "start_time": "2021-12-05T09:31:54.951Z"
   },
   {
    "duration": 21,
    "start_time": "2021-12-05T09:31:54.974Z"
   },
   {
    "duration": 29,
    "start_time": "2021-12-05T09:31:54.996Z"
   },
   {
    "duration": 28,
    "start_time": "2021-12-05T09:31:55.027Z"
   },
   {
    "duration": 24,
    "start_time": "2021-12-05T09:31:55.057Z"
   },
   {
    "duration": 33,
    "start_time": "2021-12-05T09:31:55.082Z"
   },
   {
    "duration": 41,
    "start_time": "2021-12-05T09:31:55.117Z"
   },
   {
    "duration": 33,
    "start_time": "2021-12-05T09:31:55.160Z"
   },
   {
    "duration": 13,
    "start_time": "2021-12-05T09:31:55.195Z"
   },
   {
    "duration": 110,
    "start_time": "2021-12-05T09:31:55.210Z"
   },
   {
    "duration": 10,
    "start_time": "2021-12-05T09:31:55.322Z"
   },
   {
    "duration": 103,
    "start_time": "2021-12-05T09:31:55.345Z"
   },
   {
    "duration": 10,
    "start_time": "2021-12-05T09:31:55.450Z"
   },
   {
    "duration": 269,
    "start_time": "2021-12-05T09:31:55.462Z"
   },
   {
    "duration": 24,
    "start_time": "2021-12-05T09:31:55.733Z"
   },
   {
    "duration": 22,
    "start_time": "2021-12-05T09:31:55.759Z"
   },
   {
    "duration": 29,
    "start_time": "2021-12-05T09:31:55.783Z"
   },
   {
    "duration": 77,
    "start_time": "2021-12-05T09:31:55.814Z"
   },
   {
    "duration": 9,
    "start_time": "2021-12-05T09:31:55.895Z"
   },
   {
    "duration": 253,
    "start_time": "2021-12-05T09:31:55.906Z"
   },
   {
    "duration": 15,
    "start_time": "2021-12-05T09:31:56.161Z"
   },
   {
    "duration": 15,
    "start_time": "2021-12-05T09:31:56.178Z"
   },
   {
    "duration": 26,
    "start_time": "2021-12-05T09:31:56.195Z"
   },
   {
    "duration": 57,
    "start_time": "2021-12-05T09:31:56.223Z"
   },
   {
    "duration": 6,
    "start_time": "2021-12-05T09:31:56.282Z"
   },
   {
    "duration": 40,
    "start_time": "2021-12-05T09:31:56.290Z"
   },
   {
    "duration": 18,
    "start_time": "2021-12-05T09:31:56.332Z"
   },
   {
    "duration": 39,
    "start_time": "2021-12-05T09:31:56.352Z"
   },
   {
    "duration": 31,
    "start_time": "2021-12-05T09:31:56.392Z"
   },
   {
    "duration": 22,
    "start_time": "2021-12-05T09:31:56.425Z"
   },
   {
    "duration": 75,
    "start_time": "2021-12-05T09:31:56.449Z"
   },
   {
    "duration": 14,
    "start_time": "2021-12-05T09:31:56.525Z"
   },
   {
    "duration": 72,
    "start_time": "2021-12-05T09:31:56.541Z"
   },
   {
    "duration": 21,
    "start_time": "2021-12-05T09:31:56.615Z"
   },
   {
    "duration": 13,
    "start_time": "2021-12-05T09:31:56.638Z"
   },
   {
    "duration": 53,
    "start_time": "2021-12-05T09:31:56.653Z"
   },
   {
    "duration": 15,
    "start_time": "2021-12-05T09:31:56.708Z"
   },
   {
    "duration": 39,
    "start_time": "2021-12-05T09:31:56.724Z"
   },
   {
    "duration": 11,
    "start_time": "2021-12-05T09:31:56.764Z"
   },
   {
    "duration": 68,
    "start_time": "2021-12-05T09:31:56.777Z"
   },
   {
    "duration": 17,
    "start_time": "2021-12-05T09:31:56.847Z"
   },
   {
    "duration": 24,
    "start_time": "2021-12-05T09:31:56.866Z"
   },
   {
    "duration": 7567,
    "start_time": "2021-12-05T09:31:56.891Z"
   },
   {
    "duration": 5039,
    "start_time": "2021-12-05T09:31:59.421Z"
   },
   {
    "duration": 30,
    "start_time": "2021-12-05T09:36:24.336Z"
   },
   {
    "duration": 6,
    "start_time": "2021-12-05T09:37:11.458Z"
   },
   {
    "duration": 9,
    "start_time": "2021-12-05T09:37:17.270Z"
   },
   {
    "duration": 6,
    "start_time": "2021-12-05T09:37:39.824Z"
   },
   {
    "duration": 9,
    "start_time": "2021-12-05T09:37:47.570Z"
   },
   {
    "duration": 8,
    "start_time": "2021-12-05T09:37:49.559Z"
   },
   {
    "duration": 7,
    "start_time": "2021-12-05T09:37:51.605Z"
   },
   {
    "duration": 1251,
    "start_time": "2021-12-05T09:38:02.153Z"
   },
   {
    "duration": 426,
    "start_time": "2021-12-05T09:38:03.406Z"
   },
   {
    "duration": 14,
    "start_time": "2021-12-05T09:38:03.834Z"
   },
   {
    "duration": 13,
    "start_time": "2021-12-05T09:38:03.850Z"
   },
   {
    "duration": 12,
    "start_time": "2021-12-05T09:38:03.865Z"
   },
   {
    "duration": 9,
    "start_time": "2021-12-05T09:38:03.879Z"
   },
   {
    "duration": 14,
    "start_time": "2021-12-05T09:38:03.889Z"
   },
   {
    "duration": 13,
    "start_time": "2021-12-05T09:38:03.906Z"
   },
   {
    "duration": 25,
    "start_time": "2021-12-05T09:38:03.921Z"
   },
   {
    "duration": 18,
    "start_time": "2021-12-05T09:38:03.947Z"
   },
   {
    "duration": 8,
    "start_time": "2021-12-05T09:38:03.967Z"
   },
   {
    "duration": 9,
    "start_time": "2021-12-05T09:38:03.977Z"
   },
   {
    "duration": 12,
    "start_time": "2021-12-05T09:38:03.987Z"
   },
   {
    "duration": 13,
    "start_time": "2021-12-05T09:38:04.001Z"
   },
   {
    "duration": 48,
    "start_time": "2021-12-05T09:38:04.016Z"
   },
   {
    "duration": 35,
    "start_time": "2021-12-05T09:38:04.066Z"
   },
   {
    "duration": 44,
    "start_time": "2021-12-05T09:38:04.103Z"
   },
   {
    "duration": 118,
    "start_time": "2021-12-05T09:38:04.149Z"
   },
   {
    "duration": 9,
    "start_time": "2021-12-05T09:38:04.269Z"
   },
   {
    "duration": 118,
    "start_time": "2021-12-05T09:38:04.279Z"
   },
   {
    "duration": 9,
    "start_time": "2021-12-05T09:38:04.399Z"
   },
   {
    "duration": 271,
    "start_time": "2021-12-05T09:38:04.409Z"
   },
   {
    "duration": 19,
    "start_time": "2021-12-05T09:38:04.684Z"
   },
   {
    "duration": 9,
    "start_time": "2021-12-05T09:38:04.705Z"
   },
   {
    "duration": 46,
    "start_time": "2021-12-05T09:38:04.716Z"
   },
   {
    "duration": 80,
    "start_time": "2021-12-05T09:38:04.764Z"
   },
   {
    "duration": 10,
    "start_time": "2021-12-05T09:38:04.846Z"
   },
   {
    "duration": 256,
    "start_time": "2021-12-05T09:38:04.858Z"
   },
   {
    "duration": 28,
    "start_time": "2021-12-05T09:38:05.116Z"
   },
   {
    "duration": 16,
    "start_time": "2021-12-05T09:38:05.146Z"
   },
   {
    "duration": 17,
    "start_time": "2021-12-05T09:38:05.164Z"
   },
   {
    "duration": 73,
    "start_time": "2021-12-05T09:38:05.183Z"
   },
   {
    "duration": 6,
    "start_time": "2021-12-05T09:38:05.258Z"
   },
   {
    "duration": 31,
    "start_time": "2021-12-05T09:38:05.266Z"
   },
   {
    "duration": 11,
    "start_time": "2021-12-05T09:38:05.299Z"
   },
   {
    "duration": 64,
    "start_time": "2021-12-05T09:38:05.312Z"
   },
   {
    "duration": 13,
    "start_time": "2021-12-05T09:38:05.378Z"
   },
   {
    "duration": 355,
    "start_time": "2021-12-05T09:38:35.268Z"
   },
   {
    "duration": 8,
    "start_time": "2021-12-05T09:39:45.144Z"
   },
   {
    "duration": 272,
    "start_time": "2021-12-05T09:40:37.609Z"
   },
   {
    "duration": 22,
    "start_time": "2021-12-05T09:41:55.105Z"
   },
   {
    "duration": 277,
    "start_time": "2021-12-05T09:41:57.384Z"
   },
   {
    "duration": 267,
    "start_time": "2021-12-05T09:42:08.796Z"
   },
   {
    "duration": 266,
    "start_time": "2021-12-05T09:44:26.423Z"
   },
   {
    "duration": 272,
    "start_time": "2021-12-05T09:45:35.025Z"
   },
   {
    "duration": 249,
    "start_time": "2021-12-05T09:46:54.907Z"
   },
   {
    "duration": 1149,
    "start_time": "2021-12-05T09:47:27.839Z"
   },
   {
    "duration": 397,
    "start_time": "2021-12-05T09:47:28.990Z"
   },
   {
    "duration": 13,
    "start_time": "2021-12-05T09:47:29.389Z"
   },
   {
    "duration": 36,
    "start_time": "2021-12-05T09:47:29.404Z"
   },
   {
    "duration": 22,
    "start_time": "2021-12-05T09:47:29.441Z"
   },
   {
    "duration": 21,
    "start_time": "2021-12-05T09:47:29.465Z"
   },
   {
    "duration": 20,
    "start_time": "2021-12-05T09:47:29.487Z"
   },
   {
    "duration": 30,
    "start_time": "2021-12-05T09:47:29.509Z"
   },
   {
    "duration": 17,
    "start_time": "2021-12-05T09:47:29.541Z"
   },
   {
    "duration": 34,
    "start_time": "2021-12-05T09:47:29.559Z"
   },
   {
    "duration": 14,
    "start_time": "2021-12-05T09:47:29.595Z"
   },
   {
    "duration": 27,
    "start_time": "2021-12-05T09:47:29.611Z"
   },
   {
    "duration": 21,
    "start_time": "2021-12-05T09:47:29.640Z"
   },
   {
    "duration": 32,
    "start_time": "2021-12-05T09:47:29.663Z"
   },
   {
    "duration": 44,
    "start_time": "2021-12-05T09:47:29.696Z"
   },
   {
    "duration": 37,
    "start_time": "2021-12-05T09:47:29.741Z"
   },
   {
    "duration": 15,
    "start_time": "2021-12-05T09:47:29.779Z"
   },
   {
    "duration": 117,
    "start_time": "2021-12-05T09:47:29.796Z"
   },
   {
    "duration": 8,
    "start_time": "2021-12-05T09:47:29.915Z"
   },
   {
    "duration": 122,
    "start_time": "2021-12-05T09:47:29.925Z"
   },
   {
    "duration": 8,
    "start_time": "2021-12-05T09:47:30.049Z"
   },
   {
    "duration": 280,
    "start_time": "2021-12-05T09:47:30.058Z"
   },
   {
    "duration": 18,
    "start_time": "2021-12-05T09:47:30.341Z"
   },
   {
    "duration": 8,
    "start_time": "2021-12-05T09:47:30.361Z"
   },
   {
    "duration": 25,
    "start_time": "2021-12-05T09:47:30.370Z"
   },
   {
    "duration": 94,
    "start_time": "2021-12-05T09:47:30.396Z"
   },
   {
    "duration": 8,
    "start_time": "2021-12-05T09:47:30.492Z"
   },
   {
    "duration": 251,
    "start_time": "2021-12-05T09:47:30.502Z"
   },
   {
    "duration": 15,
    "start_time": "2021-12-05T09:47:30.755Z"
   },
   {
    "duration": 14,
    "start_time": "2021-12-05T09:47:30.772Z"
   },
   {
    "duration": 23,
    "start_time": "2021-12-05T09:47:30.788Z"
   },
   {
    "duration": 68,
    "start_time": "2021-12-05T09:47:30.813Z"
   },
   {
    "duration": 6,
    "start_time": "2021-12-05T09:47:30.889Z"
   },
   {
    "duration": 27,
    "start_time": "2021-12-05T09:47:30.897Z"
   },
   {
    "duration": 22,
    "start_time": "2021-12-05T09:47:30.926Z"
   },
   {
    "duration": 41,
    "start_time": "2021-12-05T09:47:30.949Z"
   },
   {
    "duration": 22,
    "start_time": "2021-12-05T09:47:30.992Z"
   },
   {
    "duration": 336,
    "start_time": "2021-12-05T09:47:31.015Z"
   },
   {
    "duration": 5065,
    "start_time": "2021-12-05T09:47:26.288Z"
   },
   {
    "duration": 49,
    "start_time": "2021-12-05T09:48:04.453Z"
   },
   {
    "duration": 15,
    "start_time": "2021-12-05T09:48:11.217Z"
   },
   {
    "duration": 1170,
    "start_time": "2021-12-05T09:48:55.935Z"
   },
   {
    "duration": 419,
    "start_time": "2021-12-05T09:48:57.107Z"
   },
   {
    "duration": 13,
    "start_time": "2021-12-05T09:48:57.530Z"
   },
   {
    "duration": 14,
    "start_time": "2021-12-05T09:48:57.545Z"
   },
   {
    "duration": 16,
    "start_time": "2021-12-05T09:48:57.561Z"
   },
   {
    "duration": 11,
    "start_time": "2021-12-05T09:48:57.579Z"
   },
   {
    "duration": 14,
    "start_time": "2021-12-05T09:48:57.594Z"
   },
   {
    "duration": 11,
    "start_time": "2021-12-05T09:48:57.610Z"
   },
   {
    "duration": 28,
    "start_time": "2021-12-05T09:48:57.622Z"
   },
   {
    "duration": 8,
    "start_time": "2021-12-05T09:48:57.652Z"
   },
   {
    "duration": 7,
    "start_time": "2021-12-05T09:48:57.662Z"
   },
   {
    "duration": 14,
    "start_time": "2021-12-05T09:48:57.671Z"
   },
   {
    "duration": 34,
    "start_time": "2021-12-05T09:48:57.687Z"
   },
   {
    "duration": 22,
    "start_time": "2021-12-05T09:48:57.723Z"
   },
   {
    "duration": 21,
    "start_time": "2021-12-05T09:48:57.747Z"
   },
   {
    "duration": 32,
    "start_time": "2021-12-05T09:48:57.770Z"
   },
   {
    "duration": 15,
    "start_time": "2021-12-05T09:48:57.803Z"
   },
   {
    "duration": 109,
    "start_time": "2021-12-05T09:48:57.844Z"
   },
   {
    "duration": 8,
    "start_time": "2021-12-05T09:48:57.955Z"
   },
   {
    "duration": 114,
    "start_time": "2021-12-05T09:48:57.965Z"
   },
   {
    "duration": 8,
    "start_time": "2021-12-05T09:48:58.080Z"
   },
   {
    "duration": 273,
    "start_time": "2021-12-05T09:48:58.091Z"
   },
   {
    "duration": 18,
    "start_time": "2021-12-05T09:48:58.366Z"
   },
   {
    "duration": 9,
    "start_time": "2021-12-05T09:48:58.385Z"
   },
   {
    "duration": 50,
    "start_time": "2021-12-05T09:48:58.395Z"
   },
   {
    "duration": 64,
    "start_time": "2021-12-05T09:48:58.447Z"
   },
   {
    "duration": 8,
    "start_time": "2021-12-05T09:48:58.513Z"
   },
   {
    "duration": 264,
    "start_time": "2021-12-05T09:48:58.522Z"
   },
   {
    "duration": 15,
    "start_time": "2021-12-05T09:48:58.788Z"
   },
   {
    "duration": 15,
    "start_time": "2021-12-05T09:48:58.805Z"
   },
   {
    "duration": 18,
    "start_time": "2021-12-05T09:48:58.844Z"
   },
   {
    "duration": 42,
    "start_time": "2021-12-05T09:48:58.864Z"
   },
   {
    "duration": 7,
    "start_time": "2021-12-05T09:48:58.908Z"
   },
   {
    "duration": 47,
    "start_time": "2021-12-05T09:48:58.916Z"
   },
   {
    "duration": 10,
    "start_time": "2021-12-05T09:48:58.965Z"
   },
   {
    "duration": 41,
    "start_time": "2021-12-05T09:48:58.976Z"
   },
   {
    "duration": 18,
    "start_time": "2021-12-05T09:48:59.044Z"
   },
   {
    "duration": 8,
    "start_time": "2021-12-05T09:48:59.064Z"
   },
   {
    "duration": 15,
    "start_time": "2021-12-05T09:48:59.074Z"
   },
   {
    "duration": 345,
    "start_time": "2021-12-05T09:48:59.090Z"
   },
   {
    "duration": 5096,
    "start_time": "2021-12-05T09:48:54.341Z"
   },
   {
    "duration": 324,
    "start_time": "2021-12-05T09:49:27.667Z"
   },
   {
    "duration": 625,
    "start_time": "2021-12-05T09:50:28.546Z"
   },
   {
    "duration": 307,
    "start_time": "2021-12-05T09:51:00.576Z"
   },
   {
    "duration": 1234,
    "start_time": "2021-12-05T09:51:53.169Z"
   },
   {
    "duration": 403,
    "start_time": "2021-12-05T09:51:54.405Z"
   },
   {
    "duration": 13,
    "start_time": "2021-12-05T09:51:54.810Z"
   },
   {
    "duration": 10,
    "start_time": "2021-12-05T09:51:54.825Z"
   },
   {
    "duration": 18,
    "start_time": "2021-12-05T09:51:54.837Z"
   },
   {
    "duration": 10,
    "start_time": "2021-12-05T09:51:54.856Z"
   },
   {
    "duration": 10,
    "start_time": "2021-12-05T09:51:54.867Z"
   },
   {
    "duration": 11,
    "start_time": "2021-12-05T09:51:54.880Z"
   },
   {
    "duration": 8,
    "start_time": "2021-12-05T09:51:54.893Z"
   },
   {
    "duration": 8,
    "start_time": "2021-12-05T09:51:54.902Z"
   },
   {
    "duration": 5,
    "start_time": "2021-12-05T09:51:54.944Z"
   },
   {
    "duration": 9,
    "start_time": "2021-12-05T09:51:54.951Z"
   },
   {
    "duration": 8,
    "start_time": "2021-12-05T09:51:54.962Z"
   },
   {
    "duration": 17,
    "start_time": "2021-12-05T09:51:54.971Z"
   },
   {
    "duration": 21,
    "start_time": "2021-12-05T09:51:54.990Z"
   },
   {
    "duration": 62,
    "start_time": "2021-12-05T09:51:55.013Z"
   },
   {
    "duration": 15,
    "start_time": "2021-12-05T09:51:55.077Z"
   },
   {
    "duration": 125,
    "start_time": "2021-12-05T09:51:55.094Z"
   },
   {
    "duration": 8,
    "start_time": "2021-12-05T09:51:55.221Z"
   },
   {
    "duration": 97,
    "start_time": "2021-12-05T09:51:55.231Z"
   },
   {
    "duration": 23,
    "start_time": "2021-12-05T09:51:55.330Z"
   },
   {
    "duration": 284,
    "start_time": "2021-12-05T09:51:55.355Z"
   },
   {
    "duration": 19,
    "start_time": "2021-12-05T09:51:55.646Z"
   },
   {
    "duration": 9,
    "start_time": "2021-12-05T09:51:55.668Z"
   },
   {
    "duration": 23,
    "start_time": "2021-12-05T09:51:55.679Z"
   },
   {
    "duration": 104,
    "start_time": "2021-12-05T09:51:55.703Z"
   },
   {
    "duration": 10,
    "start_time": "2021-12-05T09:51:55.810Z"
   },
   {
    "duration": 260,
    "start_time": "2021-12-05T09:51:55.822Z"
   },
   {
    "duration": 17,
    "start_time": "2021-12-05T09:51:56.085Z"
   },
   {
    "duration": 41,
    "start_time": "2021-12-05T09:51:56.105Z"
   },
   {
    "duration": 21,
    "start_time": "2021-12-05T09:51:56.148Z"
   },
   {
    "duration": 44,
    "start_time": "2021-12-05T09:51:56.171Z"
   },
   {
    "duration": 31,
    "start_time": "2021-12-05T09:51:56.217Z"
   },
   {
    "duration": 24,
    "start_time": "2021-12-05T09:51:56.250Z"
   },
   {
    "duration": 10,
    "start_time": "2021-12-05T09:51:56.275Z"
   },
   {
    "duration": 70,
    "start_time": "2021-12-05T09:51:56.286Z"
   },
   {
    "duration": 17,
    "start_time": "2021-12-05T09:51:56.357Z"
   },
   {
    "duration": 8,
    "start_time": "2021-12-05T09:51:56.376Z"
   },
   {
    "duration": 16,
    "start_time": "2021-12-05T09:51:56.385Z"
   },
   {
    "duration": 338,
    "start_time": "2021-12-05T09:51:56.402Z"
   },
   {
    "duration": 5107,
    "start_time": "2021-12-05T09:51:51.635Z"
   },
   {
    "duration": 26,
    "start_time": "2021-12-05T09:54:13.893Z"
   },
   {
    "duration": 7,
    "start_time": "2021-12-05T09:54:19.759Z"
   },
   {
    "duration": 25,
    "start_time": "2021-12-05T10:00:54.978Z"
   },
   {
    "duration": 6472,
    "start_time": "2021-12-05T10:06:37.215Z"
   },
   {
    "duration": 1257,
    "start_time": "2021-12-05T10:07:11.655Z"
   },
   {
    "duration": 416,
    "start_time": "2021-12-05T10:07:12.914Z"
   },
   {
    "duration": 17,
    "start_time": "2021-12-05T10:07:13.332Z"
   },
   {
    "duration": 11,
    "start_time": "2021-12-05T10:07:13.351Z"
   },
   {
    "duration": 10,
    "start_time": "2021-12-05T10:07:13.364Z"
   },
   {
    "duration": 9,
    "start_time": "2021-12-05T10:07:13.376Z"
   },
   {
    "duration": 9,
    "start_time": "2021-12-05T10:07:13.387Z"
   },
   {
    "duration": 11,
    "start_time": "2021-12-05T10:07:13.444Z"
   },
   {
    "duration": 10,
    "start_time": "2021-12-05T10:07:13.459Z"
   },
   {
    "duration": 8,
    "start_time": "2021-12-05T10:07:13.471Z"
   },
   {
    "duration": 8,
    "start_time": "2021-12-05T10:07:13.481Z"
   },
   {
    "duration": 12,
    "start_time": "2021-12-05T10:07:13.491Z"
   },
   {
    "duration": 46,
    "start_time": "2021-12-05T10:07:13.506Z"
   },
   {
    "duration": 9,
    "start_time": "2021-12-05T10:07:13.554Z"
   },
   {
    "duration": 28,
    "start_time": "2021-12-05T10:07:13.565Z"
   },
   {
    "duration": 75,
    "start_time": "2021-12-05T10:07:13.595Z"
   },
   {
    "duration": 15,
    "start_time": "2021-12-05T10:07:13.673Z"
   },
   {
    "duration": 130,
    "start_time": "2021-12-05T10:07:13.690Z"
   },
   {
    "duration": 9,
    "start_time": "2021-12-05T10:07:13.821Z"
   },
   {
    "duration": 117,
    "start_time": "2021-12-05T10:07:13.832Z"
   },
   {
    "duration": 8,
    "start_time": "2021-12-05T10:07:13.951Z"
   },
   {
    "duration": 291,
    "start_time": "2021-12-05T10:07:13.961Z"
   },
   {
    "duration": 19,
    "start_time": "2021-12-05T10:07:14.256Z"
   },
   {
    "duration": 15,
    "start_time": "2021-12-05T10:07:14.278Z"
   },
   {
    "duration": 66,
    "start_time": "2021-12-05T10:07:14.295Z"
   },
   {
    "duration": 70,
    "start_time": "2021-12-05T10:07:14.363Z"
   },
   {
    "duration": 18,
    "start_time": "2021-12-05T10:07:14.436Z"
   },
   {
    "duration": 461,
    "start_time": "2021-12-05T10:07:14.457Z"
   },
   {
    "duration": 31,
    "start_time": "2021-12-05T10:07:14.921Z"
   },
   {
    "duration": 25,
    "start_time": "2021-12-05T10:07:14.955Z"
   },
   {
    "duration": 38,
    "start_time": "2021-12-05T10:07:14.983Z"
   },
   {
    "duration": 60,
    "start_time": "2021-12-05T10:07:15.023Z"
   },
   {
    "duration": 7,
    "start_time": "2021-12-05T10:07:15.085Z"
   },
   {
    "duration": 42,
    "start_time": "2021-12-05T10:07:15.094Z"
   },
   {
    "duration": 15,
    "start_time": "2021-12-05T10:07:15.138Z"
   },
   {
    "duration": 49,
    "start_time": "2021-12-05T10:07:15.154Z"
   },
   {
    "duration": 43,
    "start_time": "2021-12-05T10:07:15.205Z"
   },
   {
    "duration": 9,
    "start_time": "2021-12-05T10:07:15.250Z"
   },
   {
    "duration": 18,
    "start_time": "2021-12-05T10:07:15.261Z"
   },
   {
    "duration": 26,
    "start_time": "2021-12-05T10:07:15.281Z"
   },
   {
    "duration": 37,
    "start_time": "2021-12-05T10:07:15.309Z"
   },
   {
    "duration": 12,
    "start_time": "2021-12-05T10:07:54.564Z"
   },
   {
    "duration": 32,
    "start_time": "2021-12-05T10:12:11.636Z"
   },
   {
    "duration": 13,
    "start_time": "2021-12-05T10:12:13.502Z"
   },
   {
    "duration": 9,
    "start_time": "2021-12-05T10:13:02.744Z"
   },
   {
    "duration": 12,
    "start_time": "2021-12-05T10:13:05.990Z"
   },
   {
    "duration": 13,
    "start_time": "2021-12-05T10:14:55.331Z"
   },
   {
    "duration": 36,
    "start_time": "2021-12-05T10:16:09.053Z"
   },
   {
    "duration": 12,
    "start_time": "2021-12-05T10:16:12.312Z"
   },
   {
    "duration": 10,
    "start_time": "2021-12-05T10:16:40.213Z"
   },
   {
    "duration": 51,
    "start_time": "2021-12-05T10:22:22.466Z"
   },
   {
    "duration": 87,
    "start_time": "2021-12-05T10:32:29.221Z"
   },
   {
    "duration": 353,
    "start_time": "2021-12-05T10:32:38.547Z"
   },
   {
    "duration": 1485,
    "start_time": "2021-12-05T10:32:52.481Z"
   },
   {
    "duration": 2,
    "start_time": "2021-12-05T10:33:50.150Z"
   },
   {
    "duration": 68,
    "start_time": "2021-12-05T10:34:03.194Z"
   },
   {
    "duration": 1259,
    "start_time": "2021-12-05T10:46:58.502Z"
   },
   {
    "duration": 24,
    "start_time": "2021-12-05T10:48:03.724Z"
   },
   {
    "duration": 1377,
    "start_time": "2021-12-05T10:48:10.253Z"
   },
   {
    "duration": 420,
    "start_time": "2021-12-05T10:48:11.633Z"
   },
   {
    "duration": 14,
    "start_time": "2021-12-05T10:48:12.055Z"
   },
   {
    "duration": 16,
    "start_time": "2021-12-05T10:48:12.071Z"
   },
   {
    "duration": 11,
    "start_time": "2021-12-05T10:48:12.089Z"
   },
   {
    "duration": 9,
    "start_time": "2021-12-05T10:48:12.102Z"
   },
   {
    "duration": 38,
    "start_time": "2021-12-05T10:48:12.113Z"
   },
   {
    "duration": 11,
    "start_time": "2021-12-05T10:48:12.154Z"
   },
   {
    "duration": 7,
    "start_time": "2021-12-05T10:48:12.168Z"
   },
   {
    "duration": 8,
    "start_time": "2021-12-05T10:48:12.177Z"
   },
   {
    "duration": 5,
    "start_time": "2021-12-05T10:48:12.187Z"
   },
   {
    "duration": 55,
    "start_time": "2021-12-05T10:48:12.193Z"
   },
   {
    "duration": 7,
    "start_time": "2021-12-05T10:48:12.250Z"
   },
   {
    "duration": 7,
    "start_time": "2021-12-05T10:48:12.259Z"
   },
   {
    "duration": 22,
    "start_time": "2021-12-05T10:48:12.267Z"
   },
   {
    "duration": 60,
    "start_time": "2021-12-05T10:48:12.290Z"
   },
   {
    "duration": 15,
    "start_time": "2021-12-05T10:48:12.352Z"
   },
   {
    "duration": 121,
    "start_time": "2021-12-05T10:48:12.369Z"
   },
   {
    "duration": 9,
    "start_time": "2021-12-05T10:48:12.492Z"
   },
   {
    "duration": 111,
    "start_time": "2021-12-05T10:48:12.503Z"
   },
   {
    "duration": 8,
    "start_time": "2021-12-05T10:48:12.616Z"
   },
   {
    "duration": 267,
    "start_time": "2021-12-05T10:48:12.625Z"
   },
   {
    "duration": 17,
    "start_time": "2021-12-05T10:48:12.896Z"
   },
   {
    "duration": 8,
    "start_time": "2021-12-05T10:48:12.915Z"
   },
   {
    "duration": 38,
    "start_time": "2021-12-05T10:48:12.925Z"
   },
   {
    "duration": 85,
    "start_time": "2021-12-05T10:48:12.965Z"
   },
   {
    "duration": 9,
    "start_time": "2021-12-05T10:48:13.051Z"
   },
   {
    "duration": 255,
    "start_time": "2021-12-05T10:48:13.062Z"
   },
   {
    "duration": 15,
    "start_time": "2021-12-05T10:48:13.319Z"
   },
   {
    "duration": 16,
    "start_time": "2021-12-05T10:48:13.345Z"
   },
   {
    "duration": 18,
    "start_time": "2021-12-05T10:48:13.363Z"
   },
   {
    "duration": 72,
    "start_time": "2021-12-05T10:48:13.383Z"
   },
   {
    "duration": 6,
    "start_time": "2021-12-05T10:48:13.457Z"
   },
   {
    "duration": 26,
    "start_time": "2021-12-05T10:48:13.464Z"
   },
   {
    "duration": 10,
    "start_time": "2021-12-05T10:48:13.492Z"
   },
   {
    "duration": 71,
    "start_time": "2021-12-05T10:48:13.504Z"
   },
   {
    "duration": 1729,
    "start_time": "2021-12-05T10:48:13.577Z"
   },
   {
    "duration": 5162,
    "start_time": "2021-12-05T10:48:10.146Z"
   },
   {
    "duration": 5148,
    "start_time": "2021-12-05T10:48:10.161Z"
   },
   {
    "duration": 5138,
    "start_time": "2021-12-05T10:48:10.172Z"
   },
   {
    "duration": 5125,
    "start_time": "2021-12-05T10:48:10.186Z"
   },
   {
    "duration": 5112,
    "start_time": "2021-12-05T10:48:10.200Z"
   },
   {
    "duration": 5099,
    "start_time": "2021-12-05T10:48:10.215Z"
   },
   {
    "duration": 14,
    "start_time": "2021-12-05T10:48:35.110Z"
   },
   {
    "duration": 1243,
    "start_time": "2021-12-05T10:49:11.840Z"
   },
   {
    "duration": 416,
    "start_time": "2021-12-05T10:49:13.085Z"
   },
   {
    "duration": 13,
    "start_time": "2021-12-05T10:49:13.503Z"
   },
   {
    "duration": 11,
    "start_time": "2021-12-05T10:49:13.518Z"
   },
   {
    "duration": 12,
    "start_time": "2021-12-05T10:49:13.530Z"
   },
   {
    "duration": 17,
    "start_time": "2021-12-05T10:49:13.544Z"
   },
   {
    "duration": 12,
    "start_time": "2021-12-05T10:49:13.563Z"
   },
   {
    "duration": 19,
    "start_time": "2021-12-05T10:49:13.577Z"
   },
   {
    "duration": 8,
    "start_time": "2021-12-05T10:49:13.598Z"
   },
   {
    "duration": 8,
    "start_time": "2021-12-05T10:49:13.608Z"
   },
   {
    "duration": 6,
    "start_time": "2021-12-05T10:49:13.618Z"
   },
   {
    "duration": 24,
    "start_time": "2021-12-05T10:49:13.625Z"
   },
   {
    "duration": 8,
    "start_time": "2021-12-05T10:49:13.651Z"
   },
   {
    "duration": 10,
    "start_time": "2021-12-05T10:49:13.661Z"
   },
   {
    "duration": 22,
    "start_time": "2021-12-05T10:49:13.673Z"
   },
   {
    "duration": 76,
    "start_time": "2021-12-05T10:49:13.697Z"
   },
   {
    "duration": 18,
    "start_time": "2021-12-05T10:49:13.775Z"
   },
   {
    "duration": 131,
    "start_time": "2021-12-05T10:49:13.795Z"
   },
   {
    "duration": 17,
    "start_time": "2021-12-05T10:49:13.928Z"
   },
   {
    "duration": 107,
    "start_time": "2021-12-05T10:49:13.947Z"
   },
   {
    "duration": 8,
    "start_time": "2021-12-05T10:49:14.056Z"
   },
   {
    "duration": 273,
    "start_time": "2021-12-05T10:49:14.066Z"
   },
   {
    "duration": 21,
    "start_time": "2021-12-05T10:49:14.342Z"
   },
   {
    "duration": 12,
    "start_time": "2021-12-05T10:49:14.365Z"
   },
   {
    "duration": 40,
    "start_time": "2021-12-05T10:49:14.379Z"
   },
   {
    "duration": 87,
    "start_time": "2021-12-05T10:49:14.421Z"
   },
   {
    "duration": 10,
    "start_time": "2021-12-05T10:49:14.510Z"
   },
   {
    "duration": 265,
    "start_time": "2021-12-05T10:49:14.521Z"
   },
   {
    "duration": 15,
    "start_time": "2021-12-05T10:49:14.788Z"
   },
   {
    "duration": 16,
    "start_time": "2021-12-05T10:49:14.805Z"
   },
   {
    "duration": 20,
    "start_time": "2021-12-05T10:49:14.844Z"
   },
   {
    "duration": 44,
    "start_time": "2021-12-05T10:49:14.866Z"
   },
   {
    "duration": 33,
    "start_time": "2021-12-05T10:49:14.912Z"
   },
   {
    "duration": 27,
    "start_time": "2021-12-05T10:49:14.947Z"
   },
   {
    "duration": 12,
    "start_time": "2021-12-05T10:49:14.975Z"
   },
   {
    "duration": 76,
    "start_time": "2021-12-05T10:49:14.989Z"
   },
   {
    "duration": 12,
    "start_time": "2021-12-05T10:49:15.067Z"
   },
   {
    "duration": 22,
    "start_time": "2021-12-05T10:49:15.082Z"
   },
   {
    "duration": 7,
    "start_time": "2021-12-05T10:49:15.106Z"
   },
   {
    "duration": 57,
    "start_time": "2021-12-05T10:49:15.115Z"
   },
   {
    "duration": 6,
    "start_time": "2021-12-05T10:49:15.174Z"
   },
   {
    "duration": 68,
    "start_time": "2021-12-05T10:49:15.182Z"
   },
   {
    "duration": 350,
    "start_time": "2021-12-05T10:50:57.812Z"
   },
   {
    "duration": 382,
    "start_time": "2021-12-05T10:51:20.202Z"
   },
   {
    "duration": 283,
    "start_time": "2021-12-05T10:51:27.440Z"
   },
   {
    "duration": 40,
    "start_time": "2021-12-05T10:51:34.289Z"
   },
   {
    "duration": 317,
    "start_time": "2021-12-05T11:22:37.142Z"
   },
   {
    "duration": 32,
    "start_time": "2021-12-05T11:22:42.482Z"
   },
   {
    "duration": 268,
    "start_time": "2021-12-05T11:36:27.064Z"
   },
   {
    "duration": 25,
    "start_time": "2021-12-05T11:36:35.296Z"
   },
   {
    "duration": 18,
    "start_time": "2021-12-05T11:36:52.648Z"
   },
   {
    "duration": 28,
    "start_time": "2021-12-05T11:39:10.391Z"
   },
   {
    "duration": 124,
    "start_time": "2021-12-05T11:44:52.253Z"
   },
   {
    "duration": 1270,
    "start_time": "2021-12-05T11:45:23.799Z"
   },
   {
    "duration": 447,
    "start_time": "2021-12-05T11:45:25.071Z"
   },
   {
    "duration": 14,
    "start_time": "2021-12-05T11:45:25.520Z"
   },
   {
    "duration": 25,
    "start_time": "2021-12-05T11:45:25.537Z"
   },
   {
    "duration": 19,
    "start_time": "2021-12-05T11:45:25.564Z"
   },
   {
    "duration": 51,
    "start_time": "2021-12-05T11:45:25.585Z"
   },
   {
    "duration": 29,
    "start_time": "2021-12-05T11:45:25.638Z"
   },
   {
    "duration": 21,
    "start_time": "2021-12-05T11:45:25.670Z"
   },
   {
    "duration": 44,
    "start_time": "2021-12-05T11:45:25.693Z"
   },
   {
    "duration": 30,
    "start_time": "2021-12-05T11:45:25.739Z"
   },
   {
    "duration": 15,
    "start_time": "2021-12-05T11:45:25.771Z"
   },
   {
    "duration": 24,
    "start_time": "2021-12-05T11:45:25.788Z"
   },
   {
    "duration": 29,
    "start_time": "2021-12-05T11:45:25.814Z"
   },
   {
    "duration": 19,
    "start_time": "2021-12-05T11:45:25.845Z"
   },
   {
    "duration": 51,
    "start_time": "2021-12-05T11:45:25.866Z"
   },
   {
    "duration": 37,
    "start_time": "2021-12-05T11:45:25.919Z"
   },
   {
    "duration": 15,
    "start_time": "2021-12-05T11:45:25.958Z"
   },
   {
    "duration": 126,
    "start_time": "2021-12-05T11:45:25.975Z"
   },
   {
    "duration": 10,
    "start_time": "2021-12-05T11:45:26.103Z"
   },
   {
    "duration": 123,
    "start_time": "2021-12-05T11:45:26.115Z"
   },
   {
    "duration": 11,
    "start_time": "2021-12-05T11:45:26.240Z"
   },
   {
    "duration": 310,
    "start_time": "2021-12-05T11:45:26.253Z"
   },
   {
    "duration": 21,
    "start_time": "2021-12-05T11:45:26.566Z"
   },
   {
    "duration": 39,
    "start_time": "2021-12-05T11:45:26.589Z"
   },
   {
    "duration": 38,
    "start_time": "2021-12-05T11:45:26.630Z"
   },
   {
    "duration": 84,
    "start_time": "2021-12-05T11:45:26.670Z"
   },
   {
    "duration": 10,
    "start_time": "2021-12-05T11:45:26.756Z"
   },
   {
    "duration": 289,
    "start_time": "2021-12-05T11:45:26.768Z"
   },
   {
    "duration": 16,
    "start_time": "2021-12-05T11:45:27.058Z"
   },
   {
    "duration": 50,
    "start_time": "2021-12-05T11:45:27.075Z"
   },
   {
    "duration": 45,
    "start_time": "2021-12-05T11:45:27.128Z"
   },
   {
    "duration": 57,
    "start_time": "2021-12-05T11:45:27.174Z"
   },
   {
    "duration": 8,
    "start_time": "2021-12-05T11:45:27.233Z"
   },
   {
    "duration": 48,
    "start_time": "2021-12-05T11:45:27.243Z"
   },
   {
    "duration": 11,
    "start_time": "2021-12-05T11:45:27.293Z"
   },
   {
    "duration": 58,
    "start_time": "2021-12-05T11:45:27.305Z"
   },
   {
    "duration": 15,
    "start_time": "2021-12-05T11:45:27.365Z"
   },
   {
    "duration": 22,
    "start_time": "2021-12-05T11:45:27.382Z"
   },
   {
    "duration": 39,
    "start_time": "2021-12-05T11:45:27.406Z"
   },
   {
    "duration": 35,
    "start_time": "2021-12-05T11:45:27.447Z"
   },
   {
    "duration": 8,
    "start_time": "2021-12-05T11:45:27.484Z"
   },
   {
    "duration": 89,
    "start_time": "2021-12-05T11:45:27.494Z"
   },
   {
    "duration": 63,
    "start_time": "2021-12-05T11:45:27.585Z"
   },
   {
    "duration": 181,
    "start_time": "2021-12-05T11:45:27.650Z"
   },
   {
    "duration": 135,
    "start_time": "2021-12-05T11:46:04.435Z"
   },
   {
    "duration": 10,
    "start_time": "2021-12-05T11:47:12.605Z"
   },
   {
    "duration": 24,
    "start_time": "2021-12-05T11:47:33.255Z"
   },
   {
    "duration": 6,
    "start_time": "2021-12-05T11:56:21.403Z"
   },
   {
    "duration": 16,
    "start_time": "2021-12-05T11:56:30.238Z"
   },
   {
    "duration": 15,
    "start_time": "2021-12-05T11:56:41.118Z"
   },
   {
    "duration": 15,
    "start_time": "2021-12-05T11:56:49.212Z"
   },
   {
    "duration": 15,
    "start_time": "2021-12-05T11:56:55.614Z"
   },
   {
    "duration": 15,
    "start_time": "2021-12-05T11:58:20.618Z"
   },
   {
    "duration": 19,
    "start_time": "2021-12-05T12:05:08.346Z"
   },
   {
    "duration": 5,
    "start_time": "2021-12-05T12:25:56.097Z"
   },
   {
    "duration": 644,
    "start_time": "2021-12-05T12:27:07.835Z"
   },
   {
    "duration": 14,
    "start_time": "2021-12-05T12:27:29.133Z"
   },
   {
    "duration": 6,
    "start_time": "2021-12-05T12:30:32.854Z"
   },
   {
    "duration": 6970,
    "start_time": "2021-12-05T12:30:37.181Z"
   },
   {
    "duration": 6,
    "start_time": "2021-12-05T12:31:56.416Z"
   },
   {
    "duration": 238,
    "start_time": "2021-12-05T12:32:01.877Z"
   },
   {
    "duration": 14,
    "start_time": "2021-12-05T12:32:11.169Z"
   },
   {
    "duration": 233,
    "start_time": "2021-12-05T12:32:37.406Z"
   },
   {
    "duration": 14,
    "start_time": "2021-12-05T12:32:39.277Z"
   },
   {
    "duration": 1208,
    "start_time": "2021-12-05T12:33:36.793Z"
   },
   {
    "duration": 416,
    "start_time": "2021-12-05T12:33:38.005Z"
   },
   {
    "duration": 14,
    "start_time": "2021-12-05T12:33:38.423Z"
   },
   {
    "duration": 19,
    "start_time": "2021-12-05T12:33:38.439Z"
   },
   {
    "duration": 24,
    "start_time": "2021-12-05T12:33:38.460Z"
   },
   {
    "duration": 27,
    "start_time": "2021-12-05T12:33:38.486Z"
   },
   {
    "duration": 24,
    "start_time": "2021-12-05T12:33:38.517Z"
   },
   {
    "duration": 29,
    "start_time": "2021-12-05T12:33:38.542Z"
   },
   {
    "duration": 9,
    "start_time": "2021-12-05T12:33:38.573Z"
   },
   {
    "duration": 23,
    "start_time": "2021-12-05T12:33:38.585Z"
   },
   {
    "duration": 11,
    "start_time": "2021-12-05T12:33:38.611Z"
   },
   {
    "duration": 20,
    "start_time": "2021-12-05T12:33:38.623Z"
   },
   {
    "duration": 25,
    "start_time": "2021-12-05T12:33:38.645Z"
   },
   {
    "duration": 18,
    "start_time": "2021-12-05T12:33:38.672Z"
   },
   {
    "duration": 32,
    "start_time": "2021-12-05T12:33:38.692Z"
   },
   {
    "duration": 36,
    "start_time": "2021-12-05T12:33:38.726Z"
   },
   {
    "duration": 14,
    "start_time": "2021-12-05T12:33:38.763Z"
   },
   {
    "duration": 119,
    "start_time": "2021-12-05T12:33:38.779Z"
   },
   {
    "duration": 8,
    "start_time": "2021-12-05T12:33:38.899Z"
   },
   {
    "duration": 114,
    "start_time": "2021-12-05T12:33:38.909Z"
   },
   {
    "duration": 9,
    "start_time": "2021-12-05T12:33:39.027Z"
   },
   {
    "duration": 275,
    "start_time": "2021-12-05T12:33:39.045Z"
   },
   {
    "duration": 28,
    "start_time": "2021-12-05T12:33:39.321Z"
   },
   {
    "duration": 21,
    "start_time": "2021-12-05T12:33:39.351Z"
   },
   {
    "duration": 27,
    "start_time": "2021-12-05T12:33:39.374Z"
   },
   {
    "duration": 81,
    "start_time": "2021-12-05T12:33:39.403Z"
   },
   {
    "duration": 9,
    "start_time": "2021-12-05T12:33:39.485Z"
   },
   {
    "duration": 259,
    "start_time": "2021-12-05T12:33:39.496Z"
   },
   {
    "duration": 15,
    "start_time": "2021-12-05T12:33:39.756Z"
   },
   {
    "duration": 19,
    "start_time": "2021-12-05T12:33:39.773Z"
   },
   {
    "duration": 35,
    "start_time": "2021-12-05T12:33:39.794Z"
   },
   {
    "duration": 54,
    "start_time": "2021-12-05T12:33:39.830Z"
   },
   {
    "duration": 6,
    "start_time": "2021-12-05T12:33:39.886Z"
   },
   {
    "duration": 52,
    "start_time": "2021-12-05T12:33:39.894Z"
   },
   {
    "duration": 11,
    "start_time": "2021-12-05T12:33:39.947Z"
   },
   {
    "duration": 96,
    "start_time": "2021-12-05T12:33:39.959Z"
   },
   {
    "duration": 13,
    "start_time": "2021-12-05T12:33:40.057Z"
   },
   {
    "duration": 117,
    "start_time": "2021-12-05T12:33:40.072Z"
   },
   {
    "duration": 21,
    "start_time": "2021-12-05T12:33:40.191Z"
   },
   {
    "duration": 31,
    "start_time": "2021-12-05T12:33:40.214Z"
   },
   {
    "duration": 7,
    "start_time": "2021-12-05T12:33:40.247Z"
   },
   {
    "duration": 53,
    "start_time": "2021-12-05T12:33:40.255Z"
   },
   {
    "duration": 59,
    "start_time": "2021-12-05T12:33:40.310Z"
   },
   {
    "duration": 5,
    "start_time": "2021-12-05T12:33:40.371Z"
   },
   {
    "duration": 29,
    "start_time": "2021-12-05T12:33:40.378Z"
   },
   {
    "duration": 288,
    "start_time": "2021-12-05T12:33:40.409Z"
   },
   {
    "duration": 13,
    "start_time": "2021-12-05T12:33:40.698Z"
   },
   {
    "duration": 8,
    "start_time": "2021-12-05T12:34:34.097Z"
   },
   {
    "duration": 19,
    "start_time": "2021-12-05T12:35:02.585Z"
   },
   {
    "duration": 5,
    "start_time": "2021-12-05T12:37:13.913Z"
   },
   {
    "duration": 15,
    "start_time": "2021-12-05T12:37:15.928Z"
   },
   {
    "duration": 7,
    "start_time": "2021-12-05T12:46:10.880Z"
   },
   {
    "duration": 17,
    "start_time": "2021-12-05T12:46:13.857Z"
   },
   {
    "duration": 19,
    "start_time": "2021-12-05T12:46:23.082Z"
   },
   {
    "duration": 365,
    "start_time": "2021-12-05T12:46:55.533Z"
   },
   {
    "duration": 254,
    "start_time": "2021-12-05T12:47:02.552Z"
   },
   {
    "duration": 262,
    "start_time": "2021-12-05T12:47:13.772Z"
   },
   {
    "duration": 260,
    "start_time": "2021-12-05T12:47:37.783Z"
   },
   {
    "duration": 1166,
    "start_time": "2021-12-05T12:47:50.768Z"
   },
   {
    "duration": 416,
    "start_time": "2021-12-05T12:47:51.936Z"
   },
   {
    "duration": 14,
    "start_time": "2021-12-05T12:47:52.354Z"
   },
   {
    "duration": 13,
    "start_time": "2021-12-05T12:47:52.370Z"
   },
   {
    "duration": 9,
    "start_time": "2021-12-05T12:47:52.385Z"
   },
   {
    "duration": 9,
    "start_time": "2021-12-05T12:47:52.396Z"
   },
   {
    "duration": 47,
    "start_time": "2021-12-05T12:47:52.406Z"
   },
   {
    "duration": 10,
    "start_time": "2021-12-05T12:47:52.456Z"
   },
   {
    "duration": 7,
    "start_time": "2021-12-05T12:47:52.469Z"
   },
   {
    "duration": 8,
    "start_time": "2021-12-05T12:47:52.478Z"
   },
   {
    "duration": 57,
    "start_time": "2021-12-05T12:47:52.488Z"
   },
   {
    "duration": 11,
    "start_time": "2021-12-05T12:47:52.547Z"
   },
   {
    "duration": 11,
    "start_time": "2021-12-05T12:47:52.560Z"
   },
   {
    "duration": 8,
    "start_time": "2021-12-05T12:47:52.574Z"
   },
   {
    "duration": 65,
    "start_time": "2021-12-05T12:47:52.584Z"
   },
   {
    "duration": 34,
    "start_time": "2021-12-05T12:47:52.651Z"
   },
   {
    "duration": 15,
    "start_time": "2021-12-05T12:47:52.687Z"
   },
   {
    "duration": 139,
    "start_time": "2021-12-05T12:47:52.705Z"
   },
   {
    "duration": 10,
    "start_time": "2021-12-05T12:47:52.846Z"
   },
   {
    "duration": 113,
    "start_time": "2021-12-05T12:47:52.857Z"
   },
   {
    "duration": 8,
    "start_time": "2021-12-05T12:47:52.972Z"
   },
   {
    "duration": 279,
    "start_time": "2021-12-05T12:47:52.981Z"
   },
   {
    "duration": 18,
    "start_time": "2021-12-05T12:47:53.263Z"
   },
   {
    "duration": 37,
    "start_time": "2021-12-05T12:47:53.283Z"
   },
   {
    "duration": 54,
    "start_time": "2021-12-05T12:47:53.321Z"
   },
   {
    "duration": 73,
    "start_time": "2021-12-05T12:47:53.376Z"
   },
   {
    "duration": 9,
    "start_time": "2021-12-05T12:47:53.450Z"
   },
   {
    "duration": 272,
    "start_time": "2021-12-05T12:47:53.461Z"
   },
   {
    "duration": 19,
    "start_time": "2021-12-05T12:47:53.734Z"
   },
   {
    "duration": 27,
    "start_time": "2021-12-05T12:47:53.755Z"
   },
   {
    "duration": 39,
    "start_time": "2021-12-05T12:47:53.784Z"
   },
   {
    "duration": 56,
    "start_time": "2021-12-05T12:47:53.825Z"
   },
   {
    "duration": 6,
    "start_time": "2021-12-05T12:47:53.883Z"
   },
   {
    "duration": 82,
    "start_time": "2021-12-05T12:47:53.891Z"
   },
   {
    "duration": 45,
    "start_time": "2021-12-05T12:47:53.975Z"
   },
   {
    "duration": 70,
    "start_time": "2021-12-05T12:47:54.022Z"
   },
   {
    "duration": 12,
    "start_time": "2021-12-05T12:47:54.094Z"
   },
   {
    "duration": 44,
    "start_time": "2021-12-05T12:47:54.108Z"
   },
   {
    "duration": 30,
    "start_time": "2021-12-05T12:47:54.154Z"
   },
   {
    "duration": 39,
    "start_time": "2021-12-05T12:47:54.185Z"
   },
   {
    "duration": 7,
    "start_time": "2021-12-05T12:47:54.226Z"
   },
   {
    "duration": 74,
    "start_time": "2021-12-05T12:47:54.234Z"
   },
   {
    "duration": 34,
    "start_time": "2021-12-05T12:47:54.310Z"
   },
   {
    "duration": 11,
    "start_time": "2021-12-05T12:47:54.347Z"
   },
   {
    "duration": 412,
    "start_time": "2021-12-05T12:47:54.360Z"
   },
   {
    "duration": 4464,
    "start_time": "2021-12-05T12:47:50.310Z"
   },
   {
    "duration": 4442,
    "start_time": "2021-12-05T12:47:50.333Z"
   },
   {
    "duration": 4422,
    "start_time": "2021-12-05T12:47:50.354Z"
   },
   {
    "duration": 86,
    "start_time": "2021-12-05T12:48:26.485Z"
   },
   {
    "duration": 245,
    "start_time": "2021-12-05T12:48:37.671Z"
   },
   {
    "duration": 22,
    "start_time": "2021-12-05T12:48:40.979Z"
   },
   {
    "duration": 5,
    "start_time": "2021-12-05T12:48:58.155Z"
   },
   {
    "duration": 15,
    "start_time": "2021-12-05T12:49:02.734Z"
   },
   {
    "duration": 8,
    "start_time": "2021-12-05T12:49:12.356Z"
   },
   {
    "duration": 6,
    "start_time": "2021-12-05T12:49:15.648Z"
   },
   {
    "duration": 220,
    "start_time": "2021-12-05T12:49:18.008Z"
   },
   {
    "duration": 6,
    "start_time": "2021-12-05T12:49:20.968Z"
   },
   {
    "duration": 5,
    "start_time": "2021-12-05T12:56:56.678Z"
   },
   {
    "duration": 293,
    "start_time": "2021-12-05T12:57:00.731Z"
   },
   {
    "duration": 14,
    "start_time": "2021-12-05T12:57:03.148Z"
   },
   {
    "duration": 17,
    "start_time": "2021-12-05T12:57:10.744Z"
   },
   {
    "duration": 380,
    "start_time": "2021-12-05T12:59:15.410Z"
   },
   {
    "duration": 7058,
    "start_time": "2021-12-05T12:59:24.163Z"
   },
   {
    "duration": 15,
    "start_time": "2021-12-05T12:59:37.279Z"
   },
   {
    "duration": 21,
    "start_time": "2021-12-05T12:59:52.133Z"
   },
   {
    "duration": 10,
    "start_time": "2021-12-05T13:15:56.224Z"
   },
   {
    "duration": 9,
    "start_time": "2021-12-05T13:16:11.454Z"
   },
   {
    "duration": 3,
    "start_time": "2021-12-05T13:21:28.022Z"
   },
   {
    "duration": 276,
    "start_time": "2021-12-05T13:21:47.170Z"
   },
   {
    "duration": 5,
    "start_time": "2021-12-05T13:21:54.060Z"
   },
   {
    "duration": 7951,
    "start_time": "2021-12-05T13:21:55.887Z"
   },
   {
    "duration": 1159,
    "start_time": "2021-12-05T13:23:54.242Z"
   },
   {
    "duration": 396,
    "start_time": "2021-12-05T13:23:55.403Z"
   },
   {
    "duration": 12,
    "start_time": "2021-12-05T13:23:55.804Z"
   },
   {
    "duration": 27,
    "start_time": "2021-12-05T13:23:55.818Z"
   },
   {
    "duration": 32,
    "start_time": "2021-12-05T13:23:55.847Z"
   },
   {
    "duration": 18,
    "start_time": "2021-12-05T13:23:55.880Z"
   },
   {
    "duration": 23,
    "start_time": "2021-12-05T13:23:55.900Z"
   },
   {
    "duration": 14,
    "start_time": "2021-12-05T13:23:55.926Z"
   },
   {
    "duration": 22,
    "start_time": "2021-12-05T13:23:55.942Z"
   },
   {
    "duration": 12,
    "start_time": "2021-12-05T13:23:55.966Z"
   },
   {
    "duration": 14,
    "start_time": "2021-12-05T13:23:55.980Z"
   },
   {
    "duration": 12,
    "start_time": "2021-12-05T13:23:55.995Z"
   },
   {
    "duration": 11,
    "start_time": "2021-12-05T13:23:56.009Z"
   },
   {
    "duration": 27,
    "start_time": "2021-12-05T13:23:56.021Z"
   },
   {
    "duration": 23,
    "start_time": "2021-12-05T13:23:56.050Z"
   },
   {
    "duration": 30,
    "start_time": "2021-12-05T13:23:56.077Z"
   },
   {
    "duration": 43,
    "start_time": "2021-12-05T13:23:56.109Z"
   },
   {
    "duration": 106,
    "start_time": "2021-12-05T13:23:56.153Z"
   },
   {
    "duration": 9,
    "start_time": "2021-12-05T13:23:56.261Z"
   },
   {
    "duration": 120,
    "start_time": "2021-12-05T13:23:56.271Z"
   },
   {
    "duration": 8,
    "start_time": "2021-12-05T13:23:56.393Z"
   },
   {
    "duration": 279,
    "start_time": "2021-12-05T13:23:56.404Z"
   },
   {
    "duration": 18,
    "start_time": "2021-12-05T13:23:56.685Z"
   },
   {
    "duration": 8,
    "start_time": "2021-12-05T13:23:56.705Z"
   },
   {
    "duration": 47,
    "start_time": "2021-12-05T13:23:56.715Z"
   },
   {
    "duration": 99,
    "start_time": "2021-12-05T13:23:56.764Z"
   },
   {
    "duration": 12,
    "start_time": "2021-12-05T13:23:56.865Z"
   },
   {
    "duration": 418,
    "start_time": "2021-12-05T13:23:56.880Z"
   },
   {
    "duration": 22,
    "start_time": "2021-12-05T13:23:57.300Z"
   },
   {
    "duration": 24,
    "start_time": "2021-12-05T13:23:57.344Z"
   },
   {
    "duration": 26,
    "start_time": "2021-12-05T13:23:57.370Z"
   },
   {
    "duration": 81,
    "start_time": "2021-12-05T13:23:57.398Z"
   },
   {
    "duration": 9,
    "start_time": "2021-12-05T13:23:57.481Z"
   },
   {
    "duration": 52,
    "start_time": "2021-12-05T13:23:57.492Z"
   },
   {
    "duration": 15,
    "start_time": "2021-12-05T13:23:57.546Z"
   },
   {
    "duration": 52,
    "start_time": "2021-12-05T13:23:57.563Z"
   },
   {
    "duration": 31,
    "start_time": "2021-12-05T13:23:57.617Z"
   },
   {
    "duration": 19,
    "start_time": "2021-12-05T13:23:57.649Z"
   },
   {
    "duration": 7,
    "start_time": "2021-12-05T13:23:57.670Z"
   },
   {
    "duration": 29,
    "start_time": "2021-12-05T13:23:57.678Z"
   },
   {
    "duration": 41,
    "start_time": "2021-12-05T13:23:57.709Z"
   },
   {
    "duration": 46,
    "start_time": "2021-12-05T13:23:57.752Z"
   },
   {
    "duration": 64,
    "start_time": "2021-12-05T13:23:57.799Z"
   },
   {
    "duration": 336,
    "start_time": "2021-12-05T13:23:57.865Z"
   },
   {
    "duration": 5287,
    "start_time": "2021-12-05T13:23:52.916Z"
   },
   {
    "duration": 5269,
    "start_time": "2021-12-05T13:23:52.935Z"
   },
   {
    "duration": 5245,
    "start_time": "2021-12-05T13:23:52.960Z"
   },
   {
    "duration": 5235,
    "start_time": "2021-12-05T13:23:52.971Z"
   },
   {
    "duration": 6,
    "start_time": "2021-12-05T13:24:38.286Z"
   },
   {
    "duration": 8213,
    "start_time": "2021-12-05T13:24:41.595Z"
   },
   {
    "duration": 18,
    "start_time": "2021-12-05T13:24:58.656Z"
   },
   {
    "duration": 6,
    "start_time": "2021-12-05T13:25:18.211Z"
   },
   {
    "duration": 7760,
    "start_time": "2021-12-05T13:25:20.160Z"
   },
   {
    "duration": 6,
    "start_time": "2021-12-05T13:26:14.935Z"
   },
   {
    "duration": 102,
    "start_time": "2021-12-05T13:26:17.384Z"
   },
   {
    "duration": 13,
    "start_time": "2021-12-05T13:26:24.186Z"
   },
   {
    "duration": 1169,
    "start_time": "2021-12-05T13:26:40.739Z"
   },
   {
    "duration": 381,
    "start_time": "2021-12-05T13:26:41.910Z"
   },
   {
    "duration": 12,
    "start_time": "2021-12-05T13:26:42.293Z"
   },
   {
    "duration": 36,
    "start_time": "2021-12-05T13:26:42.307Z"
   },
   {
    "duration": 39,
    "start_time": "2021-12-05T13:26:42.345Z"
   },
   {
    "duration": 27,
    "start_time": "2021-12-05T13:26:42.386Z"
   },
   {
    "duration": 23,
    "start_time": "2021-12-05T13:26:42.415Z"
   },
   {
    "duration": 27,
    "start_time": "2021-12-05T13:26:42.441Z"
   },
   {
    "duration": 24,
    "start_time": "2021-12-05T13:26:42.470Z"
   },
   {
    "duration": 35,
    "start_time": "2021-12-05T13:26:42.495Z"
   },
   {
    "duration": 22,
    "start_time": "2021-12-05T13:26:42.533Z"
   },
   {
    "duration": 26,
    "start_time": "2021-12-05T13:26:42.556Z"
   },
   {
    "duration": 27,
    "start_time": "2021-12-05T13:26:42.584Z"
   },
   {
    "duration": 25,
    "start_time": "2021-12-05T13:26:42.613Z"
   },
   {
    "duration": 38,
    "start_time": "2021-12-05T13:26:42.639Z"
   },
   {
    "duration": 31,
    "start_time": "2021-12-05T13:26:42.679Z"
   },
   {
    "duration": 14,
    "start_time": "2021-12-05T13:26:42.712Z"
   },
   {
    "duration": 111,
    "start_time": "2021-12-05T13:26:42.728Z"
   },
   {
    "duration": 10,
    "start_time": "2021-12-05T13:26:42.840Z"
   },
   {
    "duration": 110,
    "start_time": "2021-12-05T13:26:42.852Z"
   },
   {
    "duration": 10,
    "start_time": "2021-12-05T13:26:42.964Z"
   },
   {
    "duration": 264,
    "start_time": "2021-12-05T13:26:42.975Z"
   },
   {
    "duration": 20,
    "start_time": "2021-12-05T13:26:43.246Z"
   },
   {
    "duration": 28,
    "start_time": "2021-12-05T13:26:43.269Z"
   },
   {
    "duration": 36,
    "start_time": "2021-12-05T13:26:43.299Z"
   },
   {
    "duration": 68,
    "start_time": "2021-12-05T13:26:43.337Z"
   },
   {
    "duration": 10,
    "start_time": "2021-12-05T13:26:43.407Z"
   },
   {
    "duration": 275,
    "start_time": "2021-12-05T13:26:43.419Z"
   },
   {
    "duration": 19,
    "start_time": "2021-12-05T13:26:43.696Z"
   },
   {
    "duration": 41,
    "start_time": "2021-12-05T13:26:43.717Z"
   },
   {
    "duration": 34,
    "start_time": "2021-12-05T13:26:43.761Z"
   },
   {
    "duration": 56,
    "start_time": "2021-12-05T13:26:43.796Z"
   },
   {
    "duration": 9,
    "start_time": "2021-12-05T13:26:43.854Z"
   },
   {
    "duration": 43,
    "start_time": "2021-12-05T13:26:43.865Z"
   },
   {
    "duration": 17,
    "start_time": "2021-12-05T13:26:43.910Z"
   },
   {
    "duration": 63,
    "start_time": "2021-12-05T13:26:43.929Z"
   },
   {
    "duration": 10,
    "start_time": "2021-12-05T13:26:43.994Z"
   },
   {
    "duration": 23,
    "start_time": "2021-12-05T13:26:44.006Z"
   },
   {
    "duration": 14,
    "start_time": "2021-12-05T13:26:44.030Z"
   },
   {
    "duration": 28,
    "start_time": "2021-12-05T13:26:44.046Z"
   },
   {
    "duration": 8,
    "start_time": "2021-12-05T13:26:44.076Z"
   },
   {
    "duration": 89,
    "start_time": "2021-12-05T13:26:44.086Z"
   },
   {
    "duration": 35,
    "start_time": "2021-12-05T13:26:44.177Z"
   },
   {
    "duration": 2,
    "start_time": "2021-12-05T13:26:44.214Z"
   },
   {
    "duration": 19,
    "start_time": "2021-12-05T13:26:44.244Z"
   },
   {
    "duration": 3,
    "start_time": "2021-12-05T13:26:44.265Z"
   },
   {
    "duration": 8,
    "start_time": "2021-12-05T13:26:44.270Z"
   },
   {
    "duration": 143,
    "start_time": "2021-12-05T13:26:44.280Z"
   },
   {
    "duration": 23,
    "start_time": "2021-12-05T13:26:44.424Z"
   },
   {
    "duration": 8,
    "start_time": "2021-12-05T13:27:57.933Z"
   },
   {
    "duration": 6,
    "start_time": "2021-12-05T13:28:04.316Z"
   },
   {
    "duration": 100,
    "start_time": "2021-12-05T13:28:06.416Z"
   },
   {
    "duration": 12,
    "start_time": "2021-12-05T13:28:08.207Z"
   },
   {
    "duration": 7,
    "start_time": "2021-12-05T13:29:52.193Z"
   },
   {
    "duration": 6,
    "start_time": "2021-12-05T13:29:57.632Z"
   },
   {
    "duration": 105,
    "start_time": "2021-12-05T13:30:00.119Z"
   },
   {
    "duration": 14,
    "start_time": "2021-12-05T13:30:02.369Z"
   },
   {
    "duration": 4,
    "start_time": "2021-12-05T13:30:15.474Z"
   },
   {
    "duration": 6,
    "start_time": "2021-12-05T13:30:19.292Z"
   },
   {
    "duration": 108,
    "start_time": "2021-12-05T13:30:21.300Z"
   },
   {
    "duration": 13,
    "start_time": "2021-12-05T13:30:24.097Z"
   },
   {
    "duration": 1225,
    "start_time": "2021-12-05T13:31:05.171Z"
   },
   {
    "duration": 414,
    "start_time": "2021-12-05T13:31:06.398Z"
   },
   {
    "duration": 14,
    "start_time": "2021-12-05T13:31:06.814Z"
   },
   {
    "duration": 16,
    "start_time": "2021-12-05T13:31:06.830Z"
   },
   {
    "duration": 28,
    "start_time": "2021-12-05T13:31:06.848Z"
   },
   {
    "duration": 15,
    "start_time": "2021-12-05T13:31:06.878Z"
   },
   {
    "duration": 28,
    "start_time": "2021-12-05T13:31:06.895Z"
   },
   {
    "duration": 25,
    "start_time": "2021-12-05T13:31:06.927Z"
   },
   {
    "duration": 23,
    "start_time": "2021-12-05T13:31:06.954Z"
   },
   {
    "duration": 10,
    "start_time": "2021-12-05T13:31:06.979Z"
   },
   {
    "duration": 37,
    "start_time": "2021-12-05T13:31:06.990Z"
   },
   {
    "duration": 23,
    "start_time": "2021-12-05T13:31:07.029Z"
   },
   {
    "duration": 32,
    "start_time": "2021-12-05T13:31:07.054Z"
   },
   {
    "duration": 22,
    "start_time": "2021-12-05T13:31:07.088Z"
   },
   {
    "duration": 37,
    "start_time": "2021-12-05T13:31:07.112Z"
   },
   {
    "duration": 33,
    "start_time": "2021-12-05T13:31:07.151Z"
   },
   {
    "duration": 21,
    "start_time": "2021-12-05T13:31:07.186Z"
   },
   {
    "duration": 124,
    "start_time": "2021-12-05T13:31:07.209Z"
   },
   {
    "duration": 14,
    "start_time": "2021-12-05T13:31:07.334Z"
   },
   {
    "duration": 131,
    "start_time": "2021-12-05T13:31:07.349Z"
   },
   {
    "duration": 8,
    "start_time": "2021-12-05T13:31:07.482Z"
   },
   {
    "duration": 281,
    "start_time": "2021-12-05T13:31:07.492Z"
   },
   {
    "duration": 17,
    "start_time": "2021-12-05T13:31:07.777Z"
   },
   {
    "duration": 34,
    "start_time": "2021-12-05T13:31:07.796Z"
   },
   {
    "duration": 50,
    "start_time": "2021-12-05T13:31:07.832Z"
   },
   {
    "duration": 67,
    "start_time": "2021-12-05T13:31:07.884Z"
   },
   {
    "duration": 9,
    "start_time": "2021-12-05T13:31:07.953Z"
   },
   {
    "duration": 261,
    "start_time": "2021-12-05T13:31:07.964Z"
   },
   {
    "duration": 23,
    "start_time": "2021-12-05T13:31:08.227Z"
   },
   {
    "duration": 15,
    "start_time": "2021-12-05T13:31:08.252Z"
   },
   {
    "duration": 22,
    "start_time": "2021-12-05T13:31:08.269Z"
   },
   {
    "duration": 120,
    "start_time": "2021-12-05T13:31:08.293Z"
   },
   {
    "duration": 6,
    "start_time": "2021-12-05T13:31:08.415Z"
   },
   {
    "duration": 47,
    "start_time": "2021-12-05T13:31:08.423Z"
   },
   {
    "duration": 13,
    "start_time": "2021-12-05T13:31:08.472Z"
   },
   {
    "duration": 59,
    "start_time": "2021-12-05T13:31:08.487Z"
   },
   {
    "duration": 11,
    "start_time": "2021-12-05T13:31:08.547Z"
   },
   {
    "duration": 54,
    "start_time": "2021-12-05T13:31:08.560Z"
   },
   {
    "duration": 35,
    "start_time": "2021-12-05T13:31:08.616Z"
   },
   {
    "duration": 41,
    "start_time": "2021-12-05T13:31:08.653Z"
   },
   {
    "duration": 7,
    "start_time": "2021-12-05T13:31:08.696Z"
   },
   {
    "duration": 80,
    "start_time": "2021-12-05T13:31:08.705Z"
   },
   {
    "duration": 42,
    "start_time": "2021-12-05T13:31:08.787Z"
   },
   {
    "duration": 14,
    "start_time": "2021-12-05T13:31:08.830Z"
   },
   {
    "duration": 26,
    "start_time": "2021-12-05T13:31:08.846Z"
   },
   {
    "duration": 27,
    "start_time": "2021-12-05T13:31:08.875Z"
   },
   {
    "duration": 45,
    "start_time": "2021-12-05T13:31:08.904Z"
   },
   {
    "duration": 34,
    "start_time": "2021-12-05T13:31:08.951Z"
   },
   {
    "duration": 139,
    "start_time": "2021-12-05T13:31:08.987Z"
   },
   {
    "duration": 17,
    "start_time": "2021-12-05T13:31:09.128Z"
   },
   {
    "duration": 22,
    "start_time": "2021-12-05T13:31:21.545Z"
   },
   {
    "duration": 7,
    "start_time": "2021-12-05T13:32:07.408Z"
   },
   {
    "duration": 1191,
    "start_time": "2021-12-05T13:33:01.166Z"
   },
   {
    "duration": 392,
    "start_time": "2021-12-05T13:33:02.359Z"
   },
   {
    "duration": 17,
    "start_time": "2021-12-05T13:33:02.753Z"
   },
   {
    "duration": 14,
    "start_time": "2021-12-05T13:33:02.772Z"
   },
   {
    "duration": 13,
    "start_time": "2021-12-05T13:33:02.788Z"
   },
   {
    "duration": 46,
    "start_time": "2021-12-05T13:33:02.803Z"
   },
   {
    "duration": 10,
    "start_time": "2021-12-05T13:33:02.851Z"
   },
   {
    "duration": 12,
    "start_time": "2021-12-05T13:33:02.864Z"
   },
   {
    "duration": 5,
    "start_time": "2021-12-05T13:33:02.878Z"
   },
   {
    "duration": 7,
    "start_time": "2021-12-05T13:33:02.885Z"
   },
   {
    "duration": 53,
    "start_time": "2021-12-05T13:33:02.893Z"
   },
   {
    "duration": 6,
    "start_time": "2021-12-05T13:33:02.948Z"
   },
   {
    "duration": 10,
    "start_time": "2021-12-05T13:33:02.955Z"
   },
   {
    "duration": 8,
    "start_time": "2021-12-05T13:33:02.967Z"
   },
   {
    "duration": 21,
    "start_time": "2021-12-05T13:33:02.977Z"
   },
   {
    "duration": 72,
    "start_time": "2021-12-05T13:33:02.999Z"
   },
   {
    "duration": 14,
    "start_time": "2021-12-05T13:33:03.072Z"
   },
   {
    "duration": 123,
    "start_time": "2021-12-05T13:33:03.088Z"
   },
   {
    "duration": 9,
    "start_time": "2021-12-05T13:33:03.212Z"
   },
   {
    "duration": 106,
    "start_time": "2021-12-05T13:33:03.222Z"
   },
   {
    "duration": 20,
    "start_time": "2021-12-05T13:33:03.329Z"
   },
   {
    "duration": 266,
    "start_time": "2021-12-05T13:33:03.351Z"
   },
   {
    "duration": 34,
    "start_time": "2021-12-05T13:33:03.622Z"
   },
   {
    "duration": 9,
    "start_time": "2021-12-05T13:33:03.659Z"
   },
   {
    "duration": 24,
    "start_time": "2021-12-05T13:33:03.669Z"
   },
   {
    "duration": 101,
    "start_time": "2021-12-05T13:33:03.694Z"
   },
   {
    "duration": 11,
    "start_time": "2021-12-05T13:33:03.797Z"
   },
   {
    "duration": 255,
    "start_time": "2021-12-05T13:33:03.810Z"
   },
   {
    "duration": 16,
    "start_time": "2021-12-05T13:33:04.067Z"
   },
   {
    "duration": 14,
    "start_time": "2021-12-05T13:33:04.085Z"
   },
   {
    "duration": 53,
    "start_time": "2021-12-05T13:33:04.101Z"
   },
   {
    "duration": 38,
    "start_time": "2021-12-05T13:33:04.156Z"
   },
   {
    "duration": 6,
    "start_time": "2021-12-05T13:33:04.196Z"
   },
   {
    "duration": 51,
    "start_time": "2021-12-05T13:33:04.203Z"
   },
   {
    "duration": 13,
    "start_time": "2021-12-05T13:33:04.256Z"
   },
   {
    "duration": 39,
    "start_time": "2021-12-05T13:33:04.270Z"
   },
   {
    "duration": 36,
    "start_time": "2021-12-05T13:33:04.310Z"
   },
   {
    "duration": 20,
    "start_time": "2021-12-05T13:33:04.348Z"
   },
   {
    "duration": 7,
    "start_time": "2021-12-05T13:33:04.370Z"
   },
   {
    "duration": 27,
    "start_time": "2021-12-05T13:33:04.378Z"
   },
   {
    "duration": 44,
    "start_time": "2021-12-05T13:33:04.407Z"
   },
   {
    "duration": 47,
    "start_time": "2021-12-05T13:33:04.453Z"
   },
   {
    "duration": 67,
    "start_time": "2021-12-05T13:33:04.501Z"
   },
   {
    "duration": 5,
    "start_time": "2021-12-05T13:33:04.570Z"
   },
   {
    "duration": 283,
    "start_time": "2021-12-05T13:33:04.576Z"
   },
   {
    "duration": 3,
    "start_time": "2021-12-05T13:33:04.860Z"
   },
   {
    "duration": 17,
    "start_time": "2021-12-05T13:33:04.864Z"
   },
   {
    "duration": 47,
    "start_time": "2021-12-05T13:33:04.883Z"
   },
   {
    "duration": 10221,
    "start_time": "2021-12-05T13:33:04.932Z"
   },
   {
    "duration": 2,
    "start_time": "2021-12-05T13:33:36.301Z"
   },
   {
    "duration": 127,
    "start_time": "2021-12-05T13:33:40.665Z"
   },
   {
    "duration": 8,
    "start_time": "2021-12-05T13:33:48.382Z"
   },
   {
    "duration": 7,
    "start_time": "2021-12-05T13:38:55.830Z"
   },
   {
    "duration": 3,
    "start_time": "2021-12-05T13:39:11.003Z"
   },
   {
    "duration": 9,
    "start_time": "2021-12-05T13:39:47.358Z"
   },
   {
    "duration": 5,
    "start_time": "2021-12-05T13:39:59.354Z"
   },
   {
    "duration": 5,
    "start_time": "2021-12-05T13:40:06.553Z"
   },
   {
    "duration": 114,
    "start_time": "2021-12-05T13:40:15.620Z"
   },
   {
    "duration": 1163,
    "start_time": "2021-12-05T13:40:26.152Z"
   },
   {
    "duration": 418,
    "start_time": "2021-12-05T13:40:27.317Z"
   },
   {
    "duration": 13,
    "start_time": "2021-12-05T13:40:27.738Z"
   },
   {
    "duration": 16,
    "start_time": "2021-12-05T13:40:27.753Z"
   },
   {
    "duration": 10,
    "start_time": "2021-12-05T13:40:27.771Z"
   },
   {
    "duration": 9,
    "start_time": "2021-12-05T13:40:27.784Z"
   },
   {
    "duration": 51,
    "start_time": "2021-12-05T13:40:27.795Z"
   },
   {
    "duration": 19,
    "start_time": "2021-12-05T13:40:27.848Z"
   },
   {
    "duration": 6,
    "start_time": "2021-12-05T13:40:27.869Z"
   },
   {
    "duration": 8,
    "start_time": "2021-12-05T13:40:27.876Z"
   },
   {
    "duration": 5,
    "start_time": "2021-12-05T13:40:27.886Z"
   },
   {
    "duration": 12,
    "start_time": "2021-12-05T13:40:27.892Z"
   },
   {
    "duration": 7,
    "start_time": "2021-12-05T13:40:27.944Z"
   },
   {
    "duration": 10,
    "start_time": "2021-12-05T13:40:27.953Z"
   },
   {
    "duration": 24,
    "start_time": "2021-12-05T13:40:27.964Z"
   },
   {
    "duration": 71,
    "start_time": "2021-12-05T13:40:27.990Z"
   },
   {
    "duration": 14,
    "start_time": "2021-12-05T13:40:28.062Z"
   },
   {
    "duration": 117,
    "start_time": "2021-12-05T13:40:28.078Z"
   },
   {
    "duration": 9,
    "start_time": "2021-12-05T13:40:28.197Z"
   },
   {
    "duration": 114,
    "start_time": "2021-12-05T13:40:28.207Z"
   },
   {
    "duration": 8,
    "start_time": "2021-12-05T13:40:28.323Z"
   },
   {
    "duration": 260,
    "start_time": "2021-12-05T13:40:28.347Z"
   },
   {
    "duration": 18,
    "start_time": "2021-12-05T13:40:28.609Z"
   },
   {
    "duration": 9,
    "start_time": "2021-12-05T13:40:28.644Z"
   },
   {
    "duration": 24,
    "start_time": "2021-12-05T13:40:28.655Z"
   },
   {
    "duration": 92,
    "start_time": "2021-12-05T13:40:28.681Z"
   },
   {
    "duration": 10,
    "start_time": "2021-12-05T13:40:28.775Z"
   },
   {
    "duration": 259,
    "start_time": "2021-12-05T13:40:28.787Z"
   },
   {
    "duration": 19,
    "start_time": "2021-12-05T13:40:29.048Z"
   },
   {
    "duration": 18,
    "start_time": "2021-12-05T13:40:29.069Z"
   },
   {
    "duration": 58,
    "start_time": "2021-12-05T13:40:29.089Z"
   },
   {
    "duration": 44,
    "start_time": "2021-12-05T13:40:29.148Z"
   },
   {
    "duration": 6,
    "start_time": "2021-12-05T13:40:29.193Z"
   },
   {
    "duration": 52,
    "start_time": "2021-12-05T13:40:29.201Z"
   },
   {
    "duration": 10,
    "start_time": "2021-12-05T13:40:29.255Z"
   },
   {
    "duration": 49,
    "start_time": "2021-12-05T13:40:29.267Z"
   },
   {
    "duration": 28,
    "start_time": "2021-12-05T13:40:29.317Z"
   },
   {
    "duration": 20,
    "start_time": "2021-12-05T13:40:29.347Z"
   },
   {
    "duration": 11,
    "start_time": "2021-12-05T13:40:29.369Z"
   },
   {
    "duration": 71,
    "start_time": "2021-12-05T13:40:29.382Z"
   },
   {
    "duration": 8,
    "start_time": "2021-12-05T13:40:29.455Z"
   },
   {
    "duration": 53,
    "start_time": "2021-12-05T13:40:29.465Z"
   },
   {
    "duration": 54,
    "start_time": "2021-12-05T13:40:29.520Z"
   },
   {
    "duration": 3,
    "start_time": "2021-12-05T13:40:29.576Z"
   },
   {
    "duration": 4,
    "start_time": "2021-12-05T13:40:29.581Z"
   },
   {
    "duration": 10,
    "start_time": "2021-12-05T13:40:29.587Z"
   },
   {
    "duration": 5,
    "start_time": "2021-12-05T13:40:29.599Z"
   },
   {
    "duration": 44,
    "start_time": "2021-12-05T13:40:29.605Z"
   },
   {
    "duration": 122,
    "start_time": "2021-12-05T13:40:29.651Z"
   },
   {
    "duration": 22,
    "start_time": "2021-12-05T13:40:29.775Z"
   },
   {
    "duration": 7227,
    "start_time": "2021-12-05T13:40:29.799Z"
   },
   {
    "duration": 8,
    "start_time": "2021-12-05T13:40:53.218Z"
   },
   {
    "duration": 86,
    "start_time": "2021-12-05T13:53:37.932Z"
   },
   {
    "duration": 85,
    "start_time": "2021-12-05T13:54:20.361Z"
   },
   {
    "duration": 82,
    "start_time": "2021-12-05T13:55:38.826Z"
   },
   {
    "duration": 24,
    "start_time": "2021-12-05T13:57:12.237Z"
   },
   {
    "duration": 9,
    "start_time": "2021-12-05T13:57:19.867Z"
   },
   {
    "duration": 296,
    "start_time": "2021-12-05T13:57:57.526Z"
   },
   {
    "duration": 9,
    "start_time": "2021-12-05T14:00:21.331Z"
   },
   {
    "duration": 5,
    "start_time": "2021-12-05T14:00:52.126Z"
   },
   {
    "duration": 5,
    "start_time": "2021-12-05T14:04:16.963Z"
   },
   {
    "duration": 5,
    "start_time": "2021-12-05T14:04:39.395Z"
   },
   {
    "duration": 21,
    "start_time": "2021-12-05T14:05:50.899Z"
   },
   {
    "duration": 280,
    "start_time": "2021-12-05T14:05:54.165Z"
   },
   {
    "duration": 347,
    "start_time": "2021-12-05T14:07:31.441Z"
   },
   {
    "duration": 263,
    "start_time": "2021-12-05T14:08:53.007Z"
   },
   {
    "duration": 275,
    "start_time": "2021-12-05T14:09:12.964Z"
   },
   {
    "duration": 311,
    "start_time": "2021-12-05T14:09:29.501Z"
   },
   {
    "duration": 359,
    "start_time": "2021-12-05T14:10:00.006Z"
   },
   {
    "duration": 333,
    "start_time": "2021-12-05T14:11:09.955Z"
   },
   {
    "duration": 302,
    "start_time": "2021-12-05T14:11:39.749Z"
   },
   {
    "duration": 340,
    "start_time": "2021-12-05T14:11:51.462Z"
   },
   {
    "duration": 286,
    "start_time": "2021-12-05T14:13:11.261Z"
   },
   {
    "duration": 294,
    "start_time": "2021-12-05T14:13:42.085Z"
   },
   {
    "duration": 390,
    "start_time": "2021-12-05T14:14:17.808Z"
   },
   {
    "duration": 293,
    "start_time": "2021-12-05T14:14:46.071Z"
   },
   {
    "duration": 13,
    "start_time": "2021-12-05T15:06:47.386Z"
   },
   {
    "duration": 15,
    "start_time": "2021-12-05T15:06:49.230Z"
   },
   {
    "duration": 121,
    "start_time": "2021-12-05T15:08:25.487Z"
   },
   {
    "duration": 291,
    "start_time": "2021-12-05T15:09:48.321Z"
   },
   {
    "duration": 293,
    "start_time": "2021-12-05T15:09:58.820Z"
   },
   {
    "duration": 281,
    "start_time": "2021-12-05T15:10:17.996Z"
   },
   {
    "duration": 293,
    "start_time": "2021-12-05T15:12:08.661Z"
   },
   {
    "duration": 6,
    "start_time": "2021-12-05T15:18:54.460Z"
   },
   {
    "duration": 131,
    "start_time": "2021-12-05T15:25:08.176Z"
   },
   {
    "duration": 83,
    "start_time": "2021-12-05T15:25:16.638Z"
   },
   {
    "duration": 273,
    "start_time": "2021-12-05T15:25:24.627Z"
   },
   {
    "duration": 5,
    "start_time": "2021-12-05T15:26:18.779Z"
   },
   {
    "duration": 6,
    "start_time": "2021-12-05T15:26:23.581Z"
   },
   {
    "duration": 8,
    "start_time": "2021-12-05T15:27:38.211Z"
   },
   {
    "duration": 9,
    "start_time": "2021-12-05T15:27:40.059Z"
   },
   {
    "duration": 261,
    "start_time": "2021-12-05T15:30:58.669Z"
   },
   {
    "duration": 7,
    "start_time": "2021-12-05T15:31:02.091Z"
   },
   {
    "duration": 8,
    "start_time": "2021-12-05T15:31:03.585Z"
   },
   {
    "duration": 10,
    "start_time": "2021-12-05T15:32:45.753Z"
   },
   {
    "duration": 85,
    "start_time": "2021-12-05T15:32:54.515Z"
   },
   {
    "duration": 8,
    "start_time": "2021-12-05T15:32:59.246Z"
   },
   {
    "duration": 3,
    "start_time": "2021-12-05T15:33:51.100Z"
   },
   {
    "duration": 4,
    "start_time": "2021-12-05T15:33:53.267Z"
   },
   {
    "duration": 346,
    "start_time": "2021-12-05T15:34:11.430Z"
   },
   {
    "duration": 5,
    "start_time": "2021-12-05T15:34:23.586Z"
   },
   {
    "duration": 7,
    "start_time": "2021-12-05T15:34:26.037Z"
   },
   {
    "duration": 6,
    "start_time": "2021-12-05T15:35:24.512Z"
   },
   {
    "duration": 7,
    "start_time": "2021-12-05T15:35:26.286Z"
   },
   {
    "duration": 287,
    "start_time": "2021-12-05T15:35:43.406Z"
   },
   {
    "duration": 6,
    "start_time": "2021-12-05T15:35:55.673Z"
   },
   {
    "duration": 7,
    "start_time": "2021-12-05T15:35:57.875Z"
   },
   {
    "duration": 7,
    "start_time": "2021-12-05T15:36:41.437Z"
   },
   {
    "duration": 7,
    "start_time": "2021-12-05T15:36:43.562Z"
   },
   {
    "duration": 7,
    "start_time": "2021-12-05T15:37:26.675Z"
   },
   {
    "duration": 8,
    "start_time": "2021-12-05T15:37:28.601Z"
   },
   {
    "duration": 6,
    "start_time": "2021-12-05T15:37:37.845Z"
   },
   {
    "duration": 7,
    "start_time": "2021-12-05T15:37:41.032Z"
   },
   {
    "duration": 288,
    "start_time": "2021-12-05T15:44:33.547Z"
   },
   {
    "duration": 7,
    "start_time": "2021-12-05T15:53:41.026Z"
   },
   {
    "duration": 6,
    "start_time": "2021-12-05T15:55:11.360Z"
   },
   {
    "duration": 6,
    "start_time": "2021-12-05T15:55:27.358Z"
   },
   {
    "duration": 7,
    "start_time": "2021-12-05T15:55:30.518Z"
   },
   {
    "duration": 6,
    "start_time": "2021-12-05T15:56:21.170Z"
   },
   {
    "duration": 7,
    "start_time": "2021-12-05T15:56:26.329Z"
   },
   {
    "duration": 7,
    "start_time": "2021-12-05T15:57:15.976Z"
   },
   {
    "duration": 7,
    "start_time": "2021-12-05T15:57:18.316Z"
   },
   {
    "duration": 89,
    "start_time": "2021-12-05T15:58:27.832Z"
   },
   {
    "duration": 115,
    "start_time": "2021-12-05T15:58:43.409Z"
   },
   {
    "duration": 6,
    "start_time": "2021-12-05T15:59:11.105Z"
   },
   {
    "duration": 8,
    "start_time": "2021-12-05T15:59:13.614Z"
   },
   {
    "duration": 85,
    "start_time": "2021-12-05T15:59:48.371Z"
   },
   {
    "duration": 82,
    "start_time": "2021-12-05T15:59:52.883Z"
   },
   {
    "duration": 85,
    "start_time": "2021-12-05T16:00:52.687Z"
   },
   {
    "duration": 7,
    "start_time": "2021-12-05T16:01:15.072Z"
   },
   {
    "duration": 7,
    "start_time": "2021-12-05T16:01:17.354Z"
   },
   {
    "duration": 8,
    "start_time": "2021-12-05T16:02:21.496Z"
   },
   {
    "duration": 11,
    "start_time": "2021-12-05T16:02:24.445Z"
   },
   {
    "duration": 7,
    "start_time": "2021-12-05T16:02:36.997Z"
   },
   {
    "duration": 8,
    "start_time": "2021-12-05T16:02:40.097Z"
   },
   {
    "duration": 6,
    "start_time": "2021-12-05T16:03:07.816Z"
   },
   {
    "duration": 7,
    "start_time": "2021-12-05T16:03:10.014Z"
   },
   {
    "duration": 318,
    "start_time": "2021-12-05T17:48:43.190Z"
   },
   {
    "duration": 1246,
    "start_time": "2021-12-05T17:48:52.897Z"
   },
   {
    "duration": 460,
    "start_time": "2021-12-05T17:48:54.146Z"
   },
   {
    "duration": 16,
    "start_time": "2021-12-05T17:48:54.608Z"
   },
   {
    "duration": 14,
    "start_time": "2021-12-05T17:48:54.626Z"
   },
   {
    "duration": 15,
    "start_time": "2021-12-05T17:48:54.642Z"
   },
   {
    "duration": 23,
    "start_time": "2021-12-05T17:48:54.658Z"
   },
   {
    "duration": 9,
    "start_time": "2021-12-05T17:48:54.683Z"
   },
   {
    "duration": 11,
    "start_time": "2021-12-05T17:48:54.695Z"
   },
   {
    "duration": 18,
    "start_time": "2021-12-05T17:48:54.708Z"
   },
   {
    "duration": 11,
    "start_time": "2021-12-05T17:48:54.728Z"
   },
   {
    "duration": 27,
    "start_time": "2021-12-05T17:48:54.741Z"
   },
   {
    "duration": 14,
    "start_time": "2021-12-05T17:48:54.771Z"
   },
   {
    "duration": 9,
    "start_time": "2021-12-05T17:48:54.786Z"
   },
   {
    "duration": 10,
    "start_time": "2021-12-05T17:48:54.797Z"
   },
   {
    "duration": 26,
    "start_time": "2021-12-05T17:48:54.809Z"
   },
   {
    "duration": 58,
    "start_time": "2021-12-05T17:48:54.837Z"
   },
   {
    "duration": 16,
    "start_time": "2021-12-05T17:48:54.897Z"
   },
   {
    "duration": 169,
    "start_time": "2021-12-05T17:48:54.914Z"
   },
   {
    "duration": 9,
    "start_time": "2021-12-05T17:48:55.085Z"
   },
   {
    "duration": 122,
    "start_time": "2021-12-05T17:48:55.095Z"
   },
   {
    "duration": 9,
    "start_time": "2021-12-05T17:48:55.219Z"
   },
   {
    "duration": 308,
    "start_time": "2021-12-05T17:48:55.230Z"
   },
   {
    "duration": 26,
    "start_time": "2021-12-05T17:48:55.544Z"
   },
   {
    "duration": 15,
    "start_time": "2021-12-05T17:48:55.574Z"
   },
   {
    "duration": 21,
    "start_time": "2021-12-05T17:48:55.591Z"
   },
   {
    "duration": 86,
    "start_time": "2021-12-05T17:48:55.614Z"
   },
   {
    "duration": 8,
    "start_time": "2021-12-05T17:48:55.702Z"
   },
   {
    "duration": 295,
    "start_time": "2021-12-05T17:48:55.711Z"
   },
   {
    "duration": 72,
    "start_time": "2021-12-05T17:48:56.008Z"
   },
   {
    "duration": 18,
    "start_time": "2021-12-05T17:48:56.082Z"
   },
   {
    "duration": 31,
    "start_time": "2021-12-05T17:48:56.103Z"
   },
   {
    "duration": 80,
    "start_time": "2021-12-05T17:48:56.136Z"
   },
   {
    "duration": 6,
    "start_time": "2021-12-05T17:48:56.218Z"
   },
   {
    "duration": 70,
    "start_time": "2021-12-05T17:48:56.225Z"
   },
   {
    "duration": 9,
    "start_time": "2021-12-05T17:48:56.297Z"
   },
   {
    "duration": 104,
    "start_time": "2021-12-05T17:48:56.308Z"
   },
   {
    "duration": 63,
    "start_time": "2021-12-05T17:48:56.414Z"
   },
   {
    "duration": 17,
    "start_time": "2021-12-05T17:48:56.484Z"
   },
   {
    "duration": 8,
    "start_time": "2021-12-05T17:48:56.503Z"
   },
   {
    "duration": 62,
    "start_time": "2021-12-05T17:48:56.513Z"
   },
   {
    "duration": 11,
    "start_time": "2021-12-05T17:48:56.577Z"
   },
   {
    "duration": 49,
    "start_time": "2021-12-05T17:48:56.590Z"
   },
   {
    "duration": 57,
    "start_time": "2021-12-05T17:48:56.641Z"
   },
   {
    "duration": 2,
    "start_time": "2021-12-05T17:48:56.700Z"
   },
   {
    "duration": 14,
    "start_time": "2021-12-05T17:48:56.704Z"
   },
   {
    "duration": 15,
    "start_time": "2021-12-05T17:48:56.720Z"
   },
   {
    "duration": 18,
    "start_time": "2021-12-05T17:48:56.737Z"
   },
   {
    "duration": 26,
    "start_time": "2021-12-05T17:48:56.757Z"
   },
   {
    "duration": 129,
    "start_time": "2021-12-05T17:48:56.786Z"
   },
   {
    "duration": 20,
    "start_time": "2021-12-05T17:48:56.917Z"
   },
   {
    "duration": 41,
    "start_time": "2021-12-05T17:48:56.940Z"
   },
   {
    "duration": 33,
    "start_time": "2021-12-05T17:48:56.983Z"
   },
   {
    "duration": 41,
    "start_time": "2021-12-05T17:48:57.018Z"
   },
   {
    "duration": 25,
    "start_time": "2021-12-05T17:48:57.061Z"
   },
   {
    "duration": 365,
    "start_time": "2021-12-05T17:48:57.088Z"
   },
   {
    "duration": 17,
    "start_time": "2021-12-05T17:48:57.455Z"
   },
   {
    "duration": 368,
    "start_time": "2021-12-05T17:48:57.474Z"
   },
   {
    "duration": 5055,
    "start_time": "2021-12-05T17:48:52.789Z"
   },
   {
    "duration": 5042,
    "start_time": "2021-12-05T17:48:52.803Z"
   },
   {
    "duration": 9,
    "start_time": "2021-12-05T17:49:07.908Z"
   },
   {
    "duration": 10,
    "start_time": "2021-12-05T17:49:25.418Z"
   },
   {
    "duration": 10,
    "start_time": "2021-12-05T17:49:29.682Z"
   },
   {
    "duration": 8,
    "start_time": "2021-12-05T17:51:01.924Z"
   },
   {
    "duration": 9,
    "start_time": "2021-12-05T17:51:06.484Z"
   },
   {
    "duration": 7,
    "start_time": "2021-12-05T17:59:05.466Z"
   },
   {
    "duration": 5,
    "start_time": "2021-12-05T18:00:29.907Z"
   },
   {
    "duration": 6,
    "start_time": "2021-12-05T18:02:18.590Z"
   },
   {
    "duration": 5,
    "start_time": "2021-12-05T18:02:42.557Z"
   },
   {
    "duration": 7,
    "start_time": "2021-12-05T18:02:59.520Z"
   },
   {
    "duration": 7,
    "start_time": "2021-12-05T18:06:45.290Z"
   },
   {
    "duration": 7,
    "start_time": "2021-12-05T18:07:21.489Z"
   },
   {
    "duration": 10,
    "start_time": "2021-12-05T18:22:46.697Z"
   },
   {
    "duration": 7394,
    "start_time": "2021-12-05T18:23:03.077Z"
   },
   {
    "duration": 10,
    "start_time": "2021-12-05T18:23:12.430Z"
   },
   {
    "duration": 5,
    "start_time": "2021-12-05T18:26:34.756Z"
   },
   {
    "duration": 5,
    "start_time": "2021-12-05T18:28:37.652Z"
   },
   {
    "duration": 4,
    "start_time": "2021-12-05T18:31:05.915Z"
   },
   {
    "duration": 4,
    "start_time": "2021-12-05T18:34:47.507Z"
   },
   {
    "duration": 2,
    "start_time": "2021-12-05T18:35:10.666Z"
   },
   {
    "duration": 5,
    "start_time": "2021-12-05T18:35:15.945Z"
   },
   {
    "duration": 89,
    "start_time": "2021-12-05T18:41:18.225Z"
   },
   {
    "duration": 230,
    "start_time": "2021-12-05T18:42:05.442Z"
   },
   {
    "duration": 4,
    "start_time": "2021-12-05T18:42:11.061Z"
   },
   {
    "duration": 5,
    "start_time": "2021-12-05T18:42:13.221Z"
   },
   {
    "duration": 78,
    "start_time": "2021-12-05T18:43:33.797Z"
   },
   {
    "duration": 5,
    "start_time": "2021-12-05T18:43:42.131Z"
   },
   {
    "duration": 6,
    "start_time": "2021-12-05T18:44:18.960Z"
   },
   {
    "duration": 5,
    "start_time": "2021-12-05T18:47:47.861Z"
   },
   {
    "duration": 1162,
    "start_time": "2021-12-05T18:48:02.284Z"
   },
   {
    "duration": 403,
    "start_time": "2021-12-05T18:48:03.448Z"
   },
   {
    "duration": 13,
    "start_time": "2021-12-05T18:48:03.853Z"
   },
   {
    "duration": 13,
    "start_time": "2021-12-05T18:48:03.869Z"
   },
   {
    "duration": 20,
    "start_time": "2021-12-05T18:48:03.884Z"
   },
   {
    "duration": 13,
    "start_time": "2021-12-05T18:48:03.906Z"
   },
   {
    "duration": 23,
    "start_time": "2021-12-05T18:48:03.921Z"
   },
   {
    "duration": 14,
    "start_time": "2021-12-05T18:48:03.948Z"
   },
   {
    "duration": 9,
    "start_time": "2021-12-05T18:48:03.965Z"
   },
   {
    "duration": 12,
    "start_time": "2021-12-05T18:48:03.976Z"
   },
   {
    "duration": 20,
    "start_time": "2021-12-05T18:48:03.990Z"
   },
   {
    "duration": 9,
    "start_time": "2021-12-05T18:48:04.012Z"
   },
   {
    "duration": 9,
    "start_time": "2021-12-05T18:48:04.023Z"
   },
   {
    "duration": 14,
    "start_time": "2021-12-05T18:48:04.033Z"
   },
   {
    "duration": 26,
    "start_time": "2021-12-05T18:48:04.049Z"
   },
   {
    "duration": 32,
    "start_time": "2021-12-05T18:48:04.077Z"
   },
   {
    "duration": 29,
    "start_time": "2021-12-05T18:48:04.110Z"
   },
   {
    "duration": 101,
    "start_time": "2021-12-05T18:48:04.141Z"
   },
   {
    "duration": 21,
    "start_time": "2021-12-05T18:48:04.244Z"
   },
   {
    "duration": 118,
    "start_time": "2021-12-05T18:48:04.267Z"
   },
   {
    "duration": 8,
    "start_time": "2021-12-05T18:48:04.386Z"
   },
   {
    "duration": 281,
    "start_time": "2021-12-05T18:48:04.396Z"
   },
   {
    "duration": 17,
    "start_time": "2021-12-05T18:48:04.681Z"
   },
   {
    "duration": 9,
    "start_time": "2021-12-05T18:48:04.700Z"
   },
   {
    "duration": 26,
    "start_time": "2021-12-05T18:48:04.711Z"
   },
   {
    "duration": 80,
    "start_time": "2021-12-05T18:48:04.739Z"
   },
   {
    "duration": 9,
    "start_time": "2021-12-05T18:48:04.822Z"
   },
   {
    "duration": 249,
    "start_time": "2021-12-05T18:48:04.832Z"
   },
   {
    "duration": 15,
    "start_time": "2021-12-05T18:48:05.083Z"
   },
   {
    "duration": 18,
    "start_time": "2021-12-05T18:48:05.101Z"
   },
   {
    "duration": 46,
    "start_time": "2021-12-05T18:48:05.121Z"
   },
   {
    "duration": 47,
    "start_time": "2021-12-05T18:48:05.169Z"
   },
   {
    "duration": 6,
    "start_time": "2021-12-05T18:48:05.217Z"
   },
   {
    "duration": 45,
    "start_time": "2021-12-05T18:48:05.225Z"
   },
   {
    "duration": 9,
    "start_time": "2021-12-05T18:48:05.272Z"
   },
   {
    "duration": 58,
    "start_time": "2021-12-05T18:48:05.283Z"
   },
   {
    "duration": 11,
    "start_time": "2021-12-05T18:48:05.343Z"
   },
   {
    "duration": 98,
    "start_time": "2021-12-05T18:48:05.356Z"
   },
   {
    "duration": 50,
    "start_time": "2021-12-05T18:48:05.456Z"
   },
   {
    "duration": 52,
    "start_time": "2021-12-05T18:48:05.508Z"
   },
   {
    "duration": 18,
    "start_time": "2021-12-05T18:48:05.562Z"
   },
   {
    "duration": 60,
    "start_time": "2021-12-05T18:48:05.582Z"
   },
   {
    "duration": 31,
    "start_time": "2021-12-05T18:48:05.644Z"
   },
   {
    "duration": 33,
    "start_time": "2021-12-05T18:48:05.677Z"
   },
   {
    "duration": 31,
    "start_time": "2021-12-05T18:48:05.712Z"
   },
   {
    "duration": 26,
    "start_time": "2021-12-05T18:48:05.745Z"
   },
   {
    "duration": 25,
    "start_time": "2021-12-05T18:48:05.773Z"
   },
   {
    "duration": 27,
    "start_time": "2021-12-05T18:48:05.800Z"
   },
   {
    "duration": 124,
    "start_time": "2021-12-05T18:48:05.829Z"
   },
   {
    "duration": 19,
    "start_time": "2021-12-05T18:48:05.955Z"
   },
   {
    "duration": 116,
    "start_time": "2021-12-05T18:48:05.975Z"
   },
   {
    "duration": 41,
    "start_time": "2021-12-05T18:48:06.093Z"
   },
   {
    "duration": 36,
    "start_time": "2021-12-05T18:48:06.136Z"
   },
   {
    "duration": 320,
    "start_time": "2021-12-05T18:48:06.174Z"
   },
   {
    "duration": 8,
    "start_time": "2021-12-05T18:48:06.496Z"
   },
   {
    "duration": 39,
    "start_time": "2021-12-05T18:48:06.506Z"
   },
   {
    "duration": 25,
    "start_time": "2021-12-05T18:48:06.547Z"
   },
   {
    "duration": 23,
    "start_time": "2021-12-05T18:48:06.574Z"
   },
   {
    "duration": 35,
    "start_time": "2021-12-05T18:48:06.599Z"
   },
   {
    "duration": 28,
    "start_time": "2021-12-05T18:48:06.636Z"
   },
   {
    "duration": 49,
    "start_time": "2021-12-05T18:48:06.666Z"
   },
   {
    "duration": 35,
    "start_time": "2021-12-05T18:48:06.716Z"
   },
   {
    "duration": 29,
    "start_time": "2021-12-05T18:48:06.753Z"
   },
   {
    "duration": 29,
    "start_time": "2021-12-05T18:48:06.784Z"
   },
   {
    "duration": 6,
    "start_time": "2021-12-05T18:49:56.303Z"
   },
   {
    "duration": 329,
    "start_time": "2021-12-05T18:53:05.792Z"
   },
   {
    "duration": 388,
    "start_time": "2021-12-05T18:55:52.570Z"
   },
   {
    "duration": 188,
    "start_time": "2021-12-05T18:56:07.219Z"
   },
   {
    "duration": 5836,
    "start_time": "2021-12-05T18:56:39.170Z"
   },
   {
    "duration": 211,
    "start_time": "2021-12-05T18:57:07.197Z"
   },
   {
    "duration": 318,
    "start_time": "2021-12-05T18:57:45.856Z"
   },
   {
    "duration": 9,
    "start_time": "2021-12-05T18:58:36.539Z"
   },
   {
    "duration": 205,
    "start_time": "2021-12-05T18:59:06.584Z"
   },
   {
    "duration": 181,
    "start_time": "2021-12-05T18:59:24.747Z"
   },
   {
    "duration": 329,
    "start_time": "2021-12-05T18:59:30.005Z"
   },
   {
    "duration": 255,
    "start_time": "2021-12-05T18:59:41.961Z"
   },
   {
    "duration": 244,
    "start_time": "2021-12-05T18:59:49.590Z"
   },
   {
    "duration": 274,
    "start_time": "2021-12-05T18:59:56.891Z"
   },
   {
    "duration": 399,
    "start_time": "2021-12-05T19:00:04.857Z"
   },
   {
    "duration": 334,
    "start_time": "2021-12-05T19:00:14.615Z"
   },
   {
    "duration": 274,
    "start_time": "2021-12-05T19:00:19.748Z"
   },
   {
    "duration": 260,
    "start_time": "2021-12-05T19:03:48.346Z"
   },
   {
    "duration": 233,
    "start_time": "2021-12-05T19:03:55.410Z"
   },
   {
    "duration": 9,
    "start_time": "2021-12-05T19:28:44.897Z"
   },
   {
    "duration": 76,
    "start_time": "2021-12-05T19:29:24.827Z"
   },
   {
    "duration": 6,
    "start_time": "2021-12-05T19:29:35.714Z"
   },
   {
    "duration": 20,
    "start_time": "2021-12-05T19:29:42.524Z"
   },
   {
    "duration": 279,
    "start_time": "2021-12-05T19:30:06.697Z"
   },
   {
    "duration": 263,
    "start_time": "2021-12-05T19:30:41.418Z"
   },
   {
    "duration": 7,
    "start_time": "2021-12-05T19:32:19.669Z"
   },
   {
    "duration": 21,
    "start_time": "2021-12-05T19:32:24.098Z"
   },
   {
    "duration": 250,
    "start_time": "2021-12-05T19:32:34.085Z"
   },
   {
    "duration": 247,
    "start_time": "2021-12-05T19:49:14.738Z"
   },
   {
    "duration": 311,
    "start_time": "2021-12-05T19:50:01.086Z"
   },
   {
    "duration": 388,
    "start_time": "2021-12-05T19:50:05.877Z"
   },
   {
    "duration": 382,
    "start_time": "2021-12-05T19:51:22.441Z"
   },
   {
    "duration": 269,
    "start_time": "2021-12-05T19:52:11.405Z"
   },
   {
    "duration": 254,
    "start_time": "2021-12-05T19:53:59.441Z"
   },
   {
    "duration": 257,
    "start_time": "2021-12-05T19:54:02.577Z"
   },
   {
    "duration": 194,
    "start_time": "2021-12-05T19:54:07.624Z"
   },
   {
    "duration": 205,
    "start_time": "2021-12-05T19:54:30.318Z"
   },
   {
    "duration": 346,
    "start_time": "2021-12-05T19:54:35.361Z"
   },
   {
    "duration": 283,
    "start_time": "2021-12-05T19:55:12.196Z"
   },
   {
    "duration": 220,
    "start_time": "2021-12-05T19:55:17.597Z"
   },
   {
    "duration": 259,
    "start_time": "2021-12-05T19:55:32.525Z"
   },
   {
    "duration": 335,
    "start_time": "2021-12-05T19:55:38.349Z"
   },
   {
    "duration": 216,
    "start_time": "2021-12-05T19:56:04.822Z"
   },
   {
    "duration": 651,
    "start_time": "2021-12-05T19:57:38.442Z"
   },
   {
    "duration": 209,
    "start_time": "2021-12-05T19:58:56.335Z"
   },
   {
    "duration": 8,
    "start_time": "2021-12-05T20:00:29.926Z"
   },
   {
    "duration": 7261,
    "start_time": "2021-12-05T20:01:03.972Z"
   },
   {
    "duration": 7146,
    "start_time": "2021-12-05T20:01:17.772Z"
   },
   {
    "duration": 4,
    "start_time": "2021-12-05T20:01:30.569Z"
   },
   {
    "duration": 7,
    "start_time": "2021-12-05T20:19:24.870Z"
   },
   {
    "duration": 5,
    "start_time": "2021-12-05T20:20:56.807Z"
   },
   {
    "duration": 87,
    "start_time": "2021-12-05T20:21:15.499Z"
   },
   {
    "duration": 5,
    "start_time": "2021-12-05T20:22:10.899Z"
   },
   {
    "duration": 277,
    "start_time": "2021-12-05T20:22:41.445Z"
   },
   {
    "duration": 5,
    "start_time": "2021-12-05T20:23:23.965Z"
   },
   {
    "duration": 87,
    "start_time": "2021-12-05T20:24:35.502Z"
   },
   {
    "duration": 77,
    "start_time": "2021-12-05T20:24:42.227Z"
   },
   {
    "duration": 6,
    "start_time": "2021-12-05T20:24:53.223Z"
   },
   {
    "duration": 5,
    "start_time": "2021-12-05T20:25:18.790Z"
   },
   {
    "duration": 21,
    "start_time": "2021-12-05T20:25:59.247Z"
   },
   {
    "duration": 418,
    "start_time": "2021-12-05T20:26:58.647Z"
   },
   {
    "duration": 288,
    "start_time": "2021-12-05T20:31:53.622Z"
   },
   {
    "duration": 288,
    "start_time": "2021-12-05T20:32:30.169Z"
   },
   {
    "duration": 6,
    "start_time": "2021-12-05T20:33:06.679Z"
   },
   {
    "duration": 281,
    "start_time": "2021-12-05T20:33:39.161Z"
   },
   {
    "duration": 123,
    "start_time": "2021-12-06T16:30:26.063Z"
   },
   {
    "duration": 139,
    "start_time": "2021-12-06T16:30:36.678Z"
   },
   {
    "duration": 1593,
    "start_time": "2021-12-06T16:34:34.137Z"
   },
   {
    "duration": 606,
    "start_time": "2021-12-06T16:34:35.733Z"
   },
   {
    "duration": 19,
    "start_time": "2021-12-06T16:34:36.342Z"
   },
   {
    "duration": 18,
    "start_time": "2021-12-06T16:34:36.364Z"
   },
   {
    "duration": 18,
    "start_time": "2021-12-06T16:34:36.385Z"
   },
   {
    "duration": 17,
    "start_time": "2021-12-06T16:34:36.405Z"
   },
   {
    "duration": 35,
    "start_time": "2021-12-06T16:34:36.424Z"
   },
   {
    "duration": 14,
    "start_time": "2021-12-06T16:34:36.465Z"
   },
   {
    "duration": 13,
    "start_time": "2021-12-06T16:34:36.483Z"
   },
   {
    "duration": 18,
    "start_time": "2021-12-06T16:34:36.498Z"
   },
   {
    "duration": 15,
    "start_time": "2021-12-06T16:34:36.519Z"
   },
   {
    "duration": 29,
    "start_time": "2021-12-06T16:34:36.537Z"
   },
   {
    "duration": 23,
    "start_time": "2021-12-06T16:34:36.569Z"
   },
   {
    "duration": 12,
    "start_time": "2021-12-06T16:34:36.594Z"
   },
   {
    "duration": 65,
    "start_time": "2021-12-06T16:34:36.608Z"
   },
   {
    "duration": 48,
    "start_time": "2021-12-06T16:34:36.676Z"
   },
   {
    "duration": 41,
    "start_time": "2021-12-06T16:34:36.726Z"
   },
   {
    "duration": 138,
    "start_time": "2021-12-06T16:34:36.769Z"
   },
   {
    "duration": 12,
    "start_time": "2021-12-06T16:34:36.910Z"
   },
   {
    "duration": 162,
    "start_time": "2021-12-06T16:34:36.924Z"
   },
   {
    "duration": 12,
    "start_time": "2021-12-06T16:34:37.088Z"
   },
   {
    "duration": 435,
    "start_time": "2021-12-06T16:34:37.103Z"
   },
   {
    "duration": 35,
    "start_time": "2021-12-06T16:34:37.547Z"
   },
   {
    "duration": 12,
    "start_time": "2021-12-06T16:34:37.588Z"
   },
   {
    "duration": 60,
    "start_time": "2021-12-06T16:34:37.603Z"
   },
   {
    "duration": 115,
    "start_time": "2021-12-06T16:34:37.666Z"
   },
   {
    "duration": 14,
    "start_time": "2021-12-06T16:34:37.784Z"
   },
   {
    "duration": 400,
    "start_time": "2021-12-06T16:34:37.801Z"
   },
   {
    "duration": 19,
    "start_time": "2021-12-06T16:34:38.204Z"
   },
   {
    "duration": 40,
    "start_time": "2021-12-06T16:34:38.225Z"
   },
   {
    "duration": 23,
    "start_time": "2021-12-06T16:34:38.268Z"
   },
   {
    "duration": 74,
    "start_time": "2021-12-06T16:34:38.294Z"
   },
   {
    "duration": 9,
    "start_time": "2021-12-06T16:34:38.370Z"
   },
   {
    "duration": 36,
    "start_time": "2021-12-06T16:34:38.381Z"
   },
   {
    "duration": 41,
    "start_time": "2021-12-06T16:34:38.419Z"
   },
   {
    "duration": 58,
    "start_time": "2021-12-06T16:34:38.463Z"
   },
   {
    "duration": 42,
    "start_time": "2021-12-06T16:34:38.524Z"
   },
   {
    "duration": 25,
    "start_time": "2021-12-06T16:34:38.569Z"
   },
   {
    "duration": 11,
    "start_time": "2021-12-06T16:34:38.596Z"
   },
   {
    "duration": 64,
    "start_time": "2021-12-06T16:34:38.609Z"
   },
   {
    "duration": 11,
    "start_time": "2021-12-06T16:34:38.676Z"
   },
   {
    "duration": 86,
    "start_time": "2021-12-06T16:34:38.689Z"
   },
   {
    "duration": 51,
    "start_time": "2021-12-06T16:34:38.777Z"
   },
   {
    "duration": 3,
    "start_time": "2021-12-06T16:34:38.830Z"
   },
   {
    "duration": 3,
    "start_time": "2021-12-06T16:34:38.859Z"
   },
   {
    "duration": 22,
    "start_time": "2021-12-06T16:34:38.864Z"
   },
   {
    "duration": 7,
    "start_time": "2021-12-06T16:34:38.888Z"
   },
   {
    "duration": 9,
    "start_time": "2021-12-06T16:34:38.898Z"
   },
   {
    "duration": 202,
    "start_time": "2021-12-06T16:34:38.910Z"
   },
   {
    "duration": 31,
    "start_time": "2021-12-06T16:34:39.115Z"
   },
   {
    "duration": 12,
    "start_time": "2021-12-06T16:34:39.160Z"
   },
   {
    "duration": 120,
    "start_time": "2021-12-06T16:34:39.174Z"
   },
   {
    "duration": 4730,
    "start_time": "2021-12-06T16:34:34.569Z"
   },
   {
    "duration": 4691,
    "start_time": "2021-12-06T16:34:34.610Z"
   },
   {
    "duration": 4655,
    "start_time": "2021-12-06T16:34:34.648Z"
   },
   {
    "duration": 4611,
    "start_time": "2021-12-06T16:34:34.693Z"
   },
   {
    "duration": 4570,
    "start_time": "2021-12-06T16:34:34.735Z"
   },
   {
    "duration": 4541,
    "start_time": "2021-12-06T16:34:34.765Z"
   },
   {
    "duration": 4531,
    "start_time": "2021-12-06T16:34:34.776Z"
   },
   {
    "duration": 4523,
    "start_time": "2021-12-06T16:34:34.785Z"
   },
   {
    "duration": 4506,
    "start_time": "2021-12-06T16:34:34.803Z"
   },
   {
    "duration": 4487,
    "start_time": "2021-12-06T16:34:34.823Z"
   },
   {
    "duration": 4466,
    "start_time": "2021-12-06T16:34:34.845Z"
   },
   {
    "duration": 4458,
    "start_time": "2021-12-06T16:34:34.854Z"
   },
   {
    "duration": 4451,
    "start_time": "2021-12-06T16:34:34.864Z"
   },
   {
    "duration": 4438,
    "start_time": "2021-12-06T16:34:34.878Z"
   },
   {
    "duration": 4429,
    "start_time": "2021-12-06T16:34:34.888Z"
   },
   {
    "duration": 4417,
    "start_time": "2021-12-06T16:34:34.902Z"
   },
   {
    "duration": 4403,
    "start_time": "2021-12-06T16:34:34.917Z"
   },
   {
    "duration": 4385,
    "start_time": "2021-12-06T16:34:34.936Z"
   },
   {
    "duration": 4371,
    "start_time": "2021-12-06T16:34:34.952Z"
   },
   {
    "duration": 4327,
    "start_time": "2021-12-06T16:34:34.997Z"
   },
   {
    "duration": 4318,
    "start_time": "2021-12-06T16:34:35.008Z"
   },
   {
    "duration": 4309,
    "start_time": "2021-12-06T16:34:35.018Z"
   },
   {
    "duration": 4293,
    "start_time": "2021-12-06T16:34:35.035Z"
   },
   {
    "duration": 4271,
    "start_time": "2021-12-06T16:34:35.059Z"
   },
   {
    "duration": 4249,
    "start_time": "2021-12-06T16:34:35.082Z"
   },
   {
    "duration": 4236,
    "start_time": "2021-12-06T16:34:35.097Z"
   },
   {
    "duration": 4223,
    "start_time": "2021-12-06T16:34:35.111Z"
   },
   {
    "duration": 4214,
    "start_time": "2021-12-06T16:34:35.121Z"
   },
   {
    "duration": 4200,
    "start_time": "2021-12-06T16:34:35.136Z"
   },
   {
    "duration": 305,
    "start_time": "2021-12-06T16:35:12.771Z"
   },
   {
    "duration": 20,
    "start_time": "2021-12-06T16:36:18.419Z"
   },
   {
    "duration": 47,
    "start_time": "2021-12-06T16:36:26.809Z"
   },
   {
    "duration": 16,
    "start_time": "2021-12-06T16:36:46.679Z"
   },
   {
    "duration": 503,
    "start_time": "2021-12-06T16:37:15.287Z"
   },
   {
    "duration": 869,
    "start_time": "2021-12-06T16:37:57.709Z"
   },
   {
    "duration": 14,
    "start_time": "2021-12-06T16:38:19.240Z"
   },
   {
    "duration": 859,
    "start_time": "2021-12-06T16:39:31.211Z"
   },
   {
    "duration": 41,
    "start_time": "2021-12-06T16:39:39.944Z"
   },
   {
    "duration": 552,
    "start_time": "2021-12-06T16:41:29.802Z"
   },
   {
    "duration": 1422,
    "start_time": "2021-12-06T16:41:45.288Z"
   },
   {
    "duration": 458,
    "start_time": "2021-12-06T16:43:20.034Z"
   },
   {
    "duration": 404,
    "start_time": "2021-12-06T16:43:41.106Z"
   },
   {
    "duration": 604,
    "start_time": "2021-12-06T16:43:53.209Z"
   },
   {
    "duration": 1630,
    "start_time": "2021-12-06T16:47:49.025Z"
   },
   {
    "duration": 546,
    "start_time": "2021-12-06T16:47:50.660Z"
   },
   {
    "duration": 19,
    "start_time": "2021-12-06T16:47:51.208Z"
   },
   {
    "duration": 17,
    "start_time": "2021-12-06T16:47:51.231Z"
   },
   {
    "duration": 13,
    "start_time": "2021-12-06T16:47:51.251Z"
   },
   {
    "duration": 10,
    "start_time": "2021-12-06T16:47:51.267Z"
   },
   {
    "duration": 13,
    "start_time": "2021-12-06T16:47:51.279Z"
   },
   {
    "duration": 18,
    "start_time": "2021-12-06T16:47:51.296Z"
   },
   {
    "duration": 12,
    "start_time": "2021-12-06T16:47:51.317Z"
   },
   {
    "duration": 36,
    "start_time": "2021-12-06T16:47:51.331Z"
   },
   {
    "duration": 8,
    "start_time": "2021-12-06T16:47:51.370Z"
   },
   {
    "duration": 11,
    "start_time": "2021-12-06T16:47:51.381Z"
   },
   {
    "duration": 13,
    "start_time": "2021-12-06T16:47:51.394Z"
   },
   {
    "duration": 54,
    "start_time": "2021-12-06T16:47:51.410Z"
   },
   {
    "duration": 28,
    "start_time": "2021-12-06T16:47:51.468Z"
   },
   {
    "duration": 73,
    "start_time": "2021-12-06T16:47:51.498Z"
   },
   {
    "duration": 20,
    "start_time": "2021-12-06T16:47:51.573Z"
   },
   {
    "duration": 147,
    "start_time": "2021-12-06T16:47:51.596Z"
   },
   {
    "duration": 22,
    "start_time": "2021-12-06T16:47:51.746Z"
   },
   {
    "duration": 162,
    "start_time": "2021-12-06T16:47:51.771Z"
   },
   {
    "duration": 12,
    "start_time": "2021-12-06T16:47:51.936Z"
   },
   {
    "duration": 437,
    "start_time": "2021-12-06T16:47:51.951Z"
   },
   {
    "duration": 22,
    "start_time": "2021-12-06T16:47:52.395Z"
   },
   {
    "duration": 38,
    "start_time": "2021-12-06T16:47:52.421Z"
   },
   {
    "duration": 29,
    "start_time": "2021-12-06T16:47:52.461Z"
   },
   {
    "duration": 129,
    "start_time": "2021-12-06T16:47:52.493Z"
   },
   {
    "duration": 15,
    "start_time": "2021-12-06T16:47:52.624Z"
   },
   {
    "duration": 408,
    "start_time": "2021-12-06T16:47:52.642Z"
   },
   {
    "duration": 23,
    "start_time": "2021-12-06T16:47:53.053Z"
   },
   {
    "duration": 19,
    "start_time": "2021-12-06T16:47:53.078Z"
   },
   {
    "duration": 61,
    "start_time": "2021-12-06T16:47:53.099Z"
   },
   {
    "duration": 54,
    "start_time": "2021-12-06T16:47:53.162Z"
   },
   {
    "duration": 9,
    "start_time": "2021-12-06T16:47:53.219Z"
   },
   {
    "duration": 58,
    "start_time": "2021-12-06T16:47:53.231Z"
   },
   {
    "duration": 17,
    "start_time": "2021-12-06T16:47:53.291Z"
   },
   {
    "duration": 83,
    "start_time": "2021-12-06T16:47:53.310Z"
   },
   {
    "duration": 17,
    "start_time": "2021-12-06T16:47:53.396Z"
   },
   {
    "duration": 45,
    "start_time": "2021-12-06T16:47:53.415Z"
   },
   {
    "duration": 12,
    "start_time": "2021-12-06T16:47:53.462Z"
   },
   {
    "duration": 37,
    "start_time": "2021-12-06T16:47:53.476Z"
   },
   {
    "duration": 9,
    "start_time": "2021-12-06T16:47:53.516Z"
   },
   {
    "duration": 111,
    "start_time": "2021-12-06T16:47:53.528Z"
   },
   {
    "duration": 65,
    "start_time": "2021-12-06T16:47:53.642Z"
   },
   {
    "duration": 3,
    "start_time": "2021-12-06T16:47:53.709Z"
   },
   {
    "duration": 6,
    "start_time": "2021-12-06T16:47:53.715Z"
   },
   {
    "duration": 42,
    "start_time": "2021-12-06T16:47:53.724Z"
   },
   {
    "duration": 8,
    "start_time": "2021-12-06T16:47:53.769Z"
   },
   {
    "duration": 13,
    "start_time": "2021-12-06T16:47:53.780Z"
   },
   {
    "duration": 200,
    "start_time": "2021-12-06T16:47:53.795Z"
   },
   {
    "duration": 9,
    "start_time": "2021-12-06T16:47:53.997Z"
   },
   {
    "duration": 12,
    "start_time": "2021-12-06T16:47:54.009Z"
   },
   {
    "duration": 1306,
    "start_time": "2021-12-06T16:47:54.023Z"
   },
   {
    "duration": 32,
    "start_time": "2021-12-06T16:47:55.332Z"
   },
   {
    "duration": 7,
    "start_time": "2021-12-06T16:47:55.366Z"
   },
   {
    "duration": 10,
    "start_time": "2021-12-06T16:47:55.377Z"
   },
   {
    "duration": 21,
    "start_time": "2021-12-06T16:47:55.390Z"
   },
   {
    "duration": 842,
    "start_time": "2021-12-06T16:47:55.413Z"
   },
   {
    "duration": 12,
    "start_time": "2021-12-06T16:47:56.260Z"
   },
   {
    "duration": 12,
    "start_time": "2021-12-06T16:47:56.275Z"
   },
   {
    "duration": 9,
    "start_time": "2021-12-06T16:47:56.291Z"
   },
   {
    "duration": 8,
    "start_time": "2021-12-06T16:47:56.303Z"
   },
   {
    "duration": 49,
    "start_time": "2021-12-06T16:47:56.315Z"
   },
   {
    "duration": 791,
    "start_time": "2021-12-06T16:47:56.368Z"
   },
   {
    "duration": 581,
    "start_time": "2021-12-06T16:47:57.162Z"
   },
   {
    "duration": 602,
    "start_time": "2021-12-06T16:47:57.747Z"
   },
   {
    "duration": 781,
    "start_time": "2021-12-06T16:47:58.352Z"
   },
   {
    "duration": 4,
    "start_time": "2021-12-06T16:47:59.136Z"
   },
   {
    "duration": 9,
    "start_time": "2021-12-06T16:47:59.164Z"
   },
   {
    "duration": 11,
    "start_time": "2021-12-06T16:47:59.176Z"
   },
   {
    "duration": 12,
    "start_time": "2021-12-06T16:47:59.190Z"
   },
   {
    "duration": 11,
    "start_time": "2021-12-06T16:47:59.205Z"
   },
   {
    "duration": 41,
    "start_time": "2021-12-06T16:47:59.218Z"
   },
   {
    "duration": 491,
    "start_time": "2021-12-06T16:47:59.262Z"
   },
   {
    "duration": 576,
    "start_time": "2021-12-06T16:47:59.760Z"
   },
   {
    "duration": 876,
    "start_time": "2021-12-06T16:48:00.339Z"
   },
   {
    "duration": 758,
    "start_time": "2021-12-06T16:48:01.218Z"
   },
   {
    "duration": 7,
    "start_time": "2021-12-06T16:48:01.978Z"
   },
   {
    "duration": 23,
    "start_time": "2021-12-06T16:48:01.988Z"
   },
   {
    "duration": 62,
    "start_time": "2021-12-06T16:48:02.014Z"
   },
   {
    "duration": 9,
    "start_time": "2021-12-06T16:48:02.079Z"
   },
   {
    "duration": 13,
    "start_time": "2021-12-06T16:48:02.091Z"
   },
   {
    "duration": 6,
    "start_time": "2021-12-06T16:49:21.694Z"
   },
   {
    "duration": 9,
    "start_time": "2021-12-06T16:52:49.511Z"
   },
   {
    "duration": 8,
    "start_time": "2021-12-06T16:52:51.447Z"
   },
   {
    "duration": 48202,
    "start_time": "2021-12-06T16:53:23.617Z"
   },
   {
    "duration": 668,
    "start_time": "2021-12-06T16:57:01.257Z"
   },
   {
    "duration": 8,
    "start_time": "2021-12-06T16:57:23.193Z"
   },
   {
    "duration": 24,
    "start_time": "2021-12-06T17:00:30.625Z"
   },
   {
    "duration": 8,
    "start_time": "2021-12-06T17:00:57.319Z"
   },
   {
    "duration": 7,
    "start_time": "2021-12-06T17:01:41.961Z"
   },
   {
    "duration": 745,
    "start_time": "2021-12-06T17:06:21.678Z"
   },
   {
    "duration": 672,
    "start_time": "2021-12-06T17:07:18.263Z"
   },
   {
    "duration": 841,
    "start_time": "2021-12-06T17:08:49.421Z"
   },
   {
    "duration": 815,
    "start_time": "2021-12-06T17:09:13.222Z"
   },
   {
    "duration": 11,
    "start_time": "2021-12-06T17:10:41.754Z"
   },
   {
    "duration": 9,
    "start_time": "2021-12-06T17:10:51.173Z"
   },
   {
    "duration": 8,
    "start_time": "2021-12-06T17:11:11.103Z"
   },
   {
    "duration": 9,
    "start_time": "2021-12-06T17:11:37.729Z"
   },
   {
    "duration": 8,
    "start_time": "2021-12-06T17:19:35.133Z"
   },
   {
    "duration": 13,
    "start_time": "2021-12-06T17:19:49.321Z"
   },
   {
    "duration": 9,
    "start_time": "2021-12-06T17:20:07.266Z"
   },
   {
    "duration": 7,
    "start_time": "2021-12-06T17:20:10.817Z"
   },
   {
    "duration": 11,
    "start_time": "2021-12-06T17:21:39.340Z"
   },
   {
    "duration": 486,
    "start_time": "2021-12-06T17:23:58.186Z"
   },
   {
    "duration": 8,
    "start_time": "2021-12-06T17:24:44.082Z"
   },
   {
    "duration": 10,
    "start_time": "2021-12-06T17:24:50.668Z"
   },
   {
    "duration": 20,
    "start_time": "2021-12-06T17:26:24.029Z"
   },
   {
    "duration": 9,
    "start_time": "2021-12-06T17:26:56.475Z"
   },
   {
    "duration": 457,
    "start_time": "2021-12-06T17:27:23.094Z"
   },
   {
    "duration": 493,
    "start_time": "2021-12-06T17:27:39.891Z"
   },
   {
    "duration": 10,
    "start_time": "2021-12-06T17:28:02.405Z"
   },
   {
    "duration": 10,
    "start_time": "2021-12-06T17:28:09.478Z"
   },
   {
    "duration": 400,
    "start_time": "2021-12-06T17:28:27.284Z"
   },
   {
    "duration": 369,
    "start_time": "2021-12-06T17:28:42.227Z"
   },
   {
    "duration": 13,
    "start_time": "2021-12-06T17:30:17.896Z"
   },
   {
    "duration": 9,
    "start_time": "2021-12-06T17:30:22.803Z"
   },
   {
    "duration": 11,
    "start_time": "2021-12-06T17:30:29.863Z"
   },
   {
    "duration": 19,
    "start_time": "2021-12-06T17:31:21.852Z"
   },
   {
    "duration": 9,
    "start_time": "2021-12-06T17:31:53.413Z"
   },
   {
    "duration": 807,
    "start_time": "2021-12-06T17:32:39.575Z"
   },
   {
    "duration": 588,
    "start_time": "2021-12-06T17:36:16.873Z"
   },
   {
    "duration": 21,
    "start_time": "2021-12-06T19:05:07.149Z"
   },
   {
    "duration": 7,
    "start_time": "2021-12-06T19:06:56.303Z"
   },
   {
    "duration": 8,
    "start_time": "2021-12-06T19:08:18.939Z"
   },
   {
    "duration": 1497,
    "start_time": "2021-12-07T08:10:01.280Z"
   },
   {
    "duration": 513,
    "start_time": "2021-12-07T08:10:02.779Z"
   },
   {
    "duration": 18,
    "start_time": "2021-12-07T08:10:03.295Z"
   },
   {
    "duration": 35,
    "start_time": "2021-12-07T08:10:03.316Z"
   },
   {
    "duration": 40,
    "start_time": "2021-12-07T08:10:03.353Z"
   },
   {
    "duration": 27,
    "start_time": "2021-12-07T08:10:03.395Z"
   },
   {
    "duration": 38,
    "start_time": "2021-12-07T08:10:03.424Z"
   },
   {
    "duration": 23,
    "start_time": "2021-12-07T08:10:03.467Z"
   },
   {
    "duration": 45,
    "start_time": "2021-12-07T08:10:03.494Z"
   },
   {
    "duration": 21,
    "start_time": "2021-12-07T08:10:03.541Z"
   },
   {
    "duration": 46,
    "start_time": "2021-12-07T08:10:03.564Z"
   },
   {
    "duration": 30,
    "start_time": "2021-12-07T08:10:03.612Z"
   },
   {
    "duration": 50,
    "start_time": "2021-12-07T08:10:03.644Z"
   },
   {
    "duration": 26,
    "start_time": "2021-12-07T08:10:03.696Z"
   },
   {
    "duration": 38,
    "start_time": "2021-12-07T08:10:03.724Z"
   },
   {
    "duration": 61,
    "start_time": "2021-12-07T08:10:03.764Z"
   },
   {
    "duration": 18,
    "start_time": "2021-12-07T08:10:03.827Z"
   },
   {
    "duration": 146,
    "start_time": "2021-12-07T08:10:03.847Z"
   },
   {
    "duration": 11,
    "start_time": "2021-12-07T08:10:03.995Z"
   },
   {
    "duration": 154,
    "start_time": "2021-12-07T08:10:04.008Z"
   },
   {
    "duration": 11,
    "start_time": "2021-12-07T08:10:04.164Z"
   },
   {
    "duration": 438,
    "start_time": "2021-12-07T08:10:04.178Z"
   },
   {
    "duration": 23,
    "start_time": "2021-12-07T08:10:04.628Z"
   },
   {
    "duration": 27,
    "start_time": "2021-12-07T08:10:04.656Z"
   },
   {
    "duration": 47,
    "start_time": "2021-12-07T08:10:04.686Z"
   },
   {
    "duration": 110,
    "start_time": "2021-12-07T08:10:04.735Z"
   },
   {
    "duration": 12,
    "start_time": "2021-12-07T08:10:04.847Z"
   },
   {
    "duration": 444,
    "start_time": "2021-12-07T08:10:04.861Z"
   },
   {
    "duration": 31,
    "start_time": "2021-12-07T08:10:05.308Z"
   },
   {
    "duration": 19,
    "start_time": "2021-12-07T08:10:05.341Z"
   },
   {
    "duration": 28,
    "start_time": "2021-12-07T08:10:05.362Z"
   },
   {
    "duration": 78,
    "start_time": "2021-12-07T08:10:05.392Z"
   },
   {
    "duration": 10,
    "start_time": "2021-12-07T08:10:05.472Z"
   },
   {
    "duration": 60,
    "start_time": "2021-12-07T08:10:05.484Z"
   },
   {
    "duration": 14,
    "start_time": "2021-12-07T08:10:05.547Z"
   },
   {
    "duration": 79,
    "start_time": "2021-12-07T08:10:05.564Z"
   },
   {
    "duration": 17,
    "start_time": "2021-12-07T08:10:05.646Z"
   },
   {
    "duration": 26,
    "start_time": "2021-12-07T08:10:05.665Z"
   },
   {
    "duration": 35,
    "start_time": "2021-12-07T08:10:05.693Z"
   },
   {
    "duration": 44,
    "start_time": "2021-12-07T08:10:05.730Z"
   },
   {
    "duration": 11,
    "start_time": "2021-12-07T08:10:05.776Z"
   },
   {
    "duration": 104,
    "start_time": "2021-12-07T08:10:05.789Z"
   },
   {
    "duration": 67,
    "start_time": "2021-12-07T08:10:05.895Z"
   },
   {
    "duration": 3,
    "start_time": "2021-12-07T08:10:05.965Z"
   },
   {
    "duration": 6,
    "start_time": "2021-12-07T08:10:05.970Z"
   },
   {
    "duration": 12,
    "start_time": "2021-12-07T08:10:05.978Z"
   },
   {
    "duration": 6,
    "start_time": "2021-12-07T08:10:05.992Z"
   },
   {
    "duration": 18,
    "start_time": "2021-12-07T08:10:06.023Z"
   },
   {
    "duration": 185,
    "start_time": "2021-12-07T08:10:06.044Z"
   },
   {
    "duration": 12,
    "start_time": "2021-12-07T08:10:06.232Z"
   },
   {
    "duration": 39,
    "start_time": "2021-12-07T08:10:06.247Z"
   },
   {
    "duration": 1165,
    "start_time": "2021-12-07T08:10:06.289Z"
   },
   {
    "duration": 8,
    "start_time": "2021-12-07T08:10:07.457Z"
   },
   {
    "duration": 10,
    "start_time": "2021-12-07T08:10:07.467Z"
   },
   {
    "duration": 9,
    "start_time": "2021-12-07T08:10:07.480Z"
   },
   {
    "duration": 560,
    "start_time": "2021-12-07T08:10:07.492Z"
   },
   {
    "duration": 7,
    "start_time": "2021-12-07T08:10:08.055Z"
   },
   {
    "duration": 587,
    "start_time": "2021-12-07T08:10:08.065Z"
   },
   {
    "duration": 7,
    "start_time": "2021-12-07T08:10:08.655Z"
   },
   {
    "duration": 478,
    "start_time": "2021-12-07T08:10:08.665Z"
   },
   {
    "duration": 7,
    "start_time": "2021-12-07T08:10:09.146Z"
   },
   {
    "duration": 472,
    "start_time": "2021-12-07T08:10:09.156Z"
   },
   {
    "duration": 7,
    "start_time": "2021-12-07T08:10:09.630Z"
   },
   {
    "duration": 469,
    "start_time": "2021-12-07T08:10:09.639Z"
   },
   {
    "duration": 16,
    "start_time": "2021-12-07T08:10:10.110Z"
   },
   {
    "duration": 563,
    "start_time": "2021-12-07T08:10:10.129Z"
   },
   {
    "duration": 31,
    "start_time": "2021-12-07T08:10:10.695Z"
   },
   {
    "duration": 8,
    "start_time": "2021-12-07T08:10:10.733Z"
   },
   {
    "duration": 19,
    "start_time": "2021-12-07T08:11:44.782Z"
   },
   {
    "duration": 33,
    "start_time": "2021-12-07T08:12:46.171Z"
   },
   {
    "duration": 35,
    "start_time": "2021-12-07T08:13:31.919Z"
   },
   {
    "duration": 1057,
    "start_time": "2021-12-07T13:25:38.558Z"
   },
   {
    "duration": 358,
    "start_time": "2021-12-07T13:25:39.617Z"
   },
   {
    "duration": 10,
    "start_time": "2021-12-07T13:25:39.977Z"
   },
   {
    "duration": 16,
    "start_time": "2021-12-07T13:25:39.989Z"
   },
   {
    "duration": 10,
    "start_time": "2021-12-07T13:25:40.007Z"
   },
   {
    "duration": 10,
    "start_time": "2021-12-07T13:25:40.019Z"
   },
   {
    "duration": 14,
    "start_time": "2021-12-07T13:25:40.030Z"
   },
   {
    "duration": 16,
    "start_time": "2021-12-07T13:25:40.045Z"
   },
   {
    "duration": 8,
    "start_time": "2021-12-07T13:25:40.064Z"
   },
   {
    "duration": 31,
    "start_time": "2021-12-07T13:25:40.074Z"
   },
   {
    "duration": 15,
    "start_time": "2021-12-07T13:25:40.106Z"
   },
   {
    "duration": 35,
    "start_time": "2021-12-07T13:25:40.123Z"
   },
   {
    "duration": 30,
    "start_time": "2021-12-07T13:25:40.159Z"
   },
   {
    "duration": 9,
    "start_time": "2021-12-07T13:25:40.191Z"
   },
   {
    "duration": 24,
    "start_time": "2021-12-07T13:25:40.201Z"
   },
   {
    "duration": 27,
    "start_time": "2021-12-07T13:25:40.226Z"
   },
   {
    "duration": 12,
    "start_time": "2021-12-07T13:25:40.255Z"
   },
   {
    "duration": 85,
    "start_time": "2021-12-07T13:25:40.268Z"
   },
   {
    "duration": 7,
    "start_time": "2021-12-07T13:25:40.355Z"
   },
   {
    "duration": 94,
    "start_time": "2021-12-07T13:25:40.364Z"
   },
   {
    "duration": 8,
    "start_time": "2021-12-07T13:25:40.459Z"
   },
   {
    "duration": 237,
    "start_time": "2021-12-07T13:25:40.469Z"
   },
   {
    "duration": 15,
    "start_time": "2021-12-07T13:25:40.708Z"
   },
   {
    "duration": 8,
    "start_time": "2021-12-07T13:25:40.724Z"
   },
   {
    "duration": 22,
    "start_time": "2021-12-07T13:25:40.734Z"
   },
   {
    "duration": 75,
    "start_time": "2021-12-07T13:25:40.757Z"
   },
   {
    "duration": 7,
    "start_time": "2021-12-07T13:25:40.836Z"
   },
   {
    "duration": 214,
    "start_time": "2021-12-07T13:25:40.845Z"
   },
   {
    "duration": 27,
    "start_time": "2021-12-07T13:25:41.060Z"
   },
   {
    "duration": 14,
    "start_time": "2021-12-07T13:25:41.089Z"
   },
   {
    "duration": 15,
    "start_time": "2021-12-07T13:25:41.105Z"
   },
   {
    "duration": 31,
    "start_time": "2021-12-07T13:25:41.122Z"
   },
   {
    "duration": 5,
    "start_time": "2021-12-07T13:25:41.154Z"
   },
   {
    "duration": 43,
    "start_time": "2021-12-07T13:25:41.161Z"
   },
   {
    "duration": 8,
    "start_time": "2021-12-07T13:25:41.205Z"
   },
   {
    "duration": 35,
    "start_time": "2021-12-07T13:25:41.214Z"
   },
   {
    "duration": 10,
    "start_time": "2021-12-07T13:25:41.250Z"
   },
   {
    "duration": 34,
    "start_time": "2021-12-07T13:25:41.261Z"
   },
   {
    "duration": 6,
    "start_time": "2021-12-07T13:25:41.297Z"
   },
   {
    "duration": 24,
    "start_time": "2021-12-07T13:25:41.304Z"
   },
   {
    "duration": 7,
    "start_time": "2021-12-07T13:25:41.329Z"
   },
   {
    "duration": 59,
    "start_time": "2021-12-07T13:25:41.337Z"
   },
   {
    "duration": 30,
    "start_time": "2021-12-07T13:25:41.398Z"
   },
   {
    "duration": 2,
    "start_time": "2021-12-07T13:25:41.429Z"
   },
   {
    "duration": 9,
    "start_time": "2021-12-07T13:25:41.433Z"
   },
   {
    "duration": 12,
    "start_time": "2021-12-07T13:25:41.443Z"
   },
   {
    "duration": 4,
    "start_time": "2021-12-07T13:25:41.462Z"
   },
   {
    "duration": 7,
    "start_time": "2021-12-07T13:25:41.467Z"
   },
   {
    "duration": 116,
    "start_time": "2021-12-07T13:25:41.475Z"
   },
   {
    "duration": 6,
    "start_time": "2021-12-07T13:25:41.593Z"
   },
   {
    "duration": 17,
    "start_time": "2021-12-07T13:25:41.601Z"
   },
   {
    "duration": 818,
    "start_time": "2021-12-07T13:25:41.619Z"
   },
   {
    "duration": 5,
    "start_time": "2021-12-07T13:25:42.439Z"
   },
   {
    "duration": 9,
    "start_time": "2021-12-07T13:25:42.445Z"
   },
   {
    "duration": 8,
    "start_time": "2021-12-07T13:25:42.455Z"
   },
   {
    "duration": 315,
    "start_time": "2021-12-07T13:25:42.464Z"
   },
   {
    "duration": 10,
    "start_time": "2021-12-07T13:25:42.781Z"
   },
   {
    "duration": 257,
    "start_time": "2021-12-07T13:25:42.793Z"
   },
   {
    "duration": 5,
    "start_time": "2021-12-07T13:25:43.052Z"
   },
   {
    "duration": 244,
    "start_time": "2021-12-07T13:25:43.059Z"
   },
   {
    "duration": 5,
    "start_time": "2021-12-07T13:25:43.305Z"
   },
   {
    "duration": 244,
    "start_time": "2021-12-07T13:25:43.312Z"
   },
   {
    "duration": 5,
    "start_time": "2021-12-07T13:25:43.557Z"
   },
   {
    "duration": 255,
    "start_time": "2021-12-07T13:25:43.563Z"
   },
   {
    "duration": 4,
    "start_time": "2021-12-07T13:25:43.820Z"
   },
   {
    "duration": 317,
    "start_time": "2021-12-07T13:25:43.826Z"
   },
   {
    "duration": 11,
    "start_time": "2021-12-07T13:25:44.145Z"
   },
   {
    "duration": 7,
    "start_time": "2021-12-07T13:25:44.157Z"
   },
   {
    "duration": 30,
    "start_time": "2021-12-07T13:25:44.165Z"
   },
   {
    "duration": 17,
    "start_time": "2021-12-07T13:25:44.196Z"
   },
   {
    "duration": 5,
    "start_time": "2021-12-07T13:26:23.370Z"
   },
   {
    "duration": 6,
    "start_time": "2021-12-07T13:26:39.131Z"
   },
   {
    "duration": 1566,
    "start_time": "2021-12-07T15:58:07.962Z"
   },
   {
    "duration": 535,
    "start_time": "2021-12-07T15:58:09.531Z"
   },
   {
    "duration": 20,
    "start_time": "2021-12-07T15:58:10.069Z"
   },
   {
    "duration": 16,
    "start_time": "2021-12-07T15:58:10.092Z"
   },
   {
    "duration": 14,
    "start_time": "2021-12-07T15:58:10.110Z"
   },
   {
    "duration": 44,
    "start_time": "2021-12-07T15:58:10.127Z"
   },
   {
    "duration": 14,
    "start_time": "2021-12-07T15:58:10.173Z"
   },
   {
    "duration": 16,
    "start_time": "2021-12-07T15:58:10.192Z"
   },
   {
    "duration": 9,
    "start_time": "2021-12-07T15:58:10.211Z"
   },
   {
    "duration": 50,
    "start_time": "2021-12-07T15:58:10.222Z"
   },
   {
    "duration": 6,
    "start_time": "2021-12-07T15:58:10.275Z"
   },
   {
    "duration": 17,
    "start_time": "2021-12-07T15:58:10.283Z"
   },
   {
    "duration": 24,
    "start_time": "2021-12-07T15:58:10.302Z"
   },
   {
    "duration": 18,
    "start_time": "2021-12-07T15:58:10.328Z"
   },
   {
    "duration": 39,
    "start_time": "2021-12-07T15:58:10.348Z"
   },
   {
    "duration": 43,
    "start_time": "2021-12-07T15:58:10.389Z"
   },
   {
    "duration": 44,
    "start_time": "2021-12-07T15:58:10.435Z"
   },
   {
    "duration": 135,
    "start_time": "2021-12-07T15:58:10.481Z"
   },
   {
    "duration": 11,
    "start_time": "2021-12-07T15:58:10.618Z"
   },
   {
    "duration": 157,
    "start_time": "2021-12-07T15:58:10.631Z"
   },
   {
    "duration": 11,
    "start_time": "2021-12-07T15:58:10.790Z"
   },
   {
    "duration": 548,
    "start_time": "2021-12-07T15:58:10.803Z"
   },
   {
    "duration": 29,
    "start_time": "2021-12-07T15:58:11.357Z"
   },
   {
    "duration": 13,
    "start_time": "2021-12-07T15:58:11.390Z"
   },
   {
    "duration": 42,
    "start_time": "2021-12-07T15:58:11.405Z"
   },
   {
    "duration": 126,
    "start_time": "2021-12-07T15:58:11.450Z"
   },
   {
    "duration": 13,
    "start_time": "2021-12-07T15:58:11.578Z"
   },
   {
    "duration": 586,
    "start_time": "2021-12-07T15:58:11.594Z"
   },
   {
    "duration": 21,
    "start_time": "2021-12-07T15:58:12.183Z"
   },
   {
    "duration": 30,
    "start_time": "2021-12-07T15:58:12.207Z"
   },
   {
    "duration": 48,
    "start_time": "2021-12-07T15:58:12.239Z"
   },
   {
    "duration": 56,
    "start_time": "2021-12-07T15:58:12.289Z"
   },
   {
    "duration": 21,
    "start_time": "2021-12-07T15:58:12.348Z"
   },
   {
    "duration": 48,
    "start_time": "2021-12-07T15:58:12.373Z"
   },
   {
    "duration": 18,
    "start_time": "2021-12-07T15:58:12.423Z"
   },
   {
    "duration": 88,
    "start_time": "2021-12-07T15:58:12.444Z"
   },
   {
    "duration": 19,
    "start_time": "2021-12-07T15:58:12.534Z"
   },
   {
    "duration": 43,
    "start_time": "2021-12-07T15:58:12.555Z"
   },
   {
    "duration": 12,
    "start_time": "2021-12-07T15:58:12.601Z"
   },
   {
    "duration": 52,
    "start_time": "2021-12-07T15:58:12.615Z"
   },
   {
    "duration": 10,
    "start_time": "2021-12-07T15:58:12.669Z"
   },
   {
    "duration": 83,
    "start_time": "2021-12-07T15:58:12.681Z"
   },
   {
    "duration": 52,
    "start_time": "2021-12-07T15:58:12.768Z"
   },
   {
    "duration": 3,
    "start_time": "2021-12-07T15:58:12.822Z"
   },
   {
    "duration": 38,
    "start_time": "2021-12-07T15:58:12.828Z"
   },
   {
    "duration": 28,
    "start_time": "2021-12-07T15:58:12.868Z"
   },
   {
    "duration": 17,
    "start_time": "2021-12-07T15:58:12.898Z"
   },
   {
    "duration": 20,
    "start_time": "2021-12-07T15:58:12.917Z"
   },
   {
    "duration": 213,
    "start_time": "2021-12-07T15:58:12.940Z"
   },
   {
    "duration": 26,
    "start_time": "2021-12-07T15:58:13.155Z"
   },
   {
    "duration": 27,
    "start_time": "2021-12-07T15:58:13.183Z"
   },
   {
    "duration": 1213,
    "start_time": "2021-12-07T15:58:13.213Z"
   },
   {
    "duration": 7,
    "start_time": "2021-12-07T15:58:14.429Z"
   },
   {
    "duration": 9,
    "start_time": "2021-12-07T15:58:14.439Z"
   },
   {
    "duration": 21,
    "start_time": "2021-12-07T15:58:14.451Z"
   },
   {
    "duration": 576,
    "start_time": "2021-12-07T15:58:14.475Z"
   },
   {
    "duration": 15,
    "start_time": "2021-12-07T15:58:15.053Z"
   },
   {
    "duration": 507,
    "start_time": "2021-12-07T15:58:15.071Z"
   },
   {
    "duration": 7,
    "start_time": "2021-12-07T15:58:15.580Z"
   },
   {
    "duration": 490,
    "start_time": "2021-12-07T15:58:15.590Z"
   },
   {
    "duration": 6,
    "start_time": "2021-12-07T15:58:16.083Z"
   },
   {
    "duration": 479,
    "start_time": "2021-12-07T15:58:16.092Z"
   },
   {
    "duration": 7,
    "start_time": "2021-12-07T15:58:16.574Z"
   },
   {
    "duration": 513,
    "start_time": "2021-12-07T15:58:16.583Z"
   },
   {
    "duration": 8,
    "start_time": "2021-12-07T15:58:17.099Z"
   },
   {
    "duration": 612,
    "start_time": "2021-12-07T15:58:17.110Z"
   },
   {
    "duration": 20,
    "start_time": "2021-12-07T15:58:17.726Z"
   },
   {
    "duration": 8,
    "start_time": "2021-12-07T15:58:17.774Z"
   },
   {
    "duration": 35,
    "start_time": "2021-12-07T15:58:17.785Z"
   },
   {
    "duration": 71,
    "start_time": "2021-12-07T15:58:17.823Z"
   },
   {
    "duration": 491,
    "start_time": "2021-12-07T16:03:07.488Z"
   },
   {
    "duration": 10,
    "start_time": "2021-12-07T16:45:09.885Z"
   },
   {
    "duration": 37,
    "start_time": "2021-12-07T16:46:14.182Z"
   },
   {
    "duration": 12,
    "start_time": "2021-12-07T16:46:46.182Z"
   },
   {
    "duration": 6,
    "start_time": "2021-12-07T16:47:05.693Z"
   },
   {
    "duration": 6,
    "start_time": "2021-12-07T16:47:13.647Z"
   },
   {
    "duration": 12,
    "start_time": "2021-12-07T16:48:26.917Z"
   },
   {
    "duration": 12,
    "start_time": "2021-12-07T16:52:32.593Z"
   },
   {
    "duration": 13,
    "start_time": "2021-12-07T16:52:39.521Z"
   },
   {
    "duration": 13,
    "start_time": "2021-12-07T16:52:49.385Z"
   },
   {
    "duration": 13,
    "start_time": "2021-12-07T16:52:56.766Z"
   },
   {
    "duration": 11,
    "start_time": "2021-12-07T17:58:33.656Z"
   },
   {
    "duration": 373,
    "start_time": "2021-12-07T18:07:44.053Z"
   },
   {
    "duration": 374,
    "start_time": "2021-12-07T18:07:51.671Z"
   },
   {
    "duration": 395,
    "start_time": "2021-12-07T18:07:55.640Z"
   },
   {
    "duration": 420,
    "start_time": "2021-12-07T18:07:59.434Z"
   },
   {
    "duration": 468,
    "start_time": "2021-12-07T18:08:02.941Z"
   },
   {
    "duration": 552,
    "start_time": "2021-12-07T18:08:08.977Z"
   },
   {
    "duration": 477,
    "start_time": "2021-12-07T18:08:17.363Z"
   },
   {
    "duration": 1452,
    "start_time": "2021-12-07T18:08:36.181Z"
   },
   {
    "duration": 525,
    "start_time": "2021-12-07T18:08:37.635Z"
   },
   {
    "duration": 19,
    "start_time": "2021-12-07T18:08:38.163Z"
   },
   {
    "duration": 18,
    "start_time": "2021-12-07T18:08:38.186Z"
   },
   {
    "duration": 14,
    "start_time": "2021-12-07T18:08:38.207Z"
   },
   {
    "duration": 12,
    "start_time": "2021-12-07T18:08:38.224Z"
   },
   {
    "duration": 12,
    "start_time": "2021-12-07T18:08:38.267Z"
   },
   {
    "duration": 17,
    "start_time": "2021-12-07T18:08:38.283Z"
   },
   {
    "duration": 11,
    "start_time": "2021-12-07T18:08:38.304Z"
   },
   {
    "duration": 10,
    "start_time": "2021-12-07T18:08:38.318Z"
   },
   {
    "duration": 44,
    "start_time": "2021-12-07T18:08:38.330Z"
   },
   {
    "duration": 13,
    "start_time": "2021-12-07T18:08:38.377Z"
   },
   {
    "duration": 11,
    "start_time": "2021-12-07T18:08:38.393Z"
   },
   {
    "duration": 60,
    "start_time": "2021-12-07T18:08:38.407Z"
   },
   {
    "duration": 45,
    "start_time": "2021-12-07T18:08:38.470Z"
   },
   {
    "duration": 22,
    "start_time": "2021-12-07T18:08:38.517Z"
   },
   {
    "duration": 134,
    "start_time": "2021-12-07T18:08:38.567Z"
   },
   {
    "duration": 12,
    "start_time": "2021-12-07T18:08:38.703Z"
   },
   {
    "duration": 160,
    "start_time": "2021-12-07T18:08:38.717Z"
   },
   {
    "duration": 14,
    "start_time": "2021-12-07T18:08:38.880Z"
   },
   {
    "duration": 449,
    "start_time": "2021-12-07T18:08:38.897Z"
   },
   {
    "duration": 36,
    "start_time": "2021-12-07T18:08:39.348Z"
   },
   {
    "duration": 12,
    "start_time": "2021-12-07T18:08:39.389Z"
   },
   {
    "duration": 31,
    "start_time": "2021-12-07T18:08:39.405Z"
   },
   {
    "duration": 128,
    "start_time": "2021-12-07T18:08:39.439Z"
   },
   {
    "duration": 13,
    "start_time": "2021-12-07T18:08:39.569Z"
   },
   {
    "duration": 421,
    "start_time": "2021-12-07T18:08:39.585Z"
   },
   {
    "duration": 19,
    "start_time": "2021-12-07T18:08:40.008Z"
   },
   {
    "duration": 37,
    "start_time": "2021-12-07T18:08:40.030Z"
   },
   {
    "duration": 27,
    "start_time": "2021-12-07T18:08:40.070Z"
   },
   {
    "duration": 87,
    "start_time": "2021-12-07T18:08:40.099Z"
   },
   {
    "duration": 9,
    "start_time": "2021-12-07T18:08:40.189Z"
   },
   {
    "duration": 36,
    "start_time": "2021-12-07T18:08:40.200Z"
   },
   {
    "duration": 35,
    "start_time": "2021-12-07T18:08:40.239Z"
   },
   {
    "duration": 57,
    "start_time": "2021-12-07T18:08:40.276Z"
   },
   {
    "duration": 38,
    "start_time": "2021-12-07T18:08:40.336Z"
   },
   {
    "duration": 25,
    "start_time": "2021-12-07T18:08:40.376Z"
   },
   {
    "duration": 11,
    "start_time": "2021-12-07T18:08:40.404Z"
   },
   {
    "duration": 71,
    "start_time": "2021-12-07T18:08:40.417Z"
   },
   {
    "duration": 10,
    "start_time": "2021-12-07T18:08:40.490Z"
   },
   {
    "duration": 84,
    "start_time": "2021-12-07T18:08:40.502Z"
   },
   {
    "duration": 53,
    "start_time": "2021-12-07T18:08:40.588Z"
   },
   {
    "duration": 3,
    "start_time": "2021-12-07T18:08:40.643Z"
   },
   {
    "duration": 4,
    "start_time": "2021-12-07T18:08:40.667Z"
   },
   {
    "duration": 16,
    "start_time": "2021-12-07T18:08:40.673Z"
   },
   {
    "duration": 7,
    "start_time": "2021-12-07T18:08:40.691Z"
   },
   {
    "duration": 9,
    "start_time": "2021-12-07T18:08:40.700Z"
   },
   {
    "duration": 223,
    "start_time": "2021-12-07T18:08:40.711Z"
   },
   {
    "duration": 10,
    "start_time": "2021-12-07T18:08:40.936Z"
   },
   {
    "duration": 36,
    "start_time": "2021-12-07T18:08:40.949Z"
   },
   {
    "duration": 1244,
    "start_time": "2021-12-07T18:08:40.987Z"
   },
   {
    "duration": 8,
    "start_time": "2021-12-07T18:08:42.233Z"
   },
   {
    "duration": 26,
    "start_time": "2021-12-07T18:08:42.244Z"
   },
   {
    "duration": 15,
    "start_time": "2021-12-07T18:08:42.272Z"
   },
   {
    "duration": 579,
    "start_time": "2021-12-07T18:08:42.290Z"
   },
   {
    "duration": 8,
    "start_time": "2021-12-07T18:08:42.872Z"
   },
   {
    "duration": 509,
    "start_time": "2021-12-07T18:08:42.883Z"
   },
   {
    "duration": 8,
    "start_time": "2021-12-07T18:08:43.396Z"
   },
   {
    "duration": 490,
    "start_time": "2021-12-07T18:08:43.407Z"
   },
   {
    "duration": 8,
    "start_time": "2021-12-07T18:08:43.899Z"
   },
   {
    "duration": 485,
    "start_time": "2021-12-07T18:08:43.911Z"
   },
   {
    "duration": 9,
    "start_time": "2021-12-07T18:08:44.400Z"
   },
   {
    "duration": 675,
    "start_time": "2021-12-07T18:08:44.412Z"
   },
   {
    "duration": 9,
    "start_time": "2021-12-07T18:08:45.089Z"
   },
   {
    "duration": 824,
    "start_time": "2021-12-07T18:08:45.100Z"
   },
   {
    "duration": 20,
    "start_time": "2021-12-07T18:08:45.926Z"
   },
   {
    "duration": 8,
    "start_time": "2021-12-07T18:08:45.968Z"
   },
   {
    "duration": 15,
    "start_time": "2021-12-07T18:08:45.983Z"
   },
   {
    "duration": 581,
    "start_time": "2021-12-07T18:12:15.052Z"
   },
   {
    "duration": 15,
    "start_time": "2021-12-07T18:16:21.336Z"
   },
   {
    "duration": 1539,
    "start_time": "2021-12-07T18:16:31.887Z"
   },
   {
    "duration": 548,
    "start_time": "2021-12-07T18:16:33.429Z"
   },
   {
    "duration": 22,
    "start_time": "2021-12-07T18:16:33.981Z"
   },
   {
    "duration": 16,
    "start_time": "2021-12-07T18:16:34.007Z"
   },
   {
    "duration": 42,
    "start_time": "2021-12-07T18:16:34.027Z"
   },
   {
    "duration": 12,
    "start_time": "2021-12-07T18:16:34.072Z"
   },
   {
    "duration": 14,
    "start_time": "2021-12-07T18:16:34.087Z"
   },
   {
    "duration": 15,
    "start_time": "2021-12-07T18:16:34.105Z"
   },
   {
    "duration": 51,
    "start_time": "2021-12-07T18:16:34.124Z"
   },
   {
    "duration": 10,
    "start_time": "2021-12-07T18:16:34.178Z"
   },
   {
    "duration": 14,
    "start_time": "2021-12-07T18:16:34.191Z"
   },
   {
    "duration": 12,
    "start_time": "2021-12-07T18:16:34.208Z"
   },
   {
    "duration": 49,
    "start_time": "2021-12-07T18:16:34.223Z"
   },
   {
    "duration": 51,
    "start_time": "2021-12-07T18:16:34.276Z"
   },
   {
    "duration": 83,
    "start_time": "2021-12-07T18:16:34.330Z"
   },
   {
    "duration": 31,
    "start_time": "2021-12-07T18:16:34.416Z"
   },
   {
    "duration": 190,
    "start_time": "2021-12-07T18:16:34.450Z"
   },
   {
    "duration": 12,
    "start_time": "2021-12-07T18:16:34.643Z"
   },
   {
    "duration": 174,
    "start_time": "2021-12-07T18:16:34.667Z"
   },
   {
    "duration": 13,
    "start_time": "2021-12-07T18:16:34.844Z"
   },
   {
    "duration": 522,
    "start_time": "2021-12-07T18:16:34.866Z"
   },
   {
    "duration": 28,
    "start_time": "2021-12-07T18:16:35.391Z"
   },
   {
    "duration": 12,
    "start_time": "2021-12-07T18:16:35.428Z"
   },
   {
    "duration": 32,
    "start_time": "2021-12-07T18:16:35.470Z"
   },
   {
    "duration": 132,
    "start_time": "2021-12-07T18:16:35.505Z"
   },
   {
    "duration": 13,
    "start_time": "2021-12-07T18:16:35.640Z"
   },
   {
    "duration": 416,
    "start_time": "2021-12-07T18:16:35.667Z"
   },
   {
    "duration": 28,
    "start_time": "2021-12-07T18:16:36.085Z"
   },
   {
    "duration": 60,
    "start_time": "2021-12-07T18:16:36.116Z"
   },
   {
    "duration": 71,
    "start_time": "2021-12-07T18:16:36.179Z"
   },
   {
    "duration": 30,
    "start_time": "2021-12-07T18:16:36.252Z"
   },
   {
    "duration": 11,
    "start_time": "2021-12-07T18:16:36.285Z"
   },
   {
    "duration": 80,
    "start_time": "2021-12-07T18:16:36.300Z"
   },
   {
    "duration": 19,
    "start_time": "2021-12-07T18:16:36.383Z"
   },
   {
    "duration": 81,
    "start_time": "2021-12-07T18:16:36.404Z"
   },
   {
    "duration": 18,
    "start_time": "2021-12-07T18:16:36.487Z"
   },
   {
    "duration": 25,
    "start_time": "2021-12-07T18:16:36.508Z"
   },
   {
    "duration": 43,
    "start_time": "2021-12-07T18:16:36.536Z"
   },
   {
    "duration": 47,
    "start_time": "2021-12-07T18:16:36.582Z"
   },
   {
    "duration": 35,
    "start_time": "2021-12-07T18:16:36.632Z"
   },
   {
    "duration": 85,
    "start_time": "2021-12-07T18:16:36.682Z"
   },
   {
    "duration": 57,
    "start_time": "2021-12-07T18:16:36.769Z"
   },
   {
    "duration": 5,
    "start_time": "2021-12-07T18:16:36.829Z"
   },
   {
    "duration": 33,
    "start_time": "2021-12-07T18:16:36.837Z"
   },
   {
    "duration": 92,
    "start_time": "2021-12-07T18:16:36.873Z"
   },
   {
    "duration": 7,
    "start_time": "2021-12-07T18:16:36.967Z"
   },
   {
    "duration": 9,
    "start_time": "2021-12-07T18:16:36.977Z"
   },
   {
    "duration": 236,
    "start_time": "2021-12-07T18:16:37.004Z"
   },
   {
    "duration": 9,
    "start_time": "2021-12-07T18:16:37.243Z"
   },
   {
    "duration": 33,
    "start_time": "2021-12-07T18:16:37.254Z"
   },
   {
    "duration": 1704,
    "start_time": "2021-12-07T18:16:37.290Z"
   },
   {
    "duration": 10,
    "start_time": "2021-12-07T18:16:38.997Z"
   },
   {
    "duration": 8,
    "start_time": "2021-12-07T18:16:39.010Z"
   },
   {
    "duration": 10,
    "start_time": "2021-12-07T18:16:39.020Z"
   },
   {
    "duration": 722,
    "start_time": "2021-12-07T18:16:39.071Z"
   },
   {
    "duration": 10,
    "start_time": "2021-12-07T18:16:39.796Z"
   },
   {
    "duration": 877,
    "start_time": "2021-12-07T18:16:39.809Z"
   },
   {
    "duration": 8,
    "start_time": "2021-12-07T18:16:40.689Z"
   },
   {
    "duration": 536,
    "start_time": "2021-12-07T18:16:40.701Z"
   },
   {
    "duration": 9,
    "start_time": "2021-12-07T18:16:41.240Z"
   },
   {
    "duration": 604,
    "start_time": "2021-12-07T18:16:41.267Z"
   },
   {
    "duration": 10,
    "start_time": "2021-12-07T18:16:41.874Z"
   },
   {
    "duration": 498,
    "start_time": "2021-12-07T18:16:41.887Z"
   },
   {
    "duration": 8,
    "start_time": "2021-12-07T18:16:42.388Z"
   },
   {
    "duration": 661,
    "start_time": "2021-12-07T18:16:42.398Z"
   },
   {
    "duration": 20,
    "start_time": "2021-12-07T18:16:43.062Z"
   },
   {
    "duration": 11,
    "start_time": "2021-12-07T18:16:43.085Z"
   },
   {
    "duration": 14,
    "start_time": "2021-12-07T18:16:43.106Z"
   },
   {
    "duration": 371,
    "start_time": "2021-12-07T18:17:27.673Z"
   },
   {
    "duration": 363,
    "start_time": "2021-12-07T18:17:37.194Z"
   },
   {
    "duration": 1541,
    "start_time": "2021-12-07T18:17:46.201Z"
   },
   {
    "duration": 543,
    "start_time": "2021-12-07T18:17:47.745Z"
   },
   {
    "duration": 19,
    "start_time": "2021-12-07T18:17:48.291Z"
   },
   {
    "duration": 12,
    "start_time": "2021-12-07T18:17:48.313Z"
   },
   {
    "duration": 14,
    "start_time": "2021-12-07T18:17:48.328Z"
   },
   {
    "duration": 11,
    "start_time": "2021-12-07T18:17:48.368Z"
   },
   {
    "duration": 14,
    "start_time": "2021-12-07T18:17:48.381Z"
   },
   {
    "duration": 14,
    "start_time": "2021-12-07T18:17:48.399Z"
   },
   {
    "duration": 52,
    "start_time": "2021-12-07T18:17:48.416Z"
   },
   {
    "duration": 6,
    "start_time": "2021-12-07T18:17:48.471Z"
   },
   {
    "duration": 11,
    "start_time": "2021-12-07T18:17:48.479Z"
   },
   {
    "duration": 10,
    "start_time": "2021-12-07T18:17:48.493Z"
   },
   {
    "duration": 14,
    "start_time": "2021-12-07T18:17:48.506Z"
   },
   {
    "duration": 71,
    "start_time": "2021-12-07T18:17:48.523Z"
   },
   {
    "duration": 72,
    "start_time": "2021-12-07T18:17:48.597Z"
   },
   {
    "duration": 22,
    "start_time": "2021-12-07T18:17:48.672Z"
   },
   {
    "duration": 165,
    "start_time": "2021-12-07T18:17:48.697Z"
   },
   {
    "duration": 14,
    "start_time": "2021-12-07T18:17:48.867Z"
   },
   {
    "duration": 161,
    "start_time": "2021-12-07T18:17:48.884Z"
   },
   {
    "duration": 19,
    "start_time": "2021-12-07T18:17:49.048Z"
   },
   {
    "duration": 454,
    "start_time": "2021-12-07T18:17:49.070Z"
   },
   {
    "duration": 47,
    "start_time": "2021-12-07T18:17:49.527Z"
   },
   {
    "duration": 12,
    "start_time": "2021-12-07T18:17:49.580Z"
   },
   {
    "duration": 70,
    "start_time": "2021-12-07T18:17:49.597Z"
   },
   {
    "duration": 205,
    "start_time": "2021-12-07T18:17:49.670Z"
   },
   {
    "duration": 17,
    "start_time": "2021-12-07T18:17:49.879Z"
   },
   {
    "duration": 637,
    "start_time": "2021-12-07T18:17:49.899Z"
   },
   {
    "duration": 37,
    "start_time": "2021-12-07T18:17:50.538Z"
   },
   {
    "duration": 29,
    "start_time": "2021-12-07T18:17:50.578Z"
   },
   {
    "duration": 80,
    "start_time": "2021-12-07T18:17:50.610Z"
   },
   {
    "duration": 798,
    "start_time": "2021-12-07T18:17:50.693Z"
   },
   {
    "duration": 6046,
    "start_time": "2021-12-07T18:17:45.448Z"
   },
   {
    "duration": 6022,
    "start_time": "2021-12-07T18:17:45.473Z"
   },
   {
    "duration": 6004,
    "start_time": "2021-12-07T18:17:45.493Z"
   },
   {
    "duration": 5979,
    "start_time": "2021-12-07T18:17:45.519Z"
   },
   {
    "duration": 5960,
    "start_time": "2021-12-07T18:17:45.540Z"
   },
   {
    "duration": 5938,
    "start_time": "2021-12-07T18:17:45.563Z"
   },
   {
    "duration": 5919,
    "start_time": "2021-12-07T18:17:45.583Z"
   },
   {
    "duration": 5892,
    "start_time": "2021-12-07T18:17:45.612Z"
   },
   {
    "duration": 5870,
    "start_time": "2021-12-07T18:17:45.635Z"
   },
   {
    "duration": 5842,
    "start_time": "2021-12-07T18:17:45.665Z"
   },
   {
    "duration": 5817,
    "start_time": "2021-12-07T18:17:45.691Z"
   },
   {
    "duration": 5800,
    "start_time": "2021-12-07T18:17:45.709Z"
   },
   {
    "duration": 5776,
    "start_time": "2021-12-07T18:17:45.734Z"
   },
   {
    "duration": 5754,
    "start_time": "2021-12-07T18:17:45.758Z"
   },
   {
    "duration": 5738,
    "start_time": "2021-12-07T18:17:45.775Z"
   },
   {
    "duration": 5720,
    "start_time": "2021-12-07T18:17:45.795Z"
   },
   {
    "duration": 5700,
    "start_time": "2021-12-07T18:17:45.816Z"
   },
   {
    "duration": 5685,
    "start_time": "2021-12-07T18:17:45.833Z"
   },
   {
    "duration": 5665,
    "start_time": "2021-12-07T18:17:45.854Z"
   },
   {
    "duration": 5637,
    "start_time": "2021-12-07T18:17:45.884Z"
   },
   {
    "duration": 5608,
    "start_time": "2021-12-07T18:17:45.914Z"
   },
   {
    "duration": 5593,
    "start_time": "2021-12-07T18:17:45.930Z"
   },
   {
    "duration": 5574,
    "start_time": "2021-12-07T18:17:45.950Z"
   },
   {
    "duration": 5556,
    "start_time": "2021-12-07T18:17:45.970Z"
   },
   {
    "duration": 5541,
    "start_time": "2021-12-07T18:17:45.986Z"
   },
   {
    "duration": 5566,
    "start_time": "2021-12-07T18:17:46.002Z"
   },
   {
    "duration": 5556,
    "start_time": "2021-12-07T18:17:46.014Z"
   },
   {
    "duration": 5539,
    "start_time": "2021-12-07T18:17:46.032Z"
   },
   {
    "duration": 5521,
    "start_time": "2021-12-07T18:17:46.052Z"
   },
   {
    "duration": 5500,
    "start_time": "2021-12-07T18:17:46.074Z"
   },
   {
    "duration": 5482,
    "start_time": "2021-12-07T18:17:46.094Z"
   },
   {
    "duration": 5463,
    "start_time": "2021-12-07T18:17:46.114Z"
   },
   {
    "duration": 5445,
    "start_time": "2021-12-07T18:17:46.134Z"
   },
   {
    "duration": 5425,
    "start_time": "2021-12-07T18:17:46.155Z"
   },
   {
    "duration": 5403,
    "start_time": "2021-12-07T18:17:46.178Z"
   },
   {
    "duration": 5384,
    "start_time": "2021-12-07T18:17:46.199Z"
   },
   {
    "duration": 5358,
    "start_time": "2021-12-07T18:17:46.226Z"
   },
   {
    "duration": 1574,
    "start_time": "2021-12-07T18:19:05.875Z"
   },
   {
    "duration": 549,
    "start_time": "2021-12-07T18:19:07.451Z"
   },
   {
    "duration": 19,
    "start_time": "2021-12-07T18:19:08.002Z"
   },
   {
    "duration": 12,
    "start_time": "2021-12-07T18:19:08.024Z"
   },
   {
    "duration": 15,
    "start_time": "2021-12-07T18:19:08.039Z"
   },
   {
    "duration": 14,
    "start_time": "2021-12-07T18:19:08.056Z"
   },
   {
    "duration": 15,
    "start_time": "2021-12-07T18:19:08.073Z"
   },
   {
    "duration": 21,
    "start_time": "2021-12-07T18:19:08.093Z"
   },
   {
    "duration": 49,
    "start_time": "2021-12-07T18:19:08.118Z"
   },
   {
    "duration": 7,
    "start_time": "2021-12-07T18:19:08.170Z"
   },
   {
    "duration": 14,
    "start_time": "2021-12-07T18:19:08.179Z"
   },
   {
    "duration": 21,
    "start_time": "2021-12-07T18:19:08.195Z"
   },
   {
    "duration": 11,
    "start_time": "2021-12-07T18:19:08.218Z"
   },
   {
    "duration": 58,
    "start_time": "2021-12-07T18:19:08.232Z"
   },
   {
    "duration": 83,
    "start_time": "2021-12-07T18:19:08.292Z"
   },
   {
    "duration": 32,
    "start_time": "2021-12-07T18:19:08.379Z"
   },
   {
    "duration": 191,
    "start_time": "2021-12-07T18:19:08.414Z"
   },
   {
    "duration": 16,
    "start_time": "2021-12-07T18:19:08.608Z"
   },
   {
    "duration": 166,
    "start_time": "2021-12-07T18:19:08.627Z"
   },
   {
    "duration": 14,
    "start_time": "2021-12-07T18:19:08.796Z"
   },
   {
    "duration": 445,
    "start_time": "2021-12-07T18:19:08.813Z"
   },
   {
    "duration": 23,
    "start_time": "2021-12-07T18:19:09.267Z"
   },
   {
    "duration": 11,
    "start_time": "2021-12-07T18:19:09.297Z"
   },
   {
    "duration": 56,
    "start_time": "2021-12-07T18:19:09.312Z"
   },
   {
    "duration": 107,
    "start_time": "2021-12-07T18:19:09.370Z"
   },
   {
    "duration": 12,
    "start_time": "2021-12-07T18:19:09.480Z"
   },
   {
    "duration": 408,
    "start_time": "2021-12-07T18:19:09.494Z"
   },
   {
    "duration": 20,
    "start_time": "2021-12-07T18:19:09.904Z"
   },
   {
    "duration": 50,
    "start_time": "2021-12-07T18:19:09.926Z"
   },
   {
    "duration": 60,
    "start_time": "2021-12-07T18:19:09.978Z"
   },
   {
    "duration": 26,
    "start_time": "2021-12-07T18:19:10.041Z"
   },
   {
    "duration": 37,
    "start_time": "2021-12-07T18:19:10.070Z"
   },
   {
    "duration": 15,
    "start_time": "2021-12-07T18:19:10.109Z"
   },
   {
    "duration": 89,
    "start_time": "2021-12-07T18:19:10.127Z"
   },
   {
    "duration": 16,
    "start_time": "2021-12-07T18:19:10.218Z"
   },
   {
    "duration": 43,
    "start_time": "2021-12-07T18:19:10.238Z"
   },
   {
    "duration": 13,
    "start_time": "2021-12-07T18:19:10.284Z"
   },
   {
    "duration": 79,
    "start_time": "2021-12-07T18:19:10.300Z"
   },
   {
    "duration": 10,
    "start_time": "2021-12-07T18:19:10.382Z"
   },
   {
    "duration": 94,
    "start_time": "2021-12-07T18:19:10.395Z"
   },
   {
    "duration": 52,
    "start_time": "2021-12-07T18:19:10.492Z"
   },
   {
    "duration": 22,
    "start_time": "2021-12-07T18:19:10.546Z"
   },
   {
    "duration": 6,
    "start_time": "2021-12-07T18:19:10.570Z"
   },
   {
    "duration": 26,
    "start_time": "2021-12-07T18:19:10.578Z"
   },
   {
    "duration": 8,
    "start_time": "2021-12-07T18:19:10.606Z"
   },
   {
    "duration": 11,
    "start_time": "2021-12-07T18:19:10.616Z"
   },
   {
    "duration": 232,
    "start_time": "2021-12-07T18:19:10.630Z"
   },
   {
    "duration": 10,
    "start_time": "2021-12-07T18:19:10.866Z"
   },
   {
    "duration": 18,
    "start_time": "2021-12-07T18:19:10.879Z"
   },
   {
    "duration": 1207,
    "start_time": "2021-12-07T18:19:10.899Z"
   },
   {
    "duration": 8,
    "start_time": "2021-12-07T18:19:12.110Z"
   },
   {
    "duration": 11,
    "start_time": "2021-12-07T18:19:12.120Z"
   },
   {
    "duration": 35,
    "start_time": "2021-12-07T18:19:12.133Z"
   },
   {
    "duration": 923,
    "start_time": "2021-12-07T18:19:12.171Z"
   },
   {
    "duration": 9,
    "start_time": "2021-12-07T18:19:13.096Z"
   },
   {
    "duration": 520,
    "start_time": "2021-12-07T18:19:13.107Z"
   },
   {
    "duration": 8,
    "start_time": "2021-12-07T18:19:13.630Z"
   },
   {
    "duration": 588,
    "start_time": "2021-12-07T18:19:13.641Z"
   },
   {
    "duration": 8,
    "start_time": "2021-12-07T18:19:14.231Z"
   },
   {
    "duration": 486,
    "start_time": "2021-12-07T18:19:14.241Z"
   },
   {
    "duration": 7,
    "start_time": "2021-12-07T18:19:14.729Z"
   },
   {
    "duration": 522,
    "start_time": "2021-12-07T18:19:14.738Z"
   },
   {
    "duration": 8,
    "start_time": "2021-12-07T18:19:15.267Z"
   },
   {
    "duration": 587,
    "start_time": "2021-12-07T18:19:15.278Z"
   },
   {
    "duration": 20,
    "start_time": "2021-12-07T18:19:15.867Z"
   },
   {
    "duration": 27,
    "start_time": "2021-12-07T18:19:15.890Z"
   },
   {
    "duration": 40,
    "start_time": "2021-12-07T18:19:15.919Z"
   },
   {
    "duration": 1511,
    "start_time": "2021-12-07T18:33:43.940Z"
   },
   {
    "duration": 585,
    "start_time": "2021-12-07T18:33:45.455Z"
   },
   {
    "duration": 19,
    "start_time": "2021-12-07T18:33:46.043Z"
   },
   {
    "duration": 25,
    "start_time": "2021-12-07T18:33:46.065Z"
   },
   {
    "duration": 13,
    "start_time": "2021-12-07T18:33:46.092Z"
   },
   {
    "duration": 11,
    "start_time": "2021-12-07T18:33:46.108Z"
   },
   {
    "duration": 14,
    "start_time": "2021-12-07T18:33:46.121Z"
   },
   {
    "duration": 43,
    "start_time": "2021-12-07T18:33:46.139Z"
   },
   {
    "duration": 11,
    "start_time": "2021-12-07T18:33:46.184Z"
   },
   {
    "duration": 6,
    "start_time": "2021-12-07T18:33:46.198Z"
   },
   {
    "duration": 11,
    "start_time": "2021-12-07T18:33:46.206Z"
   },
   {
    "duration": 9,
    "start_time": "2021-12-07T18:33:46.220Z"
   },
   {
    "duration": 12,
    "start_time": "2021-12-07T18:33:46.268Z"
   },
   {
    "duration": 31,
    "start_time": "2021-12-07T18:33:46.282Z"
   },
   {
    "duration": 74,
    "start_time": "2021-12-07T18:33:46.315Z"
   },
   {
    "duration": 21,
    "start_time": "2021-12-07T18:33:46.392Z"
   },
   {
    "duration": 155,
    "start_time": "2021-12-07T18:33:46.415Z"
   },
   {
    "duration": 11,
    "start_time": "2021-12-07T18:33:46.573Z"
   },
   {
    "duration": 165,
    "start_time": "2021-12-07T18:33:46.587Z"
   },
   {
    "duration": 21,
    "start_time": "2021-12-07T18:33:46.755Z"
   },
   {
    "duration": 443,
    "start_time": "2021-12-07T18:33:46.778Z"
   },
   {
    "duration": 22,
    "start_time": "2021-12-07T18:33:47.224Z"
   },
   {
    "duration": 13,
    "start_time": "2021-12-07T18:33:47.269Z"
   },
   {
    "duration": 36,
    "start_time": "2021-12-07T18:33:47.285Z"
   },
   {
    "duration": 125,
    "start_time": "2021-12-07T18:33:47.323Z"
   },
   {
    "duration": 19,
    "start_time": "2021-12-07T18:33:47.450Z"
   },
   {
    "duration": 413,
    "start_time": "2021-12-07T18:33:47.472Z"
   },
   {
    "duration": 23,
    "start_time": "2021-12-07T18:33:47.888Z"
   },
   {
    "duration": 57,
    "start_time": "2021-12-07T18:33:47.914Z"
   },
   {
    "duration": 65,
    "start_time": "2021-12-07T18:33:47.974Z"
   },
   {
    "duration": 28,
    "start_time": "2021-12-07T18:33:48.041Z"
   },
   {
    "duration": 35,
    "start_time": "2021-12-07T18:33:48.072Z"
   },
   {
    "duration": 15,
    "start_time": "2021-12-07T18:33:48.110Z"
   },
   {
    "duration": 90,
    "start_time": "2021-12-07T18:33:48.127Z"
   },
   {
    "duration": 19,
    "start_time": "2021-12-07T18:33:48.219Z"
   },
   {
    "duration": 43,
    "start_time": "2021-12-07T18:33:48.241Z"
   },
   {
    "duration": 12,
    "start_time": "2021-12-07T18:33:48.287Z"
   },
   {
    "duration": 78,
    "start_time": "2021-12-07T18:33:48.301Z"
   },
   {
    "duration": 10,
    "start_time": "2021-12-07T18:33:48.382Z"
   },
   {
    "duration": 182,
    "start_time": "2021-12-07T18:33:48.395Z"
   },
   {
    "duration": 101,
    "start_time": "2021-12-07T18:33:48.580Z"
   },
   {
    "duration": 4,
    "start_time": "2021-12-07T18:33:48.684Z"
   },
   {
    "duration": 11,
    "start_time": "2021-12-07T18:33:48.691Z"
   },
   {
    "duration": 62,
    "start_time": "2021-12-07T18:33:48.705Z"
   },
   {
    "duration": 11,
    "start_time": "2021-12-07T18:33:48.770Z"
   },
   {
    "duration": 14,
    "start_time": "2021-12-07T18:33:48.784Z"
   },
   {
    "duration": 620,
    "start_time": "2021-12-07T18:33:48.801Z"
   },
   {
    "duration": 48,
    "start_time": "2021-12-07T18:33:49.424Z"
   },
   {
    "duration": 20,
    "start_time": "2021-12-07T18:33:49.474Z"
   },
   {
    "duration": 1274,
    "start_time": "2021-12-07T18:33:49.496Z"
   },
   {
    "duration": 8,
    "start_time": "2021-12-07T18:33:50.773Z"
   },
   {
    "duration": 21,
    "start_time": "2021-12-07T18:33:50.783Z"
   },
   {
    "duration": 9,
    "start_time": "2021-12-07T18:33:50.807Z"
   },
   {
    "duration": 620,
    "start_time": "2021-12-07T18:33:50.819Z"
   },
   {
    "duration": 10,
    "start_time": "2021-12-07T18:33:51.442Z"
   },
   {
    "duration": 518,
    "start_time": "2021-12-07T18:33:51.468Z"
   },
   {
    "duration": 7,
    "start_time": "2021-12-07T18:33:51.988Z"
   },
   {
    "duration": 523,
    "start_time": "2021-12-07T18:33:51.998Z"
   },
   {
    "duration": 8,
    "start_time": "2021-12-07T18:33:52.525Z"
   },
   {
    "duration": 502,
    "start_time": "2021-12-07T18:33:52.536Z"
   },
   {
    "duration": 7,
    "start_time": "2021-12-07T18:33:53.041Z"
   },
   {
    "duration": 644,
    "start_time": "2021-12-07T18:33:53.051Z"
   },
   {
    "duration": 10,
    "start_time": "2021-12-07T18:33:53.698Z"
   },
   {
    "duration": 636,
    "start_time": "2021-12-07T18:33:53.711Z"
   },
   {
    "duration": 30,
    "start_time": "2021-12-07T18:33:54.349Z"
   },
   {
    "duration": 11,
    "start_time": "2021-12-07T18:33:54.382Z"
   },
   {
    "duration": 14,
    "start_time": "2021-12-07T18:33:54.395Z"
   },
   {
    "duration": 10,
    "start_time": "2021-12-07T18:51:14.015Z"
   },
   {
    "duration": 16,
    "start_time": "2021-12-07T18:51:38.096Z"
   },
   {
    "duration": 6,
    "start_time": "2021-12-07T18:59:26.922Z"
   },
   {
    "duration": 7,
    "start_time": "2021-12-07T18:59:31.757Z"
   },
   {
    "duration": 5,
    "start_time": "2021-12-07T19:01:20.102Z"
   },
   {
    "duration": 7,
    "start_time": "2021-12-07T19:01:21.942Z"
   },
   {
    "duration": 90,
    "start_time": "2021-12-07T19:02:47.048Z"
   },
   {
    "duration": 8,
    "start_time": "2021-12-07T19:02:52.494Z"
   },
   {
    "duration": 34,
    "start_time": "2021-12-07T19:02:59.391Z"
   },
   {
    "duration": 1655,
    "start_time": "2021-12-07T19:03:18.255Z"
   },
   {
    "duration": 601,
    "start_time": "2021-12-07T19:03:19.912Z"
   },
   {
    "duration": 19,
    "start_time": "2021-12-07T19:03:20.516Z"
   },
   {
    "duration": 32,
    "start_time": "2021-12-07T19:03:20.538Z"
   },
   {
    "duration": 34,
    "start_time": "2021-12-07T19:03:20.572Z"
   },
   {
    "duration": 22,
    "start_time": "2021-12-07T19:03:20.609Z"
   },
   {
    "duration": 35,
    "start_time": "2021-12-07T19:03:20.634Z"
   },
   {
    "duration": 18,
    "start_time": "2021-12-07T19:03:20.674Z"
   },
   {
    "duration": 11,
    "start_time": "2021-12-07T19:03:20.695Z"
   },
   {
    "duration": 13,
    "start_time": "2021-12-07T19:03:20.709Z"
   },
   {
    "duration": 23,
    "start_time": "2021-12-07T19:03:20.725Z"
   },
   {
    "duration": 23,
    "start_time": "2021-12-07T19:03:20.751Z"
   },
   {
    "duration": 21,
    "start_time": "2021-12-07T19:03:20.776Z"
   },
   {
    "duration": 39,
    "start_time": "2021-12-07T19:03:20.800Z"
   },
   {
    "duration": 64,
    "start_time": "2021-12-07T19:03:20.842Z"
   },
   {
    "duration": 21,
    "start_time": "2021-12-07T19:03:20.909Z"
   },
   {
    "duration": 167,
    "start_time": "2021-12-07T19:03:20.932Z"
   },
   {
    "duration": 12,
    "start_time": "2021-12-07T19:03:21.102Z"
   },
   {
    "duration": 177,
    "start_time": "2021-12-07T19:03:21.116Z"
   },
   {
    "duration": 12,
    "start_time": "2021-12-07T19:03:21.295Z"
   },
   {
    "duration": 582,
    "start_time": "2021-12-07T19:03:21.309Z"
   },
   {
    "duration": 33,
    "start_time": "2021-12-07T19:03:21.894Z"
   },
   {
    "duration": 44,
    "start_time": "2021-12-07T19:03:21.937Z"
   },
   {
    "duration": 37,
    "start_time": "2021-12-07T19:03:21.988Z"
   },
   {
    "duration": 126,
    "start_time": "2021-12-07T19:03:22.028Z"
   },
   {
    "duration": 21,
    "start_time": "2021-12-07T19:03:22.157Z"
   },
   {
    "duration": 457,
    "start_time": "2021-12-07T19:03:22.180Z"
   },
   {
    "duration": 33,
    "start_time": "2021-12-07T19:03:22.640Z"
   },
   {
    "duration": 42,
    "start_time": "2021-12-07T19:03:22.675Z"
   },
   {
    "duration": 64,
    "start_time": "2021-12-07T19:03:22.720Z"
   },
   {
    "duration": 10,
    "start_time": "2021-12-07T19:03:22.787Z"
   },
   {
    "duration": 39,
    "start_time": "2021-12-07T19:03:22.800Z"
   },
   {
    "duration": 37,
    "start_time": "2021-12-07T19:03:22.842Z"
   },
   {
    "duration": 98,
    "start_time": "2021-12-07T19:03:22.881Z"
   },
   {
    "duration": 25,
    "start_time": "2021-12-07T19:03:22.982Z"
   },
   {
    "duration": 35,
    "start_time": "2021-12-07T19:03:23.010Z"
   },
   {
    "duration": 30,
    "start_time": "2021-12-07T19:03:23.048Z"
   },
   {
    "duration": 64,
    "start_time": "2021-12-07T19:03:23.081Z"
   },
   {
    "duration": 23,
    "start_time": "2021-12-07T19:03:23.147Z"
   },
   {
    "duration": 100,
    "start_time": "2021-12-07T19:03:23.173Z"
   },
   {
    "duration": 59,
    "start_time": "2021-12-07T19:03:23.276Z"
   },
   {
    "duration": 29,
    "start_time": "2021-12-07T19:03:23.338Z"
   },
   {
    "duration": 6,
    "start_time": "2021-12-07T19:03:23.370Z"
   },
   {
    "duration": 37,
    "start_time": "2021-12-07T19:03:23.379Z"
   },
   {
    "duration": 8878,
    "start_time": "2021-12-07T19:03:23.418Z"
   },
   {
    "duration": 6416,
    "start_time": "2021-12-07T19:03:25.882Z"
   },
   {
    "duration": 6381,
    "start_time": "2021-12-07T19:03:25.919Z"
   },
   {
    "duration": 6355,
    "start_time": "2021-12-07T19:03:25.946Z"
   },
   {
    "duration": 6337,
    "start_time": "2021-12-07T19:03:25.965Z"
   },
   {
    "duration": 6315,
    "start_time": "2021-12-07T19:03:25.989Z"
   },
   {
    "duration": 6293,
    "start_time": "2021-12-07T19:03:26.012Z"
   },
   {
    "duration": 6274,
    "start_time": "2021-12-07T19:03:26.032Z"
   },
   {
    "duration": 6249,
    "start_time": "2021-12-07T19:03:26.059Z"
   },
   {
    "duration": 6231,
    "start_time": "2021-12-07T19:03:26.078Z"
   },
   {
    "duration": 6213,
    "start_time": "2021-12-07T19:03:26.098Z"
   },
   {
    "duration": 6186,
    "start_time": "2021-12-07T19:03:26.126Z"
   },
   {
    "duration": 6168,
    "start_time": "2021-12-07T19:03:26.146Z"
   },
   {
    "duration": 6149,
    "start_time": "2021-12-07T19:03:26.167Z"
   },
   {
    "duration": 6091,
    "start_time": "2021-12-07T19:03:26.228Z"
   },
   {
    "duration": 6058,
    "start_time": "2021-12-07T19:03:26.263Z"
   },
   {
    "duration": 6039,
    "start_time": "2021-12-07T19:03:26.284Z"
   },
   {
    "duration": 6014,
    "start_time": "2021-12-07T19:03:26.311Z"
   },
   {
    "duration": 5997,
    "start_time": "2021-12-07T19:03:26.330Z"
   },
   {
    "duration": 5979,
    "start_time": "2021-12-07T19:03:26.350Z"
   },
   {
    "duration": 5954,
    "start_time": "2021-12-07T19:03:26.377Z"
   },
   {
    "duration": 5938,
    "start_time": "2021-12-07T19:03:26.395Z"
   },
   {
    "duration": 5923,
    "start_time": "2021-12-07T19:03:26.413Z"
   },
   {
    "duration": 1531,
    "start_time": "2021-12-07T19:06:39.214Z"
   },
   {
    "duration": 581,
    "start_time": "2021-12-07T19:06:40.748Z"
   },
   {
    "duration": 19,
    "start_time": "2021-12-07T19:06:41.332Z"
   },
   {
    "duration": 17,
    "start_time": "2021-12-07T19:06:41.353Z"
   },
   {
    "duration": 22,
    "start_time": "2021-12-07T19:06:41.373Z"
   },
   {
    "duration": 17,
    "start_time": "2021-12-07T19:06:41.398Z"
   },
   {
    "duration": 47,
    "start_time": "2021-12-07T19:06:41.419Z"
   },
   {
    "duration": 16,
    "start_time": "2021-12-07T19:06:41.470Z"
   },
   {
    "duration": 15,
    "start_time": "2021-12-07T19:06:41.489Z"
   },
   {
    "duration": 10,
    "start_time": "2021-12-07T19:06:41.506Z"
   },
   {
    "duration": 25,
    "start_time": "2021-12-07T19:06:41.518Z"
   },
   {
    "duration": 27,
    "start_time": "2021-12-07T19:06:41.547Z"
   },
   {
    "duration": 16,
    "start_time": "2021-12-07T19:06:41.577Z"
   },
   {
    "duration": 40,
    "start_time": "2021-12-07T19:06:41.596Z"
   },
   {
    "duration": 66,
    "start_time": "2021-12-07T19:06:41.639Z"
   },
   {
    "duration": 23,
    "start_time": "2021-12-07T19:06:41.708Z"
   },
   {
    "duration": 171,
    "start_time": "2021-12-07T19:06:41.734Z"
   },
   {
    "duration": 13,
    "start_time": "2021-12-07T19:06:41.908Z"
   },
   {
    "duration": 169,
    "start_time": "2021-12-07T19:06:41.924Z"
   },
   {
    "duration": 15,
    "start_time": "2021-12-07T19:06:42.096Z"
   },
   {
    "duration": 455,
    "start_time": "2021-12-07T19:06:42.114Z"
   },
   {
    "duration": 25,
    "start_time": "2021-12-07T19:06:42.572Z"
   },
   {
    "duration": 12,
    "start_time": "2021-12-07T19:06:42.604Z"
   },
   {
    "duration": 86,
    "start_time": "2021-12-07T19:06:42.623Z"
   },
   {
    "duration": 211,
    "start_time": "2021-12-07T19:06:42.712Z"
   },
   {
    "duration": 19,
    "start_time": "2021-12-07T19:06:42.926Z"
   },
   {
    "duration": 691,
    "start_time": "2021-12-07T19:06:42.948Z"
   },
   {
    "duration": 40,
    "start_time": "2021-12-07T19:06:43.643Z"
   },
   {
    "duration": 28,
    "start_time": "2021-12-07T19:06:43.686Z"
   },
   {
    "duration": 87,
    "start_time": "2021-12-07T19:06:43.717Z"
   },
   {
    "duration": 8,
    "start_time": "2021-12-07T19:06:43.807Z"
   },
   {
    "duration": 57,
    "start_time": "2021-12-07T19:06:43.817Z"
   },
   {
    "duration": 16,
    "start_time": "2021-12-07T19:06:43.877Z"
   },
   {
    "duration": 85,
    "start_time": "2021-12-07T19:06:43.895Z"
   },
   {
    "duration": 17,
    "start_time": "2021-12-07T19:06:43.983Z"
   },
   {
    "duration": 30,
    "start_time": "2021-12-07T19:06:44.003Z"
   },
   {
    "duration": 41,
    "start_time": "2021-12-07T19:06:44.035Z"
   },
   {
    "duration": 49,
    "start_time": "2021-12-07T19:06:44.079Z"
   },
   {
    "duration": 11,
    "start_time": "2021-12-07T19:06:44.130Z"
   },
   {
    "duration": 76,
    "start_time": "2021-12-07T19:06:44.168Z"
   },
   {
    "duration": 55,
    "start_time": "2021-12-07T19:06:44.268Z"
   },
   {
    "duration": 11,
    "start_time": "2021-12-07T19:06:44.325Z"
   },
   {
    "duration": 31,
    "start_time": "2021-12-07T19:06:44.339Z"
   },
   {
    "duration": 31,
    "start_time": "2021-12-07T19:06:44.373Z"
   },
   {
    "duration": 8,
    "start_time": "2021-12-07T19:06:44.407Z"
   },
   {
    "duration": 50,
    "start_time": "2021-12-07T19:06:44.418Z"
   },
   {
    "duration": 201,
    "start_time": "2021-12-07T19:06:44.471Z"
   },
   {
    "duration": 10,
    "start_time": "2021-12-07T19:06:44.674Z"
   },
   {
    "duration": 27,
    "start_time": "2021-12-07T19:06:44.686Z"
   },
   {
    "duration": 1380,
    "start_time": "2021-12-07T19:06:44.715Z"
   },
   {
    "duration": 7,
    "start_time": "2021-12-07T19:06:46.098Z"
   },
   {
    "duration": 15,
    "start_time": "2021-12-07T19:06:46.108Z"
   },
   {
    "duration": 28,
    "start_time": "2021-12-07T19:06:46.125Z"
   },
   {
    "duration": 687,
    "start_time": "2021-12-07T19:06:46.167Z"
   },
   {
    "duration": 16,
    "start_time": "2021-12-07T19:06:46.856Z"
   },
   {
    "duration": 523,
    "start_time": "2021-12-07T19:06:46.874Z"
   },
   {
    "duration": 8,
    "start_time": "2021-12-07T19:06:47.400Z"
   },
   {
    "duration": 494,
    "start_time": "2021-12-07T19:06:47.410Z"
   },
   {
    "duration": 8,
    "start_time": "2021-12-07T19:06:47.907Z"
   },
   {
    "duration": 475,
    "start_time": "2021-12-07T19:06:47.918Z"
   },
   {
    "duration": 9,
    "start_time": "2021-12-07T19:06:48.395Z"
   },
   {
    "duration": 601,
    "start_time": "2021-12-07T19:06:48.407Z"
   },
   {
    "duration": 8,
    "start_time": "2021-12-07T19:06:49.011Z"
   },
   {
    "duration": 615,
    "start_time": "2021-12-07T19:06:49.022Z"
   },
   {
    "duration": 34,
    "start_time": "2021-12-07T19:06:49.640Z"
   },
   {
    "duration": 11,
    "start_time": "2021-12-07T19:06:49.677Z"
   },
   {
    "duration": 33,
    "start_time": "2021-12-07T19:06:49.690Z"
   },
   {
    "duration": 7767,
    "start_time": "2021-12-07T19:11:20.023Z"
   },
   {
    "duration": 2077,
    "start_time": "2021-12-07T19:11:43.736Z"
   },
   {
    "duration": 773,
    "start_time": "2021-12-07T19:11:45.817Z"
   },
   {
    "duration": 19,
    "start_time": "2021-12-07T19:11:46.593Z"
   },
   {
    "duration": 15,
    "start_time": "2021-12-07T19:11:46.614Z"
   },
   {
    "duration": 15,
    "start_time": "2021-12-07T19:11:46.632Z"
   },
   {
    "duration": 22,
    "start_time": "2021-12-07T19:11:46.649Z"
   },
   {
    "duration": 14,
    "start_time": "2021-12-07T19:11:46.673Z"
   },
   {
    "duration": 17,
    "start_time": "2021-12-07T19:11:46.690Z"
   },
   {
    "duration": 58,
    "start_time": "2021-12-07T19:11:46.710Z"
   },
   {
    "duration": 9,
    "start_time": "2021-12-07T19:11:46.771Z"
   },
   {
    "duration": 13,
    "start_time": "2021-12-07T19:11:46.783Z"
   },
   {
    "duration": 16,
    "start_time": "2021-12-07T19:11:46.799Z"
   },
   {
    "duration": 51,
    "start_time": "2021-12-07T19:11:46.818Z"
   },
   {
    "duration": 47,
    "start_time": "2021-12-07T19:11:46.872Z"
   },
   {
    "duration": 91,
    "start_time": "2021-12-07T19:11:46.922Z"
   },
   {
    "duration": 32,
    "start_time": "2021-12-07T19:11:47.016Z"
   },
   {
    "duration": 164,
    "start_time": "2021-12-07T19:11:47.051Z"
   },
   {
    "duration": 13,
    "start_time": "2021-12-07T19:11:47.218Z"
   },
   {
    "duration": 171,
    "start_time": "2021-12-07T19:11:47.234Z"
   },
   {
    "duration": 15,
    "start_time": "2021-12-07T19:11:47.408Z"
   },
   {
    "duration": 559,
    "start_time": "2021-12-07T19:11:47.426Z"
   },
   {
    "duration": 26,
    "start_time": "2021-12-07T19:11:47.988Z"
   },
   {
    "duration": 44,
    "start_time": "2021-12-07T19:11:48.023Z"
   },
   {
    "duration": 30,
    "start_time": "2021-12-07T19:11:48.073Z"
   },
   {
    "duration": 216,
    "start_time": "2021-12-07T19:11:48.106Z"
   },
   {
    "duration": 17,
    "start_time": "2021-12-07T19:11:48.325Z"
   },
   {
    "duration": 622,
    "start_time": "2021-12-07T19:11:48.345Z"
   },
   {
    "duration": 29,
    "start_time": "2021-12-07T19:11:48.970Z"
   },
   {
    "duration": 39,
    "start_time": "2021-12-07T19:11:49.003Z"
   },
   {
    "duration": 78,
    "start_time": "2021-12-07T19:11:49.068Z"
   },
   {
    "duration": 25,
    "start_time": "2021-12-07T19:11:49.149Z"
   },
   {
    "duration": 52,
    "start_time": "2021-12-07T19:11:49.177Z"
   },
   {
    "duration": 39,
    "start_time": "2021-12-07T19:11:49.232Z"
   },
   {
    "duration": 93,
    "start_time": "2021-12-07T19:11:49.274Z"
   },
   {
    "duration": 25,
    "start_time": "2021-12-07T19:11:49.370Z"
   },
   {
    "duration": 28,
    "start_time": "2021-12-07T19:11:49.398Z"
   },
   {
    "duration": 40,
    "start_time": "2021-12-07T19:11:49.429Z"
   },
   {
    "duration": 50,
    "start_time": "2021-12-07T19:11:49.472Z"
   },
   {
    "duration": 13,
    "start_time": "2021-12-07T19:11:49.525Z"
   },
   {
    "duration": 130,
    "start_time": "2021-12-07T19:11:49.541Z"
   },
   {
    "duration": 97,
    "start_time": "2021-12-07T19:11:49.674Z"
   },
   {
    "duration": 11,
    "start_time": "2021-12-07T19:11:49.774Z"
   },
   {
    "duration": 7,
    "start_time": "2021-12-07T19:11:49.788Z"
   },
   {
    "duration": 29,
    "start_time": "2021-12-07T19:11:49.797Z"
   },
   {
    "duration": 9,
    "start_time": "2021-12-07T19:11:49.829Z"
   },
   {
    "duration": 10,
    "start_time": "2021-12-07T19:11:49.868Z"
   },
   {
    "duration": 205,
    "start_time": "2021-12-07T19:11:49.881Z"
   },
   {
    "duration": 10,
    "start_time": "2021-12-07T19:11:50.088Z"
   },
   {
    "duration": 19,
    "start_time": "2021-12-07T19:11:50.101Z"
   },
   {
    "duration": 1247,
    "start_time": "2021-12-07T19:11:50.123Z"
   },
   {
    "duration": 7,
    "start_time": "2021-12-07T19:11:51.375Z"
   },
   {
    "duration": 8,
    "start_time": "2021-12-07T19:11:51.384Z"
   },
   {
    "duration": 9,
    "start_time": "2021-12-07T19:11:51.394Z"
   },
   {
    "duration": 961,
    "start_time": "2021-12-07T19:11:51.406Z"
   },
   {
    "duration": 9,
    "start_time": "2021-12-07T19:11:52.370Z"
   },
   {
    "duration": 819,
    "start_time": "2021-12-07T19:11:52.381Z"
   },
   {
    "duration": 8,
    "start_time": "2021-12-07T19:11:53.205Z"
   },
   {
    "duration": 503,
    "start_time": "2021-12-07T19:11:53.216Z"
   },
   {
    "duration": 8,
    "start_time": "2021-12-07T19:11:53.722Z"
   },
   {
    "duration": 574,
    "start_time": "2021-12-07T19:11:53.733Z"
   },
   {
    "duration": 7,
    "start_time": "2021-12-07T19:11:54.309Z"
   },
   {
    "duration": 508,
    "start_time": "2021-12-07T19:11:54.319Z"
   },
   {
    "duration": 7,
    "start_time": "2021-12-07T19:11:54.830Z"
   },
   {
    "duration": 608,
    "start_time": "2021-12-07T19:11:54.840Z"
   },
   {
    "duration": 25,
    "start_time": "2021-12-07T19:11:55.450Z"
   },
   {
    "duration": 9,
    "start_time": "2021-12-07T19:11:55.478Z"
   },
   {
    "duration": 15,
    "start_time": "2021-12-07T19:11:55.491Z"
   },
   {
    "duration": 7,
    "start_time": "2021-12-07T19:12:11.200Z"
   },
   {
    "duration": 22,
    "start_time": "2021-12-07T19:12:29.670Z"
   },
   {
    "duration": 9,
    "start_time": "2021-12-07T19:15:49.513Z"
   },
   {
    "duration": 96,
    "start_time": "2021-12-07T19:16:35.773Z"
   },
   {
    "duration": 9,
    "start_time": "2021-12-07T19:20:39.268Z"
   },
   {
    "duration": 198,
    "start_time": "2021-12-07T19:20:55.808Z"
   },
   {
    "duration": 18,
    "start_time": "2021-12-07T19:21:59.773Z"
   },
   {
    "duration": 473,
    "start_time": "2021-12-07T19:57:18.175Z"
   },
   {
    "duration": 560,
    "start_time": "2021-12-07T20:03:04.410Z"
   },
   {
    "duration": 1842,
    "start_time": "2021-12-07T20:03:15.969Z"
   },
   {
    "duration": 599,
    "start_time": "2021-12-07T20:03:17.815Z"
   },
   {
    "duration": 24,
    "start_time": "2021-12-07T20:03:18.417Z"
   },
   {
    "duration": 36,
    "start_time": "2021-12-07T20:03:18.445Z"
   },
   {
    "duration": 34,
    "start_time": "2021-12-07T20:03:18.483Z"
   },
   {
    "duration": 35,
    "start_time": "2021-12-07T20:03:18.520Z"
   },
   {
    "duration": 45,
    "start_time": "2021-12-07T20:03:18.557Z"
   },
   {
    "duration": 51,
    "start_time": "2021-12-07T20:03:18.608Z"
   },
   {
    "duration": 42,
    "start_time": "2021-12-07T20:03:18.663Z"
   },
   {
    "duration": 42,
    "start_time": "2021-12-07T20:03:18.707Z"
   },
   {
    "duration": 36,
    "start_time": "2021-12-07T20:03:18.752Z"
   },
   {
    "duration": 43,
    "start_time": "2021-12-07T20:03:18.790Z"
   },
   {
    "duration": 31,
    "start_time": "2021-12-07T20:03:18.835Z"
   },
   {
    "duration": 63,
    "start_time": "2021-12-07T20:03:18.869Z"
   },
   {
    "duration": 48,
    "start_time": "2021-12-07T20:03:18.936Z"
   },
   {
    "duration": 23,
    "start_time": "2021-12-07T20:03:18.987Z"
   },
   {
    "duration": 168,
    "start_time": "2021-12-07T20:03:19.013Z"
   },
   {
    "duration": 12,
    "start_time": "2021-12-07T20:03:19.184Z"
   },
   {
    "duration": 172,
    "start_time": "2021-12-07T20:03:19.198Z"
   },
   {
    "duration": 13,
    "start_time": "2021-12-07T20:03:19.373Z"
   },
   {
    "duration": 508,
    "start_time": "2021-12-07T20:03:19.389Z"
   },
   {
    "duration": 25,
    "start_time": "2021-12-07T20:03:19.900Z"
   },
   {
    "duration": 36,
    "start_time": "2021-12-07T20:03:19.931Z"
   },
   {
    "duration": 31,
    "start_time": "2021-12-07T20:03:19.971Z"
   },
   {
    "duration": 133,
    "start_time": "2021-12-07T20:03:20.005Z"
   },
   {
    "duration": 14,
    "start_time": "2021-12-07T20:03:20.141Z"
   },
   {
    "duration": 425,
    "start_time": "2021-12-07T20:03:20.168Z"
   },
   {
    "duration": 19,
    "start_time": "2021-12-07T20:03:20.596Z"
   },
   {
    "duration": 25,
    "start_time": "2021-12-07T20:03:20.618Z"
   },
   {
    "duration": 67,
    "start_time": "2021-12-07T20:03:20.668Z"
   },
   {
    "duration": 28,
    "start_time": "2021-12-07T20:03:20.738Z"
   },
   {
    "duration": 37,
    "start_time": "2021-12-07T20:03:20.770Z"
   },
   {
    "duration": 19,
    "start_time": "2021-12-07T20:03:20.811Z"
   },
   {
    "duration": 115,
    "start_time": "2021-12-07T20:03:20.834Z"
   },
   {
    "duration": 42,
    "start_time": "2021-12-07T20:03:20.952Z"
   },
   {
    "duration": 34,
    "start_time": "2021-12-07T20:03:20.997Z"
   },
   {
    "duration": 43,
    "start_time": "2021-12-07T20:03:21.034Z"
   },
   {
    "duration": 61,
    "start_time": "2021-12-07T20:03:21.081Z"
   },
   {
    "duration": 42,
    "start_time": "2021-12-07T20:03:21.144Z"
   },
   {
    "duration": 104,
    "start_time": "2021-12-07T20:03:21.192Z"
   },
   {
    "duration": 82,
    "start_time": "2021-12-07T20:03:21.300Z"
   },
   {
    "duration": 13,
    "start_time": "2021-12-07T20:03:21.386Z"
   },
   {
    "duration": 9,
    "start_time": "2021-12-07T20:03:21.402Z"
   },
   {
    "duration": 55,
    "start_time": "2021-12-07T20:03:21.414Z"
   },
   {
    "duration": 11,
    "start_time": "2021-12-07T20:03:21.472Z"
   },
   {
    "duration": 11,
    "start_time": "2021-12-07T20:03:21.486Z"
   },
   {
    "duration": 267,
    "start_time": "2021-12-07T20:03:21.500Z"
   },
   {
    "duration": 16,
    "start_time": "2021-12-07T20:03:21.770Z"
   },
   {
    "duration": 26,
    "start_time": "2021-12-07T20:03:21.790Z"
   },
   {
    "duration": 51,
    "start_time": "2021-12-07T20:03:21.819Z"
   },
   {
    "duration": 9,
    "start_time": "2021-12-07T20:03:21.873Z"
   },
   {
    "duration": 20,
    "start_time": "2021-12-07T20:03:21.886Z"
   },
   {
    "duration": 613,
    "start_time": "2021-12-07T20:03:21.909Z"
   },
   {
    "duration": 8,
    "start_time": "2021-12-07T20:03:22.525Z"
   },
   {
    "duration": 633,
    "start_time": "2021-12-07T20:03:22.536Z"
   },
   {
    "duration": 8,
    "start_time": "2021-12-07T20:03:23.173Z"
   },
   {
    "duration": 829,
    "start_time": "2021-12-07T20:03:23.184Z"
   },
   {
    "duration": 10,
    "start_time": "2021-12-07T20:03:24.016Z"
   },
   {
    "duration": 710,
    "start_time": "2021-12-07T20:03:24.029Z"
   },
   {
    "duration": 25,
    "start_time": "2021-12-07T20:03:24.743Z"
   },
   {
    "duration": 698,
    "start_time": "2021-12-07T20:03:24.771Z"
   },
   {
    "duration": 8,
    "start_time": "2021-12-07T20:03:25.472Z"
   },
   {
    "duration": 995,
    "start_time": "2021-12-07T20:03:25.483Z"
   },
   {
    "duration": 23,
    "start_time": "2021-12-07T20:03:26.481Z"
   },
   {
    "duration": 22,
    "start_time": "2021-12-07T20:03:26.508Z"
   },
   {
    "duration": 43,
    "start_time": "2021-12-07T20:03:26.532Z"
   },
   {
    "duration": 487,
    "start_time": "2021-12-07T20:19:38.594Z"
   },
   {
    "duration": 578,
    "start_time": "2021-12-07T20:27:08.643Z"
   },
   {
    "duration": 14,
    "start_time": "2021-12-07T20:47:50.199Z"
   },
   {
    "duration": 14,
    "start_time": "2021-12-07T20:48:06.504Z"
   },
   {
    "duration": 10,
    "start_time": "2021-12-07T20:48:29.169Z"
   },
   {
    "duration": 15,
    "start_time": "2021-12-07T20:52:05.926Z"
   },
   {
    "duration": 17,
    "start_time": "2021-12-07T20:52:14.631Z"
   },
   {
    "duration": 18,
    "start_time": "2021-12-07T20:53:11.896Z"
   },
   {
    "duration": 15,
    "start_time": "2021-12-07T20:53:52.076Z"
   },
   {
    "duration": 15,
    "start_time": "2021-12-07T20:53:55.946Z"
   },
   {
    "duration": 15,
    "start_time": "2021-12-07T20:54:08.844Z"
   },
   {
    "duration": 15,
    "start_time": "2021-12-07T20:54:12.407Z"
   },
   {
    "duration": 21,
    "start_time": "2021-12-07T20:55:16.308Z"
   },
   {
    "duration": 1651,
    "start_time": "2021-12-07T21:45:38.697Z"
   },
   {
    "duration": 824,
    "start_time": "2021-12-07T21:45:40.351Z"
   },
   {
    "duration": 27,
    "start_time": "2021-12-07T21:45:41.180Z"
   },
   {
    "duration": 14,
    "start_time": "2021-12-07T21:45:41.210Z"
   },
   {
    "duration": 42,
    "start_time": "2021-12-07T21:45:41.227Z"
   },
   {
    "duration": 17,
    "start_time": "2021-12-07T21:45:41.273Z"
   },
   {
    "duration": 20,
    "start_time": "2021-12-07T21:45:41.293Z"
   },
   {
    "duration": 51,
    "start_time": "2021-12-07T21:45:41.319Z"
   },
   {
    "duration": 14,
    "start_time": "2021-12-07T21:45:41.374Z"
   },
   {
    "duration": 7,
    "start_time": "2021-12-07T21:45:41.391Z"
   },
   {
    "duration": 13,
    "start_time": "2021-12-07T21:45:41.400Z"
   },
   {
    "duration": 16,
    "start_time": "2021-12-07T21:45:41.415Z"
   },
   {
    "duration": 45,
    "start_time": "2021-12-07T21:45:41.433Z"
   },
   {
    "duration": 33,
    "start_time": "2021-12-07T21:45:41.481Z"
   },
   {
    "duration": 71,
    "start_time": "2021-12-07T21:45:41.516Z"
   },
   {
    "duration": 20,
    "start_time": "2021-12-07T21:45:41.590Z"
   },
   {
    "duration": 170,
    "start_time": "2021-12-07T21:45:41.613Z"
   },
   {
    "duration": 13,
    "start_time": "2021-12-07T21:45:41.787Z"
   },
   {
    "duration": 165,
    "start_time": "2021-12-07T21:45:41.802Z"
   },
   {
    "duration": 11,
    "start_time": "2021-12-07T21:45:41.969Z"
   },
   {
    "duration": 449,
    "start_time": "2021-12-07T21:45:41.983Z"
   },
   {
    "duration": 36,
    "start_time": "2021-12-07T21:45:42.435Z"
   },
   {
    "duration": 13,
    "start_time": "2021-12-07T21:45:42.477Z"
   },
   {
    "duration": 35,
    "start_time": "2021-12-07T21:45:42.494Z"
   },
   {
    "duration": 130,
    "start_time": "2021-12-07T21:45:42.532Z"
   },
   {
    "duration": 13,
    "start_time": "2021-12-07T21:45:42.667Z"
   },
   {
    "duration": 590,
    "start_time": "2021-12-07T21:45:42.683Z"
   },
   {
    "duration": 33,
    "start_time": "2021-12-07T21:45:43.276Z"
   },
   {
    "duration": 70,
    "start_time": "2021-12-07T21:45:43.312Z"
   },
   {
    "duration": 64,
    "start_time": "2021-12-07T21:45:43.385Z"
   },
   {
    "duration": 22,
    "start_time": "2021-12-07T21:45:43.452Z"
   },
   {
    "duration": 38,
    "start_time": "2021-12-07T21:45:43.476Z"
   },
   {
    "duration": 16,
    "start_time": "2021-12-07T21:45:43.516Z"
   },
   {
    "duration": 90,
    "start_time": "2021-12-07T21:45:43.535Z"
   },
   {
    "duration": 18,
    "start_time": "2021-12-07T21:45:43.627Z"
   },
   {
    "duration": 43,
    "start_time": "2021-12-07T21:45:43.647Z"
   },
   {
    "duration": 12,
    "start_time": "2021-12-07T21:45:43.693Z"
   },
   {
    "duration": 78,
    "start_time": "2021-12-07T21:45:43.708Z"
   },
   {
    "duration": 12,
    "start_time": "2021-12-07T21:45:43.788Z"
   },
   {
    "duration": 101,
    "start_time": "2021-12-07T21:45:43.802Z"
   },
   {
    "duration": 70,
    "start_time": "2021-12-07T21:45:43.906Z"
   },
   {
    "duration": 11,
    "start_time": "2021-12-07T21:45:43.979Z"
   },
   {
    "duration": 6,
    "start_time": "2021-12-07T21:45:43.993Z"
   },
   {
    "duration": 23,
    "start_time": "2021-12-07T21:45:44.002Z"
   },
   {
    "duration": 39,
    "start_time": "2021-12-07T21:45:44.028Z"
   },
   {
    "duration": 10,
    "start_time": "2021-12-07T21:45:44.070Z"
   },
   {
    "duration": 225,
    "start_time": "2021-12-07T21:45:44.082Z"
   },
   {
    "duration": 12,
    "start_time": "2021-12-07T21:45:44.310Z"
   },
   {
    "duration": 22,
    "start_time": "2021-12-07T21:45:44.325Z"
   },
   {
    "duration": 12,
    "start_time": "2021-12-07T21:45:44.369Z"
   },
   {
    "duration": 11,
    "start_time": "2021-12-07T21:45:44.384Z"
   },
   {
    "duration": 10,
    "start_time": "2021-12-07T21:45:44.399Z"
   },
   {
    "duration": 537,
    "start_time": "2021-12-07T21:45:44.412Z"
   },
   {
    "duration": 17,
    "start_time": "2021-12-07T21:45:44.952Z"
   },
   {
    "duration": 620,
    "start_time": "2021-12-07T21:45:44.972Z"
   },
   {
    "duration": 9,
    "start_time": "2021-12-07T21:45:45.595Z"
   },
   {
    "duration": 706,
    "start_time": "2021-12-07T21:45:45.606Z"
   },
   {
    "duration": 9,
    "start_time": "2021-12-07T21:45:46.315Z"
   },
   {
    "duration": 513,
    "start_time": "2021-12-07T21:45:46.328Z"
   },
   {
    "duration": 10,
    "start_time": "2021-12-07T21:45:46.844Z"
   },
   {
    "duration": 595,
    "start_time": "2021-12-07T21:45:46.868Z"
   },
   {
    "duration": 8,
    "start_time": "2021-12-07T21:45:47.467Z"
   },
   {
    "duration": 598,
    "start_time": "2021-12-07T21:45:47.477Z"
   },
   {
    "duration": 10,
    "start_time": "2021-12-07T21:45:48.077Z"
   },
   {
    "duration": 22,
    "start_time": "2021-12-07T21:45:48.090Z"
   },
   {
    "duration": 1548,
    "start_time": "2021-12-08T18:03:09.883Z"
   },
   {
    "duration": 505,
    "start_time": "2021-12-08T18:03:11.434Z"
   },
   {
    "duration": 21,
    "start_time": "2021-12-08T18:03:11.942Z"
   },
   {
    "duration": 12,
    "start_time": "2021-12-08T18:03:11.966Z"
   },
   {
    "duration": 15,
    "start_time": "2021-12-08T18:03:11.980Z"
   },
   {
    "duration": 24,
    "start_time": "2021-12-08T18:03:11.998Z"
   },
   {
    "duration": 13,
    "start_time": "2021-12-08T18:03:12.024Z"
   },
   {
    "duration": 14,
    "start_time": "2021-12-08T18:03:12.040Z"
   },
   {
    "duration": 10,
    "start_time": "2021-12-08T18:03:12.057Z"
   },
   {
    "duration": 6,
    "start_time": "2021-12-08T18:03:12.070Z"
   },
   {
    "duration": 9,
    "start_time": "2021-12-08T18:03:12.118Z"
   },
   {
    "duration": 10,
    "start_time": "2021-12-08T18:03:12.129Z"
   },
   {
    "duration": 11,
    "start_time": "2021-12-08T18:03:12.141Z"
   },
   {
    "duration": 63,
    "start_time": "2021-12-08T18:03:12.154Z"
   },
   {
    "duration": 45,
    "start_time": "2021-12-08T18:03:12.220Z"
   },
   {
    "duration": 51,
    "start_time": "2021-12-08T18:03:12.268Z"
   },
   {
    "duration": 140,
    "start_time": "2021-12-08T18:03:12.322Z"
   },
   {
    "duration": 13,
    "start_time": "2021-12-08T18:03:12.465Z"
   },
   {
    "duration": 165,
    "start_time": "2021-12-08T18:03:12.481Z"
   },
   {
    "duration": 10,
    "start_time": "2021-12-08T18:03:12.648Z"
   },
   {
    "duration": 426,
    "start_time": "2021-12-08T18:03:12.661Z"
   },
   {
    "duration": 30,
    "start_time": "2021-12-08T18:03:13.089Z"
   },
   {
    "duration": 11,
    "start_time": "2021-12-08T18:03:13.125Z"
   },
   {
    "duration": 29,
    "start_time": "2021-12-08T18:03:13.139Z"
   },
   {
    "duration": 127,
    "start_time": "2021-12-08T18:03:13.170Z"
   },
   {
    "duration": 24,
    "start_time": "2021-12-08T18:03:13.300Z"
   },
   {
    "duration": 387,
    "start_time": "2021-12-08T18:03:13.326Z"
   },
   {
    "duration": 19,
    "start_time": "2021-12-08T18:03:13.717Z"
   },
   {
    "duration": 24,
    "start_time": "2021-12-08T18:03:13.738Z"
   },
   {
    "duration": 85,
    "start_time": "2021-12-08T18:03:13.764Z"
   },
   {
    "duration": 8,
    "start_time": "2021-12-08T18:03:13.852Z"
   },
   {
    "duration": 55,
    "start_time": "2021-12-08T18:03:13.862Z"
   },
   {
    "duration": 15,
    "start_time": "2021-12-08T18:03:13.919Z"
   },
   {
    "duration": 61,
    "start_time": "2021-12-08T18:03:13.937Z"
   },
   {
    "duration": 32,
    "start_time": "2021-12-08T18:03:14.000Z"
   },
   {
    "duration": 27,
    "start_time": "2021-12-08T18:03:14.035Z"
   },
   {
    "duration": 11,
    "start_time": "2021-12-08T18:03:14.065Z"
   },
   {
    "duration": 73,
    "start_time": "2021-12-08T18:03:14.079Z"
   },
   {
    "duration": 9,
    "start_time": "2021-12-08T18:03:14.154Z"
   },
   {
    "duration": 98,
    "start_time": "2021-12-08T18:03:14.165Z"
   },
   {
    "duration": 66,
    "start_time": "2021-12-08T18:03:14.265Z"
   },
   {
    "duration": 19,
    "start_time": "2021-12-08T18:03:14.333Z"
   },
   {
    "duration": 7,
    "start_time": "2021-12-08T18:03:14.355Z"
   },
   {
    "duration": 20,
    "start_time": "2021-12-08T18:03:14.364Z"
   },
   {
    "duration": 8,
    "start_time": "2021-12-08T18:03:14.386Z"
   },
   {
    "duration": 25,
    "start_time": "2021-12-08T18:03:14.396Z"
   },
   {
    "duration": 194,
    "start_time": "2021-12-08T18:03:14.424Z"
   },
   {
    "duration": 9,
    "start_time": "2021-12-08T18:03:14.620Z"
   },
   {
    "duration": 20,
    "start_time": "2021-12-08T18:03:14.631Z"
   },
   {
    "duration": 10,
    "start_time": "2021-12-08T18:03:14.654Z"
   },
   {
    "duration": 52,
    "start_time": "2021-12-08T18:03:14.667Z"
   },
   {
    "duration": 9,
    "start_time": "2021-12-08T18:03:14.721Z"
   },
   {
    "duration": 494,
    "start_time": "2021-12-08T18:03:14.733Z"
   },
   {
    "duration": 9,
    "start_time": "2021-12-08T18:03:15.230Z"
   },
   {
    "duration": 492,
    "start_time": "2021-12-08T18:03:15.242Z"
   },
   {
    "duration": 9,
    "start_time": "2021-12-08T18:03:15.736Z"
   },
   {
    "duration": 543,
    "start_time": "2021-12-08T18:03:15.748Z"
   },
   {
    "duration": 7,
    "start_time": "2021-12-08T18:03:16.294Z"
   },
   {
    "duration": 473,
    "start_time": "2021-12-08T18:03:16.303Z"
   },
   {
    "duration": 7,
    "start_time": "2021-12-08T18:03:16.779Z"
   },
   {
    "duration": 512,
    "start_time": "2021-12-08T18:03:16.789Z"
   },
   {
    "duration": 15,
    "start_time": "2021-12-08T18:03:17.303Z"
   },
   {
    "duration": 482,
    "start_time": "2021-12-08T18:03:17.321Z"
   },
   {
    "duration": 18,
    "start_time": "2021-12-08T18:03:17.806Z"
   },
   {
    "duration": 16,
    "start_time": "2021-12-08T18:03:17.826Z"
   },
   {
    "duration": 20,
    "start_time": "2021-12-08T18:12:12.585Z"
   },
   {
    "duration": 229,
    "start_time": "2021-12-08T18:56:01.198Z"
   },
   {
    "duration": 1041,
    "start_time": "2021-12-08T18:56:08.836Z"
   },
   {
    "duration": 436,
    "start_time": "2021-12-08T18:56:09.879Z"
   },
   {
    "duration": 12,
    "start_time": "2021-12-08T18:56:10.317Z"
   },
   {
    "duration": 16,
    "start_time": "2021-12-08T18:56:10.331Z"
   },
   {
    "duration": 16,
    "start_time": "2021-12-08T18:56:10.348Z"
   },
   {
    "duration": 26,
    "start_time": "2021-12-08T18:56:10.365Z"
   },
   {
    "duration": 15,
    "start_time": "2021-12-08T18:56:10.393Z"
   },
   {
    "duration": 10,
    "start_time": "2021-12-08T18:56:10.410Z"
   },
   {
    "duration": 17,
    "start_time": "2021-12-08T18:56:10.421Z"
   },
   {
    "duration": 11,
    "start_time": "2021-12-08T18:56:10.439Z"
   },
   {
    "duration": 12,
    "start_time": "2021-12-08T18:56:10.452Z"
   },
   {
    "duration": 24,
    "start_time": "2021-12-08T18:56:10.466Z"
   },
   {
    "duration": 12,
    "start_time": "2021-12-08T18:56:10.492Z"
   },
   {
    "duration": 40,
    "start_time": "2021-12-08T18:56:10.506Z"
   },
   {
    "duration": 42,
    "start_time": "2021-12-08T18:56:10.548Z"
   },
   {
    "duration": 17,
    "start_time": "2021-12-08T18:56:10.592Z"
   },
   {
    "duration": 98,
    "start_time": "2021-12-08T18:56:10.611Z"
   },
   {
    "duration": 8,
    "start_time": "2021-12-08T18:56:10.711Z"
   },
   {
    "duration": 5,
    "start_time": "2021-12-08T18:56:10.721Z"
   },
   {
    "duration": 7,
    "start_time": "2021-12-08T18:56:10.727Z"
   },
   {
    "duration": 9,
    "start_time": "2021-12-08T18:56:10.736Z"
   },
   {
    "duration": 291,
    "start_time": "2021-12-08T18:56:10.746Z"
   },
   {
    "duration": 17,
    "start_time": "2021-12-08T18:56:11.042Z"
   },
   {
    "duration": 8,
    "start_time": "2021-12-08T18:56:11.062Z"
   },
   {
    "duration": 38,
    "start_time": "2021-12-08T18:56:11.072Z"
   },
   {
    "duration": 244,
    "start_time": "2021-12-08T18:56:11.112Z"
   },
   {
    "duration": 5851,
    "start_time": "2021-12-08T18:56:05.507Z"
   },
   {
    "duration": 5829,
    "start_time": "2021-12-08T18:56:05.531Z"
   },
   {
    "duration": 5812,
    "start_time": "2021-12-08T18:56:05.549Z"
   },
   {
    "duration": 5795,
    "start_time": "2021-12-08T18:56:05.567Z"
   },
   {
    "duration": 5780,
    "start_time": "2021-12-08T18:56:05.584Z"
   },
   {
    "duration": 5765,
    "start_time": "2021-12-08T18:56:05.600Z"
   },
   {
    "duration": 5750,
    "start_time": "2021-12-08T18:56:05.616Z"
   },
   {
    "duration": 5736,
    "start_time": "2021-12-08T18:56:05.632Z"
   },
   {
    "duration": 5721,
    "start_time": "2021-12-08T18:56:05.648Z"
   },
   {
    "duration": 5707,
    "start_time": "2021-12-08T18:56:05.664Z"
   },
   {
    "duration": 5693,
    "start_time": "2021-12-08T18:56:05.679Z"
   },
   {
    "duration": 5678,
    "start_time": "2021-12-08T18:56:05.695Z"
   },
   {
    "duration": 5664,
    "start_time": "2021-12-08T18:56:05.711Z"
   },
   {
    "duration": 5650,
    "start_time": "2021-12-08T18:56:05.726Z"
   },
   {
    "duration": 5637,
    "start_time": "2021-12-08T18:56:05.741Z"
   },
   {
    "duration": 5621,
    "start_time": "2021-12-08T18:56:05.758Z"
   },
   {
    "duration": 5610,
    "start_time": "2021-12-08T18:56:05.770Z"
   },
   {
    "duration": 5597,
    "start_time": "2021-12-08T18:56:05.785Z"
   },
   {
    "duration": 5582,
    "start_time": "2021-12-08T18:56:05.801Z"
   },
   {
    "duration": 5567,
    "start_time": "2021-12-08T18:56:05.817Z"
   },
   {
    "duration": 5552,
    "start_time": "2021-12-08T18:56:05.833Z"
   },
   {
    "duration": 5496,
    "start_time": "2021-12-08T18:56:05.890Z"
   },
   {
    "duration": 5482,
    "start_time": "2021-12-08T18:56:05.905Z"
   },
   {
    "duration": 5466,
    "start_time": "2021-12-08T18:56:05.922Z"
   },
   {
    "duration": 5455,
    "start_time": "2021-12-08T18:56:05.934Z"
   },
   {
    "duration": 5439,
    "start_time": "2021-12-08T18:56:05.951Z"
   },
   {
    "duration": 5424,
    "start_time": "2021-12-08T18:56:05.967Z"
   },
   {
    "duration": 5409,
    "start_time": "2021-12-08T18:56:05.983Z"
   },
   {
    "duration": 5393,
    "start_time": "2021-12-08T18:56:06.000Z"
   },
   {
    "duration": 5377,
    "start_time": "2021-12-08T18:56:06.016Z"
   },
   {
    "duration": 5362,
    "start_time": "2021-12-08T18:56:06.032Z"
   },
   {
    "duration": 5347,
    "start_time": "2021-12-08T18:56:06.048Z"
   },
   {
    "duration": 5333,
    "start_time": "2021-12-08T18:56:06.063Z"
   },
   {
    "duration": 5318,
    "start_time": "2021-12-08T18:56:06.079Z"
   },
   {
    "duration": 5304,
    "start_time": "2021-12-08T18:56:06.094Z"
   },
   {
    "duration": 5289,
    "start_time": "2021-12-08T18:56:06.110Z"
   },
   {
    "duration": 5275,
    "start_time": "2021-12-08T18:56:06.125Z"
   },
   {
    "duration": 5260,
    "start_time": "2021-12-08T18:56:06.141Z"
   },
   {
    "duration": 5249,
    "start_time": "2021-12-08T18:56:06.153Z"
   },
   {
    "duration": 5235,
    "start_time": "2021-12-08T18:56:06.168Z"
   },
   {
    "duration": 1088,
    "start_time": "2021-12-08T19:00:37.054Z"
   },
   {
    "duration": 420,
    "start_time": "2021-12-08T19:00:38.144Z"
   },
   {
    "duration": 13,
    "start_time": "2021-12-08T19:00:38.567Z"
   },
   {
    "duration": 10,
    "start_time": "2021-12-08T19:00:38.582Z"
   },
   {
    "duration": 12,
    "start_time": "2021-12-08T19:00:38.594Z"
   },
   {
    "duration": 11,
    "start_time": "2021-12-08T19:00:38.607Z"
   },
   {
    "duration": 10,
    "start_time": "2021-12-08T19:00:38.619Z"
   },
   {
    "duration": 11,
    "start_time": "2021-12-08T19:00:38.631Z"
   },
   {
    "duration": 6,
    "start_time": "2021-12-08T19:00:38.644Z"
   },
   {
    "duration": 6,
    "start_time": "2021-12-08T19:00:38.651Z"
   },
   {
    "duration": 33,
    "start_time": "2021-12-08T19:00:38.658Z"
   },
   {
    "duration": 7,
    "start_time": "2021-12-08T19:00:38.693Z"
   },
   {
    "duration": 8,
    "start_time": "2021-12-08T19:00:38.701Z"
   },
   {
    "duration": 23,
    "start_time": "2021-12-08T19:00:38.711Z"
   },
   {
    "duration": 29,
    "start_time": "2021-12-08T19:00:38.736Z"
   },
   {
    "duration": 37,
    "start_time": "2021-12-08T19:00:38.766Z"
   },
   {
    "duration": 96,
    "start_time": "2021-12-08T19:00:38.805Z"
   },
   {
    "duration": 8,
    "start_time": "2021-12-08T19:00:38.903Z"
   },
   {
    "duration": 31,
    "start_time": "2021-12-08T19:00:38.912Z"
   },
   {
    "duration": 23,
    "start_time": "2021-12-08T19:00:38.956Z"
   },
   {
    "duration": 31,
    "start_time": "2021-12-08T19:00:38.996Z"
   },
   {
    "duration": 333,
    "start_time": "2021-12-08T19:00:39.032Z"
   },
   {
    "duration": 25,
    "start_time": "2021-12-08T19:00:39.369Z"
   },
   {
    "duration": 8,
    "start_time": "2021-12-08T19:00:39.396Z"
   },
   {
    "duration": 20,
    "start_time": "2021-12-08T19:00:39.406Z"
   },
   {
    "duration": 2,
    "start_time": "2021-12-08T19:00:39.428Z"
   },
   {
    "duration": 11,
    "start_time": "2021-12-08T19:00:39.432Z"
   },
   {
    "duration": 283,
    "start_time": "2021-12-08T19:00:39.444Z"
   },
   {
    "duration": 13,
    "start_time": "2021-12-08T19:00:39.729Z"
   },
   {
    "duration": 19,
    "start_time": "2021-12-08T19:00:39.744Z"
   },
   {
    "duration": 56,
    "start_time": "2021-12-08T19:00:39.764Z"
   },
   {
    "duration": 6,
    "start_time": "2021-12-08T19:00:39.822Z"
   },
   {
    "duration": 29,
    "start_time": "2021-12-08T19:00:39.830Z"
   },
   {
    "duration": 12,
    "start_time": "2021-12-08T19:00:39.860Z"
   },
   {
    "duration": 38,
    "start_time": "2021-12-08T19:00:39.892Z"
   },
   {
    "duration": 12,
    "start_time": "2021-12-08T19:00:39.931Z"
   },
   {
    "duration": 20,
    "start_time": "2021-12-08T19:00:39.945Z"
   },
   {
    "duration": 30,
    "start_time": "2021-12-08T19:00:39.966Z"
   },
   {
    "duration": 34,
    "start_time": "2021-12-08T19:00:39.997Z"
   },
   {
    "duration": 9,
    "start_time": "2021-12-08T19:00:40.033Z"
   },
   {
    "duration": 79,
    "start_time": "2021-12-08T19:00:40.044Z"
   },
   {
    "duration": 32,
    "start_time": "2021-12-08T19:00:40.125Z"
   },
   {
    "duration": 4,
    "start_time": "2021-12-08T19:00:40.159Z"
   },
   {
    "duration": 5,
    "start_time": "2021-12-08T19:00:40.164Z"
   },
   {
    "duration": 30,
    "start_time": "2021-12-08T19:00:40.171Z"
   },
   {
    "duration": 262,
    "start_time": "2021-12-08T19:00:40.202Z"
   },
   {
    "duration": 5210,
    "start_time": "2021-12-08T19:00:35.255Z"
   },
   {
    "duration": 5173,
    "start_time": "2021-12-08T19:00:35.293Z"
   },
   {
    "duration": 5134,
    "start_time": "2021-12-08T19:00:35.334Z"
   },
   {
    "duration": 5102,
    "start_time": "2021-12-08T19:00:35.367Z"
   },
   {
    "duration": 5076,
    "start_time": "2021-12-08T19:00:35.394Z"
   },
   {
    "duration": 5045,
    "start_time": "2021-12-08T19:00:35.426Z"
   },
   {
    "duration": 4981,
    "start_time": "2021-12-08T19:00:35.490Z"
   },
   {
    "duration": 4917,
    "start_time": "2021-12-08T19:00:35.556Z"
   },
   {
    "duration": 4871,
    "start_time": "2021-12-08T19:00:35.603Z"
   },
   {
    "duration": 4842,
    "start_time": "2021-12-08T19:00:35.633Z"
   },
   {
    "duration": 4816,
    "start_time": "2021-12-08T19:00:35.660Z"
   },
   {
    "duration": 4785,
    "start_time": "2021-12-08T19:00:35.692Z"
   },
   {
    "duration": 4760,
    "start_time": "2021-12-08T19:00:35.718Z"
   },
   {
    "duration": 4742,
    "start_time": "2021-12-08T19:00:35.737Z"
   },
   {
    "duration": 4722,
    "start_time": "2021-12-08T19:00:35.758Z"
   },
   {
    "duration": 4694,
    "start_time": "2021-12-08T19:00:35.787Z"
   },
   {
    "duration": 4675,
    "start_time": "2021-12-08T19:00:35.807Z"
   },
   {
    "duration": 4648,
    "start_time": "2021-12-08T19:00:35.835Z"
   },
   {
    "duration": 4627,
    "start_time": "2021-12-08T19:00:35.857Z"
   },
   {
    "duration": 4601,
    "start_time": "2021-12-08T19:00:35.884Z"
   },
   {
    "duration": 3934,
    "start_time": "2021-12-08T19:04:45.312Z"
   },
   {
    "duration": 6433,
    "start_time": "2021-12-08T19:05:17.215Z"
   },
   {
    "duration": 1317,
    "start_time": "2021-12-08T19:09:58.599Z"
   },
   {
    "duration": 398,
    "start_time": "2021-12-08T19:09:59.918Z"
   },
   {
    "duration": 13,
    "start_time": "2021-12-08T19:10:00.319Z"
   },
   {
    "duration": 22,
    "start_time": "2021-12-08T19:10:00.335Z"
   },
   {
    "duration": 26,
    "start_time": "2021-12-08T19:10:00.359Z"
   },
   {
    "duration": 23,
    "start_time": "2021-12-08T19:10:00.387Z"
   },
   {
    "duration": 46,
    "start_time": "2021-12-08T19:10:00.412Z"
   },
   {
    "duration": 35,
    "start_time": "2021-12-08T19:10:00.461Z"
   },
   {
    "duration": 45,
    "start_time": "2021-12-08T19:10:00.499Z"
   },
   {
    "duration": 37,
    "start_time": "2021-12-08T19:10:00.546Z"
   },
   {
    "duration": 33,
    "start_time": "2021-12-08T19:10:00.585Z"
   },
   {
    "duration": 36,
    "start_time": "2021-12-08T19:10:00.620Z"
   },
   {
    "duration": 21,
    "start_time": "2021-12-08T19:10:00.658Z"
   },
   {
    "duration": 56,
    "start_time": "2021-12-08T19:10:00.681Z"
   },
   {
    "duration": 47,
    "start_time": "2021-12-08T19:10:00.739Z"
   },
   {
    "duration": 25,
    "start_time": "2021-12-08T19:10:00.789Z"
   },
   {
    "duration": 98,
    "start_time": "2021-12-08T19:10:00.816Z"
   },
   {
    "duration": 9,
    "start_time": "2021-12-08T19:10:00.916Z"
   },
   {
    "duration": 17,
    "start_time": "2021-12-08T19:10:00.927Z"
   },
   {
    "duration": 44,
    "start_time": "2021-12-08T19:10:00.946Z"
   },
   {
    "duration": 59,
    "start_time": "2021-12-08T19:10:00.992Z"
   },
   {
    "duration": 340,
    "start_time": "2021-12-08T19:10:01.053Z"
   },
   {
    "duration": 30,
    "start_time": "2021-12-08T19:10:01.399Z"
   },
   {
    "duration": 43,
    "start_time": "2021-12-08T19:10:01.446Z"
   },
   {
    "duration": 72,
    "start_time": "2021-12-08T19:10:01.491Z"
   },
   {
    "duration": 21,
    "start_time": "2021-12-08T19:10:01.565Z"
   },
   {
    "duration": 72,
    "start_time": "2021-12-08T19:10:01.587Z"
   },
   {
    "duration": 408,
    "start_time": "2021-12-08T19:10:01.661Z"
   },
   {
    "duration": 15,
    "start_time": "2021-12-08T19:10:02.071Z"
   },
   {
    "duration": 55,
    "start_time": "2021-12-08T19:10:02.087Z"
   },
   {
    "duration": 39,
    "start_time": "2021-12-08T19:10:02.144Z"
   },
   {
    "duration": 5,
    "start_time": "2021-12-08T19:10:02.185Z"
   },
   {
    "duration": 51,
    "start_time": "2021-12-08T19:10:02.192Z"
   },
   {
    "duration": 7294,
    "start_time": "2021-12-08T19:10:02.245Z"
   },
   {
    "duration": 5937,
    "start_time": "2021-12-08T19:10:03.604Z"
   },
   {
    "duration": 5906,
    "start_time": "2021-12-08T19:10:03.637Z"
   },
   {
    "duration": 5868,
    "start_time": "2021-12-08T19:10:03.676Z"
   },
   {
    "duration": 5676,
    "start_time": "2021-12-08T19:10:03.869Z"
   },
   {
    "duration": 5642,
    "start_time": "2021-12-08T19:10:03.904Z"
   },
   {
    "duration": 5607,
    "start_time": "2021-12-08T19:10:03.941Z"
   },
   {
    "duration": 5571,
    "start_time": "2021-12-08T19:10:03.978Z"
   },
   {
    "duration": 5542,
    "start_time": "2021-12-08T19:10:04.008Z"
   },
   {
    "duration": 5500,
    "start_time": "2021-12-08T19:10:04.052Z"
   },
   {
    "duration": 5479,
    "start_time": "2021-12-08T19:10:04.074Z"
   },
   {
    "duration": 5441,
    "start_time": "2021-12-08T19:10:04.114Z"
   },
   {
    "duration": 5417,
    "start_time": "2021-12-08T19:10:04.139Z"
   },
   {
    "duration": 5376,
    "start_time": "2021-12-08T19:10:04.182Z"
   },
   {
    "duration": 5354,
    "start_time": "2021-12-08T19:10:04.205Z"
   },
   {
    "duration": 5328,
    "start_time": "2021-12-08T19:10:04.232Z"
   },
   {
    "duration": 5306,
    "start_time": "2021-12-08T19:10:04.256Z"
   },
   {
    "duration": 5280,
    "start_time": "2021-12-08T19:10:04.283Z"
   },
   {
    "duration": 5257,
    "start_time": "2021-12-08T19:10:04.307Z"
   },
   {
    "duration": 5226,
    "start_time": "2021-12-08T19:10:04.339Z"
   },
   {
    "duration": 5187,
    "start_time": "2021-12-08T19:10:04.379Z"
   },
   {
    "duration": 5161,
    "start_time": "2021-12-08T19:10:04.406Z"
   },
   {
    "duration": 5098,
    "start_time": "2021-12-08T19:10:04.470Z"
   },
   {
    "duration": 5042,
    "start_time": "2021-12-08T19:10:04.527Z"
   },
   {
    "duration": 5019,
    "start_time": "2021-12-08T19:10:04.551Z"
   },
   {
    "duration": 4987,
    "start_time": "2021-12-08T19:10:04.584Z"
   },
   {
    "duration": 4966,
    "start_time": "2021-12-08T19:10:04.606Z"
   },
   {
    "duration": 4937,
    "start_time": "2021-12-08T19:10:04.636Z"
   },
   {
    "duration": 4897,
    "start_time": "2021-12-08T19:10:04.676Z"
   },
   {
    "duration": 4870,
    "start_time": "2021-12-08T19:10:04.704Z"
   },
   {
    "duration": 4843,
    "start_time": "2021-12-08T19:10:04.732Z"
   },
   {
    "duration": 4823,
    "start_time": "2021-12-08T19:10:04.753Z"
   },
   {
    "duration": 4793,
    "start_time": "2021-12-08T19:10:04.784Z"
   },
   {
    "duration": 4772,
    "start_time": "2021-12-08T19:10:04.805Z"
   },
   {
    "duration": 88,
    "start_time": "2021-12-08T19:11:00.199Z"
   },
   {
    "duration": 1128,
    "start_time": "2021-12-08T19:11:11.973Z"
   },
   {
    "duration": 370,
    "start_time": "2021-12-08T19:11:13.103Z"
   },
   {
    "duration": 12,
    "start_time": "2021-12-08T19:11:13.474Z"
   },
   {
    "duration": 10,
    "start_time": "2021-12-08T19:11:13.488Z"
   },
   {
    "duration": 11,
    "start_time": "2021-12-08T19:11:13.500Z"
   },
   {
    "duration": 10,
    "start_time": "2021-12-08T19:11:13.513Z"
   },
   {
    "duration": 11,
    "start_time": "2021-12-08T19:11:13.524Z"
   },
   {
    "duration": 13,
    "start_time": "2021-12-08T19:11:13.538Z"
   },
   {
    "duration": 8,
    "start_time": "2021-12-08T19:11:13.554Z"
   },
   {
    "duration": 5,
    "start_time": "2021-12-08T19:11:13.564Z"
   },
   {
    "duration": 10,
    "start_time": "2021-12-08T19:11:13.571Z"
   },
   {
    "duration": 12,
    "start_time": "2021-12-08T19:11:13.583Z"
   },
   {
    "duration": 8,
    "start_time": "2021-12-08T19:11:13.596Z"
   },
   {
    "duration": 53,
    "start_time": "2021-12-08T19:11:13.606Z"
   },
   {
    "duration": 29,
    "start_time": "2021-12-08T19:11:13.660Z"
   },
   {
    "duration": 15,
    "start_time": "2021-12-08T19:11:13.691Z"
   },
   {
    "duration": 109,
    "start_time": "2021-12-08T19:11:13.708Z"
   },
   {
    "duration": 8,
    "start_time": "2021-12-08T19:11:13.818Z"
   },
   {
    "duration": 16,
    "start_time": "2021-12-08T19:11:13.828Z"
   },
   {
    "duration": 4,
    "start_time": "2021-12-08T19:11:13.846Z"
   },
   {
    "duration": 9,
    "start_time": "2021-12-08T19:11:13.852Z"
   },
   {
    "duration": 257,
    "start_time": "2021-12-08T19:11:13.863Z"
   },
   {
    "duration": 26,
    "start_time": "2021-12-08T19:11:14.125Z"
   },
   {
    "duration": 8,
    "start_time": "2021-12-08T19:11:14.153Z"
   },
   {
    "duration": 23,
    "start_time": "2021-12-08T19:11:14.162Z"
   },
   {
    "duration": 3,
    "start_time": "2021-12-08T19:11:14.186Z"
   },
   {
    "duration": 11,
    "start_time": "2021-12-08T19:11:14.190Z"
   },
   {
    "duration": 261,
    "start_time": "2021-12-08T19:11:14.202Z"
   },
   {
    "duration": 14,
    "start_time": "2021-12-08T19:11:14.465Z"
   },
   {
    "duration": 16,
    "start_time": "2021-12-08T19:11:14.481Z"
   },
   {
    "duration": 70,
    "start_time": "2021-12-08T19:11:14.499Z"
   },
   {
    "duration": 6,
    "start_time": "2021-12-08T19:11:14.570Z"
   },
   {
    "duration": 4,
    "start_time": "2021-12-08T19:11:14.578Z"
   },
   {
    "duration": 93,
    "start_time": "2021-12-08T19:11:14.583Z"
   },
   {
    "duration": 6761,
    "start_time": "2021-12-08T19:11:14.678Z"
   },
   {
    "duration": 5907,
    "start_time": "2021-12-08T19:11:15.534Z"
   },
   {
    "duration": 5880,
    "start_time": "2021-12-08T19:11:15.562Z"
   },
   {
    "duration": 5850,
    "start_time": "2021-12-08T19:11:15.593Z"
   },
   {
    "duration": 5828,
    "start_time": "2021-12-08T19:11:15.616Z"
   },
   {
    "duration": 5803,
    "start_time": "2021-12-08T19:11:15.643Z"
   },
   {
    "duration": 5780,
    "start_time": "2021-12-08T19:11:15.667Z"
   },
   {
    "duration": 5754,
    "start_time": "2021-12-08T19:11:15.694Z"
   },
   {
    "duration": 5737,
    "start_time": "2021-12-08T19:11:15.712Z"
   },
   {
    "duration": 5716,
    "start_time": "2021-12-08T19:11:15.735Z"
   },
   {
    "duration": 5688,
    "start_time": "2021-12-08T19:11:15.764Z"
   },
   {
    "duration": 5654,
    "start_time": "2021-12-08T19:11:15.799Z"
   },
   {
    "duration": 5621,
    "start_time": "2021-12-08T19:11:15.833Z"
   },
   {
    "duration": 5587,
    "start_time": "2021-12-08T19:11:15.869Z"
   },
   {
    "duration": 5539,
    "start_time": "2021-12-08T19:11:15.918Z"
   },
   {
    "duration": 5507,
    "start_time": "2021-12-08T19:11:15.951Z"
   },
   {
    "duration": 5472,
    "start_time": "2021-12-08T19:11:15.987Z"
   },
   {
    "duration": 5399,
    "start_time": "2021-12-08T19:11:16.062Z"
   },
   {
    "duration": 5364,
    "start_time": "2021-12-08T19:11:16.098Z"
   },
   {
    "duration": 5341,
    "start_time": "2021-12-08T19:11:16.122Z"
   },
   {
    "duration": 5320,
    "start_time": "2021-12-08T19:11:16.144Z"
   },
   {
    "duration": 5291,
    "start_time": "2021-12-08T19:11:16.175Z"
   },
   {
    "duration": 5271,
    "start_time": "2021-12-08T19:11:16.196Z"
   },
   {
    "duration": 5238,
    "start_time": "2021-12-08T19:11:16.230Z"
   },
   {
    "duration": 5212,
    "start_time": "2021-12-08T19:11:16.257Z"
   },
   {
    "duration": 5180,
    "start_time": "2021-12-08T19:11:16.290Z"
   },
   {
    "duration": 5153,
    "start_time": "2021-12-08T19:11:16.318Z"
   },
   {
    "duration": 5122,
    "start_time": "2021-12-08T19:11:16.350Z"
   },
   {
    "duration": 5095,
    "start_time": "2021-12-08T19:11:16.378Z"
   },
   {
    "duration": 5072,
    "start_time": "2021-12-08T19:11:16.402Z"
   },
   {
    "duration": 5048,
    "start_time": "2021-12-08T19:11:16.427Z"
   },
   {
    "duration": 5028,
    "start_time": "2021-12-08T19:11:16.447Z"
   },
   {
    "duration": 5009,
    "start_time": "2021-12-08T19:11:16.467Z"
   },
   {
    "duration": 14,
    "start_time": "2021-12-08T19:12:46.402Z"
   },
   {
    "duration": 10,
    "start_time": "2021-12-08T19:13:59.955Z"
   },
   {
    "duration": 914,
    "start_time": "2021-12-08T19:14:03.016Z"
   },
   {
    "duration": 1159,
    "start_time": "2021-12-08T19:14:10.265Z"
   },
   {
    "duration": 381,
    "start_time": "2021-12-08T19:14:11.425Z"
   },
   {
    "duration": 13,
    "start_time": "2021-12-08T19:14:11.808Z"
   },
   {
    "duration": 7,
    "start_time": "2021-12-08T19:14:11.822Z"
   },
   {
    "duration": 8,
    "start_time": "2021-12-08T19:14:11.831Z"
   },
   {
    "duration": 7,
    "start_time": "2021-12-08T19:14:11.840Z"
   },
   {
    "duration": 7,
    "start_time": "2021-12-08T19:14:11.849Z"
   },
   {
    "duration": 8,
    "start_time": "2021-12-08T19:14:11.859Z"
   },
   {
    "duration": 6,
    "start_time": "2021-12-08T19:14:11.869Z"
   },
   {
    "duration": 4,
    "start_time": "2021-12-08T19:14:11.876Z"
   },
   {
    "duration": 6,
    "start_time": "2021-12-08T19:14:11.882Z"
   },
   {
    "duration": 8,
    "start_time": "2021-12-08T19:14:11.890Z"
   },
   {
    "duration": 11,
    "start_time": "2021-12-08T19:14:11.900Z"
   },
   {
    "duration": 50,
    "start_time": "2021-12-08T19:14:11.913Z"
   },
   {
    "duration": 46,
    "start_time": "2021-12-08T19:14:11.965Z"
   },
   {
    "duration": 17,
    "start_time": "2021-12-08T19:14:12.013Z"
   },
   {
    "duration": 113,
    "start_time": "2021-12-08T19:14:12.032Z"
   },
   {
    "duration": 9,
    "start_time": "2021-12-08T19:14:12.147Z"
   },
   {
    "duration": 26,
    "start_time": "2021-12-08T19:14:12.158Z"
   },
   {
    "duration": 15,
    "start_time": "2021-12-08T19:14:12.186Z"
   },
   {
    "duration": 33,
    "start_time": "2021-12-08T19:14:12.203Z"
   },
   {
    "duration": 256,
    "start_time": "2021-12-08T19:14:12.238Z"
   },
   {
    "duration": 17,
    "start_time": "2021-12-08T19:14:12.499Z"
   },
   {
    "duration": 29,
    "start_time": "2021-12-08T19:14:12.519Z"
   },
   {
    "duration": 22,
    "start_time": "2021-12-08T19:14:12.550Z"
   },
   {
    "duration": 2,
    "start_time": "2021-12-08T19:14:12.574Z"
   },
   {
    "duration": 10,
    "start_time": "2021-12-08T19:14:12.578Z"
   },
   {
    "duration": 249,
    "start_time": "2021-12-08T19:14:12.589Z"
   },
   {
    "duration": 14,
    "start_time": "2021-12-08T19:14:12.845Z"
   },
   {
    "duration": 57,
    "start_time": "2021-12-08T19:14:12.861Z"
   },
   {
    "duration": 35,
    "start_time": "2021-12-08T19:14:12.920Z"
   },
   {
    "duration": 6,
    "start_time": "2021-12-08T19:14:12.956Z"
   },
   {
    "duration": 5,
    "start_time": "2021-12-08T19:14:12.963Z"
   },
   {
    "duration": 92,
    "start_time": "2021-12-08T19:14:12.970Z"
   },
   {
    "duration": 10,
    "start_time": "2021-12-08T19:14:13.064Z"
   },
   {
    "duration": 825,
    "start_time": "2021-12-08T19:14:13.076Z"
   },
   {
    "duration": 47,
    "start_time": "2021-12-08T19:14:13.903Z"
   },
   {
    "duration": 6,
    "start_time": "2021-12-08T19:14:13.951Z"
   },
   {
    "duration": 19,
    "start_time": "2021-12-08T19:14:13.958Z"
   },
   {
    "duration": 8,
    "start_time": "2021-12-08T19:14:13.978Z"
   },
   {
    "duration": 30,
    "start_time": "2021-12-08T19:14:13.987Z"
   },
   {
    "duration": 32,
    "start_time": "2021-12-08T19:14:14.019Z"
   },
   {
    "duration": 47,
    "start_time": "2021-12-08T19:14:14.053Z"
   },
   {
    "duration": 48,
    "start_time": "2021-12-08T19:14:14.101Z"
   },
   {
    "duration": 9,
    "start_time": "2021-12-08T19:14:14.151Z"
   },
   {
    "duration": 4,
    "start_time": "2021-12-08T19:14:14.161Z"
   },
   {
    "duration": 14,
    "start_time": "2021-12-08T19:14:14.166Z"
   },
   {
    "duration": 332,
    "start_time": "2021-12-08T19:14:14.182Z"
   },
   {
    "duration": 4640,
    "start_time": "2021-12-08T19:14:09.876Z"
   },
   {
    "duration": 4582,
    "start_time": "2021-12-08T19:14:09.935Z"
   },
   {
    "duration": 4510,
    "start_time": "2021-12-08T19:14:10.008Z"
   },
   {
    "duration": 4488,
    "start_time": "2021-12-08T19:14:10.031Z"
   },
   {
    "duration": 4455,
    "start_time": "2021-12-08T19:14:10.065Z"
   },
   {
    "duration": 4421,
    "start_time": "2021-12-08T19:14:10.100Z"
   },
   {
    "duration": 4387,
    "start_time": "2021-12-08T19:14:10.135Z"
   },
   {
    "duration": 4359,
    "start_time": "2021-12-08T19:14:10.164Z"
   },
   {
    "duration": 4330,
    "start_time": "2021-12-08T19:14:10.194Z"
   },
   {
    "duration": 4306,
    "start_time": "2021-12-08T19:14:10.219Z"
   },
   {
    "duration": 4252,
    "start_time": "2021-12-08T19:14:10.274Z"
   },
   {
    "duration": 4227,
    "start_time": "2021-12-08T19:14:10.300Z"
   },
   {
    "duration": 4195,
    "start_time": "2021-12-08T19:14:10.333Z"
   },
   {
    "duration": 4163,
    "start_time": "2021-12-08T19:14:10.366Z"
   },
   {
    "duration": 4136,
    "start_time": "2021-12-08T19:14:10.395Z"
   },
   {
    "duration": 4105,
    "start_time": "2021-12-08T19:14:10.427Z"
   },
   {
    "duration": 4081,
    "start_time": "2021-12-08T19:14:10.452Z"
   },
   {
    "duration": 4053,
    "start_time": "2021-12-08T19:14:10.481Z"
   },
   {
    "duration": 3976,
    "start_time": "2021-12-08T19:14:10.559Z"
   },
   {
    "duration": 3953,
    "start_time": "2021-12-08T19:14:10.583Z"
   },
   {
    "duration": 4,
    "start_time": "2021-12-08T19:15:52.797Z"
   },
   {
    "duration": 1145,
    "start_time": "2021-12-08T19:15:58.579Z"
   },
   {
    "duration": 486,
    "start_time": "2021-12-08T19:15:59.726Z"
   },
   {
    "duration": 13,
    "start_time": "2021-12-08T19:16:00.214Z"
   },
   {
    "duration": 20,
    "start_time": "2021-12-08T19:16:00.229Z"
   },
   {
    "duration": 14,
    "start_time": "2021-12-08T19:16:00.250Z"
   },
   {
    "duration": 17,
    "start_time": "2021-12-08T19:16:00.265Z"
   },
   {
    "duration": 20,
    "start_time": "2021-12-08T19:16:00.283Z"
   },
   {
    "duration": 10,
    "start_time": "2021-12-08T19:16:00.306Z"
   },
   {
    "duration": 23,
    "start_time": "2021-12-08T19:16:00.318Z"
   },
   {
    "duration": 11,
    "start_time": "2021-12-08T19:16:00.343Z"
   },
   {
    "duration": 17,
    "start_time": "2021-12-08T19:16:00.356Z"
   },
   {
    "duration": 18,
    "start_time": "2021-12-08T19:16:00.375Z"
   },
   {
    "duration": 19,
    "start_time": "2021-12-08T19:16:00.395Z"
   },
   {
    "duration": 45,
    "start_time": "2021-12-08T19:16:00.416Z"
   },
   {
    "duration": 31,
    "start_time": "2021-12-08T19:16:00.462Z"
   },
   {
    "duration": 15,
    "start_time": "2021-12-08T19:16:00.495Z"
   },
   {
    "duration": 113,
    "start_time": "2021-12-08T19:16:00.512Z"
   },
   {
    "duration": 9,
    "start_time": "2021-12-08T19:16:00.627Z"
   },
   {
    "duration": 2,
    "start_time": "2021-12-08T19:16:00.645Z"
   },
   {
    "duration": 23,
    "start_time": "2021-12-08T19:16:00.648Z"
   },
   {
    "duration": 10,
    "start_time": "2021-12-08T19:16:00.673Z"
   },
   {
    "duration": 376,
    "start_time": "2021-12-08T19:16:00.684Z"
   },
   {
    "duration": 18,
    "start_time": "2021-12-08T19:16:01.064Z"
   },
   {
    "duration": 16,
    "start_time": "2021-12-08T19:16:01.085Z"
   },
   {
    "duration": 47,
    "start_time": "2021-12-08T19:16:01.103Z"
   },
   {
    "duration": 25,
    "start_time": "2021-12-08T19:16:01.152Z"
   },
   {
    "duration": 18,
    "start_time": "2021-12-08T19:16:01.179Z"
   },
   {
    "duration": 295,
    "start_time": "2021-12-08T19:16:01.199Z"
   },
   {
    "duration": 20,
    "start_time": "2021-12-08T19:16:01.496Z"
   },
   {
    "duration": 35,
    "start_time": "2021-12-08T19:16:01.518Z"
   },
   {
    "duration": 41,
    "start_time": "2021-12-08T19:16:01.555Z"
   },
   {
    "duration": 6,
    "start_time": "2021-12-08T19:16:01.598Z"
   },
   {
    "duration": 33,
    "start_time": "2021-12-08T19:16:01.606Z"
   },
   {
    "duration": 100,
    "start_time": "2021-12-08T19:16:01.641Z"
   },
   {
    "duration": 10,
    "start_time": "2021-12-08T19:16:01.742Z"
   },
   {
    "duration": 931,
    "start_time": "2021-12-08T19:16:01.754Z"
   },
   {
    "duration": 39,
    "start_time": "2021-12-08T19:16:02.686Z"
   },
   {
    "duration": 19,
    "start_time": "2021-12-08T19:16:02.727Z"
   },
   {
    "duration": 21,
    "start_time": "2021-12-08T19:16:02.747Z"
   },
   {
    "duration": 7,
    "start_time": "2021-12-08T19:16:02.770Z"
   },
   {
    "duration": 30,
    "start_time": "2021-12-08T19:16:02.779Z"
   },
   {
    "duration": 8,
    "start_time": "2021-12-08T19:16:02.810Z"
   },
   {
    "duration": 69,
    "start_time": "2021-12-08T19:16:02.820Z"
   },
   {
    "duration": 53,
    "start_time": "2021-12-08T19:16:02.891Z"
   },
   {
    "duration": 19,
    "start_time": "2021-12-08T19:16:02.946Z"
   },
   {
    "duration": 4,
    "start_time": "2021-12-08T19:16:02.967Z"
   },
   {
    "duration": 16,
    "start_time": "2021-12-08T19:16:02.972Z"
   },
   {
    "duration": 4,
    "start_time": "2021-12-08T19:16:02.990Z"
   },
   {
    "duration": 6,
    "start_time": "2021-12-08T19:16:02.996Z"
   },
   {
    "duration": 6,
    "start_time": "2021-12-08T19:16:03.003Z"
   },
   {
    "duration": 164,
    "start_time": "2021-12-08T19:16:03.011Z"
   },
   {
    "duration": 8,
    "start_time": "2021-12-08T19:16:03.177Z"
   },
   {
    "duration": 28,
    "start_time": "2021-12-08T19:16:03.187Z"
   },
   {
    "duration": 13,
    "start_time": "2021-12-08T19:16:03.217Z"
   },
   {
    "duration": 6,
    "start_time": "2021-12-08T19:16:03.232Z"
   },
   {
    "duration": 6,
    "start_time": "2021-12-08T19:16:03.240Z"
   },
   {
    "duration": 349,
    "start_time": "2021-12-08T19:16:03.248Z"
   },
   {
    "duration": 6,
    "start_time": "2021-12-08T19:16:03.598Z"
   },
   {
    "duration": 352,
    "start_time": "2021-12-08T19:16:03.605Z"
   },
   {
    "duration": 5,
    "start_time": "2021-12-08T19:16:03.959Z"
   },
   {
    "duration": 293,
    "start_time": "2021-12-08T19:16:03.966Z"
   },
   {
    "duration": 6,
    "start_time": "2021-12-08T19:16:04.261Z"
   },
   {
    "duration": 285,
    "start_time": "2021-12-08T19:16:04.268Z"
   },
   {
    "duration": 6,
    "start_time": "2021-12-08T19:16:04.554Z"
   },
   {
    "duration": 289,
    "start_time": "2021-12-08T19:16:04.562Z"
   },
   {
    "duration": 5,
    "start_time": "2021-12-08T19:16:04.853Z"
   },
   {
    "duration": 293,
    "start_time": "2021-12-08T19:16:04.860Z"
   },
   {
    "duration": 7,
    "start_time": "2021-12-08T19:16:05.157Z"
   },
   {
    "duration": 13,
    "start_time": "2021-12-08T19:16:05.165Z"
   },
   {
    "duration": 6,
    "start_time": "2021-12-08T19:19:42.957Z"
   },
   {
    "duration": 1133,
    "start_time": "2021-12-08T19:20:02.499Z"
   },
   {
    "duration": 384,
    "start_time": "2021-12-08T19:20:03.633Z"
   },
   {
    "duration": 13,
    "start_time": "2021-12-08T19:20:04.019Z"
   },
   {
    "duration": 31,
    "start_time": "2021-12-08T19:20:04.034Z"
   },
   {
    "duration": 48,
    "start_time": "2021-12-08T19:20:04.067Z"
   },
   {
    "duration": 33,
    "start_time": "2021-12-08T19:20:04.117Z"
   },
   {
    "duration": 35,
    "start_time": "2021-12-08T19:20:04.152Z"
   },
   {
    "duration": 38,
    "start_time": "2021-12-08T19:20:04.191Z"
   },
   {
    "duration": 20,
    "start_time": "2021-12-08T19:20:04.232Z"
   },
   {
    "duration": 29,
    "start_time": "2021-12-08T19:20:04.253Z"
   },
   {
    "duration": 20,
    "start_time": "2021-12-08T19:20:04.284Z"
   },
   {
    "duration": 38,
    "start_time": "2021-12-08T19:20:04.306Z"
   },
   {
    "duration": 28,
    "start_time": "2021-12-08T19:20:04.346Z"
   },
   {
    "duration": 57,
    "start_time": "2021-12-08T19:20:04.376Z"
   },
   {
    "duration": 43,
    "start_time": "2021-12-08T19:20:04.435Z"
   },
   {
    "duration": 16,
    "start_time": "2021-12-08T19:20:04.480Z"
   },
   {
    "duration": 102,
    "start_time": "2021-12-08T19:20:04.498Z"
   },
   {
    "duration": 8,
    "start_time": "2021-12-08T19:20:04.602Z"
   },
   {
    "duration": 32,
    "start_time": "2021-12-08T19:20:04.612Z"
   },
   {
    "duration": 28,
    "start_time": "2021-12-08T19:20:04.645Z"
   },
   {
    "duration": 268,
    "start_time": "2021-12-08T19:20:04.676Z"
   },
   {
    "duration": 19,
    "start_time": "2021-12-08T19:20:04.946Z"
   },
   {
    "duration": 29,
    "start_time": "2021-12-08T19:20:04.970Z"
   },
   {
    "duration": 49,
    "start_time": "2021-12-08T19:20:05.003Z"
   },
   {
    "duration": 22,
    "start_time": "2021-12-08T19:20:05.054Z"
   },
   {
    "duration": 273,
    "start_time": "2021-12-08T19:20:05.078Z"
   },
   {
    "duration": 19,
    "start_time": "2021-12-08T19:20:05.353Z"
   },
   {
    "duration": 45,
    "start_time": "2021-12-08T19:20:05.375Z"
   },
   {
    "duration": 45,
    "start_time": "2021-12-08T19:20:05.422Z"
   },
   {
    "duration": 6,
    "start_time": "2021-12-08T19:20:05.469Z"
   },
   {
    "duration": 103,
    "start_time": "2021-12-08T19:20:05.477Z"
   },
   {
    "duration": 10,
    "start_time": "2021-12-08T19:20:05.582Z"
   },
   {
    "duration": 890,
    "start_time": "2021-12-08T19:20:05.594Z"
   },
   {
    "duration": 38,
    "start_time": "2021-12-08T19:20:06.486Z"
   },
   {
    "duration": 5,
    "start_time": "2021-12-08T19:20:06.525Z"
   },
   {
    "duration": 29,
    "start_time": "2021-12-08T19:20:06.532Z"
   },
   {
    "duration": 8,
    "start_time": "2021-12-08T19:20:06.563Z"
   },
   {
    "duration": 30,
    "start_time": "2021-12-08T19:20:06.572Z"
   },
   {
    "duration": 7,
    "start_time": "2021-12-08T19:20:06.603Z"
   },
   {
    "duration": 74,
    "start_time": "2021-12-08T19:20:06.611Z"
   },
   {
    "duration": 33,
    "start_time": "2021-12-08T19:20:06.686Z"
   },
   {
    "duration": 9,
    "start_time": "2021-12-08T19:20:06.721Z"
   },
   {
    "duration": 5,
    "start_time": "2021-12-08T19:20:06.745Z"
   },
   {
    "duration": 12,
    "start_time": "2021-12-08T19:20:06.752Z"
   },
   {
    "duration": 4,
    "start_time": "2021-12-08T19:20:06.766Z"
   },
   {
    "duration": 8,
    "start_time": "2021-12-08T19:20:06.771Z"
   },
   {
    "duration": 130,
    "start_time": "2021-12-08T19:20:06.781Z"
   },
   {
    "duration": 6,
    "start_time": "2021-12-08T19:20:06.913Z"
   },
   {
    "duration": 24,
    "start_time": "2021-12-08T19:20:06.921Z"
   },
   {
    "duration": 7,
    "start_time": "2021-12-08T19:20:06.948Z"
   },
   {
    "duration": 7,
    "start_time": "2021-12-08T19:20:06.957Z"
   },
   {
    "duration": 6,
    "start_time": "2021-12-08T19:20:06.966Z"
   },
   {
    "duration": 296,
    "start_time": "2021-12-08T19:20:06.974Z"
   },
   {
    "duration": 5,
    "start_time": "2021-12-08T19:20:07.272Z"
   },
   {
    "duration": 348,
    "start_time": "2021-12-08T19:20:07.279Z"
   },
   {
    "duration": 5,
    "start_time": "2021-12-08T19:20:07.629Z"
   },
   {
    "duration": 271,
    "start_time": "2021-12-08T19:20:07.644Z"
   },
   {
    "duration": 5,
    "start_time": "2021-12-08T19:20:07.917Z"
   },
   {
    "duration": 276,
    "start_time": "2021-12-08T19:20:07.924Z"
   },
   {
    "duration": 6,
    "start_time": "2021-12-08T19:20:08.202Z"
   },
   {
    "duration": 291,
    "start_time": "2021-12-08T19:20:08.209Z"
   },
   {
    "duration": 6,
    "start_time": "2021-12-08T19:20:08.501Z"
   },
   {
    "duration": 290,
    "start_time": "2021-12-08T19:20:08.508Z"
   },
   {
    "duration": 7,
    "start_time": "2021-12-08T19:20:08.800Z"
   },
   {
    "duration": 12,
    "start_time": "2021-12-08T19:20:08.808Z"
   },
   {
    "duration": 6,
    "start_time": "2021-12-08T19:20:35.070Z"
   },
   {
    "duration": 6,
    "start_time": "2021-12-08T19:20:40.970Z"
   },
   {
    "duration": 6,
    "start_time": "2021-12-08T19:20:51.007Z"
   },
   {
    "duration": 1218,
    "start_time": "2021-12-08T19:20:56.429Z"
   },
   {
    "duration": 413,
    "start_time": "2021-12-08T19:20:57.649Z"
   },
   {
    "duration": 18,
    "start_time": "2021-12-08T19:20:58.065Z"
   },
   {
    "duration": 9,
    "start_time": "2021-12-08T19:20:58.085Z"
   },
   {
    "duration": 27,
    "start_time": "2021-12-08T19:20:58.096Z"
   },
   {
    "duration": 14,
    "start_time": "2021-12-08T19:20:58.125Z"
   },
   {
    "duration": 17,
    "start_time": "2021-12-08T19:20:58.141Z"
   },
   {
    "duration": 15,
    "start_time": "2021-12-08T19:20:58.161Z"
   },
   {
    "duration": 21,
    "start_time": "2021-12-08T19:20:58.179Z"
   },
   {
    "duration": 10,
    "start_time": "2021-12-08T19:20:58.202Z"
   },
   {
    "duration": 29,
    "start_time": "2021-12-08T19:20:58.214Z"
   },
   {
    "duration": 53,
    "start_time": "2021-12-08T19:20:58.245Z"
   },
   {
    "duration": 29,
    "start_time": "2021-12-08T19:20:58.300Z"
   },
   {
    "duration": 39,
    "start_time": "2021-12-08T19:20:58.331Z"
   },
   {
    "duration": 31,
    "start_time": "2021-12-08T19:20:58.372Z"
   },
   {
    "duration": 18,
    "start_time": "2021-12-08T19:20:58.405Z"
   },
   {
    "duration": 109,
    "start_time": "2021-12-08T19:20:58.425Z"
   },
   {
    "duration": 10,
    "start_time": "2021-12-08T19:20:58.536Z"
   },
   {
    "duration": 20,
    "start_time": "2021-12-08T19:20:58.547Z"
   },
   {
    "duration": 26,
    "start_time": "2021-12-08T19:20:58.570Z"
   },
   {
    "duration": 294,
    "start_time": "2021-12-08T19:20:58.598Z"
   },
   {
    "duration": 18,
    "start_time": "2021-12-08T19:20:58.894Z"
   },
   {
    "duration": 20,
    "start_time": "2021-12-08T19:20:58.917Z"
   },
   {
    "duration": 33,
    "start_time": "2021-12-08T19:20:58.944Z"
   },
   {
    "duration": 10,
    "start_time": "2021-12-08T19:20:58.979Z"
   },
   {
    "duration": 261,
    "start_time": "2021-12-08T19:20:58.991Z"
   },
   {
    "duration": 24,
    "start_time": "2021-12-08T19:20:59.254Z"
   },
   {
    "duration": 41,
    "start_time": "2021-12-08T19:20:59.280Z"
   },
   {
    "duration": 51,
    "start_time": "2021-12-08T19:20:59.323Z"
   },
   {
    "duration": 7,
    "start_time": "2021-12-08T19:20:59.376Z"
   },
   {
    "duration": 110,
    "start_time": "2021-12-08T19:20:59.386Z"
   },
   {
    "duration": 16,
    "start_time": "2021-12-08T19:20:59.497Z"
   },
   {
    "duration": 36,
    "start_time": "2021-12-08T19:20:59.515Z"
   },
   {
    "duration": 21,
    "start_time": "2021-12-08T19:20:59.553Z"
   },
   {
    "duration": 931,
    "start_time": "2021-12-08T19:20:59.576Z"
   },
   {
    "duration": 9,
    "start_time": "2021-12-08T19:21:00.509Z"
   },
   {
    "duration": 48,
    "start_time": "2021-12-08T19:21:00.520Z"
   },
   {
    "duration": 5,
    "start_time": "2021-12-08T19:21:00.570Z"
   },
   {
    "duration": 27,
    "start_time": "2021-12-08T19:21:00.577Z"
   },
   {
    "duration": 8,
    "start_time": "2021-12-08T19:21:00.606Z"
   },
   {
    "duration": 41,
    "start_time": "2021-12-08T19:21:00.615Z"
   },
   {
    "duration": 7,
    "start_time": "2021-12-08T19:21:00.658Z"
   },
   {
    "duration": 118,
    "start_time": "2021-12-08T19:21:00.666Z"
   },
   {
    "duration": 31,
    "start_time": "2021-12-08T19:21:00.785Z"
   },
   {
    "duration": 8,
    "start_time": "2021-12-08T19:21:00.818Z"
   },
   {
    "duration": 55,
    "start_time": "2021-12-08T19:21:00.828Z"
   },
   {
    "duration": 39,
    "start_time": "2021-12-08T19:21:00.885Z"
   },
   {
    "duration": 16,
    "start_time": "2021-12-08T19:21:00.925Z"
   },
   {
    "duration": 22,
    "start_time": "2021-12-08T19:21:00.943Z"
   },
   {
    "duration": 138,
    "start_time": "2021-12-08T19:21:00.966Z"
   },
   {
    "duration": 6,
    "start_time": "2021-12-08T19:21:01.106Z"
   },
   {
    "duration": 60,
    "start_time": "2021-12-08T19:21:01.114Z"
   },
   {
    "duration": 23,
    "start_time": "2021-12-08T19:21:01.176Z"
   },
   {
    "duration": 12,
    "start_time": "2021-12-08T19:21:01.201Z"
   },
   {
    "duration": 30,
    "start_time": "2021-12-08T19:21:01.214Z"
   },
   {
    "duration": 287,
    "start_time": "2021-12-08T19:21:01.246Z"
   },
   {
    "duration": 12,
    "start_time": "2021-12-08T19:21:01.534Z"
   },
   {
    "duration": 410,
    "start_time": "2021-12-08T19:21:01.547Z"
   },
   {
    "duration": 5,
    "start_time": "2021-12-08T19:21:01.959Z"
   },
   {
    "duration": 280,
    "start_time": "2021-12-08T19:21:01.966Z"
   },
   {
    "duration": 5,
    "start_time": "2021-12-08T19:21:02.248Z"
   },
   {
    "duration": 268,
    "start_time": "2021-12-08T19:21:02.254Z"
   },
   {
    "duration": 5,
    "start_time": "2021-12-08T19:21:02.524Z"
   },
   {
    "duration": 300,
    "start_time": "2021-12-08T19:21:02.531Z"
   },
   {
    "duration": 5,
    "start_time": "2021-12-08T19:21:02.833Z"
   },
   {
    "duration": 284,
    "start_time": "2021-12-08T19:21:02.845Z"
   },
   {
    "duration": 14,
    "start_time": "2021-12-08T19:21:03.131Z"
   },
   {
    "duration": 22,
    "start_time": "2021-12-08T19:21:03.150Z"
   },
   {
    "duration": 348,
    "start_time": "2021-12-08T19:24:02.263Z"
   },
   {
    "duration": 5,
    "start_time": "2021-12-08T19:25:02.989Z"
   },
   {
    "duration": 81,
    "start_time": "2021-12-08T19:25:23.325Z"
   },
   {
    "duration": 6,
    "start_time": "2021-12-08T19:25:27.580Z"
   },
   {
    "duration": 422,
    "start_time": "2021-12-08T19:28:33.217Z"
   },
   {
    "duration": 871,
    "start_time": "2021-12-08T19:30:14.057Z"
   },
   {
    "duration": 2,
    "start_time": "2021-12-08T19:30:48.674Z"
   },
   {
    "duration": 5,
    "start_time": "2021-12-08T19:31:07.739Z"
   },
   {
    "duration": 6,
    "start_time": "2021-12-08T19:31:10.559Z"
   },
   {
    "duration": 3,
    "start_time": "2021-12-08T19:33:20.319Z"
   },
   {
    "duration": 270,
    "start_time": "2021-12-08T19:33:26.668Z"
   },
   {
    "duration": 1139,
    "start_time": "2021-12-08T19:33:44.166Z"
   },
   {
    "duration": 413,
    "start_time": "2021-12-08T19:33:45.307Z"
   },
   {
    "duration": 13,
    "start_time": "2021-12-08T19:33:45.722Z"
   },
   {
    "duration": 29,
    "start_time": "2021-12-08T19:33:45.737Z"
   },
   {
    "duration": 30,
    "start_time": "2021-12-08T19:33:45.768Z"
   },
   {
    "duration": 42,
    "start_time": "2021-12-08T19:33:45.799Z"
   },
   {
    "duration": 39,
    "start_time": "2021-12-08T19:33:45.842Z"
   },
   {
    "duration": 39,
    "start_time": "2021-12-08T19:33:45.883Z"
   },
   {
    "duration": 49,
    "start_time": "2021-12-08T19:33:45.924Z"
   },
   {
    "duration": 29,
    "start_time": "2021-12-08T19:33:45.974Z"
   },
   {
    "duration": 39,
    "start_time": "2021-12-08T19:33:46.005Z"
   },
   {
    "duration": 36,
    "start_time": "2021-12-08T19:33:46.046Z"
   },
   {
    "duration": 30,
    "start_time": "2021-12-08T19:33:46.084Z"
   },
   {
    "duration": 44,
    "start_time": "2021-12-08T19:33:46.117Z"
   },
   {
    "duration": 49,
    "start_time": "2021-12-08T19:33:46.163Z"
   },
   {
    "duration": 15,
    "start_time": "2021-12-08T19:33:46.213Z"
   },
   {
    "duration": 123,
    "start_time": "2021-12-08T19:33:46.230Z"
   },
   {
    "duration": 9,
    "start_time": "2021-12-08T19:33:46.354Z"
   },
   {
    "duration": 34,
    "start_time": "2021-12-08T19:33:46.365Z"
   },
   {
    "duration": 26,
    "start_time": "2021-12-08T19:33:46.400Z"
   },
   {
    "duration": 276,
    "start_time": "2021-12-08T19:33:46.428Z"
   },
   {
    "duration": 17,
    "start_time": "2021-12-08T19:33:46.706Z"
   },
   {
    "duration": 36,
    "start_time": "2021-12-08T19:33:46.727Z"
   },
   {
    "duration": 84,
    "start_time": "2021-12-08T19:33:46.765Z"
   },
   {
    "duration": 40,
    "start_time": "2021-12-08T19:33:46.850Z"
   },
   {
    "duration": 259,
    "start_time": "2021-12-08T19:33:46.891Z"
   },
   {
    "duration": 15,
    "start_time": "2021-12-08T19:33:47.151Z"
   },
   {
    "duration": 54,
    "start_time": "2021-12-08T19:33:47.167Z"
   },
   {
    "duration": 83,
    "start_time": "2021-12-08T19:33:47.222Z"
   },
   {
    "duration": 10,
    "start_time": "2021-12-08T19:33:47.307Z"
   },
   {
    "duration": 61,
    "start_time": "2021-12-08T19:33:47.318Z"
   },
   {
    "duration": 7,
    "start_time": "2021-12-08T19:33:47.381Z"
   },
   {
    "duration": 37,
    "start_time": "2021-12-08T19:33:47.389Z"
   },
   {
    "duration": 45,
    "start_time": "2021-12-08T19:33:47.428Z"
   },
   {
    "duration": 102,
    "start_time": "2021-12-08T19:33:47.475Z"
   },
   {
    "duration": 6,
    "start_time": "2021-12-08T19:33:47.579Z"
   },
   {
    "duration": 50,
    "start_time": "2021-12-08T19:33:47.586Z"
   },
   {
    "duration": 23,
    "start_time": "2021-12-08T19:33:47.638Z"
   },
   {
    "duration": 59,
    "start_time": "2021-12-08T19:33:47.663Z"
   },
   {
    "duration": 8,
    "start_time": "2021-12-08T19:33:47.724Z"
   },
   {
    "duration": 89,
    "start_time": "2021-12-08T19:33:47.734Z"
   },
   {
    "duration": 36,
    "start_time": "2021-12-08T19:33:47.825Z"
   },
   {
    "duration": 10,
    "start_time": "2021-12-08T19:33:47.862Z"
   },
   {
    "duration": 42,
    "start_time": "2021-12-08T19:33:47.873Z"
   },
   {
    "duration": 51,
    "start_time": "2021-12-08T19:33:47.916Z"
   },
   {
    "duration": 41,
    "start_time": "2021-12-08T19:33:47.968Z"
   },
   {
    "duration": 38,
    "start_time": "2021-12-08T19:33:48.011Z"
   },
   {
    "duration": 169,
    "start_time": "2021-12-08T19:33:48.050Z"
   },
   {
    "duration": 8,
    "start_time": "2021-12-08T19:33:48.221Z"
   },
   {
    "duration": 49,
    "start_time": "2021-12-08T19:33:48.231Z"
   },
   {
    "duration": 32,
    "start_time": "2021-12-08T19:33:48.283Z"
   },
   {
    "duration": 36,
    "start_time": "2021-12-08T19:33:48.317Z"
   },
   {
    "duration": 43,
    "start_time": "2021-12-08T19:33:48.355Z"
   },
   {
    "duration": 308,
    "start_time": "2021-12-08T19:33:48.400Z"
   },
   {
    "duration": 6,
    "start_time": "2021-12-08T19:33:48.709Z"
   },
   {
    "duration": 307,
    "start_time": "2021-12-08T19:33:48.716Z"
   },
   {
    "duration": 6,
    "start_time": "2021-12-08T19:33:49.025Z"
   },
   {
    "duration": 367,
    "start_time": "2021-12-08T19:33:49.032Z"
   },
   {
    "duration": 6,
    "start_time": "2021-12-08T19:33:49.401Z"
   },
   {
    "duration": 316,
    "start_time": "2021-12-08T19:33:49.408Z"
   },
   {
    "duration": 6,
    "start_time": "2021-12-08T19:33:49.725Z"
   },
   {
    "duration": 289,
    "start_time": "2021-12-08T19:33:49.732Z"
   },
   {
    "duration": 6,
    "start_time": "2021-12-08T19:33:50.023Z"
   },
   {
    "duration": 321,
    "start_time": "2021-12-08T19:33:50.031Z"
   },
   {
    "duration": 8,
    "start_time": "2021-12-08T19:33:50.354Z"
   },
   {
    "duration": 40,
    "start_time": "2021-12-08T19:33:50.364Z"
   },
   {
    "duration": 1229,
    "start_time": "2021-12-08T19:38:34.180Z"
   },
   {
    "duration": 420,
    "start_time": "2021-12-08T19:38:35.411Z"
   },
   {
    "duration": 15,
    "start_time": "2021-12-08T19:38:35.833Z"
   },
   {
    "duration": 9,
    "start_time": "2021-12-08T19:38:35.850Z"
   },
   {
    "duration": 10,
    "start_time": "2021-12-08T19:38:35.861Z"
   },
   {
    "duration": 12,
    "start_time": "2021-12-08T19:38:35.873Z"
   },
   {
    "duration": 13,
    "start_time": "2021-12-08T19:38:35.887Z"
   },
   {
    "duration": 47,
    "start_time": "2021-12-08T19:38:35.904Z"
   },
   {
    "duration": 8,
    "start_time": "2021-12-08T19:38:35.954Z"
   },
   {
    "duration": 4,
    "start_time": "2021-12-08T19:38:35.965Z"
   },
   {
    "duration": 8,
    "start_time": "2021-12-08T19:38:35.971Z"
   },
   {
    "duration": 14,
    "start_time": "2021-12-08T19:38:35.981Z"
   },
   {
    "duration": 28,
    "start_time": "2021-12-08T19:38:35.997Z"
   },
   {
    "duration": 44,
    "start_time": "2021-12-08T19:38:36.027Z"
   },
   {
    "duration": 32,
    "start_time": "2021-12-08T19:38:36.073Z"
   },
   {
    "duration": 17,
    "start_time": "2021-12-08T19:38:36.107Z"
   },
   {
    "duration": 121,
    "start_time": "2021-12-08T19:38:36.126Z"
   },
   {
    "duration": 9,
    "start_time": "2021-12-08T19:38:36.249Z"
   },
   {
    "duration": 9,
    "start_time": "2021-12-08T19:38:36.260Z"
   },
   {
    "duration": 11,
    "start_time": "2021-12-08T19:38:36.272Z"
   },
   {
    "duration": 273,
    "start_time": "2021-12-08T19:38:36.285Z"
   },
   {
    "duration": 16,
    "start_time": "2021-12-08T19:38:36.560Z"
   },
   {
    "duration": 18,
    "start_time": "2021-12-08T19:38:36.580Z"
   },
   {
    "duration": 35,
    "start_time": "2021-12-08T19:38:36.600Z"
   },
   {
    "duration": 9,
    "start_time": "2021-12-08T19:38:36.637Z"
   },
   {
    "duration": 241,
    "start_time": "2021-12-08T19:38:36.648Z"
   },
   {
    "duration": 15,
    "start_time": "2021-12-08T19:38:36.890Z"
   },
   {
    "duration": 26,
    "start_time": "2021-12-08T19:38:36.906Z"
   },
   {
    "duration": 51,
    "start_time": "2021-12-08T19:38:36.934Z"
   },
   {
    "duration": 8,
    "start_time": "2021-12-08T19:38:36.987Z"
   },
   {
    "duration": 50,
    "start_time": "2021-12-08T19:38:36.997Z"
   },
   {
    "duration": 3,
    "start_time": "2021-12-08T19:38:37.049Z"
   },
   {
    "duration": 9,
    "start_time": "2021-12-08T19:38:37.054Z"
   },
   {
    "duration": 13,
    "start_time": "2021-12-08T19:38:37.065Z"
   },
   {
    "duration": 65,
    "start_time": "2021-12-08T19:38:37.079Z"
   },
   {
    "duration": 8,
    "start_time": "2021-12-08T19:38:37.146Z"
   },
   {
    "duration": 22,
    "start_time": "2021-12-08T19:38:37.156Z"
   },
   {
    "duration": 9,
    "start_time": "2021-12-08T19:38:37.180Z"
   },
   {
    "duration": 63,
    "start_time": "2021-12-08T19:38:37.191Z"
   },
   {
    "duration": 8,
    "start_time": "2021-12-08T19:38:37.256Z"
   },
   {
    "duration": 55,
    "start_time": "2021-12-08T19:38:37.266Z"
   },
   {
    "duration": 53,
    "start_time": "2021-12-08T19:38:37.323Z"
   },
   {
    "duration": 8,
    "start_time": "2021-12-08T19:38:37.378Z"
   },
   {
    "duration": 4,
    "start_time": "2021-12-08T19:38:37.388Z"
   },
   {
    "duration": 15,
    "start_time": "2021-12-08T19:38:37.394Z"
   },
   {
    "duration": 4,
    "start_time": "2021-12-08T19:38:37.411Z"
   },
   {
    "duration": 32,
    "start_time": "2021-12-08T19:38:37.417Z"
   },
   {
    "duration": 121,
    "start_time": "2021-12-08T19:38:37.451Z"
   },
   {
    "duration": 8,
    "start_time": "2021-12-08T19:38:37.574Z"
   },
   {
    "duration": 15,
    "start_time": "2021-12-08T19:38:37.584Z"
   },
   {
    "duration": 9,
    "start_time": "2021-12-08T19:38:37.601Z"
   },
   {
    "duration": 10,
    "start_time": "2021-12-08T19:38:37.611Z"
   },
   {
    "duration": 25,
    "start_time": "2021-12-08T19:38:37.622Z"
   },
   {
    "duration": 275,
    "start_time": "2021-12-08T19:38:37.650Z"
   },
   {
    "duration": 5,
    "start_time": "2021-12-08T19:38:37.927Z"
   },
   {
    "duration": 315,
    "start_time": "2021-12-08T19:38:37.934Z"
   },
   {
    "duration": 5,
    "start_time": "2021-12-08T19:38:38.251Z"
   },
   {
    "duration": 357,
    "start_time": "2021-12-08T19:38:38.258Z"
   },
   {
    "duration": 6,
    "start_time": "2021-12-08T19:38:38.617Z"
   },
   {
    "duration": 273,
    "start_time": "2021-12-08T19:38:38.625Z"
   },
   {
    "duration": 6,
    "start_time": "2021-12-08T19:38:38.900Z"
   },
   {
    "duration": 295,
    "start_time": "2021-12-08T19:38:38.908Z"
   },
   {
    "duration": 6,
    "start_time": "2021-12-08T19:38:39.205Z"
   },
   {
    "duration": 315,
    "start_time": "2021-12-08T19:38:39.212Z"
   },
   {
    "duration": 7,
    "start_time": "2021-12-08T19:38:39.529Z"
   },
   {
    "duration": 14,
    "start_time": "2021-12-08T19:38:39.538Z"
   },
   {
    "duration": 87,
    "start_time": "2021-12-08T19:39:42.180Z"
   },
   {
    "duration": 3,
    "start_time": "2021-12-08T19:40:56.195Z"
   },
   {
    "duration": 10,
    "start_time": "2021-12-08T19:49:39.534Z"
   },
   {
    "duration": 1270,
    "start_time": "2021-12-08T19:49:47.748Z"
   },
   {
    "duration": 426,
    "start_time": "2021-12-08T19:49:49.020Z"
   },
   {
    "duration": 14,
    "start_time": "2021-12-08T19:49:49.449Z"
   },
   {
    "duration": 39,
    "start_time": "2021-12-08T19:49:49.465Z"
   },
   {
    "duration": 37,
    "start_time": "2021-12-08T19:49:49.506Z"
   },
   {
    "duration": 51,
    "start_time": "2021-12-08T19:49:49.545Z"
   },
   {
    "duration": 66,
    "start_time": "2021-12-08T19:49:49.598Z"
   },
   {
    "duration": 54,
    "start_time": "2021-12-08T19:49:49.667Z"
   },
   {
    "duration": 35,
    "start_time": "2021-12-08T19:49:49.723Z"
   },
   {
    "duration": 66,
    "start_time": "2021-12-08T19:49:49.760Z"
   },
   {
    "duration": 62,
    "start_time": "2021-12-08T19:49:49.829Z"
   },
   {
    "duration": 44,
    "start_time": "2021-12-08T19:49:49.894Z"
   },
   {
    "duration": 50,
    "start_time": "2021-12-08T19:49:49.941Z"
   },
   {
    "duration": 59,
    "start_time": "2021-12-08T19:49:49.993Z"
   },
   {
    "duration": 62,
    "start_time": "2021-12-08T19:49:50.054Z"
   },
   {
    "duration": 41,
    "start_time": "2021-12-08T19:49:50.117Z"
   },
   {
    "duration": 128,
    "start_time": "2021-12-08T19:49:50.160Z"
   },
   {
    "duration": 9,
    "start_time": "2021-12-08T19:49:50.290Z"
   },
   {
    "duration": 27,
    "start_time": "2021-12-08T19:49:50.301Z"
   },
   {
    "duration": 38,
    "start_time": "2021-12-08T19:49:50.330Z"
   },
   {
    "duration": 285,
    "start_time": "2021-12-08T19:49:50.370Z"
   },
   {
    "duration": 17,
    "start_time": "2021-12-08T19:49:50.657Z"
   },
   {
    "duration": 35,
    "start_time": "2021-12-08T19:49:50.677Z"
   },
   {
    "duration": 56,
    "start_time": "2021-12-08T19:49:50.714Z"
   },
   {
    "duration": 19,
    "start_time": "2021-12-08T19:49:50.771Z"
   },
   {
    "duration": 266,
    "start_time": "2021-12-08T19:49:50.792Z"
   },
   {
    "duration": 16,
    "start_time": "2021-12-08T19:49:51.059Z"
   },
   {
    "duration": 59,
    "start_time": "2021-12-08T19:49:51.076Z"
   },
   {
    "duration": 58,
    "start_time": "2021-12-08T19:49:51.137Z"
   },
   {
    "duration": 7,
    "start_time": "2021-12-08T19:49:51.197Z"
   },
   {
    "duration": 58,
    "start_time": "2021-12-08T19:49:51.205Z"
   },
   {
    "duration": 49,
    "start_time": "2021-12-08T19:49:51.265Z"
   },
   {
    "duration": 30,
    "start_time": "2021-12-08T19:49:51.316Z"
   },
   {
    "duration": 38,
    "start_time": "2021-12-08T19:49:51.348Z"
   },
   {
    "duration": 49,
    "start_time": "2021-12-08T19:49:51.388Z"
   },
   {
    "duration": 76,
    "start_time": "2021-12-08T19:49:51.439Z"
   },
   {
    "duration": 9,
    "start_time": "2021-12-08T19:49:51.517Z"
   },
   {
    "duration": 44,
    "start_time": "2021-12-08T19:49:51.528Z"
   },
   {
    "duration": 26,
    "start_time": "2021-12-08T19:49:51.573Z"
   },
   {
    "duration": 47,
    "start_time": "2021-12-08T19:49:51.601Z"
   },
   {
    "duration": 7,
    "start_time": "2021-12-08T19:49:51.650Z"
   },
   {
    "duration": 77,
    "start_time": "2021-12-08T19:49:51.659Z"
   },
   {
    "duration": 34,
    "start_time": "2021-12-08T19:49:51.738Z"
   },
   {
    "duration": 9,
    "start_time": "2021-12-08T19:49:51.774Z"
   },
   {
    "duration": 27,
    "start_time": "2021-12-08T19:49:51.785Z"
   },
   {
    "duration": 77,
    "start_time": "2021-12-08T19:49:51.814Z"
   },
   {
    "duration": 60,
    "start_time": "2021-12-08T19:49:51.893Z"
   },
   {
    "duration": 65,
    "start_time": "2021-12-08T19:49:51.955Z"
   },
   {
    "duration": 238,
    "start_time": "2021-12-08T19:49:52.022Z"
   },
   {
    "duration": 7,
    "start_time": "2021-12-08T19:49:52.262Z"
   },
   {
    "duration": 25,
    "start_time": "2021-12-08T19:49:52.271Z"
   },
   {
    "duration": 20,
    "start_time": "2021-12-08T19:49:52.298Z"
   },
   {
    "duration": 24,
    "start_time": "2021-12-08T19:49:52.319Z"
   },
   {
    "duration": 32,
    "start_time": "2021-12-08T19:49:52.345Z"
   },
   {
    "duration": 304,
    "start_time": "2021-12-08T19:49:52.379Z"
   },
   {
    "duration": 6,
    "start_time": "2021-12-08T19:49:52.684Z"
   },
   {
    "duration": 427,
    "start_time": "2021-12-08T19:49:52.692Z"
   },
   {
    "duration": 5,
    "start_time": "2021-12-08T19:49:53.121Z"
   },
   {
    "duration": 366,
    "start_time": "2021-12-08T19:49:53.128Z"
   },
   {
    "duration": 5,
    "start_time": "2021-12-08T19:49:53.496Z"
   },
   {
    "duration": 310,
    "start_time": "2021-12-08T19:49:53.503Z"
   },
   {
    "duration": 5,
    "start_time": "2021-12-08T19:49:53.815Z"
   },
   {
    "duration": 316,
    "start_time": "2021-12-08T19:49:53.821Z"
   },
   {
    "duration": 8,
    "start_time": "2021-12-08T19:49:54.139Z"
   },
   {
    "duration": 297,
    "start_time": "2021-12-08T19:49:54.149Z"
   },
   {
    "duration": 8,
    "start_time": "2021-12-08T19:49:54.448Z"
   },
   {
    "duration": 21,
    "start_time": "2021-12-08T19:49:54.458Z"
   },
   {
    "duration": 570,
    "start_time": "2021-12-08T19:54:23.492Z"
   },
   {
    "duration": 649,
    "start_time": "2021-12-08T19:54:40.134Z"
   },
   {
    "duration": 583,
    "start_time": "2021-12-08T19:54:47.302Z"
   },
   {
    "duration": 581,
    "start_time": "2021-12-08T19:55:01.829Z"
   },
   {
    "duration": 644,
    "start_time": "2021-12-08T19:56:28.571Z"
   },
   {
    "duration": 583,
    "start_time": "2021-12-08T19:58:04.340Z"
   },
   {
    "duration": 514,
    "start_time": "2021-12-08T19:58:32.490Z"
   },
   {
    "duration": 128,
    "start_time": "2021-12-08T19:59:08.584Z"
   },
   {
    "duration": 662,
    "start_time": "2021-12-08T19:59:17.123Z"
   },
   {
    "duration": 703,
    "start_time": "2021-12-08T19:59:35.013Z"
   },
   {
    "duration": 802,
    "start_time": "2021-12-08T19:59:47.155Z"
   },
   {
    "duration": 788,
    "start_time": "2021-12-08T20:01:11.073Z"
   },
   {
    "duration": 604,
    "start_time": "2021-12-08T20:01:25.455Z"
   },
   {
    "duration": 81,
    "start_time": "2021-12-08T20:08:26.061Z"
   },
   {
    "duration": 5,
    "start_time": "2021-12-08T20:10:35.078Z"
   },
   {
    "duration": 343,
    "start_time": "2021-12-08T20:11:04.479Z"
   },
   {
    "duration": 4,
    "start_time": "2021-12-08T20:11:33.177Z"
   },
   {
    "duration": 19,
    "start_time": "2021-12-08T20:12:01.272Z"
   },
   {
    "duration": 497,
    "start_time": "2021-12-08T20:12:13.282Z"
   },
   {
    "duration": 293,
    "start_time": "2021-12-08T20:12:17.205Z"
   },
   {
    "duration": 1135,
    "start_time": "2021-12-08T20:12:44.890Z"
   },
   {
    "duration": 411,
    "start_time": "2021-12-08T20:12:46.026Z"
   },
   {
    "duration": 13,
    "start_time": "2021-12-08T20:12:46.439Z"
   },
   {
    "duration": 34,
    "start_time": "2021-12-08T20:12:46.454Z"
   },
   {
    "duration": 25,
    "start_time": "2021-12-08T20:12:46.490Z"
   },
   {
    "duration": 28,
    "start_time": "2021-12-08T20:12:46.517Z"
   },
   {
    "duration": 8,
    "start_time": "2021-12-08T20:12:46.547Z"
   },
   {
    "duration": 10,
    "start_time": "2021-12-08T20:12:46.558Z"
   },
   {
    "duration": 6,
    "start_time": "2021-12-08T20:12:46.570Z"
   },
   {
    "duration": 5,
    "start_time": "2021-12-08T20:12:46.577Z"
   },
   {
    "duration": 7,
    "start_time": "2021-12-08T20:12:46.584Z"
   },
   {
    "duration": 7,
    "start_time": "2021-12-08T20:12:46.593Z"
   },
   {
    "duration": 50,
    "start_time": "2021-12-08T20:12:46.601Z"
   },
   {
    "duration": 23,
    "start_time": "2021-12-08T20:12:46.652Z"
   },
   {
    "duration": 30,
    "start_time": "2021-12-08T20:12:46.678Z"
   },
   {
    "duration": 36,
    "start_time": "2021-12-08T20:12:46.709Z"
   },
   {
    "duration": 110,
    "start_time": "2021-12-08T20:12:46.746Z"
   },
   {
    "duration": 7,
    "start_time": "2021-12-08T20:12:46.858Z"
   },
   {
    "duration": 15,
    "start_time": "2021-12-08T20:12:46.867Z"
   },
   {
    "duration": 13,
    "start_time": "2021-12-08T20:12:46.884Z"
   },
   {
    "duration": 270,
    "start_time": "2021-12-08T20:12:46.899Z"
   },
   {
    "duration": 17,
    "start_time": "2021-12-08T20:12:47.170Z"
   },
   {
    "duration": 12,
    "start_time": "2021-12-08T20:12:47.191Z"
   },
   {
    "duration": 22,
    "start_time": "2021-12-08T20:12:47.206Z"
   },
   {
    "duration": 21,
    "start_time": "2021-12-08T20:12:47.230Z"
   },
   {
    "duration": 239,
    "start_time": "2021-12-08T20:12:47.253Z"
   },
   {
    "duration": 15,
    "start_time": "2021-12-08T20:12:47.494Z"
   },
   {
    "duration": 27,
    "start_time": "2021-12-08T20:12:47.510Z"
   },
   {
    "duration": 38,
    "start_time": "2021-12-08T20:12:47.539Z"
   },
   {
    "duration": 6,
    "start_time": "2021-12-08T20:12:47.579Z"
   },
   {
    "duration": 42,
    "start_time": "2021-12-08T20:12:47.587Z"
   },
   {
    "duration": 2,
    "start_time": "2021-12-08T20:12:47.631Z"
   },
   {
    "duration": 24,
    "start_time": "2021-12-08T20:12:47.635Z"
   },
   {
    "duration": 20,
    "start_time": "2021-12-08T20:12:47.661Z"
   },
   {
    "duration": 16,
    "start_time": "2021-12-08T20:12:47.683Z"
   },
   {
    "duration": 59,
    "start_time": "2021-12-08T20:12:47.701Z"
   },
   {
    "duration": 6,
    "start_time": "2021-12-08T20:12:47.762Z"
   },
   {
    "duration": 34,
    "start_time": "2021-12-08T20:12:47.770Z"
   },
   {
    "duration": 10,
    "start_time": "2021-12-08T20:12:47.805Z"
   },
   {
    "duration": 39,
    "start_time": "2021-12-08T20:12:47.817Z"
   },
   {
    "duration": 7,
    "start_time": "2021-12-08T20:12:47.858Z"
   },
   {
    "duration": 68,
    "start_time": "2021-12-08T20:12:47.867Z"
   },
   {
    "duration": 35,
    "start_time": "2021-12-08T20:12:47.937Z"
   },
   {
    "duration": 8,
    "start_time": "2021-12-08T20:12:47.974Z"
   },
   {
    "duration": 22,
    "start_time": "2021-12-08T20:12:47.984Z"
   },
   {
    "duration": 20,
    "start_time": "2021-12-08T20:12:48.007Z"
   },
   {
    "duration": 12,
    "start_time": "2021-12-08T20:12:48.029Z"
   },
   {
    "duration": 20,
    "start_time": "2021-12-08T20:12:48.042Z"
   },
   {
    "duration": 240,
    "start_time": "2021-12-08T20:12:48.063Z"
   },
   {
    "duration": 9,
    "start_time": "2021-12-08T20:12:48.305Z"
   },
   {
    "duration": 38,
    "start_time": "2021-12-08T20:12:48.316Z"
   },
   {
    "duration": 20,
    "start_time": "2021-12-08T20:12:48.356Z"
   },
   {
    "duration": 23,
    "start_time": "2021-12-08T20:12:48.377Z"
   },
   {
    "duration": 25,
    "start_time": "2021-12-08T20:12:48.402Z"
   },
   {
    "duration": 269,
    "start_time": "2021-12-08T20:12:48.428Z"
   },
   {
    "duration": 7,
    "start_time": "2021-12-08T20:12:48.699Z"
   },
   {
    "duration": 286,
    "start_time": "2021-12-08T20:12:48.707Z"
   },
   {
    "duration": 6,
    "start_time": "2021-12-08T20:12:48.995Z"
   },
   {
    "duration": 352,
    "start_time": "2021-12-08T20:12:49.003Z"
   },
   {
    "duration": 7,
    "start_time": "2021-12-08T20:12:49.357Z"
   },
   {
    "duration": 528,
    "start_time": "2021-12-08T20:12:49.365Z"
   },
   {
    "duration": 6,
    "start_time": "2021-12-08T20:12:49.895Z"
   },
   {
    "duration": 583,
    "start_time": "2021-12-08T20:12:49.903Z"
   },
   {
    "duration": 7,
    "start_time": "2021-12-08T20:12:50.488Z"
   },
   {
    "duration": 582,
    "start_time": "2021-12-08T20:12:50.497Z"
   },
   {
    "duration": 719,
    "start_time": "2021-12-08T20:12:51.080Z"
   },
   {
    "duration": 4,
    "start_time": "2021-12-08T20:12:51.800Z"
   },
   {
    "duration": 4,
    "start_time": "2021-12-08T20:12:51.809Z"
   },
   {
    "duration": 3,
    "start_time": "2021-12-08T20:12:51.815Z"
   },
   {
    "duration": 9,
    "start_time": "2021-12-08T20:12:51.845Z"
   },
   {
    "duration": 9,
    "start_time": "2021-12-08T20:12:51.856Z"
   },
   {
    "duration": 5,
    "start_time": "2021-12-08T20:14:23.052Z"
   },
   {
    "duration": 1264,
    "start_time": "2021-12-08T20:14:28.809Z"
   },
   {
    "duration": 403,
    "start_time": "2021-12-08T20:14:30.075Z"
   },
   {
    "duration": 14,
    "start_time": "2021-12-08T20:14:30.480Z"
   },
   {
    "duration": 20,
    "start_time": "2021-12-08T20:14:30.497Z"
   },
   {
    "duration": 25,
    "start_time": "2021-12-08T20:14:30.519Z"
   },
   {
    "duration": 17,
    "start_time": "2021-12-08T20:14:30.546Z"
   },
   {
    "duration": 23,
    "start_time": "2021-12-08T20:14:30.565Z"
   },
   {
    "duration": 22,
    "start_time": "2021-12-08T20:14:30.591Z"
   },
   {
    "duration": 15,
    "start_time": "2021-12-08T20:14:30.615Z"
   },
   {
    "duration": 21,
    "start_time": "2021-12-08T20:14:30.632Z"
   },
   {
    "duration": 14,
    "start_time": "2021-12-08T20:14:30.655Z"
   },
   {
    "duration": 28,
    "start_time": "2021-12-08T20:14:30.671Z"
   },
   {
    "duration": 23,
    "start_time": "2021-12-08T20:14:30.701Z"
   },
   {
    "duration": 42,
    "start_time": "2021-12-08T20:14:30.726Z"
   },
   {
    "duration": 32,
    "start_time": "2021-12-08T20:14:30.770Z"
   },
   {
    "duration": 16,
    "start_time": "2021-12-08T20:14:30.804Z"
   },
   {
    "duration": 114,
    "start_time": "2021-12-08T20:14:30.822Z"
   },
   {
    "duration": 10,
    "start_time": "2021-12-08T20:14:30.938Z"
   },
   {
    "duration": 32,
    "start_time": "2021-12-08T20:14:30.950Z"
   },
   {
    "duration": 21,
    "start_time": "2021-12-08T20:14:30.984Z"
   },
   {
    "duration": 244,
    "start_time": "2021-12-08T20:14:31.006Z"
   },
   {
    "duration": 16,
    "start_time": "2021-12-08T20:14:31.252Z"
   },
   {
    "duration": 23,
    "start_time": "2021-12-08T20:14:31.272Z"
   },
   {
    "duration": 34,
    "start_time": "2021-12-08T20:14:31.297Z"
   },
   {
    "duration": 16,
    "start_time": "2021-12-08T20:14:31.332Z"
   },
   {
    "duration": 236,
    "start_time": "2021-12-08T20:14:31.350Z"
   },
   {
    "duration": 15,
    "start_time": "2021-12-08T20:14:31.588Z"
   },
   {
    "duration": 31,
    "start_time": "2021-12-08T20:14:31.605Z"
   },
   {
    "duration": 43,
    "start_time": "2021-12-08T20:14:31.638Z"
   },
   {
    "duration": 6,
    "start_time": "2021-12-08T20:14:31.683Z"
   },
   {
    "duration": 56,
    "start_time": "2021-12-08T20:14:31.691Z"
   },
   {
    "duration": 2,
    "start_time": "2021-12-08T20:14:31.749Z"
   },
   {
    "duration": 12,
    "start_time": "2021-12-08T20:14:31.753Z"
   },
   {
    "duration": 12,
    "start_time": "2021-12-08T20:14:31.766Z"
   },
   {
    "duration": 2,
    "start_time": "2021-12-08T20:14:31.780Z"
   },
   {
    "duration": 51,
    "start_time": "2021-12-08T20:14:31.784Z"
   },
   {
    "duration": 11,
    "start_time": "2021-12-08T20:14:31.837Z"
   },
   {
    "duration": 36,
    "start_time": "2021-12-08T20:14:31.850Z"
   },
   {
    "duration": 7,
    "start_time": "2021-12-08T20:14:31.888Z"
   },
   {
    "duration": 37,
    "start_time": "2021-12-08T20:14:31.897Z"
   },
   {
    "duration": 7,
    "start_time": "2021-12-08T20:14:31.935Z"
   },
   {
    "duration": 53,
    "start_time": "2021-12-08T20:14:31.944Z"
   },
   {
    "duration": 45,
    "start_time": "2021-12-08T20:14:31.999Z"
   },
   {
    "duration": 9,
    "start_time": "2021-12-08T20:14:32.046Z"
   },
   {
    "duration": 4,
    "start_time": "2021-12-08T20:14:32.057Z"
   },
   {
    "duration": 12,
    "start_time": "2021-12-08T20:14:32.063Z"
   },
   {
    "duration": 5,
    "start_time": "2021-12-08T20:14:32.077Z"
   },
   {
    "duration": 7,
    "start_time": "2021-12-08T20:14:32.083Z"
   },
   {
    "duration": 205,
    "start_time": "2021-12-08T20:14:32.091Z"
   },
   {
    "duration": 6,
    "start_time": "2021-12-08T20:14:32.298Z"
   },
   {
    "duration": 11,
    "start_time": "2021-12-08T20:14:32.306Z"
   },
   {
    "duration": 11,
    "start_time": "2021-12-08T20:14:32.319Z"
   },
   {
    "duration": 4,
    "start_time": "2021-12-08T20:14:32.344Z"
   },
   {
    "duration": 8,
    "start_time": "2021-12-08T20:14:32.350Z"
   },
   {
    "duration": 269,
    "start_time": "2021-12-08T20:14:32.360Z"
   },
   {
    "duration": 16,
    "start_time": "2021-12-08T20:14:32.630Z"
   },
   {
    "duration": 267,
    "start_time": "2021-12-08T20:14:32.648Z"
   },
   {
    "duration": 5,
    "start_time": "2021-12-08T20:14:32.917Z"
   },
   {
    "duration": 332,
    "start_time": "2021-12-08T20:14:32.923Z"
   },
   {
    "duration": 5,
    "start_time": "2021-12-08T20:14:33.257Z"
   },
   {
    "duration": 19,
    "start_time": "2021-12-08T20:14:33.264Z"
   },
   {
    "duration": 506,
    "start_time": "2021-12-08T20:14:33.285Z"
   },
   {
    "duration": 6,
    "start_time": "2021-12-08T20:14:33.793Z"
   },
   {
    "duration": 518,
    "start_time": "2021-12-08T20:14:33.800Z"
   },
   {
    "duration": 5,
    "start_time": "2021-12-08T20:14:34.320Z"
   },
   {
    "duration": 585,
    "start_time": "2021-12-08T20:14:34.327Z"
   },
   {
    "duration": 652,
    "start_time": "2021-12-08T20:14:34.913Z"
   },
   {
    "duration": 5,
    "start_time": "2021-12-08T20:14:35.570Z"
   },
   {
    "duration": 6,
    "start_time": "2021-12-08T20:14:35.576Z"
   },
   {
    "duration": 4,
    "start_time": "2021-12-08T20:14:35.584Z"
   },
   {
    "duration": 8,
    "start_time": "2021-12-08T20:14:35.589Z"
   },
   {
    "duration": 9,
    "start_time": "2021-12-08T20:14:35.598Z"
   },
   {
    "duration": 5,
    "start_time": "2021-12-08T20:15:16.303Z"
   },
   {
    "duration": 1260,
    "start_time": "2021-12-08T20:15:23.052Z"
   },
   {
    "duration": 404,
    "start_time": "2021-12-08T20:15:24.314Z"
   },
   {
    "duration": 14,
    "start_time": "2021-12-08T20:15:24.719Z"
   },
   {
    "duration": 8,
    "start_time": "2021-12-08T20:15:24.734Z"
   },
   {
    "duration": 18,
    "start_time": "2021-12-08T20:15:24.743Z"
   },
   {
    "duration": 9,
    "start_time": "2021-12-08T20:15:24.763Z"
   },
   {
    "duration": 10,
    "start_time": "2021-12-08T20:15:24.773Z"
   },
   {
    "duration": 10,
    "start_time": "2021-12-08T20:15:24.785Z"
   },
   {
    "duration": 6,
    "start_time": "2021-12-08T20:15:24.798Z"
   },
   {
    "duration": 5,
    "start_time": "2021-12-08T20:15:24.806Z"
   },
   {
    "duration": 33,
    "start_time": "2021-12-08T20:15:24.813Z"
   },
   {
    "duration": 15,
    "start_time": "2021-12-08T20:15:24.848Z"
   },
   {
    "duration": 18,
    "start_time": "2021-12-08T20:15:24.865Z"
   },
   {
    "duration": 26,
    "start_time": "2021-12-08T20:15:24.885Z"
   },
   {
    "duration": 31,
    "start_time": "2021-12-08T20:15:24.913Z"
   },
   {
    "duration": 16,
    "start_time": "2021-12-08T20:15:24.945Z"
   },
   {
    "duration": 113,
    "start_time": "2021-12-08T20:15:24.963Z"
   },
   {
    "duration": 7,
    "start_time": "2021-12-08T20:15:25.078Z"
   },
   {
    "duration": 8,
    "start_time": "2021-12-08T20:15:25.087Z"
   },
   {
    "duration": 20,
    "start_time": "2021-12-08T20:15:25.097Z"
   },
   {
    "duration": 263,
    "start_time": "2021-12-08T20:15:25.119Z"
   },
   {
    "duration": 17,
    "start_time": "2021-12-08T20:15:25.384Z"
   },
   {
    "duration": 8,
    "start_time": "2021-12-08T20:15:25.406Z"
   },
   {
    "duration": 39,
    "start_time": "2021-12-08T20:15:25.416Z"
   },
   {
    "duration": 8,
    "start_time": "2021-12-08T20:15:25.456Z"
   },
   {
    "duration": 244,
    "start_time": "2021-12-08T20:15:25.466Z"
   },
   {
    "duration": 14,
    "start_time": "2021-12-08T20:15:25.712Z"
   },
   {
    "duration": 31,
    "start_time": "2021-12-08T20:15:25.728Z"
   },
   {
    "duration": 39,
    "start_time": "2021-12-08T20:15:25.761Z"
   },
   {
    "duration": 6,
    "start_time": "2021-12-08T20:15:25.802Z"
   },
   {
    "duration": 42,
    "start_time": "2021-12-08T20:15:25.809Z"
   },
   {
    "duration": 2,
    "start_time": "2021-12-08T20:15:25.853Z"
   },
   {
    "duration": 7,
    "start_time": "2021-12-08T20:15:25.857Z"
   },
   {
    "duration": 11,
    "start_time": "2021-12-08T20:15:25.866Z"
   },
   {
    "duration": 2,
    "start_time": "2021-12-08T20:15:25.879Z"
   },
   {
    "duration": 41,
    "start_time": "2021-12-08T20:15:25.883Z"
   },
   {
    "duration": 23,
    "start_time": "2021-12-08T20:15:25.926Z"
   },
   {
    "duration": 21,
    "start_time": "2021-12-08T20:15:25.951Z"
   },
   {
    "duration": 7,
    "start_time": "2021-12-08T20:15:25.974Z"
   },
   {
    "duration": 34,
    "start_time": "2021-12-08T20:15:25.983Z"
   },
   {
    "duration": 29,
    "start_time": "2021-12-08T20:15:26.019Z"
   },
   {
    "duration": 54,
    "start_time": "2021-12-08T20:15:26.050Z"
   },
   {
    "duration": 54,
    "start_time": "2021-12-08T20:15:26.106Z"
   },
   {
    "duration": 8,
    "start_time": "2021-12-08T20:15:26.162Z"
   },
   {
    "duration": 5,
    "start_time": "2021-12-08T20:15:26.172Z"
   },
   {
    "duration": 18,
    "start_time": "2021-12-08T20:15:26.179Z"
   },
   {
    "duration": 9,
    "start_time": "2021-12-08T20:15:26.198Z"
   },
   {
    "duration": 9,
    "start_time": "2021-12-08T20:15:26.209Z"
   },
   {
    "duration": 198,
    "start_time": "2021-12-08T20:15:26.220Z"
   },
   {
    "duration": 6,
    "start_time": "2021-12-08T20:15:26.420Z"
   },
   {
    "duration": 25,
    "start_time": "2021-12-08T20:15:26.428Z"
   },
   {
    "duration": 6,
    "start_time": "2021-12-08T20:15:26.455Z"
   },
   {
    "duration": 7,
    "start_time": "2021-12-08T20:15:26.463Z"
   },
   {
    "duration": 7,
    "start_time": "2021-12-08T20:15:26.471Z"
   },
   {
    "duration": 8,
    "start_time": "2021-12-08T20:15:26.479Z"
   },
   {
    "duration": 299,
    "start_time": "2021-12-08T20:15:26.488Z"
   },
   {
    "duration": 5,
    "start_time": "2021-12-08T20:15:26.789Z"
   },
   {
    "duration": 311,
    "start_time": "2021-12-08T20:15:26.796Z"
   },
   {
    "duration": 6,
    "start_time": "2021-12-08T20:15:27.109Z"
   },
   {
    "duration": 350,
    "start_time": "2021-12-08T20:15:27.117Z"
   },
   {
    "duration": 6,
    "start_time": "2021-12-08T20:15:27.469Z"
   },
   {
    "duration": 523,
    "start_time": "2021-12-08T20:15:27.477Z"
   },
   {
    "duration": 6,
    "start_time": "2021-12-08T20:15:28.001Z"
   },
   {
    "duration": 526,
    "start_time": "2021-12-08T20:15:28.008Z"
   },
   {
    "duration": 11,
    "start_time": "2021-12-08T20:15:28.535Z"
   },
   {
    "duration": 515,
    "start_time": "2021-12-08T20:15:28.547Z"
   },
   {
    "duration": 670,
    "start_time": "2021-12-08T20:15:29.064Z"
   },
   {
    "duration": 7,
    "start_time": "2021-12-08T20:15:29.738Z"
   },
   {
    "duration": 6,
    "start_time": "2021-12-08T20:15:29.747Z"
   },
   {
    "duration": 4,
    "start_time": "2021-12-08T20:15:29.754Z"
   },
   {
    "duration": 7,
    "start_time": "2021-12-08T20:15:29.760Z"
   },
   {
    "duration": 10,
    "start_time": "2021-12-08T20:15:29.768Z"
   },
   {
    "duration": 1126,
    "start_time": "2021-12-08T20:18:33.079Z"
   },
   {
    "duration": 391,
    "start_time": "2021-12-08T20:18:34.207Z"
   },
   {
    "duration": 12,
    "start_time": "2021-12-08T20:18:34.600Z"
   },
   {
    "duration": 7,
    "start_time": "2021-12-08T20:18:34.614Z"
   },
   {
    "duration": 8,
    "start_time": "2021-12-08T20:18:34.622Z"
   },
   {
    "duration": 7,
    "start_time": "2021-12-08T20:18:34.632Z"
   },
   {
    "duration": 8,
    "start_time": "2021-12-08T20:18:34.640Z"
   },
   {
    "duration": 8,
    "start_time": "2021-12-08T20:18:34.650Z"
   },
   {
    "duration": 9,
    "start_time": "2021-12-08T20:18:34.660Z"
   },
   {
    "duration": 4,
    "start_time": "2021-12-08T20:18:34.671Z"
   },
   {
    "duration": 10,
    "start_time": "2021-12-08T20:18:34.677Z"
   },
   {
    "duration": 7,
    "start_time": "2021-12-08T20:18:34.689Z"
   },
   {
    "duration": 8,
    "start_time": "2021-12-08T20:18:34.697Z"
   },
   {
    "duration": 43,
    "start_time": "2021-12-08T20:18:34.706Z"
   },
   {
    "duration": 29,
    "start_time": "2021-12-08T20:18:34.751Z"
   },
   {
    "duration": 15,
    "start_time": "2021-12-08T20:18:34.782Z"
   },
   {
    "duration": 108,
    "start_time": "2021-12-08T20:18:34.798Z"
   },
   {
    "duration": 8,
    "start_time": "2021-12-08T20:18:34.908Z"
   },
   {
    "duration": 6,
    "start_time": "2021-12-08T20:18:34.917Z"
   },
   {
    "duration": 24,
    "start_time": "2021-12-08T20:18:34.924Z"
   },
   {
    "duration": 242,
    "start_time": "2021-12-08T20:18:34.950Z"
   },
   {
    "duration": 16,
    "start_time": "2021-12-08T20:18:35.193Z"
   },
   {
    "duration": 7,
    "start_time": "2021-12-08T20:18:35.213Z"
   },
   {
    "duration": 38,
    "start_time": "2021-12-08T20:18:35.222Z"
   },
   {
    "duration": 9,
    "start_time": "2021-12-08T20:18:35.261Z"
   },
   {
    "duration": 240,
    "start_time": "2021-12-08T20:18:35.271Z"
   },
   {
    "duration": 15,
    "start_time": "2021-12-08T20:18:35.513Z"
   },
   {
    "duration": 29,
    "start_time": "2021-12-08T20:18:35.530Z"
   },
   {
    "duration": 37,
    "start_time": "2021-12-08T20:18:35.561Z"
   },
   {
    "duration": 6,
    "start_time": "2021-12-08T20:18:35.600Z"
   },
   {
    "duration": 43,
    "start_time": "2021-12-08T20:18:35.607Z"
   },
   {
    "duration": 2,
    "start_time": "2021-12-08T20:18:35.652Z"
   },
   {
    "duration": 6,
    "start_time": "2021-12-08T20:18:35.655Z"
   },
   {
    "duration": 12,
    "start_time": "2021-12-08T20:18:35.663Z"
   },
   {
    "duration": 2,
    "start_time": "2021-12-08T20:18:35.677Z"
   },
   {
    "duration": 41,
    "start_time": "2021-12-08T20:18:35.680Z"
   },
   {
    "duration": 25,
    "start_time": "2021-12-08T20:18:35.723Z"
   },
   {
    "duration": 27,
    "start_time": "2021-12-08T20:18:35.750Z"
   },
   {
    "duration": 8,
    "start_time": "2021-12-08T20:18:35.779Z"
   },
   {
    "duration": 31,
    "start_time": "2021-12-08T20:18:35.788Z"
   },
   {
    "duration": 25,
    "start_time": "2021-12-08T20:18:35.821Z"
   },
   {
    "duration": 51,
    "start_time": "2021-12-08T20:18:35.847Z"
   },
   {
    "duration": 48,
    "start_time": "2021-12-08T20:18:35.900Z"
   },
   {
    "duration": 9,
    "start_time": "2021-12-08T20:18:35.950Z"
   },
   {
    "duration": 4,
    "start_time": "2021-12-08T20:18:35.961Z"
   },
   {
    "duration": 12,
    "start_time": "2021-12-08T20:18:35.967Z"
   },
   {
    "duration": 5,
    "start_time": "2021-12-08T20:18:35.981Z"
   },
   {
    "duration": 7,
    "start_time": "2021-12-08T20:18:35.987Z"
   },
   {
    "duration": 218,
    "start_time": "2021-12-08T20:18:35.996Z"
   },
   {
    "duration": 6,
    "start_time": "2021-12-08T20:18:36.215Z"
   },
   {
    "duration": 22,
    "start_time": "2021-12-08T20:18:36.223Z"
   },
   {
    "duration": 7,
    "start_time": "2021-12-08T20:18:36.247Z"
   },
   {
    "duration": 5,
    "start_time": "2021-12-08T20:18:36.256Z"
   },
   {
    "duration": 6,
    "start_time": "2021-12-08T20:18:36.262Z"
   },
   {
    "duration": 8,
    "start_time": "2021-12-08T20:18:36.270Z"
   },
   {
    "duration": 309,
    "start_time": "2021-12-08T20:18:36.280Z"
   },
   {
    "duration": 5,
    "start_time": "2021-12-08T20:18:36.591Z"
   },
   {
    "duration": 349,
    "start_time": "2021-12-08T20:18:36.597Z"
   },
   {
    "duration": 6,
    "start_time": "2021-12-08T20:18:36.948Z"
   },
   {
    "duration": 345,
    "start_time": "2021-12-08T20:18:36.956Z"
   },
   {
    "duration": 5,
    "start_time": "2021-12-08T20:18:37.302Z"
   },
   {
    "duration": 535,
    "start_time": "2021-12-08T20:18:37.309Z"
   },
   {
    "duration": 6,
    "start_time": "2021-12-08T20:18:37.846Z"
   },
   {
    "duration": 504,
    "start_time": "2021-12-08T20:18:37.854Z"
   },
   {
    "duration": 5,
    "start_time": "2021-12-08T20:18:38.360Z"
   },
   {
    "duration": 520,
    "start_time": "2021-12-08T20:18:38.367Z"
   },
   {
    "duration": 755,
    "start_time": "2021-12-08T20:18:38.889Z"
   },
   {
    "duration": 4,
    "start_time": "2021-12-08T20:18:39.649Z"
   },
   {
    "duration": 4,
    "start_time": "2021-12-08T20:18:39.655Z"
   },
   {
    "duration": 3,
    "start_time": "2021-12-08T20:18:39.660Z"
   },
   {
    "duration": 8,
    "start_time": "2021-12-08T20:18:39.665Z"
   },
   {
    "duration": 10,
    "start_time": "2021-12-08T20:18:39.675Z"
   },
   {
    "duration": 25,
    "start_time": "2021-12-08T20:19:05.445Z"
   },
   {
    "duration": 7,
    "start_time": "2021-12-08T20:19:47.607Z"
   },
   {
    "duration": 6,
    "start_time": "2021-12-08T20:19:55.129Z"
   },
   {
    "duration": 88,
    "start_time": "2021-12-08T20:20:16.753Z"
   },
   {
    "duration": 1111,
    "start_time": "2021-12-08T20:20:25.803Z"
   },
   {
    "duration": 403,
    "start_time": "2021-12-08T20:20:26.915Z"
   },
   {
    "duration": 13,
    "start_time": "2021-12-08T20:20:27.320Z"
   },
   {
    "duration": 11,
    "start_time": "2021-12-08T20:20:27.335Z"
   },
   {
    "duration": 15,
    "start_time": "2021-12-08T20:20:27.347Z"
   },
   {
    "duration": 10,
    "start_time": "2021-12-08T20:20:27.363Z"
   },
   {
    "duration": 8,
    "start_time": "2021-12-08T20:20:27.375Z"
   },
   {
    "duration": 9,
    "start_time": "2021-12-08T20:20:27.386Z"
   },
   {
    "duration": 9,
    "start_time": "2021-12-08T20:20:27.397Z"
   },
   {
    "duration": 7,
    "start_time": "2021-12-08T20:20:27.407Z"
   },
   {
    "duration": 29,
    "start_time": "2021-12-08T20:20:27.416Z"
   },
   {
    "duration": 9,
    "start_time": "2021-12-08T20:20:27.447Z"
   },
   {
    "duration": 8,
    "start_time": "2021-12-08T20:20:27.457Z"
   },
   {
    "duration": 21,
    "start_time": "2021-12-08T20:20:27.467Z"
   },
   {
    "duration": 54,
    "start_time": "2021-12-08T20:20:27.490Z"
   },
   {
    "duration": 15,
    "start_time": "2021-12-08T20:20:27.546Z"
   },
   {
    "duration": 105,
    "start_time": "2021-12-08T20:20:27.562Z"
   },
   {
    "duration": 8,
    "start_time": "2021-12-08T20:20:27.668Z"
   },
   {
    "duration": 6,
    "start_time": "2021-12-08T20:20:27.677Z"
   },
   {
    "duration": 9,
    "start_time": "2021-12-08T20:20:27.684Z"
   },
   {
    "duration": 260,
    "start_time": "2021-12-08T20:20:27.694Z"
   },
   {
    "duration": 18,
    "start_time": "2021-12-08T20:20:27.955Z"
   },
   {
    "duration": 8,
    "start_time": "2021-12-08T20:20:27.978Z"
   },
   {
    "duration": 23,
    "start_time": "2021-12-08T20:20:27.989Z"
   },
   {
    "duration": 34,
    "start_time": "2021-12-08T20:20:28.014Z"
   },
   {
    "duration": 247,
    "start_time": "2021-12-08T20:20:28.050Z"
   },
   {
    "duration": 15,
    "start_time": "2021-12-08T20:20:28.299Z"
   },
   {
    "duration": 34,
    "start_time": "2021-12-08T20:20:28.316Z"
   },
   {
    "duration": 38,
    "start_time": "2021-12-08T20:20:28.352Z"
   },
   {
    "duration": 6,
    "start_time": "2021-12-08T20:20:28.392Z"
   },
   {
    "duration": 45,
    "start_time": "2021-12-08T20:20:28.400Z"
   },
   {
    "duration": 3,
    "start_time": "2021-12-08T20:20:28.446Z"
   },
   {
    "duration": 13,
    "start_time": "2021-12-08T20:20:28.451Z"
   },
   {
    "duration": 12,
    "start_time": "2021-12-08T20:20:28.466Z"
   },
   {
    "duration": 2,
    "start_time": "2021-12-08T20:20:28.480Z"
   },
   {
    "duration": 46,
    "start_time": "2021-12-08T20:20:28.484Z"
   },
   {
    "duration": 16,
    "start_time": "2021-12-08T20:20:28.532Z"
   },
   {
    "duration": 21,
    "start_time": "2021-12-08T20:20:28.550Z"
   },
   {
    "duration": 11,
    "start_time": "2021-12-08T20:20:28.573Z"
   },
   {
    "duration": 33,
    "start_time": "2021-12-08T20:20:28.585Z"
   },
   {
    "duration": 7,
    "start_time": "2021-12-08T20:20:28.620Z"
   },
   {
    "duration": 51,
    "start_time": "2021-12-08T20:20:28.645Z"
   },
   {
    "duration": 51,
    "start_time": "2021-12-08T20:20:28.697Z"
   },
   {
    "duration": 8,
    "start_time": "2021-12-08T20:20:28.750Z"
   },
   {
    "duration": 4,
    "start_time": "2021-12-08T20:20:28.759Z"
   },
   {
    "duration": 20,
    "start_time": "2021-12-08T20:20:28.765Z"
   },
   {
    "duration": 18,
    "start_time": "2021-12-08T20:20:28.787Z"
   },
   {
    "duration": 19,
    "start_time": "2021-12-08T20:20:28.807Z"
   },
   {
    "duration": 7727,
    "start_time": "2021-12-08T20:20:28.828Z"
   },
   {
    "duration": 5929,
    "start_time": "2021-12-08T20:20:30.629Z"
   },
   {
    "duration": 5888,
    "start_time": "2021-12-08T20:20:30.671Z"
   },
   {
    "duration": 5855,
    "start_time": "2021-12-08T20:20:30.705Z"
   },
   {
    "duration": 5820,
    "start_time": "2021-12-08T20:20:30.742Z"
   },
   {
    "duration": 5789,
    "start_time": "2021-12-08T20:20:30.774Z"
   },
   {
    "duration": 5760,
    "start_time": "2021-12-08T20:20:30.805Z"
   },
   {
    "duration": 5709,
    "start_time": "2021-12-08T20:20:30.857Z"
   },
   {
    "duration": 5663,
    "start_time": "2021-12-08T20:20:30.904Z"
   },
   {
    "duration": 5583,
    "start_time": "2021-12-08T20:20:30.986Z"
   },
   {
    "duration": 5551,
    "start_time": "2021-12-08T20:20:31.019Z"
   },
   {
    "duration": 5518,
    "start_time": "2021-12-08T20:20:31.054Z"
   },
   {
    "duration": 5483,
    "start_time": "2021-12-08T20:20:31.090Z"
   },
   {
    "duration": 5461,
    "start_time": "2021-12-08T20:20:31.113Z"
   },
   {
    "duration": 5442,
    "start_time": "2021-12-08T20:20:31.134Z"
   },
   {
    "duration": 5422,
    "start_time": "2021-12-08T20:20:31.155Z"
   },
   {
    "duration": 5395,
    "start_time": "2021-12-08T20:20:31.184Z"
   },
   {
    "duration": 5375,
    "start_time": "2021-12-08T20:20:31.205Z"
   },
   {
    "duration": 5313,
    "start_time": "2021-12-08T20:20:31.268Z"
   },
   {
    "duration": 5287,
    "start_time": "2021-12-08T20:20:31.296Z"
   },
   {
    "duration": 5266,
    "start_time": "2021-12-08T20:20:31.318Z"
   },
   {
    "duration": 5241,
    "start_time": "2021-12-08T20:20:31.345Z"
   },
   {
    "duration": 5221,
    "start_time": "2021-12-08T20:20:31.366Z"
   },
   {
    "duration": 5201,
    "start_time": "2021-12-08T20:20:31.387Z"
   },
   {
    "duration": 5173,
    "start_time": "2021-12-08T20:20:31.416Z"
   },
   {
    "duration": 6,
    "start_time": "2021-12-08T20:21:02.827Z"
   },
   {
    "duration": 102,
    "start_time": "2021-12-08T20:21:06.665Z"
   },
   {
    "duration": 8,
    "start_time": "2021-12-08T20:21:09.704Z"
   },
   {
    "duration": 26,
    "start_time": "2021-12-08T20:21:12.083Z"
   },
   {
    "duration": 7,
    "start_time": "2021-12-08T20:21:16.036Z"
   },
   {
    "duration": 7,
    "start_time": "2021-12-08T20:21:17.659Z"
   },
   {
    "duration": 4,
    "start_time": "2021-12-08T20:21:19.559Z"
   },
   {
    "duration": 1133,
    "start_time": "2021-12-08T20:21:35.067Z"
   },
   {
    "duration": 390,
    "start_time": "2021-12-08T20:21:36.202Z"
   },
   {
    "duration": 13,
    "start_time": "2021-12-08T20:21:36.595Z"
   },
   {
    "duration": 16,
    "start_time": "2021-12-08T20:21:36.610Z"
   },
   {
    "duration": 9,
    "start_time": "2021-12-08T20:21:36.628Z"
   },
   {
    "duration": 12,
    "start_time": "2021-12-08T20:21:36.639Z"
   },
   {
    "duration": 9,
    "start_time": "2021-12-08T20:21:36.652Z"
   },
   {
    "duration": 9,
    "start_time": "2021-12-08T20:21:36.663Z"
   },
   {
    "duration": 9,
    "start_time": "2021-12-08T20:21:36.674Z"
   },
   {
    "duration": 5,
    "start_time": "2021-12-08T20:21:36.685Z"
   },
   {
    "duration": 22,
    "start_time": "2021-12-08T20:21:36.691Z"
   },
   {
    "duration": 30,
    "start_time": "2021-12-08T20:21:36.714Z"
   },
   {
    "duration": 30,
    "start_time": "2021-12-08T20:21:36.745Z"
   },
   {
    "duration": 30,
    "start_time": "2021-12-08T20:21:36.777Z"
   },
   {
    "duration": 30,
    "start_time": "2021-12-08T20:21:36.808Z"
   },
   {
    "duration": 15,
    "start_time": "2021-12-08T20:21:36.839Z"
   },
   {
    "duration": 108,
    "start_time": "2021-12-08T20:21:36.855Z"
   },
   {
    "duration": 8,
    "start_time": "2021-12-08T20:21:36.965Z"
   },
   {
    "duration": 22,
    "start_time": "2021-12-08T20:21:36.974Z"
   },
   {
    "duration": 23,
    "start_time": "2021-12-08T20:21:36.998Z"
   },
   {
    "duration": 275,
    "start_time": "2021-12-08T20:21:37.023Z"
   },
   {
    "duration": 16,
    "start_time": "2021-12-08T20:21:37.300Z"
   },
   {
    "duration": 7,
    "start_time": "2021-12-08T20:21:37.320Z"
   },
   {
    "duration": 20,
    "start_time": "2021-12-08T20:21:37.345Z"
   },
   {
    "duration": 8,
    "start_time": "2021-12-08T20:21:37.366Z"
   },
   {
    "duration": 249,
    "start_time": "2021-12-08T20:21:37.376Z"
   },
   {
    "duration": 19,
    "start_time": "2021-12-08T20:21:37.626Z"
   },
   {
    "duration": 16,
    "start_time": "2021-12-08T20:21:37.647Z"
   },
   {
    "duration": 37,
    "start_time": "2021-12-08T20:21:37.665Z"
   },
   {
    "duration": 6,
    "start_time": "2021-12-08T20:21:37.703Z"
   },
   {
    "duration": 49,
    "start_time": "2021-12-08T20:21:37.710Z"
   },
   {
    "duration": 2,
    "start_time": "2021-12-08T20:21:37.761Z"
   },
   {
    "duration": 5,
    "start_time": "2021-12-08T20:21:37.765Z"
   },
   {
    "duration": 12,
    "start_time": "2021-12-08T20:21:37.772Z"
   },
   {
    "duration": 4,
    "start_time": "2021-12-08T20:21:37.786Z"
   },
   {
    "duration": 60,
    "start_time": "2021-12-08T20:21:37.791Z"
   },
   {
    "duration": 6,
    "start_time": "2021-12-08T20:21:37.853Z"
   },
   {
    "duration": 22,
    "start_time": "2021-12-08T20:21:37.860Z"
   },
   {
    "duration": 8,
    "start_time": "2021-12-08T20:21:37.884Z"
   },
   {
    "duration": 51,
    "start_time": "2021-12-08T20:21:37.893Z"
   },
   {
    "duration": 7,
    "start_time": "2021-12-08T20:21:37.946Z"
   },
   {
    "duration": 52,
    "start_time": "2021-12-08T20:21:37.955Z"
   },
   {
    "duration": 50,
    "start_time": "2021-12-08T20:21:38.009Z"
   },
   {
    "duration": 8,
    "start_time": "2021-12-08T20:21:38.061Z"
   },
   {
    "duration": 7,
    "start_time": "2021-12-08T20:21:38.071Z"
   },
   {
    "duration": 23,
    "start_time": "2021-12-08T20:21:38.079Z"
   },
   {
    "duration": 10,
    "start_time": "2021-12-08T20:21:38.104Z"
   },
   {
    "duration": 17,
    "start_time": "2021-12-08T20:21:38.115Z"
   },
   {
    "duration": 112,
    "start_time": "2021-12-08T20:21:38.134Z"
   },
   {
    "duration": 8,
    "start_time": "2021-12-08T20:21:38.247Z"
   },
   {
    "duration": 24,
    "start_time": "2021-12-08T20:21:38.257Z"
   },
   {
    "duration": 10,
    "start_time": "2021-12-08T20:21:38.283Z"
   },
   {
    "duration": 13,
    "start_time": "2021-12-08T20:21:38.294Z"
   },
   {
    "duration": 4,
    "start_time": "2021-12-08T20:21:38.309Z"
   },
   {
    "duration": 32,
    "start_time": "2021-12-08T20:21:38.315Z"
   },
   {
    "duration": 4,
    "start_time": "2021-12-08T20:21:38.349Z"
   },
   {
    "duration": 263,
    "start_time": "2021-12-08T20:21:38.355Z"
   },
   {
    "duration": 5,
    "start_time": "2021-12-08T20:21:38.620Z"
   },
   {
    "duration": 278,
    "start_time": "2021-12-08T20:21:38.626Z"
   },
   {
    "duration": 5,
    "start_time": "2021-12-08T20:21:38.905Z"
   },
   {
    "duration": 356,
    "start_time": "2021-12-08T20:21:38.911Z"
   },
   {
    "duration": 5,
    "start_time": "2021-12-08T20:21:39.268Z"
   },
   {
    "duration": 500,
    "start_time": "2021-12-08T20:21:39.274Z"
   },
   {
    "duration": 4,
    "start_time": "2021-12-08T20:21:39.776Z"
   },
   {
    "duration": 525,
    "start_time": "2021-12-08T20:21:39.782Z"
   },
   {
    "duration": 5,
    "start_time": "2021-12-08T20:21:40.309Z"
   },
   {
    "duration": 531,
    "start_time": "2021-12-08T20:21:40.315Z"
   },
   {
    "duration": 656,
    "start_time": "2021-12-08T20:21:40.851Z"
   },
   {
    "duration": 4,
    "start_time": "2021-12-08T20:21:41.508Z"
   },
   {
    "duration": 25,
    "start_time": "2021-12-08T20:21:41.514Z"
   },
   {
    "duration": 40,
    "start_time": "2021-12-08T20:21:41.541Z"
   },
   {
    "duration": 31,
    "start_time": "2021-12-08T20:21:41.582Z"
   },
   {
    "duration": 33,
    "start_time": "2021-12-08T20:21:41.615Z"
   },
   {
    "duration": 11,
    "start_time": "2021-12-08T20:22:56.056Z"
   },
   {
    "duration": 92,
    "start_time": "2021-12-08T20:24:02.029Z"
   },
   {
    "duration": 1252,
    "start_time": "2021-12-08T20:24:09.442Z"
   },
   {
    "duration": 405,
    "start_time": "2021-12-08T20:24:10.695Z"
   },
   {
    "duration": 13,
    "start_time": "2021-12-08T20:24:11.102Z"
   },
   {
    "duration": 9,
    "start_time": "2021-12-08T20:24:11.117Z"
   },
   {
    "duration": 8,
    "start_time": "2021-12-08T20:24:11.128Z"
   },
   {
    "duration": 9,
    "start_time": "2021-12-08T20:24:11.138Z"
   },
   {
    "duration": 7,
    "start_time": "2021-12-08T20:24:11.149Z"
   },
   {
    "duration": 11,
    "start_time": "2021-12-08T20:24:11.159Z"
   },
   {
    "duration": 6,
    "start_time": "2021-12-08T20:24:11.172Z"
   },
   {
    "duration": 4,
    "start_time": "2021-12-08T20:24:11.180Z"
   },
   {
    "duration": 9,
    "start_time": "2021-12-08T20:24:11.186Z"
   },
   {
    "duration": 7,
    "start_time": "2021-12-08T20:24:11.196Z"
   },
   {
    "duration": 7,
    "start_time": "2021-12-08T20:24:11.205Z"
   },
   {
    "duration": 48,
    "start_time": "2021-12-08T20:24:11.213Z"
   },
   {
    "duration": 32,
    "start_time": "2021-12-08T20:24:11.262Z"
   },
   {
    "duration": 15,
    "start_time": "2021-12-08T20:24:11.296Z"
   },
   {
    "duration": 121,
    "start_time": "2021-12-08T20:24:11.313Z"
   },
   {
    "duration": 12,
    "start_time": "2021-12-08T20:24:11.436Z"
   },
   {
    "duration": 6,
    "start_time": "2021-12-08T20:24:11.450Z"
   },
   {
    "duration": 22,
    "start_time": "2021-12-08T20:24:11.458Z"
   },
   {
    "duration": 265,
    "start_time": "2021-12-08T20:24:11.481Z"
   },
   {
    "duration": 17,
    "start_time": "2021-12-08T20:24:11.748Z"
   },
   {
    "duration": 7,
    "start_time": "2021-12-08T20:24:11.769Z"
   },
   {
    "duration": 20,
    "start_time": "2021-12-08T20:24:11.779Z"
   },
   {
    "duration": 8,
    "start_time": "2021-12-08T20:24:11.801Z"
   },
   {
    "duration": 264,
    "start_time": "2021-12-08T20:24:11.810Z"
   },
   {
    "duration": 15,
    "start_time": "2021-12-08T20:24:12.075Z"
   },
   {
    "duration": 18,
    "start_time": "2021-12-08T20:24:12.091Z"
   },
   {
    "duration": 60,
    "start_time": "2021-12-08T20:24:12.111Z"
   },
   {
    "duration": 6,
    "start_time": "2021-12-08T20:24:12.173Z"
   },
   {
    "duration": 33,
    "start_time": "2021-12-08T20:24:12.181Z"
   },
   {
    "duration": 2,
    "start_time": "2021-12-08T20:24:12.216Z"
   },
   {
    "duration": 8,
    "start_time": "2021-12-08T20:24:12.219Z"
   },
   {
    "duration": 23,
    "start_time": "2021-12-08T20:24:12.228Z"
   },
   {
    "duration": 2,
    "start_time": "2021-12-08T20:24:12.253Z"
   },
   {
    "duration": 44,
    "start_time": "2021-12-08T20:24:12.257Z"
   },
   {
    "duration": 7,
    "start_time": "2021-12-08T20:24:12.303Z"
   },
   {
    "duration": 38,
    "start_time": "2021-12-08T20:24:12.311Z"
   },
   {
    "duration": 8,
    "start_time": "2021-12-08T20:24:12.350Z"
   },
   {
    "duration": 32,
    "start_time": "2021-12-08T20:24:12.360Z"
   },
   {
    "duration": 7,
    "start_time": "2021-12-08T20:24:12.394Z"
   },
   {
    "duration": 76,
    "start_time": "2021-12-08T20:24:12.403Z"
   },
   {
    "duration": 33,
    "start_time": "2021-12-08T20:24:12.480Z"
   },
   {
    "duration": 8,
    "start_time": "2021-12-08T20:24:12.514Z"
   },
   {
    "duration": 4,
    "start_time": "2021-12-08T20:24:12.524Z"
   },
   {
    "duration": 22,
    "start_time": "2021-12-08T20:24:12.529Z"
   },
   {
    "duration": 4,
    "start_time": "2021-12-08T20:24:12.553Z"
   },
   {
    "duration": 5,
    "start_time": "2021-12-08T20:24:12.559Z"
   },
   {
    "duration": 129,
    "start_time": "2021-12-08T20:24:12.566Z"
   },
   {
    "duration": 7,
    "start_time": "2021-12-08T20:24:12.696Z"
   },
   {
    "duration": 25,
    "start_time": "2021-12-08T20:24:12.705Z"
   },
   {
    "duration": 6,
    "start_time": "2021-12-08T20:24:12.744Z"
   },
   {
    "duration": 15,
    "start_time": "2021-12-08T20:24:12.752Z"
   },
   {
    "duration": 15,
    "start_time": "2021-12-08T20:24:12.768Z"
   },
   {
    "duration": 22,
    "start_time": "2021-12-08T20:24:12.784Z"
   },
   {
    "duration": 7,
    "start_time": "2021-12-08T20:24:12.807Z"
   },
   {
    "duration": 275,
    "start_time": "2021-12-08T20:24:12.816Z"
   },
   {
    "duration": 6,
    "start_time": "2021-12-08T20:24:13.092Z"
   },
   {
    "duration": 286,
    "start_time": "2021-12-08T20:24:13.099Z"
   },
   {
    "duration": 6,
    "start_time": "2021-12-08T20:24:13.387Z"
   },
   {
    "duration": 352,
    "start_time": "2021-12-08T20:24:13.395Z"
   },
   {
    "duration": 6,
    "start_time": "2021-12-08T20:24:13.749Z"
   },
   {
    "duration": 624,
    "start_time": "2021-12-08T20:24:13.757Z"
   },
   {
    "duration": 6,
    "start_time": "2021-12-08T20:24:14.383Z"
   },
   {
    "duration": 567,
    "start_time": "2021-12-08T20:24:14.390Z"
   },
   {
    "duration": 5,
    "start_time": "2021-12-08T20:24:14.959Z"
   },
   {
    "duration": 550,
    "start_time": "2021-12-08T20:24:14.966Z"
   },
   {
    "duration": 691,
    "start_time": "2021-12-08T20:24:15.522Z"
   },
   {
    "duration": 4,
    "start_time": "2021-12-08T20:24:16.215Z"
   },
   {
    "duration": 21,
    "start_time": "2021-12-08T20:24:16.220Z"
   },
   {
    "duration": 25,
    "start_time": "2021-12-08T20:24:16.243Z"
   },
   {
    "duration": 27,
    "start_time": "2021-12-08T20:24:16.270Z"
   },
   {
    "duration": 29,
    "start_time": "2021-12-08T20:24:16.298Z"
   },
   {
    "duration": 96,
    "start_time": "2021-12-08T20:25:05.567Z"
   },
   {
    "duration": 1141,
    "start_time": "2021-12-08T20:25:17.698Z"
   },
   {
    "duration": 389,
    "start_time": "2021-12-08T20:25:18.841Z"
   },
   {
    "duration": 12,
    "start_time": "2021-12-08T20:25:19.232Z"
   },
   {
    "duration": 12,
    "start_time": "2021-12-08T20:25:19.246Z"
   },
   {
    "duration": 15,
    "start_time": "2021-12-08T20:25:19.260Z"
   },
   {
    "duration": 7,
    "start_time": "2021-12-08T20:25:19.276Z"
   },
   {
    "duration": 7,
    "start_time": "2021-12-08T20:25:19.285Z"
   },
   {
    "duration": 8,
    "start_time": "2021-12-08T20:25:19.295Z"
   },
   {
    "duration": 7,
    "start_time": "2021-12-08T20:25:19.305Z"
   },
   {
    "duration": 4,
    "start_time": "2021-12-08T20:25:19.314Z"
   },
   {
    "duration": 30,
    "start_time": "2021-12-08T20:25:19.320Z"
   },
   {
    "duration": 8,
    "start_time": "2021-12-08T20:25:19.352Z"
   },
   {
    "duration": 10,
    "start_time": "2021-12-08T20:25:19.362Z"
   },
   {
    "duration": 30,
    "start_time": "2021-12-08T20:25:19.373Z"
   },
   {
    "duration": 72,
    "start_time": "2021-12-08T20:25:19.405Z"
   },
   {
    "duration": 22,
    "start_time": "2021-12-08T20:25:19.479Z"
   },
   {
    "duration": 114,
    "start_time": "2021-12-08T20:25:19.503Z"
   },
   {
    "duration": 8,
    "start_time": "2021-12-08T20:25:19.619Z"
   },
   {
    "duration": 15,
    "start_time": "2021-12-08T20:25:19.629Z"
   },
   {
    "duration": 7,
    "start_time": "2021-12-08T20:25:19.646Z"
   },
   {
    "duration": 257,
    "start_time": "2021-12-08T20:25:19.655Z"
   },
   {
    "duration": 18,
    "start_time": "2021-12-08T20:25:19.914Z"
   },
   {
    "duration": 9,
    "start_time": "2021-12-08T20:25:19.948Z"
   },
   {
    "duration": 21,
    "start_time": "2021-12-08T20:25:19.959Z"
   },
   {
    "duration": 8,
    "start_time": "2021-12-08T20:25:19.982Z"
   },
   {
    "duration": 261,
    "start_time": "2021-12-08T20:25:19.992Z"
   },
   {
    "duration": 14,
    "start_time": "2021-12-08T20:25:20.255Z"
   },
   {
    "duration": 18,
    "start_time": "2021-12-08T20:25:20.271Z"
   },
   {
    "duration": 61,
    "start_time": "2021-12-08T20:25:20.291Z"
   },
   {
    "duration": 8,
    "start_time": "2021-12-08T20:25:20.354Z"
   },
   {
    "duration": 28,
    "start_time": "2021-12-08T20:25:20.363Z"
   },
   {
    "duration": 2,
    "start_time": "2021-12-08T20:25:20.393Z"
   },
   {
    "duration": 4,
    "start_time": "2021-12-08T20:25:20.397Z"
   },
   {
    "duration": 11,
    "start_time": "2021-12-08T20:25:20.403Z"
   },
   {
    "duration": 2,
    "start_time": "2021-12-08T20:25:20.416Z"
   },
   {
    "duration": 61,
    "start_time": "2021-12-08T20:25:20.420Z"
   },
   {
    "duration": 7,
    "start_time": "2021-12-08T20:25:20.483Z"
   },
   {
    "duration": 36,
    "start_time": "2021-12-08T20:25:20.493Z"
   },
   {
    "duration": 19,
    "start_time": "2021-12-08T20:25:20.531Z"
   },
   {
    "duration": 32,
    "start_time": "2021-12-08T20:25:20.551Z"
   },
   {
    "duration": 7,
    "start_time": "2021-12-08T20:25:20.584Z"
   },
   {
    "duration": 68,
    "start_time": "2021-12-08T20:25:20.593Z"
   },
   {
    "duration": 32,
    "start_time": "2021-12-08T20:25:20.662Z"
   },
   {
    "duration": 8,
    "start_time": "2021-12-08T20:25:20.695Z"
   },
   {
    "duration": 4,
    "start_time": "2021-12-08T20:25:20.705Z"
   },
   {
    "duration": 34,
    "start_time": "2021-12-08T20:25:20.710Z"
   },
   {
    "duration": 7,
    "start_time": "2021-12-08T20:25:20.746Z"
   },
   {
    "duration": 6,
    "start_time": "2021-12-08T20:25:20.754Z"
   },
   {
    "duration": 132,
    "start_time": "2021-12-08T20:25:20.762Z"
   },
   {
    "duration": 7,
    "start_time": "2021-12-08T20:25:20.895Z"
   },
   {
    "duration": 24,
    "start_time": "2021-12-08T20:25:20.903Z"
   },
   {
    "duration": 15,
    "start_time": "2021-12-08T20:25:20.929Z"
   },
   {
    "duration": 4,
    "start_time": "2021-12-08T20:25:20.946Z"
   },
   {
    "duration": 5,
    "start_time": "2021-12-08T20:25:20.952Z"
   },
   {
    "duration": 6,
    "start_time": "2021-12-08T20:25:20.959Z"
   },
   {
    "duration": 5,
    "start_time": "2021-12-08T20:25:20.966Z"
   },
   {
    "duration": 292,
    "start_time": "2021-12-08T20:25:20.973Z"
   },
   {
    "duration": 5,
    "start_time": "2021-12-08T20:25:21.267Z"
   },
   {
    "duration": 291,
    "start_time": "2021-12-08T20:25:21.273Z"
   },
   {
    "duration": 5,
    "start_time": "2021-12-08T20:25:21.565Z"
   },
   {
    "duration": 367,
    "start_time": "2021-12-08T20:25:21.572Z"
   },
   {
    "duration": 5,
    "start_time": "2021-12-08T20:25:21.944Z"
   },
   {
    "duration": 522,
    "start_time": "2021-12-08T20:25:21.951Z"
   },
   {
    "duration": 5,
    "start_time": "2021-12-08T20:25:22.475Z"
   },
   {
    "duration": 531,
    "start_time": "2021-12-08T20:25:22.481Z"
   },
   {
    "duration": 6,
    "start_time": "2021-12-08T20:25:23.014Z"
   },
   {
    "duration": 533,
    "start_time": "2021-12-08T20:25:23.021Z"
   },
   {
    "duration": 674,
    "start_time": "2021-12-08T20:25:23.559Z"
   },
   {
    "duration": 11,
    "start_time": "2021-12-08T20:25:24.235Z"
   },
   {
    "duration": 4,
    "start_time": "2021-12-08T20:25:24.248Z"
   },
   {
    "duration": 5,
    "start_time": "2021-12-08T20:25:24.254Z"
   },
   {
    "duration": 7,
    "start_time": "2021-12-08T20:25:24.261Z"
   },
   {
    "duration": 8,
    "start_time": "2021-12-08T20:25:24.270Z"
   },
   {
    "duration": 1097,
    "start_time": "2021-12-08T20:26:26.802Z"
   },
   {
    "duration": 403,
    "start_time": "2021-12-08T20:26:27.901Z"
   },
   {
    "duration": 14,
    "start_time": "2021-12-08T20:26:28.306Z"
   },
   {
    "duration": 8,
    "start_time": "2021-12-08T20:26:28.322Z"
   },
   {
    "duration": 8,
    "start_time": "2021-12-08T20:26:28.332Z"
   },
   {
    "duration": 8,
    "start_time": "2021-12-08T20:26:28.342Z"
   },
   {
    "duration": 9,
    "start_time": "2021-12-08T20:26:28.351Z"
   },
   {
    "duration": 9,
    "start_time": "2021-12-08T20:26:28.362Z"
   },
   {
    "duration": 7,
    "start_time": "2021-12-08T20:26:28.373Z"
   },
   {
    "duration": 8,
    "start_time": "2021-12-08T20:26:28.381Z"
   },
   {
    "duration": 8,
    "start_time": "2021-12-08T20:26:28.390Z"
   },
   {
    "duration": 10,
    "start_time": "2021-12-08T20:26:28.399Z"
   },
   {
    "duration": 37,
    "start_time": "2021-12-08T20:26:28.411Z"
   },
   {
    "duration": 24,
    "start_time": "2021-12-08T20:26:28.450Z"
   },
   {
    "duration": 30,
    "start_time": "2021-12-08T20:26:28.476Z"
   },
   {
    "duration": 16,
    "start_time": "2021-12-08T20:26:28.507Z"
   },
   {
    "duration": 108,
    "start_time": "2021-12-08T20:26:28.524Z"
   },
   {
    "duration": 17,
    "start_time": "2021-12-08T20:26:28.633Z"
   },
   {
    "duration": 6,
    "start_time": "2021-12-08T20:26:28.652Z"
   },
   {
    "duration": 9,
    "start_time": "2021-12-08T20:26:28.660Z"
   },
   {
    "duration": 262,
    "start_time": "2021-12-08T20:26:28.671Z"
   },
   {
    "duration": 20,
    "start_time": "2021-12-08T20:26:28.935Z"
   },
   {
    "duration": 8,
    "start_time": "2021-12-08T20:26:28.960Z"
   },
   {
    "duration": 21,
    "start_time": "2021-12-08T20:26:28.970Z"
   },
   {
    "duration": 8,
    "start_time": "2021-12-08T20:26:28.992Z"
   },
   {
    "duration": 257,
    "start_time": "2021-12-08T20:26:29.002Z"
   },
   {
    "duration": 14,
    "start_time": "2021-12-08T20:26:29.260Z"
   },
   {
    "duration": 16,
    "start_time": "2021-12-08T20:26:29.276Z"
   },
   {
    "duration": 59,
    "start_time": "2021-12-08T20:26:29.294Z"
   },
   {
    "duration": 7,
    "start_time": "2021-12-08T20:26:29.354Z"
   },
   {
    "duration": 26,
    "start_time": "2021-12-08T20:26:29.363Z"
   },
   {
    "duration": 2,
    "start_time": "2021-12-08T20:26:29.391Z"
   },
   {
    "duration": 16,
    "start_time": "2021-12-08T20:26:29.395Z"
   },
   {
    "duration": 12,
    "start_time": "2021-12-08T20:26:29.413Z"
   },
   {
    "duration": 2,
    "start_time": "2021-12-08T20:26:29.444Z"
   },
   {
    "duration": 42,
    "start_time": "2021-12-08T20:26:29.448Z"
   },
   {
    "duration": 7,
    "start_time": "2021-12-08T20:26:29.492Z"
   },
   {
    "duration": 22,
    "start_time": "2021-12-08T20:26:29.501Z"
   },
   {
    "duration": 8,
    "start_time": "2021-12-08T20:26:29.544Z"
   },
   {
    "duration": 31,
    "start_time": "2021-12-08T20:26:29.554Z"
   },
   {
    "duration": 7,
    "start_time": "2021-12-08T20:26:29.587Z"
   },
   {
    "duration": 70,
    "start_time": "2021-12-08T20:26:29.596Z"
   },
   {
    "duration": 32,
    "start_time": "2021-12-08T20:26:29.668Z"
   },
   {
    "duration": 8,
    "start_time": "2021-12-08T20:26:29.701Z"
   },
   {
    "duration": 4,
    "start_time": "2021-12-08T20:26:29.711Z"
   },
   {
    "duration": 30,
    "start_time": "2021-12-08T20:26:29.716Z"
   },
   {
    "duration": 4,
    "start_time": "2021-12-08T20:26:29.747Z"
   },
   {
    "duration": 5,
    "start_time": "2021-12-08T20:26:29.753Z"
   },
   {
    "duration": 127,
    "start_time": "2021-12-08T20:26:29.760Z"
   },
   {
    "duration": 6,
    "start_time": "2021-12-08T20:26:29.889Z"
   },
   {
    "duration": 24,
    "start_time": "2021-12-08T20:26:29.897Z"
   },
   {
    "duration": 24,
    "start_time": "2021-12-08T20:26:29.923Z"
   },
   {
    "duration": 6,
    "start_time": "2021-12-08T20:26:29.948Z"
   },
   {
    "duration": 4,
    "start_time": "2021-12-08T20:26:29.956Z"
   },
   {
    "duration": 6,
    "start_time": "2021-12-08T20:26:29.962Z"
   },
   {
    "duration": 5,
    "start_time": "2021-12-08T20:26:29.970Z"
   },
   {
    "duration": 290,
    "start_time": "2021-12-08T20:26:29.976Z"
   },
   {
    "duration": 5,
    "start_time": "2021-12-08T20:26:30.268Z"
   },
   {
    "duration": 287,
    "start_time": "2021-12-08T20:26:30.274Z"
   },
   {
    "duration": 4,
    "start_time": "2021-12-08T20:26:30.563Z"
   },
   {
    "duration": 339,
    "start_time": "2021-12-08T20:26:30.569Z"
   },
   {
    "duration": 5,
    "start_time": "2021-12-08T20:26:30.910Z"
   },
   {
    "duration": 506,
    "start_time": "2021-12-08T20:26:30.916Z"
   },
   {
    "duration": 4,
    "start_time": "2021-12-08T20:26:31.424Z"
   },
   {
    "duration": 514,
    "start_time": "2021-12-08T20:26:31.430Z"
   },
   {
    "duration": 5,
    "start_time": "2021-12-08T20:26:31.946Z"
   },
   {
    "duration": 530,
    "start_time": "2021-12-08T20:26:31.952Z"
   },
   {
    "duration": 647,
    "start_time": "2021-12-08T20:26:32.487Z"
   },
   {
    "duration": 10,
    "start_time": "2021-12-08T20:26:33.136Z"
   },
   {
    "duration": 7,
    "start_time": "2021-12-08T20:26:33.147Z"
   },
   {
    "duration": 4,
    "start_time": "2021-12-08T20:26:33.156Z"
   },
   {
    "duration": 7,
    "start_time": "2021-12-08T20:26:33.162Z"
   },
   {
    "duration": 8,
    "start_time": "2021-12-08T20:26:33.170Z"
   },
   {
    "duration": 1117,
    "start_time": "2021-12-08T20:27:15.398Z"
   },
   {
    "duration": 397,
    "start_time": "2021-12-08T20:27:16.517Z"
   },
   {
    "duration": 12,
    "start_time": "2021-12-08T20:27:16.916Z"
   },
   {
    "duration": 29,
    "start_time": "2021-12-08T20:27:16.930Z"
   },
   {
    "duration": 17,
    "start_time": "2021-12-08T20:27:16.961Z"
   },
   {
    "duration": 15,
    "start_time": "2021-12-08T20:27:16.979Z"
   },
   {
    "duration": 17,
    "start_time": "2021-12-08T20:27:16.996Z"
   },
   {
    "duration": 11,
    "start_time": "2021-12-08T20:27:17.016Z"
   },
   {
    "duration": 8,
    "start_time": "2021-12-08T20:27:17.029Z"
   },
   {
    "duration": 17,
    "start_time": "2021-12-08T20:27:17.039Z"
   },
   {
    "duration": 34,
    "start_time": "2021-12-08T20:27:17.058Z"
   },
   {
    "duration": 17,
    "start_time": "2021-12-08T20:27:17.094Z"
   },
   {
    "duration": 12,
    "start_time": "2021-12-08T20:27:17.113Z"
   },
   {
    "duration": 29,
    "start_time": "2021-12-08T20:27:17.126Z"
   },
   {
    "duration": 30,
    "start_time": "2021-12-08T20:27:17.156Z"
   },
   {
    "duration": 15,
    "start_time": "2021-12-08T20:27:17.188Z"
   },
   {
    "duration": 116,
    "start_time": "2021-12-08T20:27:17.205Z"
   },
   {
    "duration": 8,
    "start_time": "2021-12-08T20:27:17.322Z"
   },
   {
    "duration": 17,
    "start_time": "2021-12-08T20:27:17.332Z"
   },
   {
    "duration": 16,
    "start_time": "2021-12-08T20:27:17.351Z"
   },
   {
    "duration": 249,
    "start_time": "2021-12-08T20:27:17.368Z"
   },
   {
    "duration": 26,
    "start_time": "2021-12-08T20:27:17.619Z"
   },
   {
    "duration": 8,
    "start_time": "2021-12-08T20:27:17.649Z"
   },
   {
    "duration": 36,
    "start_time": "2021-12-08T20:27:17.659Z"
   },
   {
    "duration": 11,
    "start_time": "2021-12-08T20:27:17.697Z"
   },
   {
    "duration": 250,
    "start_time": "2021-12-08T20:27:17.710Z"
   },
   {
    "duration": 15,
    "start_time": "2021-12-08T20:27:17.961Z"
   },
   {
    "duration": 28,
    "start_time": "2021-12-08T20:27:17.978Z"
   },
   {
    "duration": 54,
    "start_time": "2021-12-08T20:27:18.008Z"
   },
   {
    "duration": 6,
    "start_time": "2021-12-08T20:27:18.063Z"
   },
   {
    "duration": 29,
    "start_time": "2021-12-08T20:27:18.071Z"
   },
   {
    "duration": 2,
    "start_time": "2021-12-08T20:27:18.102Z"
   },
   {
    "duration": 13,
    "start_time": "2021-12-08T20:27:18.105Z"
   },
   {
    "duration": 29,
    "start_time": "2021-12-08T20:27:18.119Z"
   },
   {
    "duration": 2,
    "start_time": "2021-12-08T20:27:18.150Z"
   },
   {
    "duration": 51,
    "start_time": "2021-12-08T20:27:18.153Z"
   },
   {
    "duration": 6,
    "start_time": "2021-12-08T20:27:18.206Z"
   },
   {
    "duration": 31,
    "start_time": "2021-12-08T20:27:18.214Z"
   },
   {
    "duration": 8,
    "start_time": "2021-12-08T20:27:18.247Z"
   },
   {
    "duration": 39,
    "start_time": "2021-12-08T20:27:18.257Z"
   },
   {
    "duration": 7,
    "start_time": "2021-12-08T20:27:18.298Z"
   },
   {
    "duration": 83,
    "start_time": "2021-12-08T20:27:18.307Z"
   },
   {
    "duration": 33,
    "start_time": "2021-12-08T20:27:18.392Z"
   },
   {
    "duration": 17,
    "start_time": "2021-12-08T20:27:18.427Z"
   },
   {
    "duration": 6,
    "start_time": "2021-12-08T20:27:18.446Z"
   },
   {
    "duration": 14,
    "start_time": "2021-12-08T20:27:18.454Z"
   },
   {
    "duration": 7,
    "start_time": "2021-12-08T20:27:18.470Z"
   },
   {
    "duration": 6,
    "start_time": "2021-12-08T20:27:18.479Z"
   },
   {
    "duration": 138,
    "start_time": "2021-12-08T20:27:18.487Z"
   },
   {
    "duration": 6,
    "start_time": "2021-12-08T20:27:18.627Z"
   },
   {
    "duration": 31,
    "start_time": "2021-12-08T20:27:18.635Z"
   },
   {
    "duration": 7,
    "start_time": "2021-12-08T20:27:18.668Z"
   },
   {
    "duration": 11,
    "start_time": "2021-12-08T20:27:18.677Z"
   },
   {
    "duration": 17,
    "start_time": "2021-12-08T20:27:18.689Z"
   },
   {
    "duration": 8,
    "start_time": "2021-12-08T20:27:18.707Z"
   },
   {
    "duration": 20,
    "start_time": "2021-12-08T20:27:18.717Z"
   },
   {
    "duration": 272,
    "start_time": "2021-12-08T20:27:18.738Z"
   },
   {
    "duration": 6,
    "start_time": "2021-12-08T20:27:19.011Z"
   },
   {
    "duration": 282,
    "start_time": "2021-12-08T20:27:19.018Z"
   },
   {
    "duration": 5,
    "start_time": "2021-12-08T20:27:19.302Z"
   },
   {
    "duration": 375,
    "start_time": "2021-12-08T20:27:19.309Z"
   },
   {
    "duration": 5,
    "start_time": "2021-12-08T20:27:19.686Z"
   },
   {
    "duration": 552,
    "start_time": "2021-12-08T20:27:19.692Z"
   },
   {
    "duration": 5,
    "start_time": "2021-12-08T20:27:20.246Z"
   },
   {
    "duration": 539,
    "start_time": "2021-12-08T20:27:20.253Z"
   },
   {
    "duration": 5,
    "start_time": "2021-12-08T20:27:20.794Z"
   },
   {
    "duration": 531,
    "start_time": "2021-12-08T20:27:20.801Z"
   },
   {
    "duration": 688,
    "start_time": "2021-12-08T20:27:21.338Z"
   },
   {
    "duration": 4,
    "start_time": "2021-12-08T20:27:22.028Z"
   },
   {
    "duration": 12,
    "start_time": "2021-12-08T20:27:22.034Z"
   },
   {
    "duration": 4,
    "start_time": "2021-12-08T20:27:22.048Z"
   },
   {
    "duration": 10,
    "start_time": "2021-12-08T20:27:22.054Z"
   },
   {
    "duration": 10,
    "start_time": "2021-12-08T20:27:22.065Z"
   },
   {
    "duration": 1167,
    "start_time": "2021-12-08T20:28:10.536Z"
   },
   {
    "duration": 394,
    "start_time": "2021-12-08T20:28:11.705Z"
   },
   {
    "duration": 12,
    "start_time": "2021-12-08T20:28:12.101Z"
   },
   {
    "duration": 8,
    "start_time": "2021-12-08T20:28:12.115Z"
   },
   {
    "duration": 9,
    "start_time": "2021-12-08T20:28:12.125Z"
   },
   {
    "duration": 13,
    "start_time": "2021-12-08T20:28:12.135Z"
   },
   {
    "duration": 9,
    "start_time": "2021-12-08T20:28:12.149Z"
   },
   {
    "duration": 10,
    "start_time": "2021-12-08T20:28:12.160Z"
   },
   {
    "duration": 7,
    "start_time": "2021-12-08T20:28:12.172Z"
   },
   {
    "duration": 11,
    "start_time": "2021-12-08T20:28:12.181Z"
   },
   {
    "duration": 15,
    "start_time": "2021-12-08T20:28:12.194Z"
   },
   {
    "duration": 44,
    "start_time": "2021-12-08T20:28:12.210Z"
   },
   {
    "duration": 10,
    "start_time": "2021-12-08T20:28:12.256Z"
   },
   {
    "duration": 33,
    "start_time": "2021-12-08T20:28:12.268Z"
   },
   {
    "duration": 29,
    "start_time": "2021-12-08T20:28:12.303Z"
   },
   {
    "duration": 14,
    "start_time": "2021-12-08T20:28:12.333Z"
   },
   {
    "duration": 107,
    "start_time": "2021-12-08T20:28:12.349Z"
   },
   {
    "duration": 8,
    "start_time": "2021-12-08T20:28:12.457Z"
   },
   {
    "duration": 29,
    "start_time": "2021-12-08T20:28:12.467Z"
   },
   {
    "duration": 10,
    "start_time": "2021-12-08T20:28:12.498Z"
   },
   {
    "duration": 254,
    "start_time": "2021-12-08T20:28:12.510Z"
   },
   {
    "duration": 16,
    "start_time": "2021-12-08T20:28:12.766Z"
   },
   {
    "duration": 7,
    "start_time": "2021-12-08T20:28:12.786Z"
   },
   {
    "duration": 37,
    "start_time": "2021-12-08T20:28:12.796Z"
   },
   {
    "duration": 15,
    "start_time": "2021-12-08T20:28:12.835Z"
   },
   {
    "duration": 238,
    "start_time": "2021-12-08T20:28:12.852Z"
   },
   {
    "duration": 14,
    "start_time": "2021-12-08T20:28:13.091Z"
   },
   {
    "duration": 33,
    "start_time": "2021-12-08T20:28:13.107Z"
   },
   {
    "duration": 39,
    "start_time": "2021-12-08T20:28:13.142Z"
   },
   {
    "duration": 6,
    "start_time": "2021-12-08T20:28:13.182Z"
   },
   {
    "duration": 31,
    "start_time": "2021-12-08T20:28:13.190Z"
   },
   {
    "duration": 2,
    "start_time": "2021-12-08T20:28:13.223Z"
   },
   {
    "duration": 18,
    "start_time": "2021-12-08T20:28:13.226Z"
   },
   {
    "duration": 12,
    "start_time": "2021-12-08T20:28:13.246Z"
   },
   {
    "duration": 2,
    "start_time": "2021-12-08T20:28:13.260Z"
   },
   {
    "duration": 48,
    "start_time": "2021-12-08T20:28:13.263Z"
   },
   {
    "duration": 6,
    "start_time": "2021-12-08T20:28:13.312Z"
   },
   {
    "duration": 38,
    "start_time": "2021-12-08T20:28:13.319Z"
   },
   {
    "duration": 7,
    "start_time": "2021-12-08T20:28:13.359Z"
   },
   {
    "duration": 32,
    "start_time": "2021-12-08T20:28:13.367Z"
   },
   {
    "duration": 7,
    "start_time": "2021-12-08T20:28:13.401Z"
   },
   {
    "duration": 72,
    "start_time": "2021-12-08T20:28:13.409Z"
   },
   {
    "duration": 34,
    "start_time": "2021-12-08T20:28:13.483Z"
   },
   {
    "duration": 8,
    "start_time": "2021-12-08T20:28:13.518Z"
   },
   {
    "duration": 20,
    "start_time": "2021-12-08T20:28:13.528Z"
   },
   {
    "duration": 26,
    "start_time": "2021-12-08T20:28:13.549Z"
   },
   {
    "duration": 7,
    "start_time": "2021-12-08T20:28:13.577Z"
   },
   {
    "duration": 7,
    "start_time": "2021-12-08T20:28:13.585Z"
   },
   {
    "duration": 128,
    "start_time": "2021-12-08T20:28:13.594Z"
   },
   {
    "duration": 8,
    "start_time": "2021-12-08T20:28:13.724Z"
   },
   {
    "duration": 25,
    "start_time": "2021-12-08T20:28:13.745Z"
   },
   {
    "duration": 6,
    "start_time": "2021-12-08T20:28:13.772Z"
   },
   {
    "duration": 6,
    "start_time": "2021-12-08T20:28:13.780Z"
   },
   {
    "duration": 6,
    "start_time": "2021-12-08T20:28:13.787Z"
   },
   {
    "duration": 9,
    "start_time": "2021-12-08T20:28:13.794Z"
   },
   {
    "duration": 5,
    "start_time": "2021-12-08T20:28:13.805Z"
   },
   {
    "duration": 287,
    "start_time": "2021-12-08T20:28:13.812Z"
   },
   {
    "duration": 6,
    "start_time": "2021-12-08T20:28:14.101Z"
   },
   {
    "duration": 301,
    "start_time": "2021-12-08T20:28:14.108Z"
   },
   {
    "duration": 7,
    "start_time": "2021-12-08T20:28:14.411Z"
   },
   {
    "duration": 402,
    "start_time": "2021-12-08T20:28:14.420Z"
   },
   {
    "duration": 5,
    "start_time": "2021-12-08T20:28:14.824Z"
   },
   {
    "duration": 501,
    "start_time": "2021-12-08T20:28:14.843Z"
   },
   {
    "duration": 5,
    "start_time": "2021-12-08T20:28:15.346Z"
   },
   {
    "duration": 517,
    "start_time": "2021-12-08T20:28:15.353Z"
   },
   {
    "duration": 5,
    "start_time": "2021-12-08T20:28:15.872Z"
   },
   {
    "duration": 530,
    "start_time": "2021-12-08T20:28:15.879Z"
   },
   {
    "duration": 666,
    "start_time": "2021-12-08T20:28:16.414Z"
   },
   {
    "duration": 5,
    "start_time": "2021-12-08T20:28:17.082Z"
   },
   {
    "duration": 8,
    "start_time": "2021-12-08T20:28:17.088Z"
   },
   {
    "duration": 4,
    "start_time": "2021-12-08T20:28:17.097Z"
   },
   {
    "duration": 7,
    "start_time": "2021-12-08T20:28:17.103Z"
   },
   {
    "duration": 35,
    "start_time": "2021-12-08T20:28:17.111Z"
   },
   {
    "duration": 4,
    "start_time": "2021-12-08T20:29:56.687Z"
   },
   {
    "duration": 15,
    "start_time": "2021-12-08T20:30:00.638Z"
   },
   {
    "duration": 89,
    "start_time": "2021-12-08T20:30:16.405Z"
   },
   {
    "duration": 1177,
    "start_time": "2021-12-08T20:30:22.517Z"
   },
   {
    "duration": 406,
    "start_time": "2021-12-08T20:30:23.696Z"
   },
   {
    "duration": 12,
    "start_time": "2021-12-08T20:30:24.104Z"
   },
   {
    "duration": 8,
    "start_time": "2021-12-08T20:30:24.118Z"
   },
   {
    "duration": 7,
    "start_time": "2021-12-08T20:30:24.128Z"
   },
   {
    "duration": 7,
    "start_time": "2021-12-08T20:30:24.136Z"
   },
   {
    "duration": 9,
    "start_time": "2021-12-08T20:30:24.144Z"
   },
   {
    "duration": 20,
    "start_time": "2021-12-08T20:30:24.155Z"
   },
   {
    "duration": 17,
    "start_time": "2021-12-08T20:30:24.178Z"
   },
   {
    "duration": 13,
    "start_time": "2021-12-08T20:30:24.197Z"
   },
   {
    "duration": 16,
    "start_time": "2021-12-08T20:30:24.212Z"
   },
   {
    "duration": 9,
    "start_time": "2021-12-08T20:30:24.230Z"
   },
   {
    "duration": 14,
    "start_time": "2021-12-08T20:30:24.241Z"
   },
   {
    "duration": 21,
    "start_time": "2021-12-08T20:30:24.257Z"
   },
   {
    "duration": 31,
    "start_time": "2021-12-08T20:30:24.280Z"
   },
   {
    "duration": 15,
    "start_time": "2021-12-08T20:30:24.312Z"
   },
   {
    "duration": 101,
    "start_time": "2021-12-08T20:30:24.344Z"
   },
   {
    "duration": 11,
    "start_time": "2021-12-08T20:30:24.447Z"
   },
   {
    "duration": 13,
    "start_time": "2021-12-08T20:30:24.460Z"
   },
   {
    "duration": 14,
    "start_time": "2021-12-08T20:30:24.475Z"
   },
   {
    "duration": 269,
    "start_time": "2021-12-08T20:30:24.491Z"
   },
   {
    "duration": 22,
    "start_time": "2021-12-08T20:30:24.762Z"
   },
   {
    "duration": 26,
    "start_time": "2021-12-08T20:30:24.788Z"
   },
   {
    "duration": 42,
    "start_time": "2021-12-08T20:30:24.817Z"
   },
   {
    "duration": 13,
    "start_time": "2021-12-08T20:30:24.861Z"
   },
   {
    "duration": 259,
    "start_time": "2021-12-08T20:30:24.876Z"
   },
   {
    "duration": 14,
    "start_time": "2021-12-08T20:30:25.137Z"
   },
   {
    "duration": 17,
    "start_time": "2021-12-08T20:30:25.153Z"
   },
   {
    "duration": 39,
    "start_time": "2021-12-08T20:30:25.172Z"
   },
   {
    "duration": 6,
    "start_time": "2021-12-08T20:30:25.213Z"
   },
   {
    "duration": 48,
    "start_time": "2021-12-08T20:30:25.220Z"
   },
   {
    "duration": 2,
    "start_time": "2021-12-08T20:30:25.270Z"
   },
   {
    "duration": 5,
    "start_time": "2021-12-08T20:30:25.274Z"
   },
   {
    "duration": 12,
    "start_time": "2021-12-08T20:30:25.280Z"
   },
   {
    "duration": 2,
    "start_time": "2021-12-08T20:30:25.294Z"
   },
   {
    "duration": 65,
    "start_time": "2021-12-08T20:30:25.298Z"
   },
   {
    "duration": 6,
    "start_time": "2021-12-08T20:30:25.365Z"
   },
   {
    "duration": 21,
    "start_time": "2021-12-08T20:30:25.373Z"
   },
   {
    "duration": 8,
    "start_time": "2021-12-08T20:30:25.395Z"
   },
   {
    "duration": 60,
    "start_time": "2021-12-08T20:30:25.405Z"
   },
   {
    "duration": 8,
    "start_time": "2021-12-08T20:30:25.467Z"
   },
   {
    "duration": 52,
    "start_time": "2021-12-08T20:30:25.477Z"
   },
   {
    "duration": 33,
    "start_time": "2021-12-08T20:30:25.543Z"
   },
   {
    "duration": 8,
    "start_time": "2021-12-08T20:30:25.578Z"
   },
   {
    "duration": 3,
    "start_time": "2021-12-08T20:30:25.588Z"
   },
   {
    "duration": 6,
    "start_time": "2021-12-08T20:30:25.593Z"
   },
   {
    "duration": 15,
    "start_time": "2021-12-08T20:30:25.601Z"
   },
   {
    "duration": 5,
    "start_time": "2021-12-08T20:30:25.644Z"
   },
   {
    "duration": 7,
    "start_time": "2021-12-08T20:30:25.651Z"
   },
   {
    "duration": 213,
    "start_time": "2021-12-08T20:30:25.660Z"
   },
   {
    "duration": 8,
    "start_time": "2021-12-08T20:30:25.875Z"
   },
   {
    "duration": 26,
    "start_time": "2021-12-08T20:30:25.884Z"
   },
   {
    "duration": 32,
    "start_time": "2021-12-08T20:30:25.912Z"
   },
   {
    "duration": 7,
    "start_time": "2021-12-08T20:30:25.946Z"
   },
   {
    "duration": 7,
    "start_time": "2021-12-08T20:30:25.954Z"
   },
   {
    "duration": 7,
    "start_time": "2021-12-08T20:30:25.963Z"
   },
   {
    "duration": 7,
    "start_time": "2021-12-08T20:30:25.971Z"
   },
   {
    "duration": 300,
    "start_time": "2021-12-08T20:30:25.980Z"
   },
   {
    "duration": 6,
    "start_time": "2021-12-08T20:30:26.283Z"
   },
   {
    "duration": 283,
    "start_time": "2021-12-08T20:30:26.291Z"
   },
   {
    "duration": 6,
    "start_time": "2021-12-08T20:30:26.576Z"
   },
   {
    "duration": 363,
    "start_time": "2021-12-08T20:30:26.583Z"
   },
   {
    "duration": 6,
    "start_time": "2021-12-08T20:30:26.948Z"
   },
   {
    "duration": 518,
    "start_time": "2021-12-08T20:30:26.955Z"
   },
   {
    "duration": 5,
    "start_time": "2021-12-08T20:30:27.474Z"
   },
   {
    "duration": 516,
    "start_time": "2021-12-08T20:30:27.481Z"
   },
   {
    "duration": 5,
    "start_time": "2021-12-08T20:30:27.998Z"
   },
   {
    "duration": 641,
    "start_time": "2021-12-08T20:30:28.008Z"
   },
   {
    "duration": 678,
    "start_time": "2021-12-08T20:30:28.651Z"
   },
   {
    "duration": 14,
    "start_time": "2021-12-08T20:30:29.332Z"
   },
   {
    "duration": 7,
    "start_time": "2021-12-08T20:30:29.347Z"
   },
   {
    "duration": 4,
    "start_time": "2021-12-08T20:30:29.356Z"
   },
   {
    "duration": 9,
    "start_time": "2021-12-08T20:30:29.361Z"
   },
   {
    "duration": 9,
    "start_time": "2021-12-08T20:30:29.372Z"
   },
   {
    "duration": 10,
    "start_time": "2021-12-08T20:33:27.140Z"
   },
   {
    "duration": 1220,
    "start_time": "2021-12-08T20:36:06.594Z"
   },
   {
    "duration": 408,
    "start_time": "2021-12-08T20:36:07.815Z"
   },
   {
    "duration": 14,
    "start_time": "2021-12-08T20:36:08.226Z"
   },
   {
    "duration": 9,
    "start_time": "2021-12-08T20:36:08.243Z"
   },
   {
    "duration": 9,
    "start_time": "2021-12-08T20:36:08.254Z"
   },
   {
    "duration": 10,
    "start_time": "2021-12-08T20:36:08.265Z"
   },
   {
    "duration": 19,
    "start_time": "2021-12-08T20:36:08.277Z"
   },
   {
    "duration": 11,
    "start_time": "2021-12-08T20:36:08.298Z"
   },
   {
    "duration": 9,
    "start_time": "2021-12-08T20:36:08.311Z"
   },
   {
    "duration": 8,
    "start_time": "2021-12-08T20:36:08.321Z"
   },
   {
    "duration": 17,
    "start_time": "2021-12-08T20:36:08.330Z"
   },
   {
    "duration": 6,
    "start_time": "2021-12-08T20:36:08.348Z"
   },
   {
    "duration": 12,
    "start_time": "2021-12-08T20:36:08.356Z"
   },
   {
    "duration": 21,
    "start_time": "2021-12-08T20:36:08.370Z"
   },
   {
    "duration": 55,
    "start_time": "2021-12-08T20:36:08.393Z"
   },
   {
    "duration": 15,
    "start_time": "2021-12-08T20:36:08.450Z"
   },
   {
    "duration": 106,
    "start_time": "2021-12-08T20:36:08.466Z"
   },
   {
    "duration": 7,
    "start_time": "2021-12-08T20:36:08.574Z"
   },
   {
    "duration": 7,
    "start_time": "2021-12-08T20:36:08.583Z"
   },
   {
    "duration": 8,
    "start_time": "2021-12-08T20:36:08.592Z"
   },
   {
    "duration": 274,
    "start_time": "2021-12-08T20:36:08.603Z"
   },
   {
    "duration": 17,
    "start_time": "2021-12-08T20:36:08.879Z"
   },
   {
    "duration": 7,
    "start_time": "2021-12-08T20:36:08.901Z"
   },
   {
    "duration": 43,
    "start_time": "2021-12-08T20:36:08.912Z"
   },
   {
    "duration": 9,
    "start_time": "2021-12-08T20:36:08.957Z"
   },
   {
    "duration": 243,
    "start_time": "2021-12-08T20:36:08.968Z"
   },
   {
    "duration": 15,
    "start_time": "2021-12-08T20:36:09.213Z"
   },
   {
    "duration": 31,
    "start_time": "2021-12-08T20:36:09.230Z"
   },
   {
    "duration": 43,
    "start_time": "2021-12-08T20:36:09.263Z"
   },
   {
    "duration": 7,
    "start_time": "2021-12-08T20:36:09.308Z"
   },
   {
    "duration": 27,
    "start_time": "2021-12-08T20:36:09.345Z"
   },
   {
    "duration": 2,
    "start_time": "2021-12-08T20:36:09.375Z"
   },
   {
    "duration": 6,
    "start_time": "2021-12-08T20:36:09.379Z"
   },
   {
    "duration": 14,
    "start_time": "2021-12-08T20:36:09.387Z"
   },
   {
    "duration": 3,
    "start_time": "2021-12-08T20:36:09.403Z"
   },
   {
    "duration": 79,
    "start_time": "2021-12-08T20:36:09.408Z"
   },
   {
    "duration": 8,
    "start_time": "2021-12-08T20:36:09.489Z"
   },
   {
    "duration": 22,
    "start_time": "2021-12-08T20:36:09.500Z"
   },
   {
    "duration": 27,
    "start_time": "2021-12-08T20:36:09.524Z"
   },
   {
    "duration": 43,
    "start_time": "2021-12-08T20:36:09.553Z"
   },
   {
    "duration": 10,
    "start_time": "2021-12-08T20:36:09.599Z"
   },
   {
    "duration": 77,
    "start_time": "2021-12-08T20:36:09.611Z"
   },
   {
    "duration": 33,
    "start_time": "2021-12-08T20:36:09.691Z"
   },
   {
    "duration": 18,
    "start_time": "2021-12-08T20:36:09.726Z"
   },
   {
    "duration": 4,
    "start_time": "2021-12-08T20:36:09.746Z"
   },
   {
    "duration": 6,
    "start_time": "2021-12-08T20:36:09.752Z"
   },
   {
    "duration": 13,
    "start_time": "2021-12-08T20:36:09.760Z"
   },
   {
    "duration": 4,
    "start_time": "2021-12-08T20:36:09.774Z"
   },
   {
    "duration": 6,
    "start_time": "2021-12-08T20:36:09.780Z"
   },
   {
    "duration": 218,
    "start_time": "2021-12-08T20:36:09.787Z"
   },
   {
    "duration": 7,
    "start_time": "2021-12-08T20:36:10.007Z"
   },
   {
    "duration": 38,
    "start_time": "2021-12-08T20:36:10.016Z"
   },
   {
    "duration": 8,
    "start_time": "2021-12-08T20:36:10.056Z"
   },
   {
    "duration": 7,
    "start_time": "2021-12-08T20:36:10.066Z"
   },
   {
    "duration": 6,
    "start_time": "2021-12-08T20:36:10.074Z"
   },
   {
    "duration": 7,
    "start_time": "2021-12-08T20:36:10.082Z"
   },
   {
    "duration": 291,
    "start_time": "2021-12-08T20:36:10.091Z"
   },
   {
    "duration": 6,
    "start_time": "2021-12-08T20:36:10.384Z"
   },
   {
    "duration": 301,
    "start_time": "2021-12-08T20:36:10.392Z"
   },
   {
    "duration": 6,
    "start_time": "2021-12-08T20:36:10.696Z"
   },
   {
    "duration": 369,
    "start_time": "2021-12-08T20:36:10.704Z"
   },
   {
    "duration": 6,
    "start_time": "2021-12-08T20:36:11.075Z"
   },
   {
    "duration": 542,
    "start_time": "2021-12-08T20:36:11.083Z"
   },
   {
    "duration": 6,
    "start_time": "2021-12-08T20:36:11.627Z"
   },
   {
    "duration": 545,
    "start_time": "2021-12-08T20:36:11.645Z"
   },
   {
    "duration": 6,
    "start_time": "2021-12-08T20:36:12.193Z"
   },
   {
    "duration": 551,
    "start_time": "2021-12-08T20:36:12.201Z"
   },
   {
    "duration": 688,
    "start_time": "2021-12-08T20:36:12.758Z"
   },
   {
    "duration": 5,
    "start_time": "2021-12-08T20:36:13.448Z"
   },
   {
    "duration": 6,
    "start_time": "2021-12-08T20:36:13.456Z"
   },
   {
    "duration": 8,
    "start_time": "2021-12-08T20:36:13.464Z"
   },
   {
    "duration": 10,
    "start_time": "2021-12-08T20:36:13.474Z"
   },
   {
    "duration": 1632,
    "start_time": "2021-12-08T20:51:48.967Z"
   },
   {
    "duration": 507,
    "start_time": "2021-12-08T20:51:50.602Z"
   },
   {
    "duration": 18,
    "start_time": "2021-12-08T20:51:51.111Z"
   },
   {
    "duration": 10,
    "start_time": "2021-12-08T20:51:51.132Z"
   },
   {
    "duration": 23,
    "start_time": "2021-12-08T20:51:51.145Z"
   },
   {
    "duration": 12,
    "start_time": "2021-12-08T20:51:51.170Z"
   },
   {
    "duration": 35,
    "start_time": "2021-12-08T20:51:51.184Z"
   },
   {
    "duration": 15,
    "start_time": "2021-12-08T20:51:51.222Z"
   },
   {
    "duration": 16,
    "start_time": "2021-12-08T20:51:51.241Z"
   },
   {
    "duration": 6,
    "start_time": "2021-12-08T20:51:51.260Z"
   },
   {
    "duration": 11,
    "start_time": "2021-12-08T20:51:51.269Z"
   },
   {
    "duration": 9,
    "start_time": "2021-12-08T20:51:51.317Z"
   },
   {
    "duration": 11,
    "start_time": "2021-12-08T20:51:51.329Z"
   },
   {
    "duration": 28,
    "start_time": "2021-12-08T20:51:51.342Z"
   },
   {
    "duration": 75,
    "start_time": "2021-12-08T20:51:51.372Z"
   },
   {
    "duration": 21,
    "start_time": "2021-12-08T20:51:51.449Z"
   },
   {
    "duration": 149,
    "start_time": "2021-12-08T20:51:51.472Z"
   },
   {
    "duration": 11,
    "start_time": "2021-12-08T20:51:51.623Z"
   },
   {
    "duration": 6,
    "start_time": "2021-12-08T20:51:51.637Z"
   },
   {
    "duration": 11,
    "start_time": "2021-12-08T20:51:51.645Z"
   },
   {
    "duration": 452,
    "start_time": "2021-12-08T20:51:51.659Z"
   },
   {
    "duration": 24,
    "start_time": "2021-12-08T20:51:52.113Z"
   },
   {
    "duration": 12,
    "start_time": "2021-12-08T20:51:52.143Z"
   },
   {
    "duration": 65,
    "start_time": "2021-12-08T20:51:52.161Z"
   },
   {
    "duration": 12,
    "start_time": "2021-12-08T20:51:52.228Z"
   },
   {
    "duration": 496,
    "start_time": "2021-12-08T20:51:52.242Z"
   },
   {
    "duration": 21,
    "start_time": "2021-12-08T20:51:52.741Z"
   },
   {
    "duration": 25,
    "start_time": "2021-12-08T20:51:52.764Z"
   },
   {
    "duration": 57,
    "start_time": "2021-12-08T20:51:52.817Z"
   },
   {
    "duration": 8,
    "start_time": "2021-12-08T20:51:52.876Z"
   },
   {
    "duration": 58,
    "start_time": "2021-12-08T20:51:52.887Z"
   },
   {
    "duration": 4,
    "start_time": "2021-12-08T20:51:52.947Z"
   },
   {
    "duration": 5,
    "start_time": "2021-12-08T20:51:52.953Z"
   },
   {
    "duration": 17,
    "start_time": "2021-12-08T20:51:52.960Z"
   },
   {
    "duration": 3,
    "start_time": "2021-12-08T20:51:52.979Z"
   },
   {
    "duration": 54,
    "start_time": "2021-12-08T20:51:53.017Z"
   },
   {
    "duration": 10,
    "start_time": "2021-12-08T20:51:53.073Z"
   },
   {
    "duration": 50,
    "start_time": "2021-12-08T20:51:53.087Z"
   },
   {
    "duration": 12,
    "start_time": "2021-12-08T20:51:53.139Z"
   },
   {
    "duration": 75,
    "start_time": "2021-12-08T20:51:53.154Z"
   },
   {
    "duration": 11,
    "start_time": "2021-12-08T20:51:53.232Z"
   },
   {
    "duration": 93,
    "start_time": "2021-12-08T20:51:53.245Z"
   },
   {
    "duration": 50,
    "start_time": "2021-12-08T20:51:53.341Z"
   },
   {
    "duration": 25,
    "start_time": "2021-12-08T20:51:53.394Z"
   },
   {
    "duration": 5,
    "start_time": "2021-12-08T20:51:53.422Z"
   },
   {
    "duration": 9,
    "start_time": "2021-12-08T20:51:53.429Z"
   },
   {
    "duration": 20,
    "start_time": "2021-12-08T20:51:53.441Z"
   },
   {
    "duration": 6,
    "start_time": "2021-12-08T20:51:53.463Z"
   },
   {
    "duration": 46,
    "start_time": "2021-12-08T20:51:53.471Z"
   },
   {
    "duration": 433,
    "start_time": "2021-12-08T20:51:53.520Z"
   },
   {
    "duration": 10,
    "start_time": "2021-12-08T20:51:53.955Z"
   },
   {
    "duration": 60,
    "start_time": "2021-12-08T20:51:53.967Z"
   },
   {
    "duration": 8,
    "start_time": "2021-12-08T20:51:54.029Z"
   },
   {
    "duration": 7,
    "start_time": "2021-12-08T20:51:54.040Z"
   },
   {
    "duration": 9,
    "start_time": "2021-12-08T20:51:54.049Z"
   },
   {
    "duration": 9,
    "start_time": "2021-12-08T20:51:54.060Z"
   },
   {
    "duration": 574,
    "start_time": "2021-12-08T20:51:54.073Z"
   },
   {
    "duration": 7,
    "start_time": "2021-12-08T20:51:54.649Z"
   },
   {
    "duration": 485,
    "start_time": "2021-12-08T20:51:54.659Z"
   },
   {
    "duration": 8,
    "start_time": "2021-12-08T20:51:55.146Z"
   },
   {
    "duration": 520,
    "start_time": "2021-12-08T20:51:55.156Z"
   },
   {
    "duration": 7,
    "start_time": "2021-12-08T20:51:55.678Z"
   },
   {
    "duration": 872,
    "start_time": "2021-12-08T20:51:55.687Z"
   },
   {
    "duration": 7,
    "start_time": "2021-12-08T20:51:56.561Z"
   },
   {
    "duration": 875,
    "start_time": "2021-12-08T20:51:56.570Z"
   },
   {
    "duration": 7,
    "start_time": "2021-12-08T20:51:57.447Z"
   },
   {
    "duration": 890,
    "start_time": "2021-12-08T20:51:57.457Z"
   },
   {
    "duration": 1142,
    "start_time": "2021-12-08T20:51:58.354Z"
   },
   {
    "duration": 17,
    "start_time": "2021-12-08T20:51:59.499Z"
   },
   {
    "duration": 6,
    "start_time": "2021-12-08T20:51:59.519Z"
   },
   {
    "duration": 9,
    "start_time": "2021-12-08T20:51:59.527Z"
   },
   {
    "duration": 13,
    "start_time": "2021-12-08T20:51:59.539Z"
   },
   {
    "duration": 1088,
    "start_time": "2021-12-08T20:54:17.559Z"
   },
   {
    "duration": 14,
    "start_time": "2021-12-08T20:54:28.901Z"
   },
   {
    "duration": 115,
    "start_time": "2021-12-08T20:54:33.102Z"
   },
   {
    "duration": 22,
    "start_time": "2021-12-08T20:54:37.002Z"
   },
   {
    "duration": 11,
    "start_time": "2021-12-08T20:54:41.084Z"
   },
   {
    "duration": 30,
    "start_time": "2021-12-08T20:54:45.987Z"
   },
   {
    "duration": 45,
    "start_time": "2021-12-08T20:54:50.996Z"
   },
   {
    "duration": 22,
    "start_time": "2021-12-08T20:57:40.038Z"
   },
   {
    "duration": 1159,
    "start_time": "2021-12-08T20:59:32.859Z"
   },
   {
    "duration": 1117,
    "start_time": "2021-12-08T20:59:46.172Z"
   },
   {
    "duration": 968,
    "start_time": "2021-12-08T20:59:55.013Z"
   },
   {
    "duration": 1149,
    "start_time": "2021-12-08T21:00:05.247Z"
   },
   {
    "duration": 1098,
    "start_time": "2021-12-08T21:00:12.404Z"
   },
   {
    "duration": 1200,
    "start_time": "2021-12-08T21:03:43.884Z"
   },
   {
    "duration": 1137,
    "start_time": "2021-12-08T21:03:55.544Z"
   },
   {
    "duration": 10191,
    "start_time": "2021-12-08T21:04:37.840Z"
   },
   {
    "duration": 15,
    "start_time": "2021-12-08T21:05:32.745Z"
   },
   {
    "duration": 561,
    "start_time": "2021-12-08T21:05:40.523Z"
   },
   {
    "duration": 16,
    "start_time": "2021-12-08T21:05:53.266Z"
   },
   {
    "duration": 69,
    "start_time": "2021-12-08T21:06:15.889Z"
   },
   {
    "duration": 17,
    "start_time": "2021-12-08T21:06:22.340Z"
   },
   {
    "duration": 31,
    "start_time": "2021-12-08T21:06:28.263Z"
   },
   {
    "duration": 18,
    "start_time": "2021-12-08T21:06:32.494Z"
   },
   {
    "duration": 3,
    "start_time": "2021-12-08T21:06:36.795Z"
   },
   {
    "duration": 87,
    "start_time": "2021-12-08T21:06:57.647Z"
   },
   {
    "duration": 22,
    "start_time": "2021-12-08T21:07:03.026Z"
   },
   {
    "duration": 466,
    "start_time": "2021-12-09T06:13:15.592Z"
   },
   {
    "duration": 1515,
    "start_time": "2021-12-09T06:13:25.817Z"
   },
   {
    "duration": 499,
    "start_time": "2021-12-09T06:13:27.334Z"
   },
   {
    "duration": 18,
    "start_time": "2021-12-09T06:13:27.836Z"
   },
   {
    "duration": 13,
    "start_time": "2021-12-09T06:13:27.857Z"
   },
   {
    "duration": 14,
    "start_time": "2021-12-09T06:13:27.873Z"
   },
   {
    "duration": 12,
    "start_time": "2021-12-09T06:13:27.890Z"
   },
   {
    "duration": 57,
    "start_time": "2021-12-09T06:13:27.904Z"
   },
   {
    "duration": 17,
    "start_time": "2021-12-09T06:13:27.964Z"
   },
   {
    "duration": 9,
    "start_time": "2021-12-09T06:13:27.985Z"
   },
   {
    "duration": 6,
    "start_time": "2021-12-09T06:13:27.997Z"
   },
   {
    "duration": 10,
    "start_time": "2021-12-09T06:13:28.005Z"
   },
   {
    "duration": 10,
    "start_time": "2021-12-09T06:13:28.060Z"
   },
   {
    "duration": 12,
    "start_time": "2021-12-09T06:13:28.072Z"
   },
   {
    "duration": 31,
    "start_time": "2021-12-09T06:13:28.087Z"
   },
   {
    "duration": 76,
    "start_time": "2021-12-09T06:13:28.120Z"
   },
   {
    "duration": 20,
    "start_time": "2021-12-09T06:13:28.198Z"
   },
   {
    "duration": 154,
    "start_time": "2021-12-09T06:13:28.221Z"
   },
   {
    "duration": 12,
    "start_time": "2021-12-09T06:13:28.378Z"
   },
   {
    "duration": 8,
    "start_time": "2021-12-09T06:13:28.392Z"
   },
   {
    "duration": 11,
    "start_time": "2021-12-09T06:13:28.402Z"
   },
   {
    "duration": 431,
    "start_time": "2021-12-09T06:13:28.416Z"
   },
   {
    "duration": 28,
    "start_time": "2021-12-09T06:13:28.849Z"
   },
   {
    "duration": 11,
    "start_time": "2021-12-09T06:13:28.879Z"
   },
   {
    "duration": 28,
    "start_time": "2021-12-09T06:13:28.893Z"
   },
   {
    "duration": 45,
    "start_time": "2021-12-09T06:13:28.923Z"
   },
   {
    "duration": 393,
    "start_time": "2021-12-09T06:13:28.970Z"
   },
   {
    "duration": 20,
    "start_time": "2021-12-09T06:13:29.369Z"
   },
   {
    "duration": 25,
    "start_time": "2021-12-09T06:13:29.392Z"
   },
   {
    "duration": 82,
    "start_time": "2021-12-09T06:13:29.419Z"
   },
   {
    "duration": 8,
    "start_time": "2021-12-09T06:13:29.503Z"
   },
   {
    "duration": 56,
    "start_time": "2021-12-09T06:13:29.514Z"
   },
   {
    "duration": 3,
    "start_time": "2021-12-09T06:13:29.572Z"
   },
   {
    "duration": 5,
    "start_time": "2021-12-09T06:13:29.578Z"
   },
   {
    "duration": 16,
    "start_time": "2021-12-09T06:13:29.585Z"
   },
   {
    "duration": 4,
    "start_time": "2021-12-09T06:13:29.603Z"
   },
   {
    "duration": 87,
    "start_time": "2021-12-09T06:13:29.609Z"
   },
   {
    "duration": 9,
    "start_time": "2021-12-09T06:13:29.699Z"
   },
   {
    "duration": 26,
    "start_time": "2021-12-09T06:13:29.710Z"
   },
   {
    "duration": 28,
    "start_time": "2021-12-09T06:13:29.738Z"
   },
   {
    "duration": 44,
    "start_time": "2021-12-09T06:13:29.768Z"
   },
   {
    "duration": 10,
    "start_time": "2021-12-09T06:13:29.815Z"
   },
   {
    "duration": 71,
    "start_time": "2021-12-09T06:13:29.859Z"
   },
   {
    "duration": 68,
    "start_time": "2021-12-09T06:13:29.933Z"
   },
   {
    "duration": 10,
    "start_time": "2021-12-09T06:13:30.004Z"
   },
   {
    "duration": 18,
    "start_time": "2021-12-09T06:13:30.017Z"
   },
   {
    "duration": 5,
    "start_time": "2021-12-09T06:13:30.037Z"
   },
   {
    "duration": 7,
    "start_time": "2021-12-09T06:13:30.060Z"
   },
   {
    "duration": 25,
    "start_time": "2021-12-09T06:13:30.069Z"
   },
   {
    "duration": 12,
    "start_time": "2021-12-09T06:13:30.096Z"
   },
   {
    "duration": 13,
    "start_time": "2021-12-09T06:13:30.110Z"
   },
   {
    "duration": 361,
    "start_time": "2021-12-09T06:13:30.125Z"
   },
   {
    "duration": 9,
    "start_time": "2021-12-09T06:13:30.488Z"
   },
   {
    "duration": 63,
    "start_time": "2021-12-09T06:13:30.499Z"
   },
   {
    "duration": 13,
    "start_time": "2021-12-09T06:13:30.564Z"
   },
   {
    "duration": 13,
    "start_time": "2021-12-09T06:13:30.579Z"
   },
   {
    "duration": 17,
    "start_time": "2021-12-09T06:13:30.594Z"
   },
   {
    "duration": 9,
    "start_time": "2021-12-09T06:13:30.613Z"
   },
   {
    "duration": 492,
    "start_time": "2021-12-09T06:13:30.624Z"
   },
   {
    "duration": 8,
    "start_time": "2021-12-09T06:13:31.119Z"
   },
   {
    "duration": 472,
    "start_time": "2021-12-09T06:13:31.129Z"
   },
   {
    "duration": 7,
    "start_time": "2021-12-09T06:13:31.604Z"
   },
   {
    "duration": 527,
    "start_time": "2021-12-09T06:13:31.614Z"
   },
   {
    "duration": 17,
    "start_time": "2021-12-09T06:13:32.143Z"
   },
   {
    "duration": 864,
    "start_time": "2021-12-09T06:13:32.163Z"
   },
   {
    "duration": 7,
    "start_time": "2021-12-09T06:13:33.030Z"
   },
   {
    "duration": 878,
    "start_time": "2021-12-09T06:13:33.039Z"
   },
   {
    "duration": 8,
    "start_time": "2021-12-09T06:13:33.920Z"
   },
   {
    "duration": 995,
    "start_time": "2021-12-09T06:13:33.930Z"
   },
   {
    "duration": 1155,
    "start_time": "2021-12-09T06:13:34.928Z"
   },
   {
    "duration": 6,
    "start_time": "2021-12-09T06:13:36.086Z"
   },
   {
    "duration": 10,
    "start_time": "2021-12-09T06:13:36.094Z"
   },
   {
    "duration": 14,
    "start_time": "2021-12-09T06:13:36.107Z"
   },
   {
    "duration": 49,
    "start_time": "2021-12-09T06:13:36.124Z"
   },
   {
    "duration": 505,
    "start_time": "2021-12-09T06:14:11.076Z"
   },
   {
    "duration": 126,
    "start_time": "2021-12-09T06:14:18.120Z"
   },
   {
    "duration": 982,
    "start_time": "2021-12-09T06:14:26.577Z"
   },
   {
    "duration": 1057,
    "start_time": "2021-12-09T06:15:00.517Z"
   },
   {
    "duration": 1486,
    "start_time": "2021-12-09T06:15:11.334Z"
   },
   {
    "duration": 504,
    "start_time": "2021-12-09T06:15:12.822Z"
   },
   {
    "duration": 18,
    "start_time": "2021-12-09T06:15:13.329Z"
   },
   {
    "duration": 11,
    "start_time": "2021-12-09T06:15:13.349Z"
   },
   {
    "duration": 13,
    "start_time": "2021-12-09T06:15:13.362Z"
   },
   {
    "duration": 10,
    "start_time": "2021-12-09T06:15:13.377Z"
   },
   {
    "duration": 14,
    "start_time": "2021-12-09T06:15:13.390Z"
   },
   {
    "duration": 14,
    "start_time": "2021-12-09T06:15:13.407Z"
   },
   {
    "duration": 10,
    "start_time": "2021-12-09T06:15:13.459Z"
   },
   {
    "duration": 6,
    "start_time": "2021-12-09T06:15:13.472Z"
   },
   {
    "duration": 12,
    "start_time": "2021-12-09T06:15:13.481Z"
   },
   {
    "duration": 11,
    "start_time": "2021-12-09T06:15:13.496Z"
   },
   {
    "duration": 58,
    "start_time": "2021-12-09T06:15:13.510Z"
   },
   {
    "duration": 29,
    "start_time": "2021-12-09T06:15:13.571Z"
   },
   {
    "duration": 72,
    "start_time": "2021-12-09T06:15:13.603Z"
   },
   {
    "duration": 22,
    "start_time": "2021-12-09T06:15:13.678Z"
   },
   {
    "duration": 143,
    "start_time": "2021-12-09T06:15:13.703Z"
   },
   {
    "duration": 17,
    "start_time": "2021-12-09T06:15:13.848Z"
   },
   {
    "duration": 6,
    "start_time": "2021-12-09T06:15:13.867Z"
   },
   {
    "duration": 15,
    "start_time": "2021-12-09T06:15:13.875Z"
   },
   {
    "duration": 440,
    "start_time": "2021-12-09T06:15:13.892Z"
   },
   {
    "duration": 31,
    "start_time": "2021-12-09T06:15:14.335Z"
   },
   {
    "duration": 12,
    "start_time": "2021-12-09T06:15:14.372Z"
   },
   {
    "duration": 28,
    "start_time": "2021-12-09T06:15:14.388Z"
   },
   {
    "duration": 42,
    "start_time": "2021-12-09T06:15:14.419Z"
   },
   {
    "duration": 381,
    "start_time": "2021-12-09T06:15:14.464Z"
   },
   {
    "duration": 27,
    "start_time": "2021-12-09T06:15:14.848Z"
   },
   {
    "duration": 24,
    "start_time": "2021-12-09T06:15:14.878Z"
   },
   {
    "duration": 77,
    "start_time": "2021-12-09T06:15:14.904Z"
   },
   {
    "duration": 9,
    "start_time": "2021-12-09T06:15:14.984Z"
   },
   {
    "duration": 35,
    "start_time": "2021-12-09T06:15:14.995Z"
   },
   {
    "duration": 27,
    "start_time": "2021-12-09T06:15:15.032Z"
   },
   {
    "duration": 3,
    "start_time": "2021-12-09T06:15:15.062Z"
   },
   {
    "duration": 22,
    "start_time": "2021-12-09T06:15:15.067Z"
   },
   {
    "duration": 3,
    "start_time": "2021-12-09T06:15:15.091Z"
   },
   {
    "duration": 81,
    "start_time": "2021-12-09T06:15:15.096Z"
   },
   {
    "duration": 9,
    "start_time": "2021-12-09T06:15:15.179Z"
   },
   {
    "duration": 25,
    "start_time": "2021-12-09T06:15:15.190Z"
   },
   {
    "duration": 12,
    "start_time": "2021-12-09T06:15:15.217Z"
   },
   {
    "duration": 67,
    "start_time": "2021-12-09T06:15:15.232Z"
   },
   {
    "duration": 10,
    "start_time": "2021-12-09T06:15:15.301Z"
   },
   {
    "duration": 93,
    "start_time": "2021-12-09T06:15:15.313Z"
   },
   {
    "duration": 63,
    "start_time": "2021-12-09T06:15:15.408Z"
   },
   {
    "duration": 11,
    "start_time": "2021-12-09T06:15:15.474Z"
   },
   {
    "duration": 12,
    "start_time": "2021-12-09T06:15:15.487Z"
   },
   {
    "duration": 5,
    "start_time": "2021-12-09T06:15:15.501Z"
   },
   {
    "duration": 8,
    "start_time": "2021-12-09T06:15:15.508Z"
   },
   {
    "duration": 47,
    "start_time": "2021-12-09T06:15:15.519Z"
   },
   {
    "duration": 6,
    "start_time": "2021-12-09T06:15:15.568Z"
   },
   {
    "duration": 11,
    "start_time": "2021-12-09T06:15:15.576Z"
   },
   {
    "duration": 352,
    "start_time": "2021-12-09T06:15:15.589Z"
   },
   {
    "duration": 17,
    "start_time": "2021-12-09T06:15:15.944Z"
   },
   {
    "duration": 44,
    "start_time": "2021-12-09T06:15:15.963Z"
   },
   {
    "duration": 9,
    "start_time": "2021-12-09T06:15:16.009Z"
   },
   {
    "duration": 41,
    "start_time": "2021-12-09T06:15:16.020Z"
   },
   {
    "duration": 13,
    "start_time": "2021-12-09T06:15:16.063Z"
   },
   {
    "duration": 11,
    "start_time": "2021-12-09T06:15:16.078Z"
   },
   {
    "duration": 556,
    "start_time": "2021-12-09T06:15:16.091Z"
   },
   {
    "duration": 12,
    "start_time": "2021-12-09T06:15:16.649Z"
   },
   {
    "duration": 514,
    "start_time": "2021-12-09T06:15:16.664Z"
   },
   {
    "duration": 9,
    "start_time": "2021-12-09T06:15:17.181Z"
   },
   {
    "duration": 552,
    "start_time": "2021-12-09T06:15:17.193Z"
   },
   {
    "duration": 16,
    "start_time": "2021-12-09T06:15:17.748Z"
   },
   {
    "duration": 864,
    "start_time": "2021-12-09T06:15:17.767Z"
   },
   {
    "duration": 7,
    "start_time": "2021-12-09T06:15:18.634Z"
   },
   {
    "duration": 885,
    "start_time": "2021-12-09T06:15:18.643Z"
   },
   {
    "duration": 7,
    "start_time": "2021-12-09T06:15:19.530Z"
   },
   {
    "duration": 903,
    "start_time": "2021-12-09T06:15:19.561Z"
   },
   {
    "duration": 1083,
    "start_time": "2021-12-09T06:15:20.467Z"
   },
   {
    "duration": 161474,
    "start_time": "2021-12-09T06:12:40.079Z"
   },
   {
    "duration": 161461,
    "start_time": "2021-12-09T06:12:40.093Z"
   },
   {
    "duration": 161453,
    "start_time": "2021-12-09T06:12:40.103Z"
   },
   {
    "duration": 161447,
    "start_time": "2021-12-09T06:12:40.110Z"
   },
   {
    "duration": 1159,
    "start_time": "2021-12-09T06:15:48.871Z"
   },
   {
    "duration": 1542,
    "start_time": "2021-12-09T06:32:52.671Z"
   },
   {
    "duration": 497,
    "start_time": "2021-12-09T06:32:54.216Z"
   },
   {
    "duration": 19,
    "start_time": "2021-12-09T06:32:54.716Z"
   },
   {
    "duration": 12,
    "start_time": "2021-12-09T06:32:54.737Z"
   },
   {
    "duration": 13,
    "start_time": "2021-12-09T06:32:54.751Z"
   },
   {
    "duration": 12,
    "start_time": "2021-12-09T06:32:54.767Z"
   },
   {
    "duration": 14,
    "start_time": "2021-12-09T06:32:54.782Z"
   },
   {
    "duration": 17,
    "start_time": "2021-12-09T06:32:54.799Z"
   },
   {
    "duration": 47,
    "start_time": "2021-12-09T06:32:54.821Z"
   },
   {
    "duration": 11,
    "start_time": "2021-12-09T06:32:54.870Z"
   },
   {
    "duration": 11,
    "start_time": "2021-12-09T06:32:54.886Z"
   },
   {
    "duration": 10,
    "start_time": "2021-12-09T06:32:54.899Z"
   },
   {
    "duration": 47,
    "start_time": "2021-12-09T06:32:54.912Z"
   },
   {
    "duration": 28,
    "start_time": "2021-12-09T06:32:54.961Z"
   },
   {
    "duration": 44,
    "start_time": "2021-12-09T06:32:54.991Z"
   },
   {
    "duration": 24,
    "start_time": "2021-12-09T06:32:55.060Z"
   },
   {
    "duration": 152,
    "start_time": "2021-12-09T06:32:55.087Z"
   },
   {
    "duration": 21,
    "start_time": "2021-12-09T06:32:55.242Z"
   },
   {
    "duration": 8,
    "start_time": "2021-12-09T06:32:55.266Z"
   },
   {
    "duration": 13,
    "start_time": "2021-12-09T06:32:55.277Z"
   },
   {
    "duration": 455,
    "start_time": "2021-12-09T06:32:55.293Z"
   },
   {
    "duration": 30,
    "start_time": "2021-12-09T06:32:55.751Z"
   },
   {
    "duration": 12,
    "start_time": "2021-12-09T06:32:55.783Z"
   },
   {
    "duration": 62,
    "start_time": "2021-12-09T06:32:55.797Z"
   },
   {
    "duration": 13,
    "start_time": "2021-12-09T06:32:55.862Z"
   },
   {
    "duration": 592,
    "start_time": "2021-12-09T06:32:55.878Z"
   },
   {
    "duration": 28,
    "start_time": "2021-12-09T06:32:56.479Z"
   },
   {
    "duration": 56,
    "start_time": "2021-12-09T06:32:56.512Z"
   },
   {
    "duration": 56,
    "start_time": "2021-12-09T06:32:56.570Z"
   },
   {
    "duration": 9,
    "start_time": "2021-12-09T06:32:56.628Z"
   },
   {
    "duration": 4,
    "start_time": "2021-12-09T06:32:56.659Z"
   },
   {
    "duration": 8,
    "start_time": "2021-12-09T06:32:56.665Z"
   },
   {
    "duration": 168,
    "start_time": "2021-12-09T06:32:56.676Z"
   },
   {
    "duration": 59,
    "start_time": "2021-12-09T06:32:56.846Z"
   },
   {
    "duration": 15,
    "start_time": "2021-12-09T06:32:56.908Z"
   },
   {
    "duration": 8,
    "start_time": "2021-12-09T06:32:56.926Z"
   },
   {
    "duration": 24,
    "start_time": "2021-12-09T06:32:56.936Z"
   },
   {
    "duration": 5,
    "start_time": "2021-12-09T06:32:56.963Z"
   },
   {
    "duration": 32,
    "start_time": "2021-12-09T06:32:56.970Z"
   },
   {
    "duration": 9,
    "start_time": "2021-12-09T06:32:57.005Z"
   },
   {
    "duration": 56,
    "start_time": "2021-12-09T06:32:57.017Z"
   },
   {
    "duration": 780,
    "start_time": "2021-12-09T06:32:57.076Z"
   },
   {
    "duration": 161533,
    "start_time": "2021-12-09T06:30:16.326Z"
   },
   {
    "duration": 161527,
    "start_time": "2021-12-09T06:30:16.333Z"
   },
   {
    "duration": 161520,
    "start_time": "2021-12-09T06:30:16.342Z"
   },
   {
    "duration": 161512,
    "start_time": "2021-12-09T06:30:16.351Z"
   },
   {
    "duration": 161505,
    "start_time": "2021-12-09T06:30:16.359Z"
   },
   {
    "duration": 161495,
    "start_time": "2021-12-09T06:30:16.370Z"
   },
   {
    "duration": 161488,
    "start_time": "2021-12-09T06:30:16.379Z"
   },
   {
    "duration": 161481,
    "start_time": "2021-12-09T06:30:16.387Z"
   },
   {
    "duration": 161475,
    "start_time": "2021-12-09T06:30:16.395Z"
   },
   {
    "duration": 161470,
    "start_time": "2021-12-09T06:30:16.401Z"
   },
   {
    "duration": 161463,
    "start_time": "2021-12-09T06:30:16.410Z"
   },
   {
    "duration": 161459,
    "start_time": "2021-12-09T06:30:16.416Z"
   },
   {
    "duration": 161451,
    "start_time": "2021-12-09T06:30:16.425Z"
   },
   {
    "duration": 161446,
    "start_time": "2021-12-09T06:30:16.431Z"
   },
   {
    "duration": 161439,
    "start_time": "2021-12-09T06:30:16.440Z"
   },
   {
    "duration": 161402,
    "start_time": "2021-12-09T06:30:16.478Z"
   },
   {
    "duration": 161391,
    "start_time": "2021-12-09T06:30:16.490Z"
   },
   {
    "duration": 161386,
    "start_time": "2021-12-09T06:30:16.497Z"
   },
   {
    "duration": 161382,
    "start_time": "2021-12-09T06:30:16.503Z"
   },
   {
    "duration": 161374,
    "start_time": "2021-12-09T06:30:16.512Z"
   },
   {
    "duration": 161368,
    "start_time": "2021-12-09T06:30:16.519Z"
   },
   {
    "duration": 161363,
    "start_time": "2021-12-09T06:30:16.526Z"
   },
   {
    "duration": 161357,
    "start_time": "2021-12-09T06:30:16.533Z"
   },
   {
    "duration": 161351,
    "start_time": "2021-12-09T06:30:16.541Z"
   },
   {
    "duration": 161347,
    "start_time": "2021-12-09T06:30:16.546Z"
   },
   {
    "duration": 161341,
    "start_time": "2021-12-09T06:30:16.554Z"
   },
   {
    "duration": 161335,
    "start_time": "2021-12-09T06:30:16.561Z"
   },
   {
    "duration": 161330,
    "start_time": "2021-12-09T06:30:16.568Z"
   },
   {
    "duration": 161325,
    "start_time": "2021-12-09T06:30:16.575Z"
   },
   {
    "duration": 161379,
    "start_time": "2021-12-09T06:30:16.582Z"
   },
   {
    "duration": 161375,
    "start_time": "2021-12-09T06:30:16.588Z"
   },
   {
    "duration": 161363,
    "start_time": "2021-12-09T06:30:16.601Z"
   },
   {
    "duration": 161356,
    "start_time": "2021-12-09T06:30:16.610Z"
   },
   {
    "duration": 161352,
    "start_time": "2021-12-09T06:30:16.615Z"
   },
   {
    "duration": 4,
    "start_time": "2021-12-09T06:34:02.821Z"
   },
   {
    "duration": 14,
    "start_time": "2021-12-09T06:34:25.884Z"
   },
   {
    "duration": 114,
    "start_time": "2021-12-09T06:35:24.234Z"
   },
   {
    "duration": 1576,
    "start_time": "2021-12-09T06:35:32.476Z"
   },
   {
    "duration": 533,
    "start_time": "2021-12-09T06:35:34.055Z"
   },
   {
    "duration": 20,
    "start_time": "2021-12-09T06:35:34.591Z"
   },
   {
    "duration": 12,
    "start_time": "2021-12-09T06:35:34.613Z"
   },
   {
    "duration": 13,
    "start_time": "2021-12-09T06:35:34.627Z"
   },
   {
    "duration": 23,
    "start_time": "2021-12-09T06:35:34.642Z"
   },
   {
    "duration": 13,
    "start_time": "2021-12-09T06:35:34.667Z"
   },
   {
    "duration": 14,
    "start_time": "2021-12-09T06:35:34.683Z"
   },
   {
    "duration": 10,
    "start_time": "2021-12-09T06:35:34.700Z"
   },
   {
    "duration": 47,
    "start_time": "2021-12-09T06:35:34.712Z"
   },
   {
    "duration": 9,
    "start_time": "2021-12-09T06:35:34.762Z"
   },
   {
    "duration": 10,
    "start_time": "2021-12-09T06:35:34.774Z"
   },
   {
    "duration": 10,
    "start_time": "2021-12-09T06:35:34.787Z"
   },
   {
    "duration": 66,
    "start_time": "2021-12-09T06:35:34.800Z"
   },
   {
    "duration": 48,
    "start_time": "2021-12-09T06:35:34.868Z"
   },
   {
    "duration": 41,
    "start_time": "2021-12-09T06:35:34.918Z"
   },
   {
    "duration": 156,
    "start_time": "2021-12-09T06:35:34.961Z"
   },
   {
    "duration": 11,
    "start_time": "2021-12-09T06:35:35.119Z"
   },
   {
    "duration": 10,
    "start_time": "2021-12-09T06:35:35.133Z"
   },
   {
    "duration": 12,
    "start_time": "2021-12-09T06:35:35.160Z"
   },
   {
    "duration": 457,
    "start_time": "2021-12-09T06:35:35.174Z"
   },
   {
    "duration": 30,
    "start_time": "2021-12-09T06:35:35.633Z"
   },
   {
    "duration": 12,
    "start_time": "2021-12-09T06:35:35.670Z"
   },
   {
    "duration": 34,
    "start_time": "2021-12-09T06:35:35.686Z"
   },
   {
    "duration": 38,
    "start_time": "2021-12-09T06:35:35.723Z"
   },
   {
    "duration": 413,
    "start_time": "2021-12-09T06:35:35.764Z"
   },
   {
    "duration": 23,
    "start_time": "2021-12-09T06:35:36.180Z"
   },
   {
    "duration": 26,
    "start_time": "2021-12-09T06:35:36.206Z"
   },
   {
    "duration": 58,
    "start_time": "2021-12-09T06:35:36.260Z"
   },
   {
    "duration": 9,
    "start_time": "2021-12-09T06:35:36.320Z"
   },
   {
    "duration": 28,
    "start_time": "2021-12-09T06:35:36.331Z"
   },
   {
    "duration": 3,
    "start_time": "2021-12-09T06:35:36.362Z"
   },
   {
    "duration": 163,
    "start_time": "2021-12-09T06:35:36.367Z"
   },
   {
    "duration": 63,
    "start_time": "2021-12-09T06:35:36.532Z"
   },
   {
    "duration": 19,
    "start_time": "2021-12-09T06:35:36.598Z"
   },
   {
    "duration": 4,
    "start_time": "2021-12-09T06:35:36.620Z"
   },
   {
    "duration": 32,
    "start_time": "2021-12-09T06:35:36.627Z"
   },
   {
    "duration": 4,
    "start_time": "2021-12-09T06:35:36.664Z"
   },
   {
    "duration": 28,
    "start_time": "2021-12-09T06:35:36.671Z"
   },
   {
    "duration": 12,
    "start_time": "2021-12-09T06:35:36.702Z"
   },
   {
    "duration": 14,
    "start_time": "2021-12-09T06:35:36.761Z"
   },
   {
    "duration": 4,
    "start_time": "2021-12-09T06:35:36.778Z"
   },
   {
    "duration": 6,
    "start_time": "2021-12-09T06:35:36.785Z"
   },
   {
    "duration": 135,
    "start_time": "2021-12-09T06:35:36.793Z"
   },
   {
    "duration": 47,
    "start_time": "2021-12-09T06:35:36.931Z"
   },
   {
    "duration": 10,
    "start_time": "2021-12-09T06:35:36.981Z"
   },
   {
    "duration": 84,
    "start_time": "2021-12-09T06:35:36.993Z"
   },
   {
    "duration": 720,
    "start_time": "2021-12-09T06:35:37.080Z"
   },
   {
    "duration": 161469,
    "start_time": "2021-12-09T06:32:56.335Z"
   },
   {
    "duration": 161462,
    "start_time": "2021-12-09T06:32:56.343Z"
   },
   {
    "duration": 161454,
    "start_time": "2021-12-09T06:32:56.353Z"
   },
   {
    "duration": 161446,
    "start_time": "2021-12-09T06:32:56.362Z"
   },
   {
    "duration": 161442,
    "start_time": "2021-12-09T06:32:56.368Z"
   },
   {
    "duration": 161433,
    "start_time": "2021-12-09T06:32:56.378Z"
   },
   {
    "duration": 161429,
    "start_time": "2021-12-09T06:32:56.384Z"
   },
   {
    "duration": 161417,
    "start_time": "2021-12-09T06:32:56.397Z"
   },
   {
    "duration": 161408,
    "start_time": "2021-12-09T06:32:56.407Z"
   },
   {
    "duration": 161402,
    "start_time": "2021-12-09T06:32:56.414Z"
   },
   {
    "duration": 161396,
    "start_time": "2021-12-09T06:32:56.422Z"
   },
   {
    "duration": 161388,
    "start_time": "2021-12-09T06:32:56.432Z"
   },
   {
    "duration": 161381,
    "start_time": "2021-12-09T06:32:56.441Z"
   },
   {
    "duration": 161374,
    "start_time": "2021-12-09T06:32:56.450Z"
   },
   {
    "duration": 161371,
    "start_time": "2021-12-09T06:32:56.456Z"
   },
   {
    "duration": 161364,
    "start_time": "2021-12-09T06:32:56.465Z"
   },
   {
    "duration": 161357,
    "start_time": "2021-12-09T06:32:56.474Z"
   },
   {
    "duration": 161354,
    "start_time": "2021-12-09T06:32:56.478Z"
   },
   {
    "duration": 161331,
    "start_time": "2021-12-09T06:32:56.504Z"
   },
   {
    "duration": 161328,
    "start_time": "2021-12-09T06:32:56.509Z"
   },
   {
    "duration": 161321,
    "start_time": "2021-12-09T06:32:56.518Z"
   },
   {
    "duration": 161317,
    "start_time": "2021-12-09T06:32:56.523Z"
   },
   {
    "duration": 161327,
    "start_time": "2021-12-09T06:32:56.532Z"
   },
   {
    "duration": 161322,
    "start_time": "2021-12-09T06:32:56.538Z"
   },
   {
    "duration": 161317,
    "start_time": "2021-12-09T06:32:56.545Z"
   },
   {
    "duration": 161313,
    "start_time": "2021-12-09T06:32:56.550Z"
   },
   {
    "duration": 161310,
    "start_time": "2021-12-09T06:32:56.555Z"
   },
   {
    "duration": 161303,
    "start_time": "2021-12-09T06:32:56.563Z"
   },
   {
    "duration": 161299,
    "start_time": "2021-12-09T06:32:56.570Z"
   },
   {
    "duration": 161293,
    "start_time": "2021-12-09T06:32:56.577Z"
   },
   {
    "duration": 10,
    "start_time": "2021-12-09T06:36:16.917Z"
   },
   {
    "duration": 1982,
    "start_time": "2021-12-09T06:40:48.477Z"
   },
   {
    "duration": 556,
    "start_time": "2021-12-09T06:40:50.463Z"
   },
   {
    "duration": 25,
    "start_time": "2021-12-09T06:40:51.023Z"
   },
   {
    "duration": 14,
    "start_time": "2021-12-09T06:40:51.052Z"
   },
   {
    "duration": 20,
    "start_time": "2021-12-09T06:40:51.068Z"
   },
   {
    "duration": 19,
    "start_time": "2021-12-09T06:40:51.091Z"
   },
   {
    "duration": 24,
    "start_time": "2021-12-09T06:40:51.113Z"
   },
   {
    "duration": 20,
    "start_time": "2021-12-09T06:40:51.161Z"
   },
   {
    "duration": 14,
    "start_time": "2021-12-09T06:40:51.187Z"
   },
   {
    "duration": 10,
    "start_time": "2021-12-09T06:40:51.205Z"
   },
   {
    "duration": 49,
    "start_time": "2021-12-09T06:40:51.217Z"
   },
   {
    "duration": 14,
    "start_time": "2021-12-09T06:40:51.269Z"
   },
   {
    "duration": 16,
    "start_time": "2021-12-09T06:40:51.286Z"
   },
   {
    "duration": 62,
    "start_time": "2021-12-09T06:40:51.305Z"
   },
   {
    "duration": 57,
    "start_time": "2021-12-09T06:40:51.370Z"
   },
   {
    "duration": 47,
    "start_time": "2021-12-09T06:40:51.429Z"
   },
   {
    "duration": 168,
    "start_time": "2021-12-09T06:40:51.479Z"
   },
   {
    "duration": 17,
    "start_time": "2021-12-09T06:40:51.650Z"
   },
   {
    "duration": 13,
    "start_time": "2021-12-09T06:40:51.670Z"
   },
   {
    "duration": 19,
    "start_time": "2021-12-09T06:40:51.685Z"
   },
   {
    "duration": 498,
    "start_time": "2021-12-09T06:40:51.706Z"
   },
   {
    "duration": 61,
    "start_time": "2021-12-09T06:40:52.207Z"
   },
   {
    "duration": 46,
    "start_time": "2021-12-09T06:40:52.276Z"
   },
   {
    "duration": 51,
    "start_time": "2021-12-09T06:40:52.324Z"
   },
   {
    "duration": 27,
    "start_time": "2021-12-09T06:40:52.379Z"
   },
   {
    "duration": 729,
    "start_time": "2021-12-09T06:40:52.410Z"
   },
   {
    "duration": 31,
    "start_time": "2021-12-09T06:40:53.150Z"
   },
   {
    "duration": 26,
    "start_time": "2021-12-09T06:40:53.186Z"
   },
   {
    "duration": 83,
    "start_time": "2021-12-09T06:40:53.215Z"
   },
   {
    "duration": 12,
    "start_time": "2021-12-09T06:40:53.301Z"
   },
   {
    "duration": 9,
    "start_time": "2021-12-09T06:40:53.316Z"
   },
   {
    "duration": 10,
    "start_time": "2021-12-09T06:40:53.327Z"
   },
   {
    "duration": 21,
    "start_time": "2021-12-09T06:40:53.339Z"
   },
   {
    "duration": 24,
    "start_time": "2021-12-09T06:40:53.363Z"
   },
   {
    "duration": 11,
    "start_time": "2021-12-09T06:40:53.389Z"
   },
   {
    "duration": 13,
    "start_time": "2021-12-09T06:40:53.403Z"
   },
   {
    "duration": 1411,
    "start_time": "2021-12-09T06:40:53.418Z"
   },
   {
    "duration": 668,
    "start_time": "2021-12-09T06:40:54.832Z"
   },
   {
    "duration": 161503,
    "start_time": "2021-12-09T06:38:13.999Z"
   },
   {
    "duration": 161492,
    "start_time": "2021-12-09T06:38:14.012Z"
   },
   {
    "duration": 161482,
    "start_time": "2021-12-09T06:38:14.023Z"
   },
   {
    "duration": 161473,
    "start_time": "2021-12-09T06:38:14.033Z"
   },
   {
    "duration": 161462,
    "start_time": "2021-12-09T06:38:14.045Z"
   },
   {
    "duration": 161454,
    "start_time": "2021-12-09T06:38:14.054Z"
   },
   {
    "duration": 161448,
    "start_time": "2021-12-09T06:38:14.061Z"
   },
   {
    "duration": 161441,
    "start_time": "2021-12-09T06:38:14.070Z"
   },
   {
    "duration": 161433,
    "start_time": "2021-12-09T06:38:14.079Z"
   },
   {
    "duration": 161427,
    "start_time": "2021-12-09T06:38:14.086Z"
   },
   {
    "duration": 161420,
    "start_time": "2021-12-09T06:38:14.095Z"
   },
   {
    "duration": 161416,
    "start_time": "2021-12-09T06:38:14.100Z"
   },
   {
    "duration": 161408,
    "start_time": "2021-12-09T06:38:14.109Z"
   },
   {
    "duration": 161403,
    "start_time": "2021-12-09T06:38:14.116Z"
   },
   {
    "duration": 161394,
    "start_time": "2021-12-09T06:38:14.126Z"
   },
   {
    "duration": 161389,
    "start_time": "2021-12-09T06:38:14.132Z"
   },
   {
    "duration": 161382,
    "start_time": "2021-12-09T06:38:14.141Z"
   },
   {
    "duration": 161374,
    "start_time": "2021-12-09T06:38:14.150Z"
   },
   {
    "duration": 161343,
    "start_time": "2021-12-09T06:38:14.182Z"
   },
   {
    "duration": 161339,
    "start_time": "2021-12-09T06:38:14.187Z"
   },
   {
    "duration": 161331,
    "start_time": "2021-12-09T06:38:14.197Z"
   },
   {
    "duration": 161322,
    "start_time": "2021-12-09T06:38:14.207Z"
   },
   {
    "duration": 161316,
    "start_time": "2021-12-09T06:38:14.214Z"
   },
   {
    "duration": 161310,
    "start_time": "2021-12-09T06:38:14.222Z"
   },
   {
    "duration": 161304,
    "start_time": "2021-12-09T06:38:14.229Z"
   },
   {
    "duration": 161296,
    "start_time": "2021-12-09T06:38:14.238Z"
   },
   {
    "duration": 161291,
    "start_time": "2021-12-09T06:38:14.244Z"
   },
   {
    "duration": 161285,
    "start_time": "2021-12-09T06:38:14.252Z"
   },
   {
    "duration": 161281,
    "start_time": "2021-12-09T06:38:14.258Z"
   },
   {
    "duration": 161293,
    "start_time": "2021-12-09T06:38:14.266Z"
   },
   {
    "duration": 161287,
    "start_time": "2021-12-09T06:38:14.273Z"
   },
   {
    "duration": 161280,
    "start_time": "2021-12-09T06:38:14.281Z"
   },
   {
    "duration": 161276,
    "start_time": "2021-12-09T06:38:14.287Z"
   },
   {
    "duration": 161269,
    "start_time": "2021-12-09T06:38:14.295Z"
   },
   {
    "duration": 161264,
    "start_time": "2021-12-09T06:38:14.302Z"
   },
   {
    "duration": 161257,
    "start_time": "2021-12-09T06:38:14.310Z"
   },
   {
    "duration": 161252,
    "start_time": "2021-12-09T06:38:14.316Z"
   },
   {
    "duration": 161245,
    "start_time": "2021-12-09T06:38:14.325Z"
   },
   {
    "duration": 161240,
    "start_time": "2021-12-09T06:38:14.331Z"
   },
   {
    "duration": 1684,
    "start_time": "2021-12-09T06:41:41.353Z"
   },
   {
    "duration": 518,
    "start_time": "2021-12-09T06:41:43.040Z"
   },
   {
    "duration": 21,
    "start_time": "2021-12-09T06:41:43.562Z"
   },
   {
    "duration": 12,
    "start_time": "2021-12-09T06:41:43.587Z"
   },
   {
    "duration": 14,
    "start_time": "2021-12-09T06:41:43.602Z"
   },
   {
    "duration": 50,
    "start_time": "2021-12-09T06:41:43.619Z"
   },
   {
    "duration": 14,
    "start_time": "2021-12-09T06:41:43.672Z"
   },
   {
    "duration": 16,
    "start_time": "2021-12-09T06:41:43.689Z"
   },
   {
    "duration": 56,
    "start_time": "2021-12-09T06:41:43.709Z"
   },
   {
    "duration": 7,
    "start_time": "2021-12-09T06:41:43.768Z"
   },
   {
    "duration": 14,
    "start_time": "2021-12-09T06:41:43.777Z"
   },
   {
    "duration": 10,
    "start_time": "2021-12-09T06:41:43.793Z"
   },
   {
    "duration": 11,
    "start_time": "2021-12-09T06:41:43.806Z"
   },
   {
    "duration": 61,
    "start_time": "2021-12-09T06:41:43.819Z"
   },
   {
    "duration": 48,
    "start_time": "2021-12-09T06:41:43.882Z"
   },
   {
    "duration": 37,
    "start_time": "2021-12-09T06:41:43.933Z"
   },
   {
    "duration": 147,
    "start_time": "2021-12-09T06:41:43.973Z"
   },
   {
    "duration": 11,
    "start_time": "2021-12-09T06:41:44.123Z"
   },
   {
    "duration": 23,
    "start_time": "2021-12-09T06:41:44.136Z"
   },
   {
    "duration": 13,
    "start_time": "2021-12-09T06:41:44.162Z"
   },
   {
    "duration": 430,
    "start_time": "2021-12-09T06:41:44.178Z"
   },
   {
    "duration": 23,
    "start_time": "2021-12-09T06:41:44.611Z"
   },
   {
    "duration": 29,
    "start_time": "2021-12-09T06:41:44.636Z"
   },
   {
    "duration": 29,
    "start_time": "2021-12-09T06:41:44.668Z"
   },
   {
    "duration": 12,
    "start_time": "2021-12-09T06:41:44.700Z"
   },
   {
    "duration": 431,
    "start_time": "2021-12-09T06:41:44.714Z"
   },
   {
    "duration": 20,
    "start_time": "2021-12-09T06:41:45.160Z"
   },
   {
    "duration": 27,
    "start_time": "2021-12-09T06:41:45.184Z"
   },
   {
    "duration": 92,
    "start_time": "2021-12-09T06:41:45.213Z"
   },
   {
    "duration": 10,
    "start_time": "2021-12-09T06:41:45.308Z"
   },
   {
    "duration": 6,
    "start_time": "2021-12-09T06:41:45.320Z"
   },
   {
    "duration": 5,
    "start_time": "2021-12-09T06:41:45.328Z"
   },
   {
    "duration": 25,
    "start_time": "2021-12-09T06:41:45.336Z"
   },
   {
    "duration": 22,
    "start_time": "2021-12-09T06:41:45.363Z"
   },
   {
    "duration": 14,
    "start_time": "2021-12-09T06:41:45.388Z"
   },
   {
    "duration": 13,
    "start_time": "2021-12-09T06:41:45.405Z"
   },
   {
    "duration": 1274,
    "start_time": "2021-12-09T06:41:45.420Z"
   },
   {
    "duration": 47,
    "start_time": "2021-12-09T06:41:46.697Z"
   },
   {
    "duration": 16,
    "start_time": "2021-12-09T06:41:46.747Z"
   },
   {
    "duration": 14,
    "start_time": "2021-12-09T06:41:46.765Z"
   },
   {
    "duration": 25,
    "start_time": "2021-12-09T06:41:46.781Z"
   },
   {
    "duration": 11,
    "start_time": "2021-12-09T06:41:46.809Z"
   },
   {
    "duration": 44,
    "start_time": "2021-12-09T06:41:46.860Z"
   },
   {
    "duration": 10,
    "start_time": "2021-12-09T06:41:46.907Z"
   },
   {
    "duration": 95,
    "start_time": "2021-12-09T06:41:46.919Z"
   },
   {
    "duration": 59,
    "start_time": "2021-12-09T06:41:47.017Z"
   },
   {
    "duration": 10,
    "start_time": "2021-12-09T06:41:47.079Z"
   },
   {
    "duration": 11,
    "start_time": "2021-12-09T06:41:47.091Z"
   },
   {
    "duration": 8,
    "start_time": "2021-12-09T06:41:47.104Z"
   },
   {
    "duration": 14,
    "start_time": "2021-12-09T06:41:47.115Z"
   },
   {
    "duration": 41,
    "start_time": "2021-12-09T06:41:47.131Z"
   },
   {
    "duration": 13,
    "start_time": "2021-12-09T06:41:47.174Z"
   },
   {
    "duration": 13,
    "start_time": "2021-12-09T06:41:47.190Z"
   },
   {
    "duration": 333,
    "start_time": "2021-12-09T06:41:47.205Z"
   },
   {
    "duration": 10,
    "start_time": "2021-12-09T06:41:47.540Z"
   },
   {
    "duration": 44,
    "start_time": "2021-12-09T06:41:47.560Z"
   },
   {
    "duration": 20,
    "start_time": "2021-12-09T06:41:47.607Z"
   },
   {
    "duration": 30,
    "start_time": "2021-12-09T06:41:47.629Z"
   },
   {
    "duration": 8,
    "start_time": "2021-12-09T06:41:47.662Z"
   },
   {
    "duration": 8,
    "start_time": "2021-12-09T06:41:47.672Z"
   },
   {
    "duration": 479,
    "start_time": "2021-12-09T06:41:47.682Z"
   },
   {
    "duration": 8,
    "start_time": "2021-12-09T06:41:48.164Z"
   },
   {
    "duration": 557,
    "start_time": "2021-12-09T06:41:48.174Z"
   },
   {
    "duration": 9,
    "start_time": "2021-12-09T06:41:48.733Z"
   },
   {
    "duration": 448,
    "start_time": "2021-12-09T06:41:48.759Z"
   },
   {
    "duration": 7,
    "start_time": "2021-12-09T06:41:49.210Z"
   },
   {
    "duration": 927,
    "start_time": "2021-12-09T06:41:49.219Z"
   },
   {
    "duration": 14,
    "start_time": "2021-12-09T06:41:50.149Z"
   },
   {
    "duration": 999,
    "start_time": "2021-12-09T06:41:50.165Z"
   },
   {
    "duration": 8,
    "start_time": "2021-12-09T06:41:51.166Z"
   },
   {
    "duration": 907,
    "start_time": "2021-12-09T06:41:51.176Z"
   },
   {
    "duration": 1695,
    "start_time": "2021-12-09T06:41:52.085Z"
   },
   {
    "duration": 6,
    "start_time": "2021-12-09T06:41:53.783Z"
   },
   {
    "duration": 6,
    "start_time": "2021-12-09T06:41:53.791Z"
   },
   {
    "duration": 10,
    "start_time": "2021-12-09T06:41:53.799Z"
   },
   {
    "duration": 55,
    "start_time": "2021-12-09T06:41:53.811Z"
   },
   {
    "duration": 1103,
    "start_time": "2022-02-09T15:29:56.392Z"
   },
   {
    "duration": 368,
    "start_time": "2022-02-09T15:29:57.497Z"
   },
   {
    "duration": 12,
    "start_time": "2022-02-09T15:29:57.867Z"
   },
   {
    "duration": 8,
    "start_time": "2022-02-09T15:29:57.881Z"
   },
   {
    "duration": 8,
    "start_time": "2022-02-09T15:29:57.890Z"
   },
   {
    "duration": 7,
    "start_time": "2022-02-09T15:29:57.900Z"
   },
   {
    "duration": 9,
    "start_time": "2022-02-09T15:29:57.908Z"
   },
   {
    "duration": 9,
    "start_time": "2022-02-09T15:29:57.921Z"
   },
   {
    "duration": 7,
    "start_time": "2022-02-09T15:29:57.933Z"
   },
   {
    "duration": 8,
    "start_time": "2022-02-09T15:29:57.941Z"
   },
   {
    "duration": 7,
    "start_time": "2022-02-09T15:29:57.951Z"
   },
   {
    "duration": 8,
    "start_time": "2022-02-09T15:29:57.960Z"
   },
   {
    "duration": 8,
    "start_time": "2022-02-09T15:29:57.970Z"
   },
   {
    "duration": 52,
    "start_time": "2022-02-09T15:29:57.980Z"
   },
   {
    "duration": 28,
    "start_time": "2022-02-09T15:29:58.034Z"
   },
   {
    "duration": 14,
    "start_time": "2022-02-09T15:29:58.063Z"
   },
   {
    "duration": 103,
    "start_time": "2022-02-09T15:29:58.079Z"
   },
   {
    "duration": 7,
    "start_time": "2022-02-09T15:29:58.184Z"
   },
   {
    "duration": 6,
    "start_time": "2022-02-09T15:29:58.193Z"
   },
   {
    "duration": 28,
    "start_time": "2022-02-09T15:29:58.201Z"
   },
   {
    "duration": 239,
    "start_time": "2022-02-09T15:29:58.231Z"
   },
   {
    "duration": 16,
    "start_time": "2022-02-09T15:29:58.471Z"
   },
   {
    "duration": 7,
    "start_time": "2022-02-09T15:29:58.490Z"
   },
   {
    "duration": 36,
    "start_time": "2022-02-09T15:29:58.499Z"
   },
   {
    "duration": 8,
    "start_time": "2022-02-09T15:29:58.537Z"
   },
   {
    "duration": 223,
    "start_time": "2022-02-09T15:29:58.546Z"
   },
   {
    "duration": 13,
    "start_time": "2022-02-09T15:29:58.771Z"
   },
   {
    "duration": 17,
    "start_time": "2022-02-09T15:29:58.785Z"
   },
   {
    "duration": 47,
    "start_time": "2022-02-09T15:29:58.804Z"
   },
   {
    "duration": 5,
    "start_time": "2022-02-09T15:29:58.853Z"
   },
   {
    "duration": 4,
    "start_time": "2022-02-09T15:29:58.859Z"
   },
   {
    "duration": 4,
    "start_time": "2022-02-09T15:29:58.865Z"
   },
   {
    "duration": 4,
    "start_time": "2022-02-09T15:29:58.870Z"
   },
   {
    "duration": 14,
    "start_time": "2022-02-09T15:29:58.875Z"
   },
   {
    "duration": 6,
    "start_time": "2022-02-09T15:29:58.891Z"
   },
   {
    "duration": 33,
    "start_time": "2022-02-09T15:29:58.899Z"
   },
   {
    "duration": 759,
    "start_time": "2022-02-09T15:29:58.934Z"
   },
   {
    "duration": 33,
    "start_time": "2022-02-09T15:29:59.695Z"
   },
   {
    "duration": 5,
    "start_time": "2022-02-09T15:29:59.730Z"
   },
   {
    "duration": 10,
    "start_time": "2022-02-09T15:29:59.736Z"
   },
   {
    "duration": 16,
    "start_time": "2022-02-09T15:29:59.748Z"
   },
   {
    "duration": 6,
    "start_time": "2022-02-09T15:29:59.766Z"
   },
   {
    "duration": 28,
    "start_time": "2022-02-09T15:29:59.774Z"
   },
   {
    "duration": 27,
    "start_time": "2022-02-09T15:29:59.803Z"
   },
   {
    "duration": 44,
    "start_time": "2022-02-09T15:29:59.832Z"
   },
   {
    "duration": 27,
    "start_time": "2022-02-09T15:29:59.878Z"
   },
   {
    "duration": 23,
    "start_time": "2022-02-09T15:29:59.907Z"
   },
   {
    "duration": 7,
    "start_time": "2022-02-09T15:29:59.932Z"
   },
   {
    "duration": 3,
    "start_time": "2022-02-09T15:29:59.940Z"
   },
   {
    "duration": 5,
    "start_time": "2022-02-09T15:29:59.944Z"
   },
   {
    "duration": 14,
    "start_time": "2022-02-09T15:29:59.951Z"
   },
   {
    "duration": 3,
    "start_time": "2022-02-09T15:29:59.966Z"
   },
   {
    "duration": 5,
    "start_time": "2022-02-09T15:29:59.971Z"
   },
   {
    "duration": 198,
    "start_time": "2022-02-09T15:29:59.978Z"
   },
   {
    "duration": 6,
    "start_time": "2022-02-09T15:30:00.177Z"
   },
   {
    "duration": 28,
    "start_time": "2022-02-09T15:30:00.184Z"
   },
   {
    "duration": 14,
    "start_time": "2022-02-09T15:30:00.214Z"
   },
   {
    "duration": 16,
    "start_time": "2022-02-09T15:30:00.229Z"
   },
   {
    "duration": 12,
    "start_time": "2022-02-09T15:30:00.247Z"
   },
   {
    "duration": 26,
    "start_time": "2022-02-09T15:30:00.261Z"
   },
   {
    "duration": 240,
    "start_time": "2022-02-09T15:30:00.288Z"
   },
   {
    "duration": 4,
    "start_time": "2022-02-09T15:30:00.530Z"
   },
   {
    "duration": 325,
    "start_time": "2022-02-09T15:30:00.536Z"
   },
   {
    "duration": 5,
    "start_time": "2022-02-09T15:30:00.863Z"
   },
   {
    "duration": 281,
    "start_time": "2022-02-09T15:30:00.869Z"
   },
   {
    "duration": 6,
    "start_time": "2022-02-09T15:30:01.151Z"
   },
   {
    "duration": 490,
    "start_time": "2022-02-09T15:30:01.158Z"
   },
   {
    "duration": 5,
    "start_time": "2022-02-09T15:30:01.653Z"
   },
   {
    "duration": 511,
    "start_time": "2022-02-09T15:30:01.660Z"
   },
   {
    "duration": 4,
    "start_time": "2022-02-09T15:30:02.173Z"
   },
   {
    "duration": 485,
    "start_time": "2022-02-09T15:30:02.179Z"
   },
   {
    "duration": 691,
    "start_time": "2022-02-09T15:30:02.666Z"
   },
   {
    "duration": 5,
    "start_time": "2022-02-09T15:30:03.359Z"
   },
   {
    "duration": 7,
    "start_time": "2022-02-09T15:30:03.365Z"
   },
   {
    "duration": 7,
    "start_time": "2022-02-09T15:30:03.373Z"
   },
   {
    "duration": 7,
    "start_time": "2022-02-09T15:30:03.382Z"
   },
   {
    "duration": 359,
    "start_time": "2022-02-09T15:30:03.390Z"
   },
   {
    "duration": 3504,
    "start_time": "2022-02-09T15:30:00.247Z"
   },
   {
    "duration": 1709,
    "start_time": "2022-02-13T13:51:35.250Z"
   },
   {
    "duration": 514,
    "start_time": "2022-02-13T13:51:36.962Z"
   },
   {
    "duration": 20,
    "start_time": "2022-02-13T13:51:37.479Z"
   },
   {
    "duration": 256,
    "start_time": "2022-02-13T13:51:37.502Z"
   },
   {
    "duration": 279,
    "start_time": "2022-02-13T13:51:37.761Z"
   },
   {
    "duration": 284,
    "start_time": "2022-02-13T13:51:38.043Z"
   },
   {
    "duration": 290,
    "start_time": "2022-02-13T13:51:38.329Z"
   },
   {
    "duration": 291,
    "start_time": "2022-02-13T13:51:38.622Z"
   },
   {
    "duration": 348,
    "start_time": "2022-02-13T13:51:38.916Z"
   },
   {
    "duration": 394,
    "start_time": "2022-02-13T13:51:39.267Z"
   },
   {
    "duration": 296,
    "start_time": "2022-02-13T13:51:39.664Z"
   },
   {
    "duration": 280,
    "start_time": "2022-02-13T13:51:39.963Z"
   },
   {
    "duration": 321,
    "start_time": "2022-02-13T13:51:40.246Z"
   },
   {
    "duration": 253,
    "start_time": "2022-02-13T13:51:40.570Z"
   },
   {
    "duration": 276,
    "start_time": "2022-02-13T13:51:40.826Z"
   },
   {
    "duration": 384,
    "start_time": "2022-02-13T13:51:41.105Z"
   },
   {
    "duration": 415,
    "start_time": "2022-02-13T13:51:41.492Z"
   },
   {
    "duration": 78,
    "start_time": "2022-02-13T13:51:41.909Z"
   },
   {
    "duration": 280,
    "start_time": "2022-02-13T13:51:41.990Z"
   },
   {
    "duration": 322,
    "start_time": "2022-02-13T13:51:42.272Z"
   },
   {
    "duration": 702,
    "start_time": "2022-02-13T13:51:42.597Z"
   },
   {
    "duration": 23,
    "start_time": "2022-02-13T13:51:43.302Z"
   },
   {
    "duration": 210,
    "start_time": "2022-02-13T13:51:43.330Z"
   },
   {
    "duration": 213,
    "start_time": "2022-02-13T13:51:43.545Z"
   },
   {
    "duration": 259,
    "start_time": "2022-02-13T13:51:43.761Z"
   },
   {
    "duration": 656,
    "start_time": "2022-02-13T13:51:44.022Z"
   },
   {
    "duration": 21,
    "start_time": "2022-02-13T13:51:44.680Z"
   },
   {
    "duration": 277,
    "start_time": "2022-02-13T13:51:44.703Z"
   },
   {
    "duration": 306,
    "start_time": "2022-02-13T13:51:44.983Z"
   },
   {
    "duration": 106,
    "start_time": "2022-02-13T13:51:45.292Z"
   },
   {
    "duration": 171,
    "start_time": "2022-02-13T13:51:45.400Z"
   },
   {
    "duration": 207,
    "start_time": "2022-02-13T13:51:45.574Z"
   },
   {
    "duration": 213,
    "start_time": "2022-02-13T13:51:45.784Z"
   },
   {
    "duration": 156,
    "start_time": "2022-02-13T13:51:46.000Z"
   },
   {
    "duration": 213,
    "start_time": "2022-02-13T13:51:46.158Z"
   },
   {
    "duration": 284,
    "start_time": "2022-02-13T13:51:46.374Z"
   },
   {
    "duration": 2239,
    "start_time": "2022-02-13T13:51:46.661Z"
   },
   {
    "duration": 49,
    "start_time": "2022-02-13T13:51:48.902Z"
   },
   {
    "duration": 379,
    "start_time": "2022-02-13T13:51:48.953Z"
   },
   {
    "duration": 294,
    "start_time": "2022-02-13T13:51:49.334Z"
   },
   {
    "duration": 295,
    "start_time": "2022-02-13T13:51:49.631Z"
   },
   {
    "duration": 267,
    "start_time": "2022-02-13T13:51:49.929Z"
   },
   {
    "duration": 277,
    "start_time": "2022-02-13T13:51:50.199Z"
   },
   {
    "duration": 258,
    "start_time": "2022-02-13T13:51:50.479Z"
   },
   {
    "duration": 278,
    "start_time": "2022-02-13T13:51:50.740Z"
   },
   {
    "duration": 244,
    "start_time": "2022-02-13T13:51:51.021Z"
   },
   {
    "duration": 242,
    "start_time": "2022-02-13T13:51:51.268Z"
   },
   {
    "duration": 349,
    "start_time": "2022-02-13T13:51:51.513Z"
   },
   {
    "duration": 229,
    "start_time": "2022-02-13T13:51:51.865Z"
   },
   {
    "duration": 262,
    "start_time": "2022-02-13T13:51:52.097Z"
   },
   {
    "duration": 374,
    "start_time": "2022-02-13T13:51:52.361Z"
   },
   {
    "duration": 297,
    "start_time": "2022-02-13T13:51:52.737Z"
   },
   {
    "duration": 286,
    "start_time": "2022-02-13T13:51:53.037Z"
   },
   {
    "duration": 668,
    "start_time": "2022-02-13T13:51:53.325Z"
   },
   {
    "duration": 9,
    "start_time": "2022-02-13T13:51:53.995Z"
   },
   {
    "duration": 189,
    "start_time": "2022-02-13T13:51:54.006Z"
   },
   {
    "duration": 183,
    "start_time": "2022-02-13T13:51:54.197Z"
   },
   {
    "duration": 176,
    "start_time": "2022-02-13T13:51:54.382Z"
   },
   {
    "duration": 257,
    "start_time": "2022-02-13T13:51:54.560Z"
   },
   {
    "duration": 315,
    "start_time": "2022-02-13T13:51:54.819Z"
   },
   {
    "duration": 677,
    "start_time": "2022-02-13T13:51:55.136Z"
   },
   {
    "duration": 8,
    "start_time": "2022-02-13T13:51:55.816Z"
   },
   {
    "duration": 845,
    "start_time": "2022-02-13T13:51:55.826Z"
   },
   {
    "duration": 8,
    "start_time": "2022-02-13T13:51:56.674Z"
   },
   {
    "duration": 656,
    "start_time": "2022-02-13T13:51:56.684Z"
   },
   {
    "duration": 7,
    "start_time": "2022-02-13T13:51:57.343Z"
   },
   {
    "duration": 1300,
    "start_time": "2022-02-13T13:51:57.352Z"
   },
   {
    "duration": 8,
    "start_time": "2022-02-13T13:51:58.669Z"
   },
   {
    "duration": 1190,
    "start_time": "2022-02-13T13:51:58.682Z"
   },
   {
    "duration": 15,
    "start_time": "2022-02-13T13:51:59.875Z"
   },
   {
    "duration": 1147,
    "start_time": "2022-02-13T13:51:59.896Z"
   },
   {
    "duration": 1526,
    "start_time": "2022-02-13T13:52:01.045Z"
   },
   {
    "duration": 6,
    "start_time": "2022-02-13T13:52:02.573Z"
   },
   {
    "duration": 267,
    "start_time": "2022-02-13T13:52:02.582Z"
   },
   {
    "duration": 202,
    "start_time": "2022-02-13T13:52:02.852Z"
   },
   {
    "duration": 189,
    "start_time": "2022-02-13T13:52:03.057Z"
   },
   {
    "duration": 770,
    "start_time": "2022-02-13T13:52:03.250Z"
   },
   {
    "duration": -473,
    "start_time": "2022-02-13T13:52:04.496Z"
   }
  ],
  "kernelspec": {
   "display_name": "Python 3",
   "language": "python",
   "name": "python3"
  },
  "language_info": {
   "codemirror_mode": {
    "name": "ipython",
    "version": 3
   },
   "file_extension": ".py",
   "mimetype": "text/x-python",
   "name": "python",
   "nbconvert_exporter": "python",
   "pygments_lexer": "ipython3",
   "version": "3.7.8"
  },
  "toc": {
   "base_numbering": 1,
   "nav_menu": {},
   "number_sections": true,
   "sideBar": true,
   "skip_h1_title": true,
   "title_cell": "Table of Contents",
   "title_sidebar": "Contents",
   "toc_cell": true,
   "toc_position": {
    "height": "calc(100% - 180px)",
    "left": "10px",
    "top": "150px",
    "width": "228.067px"
   },
   "toc_section_display": true,
   "toc_window_display": true
  }
 },
 "nbformat": 4,
 "nbformat_minor": 2
}
