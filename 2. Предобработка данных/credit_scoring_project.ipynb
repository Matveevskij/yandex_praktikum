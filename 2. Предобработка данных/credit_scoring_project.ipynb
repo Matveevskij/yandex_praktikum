{
 "cells": [
  {
   "cell_type": "markdown",
   "metadata": {},
   "source": [
    "# Исследование надёжности заёмщиков\n",
    "\n",
    "Заказчик — кредитный отдел банка. Нужно разобраться, влияет ли семейное положение и количество детей клиента на факт погашения кредита в срок. Входные данные от банка — статистика о платёжеспособности клиентов.\n",
    "\n",
    "Результаты исследования будут учтены при построении модели **кредитного скоринга** — специальной системы, которая оценивает способность потенциального заёмщика вернуть кредит банку."
   ]
  },
  {
   "cell_type": "markdown",
   "metadata": {},
   "source": [
    "**Цель исследования** — проверьте четыре вопроса:\n",
    "\n",
    "   1. Есть ли зависимость между наличием детей и возвратом кредита в срок?\n",
    "   2. Есть ли зависимость между семейным положением и возвратом кредита в срок?\n",
    "   3. Есть ли зависимость между уровнем дохода и возвратом кредита в срок?\n",
    "   4. Как разные цели кредита влияют на его возврат в срок?\n",
    "   \n",
    "   **Ход исследования**\n",
    "   \n",
    "   Данные о поведении пользователей я получу из файла `/datasets/data.csv`. О качестве данных ничего не известно. Поэтому перед проверкой гипотез понадобится обзор данных.\n",
    "   \n",
    "   Я проверю данные на ошибки и оцените их влияние на исследование. Затем, на этапе предобработки я поищу возможность исправить все ошибки данных.\n",
    "   \n",
    "   Таким образом, моё исследование пройдёт в четыре этапа:\n",
    " 1. Обзор данных.\n",
    " 2. Предобработка данных.\n",
    " 3. Проверка гипотез.\n",
    " 4. Написание общего вывода.\n"
   ]
  },
  {
   "cell_type": "markdown",
   "metadata": {},
   "source": [
    "## Шаг 1. Откройте файл с данными и изучите общую информацию"
   ]
  },
  {
   "cell_type": "code",
   "execution_count": 1,
   "metadata": {
    "scrolled": true
   },
   "outputs": [
    {
     "name": "stdout",
     "output_type": "stream",
     "text": [
      "<class 'pandas.core.frame.DataFrame'>\n",
      "RangeIndex: 21525 entries, 0 to 21524\n",
      "Data columns (total 12 columns):\n",
      "children            21525 non-null int64\n",
      "days_employed       19351 non-null float64\n",
      "dob_years           21525 non-null int64\n",
      "education           21525 non-null object\n",
      "education_id        21525 non-null int64\n",
      "family_status       21525 non-null object\n",
      "family_status_id    21525 non-null int64\n",
      "gender              21525 non-null object\n",
      "income_type         21525 non-null object\n",
      "debt                21525 non-null int64\n",
      "total_income        19351 non-null float64\n",
      "purpose             21525 non-null object\n",
      "dtypes: float64(2), int64(5), object(5)\n",
      "memory usage: 2.0+ MB\n"
     ]
    }
   ],
   "source": [
    "import pandas as pd# импорт библиотеки pandas\n",
    "df = pd.read_csv('/datasets/data.csv')# # чтение файла с данными и сохранение в df\n",
    "df.info()# получение информации о DataFrame"
   ]
  },
  {
   "cell_type": "code",
   "execution_count": 2,
   "metadata": {
    "scrolled": true
   },
   "outputs": [
    {
     "data": {
      "text/html": [
       "<div>\n",
       "<style scoped>\n",
       "    .dataframe tbody tr th:only-of-type {\n",
       "        vertical-align: middle;\n",
       "    }\n",
       "\n",
       "    .dataframe tbody tr th {\n",
       "        vertical-align: top;\n",
       "    }\n",
       "\n",
       "    .dataframe thead th {\n",
       "        text-align: right;\n",
       "    }\n",
       "</style>\n",
       "<table border=\"1\" class=\"dataframe\">\n",
       "  <thead>\n",
       "    <tr style=\"text-align: right;\">\n",
       "      <th></th>\n",
       "      <th>children</th>\n",
       "      <th>days_employed</th>\n",
       "      <th>dob_years</th>\n",
       "      <th>education</th>\n",
       "      <th>education_id</th>\n",
       "      <th>family_status</th>\n",
       "      <th>family_status_id</th>\n",
       "      <th>gender</th>\n",
       "      <th>income_type</th>\n",
       "      <th>debt</th>\n",
       "      <th>total_income</th>\n",
       "      <th>purpose</th>\n",
       "    </tr>\n",
       "  </thead>\n",
       "  <tbody>\n",
       "    <tr>\n",
       "      <td>0</td>\n",
       "      <td>1</td>\n",
       "      <td>-8437.673028</td>\n",
       "      <td>42</td>\n",
       "      <td>высшее</td>\n",
       "      <td>0</td>\n",
       "      <td>женат / замужем</td>\n",
       "      <td>0</td>\n",
       "      <td>F</td>\n",
       "      <td>сотрудник</td>\n",
       "      <td>0</td>\n",
       "      <td>253875.639453</td>\n",
       "      <td>покупка жилья</td>\n",
       "    </tr>\n",
       "    <tr>\n",
       "      <td>1</td>\n",
       "      <td>1</td>\n",
       "      <td>-4024.803754</td>\n",
       "      <td>36</td>\n",
       "      <td>среднее</td>\n",
       "      <td>1</td>\n",
       "      <td>женат / замужем</td>\n",
       "      <td>0</td>\n",
       "      <td>F</td>\n",
       "      <td>сотрудник</td>\n",
       "      <td>0</td>\n",
       "      <td>112080.014102</td>\n",
       "      <td>приобретение автомобиля</td>\n",
       "    </tr>\n",
       "    <tr>\n",
       "      <td>2</td>\n",
       "      <td>0</td>\n",
       "      <td>-5623.422610</td>\n",
       "      <td>33</td>\n",
       "      <td>Среднее</td>\n",
       "      <td>1</td>\n",
       "      <td>женат / замужем</td>\n",
       "      <td>0</td>\n",
       "      <td>M</td>\n",
       "      <td>сотрудник</td>\n",
       "      <td>0</td>\n",
       "      <td>145885.952297</td>\n",
       "      <td>покупка жилья</td>\n",
       "    </tr>\n",
       "    <tr>\n",
       "      <td>3</td>\n",
       "      <td>3</td>\n",
       "      <td>-4124.747207</td>\n",
       "      <td>32</td>\n",
       "      <td>среднее</td>\n",
       "      <td>1</td>\n",
       "      <td>женат / замужем</td>\n",
       "      <td>0</td>\n",
       "      <td>M</td>\n",
       "      <td>сотрудник</td>\n",
       "      <td>0</td>\n",
       "      <td>267628.550329</td>\n",
       "      <td>дополнительное образование</td>\n",
       "    </tr>\n",
       "    <tr>\n",
       "      <td>4</td>\n",
       "      <td>0</td>\n",
       "      <td>340266.072047</td>\n",
       "      <td>53</td>\n",
       "      <td>среднее</td>\n",
       "      <td>1</td>\n",
       "      <td>гражданский брак</td>\n",
       "      <td>1</td>\n",
       "      <td>F</td>\n",
       "      <td>пенсионер</td>\n",
       "      <td>0</td>\n",
       "      <td>158616.077870</td>\n",
       "      <td>сыграть свадьбу</td>\n",
       "    </tr>\n",
       "    <tr>\n",
       "      <td>5</td>\n",
       "      <td>0</td>\n",
       "      <td>-926.185831</td>\n",
       "      <td>27</td>\n",
       "      <td>высшее</td>\n",
       "      <td>0</td>\n",
       "      <td>гражданский брак</td>\n",
       "      <td>1</td>\n",
       "      <td>M</td>\n",
       "      <td>компаньон</td>\n",
       "      <td>0</td>\n",
       "      <td>255763.565419</td>\n",
       "      <td>покупка жилья</td>\n",
       "    </tr>\n",
       "    <tr>\n",
       "      <td>6</td>\n",
       "      <td>0</td>\n",
       "      <td>-2879.202052</td>\n",
       "      <td>43</td>\n",
       "      <td>высшее</td>\n",
       "      <td>0</td>\n",
       "      <td>женат / замужем</td>\n",
       "      <td>0</td>\n",
       "      <td>F</td>\n",
       "      <td>компаньон</td>\n",
       "      <td>0</td>\n",
       "      <td>240525.971920</td>\n",
       "      <td>операции с жильем</td>\n",
       "    </tr>\n",
       "    <tr>\n",
       "      <td>7</td>\n",
       "      <td>0</td>\n",
       "      <td>-152.779569</td>\n",
       "      <td>50</td>\n",
       "      <td>СРЕДНЕЕ</td>\n",
       "      <td>1</td>\n",
       "      <td>женат / замужем</td>\n",
       "      <td>0</td>\n",
       "      <td>M</td>\n",
       "      <td>сотрудник</td>\n",
       "      <td>0</td>\n",
       "      <td>135823.934197</td>\n",
       "      <td>образование</td>\n",
       "    </tr>\n",
       "    <tr>\n",
       "      <td>8</td>\n",
       "      <td>2</td>\n",
       "      <td>-6929.865299</td>\n",
       "      <td>35</td>\n",
       "      <td>ВЫСШЕЕ</td>\n",
       "      <td>0</td>\n",
       "      <td>гражданский брак</td>\n",
       "      <td>1</td>\n",
       "      <td>F</td>\n",
       "      <td>сотрудник</td>\n",
       "      <td>0</td>\n",
       "      <td>95856.832424</td>\n",
       "      <td>на проведение свадьбы</td>\n",
       "    </tr>\n",
       "    <tr>\n",
       "      <td>9</td>\n",
       "      <td>0</td>\n",
       "      <td>-2188.756445</td>\n",
       "      <td>41</td>\n",
       "      <td>среднее</td>\n",
       "      <td>1</td>\n",
       "      <td>женат / замужем</td>\n",
       "      <td>0</td>\n",
       "      <td>M</td>\n",
       "      <td>сотрудник</td>\n",
       "      <td>0</td>\n",
       "      <td>144425.938277</td>\n",
       "      <td>покупка жилья для семьи</td>\n",
       "    </tr>\n",
       "    <tr>\n",
       "      <td>10</td>\n",
       "      <td>2</td>\n",
       "      <td>-4171.483647</td>\n",
       "      <td>36</td>\n",
       "      <td>высшее</td>\n",
       "      <td>0</td>\n",
       "      <td>женат / замужем</td>\n",
       "      <td>0</td>\n",
       "      <td>M</td>\n",
       "      <td>компаньон</td>\n",
       "      <td>0</td>\n",
       "      <td>113943.491460</td>\n",
       "      <td>покупка недвижимости</td>\n",
       "    </tr>\n",
       "    <tr>\n",
       "      <td>11</td>\n",
       "      <td>0</td>\n",
       "      <td>-792.701887</td>\n",
       "      <td>40</td>\n",
       "      <td>среднее</td>\n",
       "      <td>1</td>\n",
       "      <td>женат / замужем</td>\n",
       "      <td>0</td>\n",
       "      <td>F</td>\n",
       "      <td>сотрудник</td>\n",
       "      <td>0</td>\n",
       "      <td>77069.234271</td>\n",
       "      <td>покупка коммерческой недвижимости</td>\n",
       "    </tr>\n",
       "    <tr>\n",
       "      <td>12</td>\n",
       "      <td>0</td>\n",
       "      <td>NaN</td>\n",
       "      <td>65</td>\n",
       "      <td>среднее</td>\n",
       "      <td>1</td>\n",
       "      <td>гражданский брак</td>\n",
       "      <td>1</td>\n",
       "      <td>M</td>\n",
       "      <td>пенсионер</td>\n",
       "      <td>0</td>\n",
       "      <td>NaN</td>\n",
       "      <td>сыграть свадьбу</td>\n",
       "    </tr>\n",
       "    <tr>\n",
       "      <td>13</td>\n",
       "      <td>0</td>\n",
       "      <td>-1846.641941</td>\n",
       "      <td>54</td>\n",
       "      <td>неоконченное высшее</td>\n",
       "      <td>2</td>\n",
       "      <td>женат / замужем</td>\n",
       "      <td>0</td>\n",
       "      <td>F</td>\n",
       "      <td>сотрудник</td>\n",
       "      <td>0</td>\n",
       "      <td>130458.228857</td>\n",
       "      <td>приобретение автомобиля</td>\n",
       "    </tr>\n",
       "    <tr>\n",
       "      <td>14</td>\n",
       "      <td>0</td>\n",
       "      <td>-1844.956182</td>\n",
       "      <td>56</td>\n",
       "      <td>высшее</td>\n",
       "      <td>0</td>\n",
       "      <td>гражданский брак</td>\n",
       "      <td>1</td>\n",
       "      <td>F</td>\n",
       "      <td>компаньон</td>\n",
       "      <td>1</td>\n",
       "      <td>165127.911772</td>\n",
       "      <td>покупка жилой недвижимости</td>\n",
       "    </tr>\n",
       "  </tbody>\n",
       "</table>\n",
       "</div>"
      ],
      "text/plain": [
       "    children  days_employed  dob_years            education  education_id  \\\n",
       "0          1   -8437.673028         42               высшее             0   \n",
       "1          1   -4024.803754         36              среднее             1   \n",
       "2          0   -5623.422610         33              Среднее             1   \n",
       "3          3   -4124.747207         32              среднее             1   \n",
       "4          0  340266.072047         53              среднее             1   \n",
       "5          0    -926.185831         27               высшее             0   \n",
       "6          0   -2879.202052         43               высшее             0   \n",
       "7          0    -152.779569         50              СРЕДНЕЕ             1   \n",
       "8          2   -6929.865299         35               ВЫСШЕЕ             0   \n",
       "9          0   -2188.756445         41              среднее             1   \n",
       "10         2   -4171.483647         36               высшее             0   \n",
       "11         0    -792.701887         40              среднее             1   \n",
       "12         0            NaN         65              среднее             1   \n",
       "13         0   -1846.641941         54  неоконченное высшее             2   \n",
       "14         0   -1844.956182         56               высшее             0   \n",
       "\n",
       "       family_status  family_status_id gender income_type  debt  \\\n",
       "0    женат / замужем                 0      F   сотрудник     0   \n",
       "1    женат / замужем                 0      F   сотрудник     0   \n",
       "2    женат / замужем                 0      M   сотрудник     0   \n",
       "3    женат / замужем                 0      M   сотрудник     0   \n",
       "4   гражданский брак                 1      F   пенсионер     0   \n",
       "5   гражданский брак                 1      M   компаньон     0   \n",
       "6    женат / замужем                 0      F   компаньон     0   \n",
       "7    женат / замужем                 0      M   сотрудник     0   \n",
       "8   гражданский брак                 1      F   сотрудник     0   \n",
       "9    женат / замужем                 0      M   сотрудник     0   \n",
       "10   женат / замужем                 0      M   компаньон     0   \n",
       "11   женат / замужем                 0      F   сотрудник     0   \n",
       "12  гражданский брак                 1      M   пенсионер     0   \n",
       "13   женат / замужем                 0      F   сотрудник     0   \n",
       "14  гражданский брак                 1      F   компаньон     1   \n",
       "\n",
       "     total_income                            purpose  \n",
       "0   253875.639453                      покупка жилья  \n",
       "1   112080.014102            приобретение автомобиля  \n",
       "2   145885.952297                      покупка жилья  \n",
       "3   267628.550329         дополнительное образование  \n",
       "4   158616.077870                    сыграть свадьбу  \n",
       "5   255763.565419                      покупка жилья  \n",
       "6   240525.971920                  операции с жильем  \n",
       "7   135823.934197                        образование  \n",
       "8    95856.832424              на проведение свадьбы  \n",
       "9   144425.938277            покупка жилья для семьи  \n",
       "10  113943.491460               покупка недвижимости  \n",
       "11   77069.234271  покупка коммерческой недвижимости  \n",
       "12            NaN                    сыграть свадьбу  \n",
       "13  130458.228857            приобретение автомобиля  \n",
       "14  165127.911772         покупка жилой недвижимости  "
      ]
     },
     "execution_count": 2,
     "metadata": {},
     "output_type": "execute_result"
    }
   ],
   "source": [
    "df.head(15)# получение первых 15 строк таблицы df"
   ]
  },
  {
   "cell_type": "code",
   "execution_count": 3,
   "metadata": {},
   "outputs": [
    {
     "name": "stdout",
     "output_type": "stream",
     "text": [
      "<class 'pandas.core.frame.DataFrame'>\n",
      "RangeIndex: 21525 entries, 0 to 21524\n",
      "Data columns (total 12 columns):\n",
      "children            21525 non-null int64\n",
      "days_employed       19351 non-null float64\n",
      "dob_years           21525 non-null int64\n",
      "education           21525 non-null object\n",
      "education_id        21525 non-null int64\n",
      "family_status       21525 non-null object\n",
      "family_status_id    21525 non-null int64\n",
      "gender              21525 non-null object\n",
      "income_type         21525 non-null object\n",
      "debt                21525 non-null int64\n",
      "total_income        19351 non-null float64\n",
      "purpose             21525 non-null object\n",
      "dtypes: float64(2), int64(5), object(5)\n",
      "memory usage: 2.0+ MB\n"
     ]
    }
   ],
   "source": [
    "df.info()# получение общей информации о данных в таблице df"
   ]
  },
  {
   "cell_type": "markdown",
   "metadata": {},
   "source": [
    "**Вывод**"
   ]
  },
  {
   "cell_type": "markdown",
   "metadata": {},
   "source": [
    "В таблице 12 колонок и  три типа данных:`int64`, `float64`, `object`.\n",
    "\n",
    "* `children` — наличие детей у заёмщика;\n",
    "* `days_employed` — отработанные дни заёмщика;\n",
    "* `dob_years` — Возраст заёмщика;\n",
    "* `education` — образование заёмщика;\n",
    "* `education_id` — индентификатор образования заёмщика;\n",
    "* `family_status` — семейное положение заёмщика;\n",
    "* `family_status_id` — идентефикатор семейного положения заёмщика;\n",
    "* `gender` — пол заёмщика;\n",
    "* `income_type` — тип дохода заёмщика; \n",
    "* `debt` - долг заёмщика;\n",
    "* `total_income` — общий доход заёмщика;\n",
    "* `purpose` — цель заёма;\n",
    "\n",
    "    Есть колонки с некорректным типом данных;\n",
    "\n",
    "    В столбцах `days_employed` и `total_income` встречаются пропуски в значениях.\n",
    "    Скорее всего заявители случайно или умышленно не заполнили эти данные или произошла техническая ошибка.\n",
    "    \n",
    "    В столбце `days_employed` имеются отрицательные значения, и пропуски NaN.\n",
    "    В столбце `education` строчные буквы сочетаются с прописными.\n",
    "    \n",
    "    Чтобы двигаться дальше, нужно устранить проблемы в данных\n",
    "    "
   ]
  },
  {
   "cell_type": "markdown",
   "metadata": {},
   "source": [
    "## Шаг 2. Предобработка данных"
   ]
  },
  {
   "cell_type": "markdown",
   "metadata": {},
   "source": [
    "### Обработка пропусков"
   ]
  },
  {
   "cell_type": "markdown",
   "metadata": {},
   "source": [
    "Сначала посчитаем, сколько в таблице пропущенных значений."
   ]
  },
  {
   "cell_type": "code",
   "execution_count": 4,
   "metadata": {
    "scrolled": true
   },
   "outputs": [
    {
     "data": {
      "text/plain": [
       "children               0\n",
       "days_employed       2174\n",
       "dob_years              0\n",
       "education              0\n",
       "education_id           0\n",
       "family_status          0\n",
       "family_status_id       0\n",
       "gender                 0\n",
       "income_type            0\n",
       "debt                   0\n",
       "total_income        2174\n",
       "purpose                0\n",
       "dtype: int64"
      ]
     },
     "execution_count": 4,
     "metadata": {},
     "output_type": "execute_result"
    }
   ],
   "source": [
    "df.isna().sum()# подсчёт пропусков"
   ]
  },
  {
   "cell_type": "markdown",
   "metadata": {},
   "source": [
    "В столбце отработанные дни изменим отрицательные значения, на положительные.Создадим функцию"
   ]
  },
  {
   "cell_type": "code",
   "execution_count": 5,
   "metadata": {},
   "outputs": [],
   "source": [
    "def removing_the_minus(i):\n",
    "    try:\n",
    "        if i <1:\n",
    "            i = i*(-1)\n",
    "            return i\n",
    "        return i\n",
    "    except:\n",
    "        print('Не получилось')"
   ]
  },
  {
   "cell_type": "markdown",
   "metadata": {},
   "source": [
    "Перепишем столбец `days_employed` с положительными значениями. Для этого применим функцию `removing_the_minus()`"
   ]
  },
  {
   "cell_type": "code",
   "execution_count": 6,
   "metadata": {},
   "outputs": [],
   "source": [
    "df['days_employed'] = df['days_employed'].apply(removing_the_minus)#применение функции"
   ]
  },
  {
   "cell_type": "markdown",
   "metadata": {},
   "source": [
    "Создадим значение медианы для столбца `days_employed`."
   ]
  },
  {
   "cell_type": "code",
   "execution_count": 7,
   "metadata": {},
   "outputs": [],
   "source": [
    "days_employed_median = df['days_employed'].median()# медиана для столбца \"отработанные дни\""
   ]
  },
  {
   "cell_type": "markdown",
   "metadata": {},
   "source": [
    "Заменим пропуски в столбце `days_employed` с помощью метода fillna():"
   ]
  },
  {
   "cell_type": "code",
   "execution_count": 8,
   "metadata": {},
   "outputs": [],
   "source": [
    "df['days_employed'] = df['days_employed'].fillna(days_employed_median)# замена пропусков в'days_employed'"
   ]
  },
  {
   "cell_type": "markdown",
   "metadata": {},
   "source": [
    "Заменим пропуски в cтолбце `total_income` c помощью команды `loc`:"
   ]
  },
  {
   "cell_type": "code",
   "execution_count": 9,
   "metadata": {},
   "outputs": [],
   "source": [
    "df.loc[df['total_income'].isna(), 'total_income'] = df['total_income'].median()# замена пропусков в'total_income'"
   ]
  },
  {
   "cell_type": "markdown",
   "metadata": {},
   "source": [
    "Убеждаюсь, что команды выполнены верно:"
   ]
  },
  {
   "cell_type": "code",
   "execution_count": 10,
   "metadata": {
    "scrolled": false
   },
   "outputs": [
    {
     "data": {
      "text/html": [
       "<div>\n",
       "<style scoped>\n",
       "    .dataframe tbody tr th:only-of-type {\n",
       "        vertical-align: middle;\n",
       "    }\n",
       "\n",
       "    .dataframe tbody tr th {\n",
       "        vertical-align: top;\n",
       "    }\n",
       "\n",
       "    .dataframe thead th {\n",
       "        text-align: right;\n",
       "    }\n",
       "</style>\n",
       "<table border=\"1\" class=\"dataframe\">\n",
       "  <thead>\n",
       "    <tr style=\"text-align: right;\">\n",
       "      <th></th>\n",
       "      <th>children</th>\n",
       "      <th>days_employed</th>\n",
       "      <th>dob_years</th>\n",
       "      <th>education</th>\n",
       "      <th>education_id</th>\n",
       "      <th>family_status</th>\n",
       "      <th>family_status_id</th>\n",
       "      <th>gender</th>\n",
       "      <th>income_type</th>\n",
       "      <th>debt</th>\n",
       "      <th>total_income</th>\n",
       "      <th>purpose</th>\n",
       "    </tr>\n",
       "  </thead>\n",
       "  <tbody>\n",
       "    <tr>\n",
       "      <td>0</td>\n",
       "      <td>1</td>\n",
       "      <td>8437.673028</td>\n",
       "      <td>42</td>\n",
       "      <td>высшее</td>\n",
       "      <td>0</td>\n",
       "      <td>женат / замужем</td>\n",
       "      <td>0</td>\n",
       "      <td>F</td>\n",
       "      <td>сотрудник</td>\n",
       "      <td>0</td>\n",
       "      <td>253875.639453</td>\n",
       "      <td>покупка жилья</td>\n",
       "    </tr>\n",
       "    <tr>\n",
       "      <td>1</td>\n",
       "      <td>1</td>\n",
       "      <td>4024.803754</td>\n",
       "      <td>36</td>\n",
       "      <td>среднее</td>\n",
       "      <td>1</td>\n",
       "      <td>женат / замужем</td>\n",
       "      <td>0</td>\n",
       "      <td>F</td>\n",
       "      <td>сотрудник</td>\n",
       "      <td>0</td>\n",
       "      <td>112080.014102</td>\n",
       "      <td>приобретение автомобиля</td>\n",
       "    </tr>\n",
       "    <tr>\n",
       "      <td>2</td>\n",
       "      <td>0</td>\n",
       "      <td>5623.422610</td>\n",
       "      <td>33</td>\n",
       "      <td>Среднее</td>\n",
       "      <td>1</td>\n",
       "      <td>женат / замужем</td>\n",
       "      <td>0</td>\n",
       "      <td>M</td>\n",
       "      <td>сотрудник</td>\n",
       "      <td>0</td>\n",
       "      <td>145885.952297</td>\n",
       "      <td>покупка жилья</td>\n",
       "    </tr>\n",
       "    <tr>\n",
       "      <td>3</td>\n",
       "      <td>3</td>\n",
       "      <td>4124.747207</td>\n",
       "      <td>32</td>\n",
       "      <td>среднее</td>\n",
       "      <td>1</td>\n",
       "      <td>женат / замужем</td>\n",
       "      <td>0</td>\n",
       "      <td>M</td>\n",
       "      <td>сотрудник</td>\n",
       "      <td>0</td>\n",
       "      <td>267628.550329</td>\n",
       "      <td>дополнительное образование</td>\n",
       "    </tr>\n",
       "    <tr>\n",
       "      <td>4</td>\n",
       "      <td>0</td>\n",
       "      <td>340266.072047</td>\n",
       "      <td>53</td>\n",
       "      <td>среднее</td>\n",
       "      <td>1</td>\n",
       "      <td>гражданский брак</td>\n",
       "      <td>1</td>\n",
       "      <td>F</td>\n",
       "      <td>пенсионер</td>\n",
       "      <td>0</td>\n",
       "      <td>158616.077870</td>\n",
       "      <td>сыграть свадьбу</td>\n",
       "    </tr>\n",
       "  </tbody>\n",
       "</table>\n",
       "</div>"
      ],
      "text/plain": [
       "   children  days_employed  dob_years education  education_id  \\\n",
       "0         1    8437.673028         42    высшее             0   \n",
       "1         1    4024.803754         36   среднее             1   \n",
       "2         0    5623.422610         33   Среднее             1   \n",
       "3         3    4124.747207         32   среднее             1   \n",
       "4         0  340266.072047         53   среднее             1   \n",
       "\n",
       "      family_status  family_status_id gender income_type  debt   total_income  \\\n",
       "0   женат / замужем                 0      F   сотрудник     0  253875.639453   \n",
       "1   женат / замужем                 0      F   сотрудник     0  112080.014102   \n",
       "2   женат / замужем                 0      M   сотрудник     0  145885.952297   \n",
       "3   женат / замужем                 0      M   сотрудник     0  267628.550329   \n",
       "4  гражданский брак                 1      F   пенсионер     0  158616.077870   \n",
       "\n",
       "                      purpose  \n",
       "0               покупка жилья  \n",
       "1     приобретение автомобиля  \n",
       "2               покупка жилья  \n",
       "3  дополнительное образование  \n",
       "4             сыграть свадьбу  "
      ]
     },
     "execution_count": 10,
     "metadata": {},
     "output_type": "execute_result"
    }
   ],
   "source": [
    "df.head()"
   ]
  },
  {
   "cell_type": "markdown",
   "metadata": {},
   "source": [
    "Проверяю наличие пропусков в датафрейме:"
   ]
  },
  {
   "cell_type": "code",
   "execution_count": 11,
   "metadata": {
    "scrolled": true
   },
   "outputs": [
    {
     "data": {
      "text/plain": [
       "children            0\n",
       "days_employed       0\n",
       "dob_years           0\n",
       "education           0\n",
       "education_id        0\n",
       "family_status       0\n",
       "family_status_id    0\n",
       "gender              0\n",
       "income_type         0\n",
       "debt                0\n",
       "total_income        0\n",
       "purpose             0\n",
       "dtype: int64"
      ]
     },
     "execution_count": 11,
     "metadata": {},
     "output_type": "execute_result"
    }
   ],
   "source": [
    "df.isna().sum()"
   ]
  },
  {
   "cell_type": "markdown",
   "metadata": {},
   "source": [
    "Для упрощения восприятия и дальнейшей работы, кол-во дней перевожу в года (столбец `days_employed`)"
   ]
  },
  {
   "cell_type": "code",
   "execution_count": 12,
   "metadata": {},
   "outputs": [],
   "source": [
    "def into_years(i):\n",
    "    i = i/365\n",
    "    return i"
   ]
  },
  {
   "cell_type": "code",
   "execution_count": 13,
   "metadata": {},
   "outputs": [],
   "source": [
    "df['days_employed'] = df['days_employed'].apply(into_years)# применяю функцию"
   ]
  },
  {
   "cell_type": "markdown",
   "metadata": {},
   "source": [
    "Проверяю, изменились ли значения в столбце `days_employed`"
   ]
  },
  {
   "cell_type": "code",
   "execution_count": 14,
   "metadata": {
    "scrolled": true
   },
   "outputs": [
    {
     "data": {
      "text/html": [
       "<div>\n",
       "<style scoped>\n",
       "    .dataframe tbody tr th:only-of-type {\n",
       "        vertical-align: middle;\n",
       "    }\n",
       "\n",
       "    .dataframe tbody tr th {\n",
       "        vertical-align: top;\n",
       "    }\n",
       "\n",
       "    .dataframe thead th {\n",
       "        text-align: right;\n",
       "    }\n",
       "</style>\n",
       "<table border=\"1\" class=\"dataframe\">\n",
       "  <thead>\n",
       "    <tr style=\"text-align: right;\">\n",
       "      <th></th>\n",
       "      <th>children</th>\n",
       "      <th>days_employed</th>\n",
       "      <th>dob_years</th>\n",
       "      <th>education</th>\n",
       "      <th>education_id</th>\n",
       "      <th>family_status</th>\n",
       "      <th>family_status_id</th>\n",
       "      <th>gender</th>\n",
       "      <th>income_type</th>\n",
       "      <th>debt</th>\n",
       "      <th>total_income</th>\n",
       "      <th>purpose</th>\n",
       "    </tr>\n",
       "  </thead>\n",
       "  <tbody>\n",
       "    <tr>\n",
       "      <td>0</td>\n",
       "      <td>1</td>\n",
       "      <td>23.116912</td>\n",
       "      <td>42</td>\n",
       "      <td>высшее</td>\n",
       "      <td>0</td>\n",
       "      <td>женат / замужем</td>\n",
       "      <td>0</td>\n",
       "      <td>F</td>\n",
       "      <td>сотрудник</td>\n",
       "      <td>0</td>\n",
       "      <td>253875.639453</td>\n",
       "      <td>покупка жилья</td>\n",
       "    </tr>\n",
       "    <tr>\n",
       "      <td>1</td>\n",
       "      <td>1</td>\n",
       "      <td>11.026860</td>\n",
       "      <td>36</td>\n",
       "      <td>среднее</td>\n",
       "      <td>1</td>\n",
       "      <td>женат / замужем</td>\n",
       "      <td>0</td>\n",
       "      <td>F</td>\n",
       "      <td>сотрудник</td>\n",
       "      <td>0</td>\n",
       "      <td>112080.014102</td>\n",
       "      <td>приобретение автомобиля</td>\n",
       "    </tr>\n",
       "    <tr>\n",
       "      <td>2</td>\n",
       "      <td>0</td>\n",
       "      <td>15.406637</td>\n",
       "      <td>33</td>\n",
       "      <td>Среднее</td>\n",
       "      <td>1</td>\n",
       "      <td>женат / замужем</td>\n",
       "      <td>0</td>\n",
       "      <td>M</td>\n",
       "      <td>сотрудник</td>\n",
       "      <td>0</td>\n",
       "      <td>145885.952297</td>\n",
       "      <td>покупка жилья</td>\n",
       "    </tr>\n",
       "    <tr>\n",
       "      <td>3</td>\n",
       "      <td>3</td>\n",
       "      <td>11.300677</td>\n",
       "      <td>32</td>\n",
       "      <td>среднее</td>\n",
       "      <td>1</td>\n",
       "      <td>женат / замужем</td>\n",
       "      <td>0</td>\n",
       "      <td>M</td>\n",
       "      <td>сотрудник</td>\n",
       "      <td>0</td>\n",
       "      <td>267628.550329</td>\n",
       "      <td>дополнительное образование</td>\n",
       "    </tr>\n",
       "    <tr>\n",
       "      <td>4</td>\n",
       "      <td>0</td>\n",
       "      <td>932.235814</td>\n",
       "      <td>53</td>\n",
       "      <td>среднее</td>\n",
       "      <td>1</td>\n",
       "      <td>гражданский брак</td>\n",
       "      <td>1</td>\n",
       "      <td>F</td>\n",
       "      <td>пенсионер</td>\n",
       "      <td>0</td>\n",
       "      <td>158616.077870</td>\n",
       "      <td>сыграть свадьбу</td>\n",
       "    </tr>\n",
       "    <tr>\n",
       "      <td>5</td>\n",
       "      <td>0</td>\n",
       "      <td>2.537495</td>\n",
       "      <td>27</td>\n",
       "      <td>высшее</td>\n",
       "      <td>0</td>\n",
       "      <td>гражданский брак</td>\n",
       "      <td>1</td>\n",
       "      <td>M</td>\n",
       "      <td>компаньон</td>\n",
       "      <td>0</td>\n",
       "      <td>255763.565419</td>\n",
       "      <td>покупка жилья</td>\n",
       "    </tr>\n",
       "    <tr>\n",
       "      <td>6</td>\n",
       "      <td>0</td>\n",
       "      <td>7.888225</td>\n",
       "      <td>43</td>\n",
       "      <td>высшее</td>\n",
       "      <td>0</td>\n",
       "      <td>женат / замужем</td>\n",
       "      <td>0</td>\n",
       "      <td>F</td>\n",
       "      <td>компаньон</td>\n",
       "      <td>0</td>\n",
       "      <td>240525.971920</td>\n",
       "      <td>операции с жильем</td>\n",
       "    </tr>\n",
       "    <tr>\n",
       "      <td>7</td>\n",
       "      <td>0</td>\n",
       "      <td>0.418574</td>\n",
       "      <td>50</td>\n",
       "      <td>СРЕДНЕЕ</td>\n",
       "      <td>1</td>\n",
       "      <td>женат / замужем</td>\n",
       "      <td>0</td>\n",
       "      <td>M</td>\n",
       "      <td>сотрудник</td>\n",
       "      <td>0</td>\n",
       "      <td>135823.934197</td>\n",
       "      <td>образование</td>\n",
       "    </tr>\n",
       "    <tr>\n",
       "      <td>8</td>\n",
       "      <td>2</td>\n",
       "      <td>18.985932</td>\n",
       "      <td>35</td>\n",
       "      <td>ВЫСШЕЕ</td>\n",
       "      <td>0</td>\n",
       "      <td>гражданский брак</td>\n",
       "      <td>1</td>\n",
       "      <td>F</td>\n",
       "      <td>сотрудник</td>\n",
       "      <td>0</td>\n",
       "      <td>95856.832424</td>\n",
       "      <td>на проведение свадьбы</td>\n",
       "    </tr>\n",
       "    <tr>\n",
       "      <td>9</td>\n",
       "      <td>0</td>\n",
       "      <td>5.996593</td>\n",
       "      <td>41</td>\n",
       "      <td>среднее</td>\n",
       "      <td>1</td>\n",
       "      <td>женат / замужем</td>\n",
       "      <td>0</td>\n",
       "      <td>M</td>\n",
       "      <td>сотрудник</td>\n",
       "      <td>0</td>\n",
       "      <td>144425.938277</td>\n",
       "      <td>покупка жилья для семьи</td>\n",
       "    </tr>\n",
       "    <tr>\n",
       "      <td>10</td>\n",
       "      <td>2</td>\n",
       "      <td>11.428722</td>\n",
       "      <td>36</td>\n",
       "      <td>высшее</td>\n",
       "      <td>0</td>\n",
       "      <td>женат / замужем</td>\n",
       "      <td>0</td>\n",
       "      <td>M</td>\n",
       "      <td>компаньон</td>\n",
       "      <td>0</td>\n",
       "      <td>113943.491460</td>\n",
       "      <td>покупка недвижимости</td>\n",
       "    </tr>\n",
       "    <tr>\n",
       "      <td>11</td>\n",
       "      <td>0</td>\n",
       "      <td>2.171786</td>\n",
       "      <td>40</td>\n",
       "      <td>среднее</td>\n",
       "      <td>1</td>\n",
       "      <td>женат / замужем</td>\n",
       "      <td>0</td>\n",
       "      <td>F</td>\n",
       "      <td>сотрудник</td>\n",
       "      <td>0</td>\n",
       "      <td>77069.234271</td>\n",
       "      <td>покупка коммерческой недвижимости</td>\n",
       "    </tr>\n",
       "    <tr>\n",
       "      <td>12</td>\n",
       "      <td>0</td>\n",
       "      <td>6.011563</td>\n",
       "      <td>65</td>\n",
       "      <td>среднее</td>\n",
       "      <td>1</td>\n",
       "      <td>гражданский брак</td>\n",
       "      <td>1</td>\n",
       "      <td>M</td>\n",
       "      <td>пенсионер</td>\n",
       "      <td>0</td>\n",
       "      <td>145017.937533</td>\n",
       "      <td>сыграть свадьбу</td>\n",
       "    </tr>\n",
       "    <tr>\n",
       "      <td>13</td>\n",
       "      <td>0</td>\n",
       "      <td>5.059293</td>\n",
       "      <td>54</td>\n",
       "      <td>неоконченное высшее</td>\n",
       "      <td>2</td>\n",
       "      <td>женат / замужем</td>\n",
       "      <td>0</td>\n",
       "      <td>F</td>\n",
       "      <td>сотрудник</td>\n",
       "      <td>0</td>\n",
       "      <td>130458.228857</td>\n",
       "      <td>приобретение автомобиля</td>\n",
       "    </tr>\n",
       "    <tr>\n",
       "      <td>14</td>\n",
       "      <td>0</td>\n",
       "      <td>5.054674</td>\n",
       "      <td>56</td>\n",
       "      <td>высшее</td>\n",
       "      <td>0</td>\n",
       "      <td>гражданский брак</td>\n",
       "      <td>1</td>\n",
       "      <td>F</td>\n",
       "      <td>компаньон</td>\n",
       "      <td>1</td>\n",
       "      <td>165127.911772</td>\n",
       "      <td>покупка жилой недвижимости</td>\n",
       "    </tr>\n",
       "    <tr>\n",
       "      <td>15</td>\n",
       "      <td>1</td>\n",
       "      <td>2.664012</td>\n",
       "      <td>26</td>\n",
       "      <td>среднее</td>\n",
       "      <td>1</td>\n",
       "      <td>женат / замужем</td>\n",
       "      <td>0</td>\n",
       "      <td>F</td>\n",
       "      <td>сотрудник</td>\n",
       "      <td>0</td>\n",
       "      <td>116820.904450</td>\n",
       "      <td>строительство собственной недвижимости</td>\n",
       "    </tr>\n",
       "    <tr>\n",
       "      <td>16</td>\n",
       "      <td>0</td>\n",
       "      <td>4.712149</td>\n",
       "      <td>35</td>\n",
       "      <td>среднее</td>\n",
       "      <td>1</td>\n",
       "      <td>женат / замужем</td>\n",
       "      <td>0</td>\n",
       "      <td>F</td>\n",
       "      <td>сотрудник</td>\n",
       "      <td>0</td>\n",
       "      <td>289202.704229</td>\n",
       "      <td>недвижимость</td>\n",
       "    </tr>\n",
       "    <tr>\n",
       "      <td>17</td>\n",
       "      <td>0</td>\n",
       "      <td>6.493150</td>\n",
       "      <td>33</td>\n",
       "      <td>высшее</td>\n",
       "      <td>0</td>\n",
       "      <td>гражданский брак</td>\n",
       "      <td>1</td>\n",
       "      <td>M</td>\n",
       "      <td>сотрудник</td>\n",
       "      <td>0</td>\n",
       "      <td>90410.586745</td>\n",
       "      <td>строительство недвижимости</td>\n",
       "    </tr>\n",
       "    <tr>\n",
       "      <td>18</td>\n",
       "      <td>0</td>\n",
       "      <td>1096.660649</td>\n",
       "      <td>53</td>\n",
       "      <td>среднее</td>\n",
       "      <td>1</td>\n",
       "      <td>вдовец / вдова</td>\n",
       "      <td>2</td>\n",
       "      <td>F</td>\n",
       "      <td>пенсионер</td>\n",
       "      <td>0</td>\n",
       "      <td>56823.777243</td>\n",
       "      <td>на покупку подержанного автомобиля</td>\n",
       "    </tr>\n",
       "    <tr>\n",
       "      <td>19</td>\n",
       "      <td>0</td>\n",
       "      <td>27.503612</td>\n",
       "      <td>48</td>\n",
       "      <td>СРЕДНЕЕ</td>\n",
       "      <td>1</td>\n",
       "      <td>в разводе</td>\n",
       "      <td>3</td>\n",
       "      <td>F</td>\n",
       "      <td>сотрудник</td>\n",
       "      <td>0</td>\n",
       "      <td>242831.107982</td>\n",
       "      <td>на покупку своего автомобиля</td>\n",
       "    </tr>\n",
       "    <tr>\n",
       "      <td>20</td>\n",
       "      <td>1</td>\n",
       "      <td>3.593436</td>\n",
       "      <td>36</td>\n",
       "      <td>среднее</td>\n",
       "      <td>1</td>\n",
       "      <td>женат / замужем</td>\n",
       "      <td>0</td>\n",
       "      <td>M</td>\n",
       "      <td>сотрудник</td>\n",
       "      <td>0</td>\n",
       "      <td>209552.644578</td>\n",
       "      <td>недвижимость</td>\n",
       "    </tr>\n",
       "    <tr>\n",
       "      <td>21</td>\n",
       "      <td>1</td>\n",
       "      <td>0.695028</td>\n",
       "      <td>33</td>\n",
       "      <td>среднее</td>\n",
       "      <td>1</td>\n",
       "      <td>гражданский брак</td>\n",
       "      <td>1</td>\n",
       "      <td>F</td>\n",
       "      <td>сотрудник</td>\n",
       "      <td>0</td>\n",
       "      <td>131812.203909</td>\n",
       "      <td>приобретение автомобиля</td>\n",
       "    </tr>\n",
       "    <tr>\n",
       "      <td>22</td>\n",
       "      <td>1</td>\n",
       "      <td>4.840121</td>\n",
       "      <td>24</td>\n",
       "      <td>среднее</td>\n",
       "      <td>1</td>\n",
       "      <td>гражданский брак</td>\n",
       "      <td>1</td>\n",
       "      <td>F</td>\n",
       "      <td>сотрудник</td>\n",
       "      <td>0</td>\n",
       "      <td>149681.140731</td>\n",
       "      <td>на покупку подержанного автомобиля</td>\n",
       "    </tr>\n",
       "    <tr>\n",
       "      <td>23</td>\n",
       "      <td>0</td>\n",
       "      <td>0.747894</td>\n",
       "      <td>21</td>\n",
       "      <td>высшее</td>\n",
       "      <td>0</td>\n",
       "      <td>гражданский брак</td>\n",
       "      <td>1</td>\n",
       "      <td>M</td>\n",
       "      <td>сотрудник</td>\n",
       "      <td>0</td>\n",
       "      <td>128265.720871</td>\n",
       "      <td>сыграть свадьбу</td>\n",
       "    </tr>\n",
       "    <tr>\n",
       "      <td>24</td>\n",
       "      <td>1</td>\n",
       "      <td>927.539597</td>\n",
       "      <td>57</td>\n",
       "      <td>среднее</td>\n",
       "      <td>1</td>\n",
       "      <td>Не женат / не замужем</td>\n",
       "      <td>4</td>\n",
       "      <td>F</td>\n",
       "      <td>пенсионер</td>\n",
       "      <td>0</td>\n",
       "      <td>290547.235997</td>\n",
       "      <td>операции с коммерческой недвижимостью</td>\n",
       "    </tr>\n",
       "    <tr>\n",
       "      <td>25</td>\n",
       "      <td>0</td>\n",
       "      <td>996.023258</td>\n",
       "      <td>67</td>\n",
       "      <td>среднее</td>\n",
       "      <td>1</td>\n",
       "      <td>женат / замужем</td>\n",
       "      <td>0</td>\n",
       "      <td>M</td>\n",
       "      <td>пенсионер</td>\n",
       "      <td>0</td>\n",
       "      <td>55112.757732</td>\n",
       "      <td>покупка недвижимости</td>\n",
       "    </tr>\n",
       "    <tr>\n",
       "      <td>26</td>\n",
       "      <td>0</td>\n",
       "      <td>6.011563</td>\n",
       "      <td>41</td>\n",
       "      <td>среднее</td>\n",
       "      <td>1</td>\n",
       "      <td>женат / замужем</td>\n",
       "      <td>0</td>\n",
       "      <td>M</td>\n",
       "      <td>госслужащий</td>\n",
       "      <td>0</td>\n",
       "      <td>145017.937533</td>\n",
       "      <td>образование</td>\n",
       "    </tr>\n",
       "    <tr>\n",
       "      <td>27</td>\n",
       "      <td>0</td>\n",
       "      <td>1.449840</td>\n",
       "      <td>28</td>\n",
       "      <td>высшее</td>\n",
       "      <td>0</td>\n",
       "      <td>женат / замужем</td>\n",
       "      <td>0</td>\n",
       "      <td>M</td>\n",
       "      <td>сотрудник</td>\n",
       "      <td>0</td>\n",
       "      <td>308848.983691</td>\n",
       "      <td>строительство собственной недвижимости</td>\n",
       "    </tr>\n",
       "    <tr>\n",
       "      <td>28</td>\n",
       "      <td>1</td>\n",
       "      <td>1.965135</td>\n",
       "      <td>26</td>\n",
       "      <td>высшее</td>\n",
       "      <td>0</td>\n",
       "      <td>женат / замужем</td>\n",
       "      <td>0</td>\n",
       "      <td>F</td>\n",
       "      <td>сотрудник</td>\n",
       "      <td>0</td>\n",
       "      <td>187863.237306</td>\n",
       "      <td>строительство собственной недвижимости</td>\n",
       "    </tr>\n",
       "    <tr>\n",
       "      <td>29</td>\n",
       "      <td>0</td>\n",
       "      <td>6.011563</td>\n",
       "      <td>63</td>\n",
       "      <td>среднее</td>\n",
       "      <td>1</td>\n",
       "      <td>Не женат / не замужем</td>\n",
       "      <td>4</td>\n",
       "      <td>F</td>\n",
       "      <td>пенсионер</td>\n",
       "      <td>0</td>\n",
       "      <td>145017.937533</td>\n",
       "      <td>строительство жилой недвижимости</td>\n",
       "    </tr>\n",
       "    <tr>\n",
       "      <td>30</td>\n",
       "      <td>1</td>\n",
       "      <td>919.401832</td>\n",
       "      <td>62</td>\n",
       "      <td>среднее</td>\n",
       "      <td>1</td>\n",
       "      <td>женат / замужем</td>\n",
       "      <td>0</td>\n",
       "      <td>F</td>\n",
       "      <td>пенсионер</td>\n",
       "      <td>0</td>\n",
       "      <td>171456.067993</td>\n",
       "      <td>операции с коммерческой недвижимостью</td>\n",
       "    </tr>\n",
       "    <tr>\n",
       "      <td>31</td>\n",
       "      <td>0</td>\n",
       "      <td>4.608448</td>\n",
       "      <td>47</td>\n",
       "      <td>начальное</td>\n",
       "      <td>3</td>\n",
       "      <td>женат / замужем</td>\n",
       "      <td>0</td>\n",
       "      <td>F</td>\n",
       "      <td>сотрудник</td>\n",
       "      <td>0</td>\n",
       "      <td>275485.684538</td>\n",
       "      <td>жилье</td>\n",
       "    </tr>\n",
       "    <tr>\n",
       "      <td>32</td>\n",
       "      <td>0</td>\n",
       "      <td>12.739482</td>\n",
       "      <td>34</td>\n",
       "      <td>СРЕДНЕЕ</td>\n",
       "      <td>1</td>\n",
       "      <td>гражданский брак</td>\n",
       "      <td>1</td>\n",
       "      <td>F</td>\n",
       "      <td>сотрудник</td>\n",
       "      <td>1</td>\n",
       "      <td>139057.464207</td>\n",
       "      <td>на проведение свадьбы</td>\n",
       "    </tr>\n",
       "    <tr>\n",
       "      <td>33</td>\n",
       "      <td>0</td>\n",
       "      <td>4.242843</td>\n",
       "      <td>48</td>\n",
       "      <td>среднее</td>\n",
       "      <td>1</td>\n",
       "      <td>женат / замужем</td>\n",
       "      <td>0</td>\n",
       "      <td>F</td>\n",
       "      <td>компаньон</td>\n",
       "      <td>0</td>\n",
       "      <td>157245.786233</td>\n",
       "      <td>покупка жилья</td>\n",
       "    </tr>\n",
       "    <tr>\n",
       "      <td>34</td>\n",
       "      <td>0</td>\n",
       "      <td>12.296074</td>\n",
       "      <td>35</td>\n",
       "      <td>среднее</td>\n",
       "      <td>1</td>\n",
       "      <td>женат / замужем</td>\n",
       "      <td>0</td>\n",
       "      <td>F</td>\n",
       "      <td>сотрудник</td>\n",
       "      <td>0</td>\n",
       "      <td>104660.449203</td>\n",
       "      <td>операции со своей недвижимостью</td>\n",
       "    </tr>\n",
       "    <tr>\n",
       "      <td>35</td>\n",
       "      <td>0</td>\n",
       "      <td>1079.509787</td>\n",
       "      <td>68</td>\n",
       "      <td>среднее</td>\n",
       "      <td>1</td>\n",
       "      <td>гражданский брак</td>\n",
       "      <td>1</td>\n",
       "      <td>M</td>\n",
       "      <td>пенсионер</td>\n",
       "      <td>0</td>\n",
       "      <td>77805.677436</td>\n",
       "      <td>на проведение свадьбы</td>\n",
       "    </tr>\n",
       "    <tr>\n",
       "      <td>36</td>\n",
       "      <td>0</td>\n",
       "      <td>0.482785</td>\n",
       "      <td>33</td>\n",
       "      <td>среднее</td>\n",
       "      <td>1</td>\n",
       "      <td>Не женат / не замужем</td>\n",
       "      <td>4</td>\n",
       "      <td>M</td>\n",
       "      <td>сотрудник</td>\n",
       "      <td>0</td>\n",
       "      <td>138830.650734</td>\n",
       "      <td>автомобили</td>\n",
       "    </tr>\n",
       "    <tr>\n",
       "      <td>37</td>\n",
       "      <td>0</td>\n",
       "      <td>17.667975</td>\n",
       "      <td>43</td>\n",
       "      <td>ВЫСШЕЕ</td>\n",
       "      <td>0</td>\n",
       "      <td>гражданский брак</td>\n",
       "      <td>1</td>\n",
       "      <td>F</td>\n",
       "      <td>компаньон</td>\n",
       "      <td>0</td>\n",
       "      <td>154128.878672</td>\n",
       "      <td>приобретение автомобиля</td>\n",
       "    </tr>\n",
       "    <tr>\n",
       "      <td>38</td>\n",
       "      <td>0</td>\n",
       "      <td>1.638032</td>\n",
       "      <td>25</td>\n",
       "      <td>высшее</td>\n",
       "      <td>0</td>\n",
       "      <td>Не женат / не замужем</td>\n",
       "      <td>4</td>\n",
       "      <td>M</td>\n",
       "      <td>сотрудник</td>\n",
       "      <td>1</td>\n",
       "      <td>192247.298639</td>\n",
       "      <td>образование</td>\n",
       "    </tr>\n",
       "    <tr>\n",
       "      <td>39</td>\n",
       "      <td>0</td>\n",
       "      <td>1.782432</td>\n",
       "      <td>31</td>\n",
       "      <td>высшее</td>\n",
       "      <td>0</td>\n",
       "      <td>гражданский брак</td>\n",
       "      <td>1</td>\n",
       "      <td>F</td>\n",
       "      <td>компаньон</td>\n",
       "      <td>0</td>\n",
       "      <td>754240.797248</td>\n",
       "      <td>заняться образованием</td>\n",
       "    </tr>\n",
       "    <tr>\n",
       "      <td>40</td>\n",
       "      <td>0</td>\n",
       "      <td>2.822911</td>\n",
       "      <td>30</td>\n",
       "      <td>среднее</td>\n",
       "      <td>1</td>\n",
       "      <td>Не женат / не замужем</td>\n",
       "      <td>4</td>\n",
       "      <td>M</td>\n",
       "      <td>компаньон</td>\n",
       "      <td>0</td>\n",
       "      <td>142865.579146</td>\n",
       "      <td>покупка недвижимости</td>\n",
       "    </tr>\n",
       "    <tr>\n",
       "      <td>41</td>\n",
       "      <td>0</td>\n",
       "      <td>6.011563</td>\n",
       "      <td>50</td>\n",
       "      <td>среднее</td>\n",
       "      <td>1</td>\n",
       "      <td>женат / замужем</td>\n",
       "      <td>0</td>\n",
       "      <td>F</td>\n",
       "      <td>госслужащий</td>\n",
       "      <td>0</td>\n",
       "      <td>145017.937533</td>\n",
       "      <td>сделка с подержанным автомобилем</td>\n",
       "    </tr>\n",
       "    <tr>\n",
       "      <td>42</td>\n",
       "      <td>0</td>\n",
       "      <td>3.445195</td>\n",
       "      <td>20</td>\n",
       "      <td>неоконченное высшее</td>\n",
       "      <td>2</td>\n",
       "      <td>Не женат / не замужем</td>\n",
       "      <td>4</td>\n",
       "      <td>F</td>\n",
       "      <td>сотрудник</td>\n",
       "      <td>0</td>\n",
       "      <td>82065.089021</td>\n",
       "      <td>получение образования</td>\n",
       "    </tr>\n",
       "    <tr>\n",
       "      <td>43</td>\n",
       "      <td>0</td>\n",
       "      <td>11.988168</td>\n",
       "      <td>43</td>\n",
       "      <td>неоконченное высшее</td>\n",
       "      <td>2</td>\n",
       "      <td>в разводе</td>\n",
       "      <td>3</td>\n",
       "      <td>F</td>\n",
       "      <td>компаньон</td>\n",
       "      <td>0</td>\n",
       "      <td>272957.133509</td>\n",
       "      <td>приобретение автомобиля</td>\n",
       "    </tr>\n",
       "    <tr>\n",
       "      <td>44</td>\n",
       "      <td>1</td>\n",
       "      <td>3.731621</td>\n",
       "      <td>26</td>\n",
       "      <td>СРЕДНЕЕ</td>\n",
       "      <td>1</td>\n",
       "      <td>женат / замужем</td>\n",
       "      <td>0</td>\n",
       "      <td>F</td>\n",
       "      <td>сотрудник</td>\n",
       "      <td>0</td>\n",
       "      <td>100780.496749</td>\n",
       "      <td>на покупку своего автомобиля</td>\n",
       "    </tr>\n",
       "    <tr>\n",
       "      <td>45</td>\n",
       "      <td>1</td>\n",
       "      <td>2.847813</td>\n",
       "      <td>49</td>\n",
       "      <td>среднее</td>\n",
       "      <td>1</td>\n",
       "      <td>Не женат / не замужем</td>\n",
       "      <td>4</td>\n",
       "      <td>F</td>\n",
       "      <td>сотрудник</td>\n",
       "      <td>0</td>\n",
       "      <td>106385.919724</td>\n",
       "      <td>заняться образованием</td>\n",
       "    </tr>\n",
       "    <tr>\n",
       "      <td>46</td>\n",
       "      <td>2</td>\n",
       "      <td>6.199212</td>\n",
       "      <td>37</td>\n",
       "      <td>среднее</td>\n",
       "      <td>1</td>\n",
       "      <td>женат / замужем</td>\n",
       "      <td>0</td>\n",
       "      <td>F</td>\n",
       "      <td>компаньон</td>\n",
       "      <td>0</td>\n",
       "      <td>182682.459898</td>\n",
       "      <td>сделка с подержанным автомобилем</td>\n",
       "    </tr>\n",
       "    <tr>\n",
       "      <td>47</td>\n",
       "      <td>1</td>\n",
       "      <td>7.367499</td>\n",
       "      <td>33</td>\n",
       "      <td>высшее</td>\n",
       "      <td>0</td>\n",
       "      <td>гражданский брак</td>\n",
       "      <td>1</td>\n",
       "      <td>M</td>\n",
       "      <td>госслужащий</td>\n",
       "      <td>0</td>\n",
       "      <td>356277.909345</td>\n",
       "      <td>на проведение свадьбы</td>\n",
       "    </tr>\n",
       "    <tr>\n",
       "      <td>48</td>\n",
       "      <td>0</td>\n",
       "      <td>9.153611</td>\n",
       "      <td>45</td>\n",
       "      <td>среднее</td>\n",
       "      <td>1</td>\n",
       "      <td>женат / замужем</td>\n",
       "      <td>0</td>\n",
       "      <td>F</td>\n",
       "      <td>сотрудник</td>\n",
       "      <td>0</td>\n",
       "      <td>162065.516450</td>\n",
       "      <td>строительство собственной недвижимости</td>\n",
       "    </tr>\n",
       "    <tr>\n",
       "      <td>49</td>\n",
       "      <td>0</td>\n",
       "      <td>3.236831</td>\n",
       "      <td>54</td>\n",
       "      <td>среднее</td>\n",
       "      <td>1</td>\n",
       "      <td>женат / замужем</td>\n",
       "      <td>0</td>\n",
       "      <td>F</td>\n",
       "      <td>сотрудник</td>\n",
       "      <td>0</td>\n",
       "      <td>44591.806888</td>\n",
       "      <td>автомобиль</td>\n",
       "    </tr>\n",
       "    <tr>\n",
       "      <td>50</td>\n",
       "      <td>0</td>\n",
       "      <td>969.127212</td>\n",
       "      <td>63</td>\n",
       "      <td>среднее</td>\n",
       "      <td>1</td>\n",
       "      <td>женат / замужем</td>\n",
       "      <td>0</td>\n",
       "      <td>F</td>\n",
       "      <td>пенсионер</td>\n",
       "      <td>0</td>\n",
       "      <td>92342.730612</td>\n",
       "      <td>автомобили</td>\n",
       "    </tr>\n",
       "    <tr>\n",
       "      <td>51</td>\n",
       "      <td>1</td>\n",
       "      <td>19.051046</td>\n",
       "      <td>50</td>\n",
       "      <td>высшее</td>\n",
       "      <td>0</td>\n",
       "      <td>гражданский брак</td>\n",
       "      <td>1</td>\n",
       "      <td>F</td>\n",
       "      <td>сотрудник</td>\n",
       "      <td>0</td>\n",
       "      <td>203199.683569</td>\n",
       "      <td>свадьба</td>\n",
       "    </tr>\n",
       "    <tr>\n",
       "      <td>52</td>\n",
       "      <td>1</td>\n",
       "      <td>9.738826</td>\n",
       "      <td>28</td>\n",
       "      <td>среднее</td>\n",
       "      <td>1</td>\n",
       "      <td>женат / замужем</td>\n",
       "      <td>0</td>\n",
       "      <td>F</td>\n",
       "      <td>сотрудник</td>\n",
       "      <td>0</td>\n",
       "      <td>52746.422324</td>\n",
       "      <td>получение дополнительного образования</td>\n",
       "    </tr>\n",
       "    <tr>\n",
       "      <td>53</td>\n",
       "      <td>0</td>\n",
       "      <td>11.561324</td>\n",
       "      <td>61</td>\n",
       "      <td>СРЕДНЕЕ</td>\n",
       "      <td>1</td>\n",
       "      <td>в разводе</td>\n",
       "      <td>3</td>\n",
       "      <td>F</td>\n",
       "      <td>компаньон</td>\n",
       "      <td>0</td>\n",
       "      <td>311453.599530</td>\n",
       "      <td>покупка своего жилья</td>\n",
       "    </tr>\n",
       "    <tr>\n",
       "      <td>54</td>\n",
       "      <td>0</td>\n",
       "      <td>9.534446</td>\n",
       "      <td>27</td>\n",
       "      <td>высшее</td>\n",
       "      <td>0</td>\n",
       "      <td>гражданский брак</td>\n",
       "      <td>1</td>\n",
       "      <td>F</td>\n",
       "      <td>сотрудник</td>\n",
       "      <td>0</td>\n",
       "      <td>92238.813111</td>\n",
       "      <td>автомобили</td>\n",
       "    </tr>\n",
       "  </tbody>\n",
       "</table>\n",
       "</div>"
      ],
      "text/plain": [
       "    children  days_employed  dob_years            education  education_id  \\\n",
       "0          1      23.116912         42               высшее             0   \n",
       "1          1      11.026860         36              среднее             1   \n",
       "2          0      15.406637         33              Среднее             1   \n",
       "3          3      11.300677         32              среднее             1   \n",
       "4          0     932.235814         53              среднее             1   \n",
       "5          0       2.537495         27               высшее             0   \n",
       "6          0       7.888225         43               высшее             0   \n",
       "7          0       0.418574         50              СРЕДНЕЕ             1   \n",
       "8          2      18.985932         35               ВЫСШЕЕ             0   \n",
       "9          0       5.996593         41              среднее             1   \n",
       "10         2      11.428722         36               высшее             0   \n",
       "11         0       2.171786         40              среднее             1   \n",
       "12         0       6.011563         65              среднее             1   \n",
       "13         0       5.059293         54  неоконченное высшее             2   \n",
       "14         0       5.054674         56               высшее             0   \n",
       "15         1       2.664012         26              среднее             1   \n",
       "16         0       4.712149         35              среднее             1   \n",
       "17         0       6.493150         33               высшее             0   \n",
       "18         0    1096.660649         53              среднее             1   \n",
       "19         0      27.503612         48              СРЕДНЕЕ             1   \n",
       "20         1       3.593436         36              среднее             1   \n",
       "21         1       0.695028         33              среднее             1   \n",
       "22         1       4.840121         24              среднее             1   \n",
       "23         0       0.747894         21               высшее             0   \n",
       "24         1     927.539597         57              среднее             1   \n",
       "25         0     996.023258         67              среднее             1   \n",
       "26         0       6.011563         41              среднее             1   \n",
       "27         0       1.449840         28               высшее             0   \n",
       "28         1       1.965135         26               высшее             0   \n",
       "29         0       6.011563         63              среднее             1   \n",
       "30         1     919.401832         62              среднее             1   \n",
       "31         0       4.608448         47            начальное             3   \n",
       "32         0      12.739482         34              СРЕДНЕЕ             1   \n",
       "33         0       4.242843         48              среднее             1   \n",
       "34         0      12.296074         35              среднее             1   \n",
       "35         0    1079.509787         68              среднее             1   \n",
       "36         0       0.482785         33              среднее             1   \n",
       "37         0      17.667975         43               ВЫСШЕЕ             0   \n",
       "38         0       1.638032         25               высшее             0   \n",
       "39         0       1.782432         31               высшее             0   \n",
       "40         0       2.822911         30              среднее             1   \n",
       "41         0       6.011563         50              среднее             1   \n",
       "42         0       3.445195         20  неоконченное высшее             2   \n",
       "43         0      11.988168         43  неоконченное высшее             2   \n",
       "44         1       3.731621         26              СРЕДНЕЕ             1   \n",
       "45         1       2.847813         49              среднее             1   \n",
       "46         2       6.199212         37              среднее             1   \n",
       "47         1       7.367499         33               высшее             0   \n",
       "48         0       9.153611         45              среднее             1   \n",
       "49         0       3.236831         54              среднее             1   \n",
       "50         0     969.127212         63              среднее             1   \n",
       "51         1      19.051046         50               высшее             0   \n",
       "52         1       9.738826         28              среднее             1   \n",
       "53         0      11.561324         61              СРЕДНЕЕ             1   \n",
       "54         0       9.534446         27               высшее             0   \n",
       "\n",
       "            family_status  family_status_id gender  income_type  debt  \\\n",
       "0         женат / замужем                 0      F    сотрудник     0   \n",
       "1         женат / замужем                 0      F    сотрудник     0   \n",
       "2         женат / замужем                 0      M    сотрудник     0   \n",
       "3         женат / замужем                 0      M    сотрудник     0   \n",
       "4        гражданский брак                 1      F    пенсионер     0   \n",
       "5        гражданский брак                 1      M    компаньон     0   \n",
       "6         женат / замужем                 0      F    компаньон     0   \n",
       "7         женат / замужем                 0      M    сотрудник     0   \n",
       "8        гражданский брак                 1      F    сотрудник     0   \n",
       "9         женат / замужем                 0      M    сотрудник     0   \n",
       "10        женат / замужем                 0      M    компаньон     0   \n",
       "11        женат / замужем                 0      F    сотрудник     0   \n",
       "12       гражданский брак                 1      M    пенсионер     0   \n",
       "13        женат / замужем                 0      F    сотрудник     0   \n",
       "14       гражданский брак                 1      F    компаньон     1   \n",
       "15        женат / замужем                 0      F    сотрудник     0   \n",
       "16        женат / замужем                 0      F    сотрудник     0   \n",
       "17       гражданский брак                 1      M    сотрудник     0   \n",
       "18         вдовец / вдова                 2      F    пенсионер     0   \n",
       "19              в разводе                 3      F    сотрудник     0   \n",
       "20        женат / замужем                 0      M    сотрудник     0   \n",
       "21       гражданский брак                 1      F    сотрудник     0   \n",
       "22       гражданский брак                 1      F    сотрудник     0   \n",
       "23       гражданский брак                 1      M    сотрудник     0   \n",
       "24  Не женат / не замужем                 4      F    пенсионер     0   \n",
       "25        женат / замужем                 0      M    пенсионер     0   \n",
       "26        женат / замужем                 0      M  госслужащий     0   \n",
       "27        женат / замужем                 0      M    сотрудник     0   \n",
       "28        женат / замужем                 0      F    сотрудник     0   \n",
       "29  Не женат / не замужем                 4      F    пенсионер     0   \n",
       "30        женат / замужем                 0      F    пенсионер     0   \n",
       "31        женат / замужем                 0      F    сотрудник     0   \n",
       "32       гражданский брак                 1      F    сотрудник     1   \n",
       "33        женат / замужем                 0      F    компаньон     0   \n",
       "34        женат / замужем                 0      F    сотрудник     0   \n",
       "35       гражданский брак                 1      M    пенсионер     0   \n",
       "36  Не женат / не замужем                 4      M    сотрудник     0   \n",
       "37       гражданский брак                 1      F    компаньон     0   \n",
       "38  Не женат / не замужем                 4      M    сотрудник     1   \n",
       "39       гражданский брак                 1      F    компаньон     0   \n",
       "40  Не женат / не замужем                 4      M    компаньон     0   \n",
       "41        женат / замужем                 0      F  госслужащий     0   \n",
       "42  Не женат / не замужем                 4      F    сотрудник     0   \n",
       "43              в разводе                 3      F    компаньон     0   \n",
       "44        женат / замужем                 0      F    сотрудник     0   \n",
       "45  Не женат / не замужем                 4      F    сотрудник     0   \n",
       "46        женат / замужем                 0      F    компаньон     0   \n",
       "47       гражданский брак                 1      M  госслужащий     0   \n",
       "48        женат / замужем                 0      F    сотрудник     0   \n",
       "49        женат / замужем                 0      F    сотрудник     0   \n",
       "50        женат / замужем                 0      F    пенсионер     0   \n",
       "51       гражданский брак                 1      F    сотрудник     0   \n",
       "52        женат / замужем                 0      F    сотрудник     0   \n",
       "53              в разводе                 3      F    компаньон     0   \n",
       "54       гражданский брак                 1      F    сотрудник     0   \n",
       "\n",
       "     total_income                                 purpose  \n",
       "0   253875.639453                           покупка жилья  \n",
       "1   112080.014102                 приобретение автомобиля  \n",
       "2   145885.952297                           покупка жилья  \n",
       "3   267628.550329              дополнительное образование  \n",
       "4   158616.077870                         сыграть свадьбу  \n",
       "5   255763.565419                           покупка жилья  \n",
       "6   240525.971920                       операции с жильем  \n",
       "7   135823.934197                             образование  \n",
       "8    95856.832424                   на проведение свадьбы  \n",
       "9   144425.938277                 покупка жилья для семьи  \n",
       "10  113943.491460                    покупка недвижимости  \n",
       "11   77069.234271       покупка коммерческой недвижимости  \n",
       "12  145017.937533                         сыграть свадьбу  \n",
       "13  130458.228857                 приобретение автомобиля  \n",
       "14  165127.911772              покупка жилой недвижимости  \n",
       "15  116820.904450  строительство собственной недвижимости  \n",
       "16  289202.704229                            недвижимость  \n",
       "17   90410.586745              строительство недвижимости  \n",
       "18   56823.777243      на покупку подержанного автомобиля  \n",
       "19  242831.107982            на покупку своего автомобиля  \n",
       "20  209552.644578                            недвижимость  \n",
       "21  131812.203909                 приобретение автомобиля  \n",
       "22  149681.140731      на покупку подержанного автомобиля  \n",
       "23  128265.720871                         сыграть свадьбу  \n",
       "24  290547.235997   операции с коммерческой недвижимостью  \n",
       "25   55112.757732                    покупка недвижимости  \n",
       "26  145017.937533                             образование  \n",
       "27  308848.983691  строительство собственной недвижимости  \n",
       "28  187863.237306  строительство собственной недвижимости  \n",
       "29  145017.937533        строительство жилой недвижимости  \n",
       "30  171456.067993   операции с коммерческой недвижимостью  \n",
       "31  275485.684538                                   жилье  \n",
       "32  139057.464207                   на проведение свадьбы  \n",
       "33  157245.786233                           покупка жилья  \n",
       "34  104660.449203         операции со своей недвижимостью  \n",
       "35   77805.677436                   на проведение свадьбы  \n",
       "36  138830.650734                              автомобили  \n",
       "37  154128.878672                 приобретение автомобиля  \n",
       "38  192247.298639                             образование  \n",
       "39  754240.797248                   заняться образованием  \n",
       "40  142865.579146                    покупка недвижимости  \n",
       "41  145017.937533        сделка с подержанным автомобилем  \n",
       "42   82065.089021                   получение образования  \n",
       "43  272957.133509                 приобретение автомобиля  \n",
       "44  100780.496749            на покупку своего автомобиля  \n",
       "45  106385.919724                   заняться образованием  \n",
       "46  182682.459898        сделка с подержанным автомобилем  \n",
       "47  356277.909345                   на проведение свадьбы  \n",
       "48  162065.516450  строительство собственной недвижимости  \n",
       "49   44591.806888                              автомобиль  \n",
       "50   92342.730612                              автомобили  \n",
       "51  203199.683569                                 свадьба  \n",
       "52   52746.422324   получение дополнительного образования  \n",
       "53  311453.599530                    покупка своего жилья  \n",
       "54   92238.813111                              автомобили  "
      ]
     },
     "execution_count": 14,
     "metadata": {},
     "output_type": "execute_result"
    }
   ],
   "source": [
    "df.head(55)"
   ]
  },
  {
   "cell_type": "code",
   "execution_count": 15,
   "metadata": {},
   "outputs": [],
   "source": [
    "def correct_into_years(i):\n",
    "    if i > 100:\n",
    "        i = i/24\n",
    "    return i\n",
    "df['days_employed'] = df['days_employed'].apply(correct_into_years)"
   ]
  },
  {
   "cell_type": "markdown",
   "metadata": {},
   "source": [
    "Проверим исправленные значения из другой системы измерений( где стаж исчисляется в днях):"
   ]
  },
  {
   "cell_type": "code",
   "execution_count": 16,
   "metadata": {},
   "outputs": [
    {
     "data": {
      "text/html": [
       "<div>\n",
       "<style scoped>\n",
       "    .dataframe tbody tr th:only-of-type {\n",
       "        vertical-align: middle;\n",
       "    }\n",
       "\n",
       "    .dataframe tbody tr th {\n",
       "        vertical-align: top;\n",
       "    }\n",
       "\n",
       "    .dataframe thead th {\n",
       "        text-align: right;\n",
       "    }\n",
       "</style>\n",
       "<table border=\"1\" class=\"dataframe\">\n",
       "  <thead>\n",
       "    <tr style=\"text-align: right;\">\n",
       "      <th></th>\n",
       "      <th>children</th>\n",
       "      <th>days_employed</th>\n",
       "      <th>dob_years</th>\n",
       "      <th>education</th>\n",
       "      <th>education_id</th>\n",
       "      <th>family_status</th>\n",
       "      <th>family_status_id</th>\n",
       "      <th>gender</th>\n",
       "      <th>income_type</th>\n",
       "      <th>debt</th>\n",
       "      <th>total_income</th>\n",
       "      <th>purpose</th>\n",
       "    </tr>\n",
       "  </thead>\n",
       "  <tbody>\n",
       "    <tr>\n",
       "      <td>0</td>\n",
       "      <td>1</td>\n",
       "      <td>23.116912</td>\n",
       "      <td>42</td>\n",
       "      <td>высшее</td>\n",
       "      <td>0</td>\n",
       "      <td>женат / замужем</td>\n",
       "      <td>0</td>\n",
       "      <td>F</td>\n",
       "      <td>сотрудник</td>\n",
       "      <td>0</td>\n",
       "      <td>253875.639453</td>\n",
       "      <td>покупка жилья</td>\n",
       "    </tr>\n",
       "    <tr>\n",
       "      <td>1</td>\n",
       "      <td>1</td>\n",
       "      <td>11.026860</td>\n",
       "      <td>36</td>\n",
       "      <td>среднее</td>\n",
       "      <td>1</td>\n",
       "      <td>женат / замужем</td>\n",
       "      <td>0</td>\n",
       "      <td>F</td>\n",
       "      <td>сотрудник</td>\n",
       "      <td>0</td>\n",
       "      <td>112080.014102</td>\n",
       "      <td>приобретение автомобиля</td>\n",
       "    </tr>\n",
       "    <tr>\n",
       "      <td>2</td>\n",
       "      <td>0</td>\n",
       "      <td>15.406637</td>\n",
       "      <td>33</td>\n",
       "      <td>Среднее</td>\n",
       "      <td>1</td>\n",
       "      <td>женат / замужем</td>\n",
       "      <td>0</td>\n",
       "      <td>M</td>\n",
       "      <td>сотрудник</td>\n",
       "      <td>0</td>\n",
       "      <td>145885.952297</td>\n",
       "      <td>покупка жилья</td>\n",
       "    </tr>\n",
       "    <tr>\n",
       "      <td>3</td>\n",
       "      <td>3</td>\n",
       "      <td>11.300677</td>\n",
       "      <td>32</td>\n",
       "      <td>среднее</td>\n",
       "      <td>1</td>\n",
       "      <td>женат / замужем</td>\n",
       "      <td>0</td>\n",
       "      <td>M</td>\n",
       "      <td>сотрудник</td>\n",
       "      <td>0</td>\n",
       "      <td>267628.550329</td>\n",
       "      <td>дополнительное образование</td>\n",
       "    </tr>\n",
       "    <tr>\n",
       "      <td>4</td>\n",
       "      <td>0</td>\n",
       "      <td>38.843159</td>\n",
       "      <td>53</td>\n",
       "      <td>среднее</td>\n",
       "      <td>1</td>\n",
       "      <td>гражданский брак</td>\n",
       "      <td>1</td>\n",
       "      <td>F</td>\n",
       "      <td>пенсионер</td>\n",
       "      <td>0</td>\n",
       "      <td>158616.077870</td>\n",
       "      <td>сыграть свадьбу</td>\n",
       "    </tr>\n",
       "    <tr>\n",
       "      <td>5</td>\n",
       "      <td>0</td>\n",
       "      <td>2.537495</td>\n",
       "      <td>27</td>\n",
       "      <td>высшее</td>\n",
       "      <td>0</td>\n",
       "      <td>гражданский брак</td>\n",
       "      <td>1</td>\n",
       "      <td>M</td>\n",
       "      <td>компаньон</td>\n",
       "      <td>0</td>\n",
       "      <td>255763.565419</td>\n",
       "      <td>покупка жилья</td>\n",
       "    </tr>\n",
       "    <tr>\n",
       "      <td>6</td>\n",
       "      <td>0</td>\n",
       "      <td>7.888225</td>\n",
       "      <td>43</td>\n",
       "      <td>высшее</td>\n",
       "      <td>0</td>\n",
       "      <td>женат / замужем</td>\n",
       "      <td>0</td>\n",
       "      <td>F</td>\n",
       "      <td>компаньон</td>\n",
       "      <td>0</td>\n",
       "      <td>240525.971920</td>\n",
       "      <td>операции с жильем</td>\n",
       "    </tr>\n",
       "    <tr>\n",
       "      <td>7</td>\n",
       "      <td>0</td>\n",
       "      <td>0.418574</td>\n",
       "      <td>50</td>\n",
       "      <td>СРЕДНЕЕ</td>\n",
       "      <td>1</td>\n",
       "      <td>женат / замужем</td>\n",
       "      <td>0</td>\n",
       "      <td>M</td>\n",
       "      <td>сотрудник</td>\n",
       "      <td>0</td>\n",
       "      <td>135823.934197</td>\n",
       "      <td>образование</td>\n",
       "    </tr>\n",
       "    <tr>\n",
       "      <td>8</td>\n",
       "      <td>2</td>\n",
       "      <td>18.985932</td>\n",
       "      <td>35</td>\n",
       "      <td>ВЫСШЕЕ</td>\n",
       "      <td>0</td>\n",
       "      <td>гражданский брак</td>\n",
       "      <td>1</td>\n",
       "      <td>F</td>\n",
       "      <td>сотрудник</td>\n",
       "      <td>0</td>\n",
       "      <td>95856.832424</td>\n",
       "      <td>на проведение свадьбы</td>\n",
       "    </tr>\n",
       "    <tr>\n",
       "      <td>9</td>\n",
       "      <td>0</td>\n",
       "      <td>5.996593</td>\n",
       "      <td>41</td>\n",
       "      <td>среднее</td>\n",
       "      <td>1</td>\n",
       "      <td>женат / замужем</td>\n",
       "      <td>0</td>\n",
       "      <td>M</td>\n",
       "      <td>сотрудник</td>\n",
       "      <td>0</td>\n",
       "      <td>144425.938277</td>\n",
       "      <td>покупка жилья для семьи</td>\n",
       "    </tr>\n",
       "    <tr>\n",
       "      <td>10</td>\n",
       "      <td>2</td>\n",
       "      <td>11.428722</td>\n",
       "      <td>36</td>\n",
       "      <td>высшее</td>\n",
       "      <td>0</td>\n",
       "      <td>женат / замужем</td>\n",
       "      <td>0</td>\n",
       "      <td>M</td>\n",
       "      <td>компаньон</td>\n",
       "      <td>0</td>\n",
       "      <td>113943.491460</td>\n",
       "      <td>покупка недвижимости</td>\n",
       "    </tr>\n",
       "    <tr>\n",
       "      <td>11</td>\n",
       "      <td>0</td>\n",
       "      <td>2.171786</td>\n",
       "      <td>40</td>\n",
       "      <td>среднее</td>\n",
       "      <td>1</td>\n",
       "      <td>женат / замужем</td>\n",
       "      <td>0</td>\n",
       "      <td>F</td>\n",
       "      <td>сотрудник</td>\n",
       "      <td>0</td>\n",
       "      <td>77069.234271</td>\n",
       "      <td>покупка коммерческой недвижимости</td>\n",
       "    </tr>\n",
       "    <tr>\n",
       "      <td>12</td>\n",
       "      <td>0</td>\n",
       "      <td>6.011563</td>\n",
       "      <td>65</td>\n",
       "      <td>среднее</td>\n",
       "      <td>1</td>\n",
       "      <td>гражданский брак</td>\n",
       "      <td>1</td>\n",
       "      <td>M</td>\n",
       "      <td>пенсионер</td>\n",
       "      <td>0</td>\n",
       "      <td>145017.937533</td>\n",
       "      <td>сыграть свадьбу</td>\n",
       "    </tr>\n",
       "    <tr>\n",
       "      <td>13</td>\n",
       "      <td>0</td>\n",
       "      <td>5.059293</td>\n",
       "      <td>54</td>\n",
       "      <td>неоконченное высшее</td>\n",
       "      <td>2</td>\n",
       "      <td>женат / замужем</td>\n",
       "      <td>0</td>\n",
       "      <td>F</td>\n",
       "      <td>сотрудник</td>\n",
       "      <td>0</td>\n",
       "      <td>130458.228857</td>\n",
       "      <td>приобретение автомобиля</td>\n",
       "    </tr>\n",
       "    <tr>\n",
       "      <td>14</td>\n",
       "      <td>0</td>\n",
       "      <td>5.054674</td>\n",
       "      <td>56</td>\n",
       "      <td>высшее</td>\n",
       "      <td>0</td>\n",
       "      <td>гражданский брак</td>\n",
       "      <td>1</td>\n",
       "      <td>F</td>\n",
       "      <td>компаньон</td>\n",
       "      <td>1</td>\n",
       "      <td>165127.911772</td>\n",
       "      <td>покупка жилой недвижимости</td>\n",
       "    </tr>\n",
       "    <tr>\n",
       "      <td>15</td>\n",
       "      <td>1</td>\n",
       "      <td>2.664012</td>\n",
       "      <td>26</td>\n",
       "      <td>среднее</td>\n",
       "      <td>1</td>\n",
       "      <td>женат / замужем</td>\n",
       "      <td>0</td>\n",
       "      <td>F</td>\n",
       "      <td>сотрудник</td>\n",
       "      <td>0</td>\n",
       "      <td>116820.904450</td>\n",
       "      <td>строительство собственной недвижимости</td>\n",
       "    </tr>\n",
       "    <tr>\n",
       "      <td>16</td>\n",
       "      <td>0</td>\n",
       "      <td>4.712149</td>\n",
       "      <td>35</td>\n",
       "      <td>среднее</td>\n",
       "      <td>1</td>\n",
       "      <td>женат / замужем</td>\n",
       "      <td>0</td>\n",
       "      <td>F</td>\n",
       "      <td>сотрудник</td>\n",
       "      <td>0</td>\n",
       "      <td>289202.704229</td>\n",
       "      <td>недвижимость</td>\n",
       "    </tr>\n",
       "    <tr>\n",
       "      <td>17</td>\n",
       "      <td>0</td>\n",
       "      <td>6.493150</td>\n",
       "      <td>33</td>\n",
       "      <td>высшее</td>\n",
       "      <td>0</td>\n",
       "      <td>гражданский брак</td>\n",
       "      <td>1</td>\n",
       "      <td>M</td>\n",
       "      <td>сотрудник</td>\n",
       "      <td>0</td>\n",
       "      <td>90410.586745</td>\n",
       "      <td>строительство недвижимости</td>\n",
       "    </tr>\n",
       "    <tr>\n",
       "      <td>18</td>\n",
       "      <td>0</td>\n",
       "      <td>45.694194</td>\n",
       "      <td>53</td>\n",
       "      <td>среднее</td>\n",
       "      <td>1</td>\n",
       "      <td>вдовец / вдова</td>\n",
       "      <td>2</td>\n",
       "      <td>F</td>\n",
       "      <td>пенсионер</td>\n",
       "      <td>0</td>\n",
       "      <td>56823.777243</td>\n",
       "      <td>на покупку подержанного автомобиля</td>\n",
       "    </tr>\n",
       "    <tr>\n",
       "      <td>19</td>\n",
       "      <td>0</td>\n",
       "      <td>27.503612</td>\n",
       "      <td>48</td>\n",
       "      <td>СРЕДНЕЕ</td>\n",
       "      <td>1</td>\n",
       "      <td>в разводе</td>\n",
       "      <td>3</td>\n",
       "      <td>F</td>\n",
       "      <td>сотрудник</td>\n",
       "      <td>0</td>\n",
       "      <td>242831.107982</td>\n",
       "      <td>на покупку своего автомобиля</td>\n",
       "    </tr>\n",
       "    <tr>\n",
       "      <td>20</td>\n",
       "      <td>1</td>\n",
       "      <td>3.593436</td>\n",
       "      <td>36</td>\n",
       "      <td>среднее</td>\n",
       "      <td>1</td>\n",
       "      <td>женат / замужем</td>\n",
       "      <td>0</td>\n",
       "      <td>M</td>\n",
       "      <td>сотрудник</td>\n",
       "      <td>0</td>\n",
       "      <td>209552.644578</td>\n",
       "      <td>недвижимость</td>\n",
       "    </tr>\n",
       "    <tr>\n",
       "      <td>21</td>\n",
       "      <td>1</td>\n",
       "      <td>0.695028</td>\n",
       "      <td>33</td>\n",
       "      <td>среднее</td>\n",
       "      <td>1</td>\n",
       "      <td>гражданский брак</td>\n",
       "      <td>1</td>\n",
       "      <td>F</td>\n",
       "      <td>сотрудник</td>\n",
       "      <td>0</td>\n",
       "      <td>131812.203909</td>\n",
       "      <td>приобретение автомобиля</td>\n",
       "    </tr>\n",
       "    <tr>\n",
       "      <td>22</td>\n",
       "      <td>1</td>\n",
       "      <td>4.840121</td>\n",
       "      <td>24</td>\n",
       "      <td>среднее</td>\n",
       "      <td>1</td>\n",
       "      <td>гражданский брак</td>\n",
       "      <td>1</td>\n",
       "      <td>F</td>\n",
       "      <td>сотрудник</td>\n",
       "      <td>0</td>\n",
       "      <td>149681.140731</td>\n",
       "      <td>на покупку подержанного автомобиля</td>\n",
       "    </tr>\n",
       "    <tr>\n",
       "      <td>23</td>\n",
       "      <td>0</td>\n",
       "      <td>0.747894</td>\n",
       "      <td>21</td>\n",
       "      <td>высшее</td>\n",
       "      <td>0</td>\n",
       "      <td>гражданский брак</td>\n",
       "      <td>1</td>\n",
       "      <td>M</td>\n",
       "      <td>сотрудник</td>\n",
       "      <td>0</td>\n",
       "      <td>128265.720871</td>\n",
       "      <td>сыграть свадьбу</td>\n",
       "    </tr>\n",
       "    <tr>\n",
       "      <td>24</td>\n",
       "      <td>1</td>\n",
       "      <td>38.647483</td>\n",
       "      <td>57</td>\n",
       "      <td>среднее</td>\n",
       "      <td>1</td>\n",
       "      <td>Не женат / не замужем</td>\n",
       "      <td>4</td>\n",
       "      <td>F</td>\n",
       "      <td>пенсионер</td>\n",
       "      <td>0</td>\n",
       "      <td>290547.235997</td>\n",
       "      <td>операции с коммерческой недвижимостью</td>\n",
       "    </tr>\n",
       "    <tr>\n",
       "      <td>25</td>\n",
       "      <td>0</td>\n",
       "      <td>41.500969</td>\n",
       "      <td>67</td>\n",
       "      <td>среднее</td>\n",
       "      <td>1</td>\n",
       "      <td>женат / замужем</td>\n",
       "      <td>0</td>\n",
       "      <td>M</td>\n",
       "      <td>пенсионер</td>\n",
       "      <td>0</td>\n",
       "      <td>55112.757732</td>\n",
       "      <td>покупка недвижимости</td>\n",
       "    </tr>\n",
       "    <tr>\n",
       "      <td>26</td>\n",
       "      <td>0</td>\n",
       "      <td>6.011563</td>\n",
       "      <td>41</td>\n",
       "      <td>среднее</td>\n",
       "      <td>1</td>\n",
       "      <td>женат / замужем</td>\n",
       "      <td>0</td>\n",
       "      <td>M</td>\n",
       "      <td>госслужащий</td>\n",
       "      <td>0</td>\n",
       "      <td>145017.937533</td>\n",
       "      <td>образование</td>\n",
       "    </tr>\n",
       "    <tr>\n",
       "      <td>27</td>\n",
       "      <td>0</td>\n",
       "      <td>1.449840</td>\n",
       "      <td>28</td>\n",
       "      <td>высшее</td>\n",
       "      <td>0</td>\n",
       "      <td>женат / замужем</td>\n",
       "      <td>0</td>\n",
       "      <td>M</td>\n",
       "      <td>сотрудник</td>\n",
       "      <td>0</td>\n",
       "      <td>308848.983691</td>\n",
       "      <td>строительство собственной недвижимости</td>\n",
       "    </tr>\n",
       "    <tr>\n",
       "      <td>28</td>\n",
       "      <td>1</td>\n",
       "      <td>1.965135</td>\n",
       "      <td>26</td>\n",
       "      <td>высшее</td>\n",
       "      <td>0</td>\n",
       "      <td>женат / замужем</td>\n",
       "      <td>0</td>\n",
       "      <td>F</td>\n",
       "      <td>сотрудник</td>\n",
       "      <td>0</td>\n",
       "      <td>187863.237306</td>\n",
       "      <td>строительство собственной недвижимости</td>\n",
       "    </tr>\n",
       "    <tr>\n",
       "      <td>29</td>\n",
       "      <td>0</td>\n",
       "      <td>6.011563</td>\n",
       "      <td>63</td>\n",
       "      <td>среднее</td>\n",
       "      <td>1</td>\n",
       "      <td>Не женат / не замужем</td>\n",
       "      <td>4</td>\n",
       "      <td>F</td>\n",
       "      <td>пенсионер</td>\n",
       "      <td>0</td>\n",
       "      <td>145017.937533</td>\n",
       "      <td>строительство жилой недвижимости</td>\n",
       "    </tr>\n",
       "    <tr>\n",
       "      <td>30</td>\n",
       "      <td>1</td>\n",
       "      <td>38.308410</td>\n",
       "      <td>62</td>\n",
       "      <td>среднее</td>\n",
       "      <td>1</td>\n",
       "      <td>женат / замужем</td>\n",
       "      <td>0</td>\n",
       "      <td>F</td>\n",
       "      <td>пенсионер</td>\n",
       "      <td>0</td>\n",
       "      <td>171456.067993</td>\n",
       "      <td>операции с коммерческой недвижимостью</td>\n",
       "    </tr>\n",
       "    <tr>\n",
       "      <td>31</td>\n",
       "      <td>0</td>\n",
       "      <td>4.608448</td>\n",
       "      <td>47</td>\n",
       "      <td>начальное</td>\n",
       "      <td>3</td>\n",
       "      <td>женат / замужем</td>\n",
       "      <td>0</td>\n",
       "      <td>F</td>\n",
       "      <td>сотрудник</td>\n",
       "      <td>0</td>\n",
       "      <td>275485.684538</td>\n",
       "      <td>жилье</td>\n",
       "    </tr>\n",
       "    <tr>\n",
       "      <td>32</td>\n",
       "      <td>0</td>\n",
       "      <td>12.739482</td>\n",
       "      <td>34</td>\n",
       "      <td>СРЕДНЕЕ</td>\n",
       "      <td>1</td>\n",
       "      <td>гражданский брак</td>\n",
       "      <td>1</td>\n",
       "      <td>F</td>\n",
       "      <td>сотрудник</td>\n",
       "      <td>1</td>\n",
       "      <td>139057.464207</td>\n",
       "      <td>на проведение свадьбы</td>\n",
       "    </tr>\n",
       "    <tr>\n",
       "      <td>33</td>\n",
       "      <td>0</td>\n",
       "      <td>4.242843</td>\n",
       "      <td>48</td>\n",
       "      <td>среднее</td>\n",
       "      <td>1</td>\n",
       "      <td>женат / замужем</td>\n",
       "      <td>0</td>\n",
       "      <td>F</td>\n",
       "      <td>компаньон</td>\n",
       "      <td>0</td>\n",
       "      <td>157245.786233</td>\n",
       "      <td>покупка жилья</td>\n",
       "    </tr>\n",
       "    <tr>\n",
       "      <td>34</td>\n",
       "      <td>0</td>\n",
       "      <td>12.296074</td>\n",
       "      <td>35</td>\n",
       "      <td>среднее</td>\n",
       "      <td>1</td>\n",
       "      <td>женат / замужем</td>\n",
       "      <td>0</td>\n",
       "      <td>F</td>\n",
       "      <td>сотрудник</td>\n",
       "      <td>0</td>\n",
       "      <td>104660.449203</td>\n",
       "      <td>операции со своей недвижимостью</td>\n",
       "    </tr>\n",
       "    <tr>\n",
       "      <td>35</td>\n",
       "      <td>0</td>\n",
       "      <td>44.979574</td>\n",
       "      <td>68</td>\n",
       "      <td>среднее</td>\n",
       "      <td>1</td>\n",
       "      <td>гражданский брак</td>\n",
       "      <td>1</td>\n",
       "      <td>M</td>\n",
       "      <td>пенсионер</td>\n",
       "      <td>0</td>\n",
       "      <td>77805.677436</td>\n",
       "      <td>на проведение свадьбы</td>\n",
       "    </tr>\n",
       "    <tr>\n",
       "      <td>36</td>\n",
       "      <td>0</td>\n",
       "      <td>0.482785</td>\n",
       "      <td>33</td>\n",
       "      <td>среднее</td>\n",
       "      <td>1</td>\n",
       "      <td>Не женат / не замужем</td>\n",
       "      <td>4</td>\n",
       "      <td>M</td>\n",
       "      <td>сотрудник</td>\n",
       "      <td>0</td>\n",
       "      <td>138830.650734</td>\n",
       "      <td>автомобили</td>\n",
       "    </tr>\n",
       "    <tr>\n",
       "      <td>37</td>\n",
       "      <td>0</td>\n",
       "      <td>17.667975</td>\n",
       "      <td>43</td>\n",
       "      <td>ВЫСШЕЕ</td>\n",
       "      <td>0</td>\n",
       "      <td>гражданский брак</td>\n",
       "      <td>1</td>\n",
       "      <td>F</td>\n",
       "      <td>компаньон</td>\n",
       "      <td>0</td>\n",
       "      <td>154128.878672</td>\n",
       "      <td>приобретение автомобиля</td>\n",
       "    </tr>\n",
       "    <tr>\n",
       "      <td>38</td>\n",
       "      <td>0</td>\n",
       "      <td>1.638032</td>\n",
       "      <td>25</td>\n",
       "      <td>высшее</td>\n",
       "      <td>0</td>\n",
       "      <td>Не женат / не замужем</td>\n",
       "      <td>4</td>\n",
       "      <td>M</td>\n",
       "      <td>сотрудник</td>\n",
       "      <td>1</td>\n",
       "      <td>192247.298639</td>\n",
       "      <td>образование</td>\n",
       "    </tr>\n",
       "    <tr>\n",
       "      <td>39</td>\n",
       "      <td>0</td>\n",
       "      <td>1.782432</td>\n",
       "      <td>31</td>\n",
       "      <td>высшее</td>\n",
       "      <td>0</td>\n",
       "      <td>гражданский брак</td>\n",
       "      <td>1</td>\n",
       "      <td>F</td>\n",
       "      <td>компаньон</td>\n",
       "      <td>0</td>\n",
       "      <td>754240.797248</td>\n",
       "      <td>заняться образованием</td>\n",
       "    </tr>\n",
       "    <tr>\n",
       "      <td>40</td>\n",
       "      <td>0</td>\n",
       "      <td>2.822911</td>\n",
       "      <td>30</td>\n",
       "      <td>среднее</td>\n",
       "      <td>1</td>\n",
       "      <td>Не женат / не замужем</td>\n",
       "      <td>4</td>\n",
       "      <td>M</td>\n",
       "      <td>компаньон</td>\n",
       "      <td>0</td>\n",
       "      <td>142865.579146</td>\n",
       "      <td>покупка недвижимости</td>\n",
       "    </tr>\n",
       "    <tr>\n",
       "      <td>41</td>\n",
       "      <td>0</td>\n",
       "      <td>6.011563</td>\n",
       "      <td>50</td>\n",
       "      <td>среднее</td>\n",
       "      <td>1</td>\n",
       "      <td>женат / замужем</td>\n",
       "      <td>0</td>\n",
       "      <td>F</td>\n",
       "      <td>госслужащий</td>\n",
       "      <td>0</td>\n",
       "      <td>145017.937533</td>\n",
       "      <td>сделка с подержанным автомобилем</td>\n",
       "    </tr>\n",
       "    <tr>\n",
       "      <td>42</td>\n",
       "      <td>0</td>\n",
       "      <td>3.445195</td>\n",
       "      <td>20</td>\n",
       "      <td>неоконченное высшее</td>\n",
       "      <td>2</td>\n",
       "      <td>Не женат / не замужем</td>\n",
       "      <td>4</td>\n",
       "      <td>F</td>\n",
       "      <td>сотрудник</td>\n",
       "      <td>0</td>\n",
       "      <td>82065.089021</td>\n",
       "      <td>получение образования</td>\n",
       "    </tr>\n",
       "    <tr>\n",
       "      <td>43</td>\n",
       "      <td>0</td>\n",
       "      <td>11.988168</td>\n",
       "      <td>43</td>\n",
       "      <td>неоконченное высшее</td>\n",
       "      <td>2</td>\n",
       "      <td>в разводе</td>\n",
       "      <td>3</td>\n",
       "      <td>F</td>\n",
       "      <td>компаньон</td>\n",
       "      <td>0</td>\n",
       "      <td>272957.133509</td>\n",
       "      <td>приобретение автомобиля</td>\n",
       "    </tr>\n",
       "    <tr>\n",
       "      <td>44</td>\n",
       "      <td>1</td>\n",
       "      <td>3.731621</td>\n",
       "      <td>26</td>\n",
       "      <td>СРЕДНЕЕ</td>\n",
       "      <td>1</td>\n",
       "      <td>женат / замужем</td>\n",
       "      <td>0</td>\n",
       "      <td>F</td>\n",
       "      <td>сотрудник</td>\n",
       "      <td>0</td>\n",
       "      <td>100780.496749</td>\n",
       "      <td>на покупку своего автомобиля</td>\n",
       "    </tr>\n",
       "    <tr>\n",
       "      <td>45</td>\n",
       "      <td>1</td>\n",
       "      <td>2.847813</td>\n",
       "      <td>49</td>\n",
       "      <td>среднее</td>\n",
       "      <td>1</td>\n",
       "      <td>Не женат / не замужем</td>\n",
       "      <td>4</td>\n",
       "      <td>F</td>\n",
       "      <td>сотрудник</td>\n",
       "      <td>0</td>\n",
       "      <td>106385.919724</td>\n",
       "      <td>заняться образованием</td>\n",
       "    </tr>\n",
       "    <tr>\n",
       "      <td>46</td>\n",
       "      <td>2</td>\n",
       "      <td>6.199212</td>\n",
       "      <td>37</td>\n",
       "      <td>среднее</td>\n",
       "      <td>1</td>\n",
       "      <td>женат / замужем</td>\n",
       "      <td>0</td>\n",
       "      <td>F</td>\n",
       "      <td>компаньон</td>\n",
       "      <td>0</td>\n",
       "      <td>182682.459898</td>\n",
       "      <td>сделка с подержанным автомобилем</td>\n",
       "    </tr>\n",
       "    <tr>\n",
       "      <td>47</td>\n",
       "      <td>1</td>\n",
       "      <td>7.367499</td>\n",
       "      <td>33</td>\n",
       "      <td>высшее</td>\n",
       "      <td>0</td>\n",
       "      <td>гражданский брак</td>\n",
       "      <td>1</td>\n",
       "      <td>M</td>\n",
       "      <td>госслужащий</td>\n",
       "      <td>0</td>\n",
       "      <td>356277.909345</td>\n",
       "      <td>на проведение свадьбы</td>\n",
       "    </tr>\n",
       "    <tr>\n",
       "      <td>48</td>\n",
       "      <td>0</td>\n",
       "      <td>9.153611</td>\n",
       "      <td>45</td>\n",
       "      <td>среднее</td>\n",
       "      <td>1</td>\n",
       "      <td>женат / замужем</td>\n",
       "      <td>0</td>\n",
       "      <td>F</td>\n",
       "      <td>сотрудник</td>\n",
       "      <td>0</td>\n",
       "      <td>162065.516450</td>\n",
       "      <td>строительство собственной недвижимости</td>\n",
       "    </tr>\n",
       "    <tr>\n",
       "      <td>49</td>\n",
       "      <td>0</td>\n",
       "      <td>3.236831</td>\n",
       "      <td>54</td>\n",
       "      <td>среднее</td>\n",
       "      <td>1</td>\n",
       "      <td>женат / замужем</td>\n",
       "      <td>0</td>\n",
       "      <td>F</td>\n",
       "      <td>сотрудник</td>\n",
       "      <td>0</td>\n",
       "      <td>44591.806888</td>\n",
       "      <td>автомобиль</td>\n",
       "    </tr>\n",
       "  </tbody>\n",
       "</table>\n",
       "</div>"
      ],
      "text/plain": [
       "    children  days_employed  dob_years            education  education_id  \\\n",
       "0          1      23.116912         42               высшее             0   \n",
       "1          1      11.026860         36              среднее             1   \n",
       "2          0      15.406637         33              Среднее             1   \n",
       "3          3      11.300677         32              среднее             1   \n",
       "4          0      38.843159         53              среднее             1   \n",
       "5          0       2.537495         27               высшее             0   \n",
       "6          0       7.888225         43               высшее             0   \n",
       "7          0       0.418574         50              СРЕДНЕЕ             1   \n",
       "8          2      18.985932         35               ВЫСШЕЕ             0   \n",
       "9          0       5.996593         41              среднее             1   \n",
       "10         2      11.428722         36               высшее             0   \n",
       "11         0       2.171786         40              среднее             1   \n",
       "12         0       6.011563         65              среднее             1   \n",
       "13         0       5.059293         54  неоконченное высшее             2   \n",
       "14         0       5.054674         56               высшее             0   \n",
       "15         1       2.664012         26              среднее             1   \n",
       "16         0       4.712149         35              среднее             1   \n",
       "17         0       6.493150         33               высшее             0   \n",
       "18         0      45.694194         53              среднее             1   \n",
       "19         0      27.503612         48              СРЕДНЕЕ             1   \n",
       "20         1       3.593436         36              среднее             1   \n",
       "21         1       0.695028         33              среднее             1   \n",
       "22         1       4.840121         24              среднее             1   \n",
       "23         0       0.747894         21               высшее             0   \n",
       "24         1      38.647483         57              среднее             1   \n",
       "25         0      41.500969         67              среднее             1   \n",
       "26         0       6.011563         41              среднее             1   \n",
       "27         0       1.449840         28               высшее             0   \n",
       "28         1       1.965135         26               высшее             0   \n",
       "29         0       6.011563         63              среднее             1   \n",
       "30         1      38.308410         62              среднее             1   \n",
       "31         0       4.608448         47            начальное             3   \n",
       "32         0      12.739482         34              СРЕДНЕЕ             1   \n",
       "33         0       4.242843         48              среднее             1   \n",
       "34         0      12.296074         35              среднее             1   \n",
       "35         0      44.979574         68              среднее             1   \n",
       "36         0       0.482785         33              среднее             1   \n",
       "37         0      17.667975         43               ВЫСШЕЕ             0   \n",
       "38         0       1.638032         25               высшее             0   \n",
       "39         0       1.782432         31               высшее             0   \n",
       "40         0       2.822911         30              среднее             1   \n",
       "41         0       6.011563         50              среднее             1   \n",
       "42         0       3.445195         20  неоконченное высшее             2   \n",
       "43         0      11.988168         43  неоконченное высшее             2   \n",
       "44         1       3.731621         26              СРЕДНЕЕ             1   \n",
       "45         1       2.847813         49              среднее             1   \n",
       "46         2       6.199212         37              среднее             1   \n",
       "47         1       7.367499         33               высшее             0   \n",
       "48         0       9.153611         45              среднее             1   \n",
       "49         0       3.236831         54              среднее             1   \n",
       "\n",
       "            family_status  family_status_id gender  income_type  debt  \\\n",
       "0         женат / замужем                 0      F    сотрудник     0   \n",
       "1         женат / замужем                 0      F    сотрудник     0   \n",
       "2         женат / замужем                 0      M    сотрудник     0   \n",
       "3         женат / замужем                 0      M    сотрудник     0   \n",
       "4        гражданский брак                 1      F    пенсионер     0   \n",
       "5        гражданский брак                 1      M    компаньон     0   \n",
       "6         женат / замужем                 0      F    компаньон     0   \n",
       "7         женат / замужем                 0      M    сотрудник     0   \n",
       "8        гражданский брак                 1      F    сотрудник     0   \n",
       "9         женат / замужем                 0      M    сотрудник     0   \n",
       "10        женат / замужем                 0      M    компаньон     0   \n",
       "11        женат / замужем                 0      F    сотрудник     0   \n",
       "12       гражданский брак                 1      M    пенсионер     0   \n",
       "13        женат / замужем                 0      F    сотрудник     0   \n",
       "14       гражданский брак                 1      F    компаньон     1   \n",
       "15        женат / замужем                 0      F    сотрудник     0   \n",
       "16        женат / замужем                 0      F    сотрудник     0   \n",
       "17       гражданский брак                 1      M    сотрудник     0   \n",
       "18         вдовец / вдова                 2      F    пенсионер     0   \n",
       "19              в разводе                 3      F    сотрудник     0   \n",
       "20        женат / замужем                 0      M    сотрудник     0   \n",
       "21       гражданский брак                 1      F    сотрудник     0   \n",
       "22       гражданский брак                 1      F    сотрудник     0   \n",
       "23       гражданский брак                 1      M    сотрудник     0   \n",
       "24  Не женат / не замужем                 4      F    пенсионер     0   \n",
       "25        женат / замужем                 0      M    пенсионер     0   \n",
       "26        женат / замужем                 0      M  госслужащий     0   \n",
       "27        женат / замужем                 0      M    сотрудник     0   \n",
       "28        женат / замужем                 0      F    сотрудник     0   \n",
       "29  Не женат / не замужем                 4      F    пенсионер     0   \n",
       "30        женат / замужем                 0      F    пенсионер     0   \n",
       "31        женат / замужем                 0      F    сотрудник     0   \n",
       "32       гражданский брак                 1      F    сотрудник     1   \n",
       "33        женат / замужем                 0      F    компаньон     0   \n",
       "34        женат / замужем                 0      F    сотрудник     0   \n",
       "35       гражданский брак                 1      M    пенсионер     0   \n",
       "36  Не женат / не замужем                 4      M    сотрудник     0   \n",
       "37       гражданский брак                 1      F    компаньон     0   \n",
       "38  Не женат / не замужем                 4      M    сотрудник     1   \n",
       "39       гражданский брак                 1      F    компаньон     0   \n",
       "40  Не женат / не замужем                 4      M    компаньон     0   \n",
       "41        женат / замужем                 0      F  госслужащий     0   \n",
       "42  Не женат / не замужем                 4      F    сотрудник     0   \n",
       "43              в разводе                 3      F    компаньон     0   \n",
       "44        женат / замужем                 0      F    сотрудник     0   \n",
       "45  Не женат / не замужем                 4      F    сотрудник     0   \n",
       "46        женат / замужем                 0      F    компаньон     0   \n",
       "47       гражданский брак                 1      M  госслужащий     0   \n",
       "48        женат / замужем                 0      F    сотрудник     0   \n",
       "49        женат / замужем                 0      F    сотрудник     0   \n",
       "\n",
       "     total_income                                 purpose  \n",
       "0   253875.639453                           покупка жилья  \n",
       "1   112080.014102                 приобретение автомобиля  \n",
       "2   145885.952297                           покупка жилья  \n",
       "3   267628.550329              дополнительное образование  \n",
       "4   158616.077870                         сыграть свадьбу  \n",
       "5   255763.565419                           покупка жилья  \n",
       "6   240525.971920                       операции с жильем  \n",
       "7   135823.934197                             образование  \n",
       "8    95856.832424                   на проведение свадьбы  \n",
       "9   144425.938277                 покупка жилья для семьи  \n",
       "10  113943.491460                    покупка недвижимости  \n",
       "11   77069.234271       покупка коммерческой недвижимости  \n",
       "12  145017.937533                         сыграть свадьбу  \n",
       "13  130458.228857                 приобретение автомобиля  \n",
       "14  165127.911772              покупка жилой недвижимости  \n",
       "15  116820.904450  строительство собственной недвижимости  \n",
       "16  289202.704229                            недвижимость  \n",
       "17   90410.586745              строительство недвижимости  \n",
       "18   56823.777243      на покупку подержанного автомобиля  \n",
       "19  242831.107982            на покупку своего автомобиля  \n",
       "20  209552.644578                            недвижимость  \n",
       "21  131812.203909                 приобретение автомобиля  \n",
       "22  149681.140731      на покупку подержанного автомобиля  \n",
       "23  128265.720871                         сыграть свадьбу  \n",
       "24  290547.235997   операции с коммерческой недвижимостью  \n",
       "25   55112.757732                    покупка недвижимости  \n",
       "26  145017.937533                             образование  \n",
       "27  308848.983691  строительство собственной недвижимости  \n",
       "28  187863.237306  строительство собственной недвижимости  \n",
       "29  145017.937533        строительство жилой недвижимости  \n",
       "30  171456.067993   операции с коммерческой недвижимостью  \n",
       "31  275485.684538                                   жилье  \n",
       "32  139057.464207                   на проведение свадьбы  \n",
       "33  157245.786233                           покупка жилья  \n",
       "34  104660.449203         операции со своей недвижимостью  \n",
       "35   77805.677436                   на проведение свадьбы  \n",
       "36  138830.650734                              автомобили  \n",
       "37  154128.878672                 приобретение автомобиля  \n",
       "38  192247.298639                             образование  \n",
       "39  754240.797248                   заняться образованием  \n",
       "40  142865.579146                    покупка недвижимости  \n",
       "41  145017.937533        сделка с подержанным автомобилем  \n",
       "42   82065.089021                   получение образования  \n",
       "43  272957.133509                 приобретение автомобиля  \n",
       "44  100780.496749            на покупку своего автомобиля  \n",
       "45  106385.919724                   заняться образованием  \n",
       "46  182682.459898        сделка с подержанным автомобилем  \n",
       "47  356277.909345                   на проведение свадьбы  \n",
       "48  162065.516450  строительство собственной недвижимости  \n",
       "49   44591.806888                              автомобиль  "
      ]
     },
     "execution_count": 16,
     "metadata": {},
     "output_type": "execute_result"
    }
   ],
   "source": [
    "df.head(50)"
   ]
  },
  {
   "cell_type": "markdown",
   "metadata": {},
   "source": [
    "**Вывод**"
   ]
  },
  {
   "cell_type": "markdown",
   "metadata": {},
   "source": [
    "В столбце `days_employed` все отрицательные значения заменены на положительные, заменены все пропуски медианой данного столбца. А так же исправлен стаж работы (ранее исчислялся для некоторых заёмщиков в днях или часах) на года.\n",
    "В столбце `total_income` мы так же заменили все пропуски.\n",
    "\n",
    "2174 заёмщика не указали свой стаж работы и уровень дохода. Вероятнее всего, они умышленно не заполняли эти данные (работа с серой зарплатой)"
   ]
  },
  {
   "cell_type": "markdown",
   "metadata": {},
   "source": [
    "### Замена типа данных"
   ]
  },
  {
   "cell_type": "markdown",
   "metadata": {},
   "source": [
    "Первым делом, нужно проверить, какие типы данных присутствуют в DataFrame."
   ]
  },
  {
   "cell_type": "code",
   "execution_count": 17,
   "metadata": {
    "scrolled": true
   },
   "outputs": [
    {
     "name": "stdout",
     "output_type": "stream",
     "text": [
      "<class 'pandas.core.frame.DataFrame'>\n",
      "RangeIndex: 21525 entries, 0 to 21524\n",
      "Data columns (total 12 columns):\n",
      "children            21525 non-null int64\n",
      "days_employed       21525 non-null float64\n",
      "dob_years           21525 non-null int64\n",
      "education           21525 non-null object\n",
      "education_id        21525 non-null int64\n",
      "family_status       21525 non-null object\n",
      "family_status_id    21525 non-null int64\n",
      "gender              21525 non-null object\n",
      "income_type         21525 non-null object\n",
      "debt                21525 non-null int64\n",
      "total_income        21525 non-null float64\n",
      "purpose             21525 non-null object\n",
      "dtypes: float64(2), int64(5), object(5)\n",
      "memory usage: 2.0+ MB\n"
     ]
    }
   ],
   "source": [
    "df.info()"
   ]
  },
  {
   "cell_type": "markdown",
   "metadata": {},
   "source": [
    "Все столбцы имеют корректный тип данных. Но столбцы `days_employed` (отработанные дни) и `total_income`(общий доход) указаны с дробной частью (`float`).Переведем их в `int`."
   ]
  },
  {
   "cell_type": "code",
   "execution_count": 18,
   "metadata": {},
   "outputs": [],
   "source": [
    "df['days_employed'] = df['days_employed'].astype('int')\n",
    "df['total_income'] = df['total_income'].astype('int')"
   ]
  },
  {
   "cell_type": "markdown",
   "metadata": {},
   "source": [
    "Проверим изменения:"
   ]
  },
  {
   "cell_type": "code",
   "execution_count": 19,
   "metadata": {
    "scrolled": true
   },
   "outputs": [
    {
     "name": "stdout",
     "output_type": "stream",
     "text": [
      "<class 'pandas.core.frame.DataFrame'>\n",
      "RangeIndex: 21525 entries, 0 to 21524\n",
      "Data columns (total 12 columns):\n",
      "children            21525 non-null int64\n",
      "days_employed       21525 non-null int64\n",
      "dob_years           21525 non-null int64\n",
      "education           21525 non-null object\n",
      "education_id        21525 non-null int64\n",
      "family_status       21525 non-null object\n",
      "family_status_id    21525 non-null int64\n",
      "gender              21525 non-null object\n",
      "income_type         21525 non-null object\n",
      "debt                21525 non-null int64\n",
      "total_income        21525 non-null int64\n",
      "purpose             21525 non-null object\n",
      "dtypes: int64(7), object(5)\n",
      "memory usage: 2.0+ MB\n"
     ]
    }
   ],
   "source": [
    "df.info()"
   ]
  },
  {
   "cell_type": "markdown",
   "metadata": {},
   "source": [
    "**Вывод**"
   ]
  },
  {
   "cell_type": "markdown",
   "metadata": {},
   "source": [
    "Трудовой стаж принято считать чётко в годах (без дробной части). Так же сумма дохода в любом денежном эквиваленте (рубли, евро или доллары) тоже считаются без копеек. Соответствено, мы убрали дробную часть из этих столбцов.\n",
    "\n",
    "Изменить тип данных можно двумя способами:\n",
    "- Метод `to_numeric()`. Его особенность заключается в том, что при переводе, все числа будут иметь тип данных `float`.\n",
    "- Метод `astype()`. С помощью этого метода, переводят в нужный тип данных.\n",
    "\n",
    "Изходя из вышеизложенного. Нам подходит метод `astype()`."
   ]
  },
  {
   "cell_type": "markdown",
   "metadata": {},
   "source": [
    "### Обработка дубликатов"
   ]
  },
  {
   "cell_type": "markdown",
   "metadata": {},
   "source": [
    "Проверим наличие дубликатов в каждом столбце, где возможны те дубликаты, которые нам нужны (т.е. дубликаты в графе \"общий доход\" нам не нужны). Проверим их колличество несколькими способами"
   ]
  },
  {
   "cell_type": "code",
   "execution_count": 20,
   "metadata": {},
   "outputs": [
    {
     "data": {
      "text/plain": [
       "среднее                13750\n",
       "высшее                  4718\n",
       "СРЕДНЕЕ                  772\n",
       "Среднее                  711\n",
       "неоконченное высшее      668\n",
       "ВЫСШЕЕ                   274\n",
       "Высшее                   268\n",
       "начальное                250\n",
       "Неоконченное высшее       47\n",
       "НЕОКОНЧЕННОЕ ВЫСШЕЕ       29\n",
       "НАЧАЛЬНОЕ                 17\n",
       "Начальное                 15\n",
       "ученая степень             4\n",
       "Ученая степень             1\n",
       "УЧЕНАЯ СТЕПЕНЬ             1\n",
       "Name: education, dtype: int64"
      ]
     },
     "execution_count": 20,
     "metadata": {},
     "output_type": "execute_result"
    }
   ],
   "source": [
    "df['education'].value_counts()# подсчет уникальных значений и кол-во их упоминаний в столбце education"
   ]
  },
  {
   "cell_type": "code",
   "execution_count": 21,
   "metadata": {
    "scrolled": true
   },
   "outputs": [
    {
     "data": {
      "text/plain": [
       "женат / замужем          12380\n",
       "гражданский брак          4177\n",
       "Не женат / не замужем     2813\n",
       "в разводе                 1195\n",
       "вдовец / вдова             960\n",
       "Name: family_status, dtype: int64"
      ]
     },
     "execution_count": 21,
     "metadata": {},
     "output_type": "execute_result"
    }
   ],
   "source": [
    "df['family_status'].value_counts()# подсчет уникальных значений и кол-во их упоминаний в столбце family_status"
   ]
  },
  {
   "cell_type": "code",
   "execution_count": 22,
   "metadata": {},
   "outputs": [
    {
     "data": {
      "text/plain": [
       "array(['F', 'M', 'XNA'], dtype=object)"
      ]
     },
     "execution_count": 22,
     "metadata": {},
     "output_type": "execute_result"
    }
   ],
   "source": [
    "df['gender'].unique()# подсчет уникальных значений и кол-во их упоминаний в столбце gender"
   ]
  },
  {
   "cell_type": "code",
   "execution_count": 23,
   "metadata": {},
   "outputs": [
    {
     "data": {
      "text/plain": [
       " 0     14149\n",
       " 1      4818\n",
       " 2      2055\n",
       " 3       330\n",
       " 20       76\n",
       "-1        47\n",
       " 4        41\n",
       " 5         9\n",
       "Name: children, dtype: int64"
      ]
     },
     "execution_count": 23,
     "metadata": {},
     "output_type": "execute_result"
    }
   ],
   "source": [
    "df['children'].value_counts()# подсчет уникальных значений и кол-во их упоминаний в столбце children"
   ]
  },
  {
   "cell_type": "code",
   "execution_count": 24,
   "metadata": {
    "scrolled": true
   },
   "outputs": [
    {
     "data": {
      "text/plain": [
       "сотрудник          11119\n",
       "компаньон           5085\n",
       "пенсионер           3856\n",
       "госслужащий         1459\n",
       "предприниматель        2\n",
       "безработный            2\n",
       "в декрете              1\n",
       "студент                1\n",
       "Name: income_type, dtype: int64"
      ]
     },
     "execution_count": 24,
     "metadata": {},
     "output_type": "execute_result"
    }
   ],
   "source": [
    "df['income_type'].value_counts()# подсчет уникальных значений и кол-во их упоминаний в столбце income_type"
   ]
  },
  {
   "cell_type": "code",
   "execution_count": 25,
   "metadata": {
    "scrolled": true
   },
   "outputs": [
    {
     "data": {
      "text/plain": [
       "свадьба                                   797\n",
       "на проведение свадьбы                     777\n",
       "сыграть свадьбу                           774\n",
       "операции с недвижимостью                  676\n",
       "покупка коммерческой недвижимости         664\n",
       "операции с жильем                         653\n",
       "покупка жилья для сдачи                   653\n",
       "операции с коммерческой недвижимостью     651\n",
       "покупка жилья                             647\n",
       "жилье                                     647\n",
       "покупка жилья для семьи                   641\n",
       "строительство собственной недвижимости    635\n",
       "недвижимость                              634\n",
       "операции со своей недвижимостью           630\n",
       "строительство жилой недвижимости          626\n",
       "покупка недвижимости                      624\n",
       "строительство недвижимости                620\n",
       "покупка своего жилья                      620\n",
       "ремонт жилью                              612\n",
       "покупка жилой недвижимости                607\n",
       "на покупку своего автомобиля              505\n",
       "заняться высшим образованием              496\n",
       "автомобиль                                495\n",
       "сделка с подержанным автомобилем          489\n",
       "свой автомобиль                           480\n",
       "на покупку подержанного автомобиля        479\n",
       "автомобили                                478\n",
       "на покупку автомобиля                     472\n",
       "приобретение автомобиля                   462\n",
       "дополнительное образование                462\n",
       "сделка с автомобилем                      455\n",
       "высшее образование                        453\n",
       "получение дополнительного образования     447\n",
       "образование                               447\n",
       "получение образования                     443\n",
       "профильное образование                    436\n",
       "получение высшего образования             426\n",
       "заняться образованием                     412\n",
       "Name: purpose, dtype: int64"
      ]
     },
     "execution_count": 25,
     "metadata": {},
     "output_type": "execute_result"
    }
   ],
   "source": [
    "df['purpose'].value_counts()# подсчет уникальных значений и кол-во их упоминаний в столбце purpose"
   ]
  },
  {
   "cell_type": "markdown",
   "metadata": {},
   "source": [
    "Проанализировав столбцы, было принято решение, что в столбцах `education`и `falily_status` необходимо свести значения столбца к нижнему регистру. Применим метод `str.lower()`."
   ]
  },
  {
   "cell_type": "code",
   "execution_count": 26,
   "metadata": {},
   "outputs": [],
   "source": [
    "df['education'] = df['education'].str.lower() #cводим к нижнему регистру education"
   ]
  },
  {
   "cell_type": "code",
   "execution_count": 27,
   "metadata": {
    "scrolled": true
   },
   "outputs": [
    {
     "data": {
      "text/plain": [
       "среднее                15233\n",
       "высшее                  5260\n",
       "неоконченное высшее      744\n",
       "начальное                282\n",
       "ученая степень             6\n",
       "Name: education, dtype: int64"
      ]
     },
     "execution_count": 27,
     "metadata": {},
     "output_type": "execute_result"
    }
   ],
   "source": [
    "df['education'].value_counts()# проверка результата"
   ]
  },
  {
   "cell_type": "code",
   "execution_count": 28,
   "metadata": {},
   "outputs": [],
   "source": [
    "df['family_status'] = df['family_status'].str.lower()# cводим к нижнему регистру family_status"
   ]
  },
  {
   "cell_type": "code",
   "execution_count": 29,
   "metadata": {
    "scrolled": false
   },
   "outputs": [
    {
     "data": {
      "text/plain": [
       "женат / замужем          12380\n",
       "гражданский брак          4177\n",
       "не женат / не замужем     2813\n",
       "в разводе                 1195\n",
       "вдовец / вдова             960\n",
       "Name: family_status, dtype: int64"
      ]
     },
     "execution_count": 29,
     "metadata": {},
     "output_type": "execute_result"
    }
   ],
   "source": [
    "df['family_status'].value_counts()# проверка результата"
   ]
  },
  {
   "cell_type": "markdown",
   "metadata": {},
   "source": [
    "Так же, ранее было замечено, что в столбце `children` имеются значения `-1`(считаю, что знак минус был поставлен ошибочко и означает просто 1) и `20` (тут гораздо сложнее, возможно действительно кто-то многодетный (но не 76 заёмщиков). Скорее всего когда вбивали в базу, использовали клавиатуру `num lk` и случайно к цифре 2 нажали цифру 0.\n",
    "\n",
    "Следовательно, изменим `-1` на `1`, `20` на `2`."
   ]
  },
  {
   "cell_type": "code",
   "execution_count": 30,
   "metadata": {},
   "outputs": [],
   "source": [
    "df['children'] = df['children'].replace(-1, 1)# замена значений с -1 на 1\n",
    "df['children'] = df['children'].replace(20, 2)# замена значений с 20 на 2"
   ]
  },
  {
   "cell_type": "markdown",
   "metadata": {},
   "source": [
    "Проверим изменения"
   ]
  },
  {
   "cell_type": "code",
   "execution_count": 31,
   "metadata": {
    "scrolled": false
   },
   "outputs": [
    {
     "data": {
      "text/plain": [
       "0    14149\n",
       "1     4865\n",
       "2     2131\n",
       "3      330\n",
       "4       41\n",
       "5        9\n",
       "Name: children, dtype: int64"
      ]
     },
     "execution_count": 31,
     "metadata": {},
     "output_type": "execute_result"
    }
   ],
   "source": [
    "df['children'].value_counts()"
   ]
  },
  {
   "cell_type": "markdown",
   "metadata": {},
   "source": [
    "Теперь проверим оставшееся колличество дубликатов в DataFrame и удалим их (с изменением и сохранением строки)."
   ]
  },
  {
   "cell_type": "code",
   "execution_count": 32,
   "metadata": {},
   "outputs": [
    {
     "data": {
      "text/plain": [
       "71"
      ]
     },
     "execution_count": 32,
     "metadata": {},
     "output_type": "execute_result"
    }
   ],
   "source": [
    "df.duplicated().sum()"
   ]
  },
  {
   "cell_type": "code",
   "execution_count": 33,
   "metadata": {},
   "outputs": [],
   "source": [
    "df = df.drop_duplicates().reset_index(drop = True)"
   ]
  },
  {
   "cell_type": "code",
   "execution_count": 34,
   "metadata": {},
   "outputs": [
    {
     "data": {
      "text/plain": [
       "0"
      ]
     },
     "execution_count": 34,
     "metadata": {},
     "output_type": "execute_result"
    }
   ],
   "source": [
    "df.duplicated().sum()"
   ]
  },
  {
   "cell_type": "markdown",
   "metadata": {},
   "source": [
    "**Вывод**"
   ]
  },
  {
   "cell_type": "markdown",
   "metadata": {},
   "source": [
    "Проанализировали все столбцы. \n",
    "- Привели все значения в единый формат. Нашли гендер XNA (один единственный и непонятный), следовательно в данном проекте считаю, что этим можно этим принебречь (возможно новый пол (сейчас время такое), возможно просто ошибка).\n",
    "\n",
    "- Так же в ходе ислледования, были найдены и исправлены ошибки в детьми. Многие по ошибки написали `-1`, а некторые аж `20`. Было принято решение: не удалять их, а исправить на адекватные значения (1 и 2) соответственно.\n",
    "\n",
    "- Кроме того, были найдены и убраны всё дубликаты в предоставленом DataFrame.\n",
    "\n",
    "Возможные причины поясления дубликатов:\n",
    "   - Неправильное соединение данных из разных источников\n",
    "   - Ошибки пользователя при занесении информации\n",
    "\n",
    "Теперь, после того, как исправлены ошибки и заполены пропуски. Без дубликатов исследование станет более точным. Можно переходить к работе с табличными данными"
   ]
  },
  {
   "cell_type": "markdown",
   "metadata": {},
   "source": [
    "### Лемматизация"
   ]
  },
  {
   "cell_type": "markdown",
   "metadata": {},
   "source": [
    "Проанализируем столбцы (из п.2.3). Следующим шагом будет лемматизиция столбца `purpose`. Т.к. в остальных она не требуется для дальнейшего исследования"
   ]
  },
  {
   "cell_type": "markdown",
   "metadata": {},
   "source": [
    "Импортируем библиотеку `pymystem3` для дальнейшей работы."
   ]
  },
  {
   "cell_type": "code",
   "execution_count": 35,
   "metadata": {},
   "outputs": [],
   "source": [
    "from pymystem3 import Mystem# Импорт библиотеки\n",
    "m = Mystem()# присвоим ей переменную m"
   ]
  },
  {
   "cell_type": "markdown",
   "metadata": {},
   "source": [
    "Найдем уникальные значения столбца `purpose`:"
   ]
  },
  {
   "cell_type": "code",
   "execution_count": 36,
   "metadata": {
    "scrolled": true
   },
   "outputs": [
    {
     "data": {
      "text/plain": [
       "array(['покупка жилья', 'приобретение автомобиля',\n",
       "       'дополнительное образование', 'сыграть свадьбу',\n",
       "       'операции с жильем', 'образование', 'на проведение свадьбы',\n",
       "       'покупка жилья для семьи', 'покупка недвижимости',\n",
       "       'покупка коммерческой недвижимости', 'покупка жилой недвижимости',\n",
       "       'строительство собственной недвижимости', 'недвижимость',\n",
       "       'строительство недвижимости', 'на покупку подержанного автомобиля',\n",
       "       'на покупку своего автомобиля',\n",
       "       'операции с коммерческой недвижимостью',\n",
       "       'строительство жилой недвижимости', 'жилье',\n",
       "       'операции со своей недвижимостью', 'автомобили',\n",
       "       'заняться образованием', 'сделка с подержанным автомобилем',\n",
       "       'получение образования', 'автомобиль', 'свадьба',\n",
       "       'получение дополнительного образования', 'покупка своего жилья',\n",
       "       'операции с недвижимостью', 'получение высшего образования',\n",
       "       'свой автомобиль', 'сделка с автомобилем',\n",
       "       'профильное образование', 'высшее образование',\n",
       "       'покупка жилья для сдачи', 'на покупку автомобиля', 'ремонт жилью',\n",
       "       'заняться высшим образованием'], dtype=object)"
      ]
     },
     "execution_count": 36,
     "metadata": {},
     "output_type": "execute_result"
    }
   ],
   "source": [
    "text = df['purpose'].unique()\n",
    "text"
   ]
  },
  {
   "cell_type": "markdown",
   "metadata": {},
   "source": [
    "Склеим в одну строчку, с помощью `.join()`."
   ]
  },
  {
   "cell_type": "code",
   "execution_count": 37,
   "metadata": {
    "scrolled": true
   },
   "outputs": [
    {
     "data": {
      "text/plain": [
       "'покупка жилья,приобретение автомобиля,дополнительное образование,сыграть свадьбу,операции с жильем,образование,на проведение свадьбы,покупка жилья для семьи,покупка недвижимости,покупка коммерческой недвижимости,покупка жилой недвижимости,строительство собственной недвижимости,недвижимость,строительство недвижимости,на покупку подержанного автомобиля,на покупку своего автомобиля,операции с коммерческой недвижимостью,строительство жилой недвижимости,жилье,операции со своей недвижимостью,автомобили,заняться образованием,сделка с подержанным автомобилем,получение образования,автомобиль,свадьба,получение дополнительного образования,покупка своего жилья,операции с недвижимостью,получение высшего образования,свой автомобиль,сделка с автомобилем,профильное образование,высшее образование,покупка жилья для сдачи,на покупку автомобиля,ремонт жилью,заняться высшим образованием'"
      ]
     },
     "execution_count": 37,
     "metadata": {},
     "output_type": "execute_result"
    }
   ],
   "source": [
    "text_str = ','.join(text)\n",
    "text_str"
   ]
  },
  {
   "cell_type": "markdown",
   "metadata": {},
   "source": [
    "Пролемматизируем строку `text_str`."
   ]
  },
  {
   "cell_type": "code",
   "execution_count": 38,
   "metadata": {
    "scrolled": false
   },
   "outputs": [
    {
     "data": {
      "text/plain": [
       "['покупка',\n",
       " ' ',\n",
       " 'жилье',\n",
       " ',',\n",
       " 'приобретение',\n",
       " ' ',\n",
       " 'автомобиль',\n",
       " ',',\n",
       " 'дополнительный',\n",
       " ' ',\n",
       " 'образование',\n",
       " ',',\n",
       " 'сыграть',\n",
       " ' ',\n",
       " 'свадьба',\n",
       " ',',\n",
       " 'операция',\n",
       " ' ',\n",
       " 'с',\n",
       " ' ',\n",
       " 'жилье',\n",
       " ',',\n",
       " 'образование',\n",
       " ',',\n",
       " 'на',\n",
       " ' ',\n",
       " 'проведение',\n",
       " ' ',\n",
       " 'свадьба',\n",
       " ',',\n",
       " 'покупка',\n",
       " ' ',\n",
       " 'жилье',\n",
       " ' ',\n",
       " 'для',\n",
       " ' ',\n",
       " 'семья',\n",
       " ',',\n",
       " 'покупка',\n",
       " ' ',\n",
       " 'недвижимость',\n",
       " ',',\n",
       " 'покупка',\n",
       " ' ',\n",
       " 'коммерческий',\n",
       " ' ',\n",
       " 'недвижимость',\n",
       " ',',\n",
       " 'покупка',\n",
       " ' ',\n",
       " 'жилой',\n",
       " ' ',\n",
       " 'недвижимость',\n",
       " ',',\n",
       " 'строительство',\n",
       " ' ',\n",
       " 'собственный',\n",
       " ' ',\n",
       " 'недвижимость',\n",
       " ',',\n",
       " 'недвижимость',\n",
       " ',',\n",
       " 'строительство',\n",
       " ' ',\n",
       " 'недвижимость',\n",
       " ',',\n",
       " 'на',\n",
       " ' ',\n",
       " 'покупка',\n",
       " ' ',\n",
       " 'подержать',\n",
       " ' ',\n",
       " 'автомобиль',\n",
       " ',',\n",
       " 'на',\n",
       " ' ',\n",
       " 'покупка',\n",
       " ' ',\n",
       " 'свой',\n",
       " ' ',\n",
       " 'автомобиль',\n",
       " ',',\n",
       " 'операция',\n",
       " ' ',\n",
       " 'с',\n",
       " ' ',\n",
       " 'коммерческий',\n",
       " ' ',\n",
       " 'недвижимость',\n",
       " ',',\n",
       " 'строительство',\n",
       " ' ',\n",
       " 'жилой',\n",
       " ' ',\n",
       " 'недвижимость',\n",
       " ',',\n",
       " 'жилье',\n",
       " ',',\n",
       " 'операция',\n",
       " ' ',\n",
       " 'со',\n",
       " ' ',\n",
       " 'свой',\n",
       " ' ',\n",
       " 'недвижимость',\n",
       " ',',\n",
       " 'автомобиль',\n",
       " ',',\n",
       " 'заниматься',\n",
       " ' ',\n",
       " 'образование',\n",
       " ',',\n",
       " 'сделка',\n",
       " ' ',\n",
       " 'с',\n",
       " ' ',\n",
       " 'подержать',\n",
       " ' ',\n",
       " 'автомобиль',\n",
       " ',',\n",
       " 'получение',\n",
       " ' ',\n",
       " 'образование',\n",
       " ',',\n",
       " 'автомобиль',\n",
       " ',',\n",
       " 'свадьба',\n",
       " ',',\n",
       " 'получение',\n",
       " ' ',\n",
       " 'дополнительный',\n",
       " ' ',\n",
       " 'образование',\n",
       " ',',\n",
       " 'покупка',\n",
       " ' ',\n",
       " 'свой',\n",
       " ' ',\n",
       " 'жилье',\n",
       " ',',\n",
       " 'операция',\n",
       " ' ',\n",
       " 'с',\n",
       " ' ',\n",
       " 'недвижимость',\n",
       " ',',\n",
       " 'получение',\n",
       " ' ',\n",
       " 'высокий',\n",
       " ' ',\n",
       " 'образование',\n",
       " ',',\n",
       " 'свой',\n",
       " ' ',\n",
       " 'автомобиль',\n",
       " ',',\n",
       " 'сделка',\n",
       " ' ',\n",
       " 'с',\n",
       " ' ',\n",
       " 'автомобиль',\n",
       " ',',\n",
       " 'профильный',\n",
       " ' ',\n",
       " 'образование',\n",
       " ',',\n",
       " 'высокий',\n",
       " ' ',\n",
       " 'образование',\n",
       " ',',\n",
       " 'покупка',\n",
       " ' ',\n",
       " 'жилье',\n",
       " ' ',\n",
       " 'для',\n",
       " ' ',\n",
       " 'сдача',\n",
       " ',',\n",
       " 'на',\n",
       " ' ',\n",
       " 'покупка',\n",
       " ' ',\n",
       " 'автомобиль',\n",
       " ',',\n",
       " 'ремонт',\n",
       " ' ',\n",
       " 'жилье',\n",
       " ',',\n",
       " 'заниматься',\n",
       " ' ',\n",
       " 'высокий',\n",
       " ' ',\n",
       " 'образование',\n",
       " '\\n']"
      ]
     },
     "execution_count": 38,
     "metadata": {},
     "output_type": "execute_result"
    }
   ],
   "source": [
    "lemmas = m.lemmatize(text_str)\n",
    "lemmas"
   ]
  },
  {
   "cell_type": "markdown",
   "metadata": {},
   "source": [
    "С помощь `Counter` посчитаем частоту появления слов. Для этого вызовем контейнер `Counter` из модуля `collections`."
   ]
  },
  {
   "cell_type": "code",
   "execution_count": 39,
   "metadata": {},
   "outputs": [],
   "source": [
    "from collections import Counter# Вызов Counter"
   ]
  },
  {
   "cell_type": "code",
   "execution_count": 40,
   "metadata": {
    "scrolled": false
   },
   "outputs": [
    {
     "data": {
      "text/plain": [
       "Counter({'покупка': 10,\n",
       "         ' ': 59,\n",
       "         'жилье': 7,\n",
       "         ',': 37,\n",
       "         'приобретение': 1,\n",
       "         'автомобиль': 9,\n",
       "         'дополнительный': 2,\n",
       "         'образование': 9,\n",
       "         'сыграть': 1,\n",
       "         'свадьба': 3,\n",
       "         'операция': 4,\n",
       "         'с': 5,\n",
       "         'на': 4,\n",
       "         'проведение': 1,\n",
       "         'для': 2,\n",
       "         'семья': 1,\n",
       "         'недвижимость': 10,\n",
       "         'коммерческий': 2,\n",
       "         'жилой': 2,\n",
       "         'строительство': 3,\n",
       "         'собственный': 1,\n",
       "         'подержать': 2,\n",
       "         'свой': 4,\n",
       "         'со': 1,\n",
       "         'заниматься': 2,\n",
       "         'сделка': 2,\n",
       "         'получение': 3,\n",
       "         'высокий': 3,\n",
       "         'профильный': 1,\n",
       "         'сдача': 1,\n",
       "         'ремонт': 1,\n",
       "         '\\n': 1})"
      ]
     },
     "execution_count": 40,
     "metadata": {},
     "output_type": "execute_result"
    }
   ],
   "source": [
    "Counter(lemmas)# Подсчет колличества каждого слова в lemmas"
   ]
  },
  {
   "cell_type": "markdown",
   "metadata": {},
   "source": [
    "После этого нужно выделим (вручную) из этого списка самые частые существительные - это будут основные категории."
   ]
  },
  {
   "cell_type": "markdown",
   "metadata": {},
   "source": [
    "   - жильё;\n",
    "   - недвижимость;\n",
    "   - автомобиль;\n",
    "   - образование; \n",
    "   - операция;\n",
    "   - свадьба."
   ]
  },
  {
   "cell_type": "markdown",
   "metadata": {},
   "source": [
    "Затем, напишем функцию для `apply`, которая будет лематизировать последовательно каждую ячейку столбца `purpose` и проверять, какая из категорий обнаруживается в лемматизированном варианте."
   ]
  },
  {
   "cell_type": "code",
   "execution_count": 41,
   "metadata": {},
   "outputs": [],
   "source": [
    "def lematize(purpose):\n",
    "    if 'жил' in purpose:\n",
    "        return 'жилье'\n",
    "    if 'недвиж' in purpose:\n",
    "        return 'недвижимость'\n",
    "    if 'авто' in purpose:\n",
    "        return 'автомобиль'\n",
    "    if 'образ' in purpose:\n",
    "        return 'образование'\n",
    "    if 'опер' in purpose:\n",
    "        return 'операция'\n",
    "    if 'свад' in purpose:\n",
    "        return 'свадьба'\n",
    "df['purpose_category'] = df['purpose'].apply(lematize)"
   ]
  },
  {
   "cell_type": "markdown",
   "metadata": {},
   "source": [
    "Проверим:"
   ]
  },
  {
   "cell_type": "code",
   "execution_count": 42,
   "metadata": {},
   "outputs": [
    {
     "data": {
      "text/html": [
       "<div>\n",
       "<style scoped>\n",
       "    .dataframe tbody tr th:only-of-type {\n",
       "        vertical-align: middle;\n",
       "    }\n",
       "\n",
       "    .dataframe tbody tr th {\n",
       "        vertical-align: top;\n",
       "    }\n",
       "\n",
       "    .dataframe thead th {\n",
       "        text-align: right;\n",
       "    }\n",
       "</style>\n",
       "<table border=\"1\" class=\"dataframe\">\n",
       "  <thead>\n",
       "    <tr style=\"text-align: right;\">\n",
       "      <th></th>\n",
       "      <th>children</th>\n",
       "      <th>days_employed</th>\n",
       "      <th>dob_years</th>\n",
       "      <th>education</th>\n",
       "      <th>education_id</th>\n",
       "      <th>family_status</th>\n",
       "      <th>family_status_id</th>\n",
       "      <th>gender</th>\n",
       "      <th>income_type</th>\n",
       "      <th>debt</th>\n",
       "      <th>total_income</th>\n",
       "      <th>purpose</th>\n",
       "      <th>purpose_category</th>\n",
       "    </tr>\n",
       "  </thead>\n",
       "  <tbody>\n",
       "    <tr>\n",
       "      <td>0</td>\n",
       "      <td>1</td>\n",
       "      <td>23</td>\n",
       "      <td>42</td>\n",
       "      <td>высшее</td>\n",
       "      <td>0</td>\n",
       "      <td>женат / замужем</td>\n",
       "      <td>0</td>\n",
       "      <td>F</td>\n",
       "      <td>сотрудник</td>\n",
       "      <td>0</td>\n",
       "      <td>253875</td>\n",
       "      <td>покупка жилья</td>\n",
       "      <td>жилье</td>\n",
       "    </tr>\n",
       "    <tr>\n",
       "      <td>1</td>\n",
       "      <td>1</td>\n",
       "      <td>11</td>\n",
       "      <td>36</td>\n",
       "      <td>среднее</td>\n",
       "      <td>1</td>\n",
       "      <td>женат / замужем</td>\n",
       "      <td>0</td>\n",
       "      <td>F</td>\n",
       "      <td>сотрудник</td>\n",
       "      <td>0</td>\n",
       "      <td>112080</td>\n",
       "      <td>приобретение автомобиля</td>\n",
       "      <td>автомобиль</td>\n",
       "    </tr>\n",
       "    <tr>\n",
       "      <td>2</td>\n",
       "      <td>0</td>\n",
       "      <td>15</td>\n",
       "      <td>33</td>\n",
       "      <td>среднее</td>\n",
       "      <td>1</td>\n",
       "      <td>женат / замужем</td>\n",
       "      <td>0</td>\n",
       "      <td>M</td>\n",
       "      <td>сотрудник</td>\n",
       "      <td>0</td>\n",
       "      <td>145885</td>\n",
       "      <td>покупка жилья</td>\n",
       "      <td>жилье</td>\n",
       "    </tr>\n",
       "    <tr>\n",
       "      <td>3</td>\n",
       "      <td>3</td>\n",
       "      <td>11</td>\n",
       "      <td>32</td>\n",
       "      <td>среднее</td>\n",
       "      <td>1</td>\n",
       "      <td>женат / замужем</td>\n",
       "      <td>0</td>\n",
       "      <td>M</td>\n",
       "      <td>сотрудник</td>\n",
       "      <td>0</td>\n",
       "      <td>267628</td>\n",
       "      <td>дополнительное образование</td>\n",
       "      <td>образование</td>\n",
       "    </tr>\n",
       "    <tr>\n",
       "      <td>4</td>\n",
       "      <td>0</td>\n",
       "      <td>38</td>\n",
       "      <td>53</td>\n",
       "      <td>среднее</td>\n",
       "      <td>1</td>\n",
       "      <td>гражданский брак</td>\n",
       "      <td>1</td>\n",
       "      <td>F</td>\n",
       "      <td>пенсионер</td>\n",
       "      <td>0</td>\n",
       "      <td>158616</td>\n",
       "      <td>сыграть свадьбу</td>\n",
       "      <td>свадьба</td>\n",
       "    </tr>\n",
       "    <tr>\n",
       "      <td>5</td>\n",
       "      <td>0</td>\n",
       "      <td>2</td>\n",
       "      <td>27</td>\n",
       "      <td>высшее</td>\n",
       "      <td>0</td>\n",
       "      <td>гражданский брак</td>\n",
       "      <td>1</td>\n",
       "      <td>M</td>\n",
       "      <td>компаньон</td>\n",
       "      <td>0</td>\n",
       "      <td>255763</td>\n",
       "      <td>покупка жилья</td>\n",
       "      <td>жилье</td>\n",
       "    </tr>\n",
       "    <tr>\n",
       "      <td>6</td>\n",
       "      <td>0</td>\n",
       "      <td>7</td>\n",
       "      <td>43</td>\n",
       "      <td>высшее</td>\n",
       "      <td>0</td>\n",
       "      <td>женат / замужем</td>\n",
       "      <td>0</td>\n",
       "      <td>F</td>\n",
       "      <td>компаньон</td>\n",
       "      <td>0</td>\n",
       "      <td>240525</td>\n",
       "      <td>операции с жильем</td>\n",
       "      <td>жилье</td>\n",
       "    </tr>\n",
       "    <tr>\n",
       "      <td>7</td>\n",
       "      <td>0</td>\n",
       "      <td>0</td>\n",
       "      <td>50</td>\n",
       "      <td>среднее</td>\n",
       "      <td>1</td>\n",
       "      <td>женат / замужем</td>\n",
       "      <td>0</td>\n",
       "      <td>M</td>\n",
       "      <td>сотрудник</td>\n",
       "      <td>0</td>\n",
       "      <td>135823</td>\n",
       "      <td>образование</td>\n",
       "      <td>образование</td>\n",
       "    </tr>\n",
       "    <tr>\n",
       "      <td>8</td>\n",
       "      <td>2</td>\n",
       "      <td>18</td>\n",
       "      <td>35</td>\n",
       "      <td>высшее</td>\n",
       "      <td>0</td>\n",
       "      <td>гражданский брак</td>\n",
       "      <td>1</td>\n",
       "      <td>F</td>\n",
       "      <td>сотрудник</td>\n",
       "      <td>0</td>\n",
       "      <td>95856</td>\n",
       "      <td>на проведение свадьбы</td>\n",
       "      <td>свадьба</td>\n",
       "    </tr>\n",
       "    <tr>\n",
       "      <td>9</td>\n",
       "      <td>0</td>\n",
       "      <td>5</td>\n",
       "      <td>41</td>\n",
       "      <td>среднее</td>\n",
       "      <td>1</td>\n",
       "      <td>женат / замужем</td>\n",
       "      <td>0</td>\n",
       "      <td>M</td>\n",
       "      <td>сотрудник</td>\n",
       "      <td>0</td>\n",
       "      <td>144425</td>\n",
       "      <td>покупка жилья для семьи</td>\n",
       "      <td>жилье</td>\n",
       "    </tr>\n",
       "    <tr>\n",
       "      <td>10</td>\n",
       "      <td>2</td>\n",
       "      <td>11</td>\n",
       "      <td>36</td>\n",
       "      <td>высшее</td>\n",
       "      <td>0</td>\n",
       "      <td>женат / замужем</td>\n",
       "      <td>0</td>\n",
       "      <td>M</td>\n",
       "      <td>компаньон</td>\n",
       "      <td>0</td>\n",
       "      <td>113943</td>\n",
       "      <td>покупка недвижимости</td>\n",
       "      <td>недвижимость</td>\n",
       "    </tr>\n",
       "    <tr>\n",
       "      <td>11</td>\n",
       "      <td>0</td>\n",
       "      <td>2</td>\n",
       "      <td>40</td>\n",
       "      <td>среднее</td>\n",
       "      <td>1</td>\n",
       "      <td>женат / замужем</td>\n",
       "      <td>0</td>\n",
       "      <td>F</td>\n",
       "      <td>сотрудник</td>\n",
       "      <td>0</td>\n",
       "      <td>77069</td>\n",
       "      <td>покупка коммерческой недвижимости</td>\n",
       "      <td>недвижимость</td>\n",
       "    </tr>\n",
       "    <tr>\n",
       "      <td>12</td>\n",
       "      <td>0</td>\n",
       "      <td>6</td>\n",
       "      <td>65</td>\n",
       "      <td>среднее</td>\n",
       "      <td>1</td>\n",
       "      <td>гражданский брак</td>\n",
       "      <td>1</td>\n",
       "      <td>M</td>\n",
       "      <td>пенсионер</td>\n",
       "      <td>0</td>\n",
       "      <td>145017</td>\n",
       "      <td>сыграть свадьбу</td>\n",
       "      <td>свадьба</td>\n",
       "    </tr>\n",
       "    <tr>\n",
       "      <td>13</td>\n",
       "      <td>0</td>\n",
       "      <td>5</td>\n",
       "      <td>54</td>\n",
       "      <td>неоконченное высшее</td>\n",
       "      <td>2</td>\n",
       "      <td>женат / замужем</td>\n",
       "      <td>0</td>\n",
       "      <td>F</td>\n",
       "      <td>сотрудник</td>\n",
       "      <td>0</td>\n",
       "      <td>130458</td>\n",
       "      <td>приобретение автомобиля</td>\n",
       "      <td>автомобиль</td>\n",
       "    </tr>\n",
       "    <tr>\n",
       "      <td>14</td>\n",
       "      <td>0</td>\n",
       "      <td>5</td>\n",
       "      <td>56</td>\n",
       "      <td>высшее</td>\n",
       "      <td>0</td>\n",
       "      <td>гражданский брак</td>\n",
       "      <td>1</td>\n",
       "      <td>F</td>\n",
       "      <td>компаньон</td>\n",
       "      <td>1</td>\n",
       "      <td>165127</td>\n",
       "      <td>покупка жилой недвижимости</td>\n",
       "      <td>жилье</td>\n",
       "    </tr>\n",
       "    <tr>\n",
       "      <td>15</td>\n",
       "      <td>1</td>\n",
       "      <td>2</td>\n",
       "      <td>26</td>\n",
       "      <td>среднее</td>\n",
       "      <td>1</td>\n",
       "      <td>женат / замужем</td>\n",
       "      <td>0</td>\n",
       "      <td>F</td>\n",
       "      <td>сотрудник</td>\n",
       "      <td>0</td>\n",
       "      <td>116820</td>\n",
       "      <td>строительство собственной недвижимости</td>\n",
       "      <td>недвижимость</td>\n",
       "    </tr>\n",
       "    <tr>\n",
       "      <td>16</td>\n",
       "      <td>0</td>\n",
       "      <td>4</td>\n",
       "      <td>35</td>\n",
       "      <td>среднее</td>\n",
       "      <td>1</td>\n",
       "      <td>женат / замужем</td>\n",
       "      <td>0</td>\n",
       "      <td>F</td>\n",
       "      <td>сотрудник</td>\n",
       "      <td>0</td>\n",
       "      <td>289202</td>\n",
       "      <td>недвижимость</td>\n",
       "      <td>недвижимость</td>\n",
       "    </tr>\n",
       "    <tr>\n",
       "      <td>17</td>\n",
       "      <td>0</td>\n",
       "      <td>6</td>\n",
       "      <td>33</td>\n",
       "      <td>высшее</td>\n",
       "      <td>0</td>\n",
       "      <td>гражданский брак</td>\n",
       "      <td>1</td>\n",
       "      <td>M</td>\n",
       "      <td>сотрудник</td>\n",
       "      <td>0</td>\n",
       "      <td>90410</td>\n",
       "      <td>строительство недвижимости</td>\n",
       "      <td>недвижимость</td>\n",
       "    </tr>\n",
       "    <tr>\n",
       "      <td>18</td>\n",
       "      <td>0</td>\n",
       "      <td>45</td>\n",
       "      <td>53</td>\n",
       "      <td>среднее</td>\n",
       "      <td>1</td>\n",
       "      <td>вдовец / вдова</td>\n",
       "      <td>2</td>\n",
       "      <td>F</td>\n",
       "      <td>пенсионер</td>\n",
       "      <td>0</td>\n",
       "      <td>56823</td>\n",
       "      <td>на покупку подержанного автомобиля</td>\n",
       "      <td>автомобиль</td>\n",
       "    </tr>\n",
       "    <tr>\n",
       "      <td>19</td>\n",
       "      <td>0</td>\n",
       "      <td>27</td>\n",
       "      <td>48</td>\n",
       "      <td>среднее</td>\n",
       "      <td>1</td>\n",
       "      <td>в разводе</td>\n",
       "      <td>3</td>\n",
       "      <td>F</td>\n",
       "      <td>сотрудник</td>\n",
       "      <td>0</td>\n",
       "      <td>242831</td>\n",
       "      <td>на покупку своего автомобиля</td>\n",
       "      <td>автомобиль</td>\n",
       "    </tr>\n",
       "  </tbody>\n",
       "</table>\n",
       "</div>"
      ],
      "text/plain": [
       "    children  days_employed  dob_years            education  education_id  \\\n",
       "0          1             23         42               высшее             0   \n",
       "1          1             11         36              среднее             1   \n",
       "2          0             15         33              среднее             1   \n",
       "3          3             11         32              среднее             1   \n",
       "4          0             38         53              среднее             1   \n",
       "5          0              2         27               высшее             0   \n",
       "6          0              7         43               высшее             0   \n",
       "7          0              0         50              среднее             1   \n",
       "8          2             18         35               высшее             0   \n",
       "9          0              5         41              среднее             1   \n",
       "10         2             11         36               высшее             0   \n",
       "11         0              2         40              среднее             1   \n",
       "12         0              6         65              среднее             1   \n",
       "13         0              5         54  неоконченное высшее             2   \n",
       "14         0              5         56               высшее             0   \n",
       "15         1              2         26              среднее             1   \n",
       "16         0              4         35              среднее             1   \n",
       "17         0              6         33               высшее             0   \n",
       "18         0             45         53              среднее             1   \n",
       "19         0             27         48              среднее             1   \n",
       "\n",
       "       family_status  family_status_id gender income_type  debt  total_income  \\\n",
       "0    женат / замужем                 0      F   сотрудник     0        253875   \n",
       "1    женат / замужем                 0      F   сотрудник     0        112080   \n",
       "2    женат / замужем                 0      M   сотрудник     0        145885   \n",
       "3    женат / замужем                 0      M   сотрудник     0        267628   \n",
       "4   гражданский брак                 1      F   пенсионер     0        158616   \n",
       "5   гражданский брак                 1      M   компаньон     0        255763   \n",
       "6    женат / замужем                 0      F   компаньон     0        240525   \n",
       "7    женат / замужем                 0      M   сотрудник     0        135823   \n",
       "8   гражданский брак                 1      F   сотрудник     0         95856   \n",
       "9    женат / замужем                 0      M   сотрудник     0        144425   \n",
       "10   женат / замужем                 0      M   компаньон     0        113943   \n",
       "11   женат / замужем                 0      F   сотрудник     0         77069   \n",
       "12  гражданский брак                 1      M   пенсионер     0        145017   \n",
       "13   женат / замужем                 0      F   сотрудник     0        130458   \n",
       "14  гражданский брак                 1      F   компаньон     1        165127   \n",
       "15   женат / замужем                 0      F   сотрудник     0        116820   \n",
       "16   женат / замужем                 0      F   сотрудник     0        289202   \n",
       "17  гражданский брак                 1      M   сотрудник     0         90410   \n",
       "18    вдовец / вдова                 2      F   пенсионер     0         56823   \n",
       "19         в разводе                 3      F   сотрудник     0        242831   \n",
       "\n",
       "                                   purpose purpose_category  \n",
       "0                            покупка жилья            жилье  \n",
       "1                  приобретение автомобиля       автомобиль  \n",
       "2                            покупка жилья            жилье  \n",
       "3               дополнительное образование      образование  \n",
       "4                          сыграть свадьбу          свадьба  \n",
       "5                            покупка жилья            жилье  \n",
       "6                        операции с жильем            жилье  \n",
       "7                              образование      образование  \n",
       "8                    на проведение свадьбы          свадьба  \n",
       "9                  покупка жилья для семьи            жилье  \n",
       "10                    покупка недвижимости     недвижимость  \n",
       "11       покупка коммерческой недвижимости     недвижимость  \n",
       "12                         сыграть свадьбу          свадьба  \n",
       "13                 приобретение автомобиля       автомобиль  \n",
       "14              покупка жилой недвижимости            жилье  \n",
       "15  строительство собственной недвижимости     недвижимость  \n",
       "16                            недвижимость     недвижимость  \n",
       "17              строительство недвижимости     недвижимость  \n",
       "18      на покупку подержанного автомобиля       автомобиль  \n",
       "19            на покупку своего автомобиля       автомобиль  "
      ]
     },
     "execution_count": 42,
     "metadata": {},
     "output_type": "execute_result"
    }
   ],
   "source": [
    "df.head(20)"
   ]
  },
  {
   "cell_type": "markdown",
   "metadata": {},
   "source": [
    "**Вывод**"
   ]
  },
  {
   "cell_type": "markdown",
   "metadata": {},
   "source": [
    "\"У людей много \"масок\", но все они скрывают одно\". Тут точно так же - целей казалось много, но по факту их всего 6. \n",
    "\n",
    "Cоздан новый столбец `purpose_category` в котором написаны все цели заёмщиков"
   ]
  },
  {
   "cell_type": "markdown",
   "metadata": {},
   "source": [
    "### Категоризация данных"
   ]
  },
  {
   "cell_type": "markdown",
   "metadata": {},
   "source": [
    "Для получения результатов исследования, можно провести категоризацию можно четырех столбцов:\n",
    "   - Детей\n",
    "   - Дохода\n",
    "   - Семейного положения\n",
    "   - Целей кредита \n",
    "   \n",
    "Но, нет обходимости категоризовать `цели кредита` и `кол-во детей`. Т.к. будем исследовать каждый вариант из этих катогорий."
   ]
  },
  {
   "cell_type": "markdown",
   "metadata": {},
   "source": [
    "Для семейного положения: \n",
    "\n",
    "Уточним, сколько раз встречается каждый тип:"
   ]
  },
  {
   "cell_type": "code",
   "execution_count": 43,
   "metadata": {
    "scrolled": true
   },
   "outputs": [
    {
     "data": {
      "text/plain": [
       "женат / замужем          12339\n",
       "гражданский брак          4151\n",
       "не женат / не замужем     2810\n",
       "в разводе                 1195\n",
       "вдовец / вдова             959\n",
       "Name: family_status, dtype: int64"
      ]
     },
     "execution_count": 43,
     "metadata": {},
     "output_type": "execute_result"
    }
   ],
   "source": [
    "df['family_status'].value_counts()"
   ]
  },
  {
   "cell_type": "markdown",
   "metadata": {},
   "source": [
    "Создадим таблицу:"
   ]
  },
  {
   "cell_type": "code",
   "execution_count": 44,
   "metadata": {
    "scrolled": true
   },
   "outputs": [
    {
     "data": {
      "text/html": [
       "<div>\n",
       "<style scoped>\n",
       "    .dataframe tbody tr th:only-of-type {\n",
       "        vertical-align: middle;\n",
       "    }\n",
       "\n",
       "    .dataframe tbody tr th {\n",
       "        vertical-align: top;\n",
       "    }\n",
       "\n",
       "    .dataframe thead th {\n",
       "        text-align: right;\n",
       "    }\n",
       "</style>\n",
       "<table border=\"1\" class=\"dataframe\">\n",
       "  <thead>\n",
       "    <tr style=\"text-align: right;\">\n",
       "      <th></th>\n",
       "      <th>family_status_id</th>\n",
       "      <th>family_status</th>\n",
       "    </tr>\n",
       "  </thead>\n",
       "  <tbody>\n",
       "    <tr>\n",
       "      <td>0</td>\n",
       "      <td>0</td>\n",
       "      <td>женат / замужем</td>\n",
       "    </tr>\n",
       "    <tr>\n",
       "      <td>1</td>\n",
       "      <td>1</td>\n",
       "      <td>гражданский брак</td>\n",
       "    </tr>\n",
       "    <tr>\n",
       "      <td>2</td>\n",
       "      <td>2</td>\n",
       "      <td>вдовец / вдова</td>\n",
       "    </tr>\n",
       "    <tr>\n",
       "      <td>3</td>\n",
       "      <td>3</td>\n",
       "      <td>в разводе</td>\n",
       "    </tr>\n",
       "    <tr>\n",
       "      <td>4</td>\n",
       "      <td>4</td>\n",
       "      <td>не женат / не замужем</td>\n",
       "    </tr>\n",
       "  </tbody>\n",
       "</table>\n",
       "</div>"
      ],
      "text/plain": [
       "   family_status_id          family_status\n",
       "0                 0        женат / замужем\n",
       "1                 1       гражданский брак\n",
       "2                 2         вдовец / вдова\n",
       "3                 3              в разводе\n",
       "4                 4  не женат / не замужем"
      ]
     },
     "execution_count": 44,
     "metadata": {},
     "output_type": "execute_result"
    }
   ],
   "source": [
    "category_marial_status = df[['family_status_id', 'family_status']]\n",
    "category_marial_status = category_marial_status.drop_duplicates().reset_index(drop=True)\n",
    "category_marial_status"
   ]
  },
  {
   "cell_type": "markdown",
   "metadata": {},
   "source": [
    "Найдем минимальный, медианный и максимальный доход, для того, чтобы разбить клиентов на 3 категории:"
   ]
  },
  {
   "cell_type": "code",
   "execution_count": 45,
   "metadata": {
    "scrolled": true
   },
   "outputs": [
    {
     "name": "stdout",
     "output_type": "stream",
     "text": [
      "20667\n",
      "145017.0\n",
      "2265604\n"
     ]
    }
   ],
   "source": [
    "print(df['total_income'].min())\n",
    "print(df['total_income'].median())\n",
    "print(df['total_income'].max())"
   ]
  },
  {
   "cell_type": "markdown",
   "metadata": {},
   "source": [
    "Напишем функцию:"
   ]
  },
  {
   "cell_type": "code",
   "execution_count": 46,
   "metadata": {},
   "outputs": [],
   "source": [
    "def money(total_income):\n",
    "    if total_income <= 50000:\n",
    "        return 'низкий доход'\n",
    "    if total_income <= 200000:\n",
    "        return 'средний доход'\n",
    "    return 'высокий доход'\n",
    "\n",
    "df['income_category'] = df['total_income'].apply(money)"
   ]
  },
  {
   "cell_type": "code",
   "execution_count": 47,
   "metadata": {},
   "outputs": [
    {
     "data": {
      "text/html": [
       "<div>\n",
       "<style scoped>\n",
       "    .dataframe tbody tr th:only-of-type {\n",
       "        vertical-align: middle;\n",
       "    }\n",
       "\n",
       "    .dataframe tbody tr th {\n",
       "        vertical-align: top;\n",
       "    }\n",
       "\n",
       "    .dataframe thead th {\n",
       "        text-align: right;\n",
       "    }\n",
       "</style>\n",
       "<table border=\"1\" class=\"dataframe\">\n",
       "  <thead>\n",
       "    <tr style=\"text-align: right;\">\n",
       "      <th></th>\n",
       "      <th>children</th>\n",
       "      <th>days_employed</th>\n",
       "      <th>dob_years</th>\n",
       "      <th>education</th>\n",
       "      <th>education_id</th>\n",
       "      <th>family_status</th>\n",
       "      <th>family_status_id</th>\n",
       "      <th>gender</th>\n",
       "      <th>income_type</th>\n",
       "      <th>debt</th>\n",
       "      <th>total_income</th>\n",
       "      <th>purpose</th>\n",
       "      <th>purpose_category</th>\n",
       "      <th>income_category</th>\n",
       "    </tr>\n",
       "  </thead>\n",
       "  <tbody>\n",
       "    <tr>\n",
       "      <td>0</td>\n",
       "      <td>1</td>\n",
       "      <td>23</td>\n",
       "      <td>42</td>\n",
       "      <td>высшее</td>\n",
       "      <td>0</td>\n",
       "      <td>женат / замужем</td>\n",
       "      <td>0</td>\n",
       "      <td>F</td>\n",
       "      <td>сотрудник</td>\n",
       "      <td>0</td>\n",
       "      <td>253875</td>\n",
       "      <td>покупка жилья</td>\n",
       "      <td>жилье</td>\n",
       "      <td>высокий доход</td>\n",
       "    </tr>\n",
       "    <tr>\n",
       "      <td>1</td>\n",
       "      <td>1</td>\n",
       "      <td>11</td>\n",
       "      <td>36</td>\n",
       "      <td>среднее</td>\n",
       "      <td>1</td>\n",
       "      <td>женат / замужем</td>\n",
       "      <td>0</td>\n",
       "      <td>F</td>\n",
       "      <td>сотрудник</td>\n",
       "      <td>0</td>\n",
       "      <td>112080</td>\n",
       "      <td>приобретение автомобиля</td>\n",
       "      <td>автомобиль</td>\n",
       "      <td>средний доход</td>\n",
       "    </tr>\n",
       "    <tr>\n",
       "      <td>2</td>\n",
       "      <td>0</td>\n",
       "      <td>15</td>\n",
       "      <td>33</td>\n",
       "      <td>среднее</td>\n",
       "      <td>1</td>\n",
       "      <td>женат / замужем</td>\n",
       "      <td>0</td>\n",
       "      <td>M</td>\n",
       "      <td>сотрудник</td>\n",
       "      <td>0</td>\n",
       "      <td>145885</td>\n",
       "      <td>покупка жилья</td>\n",
       "      <td>жилье</td>\n",
       "      <td>средний доход</td>\n",
       "    </tr>\n",
       "    <tr>\n",
       "      <td>3</td>\n",
       "      <td>3</td>\n",
       "      <td>11</td>\n",
       "      <td>32</td>\n",
       "      <td>среднее</td>\n",
       "      <td>1</td>\n",
       "      <td>женат / замужем</td>\n",
       "      <td>0</td>\n",
       "      <td>M</td>\n",
       "      <td>сотрудник</td>\n",
       "      <td>0</td>\n",
       "      <td>267628</td>\n",
       "      <td>дополнительное образование</td>\n",
       "      <td>образование</td>\n",
       "      <td>высокий доход</td>\n",
       "    </tr>\n",
       "    <tr>\n",
       "      <td>4</td>\n",
       "      <td>0</td>\n",
       "      <td>38</td>\n",
       "      <td>53</td>\n",
       "      <td>среднее</td>\n",
       "      <td>1</td>\n",
       "      <td>гражданский брак</td>\n",
       "      <td>1</td>\n",
       "      <td>F</td>\n",
       "      <td>пенсионер</td>\n",
       "      <td>0</td>\n",
       "      <td>158616</td>\n",
       "      <td>сыграть свадьбу</td>\n",
       "      <td>свадьба</td>\n",
       "      <td>средний доход</td>\n",
       "    </tr>\n",
       "    <tr>\n",
       "      <td>5</td>\n",
       "      <td>0</td>\n",
       "      <td>2</td>\n",
       "      <td>27</td>\n",
       "      <td>высшее</td>\n",
       "      <td>0</td>\n",
       "      <td>гражданский брак</td>\n",
       "      <td>1</td>\n",
       "      <td>M</td>\n",
       "      <td>компаньон</td>\n",
       "      <td>0</td>\n",
       "      <td>255763</td>\n",
       "      <td>покупка жилья</td>\n",
       "      <td>жилье</td>\n",
       "      <td>высокий доход</td>\n",
       "    </tr>\n",
       "    <tr>\n",
       "      <td>6</td>\n",
       "      <td>0</td>\n",
       "      <td>7</td>\n",
       "      <td>43</td>\n",
       "      <td>высшее</td>\n",
       "      <td>0</td>\n",
       "      <td>женат / замужем</td>\n",
       "      <td>0</td>\n",
       "      <td>F</td>\n",
       "      <td>компаньон</td>\n",
       "      <td>0</td>\n",
       "      <td>240525</td>\n",
       "      <td>операции с жильем</td>\n",
       "      <td>жилье</td>\n",
       "      <td>высокий доход</td>\n",
       "    </tr>\n",
       "    <tr>\n",
       "      <td>7</td>\n",
       "      <td>0</td>\n",
       "      <td>0</td>\n",
       "      <td>50</td>\n",
       "      <td>среднее</td>\n",
       "      <td>1</td>\n",
       "      <td>женат / замужем</td>\n",
       "      <td>0</td>\n",
       "      <td>M</td>\n",
       "      <td>сотрудник</td>\n",
       "      <td>0</td>\n",
       "      <td>135823</td>\n",
       "      <td>образование</td>\n",
       "      <td>образование</td>\n",
       "      <td>средний доход</td>\n",
       "    </tr>\n",
       "    <tr>\n",
       "      <td>8</td>\n",
       "      <td>2</td>\n",
       "      <td>18</td>\n",
       "      <td>35</td>\n",
       "      <td>высшее</td>\n",
       "      <td>0</td>\n",
       "      <td>гражданский брак</td>\n",
       "      <td>1</td>\n",
       "      <td>F</td>\n",
       "      <td>сотрудник</td>\n",
       "      <td>0</td>\n",
       "      <td>95856</td>\n",
       "      <td>на проведение свадьбы</td>\n",
       "      <td>свадьба</td>\n",
       "      <td>средний доход</td>\n",
       "    </tr>\n",
       "    <tr>\n",
       "      <td>9</td>\n",
       "      <td>0</td>\n",
       "      <td>5</td>\n",
       "      <td>41</td>\n",
       "      <td>среднее</td>\n",
       "      <td>1</td>\n",
       "      <td>женат / замужем</td>\n",
       "      <td>0</td>\n",
       "      <td>M</td>\n",
       "      <td>сотрудник</td>\n",
       "      <td>0</td>\n",
       "      <td>144425</td>\n",
       "      <td>покупка жилья для семьи</td>\n",
       "      <td>жилье</td>\n",
       "      <td>средний доход</td>\n",
       "    </tr>\n",
       "  </tbody>\n",
       "</table>\n",
       "</div>"
      ],
      "text/plain": [
       "   children  days_employed  dob_years education  education_id  \\\n",
       "0         1             23         42    высшее             0   \n",
       "1         1             11         36   среднее             1   \n",
       "2         0             15         33   среднее             1   \n",
       "3         3             11         32   среднее             1   \n",
       "4         0             38         53   среднее             1   \n",
       "5         0              2         27    высшее             0   \n",
       "6         0              7         43    высшее             0   \n",
       "7         0              0         50   среднее             1   \n",
       "8         2             18         35    высшее             0   \n",
       "9         0              5         41   среднее             1   \n",
       "\n",
       "      family_status  family_status_id gender income_type  debt  total_income  \\\n",
       "0   женат / замужем                 0      F   сотрудник     0        253875   \n",
       "1   женат / замужем                 0      F   сотрудник     0        112080   \n",
       "2   женат / замужем                 0      M   сотрудник     0        145885   \n",
       "3   женат / замужем                 0      M   сотрудник     0        267628   \n",
       "4  гражданский брак                 1      F   пенсионер     0        158616   \n",
       "5  гражданский брак                 1      M   компаньон     0        255763   \n",
       "6   женат / замужем                 0      F   компаньон     0        240525   \n",
       "7   женат / замужем                 0      M   сотрудник     0        135823   \n",
       "8  гражданский брак                 1      F   сотрудник     0         95856   \n",
       "9   женат / замужем                 0      M   сотрудник     0        144425   \n",
       "\n",
       "                      purpose purpose_category income_category  \n",
       "0               покупка жилья            жилье   высокий доход  \n",
       "1     приобретение автомобиля       автомобиль   средний доход  \n",
       "2               покупка жилья            жилье   средний доход  \n",
       "3  дополнительное образование      образование   высокий доход  \n",
       "4             сыграть свадьбу          свадьба   средний доход  \n",
       "5               покупка жилья            жилье   высокий доход  \n",
       "6           операции с жильем            жилье   высокий доход  \n",
       "7                 образование      образование   средний доход  \n",
       "8       на проведение свадьбы          свадьба   средний доход  \n",
       "9     покупка жилья для семьи            жилье   средний доход  "
      ]
     },
     "execution_count": 47,
     "metadata": {},
     "output_type": "execute_result"
    }
   ],
   "source": [
    "df.head(10)# провека таблицы с новой категорией заёмщиков"
   ]
  },
  {
   "cell_type": "markdown",
   "metadata": {},
   "source": [
    "**Вывод**"
   ]
  },
  {
   "cell_type": "markdown",
   "metadata": {},
   "source": [
    "Прокатегоризированы:\n",
    "   - Семейный статус и его id\n",
    "   - Доходы. Создан новый столбец с тремя уровнями заработка клиентов\n",
    "\n",
    "Теперь DataFrame полностью подготовлен в проверкам гепотез. "
   ]
  },
  {
   "cell_type": "markdown",
   "metadata": {},
   "source": [
    "## Шаг 3. Ответьте на вопросы"
   ]
  },
  {
   "cell_type": "markdown",
   "metadata": {},
   "source": [
    "- Есть ли зависимость между наличием детей и возвратом кредита в срок?"
   ]
  },
  {
   "cell_type": "markdown",
   "metadata": {},
   "source": [
    "Проверим этот вопрос. Для этого:\n",
    "   - Создадим таблицу, в которой будет указан % невозврата заёмщиков по колличеству детей"
   ]
  },
  {
   "cell_type": "code",
   "execution_count": 48,
   "metadata": {
    "scrolled": true
   },
   "outputs": [
    {
     "data": {
      "text/html": [
       "<style  type=\"text/css\" >\n",
       "</style><table id=\"T_38718504_9328_11ec_961c_02420a396206\" ><thead>    <tr>        <th class=\"blank level0\" ></th>        <th class=\"col_heading level0 col0\" colspan=2>Зависимость</th>    </tr>    <tr>        <th class=\"blank level1\" ></th>        <th class=\"col_heading level1 col0\" >% Невозврата</th>        <th class=\"col_heading level1 col1\" >Кол-во заёмщиков</th>    </tr>    <tr>        <th class=\"index_name level0\" >Кол-во детей</th>        <th class=\"blank\" ></th>        <th class=\"blank\" ></th>    </tr></thead><tbody>\n",
       "                <tr>\n",
       "                        <th id=\"T_38718504_9328_11ec_961c_02420a396206level0_row0\" class=\"row_heading level0 row0\" >0</th>\n",
       "                        <td id=\"T_38718504_9328_11ec_961c_02420a396206row0_col0\" class=\"data row0 col0\" >7.54%</td>\n",
       "                        <td id=\"T_38718504_9328_11ec_961c_02420a396206row0_col1\" class=\"data row0 col1\" >14091.00</td>\n",
       "            </tr>\n",
       "            <tr>\n",
       "                        <th id=\"T_38718504_9328_11ec_961c_02420a396206level0_row1\" class=\"row_heading level0 row1\" >1</th>\n",
       "                        <td id=\"T_38718504_9328_11ec_961c_02420a396206row1_col0\" class=\"data row1 col0\" >9.17%</td>\n",
       "                        <td id=\"T_38718504_9328_11ec_961c_02420a396206row1_col1\" class=\"data row1 col1\" >4855.00</td>\n",
       "            </tr>\n",
       "            <tr>\n",
       "                        <th id=\"T_38718504_9328_11ec_961c_02420a396206level0_row2\" class=\"row_heading level0 row2\" >2</th>\n",
       "                        <td id=\"T_38718504_9328_11ec_961c_02420a396206row2_col0\" class=\"data row2 col0\" >9.49%</td>\n",
       "                        <td id=\"T_38718504_9328_11ec_961c_02420a396206row2_col1\" class=\"data row2 col1\" >2128.00</td>\n",
       "            </tr>\n",
       "            <tr>\n",
       "                        <th id=\"T_38718504_9328_11ec_961c_02420a396206level0_row3\" class=\"row_heading level0 row3\" >3</th>\n",
       "                        <td id=\"T_38718504_9328_11ec_961c_02420a396206row3_col0\" class=\"data row3 col0\" >8.18%</td>\n",
       "                        <td id=\"T_38718504_9328_11ec_961c_02420a396206row3_col1\" class=\"data row3 col1\" >330.00</td>\n",
       "            </tr>\n",
       "            <tr>\n",
       "                        <th id=\"T_38718504_9328_11ec_961c_02420a396206level0_row4\" class=\"row_heading level0 row4\" >4</th>\n",
       "                        <td id=\"T_38718504_9328_11ec_961c_02420a396206row4_col0\" class=\"data row4 col0\" >9.76%</td>\n",
       "                        <td id=\"T_38718504_9328_11ec_961c_02420a396206row4_col1\" class=\"data row4 col1\" >41.00</td>\n",
       "            </tr>\n",
       "            <tr>\n",
       "                        <th id=\"T_38718504_9328_11ec_961c_02420a396206level0_row5\" class=\"row_heading level0 row5\" >5</th>\n",
       "                        <td id=\"T_38718504_9328_11ec_961c_02420a396206row5_col0\" class=\"data row5 col0\" >0.00%</td>\n",
       "                        <td id=\"T_38718504_9328_11ec_961c_02420a396206row5_col1\" class=\"data row5 col1\" >9.00</td>\n",
       "            </tr>\n",
       "    </tbody></table>"
      ],
      "text/plain": [
       "<pandas.io.formats.style.Styler at 0x7f57eb24e510>"
      ]
     },
     "execution_count": 48,
     "metadata": {},
     "output_type": "execute_result"
    }
   ],
   "source": [
    "relationship_of_children = df.groupby('children').agg({'debt':['mean','count']})\n",
    "# мультииндекс переменуем так:\n",
    "relationship_of_children = relationship_of_children.rename(columns={'debt':'Зависимость'}, level = 0)\n",
    "relationship_of_children = relationship_of_children.rename(columns={'mean':'% Невозврата', 'count':'Кол-во заёмщиков'}, level = 1)\n",
    "# индекс переменуем вот так:\n",
    "relationship_of_children.index = relationship_of_children.index.rename('Кол-во детей')\n",
    "#сменим формат числа через style.format\n",
    "relationship_of_children.style.format({('Зависимость', '% Невозврата'):'{:.2%}', ('Зависимость', 'Кол-во заёмщиков'):'{:.2f}',})"
   ]
  },
  {
   "cell_type": "markdown",
   "metadata": {},
   "source": [
    "**Вывод**"
   ]
  },
  {
   "cell_type": "markdown",
   "metadata": {},
   "source": [
    "- Бездетные заёмщики меньше просрачивают выплату кредита.\n",
    "- Из категорий заёмщиков с детьми: с 3 детьми чуть меньше просрочек по кредиту, но их число меньше чем, остальных (соответственно % невозврата менее точен, считаю, что этим можно пренебречь).\n",
    "- Заёмщики с наличием 5рых детей: тут возможно 2 варианта:\n",
    "    - Им помогает госсударство с выплатами (поэтому все платят в срок)\n",
    "    - Этими данными можно пренебречь, потому-что слишком малая выборка (на основании платёжеспособности 9 человек, нельзя делать полные выводы)"
   ]
  },
  {
   "cell_type": "markdown",
   "metadata": {},
   "source": [
    "- Есть ли зависимость между семейным положением и возвратом кредита в срок?"
   ]
  },
  {
   "cell_type": "markdown",
   "metadata": {},
   "source": [
    "Проверим этот вопрос. Для этого:\n",
    "   - Создадим таблицу, в которой будет указан % невозврата заёмщиков по семейному положению"
   ]
  },
  {
   "cell_type": "code",
   "execution_count": 49,
   "metadata": {},
   "outputs": [
    {
     "data": {
      "text/html": [
       "<style  type=\"text/css\" >\n",
       "</style><table id=\"T_3876af7a_9328_11ec_961c_02420a396206\" ><thead>    <tr>        <th class=\"blank\" ></th>        <th class=\"blank level0\" ></th>        <th class=\"col_heading level0 col0\" colspan=2>Зависимость</th>    </tr>    <tr>        <th class=\"blank\" ></th>        <th class=\"blank level1\" ></th>        <th class=\"col_heading level1 col0\" >% невозврата</th>        <th class=\"col_heading level1 col1\" >кол-во заёмщиков</th>    </tr>    <tr>        <th class=\"index_name level0\" >id с/п</th>        <th class=\"index_name level1\" >семейное положение</th>        <th class=\"blank\" ></th>        <th class=\"blank\" ></th>    </tr></thead><tbody>\n",
       "                <tr>\n",
       "                        <th id=\"T_3876af7a_9328_11ec_961c_02420a396206level0_row0\" class=\"row_heading level0 row0\" >0</th>\n",
       "                        <th id=\"T_3876af7a_9328_11ec_961c_02420a396206level1_row0\" class=\"row_heading level1 row0\" >женат / замужем</th>\n",
       "                        <td id=\"T_3876af7a_9328_11ec_961c_02420a396206row0_col0\" class=\"data row0 col0\" >7.55%</td>\n",
       "                        <td id=\"T_3876af7a_9328_11ec_961c_02420a396206row0_col1\" class=\"data row0 col1\" >12339.00</td>\n",
       "            </tr>\n",
       "            <tr>\n",
       "                        <th id=\"T_3876af7a_9328_11ec_961c_02420a396206level0_row1\" class=\"row_heading level0 row1\" >1</th>\n",
       "                        <th id=\"T_3876af7a_9328_11ec_961c_02420a396206level1_row1\" class=\"row_heading level1 row1\" >гражданский брак</th>\n",
       "                        <td id=\"T_3876af7a_9328_11ec_961c_02420a396206row1_col0\" class=\"data row1 col0\" >9.35%</td>\n",
       "                        <td id=\"T_3876af7a_9328_11ec_961c_02420a396206row1_col1\" class=\"data row1 col1\" >4151.00</td>\n",
       "            </tr>\n",
       "            <tr>\n",
       "                        <th id=\"T_3876af7a_9328_11ec_961c_02420a396206level0_row2\" class=\"row_heading level0 row2\" >2</th>\n",
       "                        <th id=\"T_3876af7a_9328_11ec_961c_02420a396206level1_row2\" class=\"row_heading level1 row2\" >вдовец / вдова</th>\n",
       "                        <td id=\"T_3876af7a_9328_11ec_961c_02420a396206row2_col0\" class=\"data row2 col0\" >6.57%</td>\n",
       "                        <td id=\"T_3876af7a_9328_11ec_961c_02420a396206row2_col1\" class=\"data row2 col1\" >959.00</td>\n",
       "            </tr>\n",
       "            <tr>\n",
       "                        <th id=\"T_3876af7a_9328_11ec_961c_02420a396206level0_row3\" class=\"row_heading level0 row3\" >3</th>\n",
       "                        <th id=\"T_3876af7a_9328_11ec_961c_02420a396206level1_row3\" class=\"row_heading level1 row3\" >в разводе</th>\n",
       "                        <td id=\"T_3876af7a_9328_11ec_961c_02420a396206row3_col0\" class=\"data row3 col0\" >7.11%</td>\n",
       "                        <td id=\"T_3876af7a_9328_11ec_961c_02420a396206row3_col1\" class=\"data row3 col1\" >1195.00</td>\n",
       "            </tr>\n",
       "            <tr>\n",
       "                        <th id=\"T_3876af7a_9328_11ec_961c_02420a396206level0_row4\" class=\"row_heading level0 row4\" >4</th>\n",
       "                        <th id=\"T_3876af7a_9328_11ec_961c_02420a396206level1_row4\" class=\"row_heading level1 row4\" >не женат / не замужем</th>\n",
       "                        <td id=\"T_3876af7a_9328_11ec_961c_02420a396206row4_col0\" class=\"data row4 col0\" >9.75%</td>\n",
       "                        <td id=\"T_3876af7a_9328_11ec_961c_02420a396206row4_col1\" class=\"data row4 col1\" >2810.00</td>\n",
       "            </tr>\n",
       "    </tbody></table>"
      ],
      "text/plain": [
       "<pandas.io.formats.style.Styler at 0x7f5833965190>"
      ]
     },
     "execution_count": 49,
     "metadata": {},
     "output_type": "execute_result"
    }
   ],
   "source": [
    "dependence_on_income = df.groupby(['family_status_id','family_status']).agg({'debt':['mean','count']})\n",
    "dependence_on_income = dependence_on_income.rename(columns = {'debt':'Зависимость'}, level = 0)\n",
    "dependence_on_income = dependence_on_income.rename(columns = {'mean':'% невозврата', 'count':'кол-во заёмщиков'}, level = 1)\n",
    "dependence_on_income.index = dependence_on_income.index.rename(['id с/п', 'семейное положение'])\n",
    "dependence_on_income.style.format({('Зависимость','% невозврата'):'{:.2%}', ('Зависимость', 'кол-во заёмщиков'):'{:.2f}'})"
   ]
  },
  {
   "cell_type": "markdown",
   "metadata": {},
   "source": [
    "**Вывод**"
   ]
  },
  {
   "cell_type": "markdown",
   "metadata": {},
   "source": [
    "Проализировав данную таблицу сделаем выводы:\n",
    "   - Самый высокий % невозврата кредита наблюдаем у людей не бывавших в браке.\n",
    "   \n",
    "Вероятнее всего это связано:\n",
    "   - С Финансовой точки зрения. (Жить в браке и иметь общий доход - менее денежно-затратнее, чем по отдельности. След-но люди состоявшие/побывавшие в браке более кредито-способные)\n",
    "   - психологически (у людей не бывавших в браке - меньше уровень ответственности (перед супругом / детьми)."
   ]
  },
  {
   "cell_type": "markdown",
   "metadata": {},
   "source": [
    "- Есть ли зависимость между уровнем дохода и возвратом кредита в срок?"
   ]
  },
  {
   "cell_type": "markdown",
   "metadata": {},
   "source": [
    "Проверим этот вопрос. Для этого:\n",
    "   - Создадим таблицу, в которой будет указан % невозврата заёмщиков по уровню дохода"
   ]
  },
  {
   "cell_type": "code",
   "execution_count": 50,
   "metadata": {},
   "outputs": [
    {
     "data": {
      "text/html": [
       "<style  type=\"text/css\" >\n",
       "</style><table id=\"T_387c6622_9328_11ec_961c_02420a396206\" ><thead>    <tr>        <th class=\"blank level0\" ></th>        <th class=\"col_heading level0 col0\" colspan=2>Зависимость</th>    </tr>    <tr>        <th class=\"blank level1\" ></th>        <th class=\"col_heading level1 col0\" >% невозврата</th>        <th class=\"col_heading level1 col1\" >кол-во заёмщиков</th>    </tr>    <tr>        <th class=\"index_name level0\" >уровень дохода</th>        <th class=\"blank\" ></th>        <th class=\"blank\" ></th>    </tr></thead><tbody>\n",
       "                <tr>\n",
       "                        <th id=\"T_387c6622_9328_11ec_961c_02420a396206level0_row0\" class=\"row_heading level0 row0\" >высокий доход</th>\n",
       "                        <td id=\"T_387c6622_9328_11ec_961c_02420a396206row0_col0\" class=\"data row0 col0\" >7.07%</td>\n",
       "                        <td id=\"T_387c6622_9328_11ec_961c_02420a396206row0_col1\" class=\"data row0 col1\" >5066.00</td>\n",
       "            </tr>\n",
       "            <tr>\n",
       "                        <th id=\"T_387c6622_9328_11ec_961c_02420a396206level0_row1\" class=\"row_heading level0 row1\" >низкий доход</th>\n",
       "                        <td id=\"T_387c6622_9328_11ec_961c_02420a396206row1_col0\" class=\"data row1 col0\" >6.18%</td>\n",
       "                        <td id=\"T_387c6622_9328_11ec_961c_02420a396206row1_col1\" class=\"data row1 col1\" >372.00</td>\n",
       "            </tr>\n",
       "            <tr>\n",
       "                        <th id=\"T_387c6622_9328_11ec_961c_02420a396206level0_row2\" class=\"row_heading level0 row2\" >средний доход</th>\n",
       "                        <td id=\"T_387c6622_9328_11ec_961c_02420a396206row2_col0\" class=\"data row2 col0\" >8.49%</td>\n",
       "                        <td id=\"T_387c6622_9328_11ec_961c_02420a396206row2_col1\" class=\"data row2 col1\" >16016.00</td>\n",
       "            </tr>\n",
       "    </tbody></table>"
      ],
      "text/plain": [
       "<pandas.io.formats.style.Styler at 0x7f583340b910>"
      ]
     },
     "execution_count": 50,
     "metadata": {},
     "output_type": "execute_result"
    }
   ],
   "source": [
    "dependence_on_income = df.groupby('income_category').agg({'debt':['mean','count']})\n",
    "dependence_on_income = dependence_on_income.rename(columns = {'debt':'Зависимость'}, level = 0)\n",
    "dependence_on_income = dependence_on_income.rename(columns = {'mean':'% невозврата', 'count':'кол-во заёмщиков'}, level = 1)\n",
    "dependence_on_income.index = dependence_on_income.index.rename('уровень дохода')\n",
    "dependence_on_income.style.format({('Зависимость','% невозврата'):'{:.2%}', ('Зависимость', 'кол-во заёмщиков'):'{:.2f}'})"
   ]
  },
  {
   "cell_type": "markdown",
   "metadata": {},
   "source": [
    "**Вывод**"
   ]
  },
  {
   "cell_type": "markdown",
   "metadata": {},
   "source": [
    "У заёмщиков с низким уровнем дохода % невозврата меньше всех (6%), но тут как и с детьми - крайне малая выборка. Возможны такие варианты:\n",
    "   - Серая заработная плата, которая не учитывается в общий доход\n",
    "   - Заёмщикам с низким уровенем дохода, банк выдаст только малый кредит. Соответственно людям с наличием сторонник доходов, будет легче выплатить малый кредит. Но повторюсь, слишком малая выборка\n",
    "   \n",
    "Разберем подробнее оставшиеся две категории (`высокий доход` и `средний доход`). Тут получили ожидаемый результат:\n",
    "   - Вероятнее всего, у людей с высоким уровнем дохода имеется 'валютная подушка' на разные случаи жизни. И соответственно, при возникновении 'чего-либо' им гораздо легче выплатить долг перед банков, нежели среднякам."
   ]
  },
  {
   "cell_type": "markdown",
   "metadata": {},
   "source": [
    "- Как разные цели кредита влияют на его возврат в срок?"
   ]
  },
  {
   "cell_type": "markdown",
   "metadata": {},
   "source": [
    "Проверим этот вопрос. Для этого:\n",
    "   - Создадим таблицу, в которой будет указан % невозврата заёмщиков относительно целям взятия кредита"
   ]
  },
  {
   "cell_type": "code",
   "execution_count": 51,
   "metadata": {},
   "outputs": [
    {
     "data": {
      "text/html": [
       "<style  type=\"text/css\" >\n",
       "</style><table id=\"T_38826004_9328_11ec_961c_02420a396206\" ><thead>    <tr>        <th class=\"blank level0\" ></th>        <th class=\"col_heading level0 col0\" colspan=2>Зависимость</th>    </tr>    <tr>        <th class=\"blank level1\" ></th>        <th class=\"col_heading level1 col0\" >% невозврата</th>        <th class=\"col_heading level1 col1\" >кол-во заёмщиков</th>    </tr>    <tr>        <th class=\"index_name level0\" >цель кредита</th>        <th class=\"blank\" ></th>        <th class=\"blank\" ></th>    </tr></thead><tbody>\n",
       "                <tr>\n",
       "                        <th id=\"T_38826004_9328_11ec_961c_02420a396206level0_row0\" class=\"row_heading level0 row0\" >автомобиль</th>\n",
       "                        <td id=\"T_38826004_9328_11ec_961c_02420a396206row0_col0\" class=\"data row0 col0\" >9.36%</td>\n",
       "                        <td id=\"T_38826004_9328_11ec_961c_02420a396206row0_col1\" class=\"data row0 col1\" >4306.00</td>\n",
       "            </tr>\n",
       "            <tr>\n",
       "                        <th id=\"T_38826004_9328_11ec_961c_02420a396206level0_row1\" class=\"row_heading level0 row1\" >жилье</th>\n",
       "                        <td id=\"T_38826004_9328_11ec_961c_02420a396206row1_col0\" class=\"data row1 col0\" >6.98%</td>\n",
       "                        <td id=\"T_38826004_9328_11ec_961c_02420a396206row1_col1\" class=\"data row1 col1\" >5690.00</td>\n",
       "            </tr>\n",
       "            <tr>\n",
       "                        <th id=\"T_38826004_9328_11ec_961c_02420a396206level0_row2\" class=\"row_heading level0 row2\" >недвижимость</th>\n",
       "                        <td id=\"T_38826004_9328_11ec_961c_02420a396206row2_col0\" class=\"data row2 col0\" >7.52%</td>\n",
       "                        <td id=\"T_38826004_9328_11ec_961c_02420a396206row2_col1\" class=\"data row2 col1\" >5121.00</td>\n",
       "            </tr>\n",
       "            <tr>\n",
       "                        <th id=\"T_38826004_9328_11ec_961c_02420a396206level0_row3\" class=\"row_heading level0 row3\" >образование</th>\n",
       "                        <td id=\"T_38826004_9328_11ec_961c_02420a396206row3_col0\" class=\"data row3 col0\" >9.22%</td>\n",
       "                        <td id=\"T_38826004_9328_11ec_961c_02420a396206row3_col1\" class=\"data row3 col1\" >4013.00</td>\n",
       "            </tr>\n",
       "            <tr>\n",
       "                        <th id=\"T_38826004_9328_11ec_961c_02420a396206level0_row4\" class=\"row_heading level0 row4\" >свадьба</th>\n",
       "                        <td id=\"T_38826004_9328_11ec_961c_02420a396206row4_col0\" class=\"data row4 col0\" >8.00%</td>\n",
       "                        <td id=\"T_38826004_9328_11ec_961c_02420a396206row4_col1\" class=\"data row4 col1\" >2324.00</td>\n",
       "            </tr>\n",
       "    </tbody></table>"
      ],
      "text/plain": [
       "<pandas.io.formats.style.Styler at 0x7f57eaa7f1d0>"
      ]
     },
     "execution_count": 51,
     "metadata": {},
     "output_type": "execute_result"
    }
   ],
   "source": [
    "dependence_purpose_credit = df.groupby('purpose_category').agg({'debt':['mean','count']})\n",
    "dependence_purpose_credit = dependence_purpose_credit.rename(columns = {'debt':'Зависимость'}, level = 0)\n",
    "dependence_purpose_credit = dependence_purpose_credit.rename(columns = {'mean':'% невозврата', 'count':'кол-во заёмщиков'}, level = 1)\n",
    "dependence_purpose_credit.index = dependence_purpose_credit.index.rename('цель кредита')\n",
    "dependence_purpose_credit.style.format({('Зависимость','% невозврата'):'{:.2%}', ('Зависимость', 'кол-во заёмщиков'):'{:.2f}'})"
   ]
  },
  {
   "cell_type": "markdown",
   "metadata": {},
   "source": [
    "**Вывод**"
   ]
  },
  {
   "cell_type": "markdown",
   "metadata": {},
   "source": [
    "Наиболее надежными категориями для банка являются жилье и недвижимость (p.s. для ревьюера: я не стал их объединять, т.к. считаю, что это разные категории).\n",
    "\n",
    "Чаще всего видим просрочку кредита на категории: автомобиль и образование. "
   ]
  },
  {
   "cell_type": "markdown",
   "metadata": {},
   "source": [
    "## Шаг 4. Общий вывод"
   ]
  },
  {
   "cell_type": "markdown",
   "metadata": {},
   "source": [
    "Подведем итог:\n",
    "\n",
    "   - Наличие детей негативно влияет на выплату кредита (чем больше детей, тем больше рисков имеет банк).\n",
    "   \n",
    "   - Состоявших ранее браке / находящиеся в браке заёмщики , являются более платёжеспособными по кредиту(более ответственны).\n",
    "   \n",
    "   - Люди с высоким уровнем дохода совершают меньше просрочек, чем со средним уровнем достатка.\n",
    "  \n",
    "Самые рискованные \"цели\" кредита это:\n",
    "   - Автомобили\n",
    "   - Образование\n",
    "   \n",
    "Самыми надежными \"целями\" кредита являются:\n",
    "   - Жилье\n",
    "   - Недвижимость"
   ]
  }
 ],
 "metadata": {
  "ExecuteTimeLog": [
   {
    "duration": 695,
    "start_time": "2021-11-04T10:02:25.344Z"
   },
   {
    "duration": 1175,
    "start_time": "2021-11-04T10:54:02.099Z"
   },
   {
    "duration": 58,
    "start_time": "2021-11-04T10:54:10.216Z"
   },
   {
    "duration": 20,
    "start_time": "2021-11-04T10:54:10.276Z"
   },
   {
    "duration": 21,
    "start_time": "2021-11-04T11:04:10.626Z"
   },
   {
    "duration": 9,
    "start_time": "2021-11-04T11:06:55.628Z"
   },
   {
    "duration": 124,
    "start_time": "2021-11-04T11:19:30.345Z"
   },
   {
    "duration": 7,
    "start_time": "2021-11-04T11:26:16.411Z"
   },
   {
    "duration": 6,
    "start_time": "2021-11-04T11:28:07.837Z"
   },
   {
    "duration": 8,
    "start_time": "2021-11-04T11:28:19.679Z"
   },
   {
    "duration": 6,
    "start_time": "2021-11-04T11:28:29.375Z"
   },
   {
    "duration": 8,
    "start_time": "2021-11-04T11:28:32.978Z"
   },
   {
    "duration": 1601,
    "start_time": "2021-11-04T11:39:14.520Z"
   },
   {
    "duration": 65,
    "start_time": "2021-11-04T11:39:21.644Z"
   },
   {
    "duration": 24,
    "start_time": "2021-11-04T11:39:21.713Z"
   },
   {
    "duration": 12,
    "start_time": "2021-11-04T11:39:21.816Z"
   },
   {
    "duration": 1594,
    "start_time": "2021-11-04T11:39:21.831Z"
   },
   {
    "duration": 4,
    "start_time": "2021-11-04T11:39:23.427Z"
   },
   {
    "duration": 1517,
    "start_time": "2021-11-04T11:39:33.536Z"
   },
   {
    "duration": 6,
    "start_time": "2021-11-04T11:39:36.604Z"
   },
   {
    "duration": 4,
    "start_time": "2021-11-04T11:39:39.872Z"
   },
   {
    "duration": 5,
    "start_time": "2021-11-04T11:39:41.893Z"
   },
   {
    "duration": 5,
    "start_time": "2021-11-04T11:39:50.204Z"
   },
   {
    "duration": 11,
    "start_time": "2021-11-04T11:39:56.352Z"
   },
   {
    "duration": 5,
    "start_time": "2021-11-04T11:40:07.346Z"
   },
   {
    "duration": 4,
    "start_time": "2021-11-04T11:40:09.689Z"
   },
   {
    "duration": 5,
    "start_time": "2021-11-04T11:40:21.180Z"
   },
   {
    "duration": 5,
    "start_time": "2021-11-04T11:40:30.986Z"
   },
   {
    "duration": 6,
    "start_time": "2021-11-04T11:40:34.482Z"
   },
   {
    "duration": 2,
    "start_time": "2021-11-04T11:40:41.934Z"
   },
   {
    "duration": 12,
    "start_time": "2021-11-04T11:40:44.660Z"
   },
   {
    "duration": 6,
    "start_time": "2021-11-04T11:40:46.931Z"
   },
   {
    "duration": 5,
    "start_time": "2021-11-04T11:40:49.154Z"
   },
   {
    "duration": 7,
    "start_time": "2021-11-04T11:41:18.202Z"
   },
   {
    "duration": 6,
    "start_time": "2021-11-04T11:41:32.375Z"
   },
   {
    "duration": 9,
    "start_time": "2021-11-04T11:41:53.502Z"
   },
   {
    "duration": 6,
    "start_time": "2021-11-04T11:42:00.740Z"
   },
   {
    "duration": 6,
    "start_time": "2021-11-04T11:42:23.947Z"
   },
   {
    "duration": 3,
    "start_time": "2021-11-04T11:53:02.995Z"
   },
   {
    "duration": 5,
    "start_time": "2021-11-04T12:05:40.769Z"
   },
   {
    "duration": 1358,
    "start_time": "2021-11-04T12:09:27.945Z"
   },
   {
    "duration": 11,
    "start_time": "2021-11-04T12:09:54.646Z"
   },
   {
    "duration": 3,
    "start_time": "2021-11-04T12:12:22.021Z"
   },
   {
    "duration": 9,
    "start_time": "2021-11-04T13:37:53.235Z"
   },
   {
    "duration": 8,
    "start_time": "2021-11-04T13:41:46.980Z"
   },
   {
    "duration": 13,
    "start_time": "2021-11-04T13:42:22.756Z"
   },
   {
    "duration": 21,
    "start_time": "2021-11-04T13:43:46.256Z"
   },
   {
    "duration": 973,
    "start_time": "2021-11-04T18:40:36.064Z"
   },
   {
    "duration": 88,
    "start_time": "2021-11-04T18:40:37.041Z"
   },
   {
    "duration": 15,
    "start_time": "2021-11-04T18:40:37.133Z"
   },
   {
    "duration": 5,
    "start_time": "2021-11-04T18:40:37.151Z"
   },
   {
    "duration": 9,
    "start_time": "2021-11-04T18:40:37.159Z"
   },
   {
    "duration": 15,
    "start_time": "2021-11-04T18:40:37.171Z"
   },
   {
    "duration": 55,
    "start_time": "2021-11-04T18:40:37.189Z"
   },
   {
    "duration": 11,
    "start_time": "2021-11-04T18:41:56.831Z"
   },
   {
    "duration": 10,
    "start_time": "2021-11-04T18:42:05.556Z"
   },
   {
    "duration": 27,
    "start_time": "2021-11-04T18:42:17.705Z"
   },
   {
    "duration": 5,
    "start_time": "2021-11-04T18:42:38.322Z"
   },
   {
    "duration": 27,
    "start_time": "2021-11-04T18:43:23.275Z"
   },
   {
    "duration": 14,
    "start_time": "2021-11-04T18:43:57.053Z"
   },
   {
    "duration": 9,
    "start_time": "2021-11-04T18:48:44.677Z"
   },
   {
    "duration": 5,
    "start_time": "2021-11-04T18:49:08.894Z"
   },
   {
    "duration": 27,
    "start_time": "2021-11-04T18:49:11.438Z"
   },
   {
    "duration": 8,
    "start_time": "2021-11-04T18:52:24.186Z"
   },
   {
    "duration": 9,
    "start_time": "2021-11-04T18:52:35.982Z"
   },
   {
    "duration": 29,
    "start_time": "2021-11-04T18:53:01.288Z"
   },
   {
    "duration": 100,
    "start_time": "2021-11-04T18:54:05.055Z"
   },
   {
    "duration": 5,
    "start_time": "2021-11-04T18:54:22.161Z"
   },
   {
    "duration": 75,
    "start_time": "2021-11-04T18:54:53.811Z"
   },
   {
    "duration": 55,
    "start_time": "2021-11-04T18:54:53.890Z"
   },
   {
    "duration": 14,
    "start_time": "2021-11-04T18:54:53.950Z"
   },
   {
    "duration": 4,
    "start_time": "2021-11-04T18:54:53.968Z"
   },
   {
    "duration": 9,
    "start_time": "2021-11-04T18:54:53.975Z"
   },
   {
    "duration": 51,
    "start_time": "2021-11-04T18:54:53.987Z"
   },
   {
    "duration": 13,
    "start_time": "2021-11-04T18:54:54.041Z"
   },
   {
    "duration": 20,
    "start_time": "2021-11-04T18:54:54.058Z"
   },
   {
    "duration": 28,
    "start_time": "2021-11-04T18:54:54.081Z"
   },
   {
    "duration": 13,
    "start_time": "2021-11-04T18:54:54.130Z"
   },
   {
    "duration": 11,
    "start_time": "2021-11-04T18:55:32.301Z"
   },
   {
    "duration": 13,
    "start_time": "2021-11-04T18:58:19.005Z"
   },
   {
    "duration": 14,
    "start_time": "2021-11-04T19:04:42.233Z"
   },
   {
    "duration": 27,
    "start_time": "2021-11-04T19:05:58.325Z"
   },
   {
    "duration": 18,
    "start_time": "2021-11-04T19:37:08.245Z"
   },
   {
    "duration": 4,
    "start_time": "2021-11-04T19:39:36.943Z"
   },
   {
    "duration": 13,
    "start_time": "2021-11-04T19:40:32.090Z"
   },
   {
    "duration": 20,
    "start_time": "2021-11-04T19:40:43.722Z"
   },
   {
    "duration": 33,
    "start_time": "2021-11-04T19:45:20.915Z"
   },
   {
    "duration": 32,
    "start_time": "2021-11-04T19:45:26.581Z"
   },
   {
    "duration": 79,
    "start_time": "2021-11-04T19:45:33.053Z"
   },
   {
    "duration": 33,
    "start_time": "2021-11-04T19:45:37.089Z"
   },
   {
    "duration": 33,
    "start_time": "2021-11-04T19:45:43.882Z"
   },
   {
    "duration": 39,
    "start_time": "2021-11-04T19:45:49.455Z"
   },
   {
    "duration": 132,
    "start_time": "2021-11-04T19:55:19.992Z"
   },
   {
    "duration": 4,
    "start_time": "2021-11-04T19:55:41.621Z"
   },
   {
    "duration": 34,
    "start_time": "2021-11-04T19:56:37.071Z"
   },
   {
    "duration": 3,
    "start_time": "2021-11-04T19:56:52.226Z"
   },
   {
    "duration": 33,
    "start_time": "2021-11-04T19:56:56.056Z"
   },
   {
    "duration": 12,
    "start_time": "2021-11-04T19:57:32.130Z"
   },
   {
    "duration": 33,
    "start_time": "2021-11-04T19:57:34.238Z"
   },
   {
    "duration": 96,
    "start_time": "2021-11-04T19:57:49.599Z"
   },
   {
    "duration": 3,
    "start_time": "2021-11-04T19:57:57.082Z"
   },
   {
    "duration": 34,
    "start_time": "2021-11-04T19:57:58.641Z"
   },
   {
    "duration": 35,
    "start_time": "2021-11-04T19:58:10.048Z"
   },
   {
    "duration": 70,
    "start_time": "2021-11-04T19:58:28.675Z"
   },
   {
    "duration": 32,
    "start_time": "2021-11-04T19:58:28.747Z"
   },
   {
    "duration": 12,
    "start_time": "2021-11-04T19:58:28.782Z"
   },
   {
    "duration": 3,
    "start_time": "2021-11-04T19:58:28.803Z"
   },
   {
    "duration": 14,
    "start_time": "2021-11-04T19:58:28.872Z"
   },
   {
    "duration": 6,
    "start_time": "2021-11-04T19:58:28.888Z"
   },
   {
    "duration": 11,
    "start_time": "2021-11-04T19:58:28.897Z"
   },
   {
    "duration": 12,
    "start_time": "2021-11-04T19:58:28.914Z"
   },
   {
    "duration": 18,
    "start_time": "2021-11-04T19:58:28.933Z"
   },
   {
    "duration": 13,
    "start_time": "2021-11-04T19:58:28.959Z"
   },
   {
    "duration": 3,
    "start_time": "2021-11-04T19:58:28.975Z"
   },
   {
    "duration": 16,
    "start_time": "2021-11-04T19:58:28.981Z"
   },
   {
    "duration": 36,
    "start_time": "2021-11-04T19:58:29.038Z"
   },
   {
    "duration": 82,
    "start_time": "2021-11-04T19:58:29.077Z"
   },
   {
    "duration": 2803,
    "start_time": "2021-11-04T19:58:26.359Z"
   },
   {
    "duration": 16,
    "start_time": "2021-11-04T19:58:29.227Z"
   },
   {
    "duration": 33,
    "start_time": "2021-11-04T19:58:37.946Z"
   },
   {
    "duration": 34,
    "start_time": "2021-11-04T19:59:48.688Z"
   },
   {
    "duration": 12,
    "start_time": "2021-11-04T20:00:01.670Z"
   },
   {
    "duration": 34,
    "start_time": "2021-11-04T20:00:05.000Z"
   },
   {
    "duration": 6,
    "start_time": "2021-11-04T20:25:16.621Z"
   },
   {
    "duration": 180,
    "start_time": "2021-11-04T20:25:33.605Z"
   },
   {
    "duration": 16,
    "start_time": "2021-11-04T20:25:49.219Z"
   },
   {
    "duration": 16,
    "start_time": "2021-11-04T20:41:14.074Z"
   },
   {
    "duration": 675,
    "start_time": "2021-11-05T09:27:07.174Z"
   },
   {
    "duration": 26,
    "start_time": "2021-11-05T09:27:07.850Z"
   },
   {
    "duration": 11,
    "start_time": "2021-11-05T09:27:07.879Z"
   },
   {
    "duration": 3,
    "start_time": "2021-11-05T09:27:07.892Z"
   },
   {
    "duration": 12,
    "start_time": "2021-11-05T09:27:07.896Z"
   },
   {
    "duration": 12,
    "start_time": "2021-11-05T09:27:07.910Z"
   },
   {
    "duration": 4,
    "start_time": "2021-11-05T09:27:07.924Z"
   },
   {
    "duration": 6,
    "start_time": "2021-11-05T09:27:07.930Z"
   },
   {
    "duration": 18,
    "start_time": "2021-11-05T09:27:07.962Z"
   },
   {
    "duration": 9,
    "start_time": "2021-11-05T09:27:07.982Z"
   },
   {
    "duration": 3,
    "start_time": "2021-11-05T09:27:07.992Z"
   },
   {
    "duration": 13,
    "start_time": "2021-11-05T09:27:07.997Z"
   },
   {
    "duration": 23,
    "start_time": "2021-11-05T09:27:08.011Z"
   },
   {
    "duration": 41,
    "start_time": "2021-11-05T09:27:08.036Z"
   },
   {
    "duration": 22,
    "start_time": "2021-11-05T09:27:08.079Z"
   },
   {
    "duration": 16,
    "start_time": "2021-11-05T09:27:08.102Z"
   },
   {
    "duration": 18,
    "start_time": "2021-11-05T09:27:08.120Z"
   },
   {
    "duration": 23,
    "start_time": "2021-11-05T09:27:08.140Z"
   },
   {
    "duration": 8,
    "start_time": "2021-11-05T09:27:52.048Z"
   },
   {
    "duration": 83,
    "start_time": "2021-11-05T09:28:48.636Z"
   },
   {
    "duration": 4603,
    "start_time": "2021-11-05T09:28:55.073Z"
   },
   {
    "duration": 258,
    "start_time": "2021-11-05T09:29:06.508Z"
   },
   {
    "duration": 7,
    "start_time": "2021-11-05T09:30:03.309Z"
   },
   {
    "duration": 7,
    "start_time": "2021-11-05T09:34:50.945Z"
   },
   {
    "duration": 8,
    "start_time": "2021-11-05T09:36:28.936Z"
   },
   {
    "duration": 7,
    "start_time": "2021-11-05T09:37:19.283Z"
   },
   {
    "duration": 8,
    "start_time": "2021-11-05T09:38:18.542Z"
   },
   {
    "duration": 6,
    "start_time": "2021-11-05T09:39:32.684Z"
   },
   {
    "duration": 8,
    "start_time": "2021-11-05T09:39:41.191Z"
   },
   {
    "duration": 8,
    "start_time": "2021-11-05T09:40:48.187Z"
   },
   {
    "duration": 8,
    "start_time": "2021-11-05T09:42:41.609Z"
   },
   {
    "duration": 5865,
    "start_time": "2021-11-05T09:43:17.770Z"
   },
   {
    "duration": 17,
    "start_time": "2021-11-05T09:43:36.862Z"
   },
   {
    "duration": 247,
    "start_time": "2021-11-05T09:46:20.422Z"
   },
   {
    "duration": 5,
    "start_time": "2021-11-05T09:46:49.209Z"
   },
   {
    "duration": 16,
    "start_time": "2021-11-05T09:47:55.913Z"
   },
   {
    "duration": 15,
    "start_time": "2021-11-05T09:48:02.897Z"
   },
   {
    "duration": 20,
    "start_time": "2021-11-05T09:50:48.852Z"
   },
   {
    "duration": 9,
    "start_time": "2021-11-05T09:59:23.352Z"
   },
   {
    "duration": 11,
    "start_time": "2021-11-05T09:59:33.414Z"
   },
   {
    "duration": 5,
    "start_time": "2021-11-05T10:00:35.280Z"
   },
   {
    "duration": 1033,
    "start_time": "2021-11-05T10:04:14.988Z"
   },
   {
    "duration": 267,
    "start_time": "2021-11-05T10:04:50.117Z"
   },
   {
    "duration": 14,
    "start_time": "2021-11-05T10:06:02.023Z"
   },
   {
    "duration": 17,
    "start_time": "2021-11-05T10:06:18.218Z"
   },
   {
    "duration": 16,
    "start_time": "2021-11-05T10:06:29.264Z"
   },
   {
    "duration": 16,
    "start_time": "2021-11-05T10:06:43.963Z"
   },
   {
    "duration": 10,
    "start_time": "2021-11-05T10:07:02.598Z"
   },
   {
    "duration": 11,
    "start_time": "2021-11-05T10:07:06.072Z"
   },
   {
    "duration": 20,
    "start_time": "2021-11-05T10:09:04.361Z"
   },
   {
    "duration": 11,
    "start_time": "2021-11-05T10:10:08.168Z"
   },
   {
    "duration": 14,
    "start_time": "2021-11-05T10:10:10.492Z"
   },
   {
    "duration": 275,
    "start_time": "2021-11-05T10:10:13.927Z"
   },
   {
    "duration": 13,
    "start_time": "2021-11-05T10:10:30.566Z"
   },
   {
    "duration": 9,
    "start_time": "2021-11-05T10:12:45.603Z"
   },
   {
    "duration": 8,
    "start_time": "2021-11-05T10:16:36.426Z"
   },
   {
    "duration": 7,
    "start_time": "2021-11-05T10:16:56.529Z"
   },
   {
    "duration": 4,
    "start_time": "2021-11-05T10:23:15.631Z"
   },
   {
    "duration": 7,
    "start_time": "2021-11-05T10:23:36.521Z"
   },
   {
    "duration": 5,
    "start_time": "2021-11-05T10:24:32.142Z"
   },
   {
    "duration": 7,
    "start_time": "2021-11-05T10:24:38.290Z"
   },
   {
    "duration": 6,
    "start_time": "2021-11-05T10:26:14.046Z"
   },
   {
    "duration": 20,
    "start_time": "2021-11-05T10:26:27.904Z"
   },
   {
    "duration": 19,
    "start_time": "2021-11-05T10:26:32.471Z"
   },
   {
    "duration": 84,
    "start_time": "2021-11-05T10:29:04.090Z"
   },
   {
    "duration": 33,
    "start_time": "2021-11-05T10:31:37.039Z"
   },
   {
    "duration": 16,
    "start_time": "2021-11-05T10:32:08.733Z"
   },
   {
    "duration": 35,
    "start_time": "2021-11-05T10:32:16.047Z"
   },
   {
    "duration": 17,
    "start_time": "2021-11-05T10:32:19.957Z"
   },
   {
    "duration": 21,
    "start_time": "2021-11-05T10:32:49.118Z"
   },
   {
    "duration": 18,
    "start_time": "2021-11-05T10:32:52.453Z"
   },
   {
    "duration": 24,
    "start_time": "2021-11-05T11:32:57.792Z"
   },
   {
    "duration": 140,
    "start_time": "2021-11-05T11:33:02.914Z"
   },
   {
    "duration": 136,
    "start_time": "2021-11-05T11:33:13.704Z"
   },
   {
    "duration": 231,
    "start_time": "2021-11-05T11:33:35.832Z"
   },
   {
    "duration": 8,
    "start_time": "2021-11-05T11:33:40.226Z"
   },
   {
    "duration": 7,
    "start_time": "2021-11-05T11:34:10.552Z"
   },
   {
    "duration": 8,
    "start_time": "2021-11-05T11:34:35.777Z"
   },
   {
    "duration": 8,
    "start_time": "2021-11-05T11:38:35.860Z"
   },
   {
    "duration": 246,
    "start_time": "2021-11-05T11:42:42.743Z"
   },
   {
    "duration": 8,
    "start_time": "2021-11-05T11:44:38.006Z"
   },
   {
    "duration": 249,
    "start_time": "2021-11-05T11:46:02.311Z"
   },
   {
    "duration": 6,
    "start_time": "2021-11-05T11:52:14.309Z"
   },
   {
    "duration": 252,
    "start_time": "2021-11-05T11:54:32.373Z"
   },
   {
    "duration": 241,
    "start_time": "2021-11-05T11:55:10.691Z"
   },
   {
    "duration": 6,
    "start_time": "2021-11-05T11:55:13.819Z"
   },
   {
    "duration": 242,
    "start_time": "2021-11-05T11:55:36.130Z"
   },
   {
    "duration": 256,
    "start_time": "2021-11-05T11:55:49.229Z"
   },
   {
    "duration": 4,
    "start_time": "2021-11-05T11:56:17.408Z"
   },
   {
    "duration": 6,
    "start_time": "2021-11-05T11:56:23.431Z"
   },
   {
    "duration": 5,
    "start_time": "2021-11-05T11:56:27.526Z"
   },
   {
    "duration": 9,
    "start_time": "2021-11-05T11:56:47.871Z"
   },
   {
    "duration": 252,
    "start_time": "2021-11-05T11:57:14.839Z"
   },
   {
    "duration": 262,
    "start_time": "2021-11-05T11:57:30.165Z"
   },
   {
    "duration": 254,
    "start_time": "2021-11-05T11:57:40.898Z"
   },
   {
    "duration": 275,
    "start_time": "2021-11-05T11:57:47.577Z"
   },
   {
    "duration": 268,
    "start_time": "2021-11-05T11:57:55.821Z"
   },
   {
    "duration": 6,
    "start_time": "2021-11-05T11:58:41.843Z"
   },
   {
    "duration": 245,
    "start_time": "2021-11-05T11:59:26.191Z"
   },
   {
    "duration": 366,
    "start_time": "2021-11-05T11:59:56.745Z"
   },
   {
    "duration": 247,
    "start_time": "2021-11-05T12:00:08.097Z"
   },
   {
    "duration": 4,
    "start_time": "2021-11-05T12:01:55.149Z"
   },
   {
    "duration": 2,
    "start_time": "2021-11-05T12:02:02.658Z"
   },
   {
    "duration": 3,
    "start_time": "2021-11-05T12:02:12.334Z"
   },
   {
    "duration": 727,
    "start_time": "2021-11-05T12:03:49.069Z"
   },
   {
    "duration": 10,
    "start_time": "2021-11-05T12:03:53.742Z"
   },
   {
    "duration": 2,
    "start_time": "2021-11-05T12:06:55.652Z"
   },
   {
    "duration": 3,
    "start_time": "2021-11-05T12:07:34.178Z"
   },
   {
    "duration": 5,
    "start_time": "2021-11-05T12:07:50.167Z"
   },
   {
    "duration": 6,
    "start_time": "2021-11-05T12:08:24.715Z"
   },
   {
    "duration": 14,
    "start_time": "2021-11-05T12:24:54.102Z"
   },
   {
    "duration": 5,
    "start_time": "2021-11-05T12:31:58.546Z"
   },
   {
    "duration": 5,
    "start_time": "2021-11-05T12:32:28.075Z"
   },
   {
    "duration": 5,
    "start_time": "2021-11-05T12:32:30.865Z"
   },
   {
    "duration": 239,
    "start_time": "2021-11-05T12:34:32.533Z"
   },
   {
    "duration": 12,
    "start_time": "2021-11-05T12:34:44.477Z"
   },
   {
    "duration": 3529,
    "start_time": "2021-11-05T12:34:56.837Z"
   },
   {
    "duration": 4727,
    "start_time": "2021-11-05T12:34:55.641Z"
   },
   {
    "duration": 3207,
    "start_time": "2021-11-05T12:35:06.549Z"
   },
   {
    "duration": 4707,
    "start_time": "2021-11-05T12:35:05.051Z"
   },
   {
    "duration": 248,
    "start_time": "2021-11-05T12:35:15.078Z"
   },
   {
    "duration": 12,
    "start_time": "2021-11-05T12:35:16.958Z"
   },
   {
    "duration": 79,
    "start_time": "2021-11-05T12:38:41.753Z"
   },
   {
    "duration": 89,
    "start_time": "2021-11-05T12:38:49.993Z"
   },
   {
    "duration": 88,
    "start_time": "2021-11-05T12:38:57.257Z"
   },
   {
    "duration": 82,
    "start_time": "2021-11-05T12:39:04.024Z"
   },
   {
    "duration": 3371,
    "start_time": "2021-11-05T12:40:12.448Z"
   },
   {
    "duration": 4785,
    "start_time": "2021-11-05T12:40:11.036Z"
   },
   {
    "duration": 94,
    "start_time": "2021-11-05T12:40:35.780Z"
   },
   {
    "duration": 4,
    "start_time": "2021-11-05T12:42:31.595Z"
   },
   {
    "duration": 5,
    "start_time": "2021-11-05T12:43:38.635Z"
   },
   {
    "duration": 5,
    "start_time": "2021-11-05T12:43:50.048Z"
   },
   {
    "duration": 5,
    "start_time": "2021-11-05T12:44:10.145Z"
   },
   {
    "duration": 1080,
    "start_time": "2021-11-05T12:45:20.052Z"
   },
   {
    "duration": 5,
    "start_time": "2021-11-05T12:46:13.714Z"
   },
   {
    "duration": 5,
    "start_time": "2021-11-05T12:46:18.821Z"
   },
   {
    "duration": 5,
    "start_time": "2021-11-05T12:46:29.279Z"
   },
   {
    "duration": 85,
    "start_time": "2021-11-05T12:47:58.361Z"
   },
   {
    "duration": 356,
    "start_time": "2021-11-05T12:48:32.660Z"
   },
   {
    "duration": 13,
    "start_time": "2021-11-05T12:48:42.057Z"
   },
   {
    "duration": 11,
    "start_time": "2021-11-05T12:49:26.980Z"
   },
   {
    "duration": 4,
    "start_time": "2021-11-05T12:49:31.687Z"
   },
   {
    "duration": 11,
    "start_time": "2021-11-05T12:49:33.419Z"
   },
   {
    "duration": 11,
    "start_time": "2021-11-05T12:49:35.818Z"
   },
   {
    "duration": 79,
    "start_time": "2021-11-05T12:49:41.569Z"
   },
   {
    "duration": 12,
    "start_time": "2021-11-05T12:49:45.324Z"
   },
   {
    "duration": 11,
    "start_time": "2021-11-05T12:49:53.426Z"
   },
   {
    "duration": 11,
    "start_time": "2021-11-05T12:50:11.125Z"
   },
   {
    "duration": 63,
    "start_time": "2021-11-05T12:50:18.514Z"
   },
   {
    "duration": 27,
    "start_time": "2021-11-05T12:50:18.579Z"
   },
   {
    "duration": 11,
    "start_time": "2021-11-05T12:50:18.608Z"
   },
   {
    "duration": 3,
    "start_time": "2021-11-05T12:50:18.621Z"
   },
   {
    "duration": 38,
    "start_time": "2021-11-05T12:50:18.625Z"
   },
   {
    "duration": 7,
    "start_time": "2021-11-05T12:50:18.665Z"
   },
   {
    "duration": 4,
    "start_time": "2021-11-05T12:50:18.674Z"
   },
   {
    "duration": 9,
    "start_time": "2021-11-05T12:50:18.681Z"
   },
   {
    "duration": 14,
    "start_time": "2021-11-05T12:50:18.692Z"
   },
   {
    "duration": 11,
    "start_time": "2021-11-05T12:50:18.709Z"
   },
   {
    "duration": 5,
    "start_time": "2021-11-05T12:50:18.721Z"
   },
   {
    "duration": 9,
    "start_time": "2021-11-05T12:50:18.764Z"
   },
   {
    "duration": 30,
    "start_time": "2021-11-05T12:50:18.775Z"
   },
   {
    "duration": 13,
    "start_time": "2021-11-05T12:50:18.807Z"
   },
   {
    "duration": 51,
    "start_time": "2021-11-05T12:50:18.822Z"
   },
   {
    "duration": 13,
    "start_time": "2021-11-05T12:50:18.875Z"
   },
   {
    "duration": 5,
    "start_time": "2021-11-05T12:50:18.891Z"
   },
   {
    "duration": 14,
    "start_time": "2021-11-05T12:50:18.898Z"
   },
   {
    "duration": 8,
    "start_time": "2021-11-05T12:50:18.914Z"
   },
   {
    "duration": 42,
    "start_time": "2021-11-05T12:50:18.924Z"
   },
   {
    "duration": 5,
    "start_time": "2021-11-05T12:50:18.968Z"
   },
   {
    "duration": 8,
    "start_time": "2021-11-05T12:50:18.975Z"
   },
   {
    "duration": 9,
    "start_time": "2021-11-05T12:50:18.985Z"
   },
   {
    "duration": 13,
    "start_time": "2021-11-05T12:50:18.996Z"
   },
   {
    "duration": 16,
    "start_time": "2021-11-05T12:50:19.011Z"
   },
   {
    "duration": 38,
    "start_time": "2021-11-05T12:50:19.029Z"
   },
   {
    "duration": 15,
    "start_time": "2021-11-05T12:50:19.068Z"
   },
   {
    "duration": 12,
    "start_time": "2021-11-05T12:50:19.085Z"
   },
   {
    "duration": 9,
    "start_time": "2021-11-05T12:50:19.099Z"
   },
   {
    "duration": 106,
    "start_time": "2021-11-05T12:50:19.110Z"
   },
   {
    "duration": 3786,
    "start_time": "2021-11-05T12:50:15.433Z"
   },
   {
    "duration": 3761,
    "start_time": "2021-11-05T12:50:15.459Z"
   },
   {
    "duration": 3754,
    "start_time": "2021-11-05T12:50:15.467Z"
   },
   {
    "duration": 3739,
    "start_time": "2021-11-05T12:50:15.483Z"
   },
   {
    "duration": 3725,
    "start_time": "2021-11-05T12:50:15.498Z"
   },
   {
    "duration": 3707,
    "start_time": "2021-11-05T12:50:15.517Z"
   },
   {
    "duration": 3688,
    "start_time": "2021-11-05T12:50:15.536Z"
   },
   {
    "duration": 3672,
    "start_time": "2021-11-05T12:50:15.553Z"
   },
   {
    "duration": 3657,
    "start_time": "2021-11-05T12:50:15.569Z"
   },
   {
    "duration": 3641,
    "start_time": "2021-11-05T12:50:15.586Z"
   },
   {
    "duration": 3625,
    "start_time": "2021-11-05T12:50:15.603Z"
   },
   {
    "duration": 3609,
    "start_time": "2021-11-05T12:50:15.620Z"
   },
   {
    "duration": 3594,
    "start_time": "2021-11-05T12:50:15.637Z"
   },
   {
    "duration": 12,
    "start_time": "2021-11-05T12:50:43.233Z"
   },
   {
    "duration": 11,
    "start_time": "2021-11-05T12:50:55.455Z"
   },
   {
    "duration": 220,
    "start_time": "2021-11-05T12:51:05.964Z"
   },
   {
    "duration": 11,
    "start_time": "2021-11-05T12:51:08.105Z"
   },
   {
    "duration": 464,
    "start_time": "2021-11-05T12:57:19.551Z"
   },
   {
    "duration": 74,
    "start_time": "2021-11-05T12:58:22.645Z"
   },
   {
    "duration": 449,
    "start_time": "2021-11-05T12:58:35.937Z"
   },
   {
    "duration": 12,
    "start_time": "2021-11-05T12:59:26.299Z"
   },
   {
    "duration": 12,
    "start_time": "2021-11-05T12:59:30.289Z"
   },
   {
    "duration": 61,
    "start_time": "2021-11-05T12:59:59.125Z"
   },
   {
    "duration": 23,
    "start_time": "2021-11-05T12:59:59.188Z"
   },
   {
    "duration": 11,
    "start_time": "2021-11-05T12:59:59.214Z"
   },
   {
    "duration": 3,
    "start_time": "2021-11-05T12:59:59.227Z"
   },
   {
    "duration": 42,
    "start_time": "2021-11-05T12:59:59.232Z"
   },
   {
    "duration": 7,
    "start_time": "2021-11-05T12:59:59.276Z"
   },
   {
    "duration": 8,
    "start_time": "2021-11-05T12:59:59.284Z"
   },
   {
    "duration": 9,
    "start_time": "2021-11-05T12:59:59.294Z"
   },
   {
    "duration": 12,
    "start_time": "2021-11-05T12:59:59.305Z"
   },
   {
    "duration": 16,
    "start_time": "2021-11-05T12:59:59.319Z"
   },
   {
    "duration": 26,
    "start_time": "2021-11-05T12:59:59.337Z"
   },
   {
    "duration": 10,
    "start_time": "2021-11-05T12:59:59.366Z"
   },
   {
    "duration": 27,
    "start_time": "2021-11-05T12:59:59.378Z"
   },
   {
    "duration": 11,
    "start_time": "2021-11-05T12:59:59.408Z"
   },
   {
    "duration": 51,
    "start_time": "2021-11-05T12:59:59.421Z"
   },
   {
    "duration": 11,
    "start_time": "2021-11-05T12:59:59.474Z"
   },
   {
    "duration": 6,
    "start_time": "2021-11-05T12:59:59.487Z"
   },
   {
    "duration": 17,
    "start_time": "2021-11-05T12:59:59.494Z"
   },
   {
    "duration": 8,
    "start_time": "2021-11-05T12:59:59.513Z"
   },
   {
    "duration": 11,
    "start_time": "2021-11-05T12:59:59.522Z"
   },
   {
    "duration": 31,
    "start_time": "2021-11-05T12:59:59.536Z"
   },
   {
    "duration": 9,
    "start_time": "2021-11-05T12:59:59.570Z"
   },
   {
    "duration": 15,
    "start_time": "2021-11-05T12:59:59.581Z"
   },
   {
    "duration": 12,
    "start_time": "2021-11-05T12:59:59.598Z"
   },
   {
    "duration": 15,
    "start_time": "2021-11-05T12:59:59.612Z"
   },
   {
    "duration": 13,
    "start_time": "2021-11-05T12:59:59.629Z"
   },
   {
    "duration": 31,
    "start_time": "2021-11-05T12:59:59.644Z"
   },
   {
    "duration": 12,
    "start_time": "2021-11-05T12:59:59.676Z"
   },
   {
    "duration": 10,
    "start_time": "2021-11-05T12:59:59.690Z"
   },
   {
    "duration": 92,
    "start_time": "2021-11-05T12:59:59.701Z"
   },
   {
    "duration": 3874,
    "start_time": "2021-11-05T12:59:55.920Z"
   },
   {
    "duration": 3854,
    "start_time": "2021-11-05T12:59:55.941Z"
   },
   {
    "duration": 3839,
    "start_time": "2021-11-05T12:59:55.957Z"
   },
   {
    "duration": 3832,
    "start_time": "2021-11-05T12:59:55.965Z"
   },
   {
    "duration": 3816,
    "start_time": "2021-11-05T12:59:55.982Z"
   },
   {
    "duration": 3804,
    "start_time": "2021-11-05T12:59:55.995Z"
   },
   {
    "duration": 3797,
    "start_time": "2021-11-05T12:59:56.003Z"
   },
   {
    "duration": 3784,
    "start_time": "2021-11-05T12:59:56.016Z"
   },
   {
    "duration": 3771,
    "start_time": "2021-11-05T12:59:56.030Z"
   },
   {
    "duration": 3762,
    "start_time": "2021-11-05T12:59:56.040Z"
   },
   {
    "duration": 3748,
    "start_time": "2021-11-05T12:59:56.055Z"
   },
   {
    "duration": 3735,
    "start_time": "2021-11-05T12:59:56.069Z"
   },
   {
    "duration": 3722,
    "start_time": "2021-11-05T12:59:56.083Z"
   },
   {
    "duration": 12,
    "start_time": "2021-11-05T13:00:07.348Z"
   },
   {
    "duration": 11,
    "start_time": "2021-11-05T13:00:15.634Z"
   },
   {
    "duration": 12,
    "start_time": "2021-11-05T13:00:17.392Z"
   },
   {
    "duration": 771,
    "start_time": "2021-11-05T13:02:29.851Z"
   },
   {
    "duration": 29,
    "start_time": "2021-11-05T13:02:30.624Z"
   },
   {
    "duration": 13,
    "start_time": "2021-11-05T13:02:30.656Z"
   },
   {
    "duration": 16,
    "start_time": "2021-11-05T13:02:30.671Z"
   },
   {
    "duration": 37,
    "start_time": "2021-11-05T13:02:30.689Z"
   },
   {
    "duration": 20,
    "start_time": "2021-11-05T13:02:30.729Z"
   },
   {
    "duration": 27,
    "start_time": "2021-11-05T13:02:30.751Z"
   },
   {
    "duration": 23,
    "start_time": "2021-11-05T13:02:30.781Z"
   },
   {
    "duration": 19,
    "start_time": "2021-11-05T13:02:30.807Z"
   },
   {
    "duration": 31,
    "start_time": "2021-11-05T13:02:30.828Z"
   },
   {
    "duration": 15,
    "start_time": "2021-11-05T13:02:30.861Z"
   },
   {
    "duration": 19,
    "start_time": "2021-11-05T13:02:30.878Z"
   },
   {
    "duration": 40,
    "start_time": "2021-11-05T13:02:30.900Z"
   },
   {
    "duration": 26,
    "start_time": "2021-11-05T13:02:30.942Z"
   },
   {
    "duration": 40,
    "start_time": "2021-11-05T13:02:30.970Z"
   },
   {
    "duration": 15,
    "start_time": "2021-11-05T13:02:31.012Z"
   },
   {
    "duration": 12,
    "start_time": "2021-11-05T13:02:31.029Z"
   },
   {
    "duration": 32,
    "start_time": "2021-11-05T13:02:31.043Z"
   },
   {
    "duration": 14,
    "start_time": "2021-11-05T13:02:31.077Z"
   },
   {
    "duration": 32,
    "start_time": "2021-11-05T13:02:31.092Z"
   },
   {
    "duration": 34,
    "start_time": "2021-11-05T13:02:31.126Z"
   },
   {
    "duration": 18,
    "start_time": "2021-11-05T13:02:31.162Z"
   },
   {
    "duration": 37,
    "start_time": "2021-11-05T13:02:31.184Z"
   },
   {
    "duration": 20,
    "start_time": "2021-11-05T13:02:31.224Z"
   },
   {
    "duration": 28,
    "start_time": "2021-11-05T13:02:31.245Z"
   },
   {
    "duration": 26,
    "start_time": "2021-11-05T13:02:31.275Z"
   },
   {
    "duration": 36,
    "start_time": "2021-11-05T13:02:31.303Z"
   },
   {
    "duration": 22,
    "start_time": "2021-11-05T13:02:31.341Z"
   },
   {
    "duration": 16,
    "start_time": "2021-11-05T13:02:31.364Z"
   },
   {
    "duration": 96,
    "start_time": "2021-11-05T13:02:31.381Z"
   },
   {
    "duration": 4073,
    "start_time": "2021-11-05T13:02:27.406Z"
   },
   {
    "duration": 4058,
    "start_time": "2021-11-05T13:02:27.422Z"
   },
   {
    "duration": 4042,
    "start_time": "2021-11-05T13:02:27.439Z"
   },
   {
    "duration": 4027,
    "start_time": "2021-11-05T13:02:27.455Z"
   },
   {
    "duration": 4020,
    "start_time": "2021-11-05T13:02:27.464Z"
   },
   {
    "duration": 4004,
    "start_time": "2021-11-05T13:02:27.481Z"
   },
   {
    "duration": 3982,
    "start_time": "2021-11-05T13:02:27.504Z"
   },
   {
    "duration": 3970,
    "start_time": "2021-11-05T13:02:27.518Z"
   },
   {
    "duration": 3952,
    "start_time": "2021-11-05T13:02:27.537Z"
   },
   {
    "duration": 3943,
    "start_time": "2021-11-05T13:02:27.548Z"
   },
   {
    "duration": 3928,
    "start_time": "2021-11-05T13:02:27.564Z"
   },
   {
    "duration": 3912,
    "start_time": "2021-11-05T13:02:27.581Z"
   },
   {
    "duration": 3899,
    "start_time": "2021-11-05T13:02:27.596Z"
   },
   {
    "duration": 11,
    "start_time": "2021-11-05T13:02:39.740Z"
   },
   {
    "duration": 11,
    "start_time": "2021-11-05T13:02:47.376Z"
   },
   {
    "duration": 12,
    "start_time": "2021-11-05T13:02:49.066Z"
   },
   {
    "duration": 57,
    "start_time": "2021-11-05T13:02:52.578Z"
   },
   {
    "duration": 21,
    "start_time": "2021-11-05T13:02:52.637Z"
   },
   {
    "duration": 10,
    "start_time": "2021-11-05T13:02:52.660Z"
   },
   {
    "duration": 3,
    "start_time": "2021-11-05T13:02:52.672Z"
   },
   {
    "duration": 10,
    "start_time": "2021-11-05T13:02:52.677Z"
   },
   {
    "duration": 6,
    "start_time": "2021-11-05T13:02:52.689Z"
   },
   {
    "duration": 6,
    "start_time": "2021-11-05T13:02:52.696Z"
   },
   {
    "duration": 9,
    "start_time": "2021-11-05T13:02:52.704Z"
   },
   {
    "duration": 18,
    "start_time": "2021-11-05T13:02:52.715Z"
   },
   {
    "duration": 11,
    "start_time": "2021-11-05T13:02:52.763Z"
   },
   {
    "duration": 9,
    "start_time": "2021-11-05T13:02:52.776Z"
   },
   {
    "duration": 15,
    "start_time": "2021-11-05T13:02:52.787Z"
   },
   {
    "duration": 30,
    "start_time": "2021-11-05T13:02:52.804Z"
   },
   {
    "duration": 30,
    "start_time": "2021-11-05T13:02:52.836Z"
   },
   {
    "duration": 24,
    "start_time": "2021-11-05T13:02:52.868Z"
   },
   {
    "duration": 20,
    "start_time": "2021-11-05T13:02:52.893Z"
   },
   {
    "duration": 13,
    "start_time": "2021-11-05T13:02:52.914Z"
   },
   {
    "duration": 28,
    "start_time": "2021-11-05T13:02:52.928Z"
   },
   {
    "duration": 15,
    "start_time": "2021-11-05T13:02:52.959Z"
   },
   {
    "duration": 30,
    "start_time": "2021-11-05T13:02:52.976Z"
   },
   {
    "duration": 12,
    "start_time": "2021-11-05T13:02:53.008Z"
   },
   {
    "duration": 11,
    "start_time": "2021-11-05T13:02:53.022Z"
   },
   {
    "duration": 17,
    "start_time": "2021-11-05T13:02:53.035Z"
   },
   {
    "duration": 17,
    "start_time": "2021-11-05T13:02:53.054Z"
   },
   {
    "duration": 19,
    "start_time": "2021-11-05T13:02:53.072Z"
   },
   {
    "duration": 19,
    "start_time": "2021-11-05T13:02:53.093Z"
   },
   {
    "duration": 28,
    "start_time": "2021-11-05T13:02:53.113Z"
   },
   {
    "duration": 16,
    "start_time": "2021-11-05T13:02:53.142Z"
   },
   {
    "duration": 13,
    "start_time": "2021-11-05T13:02:53.160Z"
   },
   {
    "duration": 97,
    "start_time": "2021-11-05T13:02:53.174Z"
   },
   {
    "duration": 3854,
    "start_time": "2021-11-05T13:02:49.419Z"
   },
   {
    "duration": 3836,
    "start_time": "2021-11-05T13:02:49.438Z"
   },
   {
    "duration": 3810,
    "start_time": "2021-11-05T13:02:49.464Z"
   },
   {
    "duration": 3793,
    "start_time": "2021-11-05T13:02:49.482Z"
   },
   {
    "duration": 3775,
    "start_time": "2021-11-05T13:02:49.501Z"
   },
   {
    "duration": 3756,
    "start_time": "2021-11-05T13:02:49.521Z"
   },
   {
    "duration": 3733,
    "start_time": "2021-11-05T13:02:49.545Z"
   },
   {
    "duration": 3714,
    "start_time": "2021-11-05T13:02:49.565Z"
   },
   {
    "duration": 3691,
    "start_time": "2021-11-05T13:02:49.589Z"
   },
   {
    "duration": 3671,
    "start_time": "2021-11-05T13:02:49.610Z"
   },
   {
    "duration": 3647,
    "start_time": "2021-11-05T13:02:49.634Z"
   },
   {
    "duration": 3628,
    "start_time": "2021-11-05T13:02:49.654Z"
   },
   {
    "duration": 3606,
    "start_time": "2021-11-05T13:02:49.677Z"
   },
   {
    "duration": 80,
    "start_time": "2021-11-05T13:03:26.152Z"
   },
   {
    "duration": 12,
    "start_time": "2021-11-05T13:03:29.356Z"
   },
   {
    "duration": 12,
    "start_time": "2021-11-05T13:03:31.908Z"
   },
   {
    "duration": 81,
    "start_time": "2021-11-05T13:07:37.745Z"
   },
   {
    "duration": 56,
    "start_time": "2021-11-05T13:19:02.928Z"
   },
   {
    "duration": 21,
    "start_time": "2021-11-05T13:19:02.986Z"
   },
   {
    "duration": 18,
    "start_time": "2021-11-05T13:19:03.009Z"
   },
   {
    "duration": 3,
    "start_time": "2021-11-05T13:19:03.029Z"
   },
   {
    "duration": 30,
    "start_time": "2021-11-05T13:19:03.033Z"
   },
   {
    "duration": 4,
    "start_time": "2021-11-05T13:19:03.065Z"
   },
   {
    "duration": 6,
    "start_time": "2021-11-05T13:19:03.071Z"
   },
   {
    "duration": 7,
    "start_time": "2021-11-05T13:19:03.079Z"
   },
   {
    "duration": 13,
    "start_time": "2021-11-05T13:19:03.087Z"
   },
   {
    "duration": 23,
    "start_time": "2021-11-05T13:19:03.102Z"
   },
   {
    "duration": 10,
    "start_time": "2021-11-05T13:19:03.127Z"
   },
   {
    "duration": 31,
    "start_time": "2021-11-05T13:19:03.139Z"
   },
   {
    "duration": 42,
    "start_time": "2021-11-05T13:19:03.172Z"
   },
   {
    "duration": 21,
    "start_time": "2021-11-05T13:19:03.215Z"
   },
   {
    "duration": 34,
    "start_time": "2021-11-05T13:19:03.238Z"
   },
   {
    "duration": 32,
    "start_time": "2021-11-05T13:19:03.274Z"
   },
   {
    "duration": 12,
    "start_time": "2021-11-05T13:19:03.308Z"
   },
   {
    "duration": 37,
    "start_time": "2021-11-05T13:19:03.322Z"
   },
   {
    "duration": 12,
    "start_time": "2021-11-05T13:19:03.361Z"
   },
   {
    "duration": 17,
    "start_time": "2021-11-05T13:19:03.374Z"
   },
   {
    "duration": 26,
    "start_time": "2021-11-05T13:19:03.393Z"
   },
   {
    "duration": 24,
    "start_time": "2021-11-05T13:19:03.421Z"
   },
   {
    "duration": 28,
    "start_time": "2021-11-05T13:19:03.447Z"
   },
   {
    "duration": 23,
    "start_time": "2021-11-05T13:19:03.477Z"
   },
   {
    "duration": 35,
    "start_time": "2021-11-05T13:19:03.501Z"
   },
   {
    "duration": 28,
    "start_time": "2021-11-05T13:19:03.538Z"
   },
   {
    "duration": 24,
    "start_time": "2021-11-05T13:19:03.568Z"
   },
   {
    "duration": 27,
    "start_time": "2021-11-05T13:19:03.594Z"
   },
   {
    "duration": 22,
    "start_time": "2021-11-05T13:19:03.624Z"
   },
   {
    "duration": 99,
    "start_time": "2021-11-05T13:19:03.648Z"
   },
   {
    "duration": 4341,
    "start_time": "2021-11-05T13:18:59.408Z"
   },
   {
    "duration": 4323,
    "start_time": "2021-11-05T13:18:59.427Z"
   },
   {
    "duration": 4312,
    "start_time": "2021-11-05T13:18:59.439Z"
   },
   {
    "duration": 4302,
    "start_time": "2021-11-05T13:18:59.450Z"
   },
   {
    "duration": 4294,
    "start_time": "2021-11-05T13:18:59.459Z"
   },
   {
    "duration": 4282,
    "start_time": "2021-11-05T13:18:59.472Z"
   },
   {
    "duration": 4272,
    "start_time": "2021-11-05T13:18:59.483Z"
   },
   {
    "duration": 4265,
    "start_time": "2021-11-05T13:18:59.491Z"
   },
   {
    "duration": 4254,
    "start_time": "2021-11-05T13:18:59.503Z"
   },
   {
    "duration": 4243,
    "start_time": "2021-11-05T13:18:59.515Z"
   },
   {
    "duration": 4237,
    "start_time": "2021-11-05T13:18:59.523Z"
   },
   {
    "duration": 4227,
    "start_time": "2021-11-05T13:18:59.534Z"
   },
   {
    "duration": 4214,
    "start_time": "2021-11-05T13:18:59.548Z"
   },
   {
    "duration": 3,
    "start_time": "2021-11-05T13:19:39.144Z"
   },
   {
    "duration": 85,
    "start_time": "2021-11-05T13:19:46.575Z"
   },
   {
    "duration": 7,
    "start_time": "2021-11-05T13:22:24.231Z"
   },
   {
    "duration": 9,
    "start_time": "2021-11-05T13:26:57.083Z"
   },
   {
    "duration": 11,
    "start_time": "2021-11-05T13:27:08.823Z"
   },
   {
    "duration": 15,
    "start_time": "2021-11-05T13:29:10.752Z"
   },
   {
    "duration": 1044,
    "start_time": "2021-11-05T17:37:09.595Z"
   },
   {
    "duration": 686,
    "start_time": "2021-11-05T17:37:17.231Z"
   },
   {
    "duration": 25,
    "start_time": "2021-11-05T17:37:17.919Z"
   },
   {
    "duration": 18,
    "start_time": "2021-11-05T17:37:17.946Z"
   },
   {
    "duration": 2,
    "start_time": "2021-11-05T17:37:17.966Z"
   },
   {
    "duration": 16,
    "start_time": "2021-11-05T17:37:17.970Z"
   },
   {
    "duration": 7,
    "start_time": "2021-11-05T17:37:17.988Z"
   },
   {
    "duration": 6,
    "start_time": "2021-11-05T17:37:17.996Z"
   },
   {
    "duration": 8,
    "start_time": "2021-11-05T17:37:18.004Z"
   },
   {
    "duration": 12,
    "start_time": "2021-11-05T17:37:18.014Z"
   },
   {
    "duration": 10,
    "start_time": "2021-11-05T17:37:18.028Z"
   },
   {
    "duration": 24,
    "start_time": "2021-11-05T17:37:18.040Z"
   },
   {
    "duration": 15,
    "start_time": "2021-11-05T17:37:18.066Z"
   },
   {
    "duration": 22,
    "start_time": "2021-11-05T17:37:18.083Z"
   },
   {
    "duration": 8,
    "start_time": "2021-11-05T17:37:18.108Z"
   },
   {
    "duration": 24,
    "start_time": "2021-11-05T17:37:18.118Z"
   },
   {
    "duration": 30,
    "start_time": "2021-11-05T17:37:18.143Z"
   },
   {
    "duration": 3,
    "start_time": "2021-11-05T17:37:18.175Z"
   },
   {
    "duration": 13,
    "start_time": "2021-11-05T17:37:18.180Z"
   },
   {
    "duration": 6,
    "start_time": "2021-11-05T17:37:18.195Z"
   },
   {
    "duration": 10,
    "start_time": "2021-11-05T17:37:18.203Z"
   },
   {
    "duration": 7,
    "start_time": "2021-11-05T17:37:18.215Z"
   },
   {
    "duration": 8,
    "start_time": "2021-11-05T17:37:18.223Z"
   },
   {
    "duration": 7,
    "start_time": "2021-11-05T17:37:18.265Z"
   },
   {
    "duration": 9,
    "start_time": "2021-11-05T17:37:18.274Z"
   },
   {
    "duration": 13,
    "start_time": "2021-11-05T17:37:18.285Z"
   },
   {
    "duration": 11,
    "start_time": "2021-11-05T17:37:18.299Z"
   },
   {
    "duration": 17,
    "start_time": "2021-11-05T17:37:18.312Z"
   },
   {
    "duration": 12,
    "start_time": "2021-11-05T17:37:18.331Z"
   },
   {
    "duration": 5,
    "start_time": "2021-11-05T17:37:18.363Z"
   },
   {
    "duration": 10,
    "start_time": "2021-11-05T17:37:18.369Z"
   },
   {
    "duration": 27,
    "start_time": "2021-11-05T17:37:18.381Z"
   },
   {
    "duration": 20,
    "start_time": "2021-11-05T17:37:18.409Z"
   },
   {
    "duration": 42,
    "start_time": "2021-11-05T17:37:18.431Z"
   },
   {
    "duration": 7,
    "start_time": "2021-11-05T17:37:18.475Z"
   },
   {
    "duration": 6,
    "start_time": "2021-11-05T17:37:18.485Z"
   },
   {
    "duration": 4,
    "start_time": "2021-11-05T17:37:18.494Z"
   },
   {
    "duration": 672,
    "start_time": "2021-11-05T17:37:18.500Z"
   },
   {
    "duration": 3,
    "start_time": "2021-11-05T17:37:19.174Z"
   },
   {
    "duration": 15,
    "start_time": "2021-11-05T17:37:19.179Z"
   },
   {
    "duration": 256,
    "start_time": "2021-11-05T17:37:19.196Z"
   },
   {
    "duration": 3251,
    "start_time": "2021-11-05T17:37:16.203Z"
   },
   {
    "duration": 3203,
    "start_time": "2021-11-05T17:37:16.253Z"
   },
   {
    "duration": 3147,
    "start_time": "2021-11-05T17:37:16.311Z"
   },
   {
    "duration": 9,
    "start_time": "2021-11-05T17:37:25.781Z"
   },
   {
    "duration": 6,
    "start_time": "2021-11-05T17:41:43.774Z"
   },
   {
    "duration": 11,
    "start_time": "2021-11-05T17:41:47.230Z"
   },
   {
    "duration": 9,
    "start_time": "2021-11-05T17:43:33.096Z"
   },
   {
    "duration": 281,
    "start_time": "2021-11-05T17:43:49.260Z"
   },
   {
    "duration": 268,
    "start_time": "2021-11-05T17:44:08.272Z"
   },
   {
    "duration": 9,
    "start_time": "2021-11-05T17:45:30.567Z"
   },
   {
    "duration": 9,
    "start_time": "2021-11-05T17:48:26.400Z"
   },
   {
    "duration": 13,
    "start_time": "2021-11-05T17:48:30.642Z"
   },
   {
    "duration": 11,
    "start_time": "2021-11-05T17:50:39.239Z"
   },
   {
    "duration": 16,
    "start_time": "2021-11-05T17:55:14.979Z"
   },
   {
    "duration": 21,
    "start_time": "2021-11-05T17:55:18.919Z"
   },
   {
    "duration": 9,
    "start_time": "2021-11-05T18:05:00.463Z"
   },
   {
    "duration": 6,
    "start_time": "2021-11-05T18:05:09.043Z"
   },
   {
    "duration": 5,
    "start_time": "2021-11-05T18:05:25.652Z"
   },
   {
    "duration": 5,
    "start_time": "2021-11-05T18:05:41.028Z"
   },
   {
    "duration": 4,
    "start_time": "2021-11-05T18:06:00.233Z"
   },
   {
    "duration": 11,
    "start_time": "2021-11-05T18:08:11.646Z"
   },
   {
    "duration": 6,
    "start_time": "2021-11-05T18:10:54.698Z"
   },
   {
    "duration": 241,
    "start_time": "2021-11-05T18:11:04.195Z"
   },
   {
    "duration": 237,
    "start_time": "2021-11-05T18:11:11.436Z"
   },
   {
    "duration": 233,
    "start_time": "2021-11-05T18:11:20.112Z"
   },
   {
    "duration": 5,
    "start_time": "2021-11-05T18:11:37.100Z"
   },
   {
    "duration": 622,
    "start_time": "2021-11-05T18:11:47.363Z"
   },
   {
    "duration": 250,
    "start_time": "2021-11-05T18:11:54.731Z"
   },
   {
    "duration": 6,
    "start_time": "2021-11-05T18:14:05.225Z"
   },
   {
    "duration": 6,
    "start_time": "2021-11-05T18:14:23.123Z"
   },
   {
    "duration": 10,
    "start_time": "2021-11-05T18:29:18.310Z"
   },
   {
    "duration": 15,
    "start_time": "2021-11-05T18:29:30.773Z"
   },
   {
    "duration": 4398,
    "start_time": "2021-11-05T18:34:10.451Z"
   },
   {
    "duration": 4390,
    "start_time": "2021-11-05T18:34:10.460Z"
   },
   {
    "duration": 15,
    "start_time": "2021-11-05T18:34:15.923Z"
   },
   {
    "duration": 12,
    "start_time": "2021-11-05T18:34:21.746Z"
   },
   {
    "duration": 6495,
    "start_time": "2021-11-05T18:36:10.256Z"
   },
   {
    "duration": 4348,
    "start_time": "2021-11-05T18:36:12.407Z"
   },
   {
    "duration": 1088,
    "start_time": "2021-11-05T18:36:34.293Z"
   },
   {
    "duration": 8,
    "start_time": "2021-11-05T18:36:51.647Z"
   },
   {
    "duration": 13,
    "start_time": "2021-11-05T18:36:56.549Z"
   },
   {
    "duration": 4,
    "start_time": "2021-11-05T18:38:56.493Z"
   },
   {
    "duration": 79,
    "start_time": "2021-11-05T18:39:24.871Z"
   },
   {
    "duration": 8,
    "start_time": "2021-11-05T18:39:32.903Z"
   },
   {
    "duration": 13,
    "start_time": "2021-11-05T18:39:35.427Z"
   },
   {
    "duration": 9,
    "start_time": "2021-11-05T18:43:22.438Z"
   },
   {
    "duration": 14,
    "start_time": "2021-11-05T18:43:24.586Z"
   },
   {
    "duration": 10,
    "start_time": "2021-11-05T18:44:11.307Z"
   },
   {
    "duration": 14,
    "start_time": "2021-11-05T18:44:39.841Z"
   },
   {
    "duration": 734,
    "start_time": "2021-11-05T18:45:05.054Z"
   },
   {
    "duration": 25,
    "start_time": "2021-11-05T18:45:05.791Z"
   },
   {
    "duration": 11,
    "start_time": "2021-11-05T18:45:05.818Z"
   },
   {
    "duration": 3,
    "start_time": "2021-11-05T18:45:05.830Z"
   },
   {
    "duration": 12,
    "start_time": "2021-11-05T18:45:05.835Z"
   },
   {
    "duration": 4,
    "start_time": "2021-11-05T18:45:05.864Z"
   },
   {
    "duration": 7,
    "start_time": "2021-11-05T18:45:05.870Z"
   },
   {
    "duration": 8,
    "start_time": "2021-11-05T18:45:05.880Z"
   },
   {
    "duration": 13,
    "start_time": "2021-11-05T18:45:05.890Z"
   },
   {
    "duration": 13,
    "start_time": "2021-11-05T18:45:05.905Z"
   },
   {
    "duration": 4,
    "start_time": "2021-11-05T18:45:05.920Z"
   },
   {
    "duration": 40,
    "start_time": "2021-11-05T18:45:05.926Z"
   },
   {
    "duration": 23,
    "start_time": "2021-11-05T18:45:05.968Z"
   },
   {
    "duration": 11,
    "start_time": "2021-11-05T18:45:05.993Z"
   },
   {
    "duration": 25,
    "start_time": "2021-11-05T18:45:06.006Z"
   },
   {
    "duration": 41,
    "start_time": "2021-11-05T18:45:06.033Z"
   },
   {
    "duration": 5,
    "start_time": "2021-11-05T18:45:06.075Z"
   },
   {
    "duration": 15,
    "start_time": "2021-11-05T18:45:06.081Z"
   },
   {
    "duration": 8,
    "start_time": "2021-11-05T18:45:06.098Z"
   },
   {
    "duration": 12,
    "start_time": "2021-11-05T18:45:06.107Z"
   },
   {
    "duration": 13,
    "start_time": "2021-11-05T18:45:06.121Z"
   },
   {
    "duration": 36,
    "start_time": "2021-11-05T18:45:06.136Z"
   },
   {
    "duration": 8,
    "start_time": "2021-11-05T18:45:06.175Z"
   },
   {
    "duration": 11,
    "start_time": "2021-11-05T18:45:06.185Z"
   },
   {
    "duration": 14,
    "start_time": "2021-11-05T18:45:06.197Z"
   },
   {
    "duration": 13,
    "start_time": "2021-11-05T18:45:06.213Z"
   },
   {
    "duration": 16,
    "start_time": "2021-11-05T18:45:06.228Z"
   },
   {
    "duration": 20,
    "start_time": "2021-11-05T18:45:06.245Z"
   },
   {
    "duration": 10,
    "start_time": "2021-11-05T18:45:06.267Z"
   },
   {
    "duration": 9,
    "start_time": "2021-11-05T18:45:06.278Z"
   },
   {
    "duration": 20,
    "start_time": "2021-11-05T18:45:06.289Z"
   },
   {
    "duration": 19,
    "start_time": "2021-11-05T18:45:06.310Z"
   },
   {
    "duration": 36,
    "start_time": "2021-11-05T18:45:06.331Z"
   },
   {
    "duration": 6,
    "start_time": "2021-11-05T18:45:06.368Z"
   },
   {
    "duration": 5,
    "start_time": "2021-11-05T18:45:06.376Z"
   },
   {
    "duration": 6,
    "start_time": "2021-11-05T18:45:06.382Z"
   },
   {
    "duration": 649,
    "start_time": "2021-11-05T18:45:06.389Z"
   },
   {
    "duration": 3,
    "start_time": "2021-11-05T18:45:07.040Z"
   },
   {
    "duration": 18,
    "start_time": "2021-11-05T18:45:07.045Z"
   },
   {
    "duration": 314,
    "start_time": "2021-11-05T18:45:07.065Z"
   },
   {
    "duration": 4165,
    "start_time": "2021-11-05T18:45:03.216Z"
   },
   {
    "duration": 4144,
    "start_time": "2021-11-05T18:45:03.238Z"
   },
   {
    "duration": 4126,
    "start_time": "2021-11-05T18:45:03.257Z"
   },
   {
    "duration": 4098,
    "start_time": "2021-11-05T18:45:03.286Z"
   },
   {
    "duration": 4063,
    "start_time": "2021-11-05T18:45:03.322Z"
   },
   {
    "duration": 4048,
    "start_time": "2021-11-05T18:45:03.338Z"
   },
   {
    "duration": 4013,
    "start_time": "2021-11-05T18:45:03.374Z"
   },
   {
    "duration": 68,
    "start_time": "2021-11-05T18:45:19.226Z"
   },
   {
    "duration": 21,
    "start_time": "2021-11-05T18:45:19.296Z"
   },
   {
    "duration": 18,
    "start_time": "2021-11-05T18:45:19.319Z"
   },
   {
    "duration": 3,
    "start_time": "2021-11-05T18:45:19.340Z"
   },
   {
    "duration": 26,
    "start_time": "2021-11-05T18:45:19.345Z"
   },
   {
    "duration": 4,
    "start_time": "2021-11-05T18:45:19.373Z"
   },
   {
    "duration": 13,
    "start_time": "2021-11-05T18:45:19.379Z"
   },
   {
    "duration": 10,
    "start_time": "2021-11-05T18:45:19.393Z"
   },
   {
    "duration": 17,
    "start_time": "2021-11-05T18:45:19.405Z"
   },
   {
    "duration": 12,
    "start_time": "2021-11-05T18:45:19.424Z"
   },
   {
    "duration": 28,
    "start_time": "2021-11-05T18:45:19.438Z"
   },
   {
    "duration": 16,
    "start_time": "2021-11-05T18:45:19.468Z"
   },
   {
    "duration": 30,
    "start_time": "2021-11-05T18:45:19.486Z"
   },
   {
    "duration": 11,
    "start_time": "2021-11-05T18:45:19.518Z"
   },
   {
    "duration": 43,
    "start_time": "2021-11-05T18:45:19.531Z"
   },
   {
    "duration": 17,
    "start_time": "2021-11-05T18:45:19.575Z"
   },
   {
    "duration": 7,
    "start_time": "2021-11-05T18:45:19.593Z"
   },
   {
    "duration": 18,
    "start_time": "2021-11-05T18:45:19.602Z"
   },
   {
    "duration": 9,
    "start_time": "2021-11-05T18:45:19.622Z"
   },
   {
    "duration": 34,
    "start_time": "2021-11-05T18:45:19.633Z"
   },
   {
    "duration": 5,
    "start_time": "2021-11-05T18:45:19.669Z"
   },
   {
    "duration": 25,
    "start_time": "2021-11-05T18:45:19.676Z"
   },
   {
    "duration": 11,
    "start_time": "2021-11-05T18:45:19.702Z"
   },
   {
    "duration": 18,
    "start_time": "2021-11-05T18:45:19.714Z"
   },
   {
    "duration": 22,
    "start_time": "2021-11-05T18:45:19.734Z"
   },
   {
    "duration": 19,
    "start_time": "2021-11-05T18:45:19.759Z"
   },
   {
    "duration": 23,
    "start_time": "2021-11-05T18:45:19.780Z"
   },
   {
    "duration": 24,
    "start_time": "2021-11-05T18:45:19.805Z"
   },
   {
    "duration": 11,
    "start_time": "2021-11-05T18:45:19.831Z"
   },
   {
    "duration": 9,
    "start_time": "2021-11-05T18:45:19.843Z"
   },
   {
    "duration": 23,
    "start_time": "2021-11-05T18:45:19.853Z"
   },
   {
    "duration": 18,
    "start_time": "2021-11-05T18:45:19.878Z"
   },
   {
    "duration": 16,
    "start_time": "2021-11-05T18:45:19.897Z"
   },
   {
    "duration": 23,
    "start_time": "2021-11-05T18:45:19.915Z"
   },
   {
    "duration": 6,
    "start_time": "2021-11-05T18:45:19.963Z"
   },
   {
    "duration": 3,
    "start_time": "2021-11-05T18:45:19.971Z"
   },
   {
    "duration": 670,
    "start_time": "2021-11-05T18:45:19.976Z"
   },
   {
    "duration": 2,
    "start_time": "2021-11-05T18:45:20.648Z"
   },
   {
    "duration": 14,
    "start_time": "2021-11-05T18:45:20.652Z"
   },
   {
    "duration": 258,
    "start_time": "2021-11-05T18:45:20.668Z"
   },
   {
    "duration": 3712,
    "start_time": "2021-11-05T18:45:17.216Z"
   },
   {
    "duration": 3683,
    "start_time": "2021-11-05T18:45:17.247Z"
   },
   {
    "duration": 3675,
    "start_time": "2021-11-05T18:45:17.256Z"
   },
   {
    "duration": 3666,
    "start_time": "2021-11-05T18:45:17.265Z"
   },
   {
    "duration": 3656,
    "start_time": "2021-11-05T18:45:17.276Z"
   },
   {
    "duration": 3646,
    "start_time": "2021-11-05T18:45:17.287Z"
   },
   {
    "duration": 3625,
    "start_time": "2021-11-05T18:45:17.309Z"
   },
   {
    "duration": 13,
    "start_time": "2021-11-05T18:45:29.057Z"
   },
   {
    "duration": 9,
    "start_time": "2021-11-05T18:45:39.495Z"
   },
   {
    "duration": 14,
    "start_time": "2021-11-05T18:45:41.397Z"
   },
   {
    "duration": 249,
    "start_time": "2021-11-05T18:47:06.602Z"
   },
   {
    "duration": 9,
    "start_time": "2021-11-05T18:47:09.619Z"
   },
   {
    "duration": 231,
    "start_time": "2021-11-05T18:47:11.926Z"
   },
   {
    "duration": 39,
    "start_time": "2021-11-05T18:47:30.356Z"
   },
   {
    "duration": 15,
    "start_time": "2021-11-05T18:47:52.009Z"
   },
   {
    "duration": 9,
    "start_time": "2021-11-05T18:48:07.107Z"
   },
   {
    "duration": 17,
    "start_time": "2021-11-05T18:48:13.161Z"
   },
   {
    "duration": 50,
    "start_time": "2021-11-05T18:48:35.665Z"
   },
   {
    "duration": 14,
    "start_time": "2021-11-05T18:48:50.089Z"
   },
   {
    "duration": 38,
    "start_time": "2021-11-05T18:50:09.412Z"
   },
   {
    "duration": 37,
    "start_time": "2021-11-05T18:50:12.167Z"
   },
   {
    "duration": 24,
    "start_time": "2021-11-05T18:50:18.713Z"
   },
   {
    "duration": 17,
    "start_time": "2021-11-05T18:50:27.363Z"
   },
   {
    "duration": 615,
    "start_time": "2021-11-05T18:50:52.601Z"
   },
   {
    "duration": 25,
    "start_time": "2021-11-05T18:50:53.218Z"
   },
   {
    "duration": 9,
    "start_time": "2021-11-05T18:50:53.247Z"
   },
   {
    "duration": 3,
    "start_time": "2021-11-05T18:50:53.263Z"
   },
   {
    "duration": 11,
    "start_time": "2021-11-05T18:50:53.268Z"
   },
   {
    "duration": 6,
    "start_time": "2021-11-05T18:50:53.281Z"
   },
   {
    "duration": 4,
    "start_time": "2021-11-05T18:50:53.289Z"
   },
   {
    "duration": 9,
    "start_time": "2021-11-05T18:50:53.295Z"
   },
   {
    "duration": 12,
    "start_time": "2021-11-05T18:50:53.306Z"
   },
   {
    "duration": 13,
    "start_time": "2021-11-05T18:50:53.320Z"
   },
   {
    "duration": 4,
    "start_time": "2021-11-05T18:50:53.335Z"
   },
   {
    "duration": 28,
    "start_time": "2021-11-05T18:50:53.340Z"
   },
   {
    "duration": 27,
    "start_time": "2021-11-05T18:50:53.370Z"
   },
   {
    "duration": 10,
    "start_time": "2021-11-05T18:50:53.399Z"
   },
   {
    "duration": 26,
    "start_time": "2021-11-05T18:50:53.411Z"
   },
   {
    "duration": 29,
    "start_time": "2021-11-05T18:50:53.439Z"
   },
   {
    "duration": 5,
    "start_time": "2021-11-05T18:50:53.470Z"
   },
   {
    "duration": 13,
    "start_time": "2021-11-05T18:50:53.476Z"
   },
   {
    "duration": 8,
    "start_time": "2021-11-05T18:50:53.490Z"
   },
   {
    "duration": 10,
    "start_time": "2021-11-05T18:50:53.500Z"
   },
   {
    "duration": 8,
    "start_time": "2021-11-05T18:50:53.512Z"
   },
   {
    "duration": 40,
    "start_time": "2021-11-05T18:50:53.524Z"
   },
   {
    "duration": 8,
    "start_time": "2021-11-05T18:50:53.567Z"
   },
   {
    "duration": 9,
    "start_time": "2021-11-05T18:50:53.577Z"
   },
   {
    "duration": 12,
    "start_time": "2021-11-05T18:50:53.588Z"
   },
   {
    "duration": 13,
    "start_time": "2021-11-05T18:50:53.602Z"
   },
   {
    "duration": 14,
    "start_time": "2021-11-05T18:50:53.617Z"
   },
   {
    "duration": 34,
    "start_time": "2021-11-05T18:50:53.632Z"
   },
   {
    "duration": 6,
    "start_time": "2021-11-05T18:50:53.668Z"
   },
   {
    "duration": 8,
    "start_time": "2021-11-05T18:50:53.676Z"
   },
   {
    "duration": 23,
    "start_time": "2021-11-05T18:50:53.686Z"
   },
   {
    "duration": 18,
    "start_time": "2021-11-05T18:50:53.710Z"
   },
   {
    "duration": 40,
    "start_time": "2021-11-05T18:50:53.729Z"
   },
   {
    "duration": 4,
    "start_time": "2021-11-05T18:50:53.771Z"
   },
   {
    "duration": 6,
    "start_time": "2021-11-05T18:50:53.777Z"
   },
   {
    "duration": 7,
    "start_time": "2021-11-05T18:50:53.784Z"
   },
   {
    "duration": 647,
    "start_time": "2021-11-05T18:50:53.792Z"
   },
   {
    "duration": 3,
    "start_time": "2021-11-05T18:50:54.441Z"
   },
   {
    "duration": 9,
    "start_time": "2021-11-05T18:50:54.445Z"
   },
   {
    "duration": 10,
    "start_time": "2021-11-05T18:50:54.463Z"
   },
   {
    "duration": 19,
    "start_time": "2021-11-05T18:50:54.474Z"
   },
   {
    "duration": 11,
    "start_time": "2021-11-05T18:50:54.495Z"
   },
   {
    "duration": 31,
    "start_time": "2021-11-05T18:50:54.508Z"
   },
   {
    "duration": 34,
    "start_time": "2021-11-05T18:50:54.540Z"
   },
   {
    "duration": 4,
    "start_time": "2021-11-05T18:50:54.576Z"
   },
   {
    "duration": 13,
    "start_time": "2021-11-05T18:50:54.582Z"
   },
   {
    "duration": 21,
    "start_time": "2021-11-05T18:50:54.597Z"
   },
   {
    "duration": 18,
    "start_time": "2021-11-05T18:51:10.167Z"
   },
   {
    "duration": 8,
    "start_time": "2021-11-05T18:51:22.265Z"
   },
   {
    "duration": 33,
    "start_time": "2021-11-05T18:51:30.219Z"
   },
   {
    "duration": 19,
    "start_time": "2021-11-05T18:51:31.866Z"
   },
   {
    "duration": 5,
    "start_time": "2021-11-05T18:52:29.916Z"
   },
   {
    "duration": 24,
    "start_time": "2021-11-05T18:52:42.164Z"
   },
   {
    "duration": 40,
    "start_time": "2021-11-05T18:52:51.690Z"
   },
   {
    "duration": 43,
    "start_time": "2021-11-05T18:53:10.179Z"
   },
   {
    "duration": 36,
    "start_time": "2021-11-05T18:54:05.200Z"
   },
   {
    "duration": 13,
    "start_time": "2021-11-05T18:54:46.753Z"
   },
   {
    "duration": 12,
    "start_time": "2021-11-05T18:54:54.725Z"
   },
   {
    "duration": 775,
    "start_time": "2021-11-06T11:07:52.382Z"
   },
   {
    "duration": 41,
    "start_time": "2021-11-06T11:07:53.160Z"
   },
   {
    "duration": 29,
    "start_time": "2021-11-06T11:07:53.204Z"
   },
   {
    "duration": 8,
    "start_time": "2021-11-06T11:07:53.236Z"
   },
   {
    "duration": 17,
    "start_time": "2021-11-06T11:07:53.246Z"
   },
   {
    "duration": 14,
    "start_time": "2021-11-06T11:07:53.265Z"
   },
   {
    "duration": 7,
    "start_time": "2021-11-06T11:07:53.282Z"
   },
   {
    "duration": 11,
    "start_time": "2021-11-06T11:07:53.293Z"
   },
   {
    "duration": 34,
    "start_time": "2021-11-06T11:07:53.306Z"
   },
   {
    "duration": 15,
    "start_time": "2021-11-06T11:07:53.342Z"
   },
   {
    "duration": 3,
    "start_time": "2021-11-06T11:07:53.359Z"
   },
   {
    "duration": 32,
    "start_time": "2021-11-06T11:07:53.364Z"
   },
   {
    "duration": 71,
    "start_time": "2021-11-06T11:07:53.398Z"
   },
   {
    "duration": 16,
    "start_time": "2021-11-06T11:07:53.472Z"
   },
   {
    "duration": 55,
    "start_time": "2021-11-06T11:07:53.490Z"
   },
   {
    "duration": 15,
    "start_time": "2021-11-06T11:07:53.547Z"
   },
   {
    "duration": 6,
    "start_time": "2021-11-06T11:07:53.564Z"
   },
   {
    "duration": 17,
    "start_time": "2021-11-06T11:07:53.572Z"
   },
   {
    "duration": 46,
    "start_time": "2021-11-06T11:07:53.591Z"
   },
   {
    "duration": 10,
    "start_time": "2021-11-06T11:07:53.639Z"
   },
   {
    "duration": 7,
    "start_time": "2021-11-06T11:07:53.651Z"
   },
   {
    "duration": 7,
    "start_time": "2021-11-06T11:07:53.661Z"
   },
   {
    "duration": 13,
    "start_time": "2021-11-06T11:07:53.673Z"
   },
   {
    "duration": 11,
    "start_time": "2021-11-06T11:07:53.729Z"
   },
   {
    "duration": 18,
    "start_time": "2021-11-06T11:07:53.742Z"
   },
   {
    "duration": 16,
    "start_time": "2021-11-06T11:07:53.762Z"
   },
   {
    "duration": 48,
    "start_time": "2021-11-06T11:07:53.781Z"
   },
   {
    "duration": 12,
    "start_time": "2021-11-06T11:07:53.831Z"
   },
   {
    "duration": 7,
    "start_time": "2021-11-06T11:07:53.845Z"
   },
   {
    "duration": 7,
    "start_time": "2021-11-06T11:07:53.854Z"
   },
   {
    "duration": 27,
    "start_time": "2021-11-06T11:07:53.863Z"
   },
   {
    "duration": 58,
    "start_time": "2021-11-06T11:07:53.892Z"
   },
   {
    "duration": 20,
    "start_time": "2021-11-06T11:07:53.953Z"
   },
   {
    "duration": 8,
    "start_time": "2021-11-06T11:07:53.975Z"
   },
   {
    "duration": 7,
    "start_time": "2021-11-06T11:07:53.985Z"
   },
   {
    "duration": 4,
    "start_time": "2021-11-06T11:07:54.030Z"
   },
   {
    "duration": 904,
    "start_time": "2021-11-06T11:07:54.037Z"
   },
   {
    "duration": 3,
    "start_time": "2021-11-06T11:07:54.943Z"
   },
   {
    "duration": 12,
    "start_time": "2021-11-06T11:07:54.949Z"
   },
   {
    "duration": 20,
    "start_time": "2021-11-06T11:07:54.963Z"
   },
   {
    "duration": 46,
    "start_time": "2021-11-06T11:07:54.985Z"
   },
   {
    "duration": 13,
    "start_time": "2021-11-06T11:07:55.033Z"
   },
   {
    "duration": 22,
    "start_time": "2021-11-06T11:07:55.048Z"
   },
   {
    "duration": 7,
    "start_time": "2021-11-06T11:07:55.072Z"
   },
   {
    "duration": 50,
    "start_time": "2021-11-06T11:07:55.081Z"
   },
   {
    "duration": 22,
    "start_time": "2021-11-06T11:07:55.133Z"
   },
   {
    "duration": 8,
    "start_time": "2021-11-06T11:15:54.516Z"
   },
   {
    "duration": 6,
    "start_time": "2021-11-06T11:28:30.897Z"
   },
   {
    "duration": 592,
    "start_time": "2021-11-06T11:33:15.117Z"
   },
   {
    "duration": 577,
    "start_time": "2021-11-06T11:33:41.682Z"
   },
   {
    "duration": 18,
    "start_time": "2021-11-06T11:35:04.619Z"
   },
   {
    "duration": 582,
    "start_time": "2021-11-06T11:42:46.902Z"
   },
   {
    "duration": 90,
    "start_time": "2021-11-06T11:43:22.606Z"
   },
   {
    "duration": 92,
    "start_time": "2021-11-06T11:43:31.229Z"
   },
   {
    "duration": 567,
    "start_time": "2021-11-06T11:43:42.779Z"
   },
   {
    "duration": 11,
    "start_time": "2021-11-06T11:44:53.374Z"
   },
   {
    "duration": 569,
    "start_time": "2021-11-06T11:46:53.773Z"
   },
   {
    "duration": 558,
    "start_time": "2021-11-06T11:49:25.676Z"
   },
   {
    "duration": 94,
    "start_time": "2021-11-06T11:50:22.707Z"
   },
   {
    "duration": 583,
    "start_time": "2021-11-06T11:50:29.182Z"
   },
   {
    "duration": 654,
    "start_time": "2021-11-06T11:50:38.235Z"
   },
   {
    "duration": 89,
    "start_time": "2021-11-06T12:01:36.304Z"
   },
   {
    "duration": 111,
    "start_time": "2021-11-06T12:01:46.034Z"
   },
   {
    "duration": 83,
    "start_time": "2021-11-06T12:02:13.360Z"
   },
   {
    "duration": 119,
    "start_time": "2021-11-06T12:02:42.167Z"
   },
   {
    "duration": 19,
    "start_time": "2021-11-06T12:02:54.801Z"
   },
   {
    "duration": 26,
    "start_time": "2021-11-06T12:03:01.515Z"
   },
   {
    "duration": 27,
    "start_time": "2021-11-06T12:03:17.912Z"
   },
   {
    "duration": 26,
    "start_time": "2021-11-06T12:03:27.828Z"
   },
   {
    "duration": 694,
    "start_time": "2021-11-06T12:09:27.105Z"
   },
   {
    "duration": 41,
    "start_time": "2021-11-06T12:09:41.011Z"
   },
   {
    "duration": 28,
    "start_time": "2021-11-06T12:09:52.370Z"
   },
   {
    "duration": 30,
    "start_time": "2021-11-06T12:14:24.050Z"
   },
   {
    "duration": 6,
    "start_time": "2021-11-06T12:20:49.867Z"
   },
   {
    "duration": 595,
    "start_time": "2021-11-06T12:21:50.258Z"
   },
   {
    "duration": 252,
    "start_time": "2021-11-06T12:21:57.700Z"
   },
   {
    "duration": 18,
    "start_time": "2021-11-06T12:35:04.855Z"
   },
   {
    "duration": 18,
    "start_time": "2021-11-06T12:40:05.665Z"
   },
   {
    "duration": 25,
    "start_time": "2021-11-06T12:40:11.036Z"
   },
   {
    "duration": 32,
    "start_time": "2021-11-06T12:48:05.719Z"
   },
   {
    "duration": 33,
    "start_time": "2021-11-06T12:49:44.409Z"
   },
   {
    "duration": 29,
    "start_time": "2021-11-06T12:49:48.901Z"
   },
   {
    "duration": 30,
    "start_time": "2021-11-06T13:05:44.882Z"
   },
   {
    "duration": 82,
    "start_time": "2021-11-06T13:06:56.694Z"
   },
   {
    "duration": 35,
    "start_time": "2021-11-06T13:08:19.425Z"
   },
   {
    "duration": 1072,
    "start_time": "2021-11-06T13:09:10.783Z"
   },
   {
    "duration": 30,
    "start_time": "2021-11-06T13:09:44.860Z"
   },
   {
    "duration": 29,
    "start_time": "2021-11-06T13:10:33.982Z"
   },
   {
    "duration": 19,
    "start_time": "2021-11-06T13:13:11.874Z"
   },
   {
    "duration": 22,
    "start_time": "2021-11-06T13:14:03.730Z"
   },
   {
    "duration": 25,
    "start_time": "2021-11-06T13:15:26.340Z"
   },
   {
    "duration": 26,
    "start_time": "2021-11-06T13:16:13.314Z"
   },
   {
    "duration": 30,
    "start_time": "2021-11-06T13:18:28.165Z"
   },
   {
    "duration": 30,
    "start_time": "2021-11-06T13:35:21.765Z"
   },
   {
    "duration": 381,
    "start_time": "2021-11-06T13:38:23.552Z"
   },
   {
    "duration": 12,
    "start_time": "2021-11-06T13:39:28.016Z"
   },
   {
    "duration": 19,
    "start_time": "2021-11-06T13:39:34.346Z"
   },
   {
    "duration": 373,
    "start_time": "2021-11-06T13:40:06.809Z"
   },
   {
    "duration": 24,
    "start_time": "2021-11-06T13:40:19.673Z"
   },
   {
    "duration": 27,
    "start_time": "2021-11-06T13:40:37.011Z"
   },
   {
    "duration": 251,
    "start_time": "2021-11-06T13:41:38.465Z"
   },
   {
    "duration": 27,
    "start_time": "2021-11-06T13:42:14.633Z"
   },
   {
    "duration": 43,
    "start_time": "2021-11-06T13:43:34.134Z"
   },
   {
    "duration": 278,
    "start_time": "2021-11-06T13:44:56.663Z"
   },
   {
    "duration": 30,
    "start_time": "2021-11-06T13:45:35.163Z"
   },
   {
    "duration": 31,
    "start_time": "2021-11-06T13:45:53.067Z"
   },
   {
    "duration": 31,
    "start_time": "2021-11-06T13:46:10.954Z"
   },
   {
    "duration": 45,
    "start_time": "2021-11-06T13:48:23.422Z"
   },
   {
    "duration": 31,
    "start_time": "2021-11-06T14:46:17.039Z"
   },
   {
    "duration": 17,
    "start_time": "2021-11-06T14:46:55.257Z"
   },
   {
    "duration": 78,
    "start_time": "2021-11-06T14:46:57.361Z"
   },
   {
    "duration": 47,
    "start_time": "2021-11-06T14:46:57.442Z"
   },
   {
    "duration": 55,
    "start_time": "2021-11-06T14:46:57.492Z"
   },
   {
    "duration": 5,
    "start_time": "2021-11-06T14:46:57.550Z"
   },
   {
    "duration": 16,
    "start_time": "2021-11-06T14:46:57.559Z"
   },
   {
    "duration": 7,
    "start_time": "2021-11-06T14:46:57.578Z"
   },
   {
    "duration": 50,
    "start_time": "2021-11-06T14:46:57.588Z"
   },
   {
    "duration": 16,
    "start_time": "2021-11-06T14:46:57.643Z"
   },
   {
    "duration": 24,
    "start_time": "2021-11-06T14:46:57.664Z"
   },
   {
    "duration": 49,
    "start_time": "2021-11-06T14:46:57.690Z"
   },
   {
    "duration": 6,
    "start_time": "2021-11-06T14:46:57.742Z"
   },
   {
    "duration": 22,
    "start_time": "2021-11-06T14:46:57.751Z"
   },
   {
    "duration": 95,
    "start_time": "2021-11-06T14:46:57.776Z"
   },
   {
    "duration": 18,
    "start_time": "2021-11-06T14:46:57.874Z"
   },
   {
    "duration": 62,
    "start_time": "2021-11-06T14:46:57.895Z"
   },
   {
    "duration": 17,
    "start_time": "2021-11-06T14:46:57.959Z"
   },
   {
    "duration": 6,
    "start_time": "2021-11-06T14:46:57.978Z"
   },
   {
    "duration": 50,
    "start_time": "2021-11-06T14:46:57.987Z"
   },
   {
    "duration": 14,
    "start_time": "2021-11-06T14:46:58.040Z"
   },
   {
    "duration": 15,
    "start_time": "2021-11-06T14:46:58.058Z"
   },
   {
    "duration": 8,
    "start_time": "2021-11-06T14:46:58.076Z"
   },
   {
    "duration": 62,
    "start_time": "2021-11-06T14:46:58.086Z"
   },
   {
    "duration": 14,
    "start_time": "2021-11-06T14:46:58.155Z"
   },
   {
    "duration": 13,
    "start_time": "2021-11-06T14:46:58.174Z"
   },
   {
    "duration": 56,
    "start_time": "2021-11-06T14:46:58.189Z"
   },
   {
    "duration": 17,
    "start_time": "2021-11-06T14:46:58.249Z"
   },
   {
    "duration": 17,
    "start_time": "2021-11-06T14:46:58.269Z"
   },
   {
    "duration": 18,
    "start_time": "2021-11-06T14:46:58.288Z"
   },
   {
    "duration": 25,
    "start_time": "2021-11-06T14:46:58.308Z"
   },
   {
    "duration": 13,
    "start_time": "2021-11-06T14:46:58.337Z"
   },
   {
    "duration": 31,
    "start_time": "2021-11-06T14:46:58.352Z"
   },
   {
    "duration": 72,
    "start_time": "2021-11-06T14:46:58.386Z"
   },
   {
    "duration": 24,
    "start_time": "2021-11-06T14:46:58.462Z"
   },
   {
    "duration": 45,
    "start_time": "2021-11-06T14:46:58.488Z"
   },
   {
    "duration": 12,
    "start_time": "2021-11-06T14:46:58.537Z"
   },
   {
    "duration": 10,
    "start_time": "2021-11-06T14:46:58.551Z"
   },
   {
    "duration": 1046,
    "start_time": "2021-11-06T14:46:58.563Z"
   },
   {
    "duration": 3,
    "start_time": "2021-11-06T14:46:59.612Z"
   },
   {
    "duration": 16,
    "start_time": "2021-11-06T14:46:59.631Z"
   },
   {
    "duration": 26,
    "start_time": "2021-11-06T14:46:59.654Z"
   },
   {
    "duration": 60,
    "start_time": "2021-11-06T14:46:59.683Z"
   },
   {
    "duration": 21,
    "start_time": "2021-11-06T14:46:59.746Z"
   },
   {
    "duration": 20,
    "start_time": "2021-11-06T14:46:59.769Z"
   },
   {
    "duration": 38,
    "start_time": "2021-11-06T14:46:59.791Z"
   },
   {
    "duration": 22,
    "start_time": "2021-11-06T14:46:59.835Z"
   },
   {
    "duration": 28,
    "start_time": "2021-11-06T14:46:59.865Z"
   },
   {
    "duration": 73,
    "start_time": "2021-11-06T14:46:59.896Z"
   },
   {
    "duration": 34,
    "start_time": "2021-11-06T14:46:59.972Z"
   },
   {
    "duration": 59,
    "start_time": "2021-11-06T14:47:00.009Z"
   },
   {
    "duration": 28,
    "start_time": "2021-11-06T14:47:00.071Z"
   },
   {
    "duration": 34,
    "start_time": "2021-11-06T14:48:03.516Z"
   },
   {
    "duration": 27,
    "start_time": "2021-11-06T14:49:02.553Z"
   },
   {
    "duration": 30,
    "start_time": "2021-11-06T14:49:38.561Z"
   },
   {
    "duration": 36,
    "start_time": "2021-11-06T14:51:17.248Z"
   },
   {
    "duration": 39,
    "start_time": "2021-11-06T14:51:50.729Z"
   },
   {
    "duration": 41,
    "start_time": "2021-11-06T14:52:46.397Z"
   },
   {
    "duration": 42,
    "start_time": "2021-11-06T14:53:51.121Z"
   },
   {
    "duration": 936,
    "start_time": "2021-11-06T14:54:14.914Z"
   },
   {
    "duration": 41,
    "start_time": "2021-11-06T14:54:15.853Z"
   },
   {
    "duration": 13,
    "start_time": "2021-11-06T14:54:15.897Z"
   },
   {
    "duration": 27,
    "start_time": "2021-11-06T14:54:15.912Z"
   },
   {
    "duration": 20,
    "start_time": "2021-11-06T14:54:15.942Z"
   },
   {
    "duration": 7,
    "start_time": "2021-11-06T14:54:15.965Z"
   },
   {
    "duration": 15,
    "start_time": "2021-11-06T14:54:15.974Z"
   },
   {
    "duration": 8,
    "start_time": "2021-11-06T14:54:15.993Z"
   },
   {
    "duration": 27,
    "start_time": "2021-11-06T14:54:16.032Z"
   },
   {
    "duration": 13,
    "start_time": "2021-11-06T14:54:16.062Z"
   },
   {
    "duration": 4,
    "start_time": "2021-11-06T14:54:16.078Z"
   },
   {
    "duration": 19,
    "start_time": "2021-11-06T14:54:16.084Z"
   },
   {
    "duration": 69,
    "start_time": "2021-11-06T14:54:16.106Z"
   },
   {
    "duration": 12,
    "start_time": "2021-11-06T14:54:16.178Z"
   },
   {
    "duration": 70,
    "start_time": "2021-11-06T14:54:16.193Z"
   },
   {
    "duration": 15,
    "start_time": "2021-11-06T14:54:16.266Z"
   },
   {
    "duration": 5,
    "start_time": "2021-11-06T14:54:16.284Z"
   },
   {
    "duration": 53,
    "start_time": "2021-11-06T14:54:16.292Z"
   },
   {
    "duration": 14,
    "start_time": "2021-11-06T14:54:16.349Z"
   },
   {
    "duration": 9,
    "start_time": "2021-11-06T14:54:16.369Z"
   },
   {
    "duration": 7,
    "start_time": "2021-11-06T14:54:16.381Z"
   },
   {
    "duration": 55,
    "start_time": "2021-11-06T14:54:16.390Z"
   },
   {
    "duration": 12,
    "start_time": "2021-11-06T14:54:16.455Z"
   },
   {
    "duration": 14,
    "start_time": "2021-11-06T14:54:16.471Z"
   },
   {
    "duration": 44,
    "start_time": "2021-11-06T14:54:16.487Z"
   },
   {
    "duration": 21,
    "start_time": "2021-11-06T14:54:16.535Z"
   },
   {
    "duration": 19,
    "start_time": "2021-11-06T14:54:16.560Z"
   },
   {
    "duration": 19,
    "start_time": "2021-11-06T14:54:16.581Z"
   },
   {
    "duration": 16,
    "start_time": "2021-11-06T14:54:16.629Z"
   },
   {
    "duration": 15,
    "start_time": "2021-11-06T14:54:16.647Z"
   },
   {
    "duration": 30,
    "start_time": "2021-11-06T14:54:16.665Z"
   },
   {
    "duration": 31,
    "start_time": "2021-11-06T14:54:16.732Z"
   },
   {
    "duration": 24,
    "start_time": "2021-11-06T14:54:16.766Z"
   },
   {
    "duration": 8,
    "start_time": "2021-11-06T14:54:16.792Z"
   },
   {
    "duration": 12,
    "start_time": "2021-11-06T14:54:16.829Z"
   },
   {
    "duration": 6,
    "start_time": "2021-11-06T14:54:16.851Z"
   },
   {
    "duration": 1032,
    "start_time": "2021-11-06T14:54:16.859Z"
   },
   {
    "duration": 3,
    "start_time": "2021-11-06T14:54:17.894Z"
   },
   {
    "duration": 11,
    "start_time": "2021-11-06T14:54:17.899Z"
   },
   {
    "duration": 27,
    "start_time": "2021-11-06T14:54:17.929Z"
   },
   {
    "duration": 25,
    "start_time": "2021-11-06T14:54:17.959Z"
   },
   {
    "duration": 14,
    "start_time": "2021-11-06T14:54:17.986Z"
   },
   {
    "duration": 34,
    "start_time": "2021-11-06T14:54:18.031Z"
   },
   {
    "duration": 10,
    "start_time": "2021-11-06T14:54:18.067Z"
   },
   {
    "duration": 13,
    "start_time": "2021-11-06T14:54:18.080Z"
   },
   {
    "duration": 71,
    "start_time": "2021-11-06T14:54:18.095Z"
   },
   {
    "duration": 792,
    "start_time": "2021-11-06T14:54:18.169Z"
   },
   {
    "duration": 36,
    "start_time": "2021-11-06T14:54:18.964Z"
   },
   {
    "duration": 55,
    "start_time": "2021-11-06T14:54:19.002Z"
   },
   {
    "duration": 33,
    "start_time": "2021-11-06T14:54:19.060Z"
   },
   {
    "duration": 32,
    "start_time": "2021-11-06T14:54:19.563Z"
   },
   {
    "duration": 33,
    "start_time": "2021-11-06T14:54:21.961Z"
   },
   {
    "duration": 29,
    "start_time": "2021-11-06T14:56:45.465Z"
   },
   {
    "duration": 88,
    "start_time": "2021-11-06T14:59:20.505Z"
   },
   {
    "duration": 31,
    "start_time": "2021-11-06T15:00:05.367Z"
   },
   {
    "duration": 31,
    "start_time": "2021-11-06T15:00:08.595Z"
   },
   {
    "duration": 93,
    "start_time": "2021-11-06T15:05:21.763Z"
   },
   {
    "duration": 41,
    "start_time": "2021-11-06T15:05:31.745Z"
   },
   {
    "duration": 107,
    "start_time": "2021-11-06T15:05:54.008Z"
   },
   {
    "duration": 59,
    "start_time": "2021-11-06T15:06:02.527Z"
   },
   {
    "duration": 41,
    "start_time": "2021-11-06T15:06:12.249Z"
   },
   {
    "duration": 47,
    "start_time": "2021-11-06T15:06:17.918Z"
   },
   {
    "duration": 41,
    "start_time": "2021-11-06T15:07:23.558Z"
   },
   {
    "duration": 42,
    "start_time": "2021-11-06T15:07:26.204Z"
   },
   {
    "duration": 39,
    "start_time": "2021-11-06T15:10:53.372Z"
   },
   {
    "duration": 39,
    "start_time": "2021-11-06T15:11:07.839Z"
   },
   {
    "duration": 50,
    "start_time": "2021-11-06T15:11:23.509Z"
   },
   {
    "duration": 40,
    "start_time": "2021-11-06T15:11:34.134Z"
   },
   {
    "duration": 84,
    "start_time": "2021-11-06T16:35:00.224Z"
   },
   {
    "duration": 60,
    "start_time": "2021-11-06T16:35:00.311Z"
   },
   {
    "duration": 15,
    "start_time": "2021-11-06T16:35:00.376Z"
   },
   {
    "duration": 48,
    "start_time": "2021-11-06T16:35:00.394Z"
   },
   {
    "duration": 27,
    "start_time": "2021-11-06T16:35:00.446Z"
   },
   {
    "duration": 11,
    "start_time": "2021-11-06T16:35:00.475Z"
   },
   {
    "duration": 20,
    "start_time": "2021-11-06T16:35:00.488Z"
   },
   {
    "duration": 16,
    "start_time": "2021-11-06T16:35:00.512Z"
   },
   {
    "duration": 36,
    "start_time": "2021-11-06T16:35:00.540Z"
   },
   {
    "duration": 30,
    "start_time": "2021-11-06T16:35:00.579Z"
   },
   {
    "duration": 8,
    "start_time": "2021-11-06T16:35:00.612Z"
   },
   {
    "duration": 47,
    "start_time": "2021-11-06T16:35:00.623Z"
   },
   {
    "duration": 51,
    "start_time": "2021-11-06T16:35:00.673Z"
   },
   {
    "duration": 41,
    "start_time": "2021-11-06T16:35:00.726Z"
   },
   {
    "duration": 47,
    "start_time": "2021-11-06T16:35:00.769Z"
   },
   {
    "duration": 36,
    "start_time": "2021-11-06T16:35:00.818Z"
   },
   {
    "duration": 6,
    "start_time": "2021-11-06T16:35:00.857Z"
   },
   {
    "duration": 25,
    "start_time": "2021-11-06T16:35:00.865Z"
   },
   {
    "duration": 10,
    "start_time": "2021-11-06T16:35:00.893Z"
   },
   {
    "duration": 45,
    "start_time": "2021-11-06T16:35:00.906Z"
   },
   {
    "duration": 26,
    "start_time": "2021-11-06T16:35:00.953Z"
   },
   {
    "duration": 13,
    "start_time": "2021-11-06T16:35:00.982Z"
   },
   {
    "duration": 28,
    "start_time": "2021-11-06T16:35:01.000Z"
   },
   {
    "duration": 23,
    "start_time": "2021-11-06T16:35:01.037Z"
   },
   {
    "duration": 26,
    "start_time": "2021-11-06T16:35:01.063Z"
   },
   {
    "duration": 24,
    "start_time": "2021-11-06T16:35:01.092Z"
   },
   {
    "duration": 37,
    "start_time": "2021-11-06T16:35:01.119Z"
   },
   {
    "duration": 12,
    "start_time": "2021-11-06T16:35:01.159Z"
   },
   {
    "duration": 25,
    "start_time": "2021-11-06T16:35:01.174Z"
   },
   {
    "duration": 15,
    "start_time": "2021-11-06T16:35:01.201Z"
   },
   {
    "duration": 52,
    "start_time": "2021-11-06T16:35:01.218Z"
   },
   {
    "duration": 26,
    "start_time": "2021-11-06T16:35:01.272Z"
   },
   {
    "duration": 41,
    "start_time": "2021-11-06T16:35:01.300Z"
   },
   {
    "duration": 26,
    "start_time": "2021-11-06T16:35:01.345Z"
   },
   {
    "duration": 10,
    "start_time": "2021-11-06T16:35:01.374Z"
   },
   {
    "duration": 7,
    "start_time": "2021-11-06T16:35:01.386Z"
   },
   {
    "duration": 1040,
    "start_time": "2021-11-06T16:35:01.430Z"
   },
   {
    "duration": 3,
    "start_time": "2021-11-06T16:35:02.473Z"
   },
   {
    "duration": 20,
    "start_time": "2021-11-06T16:35:02.479Z"
   },
   {
    "duration": 30,
    "start_time": "2021-11-06T16:35:02.501Z"
   },
   {
    "duration": 39,
    "start_time": "2021-11-06T16:35:02.534Z"
   },
   {
    "duration": 12,
    "start_time": "2021-11-06T16:35:02.575Z"
   },
   {
    "duration": 60,
    "start_time": "2021-11-06T16:35:02.590Z"
   },
   {
    "duration": 9,
    "start_time": "2021-11-06T16:35:02.653Z"
   },
   {
    "duration": 30,
    "start_time": "2021-11-06T16:35:02.665Z"
   },
   {
    "duration": 61,
    "start_time": "2021-11-06T16:35:02.698Z"
   },
   {
    "duration": 38,
    "start_time": "2021-11-06T16:35:02.763Z"
   },
   {
    "duration": 71,
    "start_time": "2021-11-06T16:35:02.804Z"
   },
   {
    "duration": 29,
    "start_time": "2021-11-06T16:35:02.878Z"
   },
   {
    "duration": 61,
    "start_time": "2021-11-06T16:35:02.909Z"
   },
   {
    "duration": 23,
    "start_time": "2021-11-06T16:44:39.353Z"
   },
   {
    "duration": 33,
    "start_time": "2021-11-06T16:45:58.731Z"
   },
   {
    "duration": 22,
    "start_time": "2021-11-06T16:49:45.984Z"
   },
   {
    "duration": 22,
    "start_time": "2021-11-06T16:49:58.083Z"
   },
   {
    "duration": 933,
    "start_time": "2021-11-06T16:50:21.162Z"
   },
   {
    "duration": 57,
    "start_time": "2021-11-06T16:50:22.098Z"
   },
   {
    "duration": 17,
    "start_time": "2021-11-06T16:50:22.161Z"
   },
   {
    "duration": 13,
    "start_time": "2021-11-06T16:50:22.181Z"
   },
   {
    "duration": 40,
    "start_time": "2021-11-06T16:50:22.197Z"
   },
   {
    "duration": 31,
    "start_time": "2021-11-06T16:50:22.240Z"
   },
   {
    "duration": 6,
    "start_time": "2021-11-06T16:50:22.274Z"
   },
   {
    "duration": 14,
    "start_time": "2021-11-06T16:50:22.286Z"
   },
   {
    "duration": 32,
    "start_time": "2021-11-06T16:50:22.304Z"
   },
   {
    "duration": 27,
    "start_time": "2021-11-06T16:50:22.340Z"
   },
   {
    "duration": 12,
    "start_time": "2021-11-06T16:50:22.371Z"
   },
   {
    "duration": 3,
    "start_time": "2021-11-06T16:50:22.386Z"
   },
   {
    "duration": 56,
    "start_time": "2021-11-06T16:50:22.392Z"
   },
   {
    "duration": 37,
    "start_time": "2021-11-06T16:50:22.458Z"
   },
   {
    "duration": 32,
    "start_time": "2021-11-06T16:50:22.498Z"
   },
   {
    "duration": 43,
    "start_time": "2021-11-06T16:50:22.540Z"
   },
   {
    "duration": 14,
    "start_time": "2021-11-06T16:50:22.585Z"
   },
   {
    "duration": 30,
    "start_time": "2021-11-06T16:50:22.602Z"
   },
   {
    "duration": 25,
    "start_time": "2021-11-06T16:50:22.635Z"
   },
   {
    "duration": 10,
    "start_time": "2021-11-06T16:50:22.664Z"
   },
   {
    "duration": 18,
    "start_time": "2021-11-06T16:50:22.677Z"
   },
   {
    "duration": 13,
    "start_time": "2021-11-06T16:50:22.732Z"
   },
   {
    "duration": 10,
    "start_time": "2021-11-06T16:50:22.754Z"
   },
   {
    "duration": 10,
    "start_time": "2021-11-06T16:50:22.769Z"
   },
   {
    "duration": 61,
    "start_time": "2021-11-06T16:50:22.783Z"
   },
   {
    "duration": 22,
    "start_time": "2021-11-06T16:50:22.851Z"
   },
   {
    "duration": 11,
    "start_time": "2021-11-06T16:50:22.876Z"
   },
   {
    "duration": 53,
    "start_time": "2021-11-06T16:50:22.889Z"
   },
   {
    "duration": 19,
    "start_time": "2021-11-06T16:50:22.944Z"
   },
   {
    "duration": 9,
    "start_time": "2021-11-06T16:50:22.966Z"
   },
   {
    "duration": 13,
    "start_time": "2021-11-06T16:50:22.977Z"
   },
   {
    "duration": 63,
    "start_time": "2021-11-06T16:50:22.992Z"
   },
   {
    "duration": 30,
    "start_time": "2021-11-06T16:50:23.057Z"
   },
   {
    "duration": 54,
    "start_time": "2021-11-06T16:50:23.090Z"
   },
   {
    "duration": 12,
    "start_time": "2021-11-06T16:50:23.153Z"
   },
   {
    "duration": 8,
    "start_time": "2021-11-06T16:50:23.167Z"
   },
   {
    "duration": 4,
    "start_time": "2021-11-06T16:50:23.178Z"
   },
   {
    "duration": 1123,
    "start_time": "2021-11-06T16:50:23.185Z"
   },
   {
    "duration": 3,
    "start_time": "2021-11-06T16:50:24.311Z"
   },
   {
    "duration": 23,
    "start_time": "2021-11-06T16:50:24.316Z"
   },
   {
    "duration": 28,
    "start_time": "2021-11-06T16:50:24.343Z"
   },
   {
    "duration": 23,
    "start_time": "2021-11-06T16:50:24.374Z"
   },
   {
    "duration": 56,
    "start_time": "2021-11-06T16:50:24.400Z"
   },
   {
    "duration": 24,
    "start_time": "2021-11-06T16:50:24.460Z"
   },
   {
    "duration": 7,
    "start_time": "2021-11-06T16:50:24.486Z"
   },
   {
    "duration": 58,
    "start_time": "2021-11-06T16:50:24.496Z"
   },
   {
    "duration": 23,
    "start_time": "2021-11-06T16:50:24.559Z"
   },
   {
    "duration": 773,
    "start_time": "2021-11-06T16:50:24.585Z"
   },
   {
    "duration": 54,
    "start_time": "2021-11-06T16:50:25.363Z"
   },
   {
    "duration": 48,
    "start_time": "2021-11-06T16:50:25.419Z"
   },
   {
    "duration": 59,
    "start_time": "2021-11-06T16:50:25.469Z"
   },
   {
    "duration": 26,
    "start_time": "2021-11-06T16:50:38.295Z"
   },
   {
    "duration": 958,
    "start_time": "2021-11-06T16:50:50.274Z"
   },
   {
    "duration": 43,
    "start_time": "2021-11-06T16:50:51.236Z"
   },
   {
    "duration": 18,
    "start_time": "2021-11-06T16:50:51.283Z"
   },
   {
    "duration": 24,
    "start_time": "2021-11-06T16:50:51.329Z"
   },
   {
    "duration": 7,
    "start_time": "2021-11-06T16:50:51.364Z"
   },
   {
    "duration": 30,
    "start_time": "2021-11-06T16:50:51.375Z"
   },
   {
    "duration": 18,
    "start_time": "2021-11-06T16:50:51.408Z"
   },
   {
    "duration": 24,
    "start_time": "2021-11-06T16:50:51.432Z"
   },
   {
    "duration": 16,
    "start_time": "2021-11-06T16:50:51.459Z"
   },
   {
    "duration": 31,
    "start_time": "2021-11-06T16:50:51.478Z"
   },
   {
    "duration": 34,
    "start_time": "2021-11-06T16:50:51.512Z"
   },
   {
    "duration": 8,
    "start_time": "2021-11-06T16:50:51.550Z"
   },
   {
    "duration": 17,
    "start_time": "2021-11-06T16:50:51.562Z"
   },
   {
    "duration": 59,
    "start_time": "2021-11-06T16:50:51.582Z"
   },
   {
    "duration": 24,
    "start_time": "2021-11-06T16:50:51.643Z"
   },
   {
    "duration": 32,
    "start_time": "2021-11-06T16:50:51.670Z"
   },
   {
    "duration": 27,
    "start_time": "2021-11-06T16:50:51.731Z"
   },
   {
    "duration": 7,
    "start_time": "2021-11-06T16:50:51.762Z"
   },
   {
    "duration": 17,
    "start_time": "2021-11-06T16:50:51.771Z"
   },
   {
    "duration": 19,
    "start_time": "2021-11-06T16:50:51.833Z"
   },
   {
    "duration": 22,
    "start_time": "2021-11-06T16:50:51.856Z"
   },
   {
    "duration": 10,
    "start_time": "2021-11-06T16:50:51.882Z"
   },
   {
    "duration": 38,
    "start_time": "2021-11-06T16:50:51.897Z"
   },
   {
    "duration": 15,
    "start_time": "2021-11-06T16:50:51.940Z"
   },
   {
    "duration": 15,
    "start_time": "2021-11-06T16:50:51.958Z"
   },
   {
    "duration": 59,
    "start_time": "2021-11-06T16:50:51.976Z"
   },
   {
    "duration": 19,
    "start_time": "2021-11-06T16:50:52.039Z"
   },
   {
    "duration": 20,
    "start_time": "2021-11-06T16:50:52.062Z"
   },
   {
    "duration": 13,
    "start_time": "2021-11-06T16:50:52.084Z"
   },
   {
    "duration": 38,
    "start_time": "2021-11-06T16:50:52.099Z"
   },
   {
    "duration": 21,
    "start_time": "2021-11-06T16:50:52.140Z"
   },
   {
    "duration": 29,
    "start_time": "2021-11-06T16:50:52.164Z"
   },
   {
    "duration": 68,
    "start_time": "2021-11-06T16:50:52.195Z"
   },
   {
    "duration": 23,
    "start_time": "2021-11-06T16:50:52.266Z"
   },
   {
    "duration": 9,
    "start_time": "2021-11-06T16:50:52.292Z"
   },
   {
    "duration": 37,
    "start_time": "2021-11-06T16:50:52.304Z"
   },
   {
    "duration": 13,
    "start_time": "2021-11-06T16:50:52.344Z"
   },
   {
    "duration": 1062,
    "start_time": "2021-11-06T16:50:52.360Z"
   },
   {
    "duration": 11,
    "start_time": "2021-11-06T16:50:53.436Z"
   },
   {
    "duration": 21,
    "start_time": "2021-11-06T16:50:53.450Z"
   },
   {
    "duration": 23,
    "start_time": "2021-11-06T16:50:53.475Z"
   },
   {
    "duration": 63,
    "start_time": "2021-11-06T16:50:53.501Z"
   },
   {
    "duration": 15,
    "start_time": "2021-11-06T16:50:53.567Z"
   },
   {
    "duration": 51,
    "start_time": "2021-11-06T16:50:53.585Z"
   },
   {
    "duration": 19,
    "start_time": "2021-11-06T16:50:53.639Z"
   },
   {
    "duration": 21,
    "start_time": "2021-11-06T16:50:53.661Z"
   },
   {
    "duration": 77,
    "start_time": "2021-11-06T16:50:53.685Z"
   },
   {
    "duration": 831,
    "start_time": "2021-11-06T16:50:53.765Z"
   },
   {
    "duration": 70,
    "start_time": "2021-11-06T16:50:54.599Z"
   },
   {
    "duration": 42,
    "start_time": "2021-11-06T16:50:54.672Z"
   },
   {
    "duration": 58,
    "start_time": "2021-11-06T16:50:54.717Z"
   },
   {
    "duration": 25,
    "start_time": "2021-11-06T16:52:32.388Z"
   },
   {
    "duration": 865,
    "start_time": "2021-11-06T17:06:27.864Z"
   },
   {
    "duration": 36,
    "start_time": "2021-11-06T17:06:28.732Z"
   },
   {
    "duration": 14,
    "start_time": "2021-11-06T17:06:28.774Z"
   },
   {
    "duration": 49,
    "start_time": "2021-11-06T17:06:28.790Z"
   },
   {
    "duration": 5,
    "start_time": "2021-11-06T17:06:28.842Z"
   },
   {
    "duration": 21,
    "start_time": "2021-11-06T17:06:28.850Z"
   },
   {
    "duration": 6,
    "start_time": "2021-11-06T17:06:28.875Z"
   },
   {
    "duration": 4,
    "start_time": "2021-11-06T17:06:28.884Z"
   },
   {
    "duration": 47,
    "start_time": "2021-11-06T17:06:28.890Z"
   },
   {
    "duration": 18,
    "start_time": "2021-11-06T17:06:28.940Z"
   },
   {
    "duration": 16,
    "start_time": "2021-11-06T17:06:28.961Z"
   },
   {
    "duration": 5,
    "start_time": "2021-11-06T17:06:28.980Z"
   },
   {
    "duration": 56,
    "start_time": "2021-11-06T17:06:28.988Z"
   },
   {
    "duration": 37,
    "start_time": "2021-11-06T17:06:29.048Z"
   },
   {
    "duration": 45,
    "start_time": "2021-11-06T17:06:29.088Z"
   },
   {
    "duration": 34,
    "start_time": "2021-11-06T17:06:29.137Z"
   },
   {
    "duration": 16,
    "start_time": "2021-11-06T17:06:29.174Z"
   },
   {
    "duration": 36,
    "start_time": "2021-11-06T17:06:29.192Z"
   },
   {
    "duration": 21,
    "start_time": "2021-11-06T17:06:29.231Z"
   },
   {
    "duration": 10,
    "start_time": "2021-11-06T17:06:29.254Z"
   },
   {
    "duration": 11,
    "start_time": "2021-11-06T17:06:29.266Z"
   },
   {
    "duration": 49,
    "start_time": "2021-11-06T17:06:29.282Z"
   },
   {
    "duration": 12,
    "start_time": "2021-11-06T17:06:29.336Z"
   },
   {
    "duration": 10,
    "start_time": "2021-11-06T17:06:29.351Z"
   },
   {
    "duration": 11,
    "start_time": "2021-11-06T17:06:29.364Z"
   },
   {
    "duration": 64,
    "start_time": "2021-11-06T17:06:29.378Z"
   },
   {
    "duration": 14,
    "start_time": "2021-11-06T17:06:29.445Z"
   },
   {
    "duration": 25,
    "start_time": "2021-11-06T17:06:29.461Z"
   },
   {
    "duration": 16,
    "start_time": "2021-11-06T17:06:29.489Z"
   },
   {
    "duration": 27,
    "start_time": "2021-11-06T17:06:29.508Z"
   },
   {
    "duration": 11,
    "start_time": "2021-11-06T17:06:29.539Z"
   },
   {
    "duration": 30,
    "start_time": "2021-11-06T17:06:29.553Z"
   },
   {
    "duration": 70,
    "start_time": "2021-11-06T17:06:29.586Z"
   },
   {
    "duration": 25,
    "start_time": "2021-11-06T17:06:29.658Z"
   },
   {
    "duration": 9,
    "start_time": "2021-11-06T17:06:29.686Z"
   },
   {
    "duration": 38,
    "start_time": "2021-11-06T17:06:29.698Z"
   },
   {
    "duration": 8,
    "start_time": "2021-11-06T17:06:29.739Z"
   },
   {
    "duration": 992,
    "start_time": "2021-11-06T17:06:29.750Z"
   },
   {
    "duration": 4,
    "start_time": "2021-11-06T17:06:30.746Z"
   },
   {
    "duration": 57,
    "start_time": "2021-11-06T17:06:30.752Z"
   },
   {
    "duration": 43,
    "start_time": "2021-11-06T17:06:30.812Z"
   },
   {
    "duration": 56,
    "start_time": "2021-11-06T17:06:30.858Z"
   },
   {
    "duration": 45,
    "start_time": "2021-11-06T17:06:30.916Z"
   },
   {
    "duration": 52,
    "start_time": "2021-11-06T17:06:30.964Z"
   },
   {
    "duration": 39,
    "start_time": "2021-11-06T17:06:31.018Z"
   },
   {
    "duration": 45,
    "start_time": "2021-11-06T17:06:31.059Z"
   },
   {
    "duration": 53,
    "start_time": "2021-11-06T17:06:31.106Z"
   },
   {
    "duration": 727,
    "start_time": "2021-11-06T17:06:31.161Z"
   },
   {
    "duration": 63,
    "start_time": "2021-11-06T17:06:31.891Z"
   },
   {
    "duration": 30,
    "start_time": "2021-11-06T17:06:31.957Z"
   },
   {
    "duration": 60,
    "start_time": "2021-11-06T17:06:31.989Z"
   },
   {
    "duration": 396,
    "start_time": "2021-11-07T10:13:09.654Z"
   },
   {
    "duration": 814,
    "start_time": "2021-11-07T10:13:18.185Z"
   },
   {
    "duration": 31,
    "start_time": "2021-11-07T10:13:19.002Z"
   },
   {
    "duration": 28,
    "start_time": "2021-11-07T10:13:19.035Z"
   },
   {
    "duration": 12,
    "start_time": "2021-11-07T10:13:19.065Z"
   },
   {
    "duration": 4,
    "start_time": "2021-11-07T10:13:19.079Z"
   },
   {
    "duration": 15,
    "start_time": "2021-11-07T10:13:19.085Z"
   },
   {
    "duration": 18,
    "start_time": "2021-11-07T10:13:19.102Z"
   },
   {
    "duration": 5,
    "start_time": "2021-11-07T10:13:19.124Z"
   },
   {
    "duration": 33,
    "start_time": "2021-11-07T10:13:19.132Z"
   },
   {
    "duration": 17,
    "start_time": "2021-11-07T10:13:19.168Z"
   },
   {
    "duration": 12,
    "start_time": "2021-11-07T10:13:19.188Z"
   },
   {
    "duration": 3,
    "start_time": "2021-11-07T10:13:19.203Z"
   },
   {
    "duration": 52,
    "start_time": "2021-11-07T10:13:19.209Z"
   },
   {
    "duration": 35,
    "start_time": "2021-11-07T10:13:19.263Z"
   },
   {
    "duration": 12,
    "start_time": "2021-11-07T10:13:19.301Z"
   },
   {
    "duration": 63,
    "start_time": "2021-11-07T10:13:19.315Z"
   },
   {
    "duration": 19,
    "start_time": "2021-11-07T10:13:19.380Z"
   },
   {
    "duration": 6,
    "start_time": "2021-11-07T10:13:19.402Z"
   },
   {
    "duration": 24,
    "start_time": "2021-11-07T10:13:19.410Z"
   },
   {
    "duration": 30,
    "start_time": "2021-11-07T10:13:19.436Z"
   },
   {
    "duration": 13,
    "start_time": "2021-11-07T10:13:19.468Z"
   },
   {
    "duration": 9,
    "start_time": "2021-11-07T10:13:19.484Z"
   },
   {
    "duration": 12,
    "start_time": "2021-11-07T10:13:19.498Z"
   },
   {
    "duration": 9,
    "start_time": "2021-11-07T10:13:19.514Z"
   },
   {
    "duration": 9,
    "start_time": "2021-11-07T10:13:19.560Z"
   },
   {
    "duration": 18,
    "start_time": "2021-11-07T10:13:19.571Z"
   },
   {
    "duration": 11,
    "start_time": "2021-11-07T10:13:19.591Z"
   },
   {
    "duration": 56,
    "start_time": "2021-11-07T10:13:19.605Z"
   },
   {
    "duration": 12,
    "start_time": "2021-11-07T10:13:19.664Z"
   },
   {
    "duration": 8,
    "start_time": "2021-11-07T10:13:19.679Z"
   },
   {
    "duration": 11,
    "start_time": "2021-11-07T10:13:19.689Z"
   },
   {
    "duration": 69,
    "start_time": "2021-11-07T10:13:19.703Z"
   },
   {
    "duration": 27,
    "start_time": "2021-11-07T10:13:19.774Z"
   },
   {
    "duration": 24,
    "start_time": "2021-11-07T10:13:19.803Z"
   },
   {
    "duration": 10,
    "start_time": "2021-11-07T10:13:19.858Z"
   },
   {
    "duration": 9,
    "start_time": "2021-11-07T10:13:19.870Z"
   },
   {
    "duration": 4,
    "start_time": "2021-11-07T10:13:19.882Z"
   },
   {
    "duration": 892,
    "start_time": "2021-11-07T10:13:19.889Z"
   },
   {
    "duration": 5,
    "start_time": "2021-11-07T10:13:20.784Z"
   },
   {
    "duration": 23,
    "start_time": "2021-11-07T10:13:20.791Z"
   },
   {
    "duration": 26,
    "start_time": "2021-11-07T10:13:20.817Z"
   },
   {
    "duration": 34,
    "start_time": "2021-11-07T10:13:20.845Z"
   },
   {
    "duration": 20,
    "start_time": "2021-11-07T10:13:20.882Z"
   },
   {
    "duration": 24,
    "start_time": "2021-11-07T10:13:20.904Z"
   },
   {
    "duration": 7,
    "start_time": "2021-11-07T10:13:20.930Z"
   },
   {
    "duration": 32,
    "start_time": "2021-11-07T10:13:20.939Z"
   },
   {
    "duration": 22,
    "start_time": "2021-11-07T10:13:20.973Z"
   },
   {
    "duration": 852,
    "start_time": "2021-11-07T10:13:20.998Z"
   },
   {
    "duration": 39,
    "start_time": "2021-11-07T10:13:21.852Z"
   },
   {
    "duration": 30,
    "start_time": "2021-11-07T10:13:21.894Z"
   },
   {
    "duration": 60,
    "start_time": "2021-11-07T10:13:21.927Z"
   },
   {
    "duration": 15,
    "start_time": "2021-11-07T10:13:27.325Z"
   },
   {
    "duration": 4,
    "start_time": "2021-11-07T10:15:45.315Z"
   },
   {
    "duration": 5,
    "start_time": "2021-11-07T10:16:06.816Z"
   },
   {
    "duration": 38,
    "start_time": "2021-11-07T10:29:42.105Z"
   },
   {
    "duration": 38,
    "start_time": "2021-11-07T10:30:47.596Z"
   },
   {
    "duration": 972,
    "start_time": "2021-11-07T10:30:56.870Z"
   },
   {
    "duration": 68,
    "start_time": "2021-11-07T10:30:57.845Z"
   },
   {
    "duration": 16,
    "start_time": "2021-11-07T10:30:57.916Z"
   },
   {
    "duration": 12,
    "start_time": "2021-11-07T10:30:57.935Z"
   },
   {
    "duration": 3,
    "start_time": "2021-11-07T10:30:57.959Z"
   },
   {
    "duration": 18,
    "start_time": "2021-11-07T10:30:57.965Z"
   },
   {
    "duration": 6,
    "start_time": "2021-11-07T10:30:57.986Z"
   },
   {
    "duration": 13,
    "start_time": "2021-11-07T10:30:57.995Z"
   },
   {
    "duration": 14,
    "start_time": "2021-11-07T10:30:58.011Z"
   },
   {
    "duration": 39,
    "start_time": "2021-11-07T10:30:58.027Z"
   },
   {
    "duration": 20,
    "start_time": "2021-11-07T10:30:58.068Z"
   },
   {
    "duration": 5,
    "start_time": "2021-11-07T10:30:58.091Z"
   },
   {
    "duration": 17,
    "start_time": "2021-11-07T10:30:58.098Z"
   },
   {
    "duration": 55,
    "start_time": "2021-11-07T10:30:58.118Z"
   },
   {
    "duration": 15,
    "start_time": "2021-11-07T10:30:58.176Z"
   },
   {
    "duration": 37,
    "start_time": "2021-11-07T10:30:58.193Z"
   },
   {
    "duration": 40,
    "start_time": "2021-11-07T10:30:58.232Z"
   },
   {
    "duration": 6,
    "start_time": "2021-11-07T10:30:58.274Z"
   },
   {
    "duration": 19,
    "start_time": "2021-11-07T10:30:58.283Z"
   },
   {
    "duration": 9,
    "start_time": "2021-11-07T10:30:58.304Z"
   },
   {
    "duration": 51,
    "start_time": "2021-11-07T10:30:58.315Z"
   },
   {
    "duration": 8,
    "start_time": "2021-11-07T10:30:58.369Z"
   },
   {
    "duration": 13,
    "start_time": "2021-11-07T10:30:58.382Z"
   },
   {
    "duration": 13,
    "start_time": "2021-11-07T10:30:58.398Z"
   },
   {
    "duration": 47,
    "start_time": "2021-11-07T10:30:58.415Z"
   },
   {
    "duration": 26,
    "start_time": "2021-11-07T10:30:58.466Z"
   },
   {
    "duration": 13,
    "start_time": "2021-11-07T10:30:58.494Z"
   },
   {
    "duration": 19,
    "start_time": "2021-11-07T10:30:58.509Z"
   },
   {
    "duration": 35,
    "start_time": "2021-11-07T10:30:58.530Z"
   },
   {
    "duration": 9,
    "start_time": "2021-11-07T10:30:58.568Z"
   },
   {
    "duration": 24,
    "start_time": "2021-11-07T10:30:58.580Z"
   },
   {
    "duration": 30,
    "start_time": "2021-11-07T10:30:58.606Z"
   },
   {
    "duration": 43,
    "start_time": "2021-11-07T10:30:58.639Z"
   },
   {
    "duration": 22,
    "start_time": "2021-11-07T10:30:58.684Z"
   },
   {
    "duration": 5,
    "start_time": "2021-11-07T10:30:58.709Z"
   },
   {
    "duration": 46,
    "start_time": "2021-11-07T10:30:58.716Z"
   },
   {
    "duration": 5,
    "start_time": "2021-11-07T10:30:58.764Z"
   },
   {
    "duration": 965,
    "start_time": "2021-11-07T10:30:58.771Z"
   },
   {
    "duration": 3,
    "start_time": "2021-11-07T10:30:59.738Z"
   },
   {
    "duration": 19,
    "start_time": "2021-11-07T10:30:59.744Z"
   },
   {
    "duration": 22,
    "start_time": "2021-11-07T10:30:59.765Z"
   },
   {
    "duration": 23,
    "start_time": "2021-11-07T10:30:59.790Z"
   },
   {
    "duration": 49,
    "start_time": "2021-11-07T10:30:59.815Z"
   },
   {
    "duration": 25,
    "start_time": "2021-11-07T10:30:59.867Z"
   },
   {
    "duration": 6,
    "start_time": "2021-11-07T10:30:59.895Z"
   },
   {
    "duration": 13,
    "start_time": "2021-11-07T10:30:59.904Z"
   },
   {
    "duration": 68,
    "start_time": "2021-11-07T10:30:59.919Z"
   },
   {
    "duration": 877,
    "start_time": "2021-11-07T10:30:59.989Z"
   },
   {
    "duration": 36,
    "start_time": "2021-11-07T10:31:00.869Z"
   },
   {
    "duration": 51,
    "start_time": "2021-11-07T10:31:00.908Z"
   },
   {
    "duration": 31,
    "start_time": "2021-11-07T10:31:00.962Z"
   },
   {
    "duration": 23,
    "start_time": "2021-11-07T10:31:40.231Z"
   },
   {
    "duration": 17,
    "start_time": "2021-11-07T10:40:05.329Z"
   },
   {
    "duration": 10,
    "start_time": "2021-11-07T10:40:09.518Z"
   },
   {
    "duration": 7,
    "start_time": "2021-11-07T10:40:12.278Z"
   },
   {
    "duration": 11,
    "start_time": "2021-11-07T10:40:22.061Z"
   },
   {
    "duration": 8,
    "start_time": "2021-11-07T10:40:37.599Z"
   },
   {
    "duration": 10,
    "start_time": "2021-11-07T10:40:41.852Z"
   },
   {
    "duration": 10,
    "start_time": "2021-11-07T10:40:51.455Z"
   },
   {
    "duration": 835,
    "start_time": "2021-11-07T10:43:58.312Z"
   },
   {
    "duration": 30,
    "start_time": "2021-11-07T10:43:59.149Z"
   },
   {
    "duration": 15,
    "start_time": "2021-11-07T10:43:59.182Z"
   },
   {
    "duration": 11,
    "start_time": "2021-11-07T10:43:59.200Z"
   },
   {
    "duration": 4,
    "start_time": "2021-11-07T10:43:59.213Z"
   },
   {
    "duration": 52,
    "start_time": "2021-11-07T10:43:59.219Z"
   },
   {
    "duration": 7,
    "start_time": "2021-11-07T10:43:59.274Z"
   },
   {
    "duration": 6,
    "start_time": "2021-11-07T10:43:59.286Z"
   },
   {
    "duration": 10,
    "start_time": "2021-11-07T10:43:59.296Z"
   },
   {
    "duration": 50,
    "start_time": "2021-11-07T10:43:59.309Z"
   },
   {
    "duration": 16,
    "start_time": "2021-11-07T10:43:59.362Z"
   },
   {
    "duration": 3,
    "start_time": "2021-11-07T10:43:59.381Z"
   },
   {
    "duration": 14,
    "start_time": "2021-11-07T10:43:59.386Z"
   },
   {
    "duration": 61,
    "start_time": "2021-11-07T10:43:59.403Z"
   },
   {
    "duration": 12,
    "start_time": "2021-11-07T10:43:59.466Z"
   },
   {
    "duration": 32,
    "start_time": "2021-11-07T10:43:59.480Z"
   },
   {
    "duration": 14,
    "start_time": "2021-11-07T10:43:59.515Z"
   },
   {
    "duration": 6,
    "start_time": "2021-11-07T10:43:59.560Z"
   },
   {
    "duration": 19,
    "start_time": "2021-11-07T10:43:59.569Z"
   },
   {
    "duration": 9,
    "start_time": "2021-11-07T10:43:59.591Z"
   },
   {
    "duration": 10,
    "start_time": "2021-11-07T10:43:59.602Z"
   },
   {
    "duration": 47,
    "start_time": "2021-11-07T10:43:59.615Z"
   },
   {
    "duration": 7,
    "start_time": "2021-11-07T10:43:59.668Z"
   },
   {
    "duration": 8,
    "start_time": "2021-11-07T10:43:59.678Z"
   },
   {
    "duration": 13,
    "start_time": "2021-11-07T10:43:59.689Z"
   },
   {
    "duration": 15,
    "start_time": "2021-11-07T10:43:59.705Z"
   },
   {
    "duration": 46,
    "start_time": "2021-11-07T10:43:59.722Z"
   },
   {
    "duration": 18,
    "start_time": "2021-11-07T10:43:59.770Z"
   },
   {
    "duration": 13,
    "start_time": "2021-11-07T10:43:59.790Z"
   },
   {
    "duration": 11,
    "start_time": "2021-11-07T10:43:59.805Z"
   },
   {
    "duration": 7,
    "start_time": "2021-11-07T10:43:59.818Z"
   },
   {
    "duration": 58,
    "start_time": "2021-11-07T10:43:59.827Z"
   },
   {
    "duration": 23,
    "start_time": "2021-11-07T10:43:59.887Z"
   },
   {
    "duration": 50,
    "start_time": "2021-11-07T10:43:59.912Z"
   },
   {
    "duration": 10,
    "start_time": "2021-11-07T10:43:59.964Z"
   },
   {
    "duration": 8,
    "start_time": "2021-11-07T10:43:59.976Z"
   },
   {
    "duration": 5,
    "start_time": "2021-11-07T10:43:59.987Z"
   },
   {
    "duration": 917,
    "start_time": "2021-11-07T10:43:59.995Z"
   },
   {
    "duration": 3,
    "start_time": "2021-11-07T10:44:00.915Z"
   },
   {
    "duration": 10,
    "start_time": "2021-11-07T10:44:00.921Z"
   },
   {
    "duration": 35,
    "start_time": "2021-11-07T10:44:00.934Z"
   },
   {
    "duration": 25,
    "start_time": "2021-11-07T10:44:00.972Z"
   },
   {
    "duration": 21,
    "start_time": "2021-11-07T10:44:00.999Z"
   },
   {
    "duration": 46,
    "start_time": "2021-11-07T10:44:01.022Z"
   },
   {
    "duration": 6,
    "start_time": "2021-11-07T10:44:01.071Z"
   },
   {
    "duration": 23,
    "start_time": "2021-11-07T10:44:01.079Z"
   },
   {
    "duration": 32,
    "start_time": "2021-11-07T10:44:01.104Z"
   },
   {
    "duration": 837,
    "start_time": "2021-11-07T10:44:01.139Z"
   },
   {
    "duration": 37,
    "start_time": "2021-11-07T10:44:01.979Z"
   },
   {
    "duration": 48,
    "start_time": "2021-11-07T10:44:02.018Z"
   },
   {
    "duration": 29,
    "start_time": "2021-11-07T10:44:02.069Z"
   },
   {
    "duration": 796,
    "start_time": "2021-11-07T10:47:59.108Z"
   },
   {
    "duration": 31,
    "start_time": "2021-11-07T10:47:59.907Z"
   },
   {
    "duration": 26,
    "start_time": "2021-11-07T10:47:59.940Z"
   },
   {
    "duration": 14,
    "start_time": "2021-11-07T10:47:59.969Z"
   },
   {
    "duration": 7,
    "start_time": "2021-11-07T10:47:59.986Z"
   },
   {
    "duration": 17,
    "start_time": "2021-11-07T10:47:59.995Z"
   },
   {
    "duration": 46,
    "start_time": "2021-11-07T10:48:00.014Z"
   },
   {
    "duration": 5,
    "start_time": "2021-11-07T10:48:00.066Z"
   },
   {
    "duration": 28,
    "start_time": "2021-11-07T10:48:00.074Z"
   },
   {
    "duration": 22,
    "start_time": "2021-11-07T10:48:00.104Z"
   },
   {
    "duration": 30,
    "start_time": "2021-11-07T10:48:00.129Z"
   },
   {
    "duration": 4,
    "start_time": "2021-11-07T10:48:00.162Z"
   },
   {
    "duration": 18,
    "start_time": "2021-11-07T10:48:00.169Z"
   },
   {
    "duration": 38,
    "start_time": "2021-11-07T10:48:00.190Z"
   },
   {
    "duration": 43,
    "start_time": "2021-11-07T10:48:00.230Z"
   },
   {
    "duration": 33,
    "start_time": "2021-11-07T10:48:00.276Z"
   },
   {
    "duration": 48,
    "start_time": "2021-11-07T10:48:00.311Z"
   },
   {
    "duration": 7,
    "start_time": "2021-11-07T10:48:00.362Z"
   },
   {
    "duration": 23,
    "start_time": "2021-11-07T10:48:00.371Z"
   },
   {
    "duration": 10,
    "start_time": "2021-11-07T10:48:00.397Z"
   },
   {
    "duration": 22,
    "start_time": "2021-11-07T10:48:00.409Z"
   },
   {
    "duration": 32,
    "start_time": "2021-11-07T10:48:00.433Z"
   },
   {
    "duration": 8,
    "start_time": "2021-11-07T10:48:00.471Z"
   },
   {
    "duration": 20,
    "start_time": "2021-11-07T10:48:00.482Z"
   },
   {
    "duration": 13,
    "start_time": "2021-11-07T10:48:00.505Z"
   },
   {
    "duration": 48,
    "start_time": "2021-11-07T10:48:00.520Z"
   },
   {
    "duration": 22,
    "start_time": "2021-11-07T10:48:00.571Z"
   },
   {
    "duration": 34,
    "start_time": "2021-11-07T10:48:00.595Z"
   },
   {
    "duration": 21,
    "start_time": "2021-11-07T10:48:00.631Z"
   },
   {
    "duration": 25,
    "start_time": "2021-11-07T10:48:00.654Z"
   },
   {
    "duration": 14,
    "start_time": "2021-11-07T10:48:00.681Z"
   },
   {
    "duration": 40,
    "start_time": "2021-11-07T10:48:00.698Z"
   },
   {
    "duration": 25,
    "start_time": "2021-11-07T10:48:00.741Z"
   },
   {
    "duration": 26,
    "start_time": "2021-11-07T10:48:00.768Z"
   },
   {
    "duration": 10,
    "start_time": "2021-11-07T10:48:00.797Z"
   },
   {
    "duration": 30,
    "start_time": "2021-11-07T10:48:00.809Z"
   },
   {
    "duration": 7,
    "start_time": "2021-11-07T10:48:00.841Z"
   },
   {
    "duration": 911,
    "start_time": "2021-11-07T10:48:00.850Z"
   },
   {
    "duration": 3,
    "start_time": "2021-11-07T10:48:01.763Z"
   },
   {
    "duration": 13,
    "start_time": "2021-11-07T10:48:01.768Z"
   },
   {
    "duration": 27,
    "start_time": "2021-11-07T10:48:01.783Z"
   },
   {
    "duration": 26,
    "start_time": "2021-11-07T10:48:01.813Z"
   },
   {
    "duration": 28,
    "start_time": "2021-11-07T10:48:01.841Z"
   },
   {
    "duration": 28,
    "start_time": "2021-11-07T10:48:01.872Z"
   },
   {
    "duration": 7,
    "start_time": "2021-11-07T10:48:01.903Z"
   },
   {
    "duration": 22,
    "start_time": "2021-11-07T10:48:01.912Z"
   },
   {
    "duration": 43,
    "start_time": "2021-11-07T10:48:01.937Z"
   },
   {
    "duration": 799,
    "start_time": "2021-11-07T10:48:01.983Z"
   },
   {
    "duration": 36,
    "start_time": "2021-11-07T10:48:02.784Z"
   },
   {
    "duration": 44,
    "start_time": "2021-11-07T10:48:02.822Z"
   },
   {
    "duration": 27,
    "start_time": "2021-11-07T10:48:02.869Z"
   },
   {
    "duration": 29,
    "start_time": "2021-11-07T11:04:36.117Z"
   },
   {
    "duration": 22,
    "start_time": "2021-11-07T11:40:19.048Z"
   },
   {
    "duration": 23,
    "start_time": "2021-11-07T11:40:31.126Z"
   },
   {
    "duration": 16,
    "start_time": "2021-11-07T12:27:40.876Z"
   },
   {
    "duration": 45,
    "start_time": "2021-11-07T12:27:43.874Z"
   },
   {
    "duration": 14,
    "start_time": "2021-11-07T12:29:10.095Z"
   },
   {
    "duration": 4,
    "start_time": "2021-11-07T12:30:58.273Z"
   },
   {
    "duration": 4,
    "start_time": "2021-11-07T12:31:16.344Z"
   },
   {
    "duration": 872,
    "start_time": "2021-11-07T12:31:37.091Z"
   },
   {
    "duration": 30,
    "start_time": "2021-11-07T12:31:37.966Z"
   },
   {
    "duration": 27,
    "start_time": "2021-11-07T12:31:37.999Z"
   },
   {
    "duration": 13,
    "start_time": "2021-11-07T12:31:38.029Z"
   },
   {
    "duration": 5,
    "start_time": "2021-11-07T12:31:38.060Z"
   },
   {
    "duration": 28,
    "start_time": "2021-11-07T12:31:38.068Z"
   },
   {
    "duration": 12,
    "start_time": "2021-11-07T12:31:38.099Z"
   },
   {
    "duration": 16,
    "start_time": "2021-11-07T12:31:38.116Z"
   },
   {
    "duration": 25,
    "start_time": "2021-11-07T12:31:38.135Z"
   },
   {
    "duration": 19,
    "start_time": "2021-11-07T12:31:38.162Z"
   },
   {
    "duration": 25,
    "start_time": "2021-11-07T12:31:38.183Z"
   },
   {
    "duration": 6,
    "start_time": "2021-11-07T12:31:38.211Z"
   },
   {
    "duration": 39,
    "start_time": "2021-11-07T12:31:38.221Z"
   },
   {
    "duration": 33,
    "start_time": "2021-11-07T12:31:38.262Z"
   },
   {
    "duration": 13,
    "start_time": "2021-11-07T12:31:38.298Z"
   },
   {
    "duration": 57,
    "start_time": "2021-11-07T12:31:38.313Z"
   },
   {
    "duration": 15,
    "start_time": "2021-11-07T12:31:38.373Z"
   },
   {
    "duration": 6,
    "start_time": "2021-11-07T12:31:38.390Z"
   },
   {
    "duration": 17,
    "start_time": "2021-11-07T12:31:38.398Z"
   },
   {
    "duration": 47,
    "start_time": "2021-11-07T12:31:38.418Z"
   },
   {
    "duration": 12,
    "start_time": "2021-11-07T12:31:38.467Z"
   },
   {
    "duration": 8,
    "start_time": "2021-11-07T12:31:38.482Z"
   },
   {
    "duration": 8,
    "start_time": "2021-11-07T12:31:38.495Z"
   },
   {
    "duration": 52,
    "start_time": "2021-11-07T12:31:38.507Z"
   },
   {
    "duration": 11,
    "start_time": "2021-11-07T12:31:38.562Z"
   },
   {
    "duration": 25,
    "start_time": "2021-11-07T12:31:38.576Z"
   },
   {
    "duration": 15,
    "start_time": "2021-11-07T12:31:38.604Z"
   },
   {
    "duration": 50,
    "start_time": "2021-11-07T12:31:38.622Z"
   },
   {
    "duration": 11,
    "start_time": "2021-11-07T12:31:38.675Z"
   },
   {
    "duration": 9,
    "start_time": "2021-11-07T12:31:38.688Z"
   },
   {
    "duration": 10,
    "start_time": "2021-11-07T12:31:38.699Z"
   },
   {
    "duration": 62,
    "start_time": "2021-11-07T12:31:38.711Z"
   },
   {
    "duration": 29,
    "start_time": "2021-11-07T12:31:38.775Z"
   },
   {
    "duration": 22,
    "start_time": "2021-11-07T12:31:38.807Z"
   },
   {
    "duration": 37,
    "start_time": "2021-11-07T12:31:38.833Z"
   },
   {
    "duration": 11,
    "start_time": "2021-11-07T12:31:38.874Z"
   },
   {
    "duration": 5,
    "start_time": "2021-11-07T12:31:38.888Z"
   },
   {
    "duration": 1064,
    "start_time": "2021-11-07T12:31:38.895Z"
   },
   {
    "duration": 4,
    "start_time": "2021-11-07T12:31:39.961Z"
   },
   {
    "duration": 10,
    "start_time": "2021-11-07T12:31:39.967Z"
   },
   {
    "duration": 21,
    "start_time": "2021-11-07T12:31:39.980Z"
   },
   {
    "duration": 67,
    "start_time": "2021-11-07T12:31:40.004Z"
   },
   {
    "duration": 13,
    "start_time": "2021-11-07T12:31:40.074Z"
   },
   {
    "duration": 34,
    "start_time": "2021-11-07T12:31:40.090Z"
   },
   {
    "duration": 35,
    "start_time": "2021-11-07T12:31:40.126Z"
   },
   {
    "duration": 12,
    "start_time": "2021-11-07T12:31:40.164Z"
   },
   {
    "duration": 34,
    "start_time": "2021-11-07T12:31:40.179Z"
   },
   {
    "duration": 1138,
    "start_time": "2021-11-07T12:31:40.215Z"
   },
   {
    "duration": 39,
    "start_time": "2021-11-07T12:31:41.356Z"
   },
   {
    "duration": 29,
    "start_time": "2021-11-07T12:31:41.397Z"
   },
   {
    "duration": 55,
    "start_time": "2021-11-07T12:31:41.428Z"
   },
   {
    "duration": 66,
    "start_time": "2021-11-07T13:05:52.510Z"
   },
   {
    "duration": 39,
    "start_time": "2021-11-07T13:06:08.057Z"
   },
   {
    "duration": 841,
    "start_time": "2021-11-07T13:23:08.287Z"
   },
   {
    "duration": 52,
    "start_time": "2021-11-07T13:23:09.132Z"
   },
   {
    "duration": 13,
    "start_time": "2021-11-07T13:23:09.187Z"
   },
   {
    "duration": 14,
    "start_time": "2021-11-07T13:23:09.202Z"
   },
   {
    "duration": 41,
    "start_time": "2021-11-07T13:23:09.218Z"
   },
   {
    "duration": 15,
    "start_time": "2021-11-07T13:23:09.261Z"
   },
   {
    "duration": 9,
    "start_time": "2021-11-07T13:23:09.278Z"
   },
   {
    "duration": 7,
    "start_time": "2021-11-07T13:23:09.293Z"
   },
   {
    "duration": 10,
    "start_time": "2021-11-07T13:23:09.305Z"
   },
   {
    "duration": 58,
    "start_time": "2021-11-07T13:23:09.317Z"
   },
   {
    "duration": 14,
    "start_time": "2021-11-07T13:23:09.377Z"
   },
   {
    "duration": 4,
    "start_time": "2021-11-07T13:23:09.393Z"
   },
   {
    "duration": 15,
    "start_time": "2021-11-07T13:23:09.399Z"
   },
   {
    "duration": 92,
    "start_time": "2021-11-07T13:23:09.416Z"
   },
   {
    "duration": 18,
    "start_time": "2021-11-07T13:23:09.511Z"
   },
   {
    "duration": 80,
    "start_time": "2021-11-07T13:23:09.533Z"
   },
   {
    "duration": 24,
    "start_time": "2021-11-07T13:23:09.616Z"
   },
   {
    "duration": 8,
    "start_time": "2021-11-07T13:23:09.659Z"
   },
   {
    "duration": 29,
    "start_time": "2021-11-07T13:23:09.671Z"
   },
   {
    "duration": 9,
    "start_time": "2021-11-07T13:23:09.702Z"
   },
   {
    "duration": 11,
    "start_time": "2021-11-07T13:23:09.713Z"
   },
   {
    "duration": 36,
    "start_time": "2021-11-07T13:23:09.726Z"
   },
   {
    "duration": 7,
    "start_time": "2021-11-07T13:23:09.768Z"
   },
   {
    "duration": 9,
    "start_time": "2021-11-07T13:23:09.778Z"
   },
   {
    "duration": 13,
    "start_time": "2021-11-07T13:23:09.789Z"
   },
   {
    "duration": 60,
    "start_time": "2021-11-07T13:23:09.804Z"
   },
   {
    "duration": 11,
    "start_time": "2021-11-07T13:23:09.867Z"
   },
   {
    "duration": 27,
    "start_time": "2021-11-07T13:23:09.881Z"
   },
   {
    "duration": 13,
    "start_time": "2021-11-07T13:23:09.911Z"
   },
   {
    "duration": 6,
    "start_time": "2021-11-07T13:23:09.926Z"
   },
   {
    "duration": 8,
    "start_time": "2021-11-07T13:23:09.959Z"
   },
   {
    "duration": 28,
    "start_time": "2021-11-07T13:23:09.969Z"
   },
   {
    "duration": 25,
    "start_time": "2021-11-07T13:23:09.999Z"
   },
   {
    "duration": 51,
    "start_time": "2021-11-07T13:23:10.027Z"
   },
   {
    "duration": 9,
    "start_time": "2021-11-07T13:23:10.081Z"
   },
   {
    "duration": 7,
    "start_time": "2021-11-07T13:23:10.092Z"
   },
   {
    "duration": 5,
    "start_time": "2021-11-07T13:23:10.101Z"
   },
   {
    "duration": 941,
    "start_time": "2021-11-07T13:23:10.108Z"
   },
   {
    "duration": 4,
    "start_time": "2021-11-07T13:23:11.060Z"
   },
   {
    "duration": 10,
    "start_time": "2021-11-07T13:23:11.066Z"
   },
   {
    "duration": 21,
    "start_time": "2021-11-07T13:23:11.078Z"
   },
   {
    "duration": 57,
    "start_time": "2021-11-07T13:23:11.102Z"
   },
   {
    "duration": 14,
    "start_time": "2021-11-07T13:23:11.162Z"
   },
   {
    "duration": 29,
    "start_time": "2021-11-07T13:23:11.179Z"
   },
   {
    "duration": 8,
    "start_time": "2021-11-07T13:23:11.211Z"
   },
   {
    "duration": 13,
    "start_time": "2021-11-07T13:23:11.258Z"
   },
   {
    "duration": 26,
    "start_time": "2021-11-07T13:23:11.274Z"
   },
   {
    "duration": 1153,
    "start_time": "2021-11-07T13:23:11.304Z"
   },
   {
    "duration": 65,
    "start_time": "2021-11-07T13:23:12.462Z"
   },
   {
    "duration": 66,
    "start_time": "2021-11-07T13:23:12.531Z"
   },
   {
    "duration": 67,
    "start_time": "2021-11-07T13:23:12.600Z"
   },
   {
    "duration": 136,
    "start_time": "2021-11-07T13:47:15.309Z"
   },
   {
    "duration": 606,
    "start_time": "2022-02-09T15:25:22.489Z"
   },
   {
    "duration": 17,
    "start_time": "2022-02-09T15:25:23.097Z"
   },
   {
    "duration": 14,
    "start_time": "2022-02-09T15:25:23.116Z"
   },
   {
    "duration": 9,
    "start_time": "2022-02-09T15:25:23.132Z"
   },
   {
    "duration": 3,
    "start_time": "2022-02-09T15:25:23.143Z"
   },
   {
    "duration": 10,
    "start_time": "2022-02-09T15:25:23.148Z"
   },
   {
    "duration": 7,
    "start_time": "2022-02-09T15:25:23.159Z"
   },
   {
    "duration": 3,
    "start_time": "2022-02-09T15:25:23.169Z"
   },
   {
    "duration": 7,
    "start_time": "2022-02-09T15:25:23.173Z"
   },
   {
    "duration": 10,
    "start_time": "2022-02-09T15:25:23.181Z"
   },
   {
    "duration": 9,
    "start_time": "2022-02-09T15:25:23.226Z"
   },
   {
    "duration": 4,
    "start_time": "2022-02-09T15:25:23.236Z"
   },
   {
    "duration": 13,
    "start_time": "2022-02-09T15:25:23.241Z"
   },
   {
    "duration": 22,
    "start_time": "2022-02-09T15:25:23.255Z"
   },
   {
    "duration": 9,
    "start_time": "2022-02-09T15:25:23.278Z"
   },
   {
    "duration": 41,
    "start_time": "2022-02-09T15:25:23.288Z"
   },
   {
    "duration": 11,
    "start_time": "2022-02-09T15:25:23.331Z"
   },
   {
    "duration": 4,
    "start_time": "2022-02-09T15:25:23.343Z"
   },
   {
    "duration": 10,
    "start_time": "2022-02-09T15:25:23.349Z"
   },
   {
    "duration": 5,
    "start_time": "2022-02-09T15:25:23.361Z"
   },
   {
    "duration": 7,
    "start_time": "2022-02-09T15:25:23.368Z"
   },
   {
    "duration": 5,
    "start_time": "2022-02-09T15:25:23.376Z"
   },
   {
    "duration": 5,
    "start_time": "2022-02-09T15:25:23.384Z"
   },
   {
    "duration": 6,
    "start_time": "2022-02-09T15:25:23.427Z"
   },
   {
    "duration": 7,
    "start_time": "2022-02-09T15:25:23.435Z"
   },
   {
    "duration": 11,
    "start_time": "2022-02-09T15:25:23.444Z"
   },
   {
    "duration": 9,
    "start_time": "2022-02-09T15:25:23.456Z"
   },
   {
    "duration": 12,
    "start_time": "2022-02-09T15:25:23.466Z"
   },
   {
    "duration": 8,
    "start_time": "2022-02-09T15:25:23.479Z"
   },
   {
    "duration": 4,
    "start_time": "2022-02-09T15:25:23.488Z"
   },
   {
    "duration": 34,
    "start_time": "2022-02-09T15:25:23.494Z"
   },
   {
    "duration": 17,
    "start_time": "2022-02-09T15:25:23.529Z"
   },
   {
    "duration": 15,
    "start_time": "2022-02-09T15:25:23.547Z"
   },
   {
    "duration": 12,
    "start_time": "2022-02-09T15:25:23.563Z"
   },
   {
    "duration": 4,
    "start_time": "2022-02-09T15:25:23.576Z"
   },
   {
    "duration": 7,
    "start_time": "2022-02-09T15:25:23.581Z"
   },
   {
    "duration": 3,
    "start_time": "2022-02-09T15:25:23.590Z"
   },
   {
    "duration": 750,
    "start_time": "2022-02-09T15:25:23.595Z"
   },
   {
    "duration": 3,
    "start_time": "2022-02-09T15:25:24.346Z"
   },
   {
    "duration": 11,
    "start_time": "2022-02-09T15:25:24.350Z"
   },
   {
    "duration": 11,
    "start_time": "2022-02-09T15:25:24.362Z"
   },
   {
    "duration": 13,
    "start_time": "2022-02-09T15:25:24.375Z"
   },
   {
    "duration": 10,
    "start_time": "2022-02-09T15:25:24.390Z"
   },
   {
    "duration": 39,
    "start_time": "2022-02-09T15:25:24.401Z"
   },
   {
    "duration": 4,
    "start_time": "2022-02-09T15:25:24.442Z"
   },
   {
    "duration": 12,
    "start_time": "2022-02-09T15:25:24.448Z"
   },
   {
    "duration": 15,
    "start_time": "2022-02-09T15:25:24.461Z"
   },
   {
    "duration": 608,
    "start_time": "2022-02-09T15:25:24.478Z"
   },
   {
    "duration": 22,
    "start_time": "2022-02-09T15:25:25.088Z"
   },
   {
    "duration": 20,
    "start_time": "2022-02-09T15:25:25.112Z"
   },
   {
    "duration": 17,
    "start_time": "2022-02-09T15:25:25.134Z"
   },
   {
    "duration": 1153,
    "start_time": "2022-02-13T13:40:20.718Z"
   },
   {
    "duration": 48,
    "start_time": "2022-02-13T13:40:21.875Z"
   },
   {
    "duration": 105,
    "start_time": "2022-02-13T13:40:21.926Z"
   },
   {
    "duration": 163,
    "start_time": "2022-02-13T13:40:22.034Z"
   },
   {
    "duration": 100,
    "start_time": "2022-02-13T13:40:22.200Z"
   },
   {
    "duration": 36,
    "start_time": "2022-02-13T13:40:22.303Z"
   },
   {
    "duration": 12,
    "start_time": "2022-02-13T13:40:22.341Z"
   },
   {
    "duration": 29,
    "start_time": "2022-02-13T13:40:22.357Z"
   },
   {
    "duration": 15,
    "start_time": "2022-02-13T13:40:22.389Z"
   },
   {
    "duration": 37,
    "start_time": "2022-02-13T13:40:22.407Z"
   },
   {
    "duration": 23,
    "start_time": "2022-02-13T13:40:22.447Z"
   },
   {
    "duration": 13,
    "start_time": "2022-02-13T13:40:22.473Z"
   },
   {
    "duration": 37,
    "start_time": "2022-02-13T13:40:22.489Z"
   },
   {
    "duration": 40,
    "start_time": "2022-02-13T13:40:22.529Z"
   },
   {
    "duration": 20,
    "start_time": "2022-02-13T13:40:22.571Z"
   },
   {
    "duration": 50,
    "start_time": "2022-02-13T13:40:22.593Z"
   },
   {
    "duration": 18,
    "start_time": "2022-02-13T13:40:22.646Z"
   },
   {
    "duration": 11,
    "start_time": "2022-02-13T13:40:22.669Z"
   },
   {
    "duration": 33,
    "start_time": "2022-02-13T13:40:22.682Z"
   },
   {
    "duration": 11,
    "start_time": "2022-02-13T13:40:22.717Z"
   },
   {
    "duration": 33,
    "start_time": "2022-02-13T13:40:22.730Z"
   },
   {
    "duration": 19,
    "start_time": "2022-02-13T13:40:22.765Z"
   },
   {
    "duration": 26,
    "start_time": "2022-02-13T13:40:22.789Z"
   },
   {
    "duration": 22,
    "start_time": "2022-02-13T13:40:22.818Z"
   },
   {
    "duration": 22,
    "start_time": "2022-02-13T13:40:22.842Z"
   },
   {
    "duration": 24,
    "start_time": "2022-02-13T13:40:22.866Z"
   },
   {
    "duration": 31,
    "start_time": "2022-02-13T13:40:22.892Z"
   },
   {
    "duration": 27,
    "start_time": "2022-02-13T13:40:22.925Z"
   },
   {
    "duration": 18,
    "start_time": "2022-02-13T13:40:22.955Z"
   },
   {
    "duration": 25,
    "start_time": "2022-02-13T13:40:22.975Z"
   },
   {
    "duration": 12,
    "start_time": "2022-02-13T13:40:23.002Z"
   },
   {
    "duration": 36,
    "start_time": "2022-02-13T13:40:23.017Z"
   },
   {
    "duration": 25,
    "start_time": "2022-02-13T13:40:23.055Z"
   },
   {
    "duration": 22,
    "start_time": "2022-02-13T13:40:23.083Z"
   },
   {
    "duration": 8,
    "start_time": "2022-02-13T13:40:23.108Z"
   },
   {
    "duration": 11,
    "start_time": "2022-02-13T13:40:23.118Z"
   },
   {
    "duration": 39,
    "start_time": "2022-02-13T13:40:23.132Z"
   },
   {
    "duration": 946,
    "start_time": "2022-02-13T13:40:23.173Z"
   },
   {
    "duration": 3,
    "start_time": "2022-02-13T13:40:24.122Z"
   },
   {
    "duration": 12,
    "start_time": "2022-02-13T13:40:24.128Z"
   },
   {
    "duration": 37,
    "start_time": "2022-02-13T13:40:24.143Z"
   },
   {
    "duration": 27,
    "start_time": "2022-02-13T13:40:24.182Z"
   },
   {
    "duration": 16,
    "start_time": "2022-02-13T13:40:24.211Z"
   },
   {
    "duration": 55,
    "start_time": "2022-02-13T13:40:24.230Z"
   },
   {
    "duration": 7,
    "start_time": "2022-02-13T13:40:24.288Z"
   },
   {
    "duration": 15,
    "start_time": "2022-02-13T13:40:24.297Z"
   },
   {
    "duration": 64,
    "start_time": "2022-02-13T13:40:24.315Z"
   },
   {
    "duration": 863,
    "start_time": "2022-02-13T13:40:24.381Z"
   },
   {
    "duration": 40,
    "start_time": "2022-02-13T13:40:25.247Z"
   },
   {
    "duration": 29,
    "start_time": "2022-02-13T13:40:25.289Z"
   },
   {
    "duration": 36,
    "start_time": "2022-02-13T13:40:25.320Z"
   },
   {
    "duration": 836,
    "start_time": "2022-02-13T13:42:58.205Z"
   },
   {
    "duration": 30,
    "start_time": "2022-02-13T13:42:59.044Z"
   },
   {
    "duration": 24,
    "start_time": "2022-02-13T13:42:59.077Z"
   },
   {
    "duration": 14,
    "start_time": "2022-02-13T13:42:59.103Z"
   },
   {
    "duration": 14,
    "start_time": "2022-02-13T13:42:59.120Z"
   },
   {
    "duration": 16,
    "start_time": "2022-02-13T13:42:59.136Z"
   },
   {
    "duration": 5,
    "start_time": "2022-02-13T13:42:59.169Z"
   },
   {
    "duration": 14,
    "start_time": "2022-02-13T13:42:59.177Z"
   },
   {
    "duration": 13,
    "start_time": "2022-02-13T13:42:59.193Z"
   },
   {
    "duration": 28,
    "start_time": "2022-02-13T13:42:59.208Z"
   },
   {
    "duration": 19,
    "start_time": "2022-02-13T13:42:59.238Z"
   },
   {
    "duration": 12,
    "start_time": "2022-02-13T13:42:59.259Z"
   },
   {
    "duration": 27,
    "start_time": "2022-02-13T13:42:59.275Z"
   },
   {
    "duration": 43,
    "start_time": "2022-02-13T13:42:59.305Z"
   },
   {
    "duration": 19,
    "start_time": "2022-02-13T13:42:59.351Z"
   },
   {
    "duration": 45,
    "start_time": "2022-02-13T13:42:59.373Z"
   },
   {
    "duration": 19,
    "start_time": "2022-02-13T13:42:59.421Z"
   },
   {
    "duration": 40,
    "start_time": "2022-02-13T13:42:59.442Z"
   },
   {
    "duration": 136,
    "start_time": "2022-02-13T13:42:59.484Z"
   },
   {
    "duration": 100,
    "start_time": "2022-02-13T13:42:59.622Z"
   },
   {
    "duration": 59,
    "start_time": "2022-02-13T13:42:59.725Z"
   },
   {
    "duration": 14,
    "start_time": "2022-02-13T13:42:59.786Z"
   },
   {
    "duration": 31,
    "start_time": "2022-02-13T13:42:59.807Z"
   },
   {
    "duration": 26,
    "start_time": "2022-02-13T13:42:59.841Z"
   },
   {
    "duration": 29,
    "start_time": "2022-02-13T13:42:59.871Z"
   },
   {
    "duration": 18,
    "start_time": "2022-02-13T13:42:59.903Z"
   },
   {
    "duration": 30,
    "start_time": "2022-02-13T13:42:59.923Z"
   },
   {
    "duration": 52,
    "start_time": "2022-02-13T13:42:59.955Z"
   },
   {
    "duration": 21,
    "start_time": "2022-02-13T13:43:00.009Z"
   },
   {
    "duration": 28,
    "start_time": "2022-02-13T13:43:00.032Z"
   },
   {
    "duration": 26,
    "start_time": "2022-02-13T13:43:00.062Z"
   },
   {
    "duration": 31,
    "start_time": "2022-02-13T13:43:00.090Z"
   },
   {
    "duration": 45,
    "start_time": "2022-02-13T13:43:00.124Z"
   },
   {
    "duration": 122,
    "start_time": "2022-02-13T13:43:00.171Z"
   },
   {
    "duration": 176,
    "start_time": "2022-02-13T13:43:00.296Z"
   },
   {
    "duration": 29,
    "start_time": "2022-02-13T13:43:00.475Z"
   },
   {
    "duration": 22,
    "start_time": "2022-02-13T13:43:00.507Z"
   },
   {
    "duration": 1102,
    "start_time": "2022-02-13T13:43:00.531Z"
   },
   {
    "duration": 4,
    "start_time": "2022-02-13T13:43:01.636Z"
   },
   {
    "duration": 29,
    "start_time": "2022-02-13T13:43:01.642Z"
   },
   {
    "duration": 27,
    "start_time": "2022-02-13T13:43:01.674Z"
   },
   {
    "duration": 45,
    "start_time": "2022-02-13T13:43:01.704Z"
   },
   {
    "duration": 24,
    "start_time": "2022-02-13T13:43:01.752Z"
   },
   {
    "duration": 25,
    "start_time": "2022-02-13T13:43:01.778Z"
   },
   {
    "duration": 7,
    "start_time": "2022-02-13T13:43:01.806Z"
   },
   {
    "duration": 22,
    "start_time": "2022-02-13T13:43:01.816Z"
   },
   {
    "duration": 48,
    "start_time": "2022-02-13T13:43:01.841Z"
   },
   {
    "duration": 723,
    "start_time": "2022-02-13T13:43:01.892Z"
   },
   {
    "duration": 52,
    "start_time": "2022-02-13T13:43:02.617Z"
   },
   {
    "duration": 31,
    "start_time": "2022-02-13T13:43:02.671Z"
   },
   {
    "duration": 32,
    "start_time": "2022-02-13T13:43:02.704Z"
   },
   {
    "duration": 722,
    "start_time": "2022-02-21T15:09:04.740Z"
   },
   {
    "duration": 26,
    "start_time": "2022-02-21T15:09:05.464Z"
   },
   {
    "duration": 24,
    "start_time": "2022-02-21T15:09:05.493Z"
   },
   {
    "duration": 27,
    "start_time": "2022-02-21T15:09:05.520Z"
   },
   {
    "duration": 10,
    "start_time": "2022-02-21T15:09:05.549Z"
   },
   {
    "duration": 32,
    "start_time": "2022-02-21T15:09:05.562Z"
   },
   {
    "duration": 30,
    "start_time": "2022-02-21T15:09:05.596Z"
   },
   {
    "duration": 36,
    "start_time": "2022-02-21T15:09:05.630Z"
   },
   {
    "duration": 33,
    "start_time": "2022-02-21T15:09:05.669Z"
   },
   {
    "duration": 31,
    "start_time": "2022-02-21T15:09:05.704Z"
   },
   {
    "duration": 20,
    "start_time": "2022-02-21T15:09:05.737Z"
   },
   {
    "duration": 12,
    "start_time": "2022-02-21T15:09:05.759Z"
   },
   {
    "duration": 28,
    "start_time": "2022-02-21T15:09:05.774Z"
   },
   {
    "duration": 43,
    "start_time": "2022-02-21T15:09:05.804Z"
   },
   {
    "duration": 19,
    "start_time": "2022-02-21T15:09:05.849Z"
   },
   {
    "duration": 35,
    "start_time": "2022-02-21T15:09:05.870Z"
   },
   {
    "duration": 22,
    "start_time": "2022-02-21T15:09:05.907Z"
   },
   {
    "duration": 11,
    "start_time": "2022-02-21T15:09:05.932Z"
   },
   {
    "duration": 24,
    "start_time": "2022-02-21T15:09:05.945Z"
   },
   {
    "duration": 12,
    "start_time": "2022-02-21T15:09:05.972Z"
   },
   {
    "duration": 31,
    "start_time": "2022-02-21T15:09:05.986Z"
   },
   {
    "duration": 11,
    "start_time": "2022-02-21T15:09:06.019Z"
   },
   {
    "duration": 21,
    "start_time": "2022-02-21T15:09:06.035Z"
   },
   {
    "duration": 32,
    "start_time": "2022-02-21T15:09:06.058Z"
   },
   {
    "duration": 23,
    "start_time": "2022-02-21T15:09:06.092Z"
   },
   {
    "duration": 21,
    "start_time": "2022-02-21T15:09:06.117Z"
   },
   {
    "duration": 21,
    "start_time": "2022-02-21T15:09:06.140Z"
   },
   {
    "duration": 27,
    "start_time": "2022-02-21T15:09:06.163Z"
   },
   {
    "duration": 30,
    "start_time": "2022-02-21T15:09:06.193Z"
   },
   {
    "duration": 14,
    "start_time": "2022-02-21T15:09:06.225Z"
   },
   {
    "duration": 19,
    "start_time": "2022-02-21T15:09:06.241Z"
   },
   {
    "duration": 28,
    "start_time": "2022-02-21T15:09:06.263Z"
   },
   {
    "duration": 20,
    "start_time": "2022-02-21T15:09:06.293Z"
   },
   {
    "duration": 17,
    "start_time": "2022-02-21T15:09:06.315Z"
   },
   {
    "duration": 90,
    "start_time": "2022-02-21T15:09:06.334Z"
   },
   {
    "duration": 6,
    "start_time": "2022-02-21T15:09:06.426Z"
   },
   {
    "duration": 32,
    "start_time": "2022-02-21T15:09:06.434Z"
   },
   {
    "duration": 2401,
    "start_time": "2022-02-21T15:09:06.468Z"
   },
   {
    "duration": 3,
    "start_time": "2022-02-21T15:09:08.872Z"
   },
   {
    "duration": 28,
    "start_time": "2022-02-21T15:09:08.878Z"
   },
   {
    "duration": 19,
    "start_time": "2022-02-21T15:09:08.908Z"
   },
   {
    "duration": 27,
    "start_time": "2022-02-21T15:09:08.929Z"
   },
   {
    "duration": 26,
    "start_time": "2022-02-21T15:09:08.958Z"
   },
   {
    "duration": 27,
    "start_time": "2022-02-21T15:09:08.987Z"
   },
   {
    "duration": 16,
    "start_time": "2022-02-21T15:09:09.016Z"
   },
   {
    "duration": 19,
    "start_time": "2022-02-21T15:09:09.034Z"
   },
   {
    "duration": 26,
    "start_time": "2022-02-21T15:09:09.056Z"
   },
   {
    "duration": 583,
    "start_time": "2022-02-21T15:09:09.083Z"
   },
   {
    "duration": 40,
    "start_time": "2022-02-21T15:09:09.668Z"
   },
   {
    "duration": 22,
    "start_time": "2022-02-21T15:09:09.711Z"
   },
   {
    "duration": 38,
    "start_time": "2022-02-21T15:09:09.736Z"
   }
  ],
  "kernelspec": {
   "display_name": "Python 3",
   "language": "python",
   "name": "python3"
  },
  "language_info": {
   "codemirror_mode": {
    "name": "ipython",
    "version": 3
   },
   "file_extension": ".py",
   "mimetype": "text/x-python",
   "name": "python",
   "nbconvert_exporter": "python",
   "pygments_lexer": "ipython3",
   "version": "3.7.8"
  },
  "toc": {
   "base_numbering": 1,
   "nav_menu": {},
   "number_sections": true,
   "sideBar": true,
   "skip_h1_title": true,
   "title_cell": "Table of Contents",
   "title_sidebar": "Contents",
   "toc_cell": false,
   "toc_position": {},
   "toc_section_display": true,
   "toc_window_display": true
  }
 },
 "nbformat": 4,
 "nbformat_minor": 2
}
