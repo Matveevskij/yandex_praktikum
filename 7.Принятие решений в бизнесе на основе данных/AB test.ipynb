{
 "cells": [
  {
   "cell_type": "markdown",
   "metadata": {},
   "source": [
    "# Приоритизация гипотез и оценка результатов А/В-теста"
   ]
  },
  {
   "cell_type": "markdown",
   "metadata": {},
   "source": [
    "# Описание проекта"
   ]
  },
  {
   "cell_type": "markdown",
   "metadata": {},
   "source": [
    "Вы — аналитик крупного интернет-магазина. Вместе с отделом маркетинга вы подготовили список гипотез для увеличения выручки."
   ]
  },
  {
   "cell_type": "markdown",
   "metadata": {},
   "source": [
    "**Цель исследования**\n",
    "\n",
    "* Приоритизировать гипотезы, \n",
    "* Запуститить A/B-тест \n",
    "* Проанализировать результаты. "
   ]
  },
  {
   "cell_type": "markdown",
   "metadata": {},
   "source": [
    "## Изучение данных из файла"
   ]
  },
  {
   "cell_type": "markdown",
   "metadata": {},
   "source": [
    "Импортируем необходимые библиотеки"
   ]
  },
  {
   "cell_type": "code",
   "execution_count": 1,
   "metadata": {},
   "outputs": [],
   "source": [
    "import pandas as pd\n",
    "import scipy.stats as stats\n",
    "import datetime as dt\n",
    "import numpy as np\n",
    "import matplotlib.pyplot as plt \n",
    "import seaborn as sns \n",
    "import math\n",
    "import warnings\n",
    "from tqdm import tqdm\n",
    "%matplotlib inline\n",
    "warnings.filterwarnings('ignore')\n",
    "pd.set_option('display.max_colwidth', 1000) # для выводов всех символов в записях"
   ]
  },
  {
   "cell_type": "markdown",
   "metadata": {},
   "source": [
    "Открываем файлы"
   ]
  },
  {
   "cell_type": "code",
   "execution_count": 2,
   "metadata": {},
   "outputs": [],
   "source": [
    "hypothesis = pd.read_csv('/datasets/hypothesis.csv')\n",
    "orders = pd.read_csv('/datasets/orders.csv')\n",
    "visitors = pd.read_csv('/datasets/visitors.csv')"
   ]
  },
  {
   "cell_type": "markdown",
   "metadata": {},
   "source": [
    "#Загрузим библиотеки, которые помогут быстро выполнить разведочный материал"
   ]
  },
  {
   "cell_type": "markdown",
   "metadata": {},
   "source": [
    "**Получаем общую информацию о таблицах**"
   ]
  },
  {
   "cell_type": "code",
   "execution_count": 3,
   "metadata": {},
   "outputs": [
    {
     "name": "stdout",
     "output_type": "stream",
     "text": [
      "<class 'pandas.core.frame.DataFrame'>\n",
      "RangeIndex: 9 entries, 0 to 8\n",
      "Data columns (total 5 columns):\n",
      "Hypothesis    9 non-null object\n",
      "Reach         9 non-null int64\n",
      "Impact        9 non-null int64\n",
      "Confidence    9 non-null int64\n",
      "Efforts       9 non-null int64\n",
      "dtypes: int64(4), object(1)\n",
      "memory usage: 488.0+ bytes\n"
     ]
    },
    {
     "data": {
      "text/html": [
       "<div>\n",
       "<style scoped>\n",
       "    .dataframe tbody tr th:only-of-type {\n",
       "        vertical-align: middle;\n",
       "    }\n",
       "\n",
       "    .dataframe tbody tr th {\n",
       "        vertical-align: top;\n",
       "    }\n",
       "\n",
       "    .dataframe thead th {\n",
       "        text-align: right;\n",
       "    }\n",
       "</style>\n",
       "<table border=\"1\" class=\"dataframe\">\n",
       "  <thead>\n",
       "    <tr style=\"text-align: right;\">\n",
       "      <th></th>\n",
       "      <th>Hypothesis</th>\n",
       "      <th>Reach</th>\n",
       "      <th>Impact</th>\n",
       "      <th>Confidence</th>\n",
       "      <th>Efforts</th>\n",
       "    </tr>\n",
       "  </thead>\n",
       "  <tbody>\n",
       "    <tr>\n",
       "      <td>0</td>\n",
       "      <td>Добавить два новых канала привлечения трафика, что позволит привлекать на 30% больше пользователей</td>\n",
       "      <td>3</td>\n",
       "      <td>10</td>\n",
       "      <td>8</td>\n",
       "      <td>6</td>\n",
       "    </tr>\n",
       "    <tr>\n",
       "      <td>1</td>\n",
       "      <td>Запустить собственную службу доставки, что сократит срок доставки заказов</td>\n",
       "      <td>2</td>\n",
       "      <td>5</td>\n",
       "      <td>4</td>\n",
       "      <td>10</td>\n",
       "    </tr>\n",
       "    <tr>\n",
       "      <td>2</td>\n",
       "      <td>Добавить блоки рекомендаций товаров на сайт интернет магазина, чтобы повысить конверсию и средний чек заказа</td>\n",
       "      <td>8</td>\n",
       "      <td>3</td>\n",
       "      <td>7</td>\n",
       "      <td>3</td>\n",
       "    </tr>\n",
       "    <tr>\n",
       "      <td>3</td>\n",
       "      <td>Изменить структура категорий, что увеличит конверсию, т.к. пользователи быстрее найдут нужный товар</td>\n",
       "      <td>8</td>\n",
       "      <td>3</td>\n",
       "      <td>3</td>\n",
       "      <td>8</td>\n",
       "    </tr>\n",
       "    <tr>\n",
       "      <td>4</td>\n",
       "      <td>Изменить цвет фона главной страницы, чтобы увеличить вовлеченность пользователей</td>\n",
       "      <td>3</td>\n",
       "      <td>1</td>\n",
       "      <td>1</td>\n",
       "      <td>1</td>\n",
       "    </tr>\n",
       "  </tbody>\n",
       "</table>\n",
       "</div>"
      ],
      "text/plain": [
       "                                                                                                     Hypothesis  \\\n",
       "0            Добавить два новых канала привлечения трафика, что позволит привлекать на 30% больше пользователей   \n",
       "1                                     Запустить собственную службу доставки, что сократит срок доставки заказов   \n",
       "2  Добавить блоки рекомендаций товаров на сайт интернет магазина, чтобы повысить конверсию и средний чек заказа   \n",
       "3           Изменить структура категорий, что увеличит конверсию, т.к. пользователи быстрее найдут нужный товар   \n",
       "4                              Изменить цвет фона главной страницы, чтобы увеличить вовлеченность пользователей   \n",
       "\n",
       "   Reach  Impact  Confidence  Efforts  \n",
       "0      3      10           8        6  \n",
       "1      2       5           4       10  \n",
       "2      8       3           7        3  \n",
       "3      8       3           3        8  \n",
       "4      3       1           1        1  "
      ]
     },
     "execution_count": 3,
     "metadata": {},
     "output_type": "execute_result"
    }
   ],
   "source": [
    "hypothesis.info()\n",
    "hypothesis.head()"
   ]
  },
  {
   "cell_type": "code",
   "execution_count": 4,
   "metadata": {},
   "outputs": [
    {
     "name": "stdout",
     "output_type": "stream",
     "text": [
      "<class 'pandas.core.frame.DataFrame'>\n",
      "RangeIndex: 1197 entries, 0 to 1196\n",
      "Data columns (total 5 columns):\n",
      "transactionId    1197 non-null int64\n",
      "visitorId        1197 non-null int64\n",
      "date             1197 non-null object\n",
      "revenue          1197 non-null int64\n",
      "group            1197 non-null object\n",
      "dtypes: int64(3), object(2)\n",
      "memory usage: 46.9+ KB\n"
     ]
    },
    {
     "data": {
      "text/html": [
       "<div>\n",
       "<style scoped>\n",
       "    .dataframe tbody tr th:only-of-type {\n",
       "        vertical-align: middle;\n",
       "    }\n",
       "\n",
       "    .dataframe tbody tr th {\n",
       "        vertical-align: top;\n",
       "    }\n",
       "\n",
       "    .dataframe thead th {\n",
       "        text-align: right;\n",
       "    }\n",
       "</style>\n",
       "<table border=\"1\" class=\"dataframe\">\n",
       "  <thead>\n",
       "    <tr style=\"text-align: right;\">\n",
       "      <th></th>\n",
       "      <th>transactionId</th>\n",
       "      <th>visitorId</th>\n",
       "      <th>date</th>\n",
       "      <th>revenue</th>\n",
       "      <th>group</th>\n",
       "    </tr>\n",
       "  </thead>\n",
       "  <tbody>\n",
       "    <tr>\n",
       "      <td>0</td>\n",
       "      <td>3667963787</td>\n",
       "      <td>3312258926</td>\n",
       "      <td>2019-08-15</td>\n",
       "      <td>1650</td>\n",
       "      <td>B</td>\n",
       "    </tr>\n",
       "    <tr>\n",
       "      <td>1</td>\n",
       "      <td>2804400009</td>\n",
       "      <td>3642806036</td>\n",
       "      <td>2019-08-15</td>\n",
       "      <td>730</td>\n",
       "      <td>B</td>\n",
       "    </tr>\n",
       "    <tr>\n",
       "      <td>2</td>\n",
       "      <td>2961555356</td>\n",
       "      <td>4069496402</td>\n",
       "      <td>2019-08-15</td>\n",
       "      <td>400</td>\n",
       "      <td>A</td>\n",
       "    </tr>\n",
       "    <tr>\n",
       "      <td>3</td>\n",
       "      <td>3797467345</td>\n",
       "      <td>1196621759</td>\n",
       "      <td>2019-08-15</td>\n",
       "      <td>9759</td>\n",
       "      <td>B</td>\n",
       "    </tr>\n",
       "    <tr>\n",
       "      <td>4</td>\n",
       "      <td>2282983706</td>\n",
       "      <td>2322279887</td>\n",
       "      <td>2019-08-15</td>\n",
       "      <td>2308</td>\n",
       "      <td>B</td>\n",
       "    </tr>\n",
       "  </tbody>\n",
       "</table>\n",
       "</div>"
      ],
      "text/plain": [
       "   transactionId   visitorId        date  revenue group\n",
       "0     3667963787  3312258926  2019-08-15     1650     B\n",
       "1     2804400009  3642806036  2019-08-15      730     B\n",
       "2     2961555356  4069496402  2019-08-15      400     A\n",
       "3     3797467345  1196621759  2019-08-15     9759     B\n",
       "4     2282983706  2322279887  2019-08-15     2308     B"
      ]
     },
     "execution_count": 4,
     "metadata": {},
     "output_type": "execute_result"
    }
   ],
   "source": [
    "orders.info()\n",
    "orders.head()"
   ]
  },
  {
   "cell_type": "code",
   "execution_count": 5,
   "metadata": {},
   "outputs": [
    {
     "name": "stdout",
     "output_type": "stream",
     "text": [
      "<class 'pandas.core.frame.DataFrame'>\n",
      "RangeIndex: 62 entries, 0 to 61\n",
      "Data columns (total 3 columns):\n",
      "date        62 non-null object\n",
      "group       62 non-null object\n",
      "visitors    62 non-null int64\n",
      "dtypes: int64(1), object(2)\n",
      "memory usage: 1.6+ KB\n"
     ]
    },
    {
     "data": {
      "text/html": [
       "<div>\n",
       "<style scoped>\n",
       "    .dataframe tbody tr th:only-of-type {\n",
       "        vertical-align: middle;\n",
       "    }\n",
       "\n",
       "    .dataframe tbody tr th {\n",
       "        vertical-align: top;\n",
       "    }\n",
       "\n",
       "    .dataframe thead th {\n",
       "        text-align: right;\n",
       "    }\n",
       "</style>\n",
       "<table border=\"1\" class=\"dataframe\">\n",
       "  <thead>\n",
       "    <tr style=\"text-align: right;\">\n",
       "      <th></th>\n",
       "      <th>date</th>\n",
       "      <th>group</th>\n",
       "      <th>visitors</th>\n",
       "    </tr>\n",
       "  </thead>\n",
       "  <tbody>\n",
       "    <tr>\n",
       "      <td>0</td>\n",
       "      <td>2019-08-01</td>\n",
       "      <td>A</td>\n",
       "      <td>719</td>\n",
       "    </tr>\n",
       "    <tr>\n",
       "      <td>1</td>\n",
       "      <td>2019-08-02</td>\n",
       "      <td>A</td>\n",
       "      <td>619</td>\n",
       "    </tr>\n",
       "    <tr>\n",
       "      <td>2</td>\n",
       "      <td>2019-08-03</td>\n",
       "      <td>A</td>\n",
       "      <td>507</td>\n",
       "    </tr>\n",
       "    <tr>\n",
       "      <td>3</td>\n",
       "      <td>2019-08-04</td>\n",
       "      <td>A</td>\n",
       "      <td>717</td>\n",
       "    </tr>\n",
       "    <tr>\n",
       "      <td>4</td>\n",
       "      <td>2019-08-05</td>\n",
       "      <td>A</td>\n",
       "      <td>756</td>\n",
       "    </tr>\n",
       "  </tbody>\n",
       "</table>\n",
       "</div>"
      ],
      "text/plain": [
       "         date group  visitors\n",
       "0  2019-08-01     A       719\n",
       "1  2019-08-02     A       619\n",
       "2  2019-08-03     A       507\n",
       "3  2019-08-04     A       717\n",
       "4  2019-08-05     A       756"
      ]
     },
     "execution_count": 5,
     "metadata": {},
     "output_type": "execute_result"
    }
   ],
   "source": [
    "visitors.info()\n",
    "visitors.head()"
   ]
  },
  {
   "cell_type": "markdown",
   "metadata": {},
   "source": [
    "\n",
    "**Вывод:**\n",
    "\n",
    "**В нашем распоряжении 3 таблицы:**\n",
    "\n",
    "1. Hypothesis (Данные для первой части) - 5 столбцов, 9 строк записей, 2 типа данных: int64 и object.\n",
    "\n",
    "Структура\n",
    "\n",
    "- `Hypothesis` - краткое описание гипотезы;\n",
    "- `Reach` - охват пользователей по 10-балльной шкале;\n",
    "- `Impact` - влияние на пользователей по 10-балльной шкале;\n",
    "- `Confidence` - уверенность в гипотезе по 10-балльной шкале;\n",
    "- `Efforts` - затраты ресурсов на проверку гипотезы по 10-балльной шкале. Чем больше значение Efforts, тем дороже проверка гипотезы.\n",
    "\n",
    "2. Orders(Данные для второй части) - 5 столбцов, 1197 строк записей, 2 типа данных: int64 и object.\n",
    "\n",
    "Структура\n",
    "\n",
    "- `transactionId` - идентификатор заказа;\n",
    "- `visitorId` - идентификатор пользователя, совершившего заказ;\n",
    "- `date` - дата, когда был совершён заказ;\n",
    "- `revenue` - выручка заказа;\n",
    "- `group` - группа A/B-теста, в которую попал заказ.\n",
    "\n",
    "3. Visitors(Данные для второй части) - 3 столбца, 62 строки записей, 2 типа данных: int64 и object.\n",
    "\n",
    "Структура\n",
    "\n",
    "- `date` - дата;\n",
    "- `group` - группа A/B-теста;\n",
    "- `visitors` - количество пользователей в указанную дату в указанной группе A/B-теста.\n",
    "\n",
    "В названиях колонок видны нарушения стиля:\n",
    "\n",
    "    Необходимо привести к нижнему регистру столбцы таблицы Hypothesis.\n",
    "\n",
    "Так же необходимо изменить тип данных в некоторых столбцах в таблицах `orders` и `visitors`.\n"
   ]
  },
  {
   "cell_type": "markdown",
   "metadata": {},
   "source": [
    "## Предобработка данных"
   ]
  },
  {
   "cell_type": "markdown",
   "metadata": {},
   "source": [
    "### Стиль заголовков столбцов"
   ]
  },
  {
   "cell_type": "markdown",
   "metadata": {},
   "source": [
    "Выведем на экран названия столбцов:"
   ]
  },
  {
   "cell_type": "code",
   "execution_count": 6,
   "metadata": {},
   "outputs": [
    {
     "name": "stdout",
     "output_type": "stream",
     "text": [
      "Index(['Hypothesis', 'Reach', 'Impact', 'Confidence', 'Efforts'], dtype='object')\n",
      "Index(['transactionId', 'visitorId', 'date', 'revenue', 'group'], dtype='object')\n"
     ]
    },
    {
     "data": {
      "text/plain": [
       "Index(['date', 'group', 'visitors'], dtype='object')"
      ]
     },
     "execution_count": 6,
     "metadata": {},
     "output_type": "execute_result"
    }
   ],
   "source": [
    "print(hypothesis.columns)\n",
    "print(orders.columns)\n",
    "visitors.columns"
   ]
  },
  {
   "cell_type": "markdown",
   "metadata": {},
   "source": [
    "Приведем названия столбцов таблицы `hypothesis` к нижнему регистру. Трогать DF `orders` не будем, для удобства восприятия"
   ]
  },
  {
   "cell_type": "code",
   "execution_count": 7,
   "metadata": {},
   "outputs": [],
   "source": [
    "hypothesis.columns = hypothesis.columns.str.lower()"
   ]
  },
  {
   "cell_type": "markdown",
   "metadata": {},
   "source": [
    "Проверим результат"
   ]
  },
  {
   "cell_type": "code",
   "execution_count": 8,
   "metadata": {},
   "outputs": [
    {
     "data": {
      "text/plain": [
       "Index(['hypothesis', 'reach', 'impact', 'confidence', 'efforts'], dtype='object')"
      ]
     },
     "execution_count": 8,
     "metadata": {},
     "output_type": "execute_result"
    }
   ],
   "source": [
    "hypothesis.columns"
   ]
  },
  {
   "cell_type": "markdown",
   "metadata": {},
   "source": [
    "### Замена типа данных"
   ]
  },
  {
   "cell_type": "markdown",
   "metadata": {},
   "source": [
    "Проинализировав первоначальные данные, придём к результату, что столбцы с датами имеют тип `object`. \n",
    "\n",
    "Для дальнейшей работы необходимо изменить их тип на `datetime`"
   ]
  },
  {
   "cell_type": "markdown",
   "metadata": {},
   "source": [
    "Во всех трёх таблицах есть столбцы с датами, которые имеют тип object, а именно:"
   ]
  },
  {
   "cell_type": "markdown",
   "metadata": {},
   "source": [
    "**visitors** - `date`\n",
    "\n",
    "**orders** - `date`"
   ]
  },
  {
   "cell_type": "code",
   "execution_count": 9,
   "metadata": {},
   "outputs": [
    {
     "name": "stdout",
     "output_type": "stream",
     "text": [
      "<class 'pandas.core.frame.DataFrame'>\n",
      "RangeIndex: 62 entries, 0 to 61\n",
      "Data columns (total 3 columns):\n",
      "date        62 non-null datetime64[ns]\n",
      "group       62 non-null object\n",
      "visitors    62 non-null int64\n",
      "dtypes: datetime64[ns](1), int64(1), object(1)\n",
      "memory usage: 1.6+ KB\n"
     ]
    }
   ],
   "source": [
    "#Замена типа данных для visitors['date']\n",
    "visitors['date'] = pd.to_datetime(visitors['date'])\n",
    "#Проверим\n",
    "visitors.info()"
   ]
  },
  {
   "cell_type": "code",
   "execution_count": 10,
   "metadata": {},
   "outputs": [
    {
     "name": "stdout",
     "output_type": "stream",
     "text": [
      "<class 'pandas.core.frame.DataFrame'>\n",
      "RangeIndex: 1197 entries, 0 to 1196\n",
      "Data columns (total 5 columns):\n",
      "transactionId    1197 non-null int64\n",
      "visitorId        1197 non-null int64\n",
      "date             1197 non-null datetime64[ns]\n",
      "revenue          1197 non-null int64\n",
      "group            1197 non-null object\n",
      "dtypes: datetime64[ns](1), int64(3), object(1)\n",
      "memory usage: 46.9+ KB\n"
     ]
    }
   ],
   "source": [
    "#Замена типа данных для orders['date']\n",
    "orders['date'] = pd.to_datetime(orders['date'])\n",
    "#Проверим\n",
    "orders.info()"
   ]
  },
  {
   "cell_type": "markdown",
   "metadata": {},
   "source": [
    "### Дубликаты и пропуски"
   ]
  },
  {
   "cell_type": "markdown",
   "metadata": {},
   "source": [
    "**Проверим таблицы на отстутствие дубликатов:**"
   ]
  },
  {
   "cell_type": "code",
   "execution_count": 11,
   "metadata": {},
   "outputs": [
    {
     "name": "stdout",
     "output_type": "stream",
     "text": [
      "0\n",
      "0\n",
      "0\n"
     ]
    }
   ],
   "source": [
    "print(hypothesis.duplicated().sum())\n",
    "print(orders.duplicated().sum())\n",
    "print(visitors.duplicated().sum())"
   ]
  },
  {
   "cell_type": "markdown",
   "metadata": {},
   "source": [
    "Дубликаты отсуствуют"
   ]
  },
  {
   "cell_type": "markdown",
   "metadata": {},
   "source": [
    "**Проверим таблицы на наличие пропусков**"
   ]
  },
  {
   "cell_type": "code",
   "execution_count": 12,
   "metadata": {
    "scrolled": true
   },
   "outputs": [
    {
     "name": "stdout",
     "output_type": "stream",
     "text": [
      "hypothesis    0\n",
      "reach         0\n",
      "impact        0\n",
      "confidence    0\n",
      "efforts       0\n",
      "dtype: int64\n",
      "transactionId    0\n",
      "visitorId        0\n",
      "date             0\n",
      "revenue          0\n",
      "group            0\n",
      "dtype: int64\n",
      "date        0\n",
      "group       0\n",
      "visitors    0\n",
      "dtype: int64\n"
     ]
    }
   ],
   "source": [
    "print(hypothesis.isna().sum())\n",
    "print(orders.isna().sum())\n",
    "print(visitors.isna().sum())"
   ]
  },
  {
   "cell_type": "markdown",
   "metadata": {},
   "source": [
    "Пропуски отсуствуют"
   ]
  },
  {
   "cell_type": "markdown",
   "metadata": {},
   "source": [
    "**Проверим, наличие пользователей, которые попали в 2 теста одновременно**"
   ]
  },
  {
   "cell_type": "code",
   "execution_count": 13,
   "metadata": {
    "scrolled": true
   },
   "outputs": [
    {
     "data": {
      "text/plain": [
       "58"
      ]
     },
     "execution_count": 13,
     "metadata": {},
     "output_type": "execute_result"
    }
   ],
   "source": [
    "users_two_group = orders.groupby('visitorId').agg({'group':'nunique'})\n",
    "users_two_group = users_two_group.query('group > 1')\n",
    "users_two_group['group'].count()"
   ]
  },
  {
   "cell_type": "markdown",
   "metadata": {},
   "source": [
    "58 покупателей находятся одновременно в двух группах А/В теста"
   ]
  },
  {
   "cell_type": "markdown",
   "metadata": {},
   "source": [
    "**Вывод:**\n",
    "\n",
    "Провели предобработку и подготовили наши данные к дальнейшему исследованию.\n",
    "\n",
    "А именно:\n",
    "\n",
    " - Исправили заголовки столбцов и привели их к \"хорошему\" стилю\n",
    " - Изменили тип данных во всех трёх таблицах в столбцах с датами\n",
    " - Проверили таблицы на наличие дубликатов (дубликатов нет)"
   ]
  },
  {
   "cell_type": "markdown",
   "metadata": {},
   "source": [
    "## Приоритизация гипотез."
   ]
  },
  {
   "cell_type": "markdown",
   "metadata": {},
   "source": [
    "### Фреймворк ICE."
   ]
  },
  {
   "cell_type": "markdown",
   "metadata": {},
   "source": [
    "`ICE`(усиление/простота) - один из самых популярных способов приоритизации задач"
   ]
  },
  {
   "cell_type": "code",
   "execution_count": 14,
   "metadata": {},
   "outputs": [
    {
     "data": {
      "text/html": [
       "<div>\n",
       "<style scoped>\n",
       "    .dataframe tbody tr th:only-of-type {\n",
       "        vertical-align: middle;\n",
       "    }\n",
       "\n",
       "    .dataframe tbody tr th {\n",
       "        vertical-align: top;\n",
       "    }\n",
       "\n",
       "    .dataframe thead th {\n",
       "        text-align: right;\n",
       "    }\n",
       "</style>\n",
       "<table border=\"1\" class=\"dataframe\">\n",
       "  <thead>\n",
       "    <tr style=\"text-align: right;\">\n",
       "      <th></th>\n",
       "      <th>hypothesis</th>\n",
       "      <th>reach</th>\n",
       "      <th>impact</th>\n",
       "      <th>confidence</th>\n",
       "      <th>efforts</th>\n",
       "    </tr>\n",
       "  </thead>\n",
       "  <tbody>\n",
       "    <tr>\n",
       "      <td>0</td>\n",
       "      <td>Добавить два новых канала привлечения трафика, что позволит привлекать на 30% больше пользователей</td>\n",
       "      <td>3</td>\n",
       "      <td>10</td>\n",
       "      <td>8</td>\n",
       "      <td>6</td>\n",
       "    </tr>\n",
       "    <tr>\n",
       "      <td>1</td>\n",
       "      <td>Запустить собственную службу доставки, что сократит срок доставки заказов</td>\n",
       "      <td>2</td>\n",
       "      <td>5</td>\n",
       "      <td>4</td>\n",
       "      <td>10</td>\n",
       "    </tr>\n",
       "    <tr>\n",
       "      <td>2</td>\n",
       "      <td>Добавить блоки рекомендаций товаров на сайт интернет магазина, чтобы повысить конверсию и средний чек заказа</td>\n",
       "      <td>8</td>\n",
       "      <td>3</td>\n",
       "      <td>7</td>\n",
       "      <td>3</td>\n",
       "    </tr>\n",
       "    <tr>\n",
       "      <td>3</td>\n",
       "      <td>Изменить структура категорий, что увеличит конверсию, т.к. пользователи быстрее найдут нужный товар</td>\n",
       "      <td>8</td>\n",
       "      <td>3</td>\n",
       "      <td>3</td>\n",
       "      <td>8</td>\n",
       "    </tr>\n",
       "    <tr>\n",
       "      <td>4</td>\n",
       "      <td>Изменить цвет фона главной страницы, чтобы увеличить вовлеченность пользователей</td>\n",
       "      <td>3</td>\n",
       "      <td>1</td>\n",
       "      <td>1</td>\n",
       "      <td>1</td>\n",
       "    </tr>\n",
       "    <tr>\n",
       "      <td>5</td>\n",
       "      <td>Добавить страницу отзывов клиентов о магазине, что позволит увеличить количество заказов</td>\n",
       "      <td>3</td>\n",
       "      <td>2</td>\n",
       "      <td>2</td>\n",
       "      <td>3</td>\n",
       "    </tr>\n",
       "    <tr>\n",
       "      <td>6</td>\n",
       "      <td>Показать на главной странице баннеры с актуальными акциями и распродажами, чтобы увеличить конверсию</td>\n",
       "      <td>5</td>\n",
       "      <td>3</td>\n",
       "      <td>8</td>\n",
       "      <td>3</td>\n",
       "    </tr>\n",
       "    <tr>\n",
       "      <td>7</td>\n",
       "      <td>Добавить форму подписки на все основные страницы, чтобы собрать базу клиентов для email-рассылок</td>\n",
       "      <td>10</td>\n",
       "      <td>7</td>\n",
       "      <td>8</td>\n",
       "      <td>5</td>\n",
       "    </tr>\n",
       "    <tr>\n",
       "      <td>8</td>\n",
       "      <td>Запустить акцию, дающую скидку на товар в день рождения</td>\n",
       "      <td>1</td>\n",
       "      <td>9</td>\n",
       "      <td>9</td>\n",
       "      <td>5</td>\n",
       "    </tr>\n",
       "  </tbody>\n",
       "</table>\n",
       "</div>"
      ],
      "text/plain": [
       "                                                                                                     hypothesis  \\\n",
       "0            Добавить два новых канала привлечения трафика, что позволит привлекать на 30% больше пользователей   \n",
       "1                                     Запустить собственную службу доставки, что сократит срок доставки заказов   \n",
       "2  Добавить блоки рекомендаций товаров на сайт интернет магазина, чтобы повысить конверсию и средний чек заказа   \n",
       "3           Изменить структура категорий, что увеличит конверсию, т.к. пользователи быстрее найдут нужный товар   \n",
       "4                              Изменить цвет фона главной страницы, чтобы увеличить вовлеченность пользователей   \n",
       "5                      Добавить страницу отзывов клиентов о магазине, что позволит увеличить количество заказов   \n",
       "6          Показать на главной странице баннеры с актуальными акциями и распродажами, чтобы увеличить конверсию   \n",
       "7              Добавить форму подписки на все основные страницы, чтобы собрать базу клиентов для email-рассылок   \n",
       "8                                                       Запустить акцию, дающую скидку на товар в день рождения   \n",
       "\n",
       "   reach  impact  confidence  efforts  \n",
       "0      3      10           8        6  \n",
       "1      2       5           4       10  \n",
       "2      8       3           7        3  \n",
       "3      8       3           3        8  \n",
       "4      3       1           1        1  \n",
       "5      3       2           2        3  \n",
       "6      5       3           8        3  \n",
       "7     10       7           8        5  \n",
       "8      1       9           9        5  "
      ]
     },
     "execution_count": 14,
     "metadata": {},
     "output_type": "execute_result"
    }
   ],
   "source": [
    "hypothesis"
   ]
  },
  {
   "cell_type": "code",
   "execution_count": 15,
   "metadata": {},
   "outputs": [],
   "source": [
    "hypothesis['ICE'] = (hypothesis['impact']*hypothesis['confidence']) / hypothesis['efforts']   "
   ]
  },
  {
   "cell_type": "code",
   "execution_count": 16,
   "metadata": {},
   "outputs": [
    {
     "data": {
      "text/html": [
       "<div>\n",
       "<style scoped>\n",
       "    .dataframe tbody tr th:only-of-type {\n",
       "        vertical-align: middle;\n",
       "    }\n",
       "\n",
       "    .dataframe tbody tr th {\n",
       "        vertical-align: top;\n",
       "    }\n",
       "\n",
       "    .dataframe thead th {\n",
       "        text-align: right;\n",
       "    }\n",
       "</style>\n",
       "<table border=\"1\" class=\"dataframe\">\n",
       "  <thead>\n",
       "    <tr style=\"text-align: right;\">\n",
       "      <th></th>\n",
       "      <th>hypothesis</th>\n",
       "      <th>ICE</th>\n",
       "    </tr>\n",
       "  </thead>\n",
       "  <tbody>\n",
       "    <tr>\n",
       "      <td>8</td>\n",
       "      <td>Запустить акцию, дающую скидку на товар в день рождения</td>\n",
       "      <td>16.0</td>\n",
       "    </tr>\n",
       "    <tr>\n",
       "      <td>0</td>\n",
       "      <td>Добавить два новых канала привлечения трафика, что позволит привлекать на 30% больше пользователей</td>\n",
       "      <td>13.0</td>\n",
       "    </tr>\n",
       "    <tr>\n",
       "      <td>7</td>\n",
       "      <td>Добавить форму подписки на все основные страницы, чтобы собрать базу клиентов для email-рассылок</td>\n",
       "      <td>11.0</td>\n",
       "    </tr>\n",
       "    <tr>\n",
       "      <td>6</td>\n",
       "      <td>Показать на главной странице баннеры с актуальными акциями и распродажами, чтобы увеличить конверсию</td>\n",
       "      <td>8.0</td>\n",
       "    </tr>\n",
       "    <tr>\n",
       "      <td>2</td>\n",
       "      <td>Добавить блоки рекомендаций товаров на сайт интернет магазина, чтобы повысить конверсию и средний чек заказа</td>\n",
       "      <td>7.0</td>\n",
       "    </tr>\n",
       "    <tr>\n",
       "      <td>1</td>\n",
       "      <td>Запустить собственную службу доставки, что сократит срок доставки заказов</td>\n",
       "      <td>2.0</td>\n",
       "    </tr>\n",
       "    <tr>\n",
       "      <td>5</td>\n",
       "      <td>Добавить страницу отзывов клиентов о магазине, что позволит увеличить количество заказов</td>\n",
       "      <td>1.0</td>\n",
       "    </tr>\n",
       "    <tr>\n",
       "      <td>3</td>\n",
       "      <td>Изменить структура категорий, что увеличит конверсию, т.к. пользователи быстрее найдут нужный товар</td>\n",
       "      <td>1.0</td>\n",
       "    </tr>\n",
       "    <tr>\n",
       "      <td>4</td>\n",
       "      <td>Изменить цвет фона главной страницы, чтобы увеличить вовлеченность пользователей</td>\n",
       "      <td>1.0</td>\n",
       "    </tr>\n",
       "  </tbody>\n",
       "</table>\n",
       "</div>"
      ],
      "text/plain": [
       "                                                                                                     hypothesis  \\\n",
       "8                                                       Запустить акцию, дающую скидку на товар в день рождения   \n",
       "0            Добавить два новых канала привлечения трафика, что позволит привлекать на 30% больше пользователей   \n",
       "7              Добавить форму подписки на все основные страницы, чтобы собрать базу клиентов для email-рассылок   \n",
       "6          Показать на главной странице баннеры с актуальными акциями и распродажами, чтобы увеличить конверсию   \n",
       "2  Добавить блоки рекомендаций товаров на сайт интернет магазина, чтобы повысить конверсию и средний чек заказа   \n",
       "1                                     Запустить собственную службу доставки, что сократит срок доставки заказов   \n",
       "5                      Добавить страницу отзывов клиентов о магазине, что позволит увеличить количество заказов   \n",
       "3           Изменить структура категорий, что увеличит конверсию, т.к. пользователи быстрее найдут нужный товар   \n",
       "4                              Изменить цвет фона главной страницы, чтобы увеличить вовлеченность пользователей   \n",
       "\n",
       "    ICE  \n",
       "8  16.0  \n",
       "0  13.0  \n",
       "7  11.0  \n",
       "6   8.0  \n",
       "2   7.0  \n",
       "1   2.0  \n",
       "5   1.0  \n",
       "3   1.0  \n",
       "4   1.0  "
      ]
     },
     "execution_count": 16,
     "metadata": {},
     "output_type": "execute_result"
    }
   ],
   "source": [
    "hice =  hypothesis[['hypothesis', 'ICE']].sort_values(by='ICE', ascending = False).round(0)\n",
    "hice"
   ]
  },
  {
   "cell_type": "markdown",
   "metadata": {},
   "source": [
    "### Фреймворк RICE."
   ]
  },
  {
   "cell_type": "markdown",
   "metadata": {},
   "source": [
    "RICE — это метод приоритизации идей и фич продукта. Аббревиатура включает 4 фактора, которые менеджер продукта может смело использовать для оценки и приоритизации продуктовых фич:\n",
    "\n",
    "- Reach — это охват\n",
    "- Impact — влияние\n",
    "- Confidence — уверенность в вашей оценке охвата, влияния и трудозатрат\n",
    "- Effort — трудозатраты"
   ]
  },
  {
   "cell_type": "code",
   "execution_count": 17,
   "metadata": {},
   "outputs": [],
   "source": [
    "hypothesis['RICE'] = (hypothesis['reach']*hypothesis['impact']*hypothesis['confidence'])/hypothesis['efforts']"
   ]
  },
  {
   "cell_type": "code",
   "execution_count": 18,
   "metadata": {},
   "outputs": [
    {
     "data": {
      "text/html": [
       "<div>\n",
       "<style scoped>\n",
       "    .dataframe tbody tr th:only-of-type {\n",
       "        vertical-align: middle;\n",
       "    }\n",
       "\n",
       "    .dataframe tbody tr th {\n",
       "        vertical-align: top;\n",
       "    }\n",
       "\n",
       "    .dataframe thead th {\n",
       "        text-align: right;\n",
       "    }\n",
       "</style>\n",
       "<table border=\"1\" class=\"dataframe\">\n",
       "  <thead>\n",
       "    <tr style=\"text-align: right;\">\n",
       "      <th></th>\n",
       "      <th>hypothesis</th>\n",
       "      <th>RICE</th>\n",
       "    </tr>\n",
       "  </thead>\n",
       "  <tbody>\n",
       "    <tr>\n",
       "      <td>7</td>\n",
       "      <td>Добавить форму подписки на все основные страницы, чтобы собрать базу клиентов для email-рассылок</td>\n",
       "      <td>112.0</td>\n",
       "    </tr>\n",
       "    <tr>\n",
       "      <td>2</td>\n",
       "      <td>Добавить блоки рекомендаций товаров на сайт интернет магазина, чтобы повысить конверсию и средний чек заказа</td>\n",
       "      <td>56.0</td>\n",
       "    </tr>\n",
       "    <tr>\n",
       "      <td>0</td>\n",
       "      <td>Добавить два новых канала привлечения трафика, что позволит привлекать на 30% больше пользователей</td>\n",
       "      <td>40.0</td>\n",
       "    </tr>\n",
       "    <tr>\n",
       "      <td>6</td>\n",
       "      <td>Показать на главной странице баннеры с актуальными акциями и распродажами, чтобы увеличить конверсию</td>\n",
       "      <td>40.0</td>\n",
       "    </tr>\n",
       "    <tr>\n",
       "      <td>8</td>\n",
       "      <td>Запустить акцию, дающую скидку на товар в день рождения</td>\n",
       "      <td>16.0</td>\n",
       "    </tr>\n",
       "    <tr>\n",
       "      <td>3</td>\n",
       "      <td>Изменить структура категорий, что увеличит конверсию, т.к. пользователи быстрее найдут нужный товар</td>\n",
       "      <td>9.0</td>\n",
       "    </tr>\n",
       "    <tr>\n",
       "      <td>1</td>\n",
       "      <td>Запустить собственную службу доставки, что сократит срок доставки заказов</td>\n",
       "      <td>4.0</td>\n",
       "    </tr>\n",
       "    <tr>\n",
       "      <td>5</td>\n",
       "      <td>Добавить страницу отзывов клиентов о магазине, что позволит увеличить количество заказов</td>\n",
       "      <td>4.0</td>\n",
       "    </tr>\n",
       "    <tr>\n",
       "      <td>4</td>\n",
       "      <td>Изменить цвет фона главной страницы, чтобы увеличить вовлеченность пользователей</td>\n",
       "      <td>3.0</td>\n",
       "    </tr>\n",
       "  </tbody>\n",
       "</table>\n",
       "</div>"
      ],
      "text/plain": [
       "                                                                                                     hypothesis  \\\n",
       "7              Добавить форму подписки на все основные страницы, чтобы собрать базу клиентов для email-рассылок   \n",
       "2  Добавить блоки рекомендаций товаров на сайт интернет магазина, чтобы повысить конверсию и средний чек заказа   \n",
       "0            Добавить два новых канала привлечения трафика, что позволит привлекать на 30% больше пользователей   \n",
       "6          Показать на главной странице баннеры с актуальными акциями и распродажами, чтобы увеличить конверсию   \n",
       "8                                                       Запустить акцию, дающую скидку на товар в день рождения   \n",
       "3           Изменить структура категорий, что увеличит конверсию, т.к. пользователи быстрее найдут нужный товар   \n",
       "1                                     Запустить собственную службу доставки, что сократит срок доставки заказов   \n",
       "5                      Добавить страницу отзывов клиентов о магазине, что позволит увеличить количество заказов   \n",
       "4                              Изменить цвет фона главной страницы, чтобы увеличить вовлеченность пользователей   \n",
       "\n",
       "    RICE  \n",
       "7  112.0  \n",
       "2   56.0  \n",
       "0   40.0  \n",
       "6   40.0  \n",
       "8   16.0  \n",
       "3    9.0  \n",
       "1    4.0  \n",
       "5    4.0  \n",
       "4    3.0  "
      ]
     },
     "execution_count": 18,
     "metadata": {},
     "output_type": "execute_result"
    }
   ],
   "source": [
    "hrice = hypothesis[['hypothesis', 'RICE']].sort_values(by='RICE', ascending = False).round(0)\n",
    "hrice"
   ]
  },
  {
   "cell_type": "code",
   "execution_count": 19,
   "metadata": {
    "scrolled": true
   },
   "outputs": [
    {
     "data": {
      "text/html": [
       "<style  type=\"text/css\" >\n",
       "    #T_32ae9560_8d58_11ec_bbde_02420a396b81row0_col1 {\n",
       "            background-color:  #008000;\n",
       "            color:  #f1f1f1;\n",
       "        }    #T_32ae9560_8d58_11ec_bbde_02420a396b81row0_col2 {\n",
       "            background-color:  #caf0ca;\n",
       "            color:  #000000;\n",
       "        }    #T_32ae9560_8d58_11ec_bbde_02420a396b81row1_col1 {\n",
       "            background-color:  #2e992e;\n",
       "            color:  #000000;\n",
       "        }    #T_32ae9560_8d58_11ec_bbde_02420a396b81row1_col2 {\n",
       "            background-color:  #98d498;\n",
       "            color:  #000000;\n",
       "        }    #T_32ae9560_8d58_11ec_bbde_02420a396b81row2_col1 {\n",
       "            background-color:  #4daa4d;\n",
       "            color:  #000000;\n",
       "        }    #T_32ae9560_8d58_11ec_bbde_02420a396b81row2_col2 {\n",
       "            background-color:  #008000;\n",
       "            color:  #f1f1f1;\n",
       "        }    #T_32ae9560_8d58_11ec_bbde_02420a396b81row3_col1 {\n",
       "            background-color:  #7ac47a;\n",
       "            color:  #000000;\n",
       "        }    #T_32ae9560_8d58_11ec_bbde_02420a396b81row3_col2 {\n",
       "            background-color:  #98d498;\n",
       "            color:  #000000;\n",
       "        }    #T_32ae9560_8d58_11ec_bbde_02420a396b81row4_col1 {\n",
       "            background-color:  #8acc8a;\n",
       "            color:  #000000;\n",
       "        }    #T_32ae9560_8d58_11ec_bbde_02420a396b81row4_col2 {\n",
       "            background-color:  #76c176;\n",
       "            color:  #000000;\n",
       "        }    #T_32ae9560_8d58_11ec_bbde_02420a396b81row5_col1 {\n",
       "            background-color:  #d6f7d6;\n",
       "            color:  #000000;\n",
       "        }    #T_32ae9560_8d58_11ec_bbde_02420a396b81row5_col2 {\n",
       "            background-color:  #e4fee4;\n",
       "            color:  #000000;\n",
       "        }    #T_32ae9560_8d58_11ec_bbde_02420a396b81row6_col1 {\n",
       "            background-color:  #e5ffe5;\n",
       "            color:  #000000;\n",
       "        }    #T_32ae9560_8d58_11ec_bbde_02420a396b81row6_col2 {\n",
       "            background-color:  #e4fee4;\n",
       "            color:  #000000;\n",
       "        }    #T_32ae9560_8d58_11ec_bbde_02420a396b81row7_col1 {\n",
       "            background-color:  #e5ffe5;\n",
       "            color:  #000000;\n",
       "        }    #T_32ae9560_8d58_11ec_bbde_02420a396b81row7_col2 {\n",
       "            background-color:  #d9f8d9;\n",
       "            color:  #000000;\n",
       "        }    #T_32ae9560_8d58_11ec_bbde_02420a396b81row8_col1 {\n",
       "            background-color:  #e5ffe5;\n",
       "            color:  #000000;\n",
       "        }    #T_32ae9560_8d58_11ec_bbde_02420a396b81row8_col2 {\n",
       "            background-color:  #e5ffe5;\n",
       "            color:  #000000;\n",
       "        }</style><table id=\"T_32ae9560_8d58_11ec_bbde_02420a396b81\" ><thead>    <tr>        <th class=\"blank level0\" ></th>        <th class=\"col_heading level0 col0\" >hypothesis</th>        <th class=\"col_heading level0 col1\" >ICE</th>        <th class=\"col_heading level0 col2\" >RICE</th>    </tr></thead><tbody>\n",
       "                <tr>\n",
       "                        <th id=\"T_32ae9560_8d58_11ec_bbde_02420a396b81level0_row0\" class=\"row_heading level0 row0\" >0</th>\n",
       "                        <td id=\"T_32ae9560_8d58_11ec_bbde_02420a396b81row0_col0\" class=\"data row0 col0\" >Запустить акцию, дающую скидку на товар в день рождения</td>\n",
       "                        <td id=\"T_32ae9560_8d58_11ec_bbde_02420a396b81row0_col1\" class=\"data row0 col1\" >16</td>\n",
       "                        <td id=\"T_32ae9560_8d58_11ec_bbde_02420a396b81row0_col2\" class=\"data row0 col2\" >16</td>\n",
       "            </tr>\n",
       "            <tr>\n",
       "                        <th id=\"T_32ae9560_8d58_11ec_bbde_02420a396b81level0_row1\" class=\"row_heading level0 row1\" >1</th>\n",
       "                        <td id=\"T_32ae9560_8d58_11ec_bbde_02420a396b81row1_col0\" class=\"data row1 col0\" >Добавить два новых канала привлечения трафика, что позволит привлекать на 30% больше пользователей</td>\n",
       "                        <td id=\"T_32ae9560_8d58_11ec_bbde_02420a396b81row1_col1\" class=\"data row1 col1\" >13</td>\n",
       "                        <td id=\"T_32ae9560_8d58_11ec_bbde_02420a396b81row1_col2\" class=\"data row1 col2\" >40</td>\n",
       "            </tr>\n",
       "            <tr>\n",
       "                        <th id=\"T_32ae9560_8d58_11ec_bbde_02420a396b81level0_row2\" class=\"row_heading level0 row2\" >2</th>\n",
       "                        <td id=\"T_32ae9560_8d58_11ec_bbde_02420a396b81row2_col0\" class=\"data row2 col0\" >Добавить форму подписки на все основные страницы, чтобы собрать базу клиентов для email-рассылок</td>\n",
       "                        <td id=\"T_32ae9560_8d58_11ec_bbde_02420a396b81row2_col1\" class=\"data row2 col1\" >11</td>\n",
       "                        <td id=\"T_32ae9560_8d58_11ec_bbde_02420a396b81row2_col2\" class=\"data row2 col2\" >112</td>\n",
       "            </tr>\n",
       "            <tr>\n",
       "                        <th id=\"T_32ae9560_8d58_11ec_bbde_02420a396b81level0_row3\" class=\"row_heading level0 row3\" >3</th>\n",
       "                        <td id=\"T_32ae9560_8d58_11ec_bbde_02420a396b81row3_col0\" class=\"data row3 col0\" >Показать на главной странице баннеры с актуальными акциями и распродажами, чтобы увеличить конверсию</td>\n",
       "                        <td id=\"T_32ae9560_8d58_11ec_bbde_02420a396b81row3_col1\" class=\"data row3 col1\" >8</td>\n",
       "                        <td id=\"T_32ae9560_8d58_11ec_bbde_02420a396b81row3_col2\" class=\"data row3 col2\" >40</td>\n",
       "            </tr>\n",
       "            <tr>\n",
       "                        <th id=\"T_32ae9560_8d58_11ec_bbde_02420a396b81level0_row4\" class=\"row_heading level0 row4\" >4</th>\n",
       "                        <td id=\"T_32ae9560_8d58_11ec_bbde_02420a396b81row4_col0\" class=\"data row4 col0\" >Добавить блоки рекомендаций товаров на сайт интернет магазина, чтобы повысить конверсию и средний чек заказа</td>\n",
       "                        <td id=\"T_32ae9560_8d58_11ec_bbde_02420a396b81row4_col1\" class=\"data row4 col1\" >7</td>\n",
       "                        <td id=\"T_32ae9560_8d58_11ec_bbde_02420a396b81row4_col2\" class=\"data row4 col2\" >56</td>\n",
       "            </tr>\n",
       "            <tr>\n",
       "                        <th id=\"T_32ae9560_8d58_11ec_bbde_02420a396b81level0_row5\" class=\"row_heading level0 row5\" >5</th>\n",
       "                        <td id=\"T_32ae9560_8d58_11ec_bbde_02420a396b81row5_col0\" class=\"data row5 col0\" >Запустить собственную службу доставки, что сократит срок доставки заказов</td>\n",
       "                        <td id=\"T_32ae9560_8d58_11ec_bbde_02420a396b81row5_col1\" class=\"data row5 col1\" >2</td>\n",
       "                        <td id=\"T_32ae9560_8d58_11ec_bbde_02420a396b81row5_col2\" class=\"data row5 col2\" >4</td>\n",
       "            </tr>\n",
       "            <tr>\n",
       "                        <th id=\"T_32ae9560_8d58_11ec_bbde_02420a396b81level0_row6\" class=\"row_heading level0 row6\" >6</th>\n",
       "                        <td id=\"T_32ae9560_8d58_11ec_bbde_02420a396b81row6_col0\" class=\"data row6 col0\" >Добавить страницу отзывов клиентов о магазине, что позволит увеличить количество заказов</td>\n",
       "                        <td id=\"T_32ae9560_8d58_11ec_bbde_02420a396b81row6_col1\" class=\"data row6 col1\" >1</td>\n",
       "                        <td id=\"T_32ae9560_8d58_11ec_bbde_02420a396b81row6_col2\" class=\"data row6 col2\" >4</td>\n",
       "            </tr>\n",
       "            <tr>\n",
       "                        <th id=\"T_32ae9560_8d58_11ec_bbde_02420a396b81level0_row7\" class=\"row_heading level0 row7\" >7</th>\n",
       "                        <td id=\"T_32ae9560_8d58_11ec_bbde_02420a396b81row7_col0\" class=\"data row7 col0\" >Изменить структура категорий, что увеличит конверсию, т.к. пользователи быстрее найдут нужный товар</td>\n",
       "                        <td id=\"T_32ae9560_8d58_11ec_bbde_02420a396b81row7_col1\" class=\"data row7 col1\" >1</td>\n",
       "                        <td id=\"T_32ae9560_8d58_11ec_bbde_02420a396b81row7_col2\" class=\"data row7 col2\" >9</td>\n",
       "            </tr>\n",
       "            <tr>\n",
       "                        <th id=\"T_32ae9560_8d58_11ec_bbde_02420a396b81level0_row8\" class=\"row_heading level0 row8\" >8</th>\n",
       "                        <td id=\"T_32ae9560_8d58_11ec_bbde_02420a396b81row8_col0\" class=\"data row8 col0\" >Изменить цвет фона главной страницы, чтобы увеличить вовлеченность пользователей</td>\n",
       "                        <td id=\"T_32ae9560_8d58_11ec_bbde_02420a396b81row8_col1\" class=\"data row8 col1\" >1</td>\n",
       "                        <td id=\"T_32ae9560_8d58_11ec_bbde_02420a396b81row8_col2\" class=\"data row8 col2\" >3</td>\n",
       "            </tr>\n",
       "    </tbody></table>"
      ],
      "text/plain": [
       "<pandas.io.formats.style.Styler at 0x7f102df64a10>"
      ]
     },
     "execution_count": 19,
     "metadata": {},
     "output_type": "execute_result"
    }
   ],
   "source": [
    "unification = hice.merge(hrice, on = 'hypothesis') # объединили\n",
    "\n",
    "cm = sns.light_palette(\"green\", as_cmap=True) #выделили цветом\n",
    "unification.style.background_gradient(cmap=cm)"
   ]
  },
  {
   "cell_type": "markdown",
   "metadata": {},
   "source": [
    "### Причины изменения приоритизация гипотез."
   ]
  },
  {
   "cell_type": "markdown",
   "metadata": {},
   "source": [
    "Мы применили один из самых популярных способов приоритизации задач `ICE`(«влияние, уверенность, усилия / простота») и его модификатор `RICE`(«охват»)."
   ]
  },
  {
   "cell_type": "markdown",
   "metadata": {},
   "source": [
    "После применения флейморка `ICE` наиболее перспективными гипотезами являются:\n",
    " - Запустить акцию, дающую скидку на товар в день рождения (8)\n",
    " - Добавить два новых канала привлечения трафика, что позволит привлекать на 30% больше пользователей (0)\t\n",
    " - Добавить форму подписки на все основные страницы, чтобы собрать базу клиентов для email-рассылок (7)"
   ]
  },
  {
   "cell_type": "markdown",
   "metadata": {},
   "source": [
    "После применения флейморка RICE наиболее перспективными гипотезами являются:\n",
    " - Добавить форму подписки на все основные страницы, чтобы собрать базу клиентов для email-рассылок (7)\n",
    " - \tДобавить блоки рекомендаций товаров на сайт интернет магазина, чтобы повысить конверсию и средний чек заказа (2)\n",
    " - Добавить два новых канала привлечения трафика, что позволит привлекать на 30% больше пользователей (0)"
   ]
  },
  {
   "cell_type": "markdown",
   "metadata": {},
   "source": [
    "Исходя из вышеизложенного, рекомендуется в первую очередь протестировать гипотезы:\n",
    " - Добавить форму подписки на все основные страницы, чтобы собрать базу клиентов для email-рассылок (Порядковый номер 7)\n",
    " - Добавить два новых канала привлечения трафика, что позволит привлекать на 30% больше пользователей (Подярковый номер 0)"
   ]
  },
  {
   "cell_type": "markdown",
   "metadata": {},
   "source": [
    "## Анализ A/B-теста"
   ]
  },
  {
   "cell_type": "markdown",
   "metadata": {},
   "source": [
    "### График кумулятивной выручки по группам"
   ]
  },
  {
   "cell_type": "code",
   "execution_count": 20,
   "metadata": {},
   "outputs": [],
   "source": [
    "# создаем массив уникальных пар значений дат и групп теста\n",
    "datesGroups = orders[['date','group']].drop_duplicates()"
   ]
  },
  {
   "cell_type": "code",
   "execution_count": 21,
   "metadata": {},
   "outputs": [],
   "source": [
    "ordersAggregated = datesGroups.apply(\n",
    "    lambda x: orders[np.logical_and(orders['date'] <= x['date'], orders['group'] == x['group'])].agg({\n",
    "'date' : 'max',\n",
    "'group' : 'max',\n",
    "'transactionId' : pd.Series.nunique,\n",
    "'visitorId' : pd.Series.nunique,\n",
    "'revenue' : 'sum'}), axis=1).sort_values(by=['date','group']) "
   ]
  },
  {
   "cell_type": "markdown",
   "metadata": {},
   "source": [
    "Этот код работает так, будто мы ежедневно считали результаты тестирования до выбранного дня включительно и сохраняли их в строках таблицы `ordersAggregated`, содержащую такие столбцы:\n",
    "\n",
    "- дату;\n",
    "- группу A/B-теста;\n",
    "- число уникальных заказов в группе теста по указанную дату включительно;\n",
    "- число уникальных пользователей, совершивших хотя бы 1 заказ в группе теста по указанную дату включительно;\n",
    "- суммарную выручку заказов в группе теста по указанную дату включительно."
   ]
  },
  {
   "cell_type": "markdown",
   "metadata": {},
   "source": [
    "Объявим переменную `visitorsAggregated`, содержащую:\n",
    "\n",
    "- дату;\n",
    "- группу A/B-теста;\n",
    "- количество уникальных посетителей в группе теста по указанную дату включительно."
   ]
  },
  {
   "cell_type": "code",
   "execution_count": 22,
   "metadata": {},
   "outputs": [],
   "source": [
    "visitorsAggregated = datesGroups.apply(\n",
    "    lambda x: visitors[np.logical_and(visitors['date'] <= x['date'], visitors['group'] == x['group'])].agg({\n",
    "'date' : 'max',\n",
    "'group' : 'max',\n",
    "'visitors' : 'sum'}), axis=1).sort_values(by=['date','group'])"
   ]
  },
  {
   "cell_type": "markdown",
   "metadata": {},
   "source": [
    "Определим переменную `cumulativeData`, объединив `ordersAggregated` и `visitorsAggregated` по колонкам 'date', 'group' методом merge()"
   ]
  },
  {
   "cell_type": "code",
   "execution_count": 23,
   "metadata": {},
   "outputs": [],
   "source": [
    "cumulativeData = ordersAggregated.merge(visitorsAggregated, left_on=['date', 'group'], right_on=['date', 'group'])"
   ]
  },
  {
   "cell_type": "markdown",
   "metadata": {},
   "source": [
    "Присвоим столбцам `cumulativeData` названия ['date', 'group', 'orders', 'buyers', 'revenue', 'visitors']"
   ]
  },
  {
   "cell_type": "code",
   "execution_count": 24,
   "metadata": {},
   "outputs": [
    {
     "data": {
      "text/html": [
       "<div>\n",
       "<style scoped>\n",
       "    .dataframe tbody tr th:only-of-type {\n",
       "        vertical-align: middle;\n",
       "    }\n",
       "\n",
       "    .dataframe tbody tr th {\n",
       "        vertical-align: top;\n",
       "    }\n",
       "\n",
       "    .dataframe thead th {\n",
       "        text-align: right;\n",
       "    }\n",
       "</style>\n",
       "<table border=\"1\" class=\"dataframe\">\n",
       "  <thead>\n",
       "    <tr style=\"text-align: right;\">\n",
       "      <th></th>\n",
       "      <th>date</th>\n",
       "      <th>group</th>\n",
       "      <th>orders</th>\n",
       "      <th>buyers</th>\n",
       "      <th>revenue</th>\n",
       "      <th>visitors</th>\n",
       "    </tr>\n",
       "  </thead>\n",
       "  <tbody>\n",
       "    <tr>\n",
       "      <td>0</td>\n",
       "      <td>2019-08-01</td>\n",
       "      <td>A</td>\n",
       "      <td>24</td>\n",
       "      <td>20</td>\n",
       "      <td>148579</td>\n",
       "      <td>719</td>\n",
       "    </tr>\n",
       "    <tr>\n",
       "      <td>1</td>\n",
       "      <td>2019-08-01</td>\n",
       "      <td>B</td>\n",
       "      <td>21</td>\n",
       "      <td>20</td>\n",
       "      <td>101217</td>\n",
       "      <td>713</td>\n",
       "    </tr>\n",
       "    <tr>\n",
       "      <td>2</td>\n",
       "      <td>2019-08-02</td>\n",
       "      <td>A</td>\n",
       "      <td>44</td>\n",
       "      <td>38</td>\n",
       "      <td>242401</td>\n",
       "      <td>1338</td>\n",
       "    </tr>\n",
       "    <tr>\n",
       "      <td>3</td>\n",
       "      <td>2019-08-02</td>\n",
       "      <td>B</td>\n",
       "      <td>45</td>\n",
       "      <td>43</td>\n",
       "      <td>266748</td>\n",
       "      <td>1294</td>\n",
       "    </tr>\n",
       "    <tr>\n",
       "      <td>4</td>\n",
       "      <td>2019-08-03</td>\n",
       "      <td>A</td>\n",
       "      <td>68</td>\n",
       "      <td>62</td>\n",
       "      <td>354874</td>\n",
       "      <td>1845</td>\n",
       "    </tr>\n",
       "    <tr>\n",
       "      <td>...</td>\n",
       "      <td>...</td>\n",
       "      <td>...</td>\n",
       "      <td>...</td>\n",
       "      <td>...</td>\n",
       "      <td>...</td>\n",
       "      <td>...</td>\n",
       "    </tr>\n",
       "    <tr>\n",
       "      <td>57</td>\n",
       "      <td>2019-08-29</td>\n",
       "      <td>B</td>\n",
       "      <td>596</td>\n",
       "      <td>544</td>\n",
       "      <td>5559398</td>\n",
       "      <td>17708</td>\n",
       "    </tr>\n",
       "    <tr>\n",
       "      <td>58</td>\n",
       "      <td>2019-08-30</td>\n",
       "      <td>A</td>\n",
       "      <td>545</td>\n",
       "      <td>493</td>\n",
       "      <td>4022970</td>\n",
       "      <td>18037</td>\n",
       "    </tr>\n",
       "    <tr>\n",
       "      <td>59</td>\n",
       "      <td>2019-08-30</td>\n",
       "      <td>B</td>\n",
       "      <td>620</td>\n",
       "      <td>567</td>\n",
       "      <td>5774631</td>\n",
       "      <td>18198</td>\n",
       "    </tr>\n",
       "    <tr>\n",
       "      <td>60</td>\n",
       "      <td>2019-08-31</td>\n",
       "      <td>A</td>\n",
       "      <td>557</td>\n",
       "      <td>503</td>\n",
       "      <td>4084803</td>\n",
       "      <td>18736</td>\n",
       "    </tr>\n",
       "    <tr>\n",
       "      <td>61</td>\n",
       "      <td>2019-08-31</td>\n",
       "      <td>B</td>\n",
       "      <td>640</td>\n",
       "      <td>586</td>\n",
       "      <td>5907760</td>\n",
       "      <td>18916</td>\n",
       "    </tr>\n",
       "  </tbody>\n",
       "</table>\n",
       "<p>62 rows × 6 columns</p>\n",
       "</div>"
      ],
      "text/plain": [
       "         date group  orders  buyers  revenue  visitors\n",
       "0  2019-08-01     A      24      20   148579       719\n",
       "1  2019-08-01     B      21      20   101217       713\n",
       "2  2019-08-02     A      44      38   242401      1338\n",
       "3  2019-08-02     B      45      43   266748      1294\n",
       "4  2019-08-03     A      68      62   354874      1845\n",
       "..        ...   ...     ...     ...      ...       ...\n",
       "57 2019-08-29     B     596     544  5559398     17708\n",
       "58 2019-08-30     A     545     493  4022970     18037\n",
       "59 2019-08-30     B     620     567  5774631     18198\n",
       "60 2019-08-31     A     557     503  4084803     18736\n",
       "61 2019-08-31     B     640     586  5907760     18916\n",
       "\n",
       "[62 rows x 6 columns]"
      ]
     },
     "execution_count": 24,
     "metadata": {},
     "output_type": "execute_result"
    }
   ],
   "source": [
    "cumulativeData.columns = ['date', 'group', 'orders', 'buyers', 'revenue', 'visitors']\n",
    "cumulativeData"
   ]
  },
  {
   "cell_type": "markdown",
   "metadata": {},
   "source": [
    "**Все нужные кумулятивные данные собраны. Приступаем к построению графиков.**"
   ]
  },
  {
   "cell_type": "markdown",
   "metadata": {},
   "source": [
    "Объявим переменные `cumulativeRevenueA` и `cumulativeRevenueB`, в которых сохраните данные о датах, выручке и числе заказов в группах A и B."
   ]
  },
  {
   "cell_type": "code",
   "execution_count": 25,
   "metadata": {},
   "outputs": [
    {
     "data": {
      "image/png": "[encoded data removed]",
      "text/plain": [
       "<Figure size 1440x432 with 1 Axes>"
      ]
     },
     "metadata": {
      "needs_background": "light"
     },
     "output_type": "display_data"
    }
   ],
   "source": [
    "# датафрейм с кумулятивным количеством заказов и кумулятивной выручкой по дням в группе А\n",
    "cumulativeRevenueA = cumulativeData[cumulativeData['group']=='A'][['date','revenue', 'orders']]\n",
    "\n",
    "plt.figure(figsize=(20,6))\n",
    "\n",
    "# датафрейм с кумулятивным количеством заказов и кумулятивной выручкой по дням в группе B\n",
    "cumulativeRevenueB = cumulativeData[cumulativeData['group']=='B'][['date','revenue', 'orders']]\n",
    "plt.annotate('скачок', xy=('2019-08-17', 2900000), xytext=('2019-08-10', 3500000),\n",
    "            arrowprops=dict(facecolor='g'))\n",
    "\n",
    "# Строим график выручки группы А\n",
    "plt.plot(cumulativeRevenueA['date'], cumulativeRevenueA['revenue'], label='A')\n",
    "plt.annotate('отрыв', xy=('2019-08-05', 800000), xytext=('2019-08-05', 2000000),\n",
    "            arrowprops=dict(facecolor='g')) \n",
    "\n",
    "# Строим график выручки группы B\n",
    "plt.plot(cumulativeRevenueB['date'], cumulativeRevenueB['revenue'], label='B')\n",
    "\n",
    "plt.title('График кумулятивной выручки по группам', size=23)\n",
    "plt.xlabel(\"Дата\", size=15)\n",
    "plt.ylabel(\"Выручка\", size=15)\n",
    "plt.legend()\n",
    "plt.grid()\n",
    "plt.show()"
   ]
  },
  {
   "cell_type": "markdown",
   "metadata": {},
   "source": [
    "До 18.08.2019 выручка почти равномерно увеличивается. Далее наблюдаем реpкий скачок группы В (всплеск числа заказов, либо о появление очень дорогих заказов в наших данных)."
   ]
  },
  {
   "cell_type": "markdown",
   "metadata": {},
   "source": [
    "### График кумулятивного среднего чека по группам."
   ]
  },
  {
   "cell_type": "code",
   "execution_count": 26,
   "metadata": {},
   "outputs": [
    {
     "data": {
      "image/png": "[encoded data removed]",
      "text/plain": [
       "<Figure size 1440x432 with 1 Axes>"
      ]
     },
     "metadata": {
      "needs_background": "light"
     },
     "output_type": "display_data"
    }
   ],
   "source": [
    "plt.figure(figsize=(20,6))\n",
    "plt.plot(cumulativeRevenueA['date'], cumulativeRevenueA['revenue']/cumulativeRevenueA['orders'], label='A')\n",
    "plt.plot(cumulativeRevenueB['date'], cumulativeRevenueB['revenue']/cumulativeRevenueB['orders'], label='B')\n",
    "\n",
    "\n",
    "plt.annotate('скачок', xy=('2019-08-17', 7400), xytext=('2019-08-11', 8500),\n",
    "            arrowprops=dict(facecolor='g'))\n",
    "\n",
    "plt.legend()\n",
    "plt.title('График кумулятивного среднего чека по группам', size=23)\n",
    "plt.xlabel(\"Дата\", size=15)\n",
    "plt.ylabel(\"Средний чек\", size=15)\n",
    "plt.legend()\n",
    "plt.grid()\n",
    "plt.show();"
   ]
  },
  {
   "cell_type": "markdown",
   "metadata": {},
   "source": [
    "Так же, как и в предыдущем графике, средний чек у обоих групп выравнивается к 18.08.2019. Далее после резкого скачка у группы В наблюдаем стабильное уменьшение среднего чека.\n",
    "\n",
    "Группе В нужно больше данных, чтобы прийти к реальному среднему чеку и установиться на своём реальном уровне"
   ]
  },
  {
   "cell_type": "markdown",
   "metadata": {},
   "source": [
    "### График относительного изменения кумулятивного среднего чека группы B к группе A."
   ]
  },
  {
   "cell_type": "markdown",
   "metadata": {},
   "source": [
    "Построим график относительного различия для среднего чека. Добавим горизонтальную ось методом `axhline()` ( «горизонтальная линия поперек оси»):"
   ]
  },
  {
   "cell_type": "code",
   "execution_count": 27,
   "metadata": {},
   "outputs": [
    {
     "data": {
      "image/png": "[encoded data removed]",
      "text/plain": [
       "<Figure size 1440x432 with 1 Axes>"
      ]
     },
     "metadata": {
      "needs_background": "light"
     },
     "output_type": "display_data"
    }
   ],
   "source": [
    "# собираем данные в одном датафрейме\n",
    "mergedCumulativeRevenue = cumulativeRevenueA.merge(cumulativeRevenueB, left_on='date', right_on='date', how='left', suffixes=['A', 'B'])\n",
    "\n",
    "# cтроим отношение средних чеков\n",
    "plt.figure(figsize=(20,6))\n",
    "plt.plot(mergedCumulativeRevenue['date'], (mergedCumulativeRevenue['revenueB']/mergedCumulativeRevenue['ordersB'])/(mergedCumulativeRevenue['revenueA']/mergedCumulativeRevenue['ordersA'])-1)\n",
    "\n",
    "\n",
    "plt.annotate('скачок', xy=('2019-08-17', 0.08), xytext=('2019-08-11', 0.2),\n",
    "            arrowprops=dict(facecolor='orange'))\n",
    "\n",
    "\n",
    "# добавляем ось X\n",
    "plt.axhline(y=0, color='red', linestyle='--') \n",
    "plt.title('График относительного изменения кумулятивного среднего чека группы B к группе A', size=23)\n",
    "plt.xlabel(\"Дата\", size=15)\n",
    "plt.grid()\n",
    "plt.show()"
   ]
  },
  {
   "cell_type": "markdown",
   "metadata": {},
   "source": [
    "В нескольких точках график различия между сегментами резко «скачет». Где-то уж точно спрятались крупные заказы и выбросы!"
   ]
  },
  {
   "cell_type": "markdown",
   "metadata": {},
   "source": [
    "### График кумулятивной конверсии по группам."
   ]
  },
  {
   "cell_type": "markdown",
   "metadata": {},
   "source": [
    "Сперва найдём пминамальную и максимальную дату:"
   ]
  },
  {
   "cell_type": "code",
   "execution_count": 28,
   "metadata": {},
   "outputs": [
    {
     "name": "stdout",
     "output_type": "stream",
     "text": [
      "2019-08-01 00:00:00\n",
      "2019-08-31 00:00:00\n"
     ]
    }
   ],
   "source": [
    "print(mergedCumulativeRevenue['date'].min())\n",
    "print(mergedCumulativeRevenue['date'].max())"
   ]
  },
  {
   "cell_type": "markdown",
   "metadata": {},
   "source": [
    "Аналогично проанализируем график кумулятивной конверсии. Зададим масштаб осей методом `plt.axis()`. Передадим ему минимальное и максимальное значения оси x; минимальное и максимальное значения оси y — [\"2019-08-01\", '2019-08-31', 0.029, 0.037]:"
   ]
  },
  {
   "cell_type": "code",
   "execution_count": 29,
   "metadata": {},
   "outputs": [
    {
     "data": {
      "image/png": "[encoded data removed]",
      "text/plain": [
       "<Figure size 1440x432 with 1 Axes>"
      ]
     },
     "metadata": {
      "needs_background": "light"
     },
     "output_type": "display_data"
    }
   ],
   "source": [
    "# считаем кумулятивную конверсию\n",
    "cumulativeData['conversion'] = cumulativeData['orders']/cumulativeData['visitors']\n",
    "\n",
    "# отделяем данные по группе A\n",
    "cumulativeDataA = cumulativeData[cumulativeData['group']=='A']\n",
    "\n",
    "# отделяем данные по группе B\n",
    "cumulativeDataB = cumulativeData[cumulativeData['group']=='B']\n",
    "\n",
    "\n",
    "# строим графики\n",
    "plt.figure(figsize=(20,6))\n",
    "plt.plot(cumulativeDataA['date'], cumulativeDataA['conversion'], label='A')\n",
    "plt.plot(cumulativeDataB['date'], cumulativeDataB['conversion'], label='B')\n",
    "plt.legend()\n",
    "\n",
    "plt.annotate('отрыв', xy=('2019-08-06', 0.033), xytext=('2019-08-08', 0.04),\n",
    "            arrowprops=dict(facecolor='g')) \n",
    "\n",
    "\n",
    "# задаем масштаб осей\n",
    "plt.axis([dt.datetime(2019, 8, 1), dt.datetime(2019, 8, 31), 0.001, 0.05])\n",
    "plt.title('График кумулятивной конверсии по группам', size=23)\n",
    "plt.xlabel(\"Дата\", size=15)\n",
    "plt.ylabel(\"Конверсия\", size=15)\n",
    "plt.legend()\n",
    "plt.grid()\n",
    "plt.show()"
   ]
  },
  {
   "cell_type": "markdown",
   "metadata": {},
   "source": [
    "До 5 августа данные колебаются вокруг одного значения. Но затем конверсия группы В вырывается в лидеры и фиксируется около одного значения. Так же по группе А - с 9 Августа она зафиксировалась на одном значении (примерно 0.03)"
   ]
  },
  {
   "cell_type": "markdown",
   "metadata": {},
   "source": [
    "### График относительного изменения кумулятивной конверсии группы B к группе A."
   ]
  },
  {
   "cell_type": "code",
   "execution_count": 30,
   "metadata": {},
   "outputs": [],
   "source": [
    "mergedCumulativeConversions = cumulativeDataA[['date','conversion']].merge(cumulativeDataB[['date','conversion']], left_on = 'date', right_on='date', how = 'left', suffixes = ['A', 'B'])"
   ]
  },
  {
   "cell_type": "code",
   "execution_count": 31,
   "metadata": {},
   "outputs": [
    {
     "data": {
      "image/png": "[encoded data removed]",
      "text/plain": [
       "<Figure size 1440x432 with 1 Axes>"
      ]
     },
     "metadata": {
      "needs_background": "light"
     },
     "output_type": "display_data"
    }
   ],
   "source": [
    "plt.figure(figsize=(20,6))\n",
    "plt.plot(mergedCumulativeConversions['date'], mergedCumulativeConversions['conversionB']/mergedCumulativeConversions['conversionA']-1, label=\"Относительный прирост конверсии группы B относительно группы A\")\n",
    "\n",
    "\n",
    "plt.axhline(y=0, color='green', linestyle='--')\n",
    "plt.axhline(y=0.2, color='red', linestyle='--')\n",
    "\n",
    "plt.axis([dt.datetime(2019, 8, 1), dt.datetime(2019, 8, 31), -0.15, 0.25])\n",
    "plt.title('График относительного изменения кумулятивной конверсии группы B к группе A', size=23)\n",
    "plt.xlabel(\"Дата\", size=15)\n",
    "plt.ylabel(\"Конверсия %\", size=15)\n",
    "plt.grid()\n",
    "plt.show()"
   ]
  },
  {
   "cell_type": "markdown",
   "metadata": {},
   "source": [
    "С самого начала группа В лидирует в конверсии, но достигнув отметки 20% стала немного регрессировать и зафиксировалась в отметке примерно 12-13% относительно группы А."
   ]
  },
  {
   "cell_type": "markdown",
   "metadata": {},
   "source": [
    "### График количества заказов по пользователям."
   ]
  },
  {
   "cell_type": "markdown",
   "metadata": {},
   "source": [
    "Найдём число заказов по пользователям — создим датафрейм c двумя столбцами: `'userId'` и `'orders'`. Назовиём его `ordersByUsers`"
   ]
  },
  {
   "cell_type": "code",
   "execution_count": 32,
   "metadata": {},
   "outputs": [
    {
     "data": {
      "text/html": [
       "<div>\n",
       "<style scoped>\n",
       "    .dataframe tbody tr th:only-of-type {\n",
       "        vertical-align: middle;\n",
       "    }\n",
       "\n",
       "    .dataframe tbody tr th {\n",
       "        vertical-align: top;\n",
       "    }\n",
       "\n",
       "    .dataframe thead th {\n",
       "        text-align: right;\n",
       "    }\n",
       "</style>\n",
       "<table border=\"1\" class=\"dataframe\">\n",
       "  <thead>\n",
       "    <tr style=\"text-align: right;\">\n",
       "      <th></th>\n",
       "      <th>userId</th>\n",
       "      <th>orders</th>\n",
       "    </tr>\n",
       "  </thead>\n",
       "  <tbody>\n",
       "    <tr>\n",
       "      <td>0</td>\n",
       "      <td>5114589</td>\n",
       "      <td>1</td>\n",
       "    </tr>\n",
       "    <tr>\n",
       "      <td>656</td>\n",
       "      <td>2705308997</td>\n",
       "      <td>1</td>\n",
       "    </tr>\n",
       "    <tr>\n",
       "      <td>658</td>\n",
       "      <td>2710193528</td>\n",
       "      <td>1</td>\n",
       "    </tr>\n",
       "    <tr>\n",
       "      <td>659</td>\n",
       "      <td>2710478747</td>\n",
       "      <td>1</td>\n",
       "    </tr>\n",
       "    <tr>\n",
       "      <td>660</td>\n",
       "      <td>2710492161</td>\n",
       "      <td>1</td>\n",
       "    </tr>\n",
       "    <tr>\n",
       "      <td>...</td>\n",
       "      <td>...</td>\n",
       "      <td>...</td>\n",
       "    </tr>\n",
       "    <tr>\n",
       "      <td>897</td>\n",
       "      <td>3717692402</td>\n",
       "      <td>5</td>\n",
       "    </tr>\n",
       "    <tr>\n",
       "      <td>487</td>\n",
       "      <td>2038680547</td>\n",
       "      <td>8</td>\n",
       "    </tr>\n",
       "    <tr>\n",
       "      <td>569</td>\n",
       "      <td>2378935119</td>\n",
       "      <td>9</td>\n",
       "    </tr>\n",
       "    <tr>\n",
       "      <td>1023</td>\n",
       "      <td>4256040402</td>\n",
       "      <td>11</td>\n",
       "    </tr>\n",
       "    <tr>\n",
       "      <td>591</td>\n",
       "      <td>2458001652</td>\n",
       "      <td>11</td>\n",
       "    </tr>\n",
       "  </tbody>\n",
       "</table>\n",
       "<p>1031 rows × 2 columns</p>\n",
       "</div>"
      ],
      "text/plain": [
       "          userId  orders\n",
       "0        5114589       1\n",
       "656   2705308997       1\n",
       "658   2710193528       1\n",
       "659   2710478747       1\n",
       "660   2710492161       1\n",
       "...          ...     ...\n",
       "897   3717692402       5\n",
       "487   2038680547       8\n",
       "569   2378935119       9\n",
       "1023  4256040402      11\n",
       "591   2458001652      11\n",
       "\n",
       "[1031 rows x 2 columns]"
      ]
     },
     "execution_count": 32,
     "metadata": {},
     "output_type": "execute_result"
    }
   ],
   "source": [
    "ordersByUsers  = orders.drop(['group', 'revenue', 'date'], \n",
    "                             axis=1).groupby('visitorId', as_index=False).agg({'transactionId': 'nunique'})\n",
    "ordersByUsers.columns = ['userId', 'orders']\n",
    "ordersByUsers.sort_values('orders')"
   ]
  },
  {
   "cell_type": "markdown",
   "metadata": {},
   "source": [
    "Построим гистограмму распледеления:"
   ]
  },
  {
   "cell_type": "code",
   "execution_count": 33,
   "metadata": {},
   "outputs": [
    {
     "data": {
      "image/png": "[encoded data removed]",
      "text/plain": [
       "<Figure size 432x288 with 1 Axes>"
      ]
     },
     "metadata": {
      "needs_background": "light"
     },
     "output_type": "display_data"
    }
   ],
   "source": [
    "plt.hist(ordersByUsers['orders'])\n",
    "plt.grid()\n",
    "plt.title('Распределение заказов по пользователям')\n",
    "plt.xlabel('кол-во заказов')\n",
    "plt.ylabel('кол-во пользователей')\n",
    "plt.show()"
   ]
  },
  {
   "cell_type": "markdown",
   "metadata": {},
   "source": [
    "Большинство пользователей совершило всего 1 заказ. Однако не ясно, сколько пользователей заказало 2, 3 и более раза. Построим график другого вида"
   ]
  },
  {
   "cell_type": "code",
   "execution_count": 34,
   "metadata": {
    "scrolled": true
   },
   "outputs": [
    {
     "data": {
      "image/png": "[encoded data removed]",
      "text/plain": [
       "<Figure size 432x288 with 1 Axes>"
      ]
     },
     "metadata": {
      "needs_background": "light"
     },
     "output_type": "display_data"
    }
   ],
   "source": [
    "x_values = pd.Series(range(0, len(ordersByUsers)))\n",
    "plt.scatter(x_values, ordersByUsers['orders'])\n",
    "plt.xlabel('кол-во заказов')\n",
    "plt.ylabel('кол-во пользователей')\n",
    "plt.show()"
   ]
  },
  {
   "cell_type": "markdown",
   "metadata": {},
   "source": [
    "Пользователей, заказавших более 2ух раз совсем мало. Они вполне могут быть аномальными."
   ]
  },
  {
   "cell_type": "markdown",
   "metadata": {},
   "source": [
    "### Перцентили количества заказов на пользователя."
   ]
  },
  {
   "cell_type": "markdown",
   "metadata": {},
   "source": [
    "Чтобы понять: 2 заказа это много или мало? Нужно посчитать выборочные перцентили"
   ]
  },
  {
   "cell_type": "code",
   "execution_count": 35,
   "metadata": {},
   "outputs": [
    {
     "data": {
      "text/plain": [
       "array([2., 4.])"
      ]
     },
     "execution_count": 35,
     "metadata": {},
     "output_type": "execute_result"
    }
   ],
   "source": [
    "np.percentile(ordersByUsers['orders'], [95, 99])"
   ]
  },
  {
   "cell_type": "markdown",
   "metadata": {},
   "source": [
    "Не более 5% пользователей совершали более 2 заказов, и не более 1% - больше 4 заказов"
   ]
  },
  {
   "cell_type": "markdown",
   "metadata": {},
   "source": [
    "### Постройте точечный график стоимостей заказов. Сделайте выводы и предположения."
   ]
  },
  {
   "cell_type": "markdown",
   "metadata": {},
   "source": [
    "Построим гистограмму распределения выручек (`'revenue'`) с заказов по пользователям методом hist()."
   ]
  },
  {
   "cell_type": "code",
   "execution_count": 36,
   "metadata": {},
   "outputs": [
    {
     "data": {
      "image/png": "[encoded data removed]",
      "text/plain": [
       "<Figure size 432x288 with 1 Axes>"
      ]
     },
     "metadata": {
      "needs_background": "light"
     },
     "output_type": "display_data"
    }
   ],
   "source": [
    "plt.hist(orders['revenue'])\n",
    "plt.grid()\n",
    "plt.title('Распределение стоимости заказов')\n",
    "plt.xlabel('Цена')\n",
    "plt.ylabel('Кол-во заказов')\n",
    "plt.show()"
   ]
  },
  {
   "cell_type": "markdown",
   "metadata": {},
   "source": [
    "Сумма большинства заказов менее 20 000 рублей. Однако по гистограмме ничего не сказать, о распределении более дорогих заказов. Постоим точечный график"
   ]
  },
  {
   "cell_type": "code",
   "execution_count": 37,
   "metadata": {},
   "outputs": [
    {
     "data": {
      "image/png": "[encoded data removed]",
      "text/plain": [
       "<Figure size 432x288 with 1 Axes>"
      ]
     },
     "metadata": {
      "needs_background": "light"
     },
     "output_type": "display_data"
    }
   ],
   "source": [
    "x_values = pd.Series(range(0, len(orders['revenue'])))\n",
    "plt.scatter(x_values, orders['revenue'])\n",
    "plt.xlabel('Кол-во заказов')\n",
    "plt.ylabel('Стоимость')\n",
    "plt.show()"
   ]
  },
  {
   "cell_type": "markdown",
   "metadata": {},
   "source": [
    "Заказов стоимостью юолее 120000 рублей, не очень много. Выбросов мало, наблюдаем их около 20 000 рублей и выше. Найдём выборочные перцентили"
   ]
  },
  {
   "cell_type": "markdown",
   "metadata": {},
   "source": [
    "### Перцентили стоимости заказов."
   ]
  },
  {
   "cell_type": "code",
   "execution_count": 38,
   "metadata": {},
   "outputs": [
    {
     "data": {
      "text/plain": [
       "array([28000. , 58233.2])"
      ]
     },
     "execution_count": 38,
     "metadata": {},
     "output_type": "execute_result"
    }
   ],
   "source": [
    "np.percentile(orders['revenue'], [95, 99])"
   ]
  },
  {
   "cell_type": "markdown",
   "metadata": {},
   "source": [
    "Не более, чем у  5% заказов чек дороже 28 000 рублей. И не больше, чем у 1% - дороже 58233 рубля"
   ]
  },
  {
   "cell_type": "markdown",
   "metadata": {},
   "source": [
    "### Подсчёт статистической значимости различий в конверсии между группами по «сырым» данным."
   ]
  },
  {
   "cell_type": "markdown",
   "metadata": {},
   "source": [
    "Первым делом составим нулевую и альтернативную гипотезы.\n",
    "\n",
    "H₀(нулевая гипотеза) всегда формулируется так, что иcпользовать знак равенства(=)."
   ]
  },
  {
   "cell_type": "markdown",
   "metadata": {},
   "source": [
    " - H₀ - Вероятность того, что наблюдение из популяции B превышает наблюдение из популяции A равна 50%\n",
    " - H₁ - Вероятность того, что наблюдение из популяции B превышает наблюдение из популяции A не равна 50%"
   ]
  },
  {
   "cell_type": "markdown",
   "metadata": {},
   "source": [
    "Посчитаем статистическую значимость различий в конверсии и среднем чеке между группами по «сырым» данным — без удаления аномальных пользователей."
   ]
  },
  {
   "cell_type": "code",
   "execution_count": 39,
   "metadata": {},
   "outputs": [
    {
     "data": {
      "text/html": [
       "<div>\n",
       "<style scoped>\n",
       "    .dataframe tbody tr th:only-of-type {\n",
       "        vertical-align: middle;\n",
       "    }\n",
       "\n",
       "    .dataframe tbody tr th {\n",
       "        vertical-align: top;\n",
       "    }\n",
       "\n",
       "    .dataframe thead th {\n",
       "        text-align: right;\n",
       "    }\n",
       "</style>\n",
       "<table border=\"1\" class=\"dataframe\">\n",
       "  <thead>\n",
       "    <tr style=\"text-align: right;\">\n",
       "      <th></th>\n",
       "      <th>date</th>\n",
       "      <th>ordersPerDateA</th>\n",
       "      <th>revenuePerDateA</th>\n",
       "      <th>ordersPerDateB</th>\n",
       "      <th>revenuePerDateB</th>\n",
       "      <th>ordersCummulativeA</th>\n",
       "      <th>revenueCummulativeA</th>\n",
       "      <th>ordersCummulativeB</th>\n",
       "      <th>revenueCummulativeB</th>\n",
       "      <th>visitorsPerDateA</th>\n",
       "      <th>visitorsPerDateB</th>\n",
       "      <th>visitorsCummulativeA</th>\n",
       "      <th>visitorsCummulativeB</th>\n",
       "    </tr>\n",
       "  </thead>\n",
       "  <tbody>\n",
       "    <tr>\n",
       "      <td>0</td>\n",
       "      <td>2019-08-01</td>\n",
       "      <td>24</td>\n",
       "      <td>148579</td>\n",
       "      <td>21</td>\n",
       "      <td>101217</td>\n",
       "      <td>24</td>\n",
       "      <td>148579</td>\n",
       "      <td>21</td>\n",
       "      <td>101217</td>\n",
       "      <td>719</td>\n",
       "      <td>713</td>\n",
       "      <td>719</td>\n",
       "      <td>713</td>\n",
       "    </tr>\n",
       "    <tr>\n",
       "      <td>1</td>\n",
       "      <td>2019-08-02</td>\n",
       "      <td>20</td>\n",
       "      <td>93822</td>\n",
       "      <td>24</td>\n",
       "      <td>165531</td>\n",
       "      <td>44</td>\n",
       "      <td>242401</td>\n",
       "      <td>45</td>\n",
       "      <td>266748</td>\n",
       "      <td>619</td>\n",
       "      <td>581</td>\n",
       "      <td>1338</td>\n",
       "      <td>1294</td>\n",
       "    </tr>\n",
       "    <tr>\n",
       "      <td>2</td>\n",
       "      <td>2019-08-03</td>\n",
       "      <td>24</td>\n",
       "      <td>112473</td>\n",
       "      <td>16</td>\n",
       "      <td>114248</td>\n",
       "      <td>68</td>\n",
       "      <td>354874</td>\n",
       "      <td>61</td>\n",
       "      <td>380996</td>\n",
       "      <td>507</td>\n",
       "      <td>509</td>\n",
       "      <td>1845</td>\n",
       "      <td>1803</td>\n",
       "    </tr>\n",
       "    <tr>\n",
       "      <td>3</td>\n",
       "      <td>2019-08-04</td>\n",
       "      <td>16</td>\n",
       "      <td>70825</td>\n",
       "      <td>17</td>\n",
       "      <td>108571</td>\n",
       "      <td>84</td>\n",
       "      <td>425699</td>\n",
       "      <td>78</td>\n",
       "      <td>489567</td>\n",
       "      <td>717</td>\n",
       "      <td>770</td>\n",
       "      <td>2562</td>\n",
       "      <td>2573</td>\n",
       "    </tr>\n",
       "    <tr>\n",
       "      <td>4</td>\n",
       "      <td>2019-08-05</td>\n",
       "      <td>25</td>\n",
       "      <td>124218</td>\n",
       "      <td>23</td>\n",
       "      <td>92428</td>\n",
       "      <td>109</td>\n",
       "      <td>549917</td>\n",
       "      <td>101</td>\n",
       "      <td>581995</td>\n",
       "      <td>756</td>\n",
       "      <td>707</td>\n",
       "      <td>3318</td>\n",
       "      <td>3280</td>\n",
       "    </tr>\n",
       "  </tbody>\n",
       "</table>\n",
       "</div>"
      ],
      "text/plain": [
       "        date  ordersPerDateA  revenuePerDateA  ordersPerDateB  \\\n",
       "0 2019-08-01              24           148579              21   \n",
       "1 2019-08-02              20            93822              24   \n",
       "2 2019-08-03              24           112473              16   \n",
       "3 2019-08-04              16            70825              17   \n",
       "4 2019-08-05              25           124218              23   \n",
       "\n",
       "   revenuePerDateB  ordersCummulativeA  revenueCummulativeA  \\\n",
       "0           101217                  24               148579   \n",
       "1           165531                  44               242401   \n",
       "2           114248                  68               354874   \n",
       "3           108571                  84               425699   \n",
       "4            92428                 109               549917   \n",
       "\n",
       "   ordersCummulativeB  revenueCummulativeB  visitorsPerDateA  \\\n",
       "0                  21               101217               719   \n",
       "1                  45               266748               619   \n",
       "2                  61               380996               507   \n",
       "3                  78               489567               717   \n",
       "4                 101               581995               756   \n",
       "\n",
       "   visitorsPerDateB  visitorsCummulativeA  visitorsCummulativeB  \n",
       "0               713                   719                   713  \n",
       "1               581                  1338                  1294  \n",
       "2               509                  1845                  1803  \n",
       "3               770                  2562                  2573  \n",
       "4               707                  3318                  3280  "
      ]
     },
     "execution_count": 39,
     "metadata": {},
     "output_type": "execute_result"
    }
   ],
   "source": [
    "visitorsADaily = visitors[visitors['group'] == 'A'][['date', 'visitors']]\n",
    "visitorsADaily.columns = ['date', 'visitorsPerDateA']\n",
    "\n",
    "visitorsACummulative = visitorsADaily.apply(\n",
    "    lambda x: visitorsADaily[visitorsADaily['date'] <= x['date']].agg(\n",
    "        {'date': 'max', 'visitorsPerDateA': 'sum'}\n",
    "    ),\n",
    "    axis=1,\n",
    ")\n",
    "visitorsACummulative.columns = ['date', 'visitorsCummulativeA']\n",
    "\n",
    "visitorsBDaily = visitors[visitors['group'] == 'B'][['date', 'visitors']]\n",
    "visitorsBDaily.columns = ['date', 'visitorsPerDateB']\n",
    "\n",
    "visitorsBCummulative = visitorsBDaily.apply(\n",
    "    lambda x: visitorsBDaily[visitorsBDaily['date'] <= x['date']].agg(\n",
    "        {'date': 'max', 'visitorsPerDateB': 'sum'}\n",
    "    ),\n",
    "    axis=1,\n",
    ")\n",
    "visitorsBCummulative.columns = ['date', 'visitorsCummulativeB']\n",
    "\n",
    "ordersADaily = (\n",
    "    orders[orders['group'] == 'A'][['date', 'transactionId', 'visitorId', 'revenue']]\n",
    "    .groupby('date', as_index=False)\n",
    "    .agg({'transactionId': pd.Series.nunique, 'revenue': 'sum'})\n",
    ")\n",
    "ordersADaily.columns = ['date', 'ordersPerDateA', 'revenuePerDateA']\n",
    "\n",
    "ordersACummulative = ordersADaily.apply(\n",
    "    lambda x: ordersADaily[ordersADaily['date'] <= x['date']].agg(\n",
    "        {'date': 'max', 'ordersPerDateA': 'sum', 'revenuePerDateA': 'sum'}\n",
    "    ),\n",
    "    axis=1,\n",
    ").sort_values(by=['date'])\n",
    "ordersACummulative.columns = [\n",
    "    'date',\n",
    "    'ordersCummulativeA',\n",
    "    'revenueCummulativeA',\n",
    "]\n",
    "\n",
    "ordersBDaily = (\n",
    "    orders[orders['group'] == 'B'][['date', 'transactionId', 'visitorId', 'revenue']]\n",
    "    .groupby('date', as_index=False)\n",
    "    .agg({'transactionId': pd.Series.nunique, 'revenue': 'sum'})\n",
    ")\n",
    "\n",
    "ordersBDaily.columns = ['date', 'ordersPerDateB', 'revenuePerDateB']\n",
    "\n",
    "ordersBCummulative = ordersBDaily.apply(\n",
    "    lambda x: ordersBDaily[ordersBDaily['date'] <= x['date']].agg(\n",
    "        {'date': 'max', 'ordersPerDateB': 'sum', 'revenuePerDateB': 'sum'}\n",
    "    ),\n",
    "    axis=1,\n",
    ").sort_values(by=['date'])\n",
    "ordersBCummulative.columns = [\n",
    "    'date',\n",
    "    'ordersCummulativeB',\n",
    "    'revenueCummulativeB',\n",
    "]\n",
    "\n",
    "data = (\n",
    "    ordersADaily.merge(\n",
    "        ordersBDaily, left_on='date', right_on='date', how='left'\n",
    "    )\n",
    "    .merge(ordersACummulative, left_on='date', right_on='date', how='left')\n",
    "    .merge(ordersBCummulative, left_on='date', right_on='date', how='left')\n",
    "    .merge(visitorsADaily, left_on='date', right_on='date', how='left')\n",
    "    .merge(visitorsBDaily, left_on='date', right_on='date', how='left')\n",
    "    .merge(visitorsACummulative, left_on='date', right_on='date', how='left')\n",
    "    .merge(visitorsBCummulative, left_on='date', right_on='date', how='left')\n",
    ")\n",
    "data.head()"
   ]
  },
  {
   "cell_type": "markdown",
   "metadata": {},
   "source": [
    "- `date` — дата;\n",
    "- `ordersPerDateA` — количество заказов в выбранную дату в группе A;\n",
    "- `revenuePerDateA` — суммарная выручка в выбранную дату в группе A;\n",
    "- `ordersPerDateB` — количество заказов в выбранную дату в группе B;\n",
    "- `revenuePerDateB` — суммарная выручка в выбранную дату в группе B;\n",
    "- `ordersCummulativeA` — суммарное число заказов до выбранной даты включительно в группе A;\n",
    "- `revenueCummulativeA` — суммарная выручка до выбранной даты включительно в группе A;\n",
    "- `ordersCummulativeB` — суммарное количество заказов до выбранной даты включительно в группе B;\n",
    "- `revenueCummulativeB` — суммарная выручка до выбранной даты включительно в группе B;\n",
    "- `visitorsPerDateA` — количество пользователей в выбранную дату в группе A;\n",
    "- `visitorsPerDateB` — количество пользователей в выбранную дату в группе B;\n",
    "- `visitorsCummulativeA` — количество пользователей до выбранной даты включительно в группе A;\n",
    "- `visitorsCummulativeB` — количество пользователей до выбранной даты включительно в группе B."
   ]
  },
  {
   "cell_type": "code",
   "execution_count": 40,
   "metadata": {},
   "outputs": [],
   "source": [
    "ordersByUsersA = (\n",
    "    orders[orders['group'] == 'A']\n",
    "    .groupby('visitorId', as_index=False)\n",
    "    .agg({'transactionId': pd.Series.nunique})\n",
    ")\n",
    "ordersByUsersA.columns = ['userId', 'orders']\n",
    "\n",
    "ordersByUsersB = (\n",
    "    orders[orders['group'] == 'B']\n",
    "    .groupby('visitorId', as_index=False)\n",
    "    .agg({'transactionId': pd.Series.nunique})\n",
    ")\n",
    "ordersByUsersB.columns = ['userId', 'orders'] "
   ]
  },
  {
   "cell_type": "code",
   "execution_count": 41,
   "metadata": {},
   "outputs": [],
   "source": [
    "pd.Series(0, index=np.arange(data['visitorsPerDateA'].sum() - len(ordersByUsersA['orders'])), name='orders')\n",
    "\n",
    "\n",
    "sampleA = pd.concat([ordersByUsersA['orders'],pd.Series(0, index=np.arange(data['visitorsPerDateA'].sum() - len(ordersByUsersA['orders'])), name='orders')],axis=0)\n",
    "\n",
    "sampleB = pd.concat([ordersByUsersB['orders'],pd.Series(0, index=np.arange(data['visitorsPerDateB'].sum() - len(ordersByUsersB['orders'])), name='orders')],axis=0) "
   ]
  },
  {
   "cell_type": "code",
   "execution_count": 42,
   "metadata": {},
   "outputs": [],
   "source": [
    "sampleA = pd.concat(\n",
    "    [\n",
    "        ordersByUsersA['orders'],\n",
    "        pd.Series(\n",
    "            0,\n",
    "            index=np.arange(\n",
    "                data['visitorsPerDateA'].sum() - len(ordersByUsersA['orders'])\n",
    "            ),\n",
    "            name='orders',\n",
    "        ),\n",
    "    ],\n",
    "    axis=0,\n",
    ")\n",
    "\n",
    "sampleB = pd.concat(\n",
    "    [\n",
    "        ordersByUsersB['orders'],\n",
    "        pd.Series(\n",
    "            0,\n",
    "            index=np.arange(\n",
    "                data['visitorsPerDateB'].sum() - len(ordersByUsersB['orders'])\n",
    "            ),\n",
    "            name='orders',\n",
    "        ),\n",
    "    ],\n",
    "    axis=0,\n",
    ")"
   ]
  },
  {
   "cell_type": "code",
   "execution_count": 43,
   "metadata": {},
   "outputs": [
    {
     "name": "stdout",
     "output_type": "stream",
     "text": [
      "0.00840\n",
      "0.138\n"
     ]
    }
   ],
   "source": [
    "print(\"{0:.5f}\".format(stats.mannwhitneyu(sampleA, sampleB)[1]))\n",
    "\n",
    "print(\"{0:.3f}\".format(sampleB.mean() / sampleA.mean() - 1))"
   ]
  },
  {
   "cell_type": "markdown",
   "metadata": {},
   "source": [
    "P-value значиительно меньше 0.05, поэтому нулевую гипотезу отвергаем. Анализ \"сырых\" данных сообщает, что в конверсии между группами есть статистически значимые различия. Отдельный прирост конверсии группы В к конверсии группы А равен 13.8% (нулевая гипотеза всегда приравнивает, значит Н1 - статистически значимые различий в группах имеются)"
   ]
  },
  {
   "cell_type": "markdown",
   "metadata": {},
   "source": [
    "### Подсчёт статистической значимости различий в среднем чеке заказа между группами по «сырым» данным."
   ]
  },
  {
   "cell_type": "markdown",
   "metadata": {},
   "source": [
    " - H₀ - Средний чек A равен среднему чеку группы B\n",
    " - H₁ - Средний чек A  НЕ равен среднему чеку группы B"
   ]
  },
  {
   "cell_type": "markdown",
   "metadata": {},
   "source": [
    "Посчитаем статистическую значимость различия средних чеков между группами.\n",
    "\n",
    "Выведем p-value для сравнения средних чеков между группами.\n",
    "\n",
    "Выведем относительный прирост среднего чека группы B."
   ]
  },
  {
   "cell_type": "code",
   "execution_count": 44,
   "metadata": {},
   "outputs": [
    {
     "name": "stdout",
     "output_type": "stream",
     "text": [
      "0.365\n",
      "0.259\n"
     ]
    }
   ],
   "source": [
    "print('{0:.3f}'.format(stats.mannwhitneyu(orders[orders['group']=='A']['revenue'], orders[orders['group']=='B']['revenue'])[1]))\n",
    "print('{0:.3f}'.format(orders[orders['group']=='B']['revenue'].mean()/orders[orders['group']=='A']['revenue'].mean()-1)) "
   ]
  },
  {
   "cell_type": "markdown",
   "metadata": {},
   "source": [
    "P-value больше 0.05 - статистически значимых отличий в среднем чеке между группами нету. Принимаем гипотезу.  \n",
    "\n",
    "\n",
    "Кроме того, относительное различие среднего чека между сегментами = 25.9%, это много. Вероятнее всего, тут аномалии с двух сторон, с которыми следует поработать."
   ]
  },
  {
   "cell_type": "markdown",
   "metadata": {},
   "source": [
    "### Очистка данных"
   ]
  },
  {
   "cell_type": "markdown",
   "metadata": {},
   "source": [
    "95 и 99 перцентили средних чеков равны 28000 и 58233 рублям. 95 и 99 перцентили числа заказов на одного\n",
    "\n",
    "Примем за аномальных пользователей тех, кто совершил более 2 заказа и более или совершил заказ на сумму свыше 28 000 рублей.\n",
    "\n",
    "Сначала определить аномальные заказы, затем пользователей, совершивших их и добавим их в список аномальных.\n"
   ]
  },
  {
   "cell_type": "code",
   "execution_count": 45,
   "metadata": {},
   "outputs": [],
   "source": [
    "usersWithManyOrders = pd.concat(\n",
    "    [\n",
    "        ordersByUsersA[ordersByUsersA['orders'] > 2]['userId'],\n",
    "        ordersByUsersB[ordersByUsersB['orders'] > 2]['userId'],\n",
    "    ],\n",
    "    axis=0,\n",
    ")"
   ]
  },
  {
   "cell_type": "code",
   "execution_count": 46,
   "metadata": {},
   "outputs": [],
   "source": [
    "usersWithExpensiveOrders = orders[orders['revenue'] > 28000]['visitorId']"
   ]
  },
  {
   "cell_type": "code",
   "execution_count": 47,
   "metadata": {},
   "outputs": [],
   "source": [
    "abnormalUsers = (\n",
    "    pd.concat([usersWithManyOrders, usersWithExpensiveOrders], axis=0)\n",
    "    .drop_duplicates()\n",
    "    .sort_values()\n",
    ")"
   ]
  },
  {
   "cell_type": "code",
   "execution_count": 48,
   "metadata": {},
   "outputs": [
    {
     "name": "stdout",
     "output_type": "stream",
     "text": [
      "1099    148427295\n",
      "18      199603092\n",
      "928     204675465\n",
      "23      237748145\n",
      "37      249864742\n",
      "dtype: int64\n"
     ]
    }
   ],
   "source": [
    "print(abnormalUsers.head())"
   ]
  },
  {
   "cell_type": "code",
   "execution_count": 49,
   "metadata": {},
   "outputs": [
    {
     "data": {
      "text/plain": [
       "(74,)"
      ]
     },
     "execution_count": 49,
     "metadata": {},
     "output_type": "execute_result"
    }
   ],
   "source": [
    "#Посчитаем кол-во аномальных юзеров\n",
    "abnormalUsers.shape"
   ]
  },
  {
   "cell_type": "markdown",
   "metadata": {},
   "source": [
    "Мы нашли 74 аномальных пользователя. Псле их удаления посчитаем стат. значимость. Выясним, если ли разница до/после очищения от аномальний"
   ]
  },
  {
   "cell_type": "markdown",
   "metadata": {},
   "source": [
    "### Подсчёт статистической значимоси различий в конверсии между группами по «очищенным» данным."
   ]
  },
  {
   "cell_type": "markdown",
   "metadata": {},
   "source": [
    " - H₀ - Вероятность того, что наблюдение из популяции B превышает наблюдение из популяции A равна 50%\n",
    " - H₁ - Вероятность того, что наблюдение из популяции B превышает наблюдение из популяции A не равна 50%"
   ]
  },
  {
   "cell_type": "markdown",
   "metadata": {},
   "source": [
    "Выясним, есть ли существенные различия межу группами с очищенными данными"
   ]
  },
  {
   "cell_type": "markdown",
   "metadata": {},
   "source": [
    "Посчитаем статистическую значимость различия средних чеков после удаления аномальных пользователей."
   ]
  },
  {
   "cell_type": "markdown",
   "metadata": {},
   "source": [
    "**Объявим переменные `sampleAFiltered` и `sampleBFiltered`, в которых сохраним очищенные данные о заказах — не включая аномальных пользователей.**"
   ]
  },
  {
   "cell_type": "code",
   "execution_count": 50,
   "metadata": {},
   "outputs": [],
   "source": [
    "sampleAFiltered = pd.concat(\n",
    "    [\n",
    "        ordersByUsersA[\n",
    "            np.logical_not(ordersByUsersA['userId'].isin(abnormalUsers))\n",
    "        ]['orders'],\n",
    "        pd.Series(\n",
    "            0,\n",
    "            index=np.arange(\n",
    "                data['visitorsPerDateA'].sum() - len(ordersByUsersA['orders'])\n",
    "            ),\n",
    "            name='orders',\n",
    "        ),\n",
    "    ],\n",
    "    axis=0,\n",
    ")\n",
    "\n",
    "sampleBFiltered = pd.concat(\n",
    "    [\n",
    "        ordersByUsersB[\n",
    "            np.logical_not(ordersByUsersB['userId'].isin(abnormalUsers))\n",
    "        ]['orders'],\n",
    "        pd.Series(\n",
    "            0,\n",
    "            index=np.arange(\n",
    "                data['visitorsPerDateB'].sum() - len(ordersByUsersB['orders'])\n",
    "            ),\n",
    "            name='orders',\n",
    "        ),\n",
    "    ],\n",
    "    axis=0,\n",
    ")"
   ]
  },
  {
   "cell_type": "code",
   "execution_count": 51,
   "metadata": {},
   "outputs": [
    {
     "name": "stdout",
     "output_type": "stream",
     "text": [
      "0.00652\n",
      "0.173\n"
     ]
    }
   ],
   "source": [
    "print('{0:.5f}'.format(stats.mannwhitneyu(sampleAFiltered, sampleBFiltered)[1]))\n",
    "print('{0:.3f}'.format(sampleBFiltered.mean()/sampleAFiltered.mean()-1)) "
   ]
  },
  {
   "cell_type": "markdown",
   "metadata": {},
   "source": [
    "Как и в случае с сырыми данными, статистическая значимость достигнута. Сегмент `В` значительно лучше сегмента `А`. Отвергаем H₀"
   ]
  },
  {
   "cell_type": "markdown",
   "metadata": {},
   "source": [
    "### Подсчёт статистической значимости различий в среднем чеке заказа между группами по «очищенным» данным."
   ]
  },
  {
   "cell_type": "markdown",
   "metadata": {},
   "source": [
    " - H₀ - Средний чек A равен среднему чеку группы B\n",
    " - H₁ - Средний чек A  НЕ равен среднему чеку группы B"
   ]
  },
  {
   "cell_type": "code",
   "execution_count": 52,
   "metadata": {},
   "outputs": [
    {
     "name": "stdout",
     "output_type": "stream",
     "text": [
      "0.738\n"
     ]
    }
   ],
   "source": [
    "print(\n",
    "    '{0:.3f}'.format(\n",
    "        stats.mannwhitneyu(\n",
    "            orders[\n",
    "                np.logical_and(\n",
    "                    orders['group'] == 'A',\n",
    "                    np.logical_not(orders['visitorId'].isin(abnormalUsers)),\n",
    "                )\n",
    "            ]['revenue'],\n",
    "            orders[\n",
    "                np.logical_and(\n",
    "                    orders['group'] == 'B',\n",
    "                    np.logical_not(orders['visitorId'].isin(abnormalUsers)),\n",
    "                )\n",
    "            ]['revenue'], \n",
    "            True, # что бы задать 4ый параметр \n",
    "            'two-sided' # для двух-стороннего теста\n",
    "        )[1]\n",
    "    )\n",
    ")"
   ]
  },
  {
   "cell_type": "code",
   "execution_count": 53,
   "metadata": {},
   "outputs": [
    {
     "name": "stdout",
     "output_type": "stream",
     "text": [
      "-0.020\n"
     ]
    }
   ],
   "source": [
    "\n",
    "\n",
    "print(\n",
    "    \"{0:.3f}\".format(\n",
    "        orders[\n",
    "            np.logical_and(\n",
    "                orders['group'] == 'B',\n",
    "                np.logical_not(orders['visitorId'].isin(abnormalUsers)),\n",
    "            )\n",
    "        ]['revenue'].mean()\n",
    "        / orders[\n",
    "            np.logical_and(\n",
    "                orders['group'] == 'A',\n",
    "                np.logical_not(orders['visitorId'].isin(abnormalUsers)),\n",
    "            )\n",
    "        ]['revenue'].mean()\n",
    "        - 1\n",
    "    )\n",
    ")"
   ]
  },
  {
   "cell_type": "markdown",
   "metadata": {},
   "source": [
    "После очистки данных от аномалий p-value по среднему чеку не изменился т.е. статистически значимых отличий между группами нет. Относительное различие группы В относительно группы А, после очистки данных упало на 27.9%. И составляет всего 2% в пользу группы А. Отвергаем нулевую гипотезу"
   ]
  },
  {
   "cell_type": "markdown",
   "metadata": {},
   "source": [
    "## Выводы А/В теста"
   ]
  },
  {
   "cell_type": "markdown",
   "metadata": {},
   "source": [
    "- Есть статистически значимое различие по конверсии между группами как по сырым данным, так и после фильтрации аномалий.\n",
    "- Как по сырым, так и по отфильтрованным данным - нет статистически значимого различия по среднему чеку между группами"
   ]
  },
  {
   "cell_type": "markdown",
   "metadata": {},
   "source": [
    "**График различия конверсии между группами сообщает, что результаты группы B лучше группы A: имеют тенденцию к росту, либо зафиксировались около среднего значения (в 13%)**"
   ]
  },
  {
   "cell_type": "code",
   "execution_count": 54,
   "metadata": {},
   "outputs": [
    {
     "data": {
      "image/png": "[encoded data removed]",
      "text/plain": [
       "<Figure size 1080x360 with 1 Axes>"
      ]
     },
     "metadata": {
      "needs_background": "light"
     },
     "output_type": "display_data"
    }
   ],
   "source": [
    "# собираем данные в одном датафрейме\n",
    "mergedCumulativeRevenue = cumulativeRevenueA.merge(cumulativeRevenueB, left_on='date', right_on='date', how='left', suffixes=['A', 'B'])\n",
    "\n",
    "# cтроим отношение средних чеков\n",
    "plt.figure(figsize=(15,5))\n",
    "plt.plot(mergedCumulativeRevenue['date'], (mergedCumulativeRevenue['revenueB']/mergedCumulativeRevenue['ordersB'])/(mergedCumulativeRevenue['revenueA']/mergedCumulativeRevenue['ordersA'])-1)\n",
    "\n",
    "# добавляем ось X\n",
    "plt.axhline(y=0, color='red', linestyle='--') \n",
    "plt.title('График относительного изменения кумулятивного среднего чека группы B к группе A', size=23)\n",
    "plt.xlabel(\"Дата\", size=15)\n",
    "plt.grid()\n",
    "plt.show()"
   ]
  },
  {
   "cell_type": "markdown",
   "metadata": {},
   "source": [
    "**График различия среднего чека колеблется: он-то и позволил нам найти аномалии. Сделать из этого графика определённые выводы нельзя.**"
   ]
  },
  {
   "cell_type": "markdown",
   "metadata": {},
   "source": [
    "**При работе с дасетом были выполнены следующие действия:**\n",
    "\n",
    "\n",
    "\n",
    "1. Загрузили данные и предварительно с ними ознакомились.\n",
    "\n",
    "2. Провели предобработку данных, а именно:\n",
    " - Исправили заголовки столбцов и привели их к \"хорошему\" стилю\n",
    " - Изменили тип данных во всех трёх таблицах в столбцах с датами\n",
    " - Проверили таблицы на наличие дубликатов (дубликатов нет)\n",
    " - Проверили таблицы на наличие пропусков (пропуски отсутствуют)\n",
    "\n",
    "3. Провели приоритизацию гипотез:\n",
    " - Применили флеймворк `ICE`\n",
    " - Применили флеймворк `RICE`\n",
    " - Указали, как изменилась приоритизация гипотез\n",
    " \n",
    "4. Провери анализ А/В теста, а именно:\n",
    " - Построили график кумулятивной выручки по группам\n",
    " - Построили график кумулятивного среднего чека по группам\n",
    " - Построили график относительного изменения кумулятивного среднего чека группы B к группе A\n",
    " - Построили график кумулятивной конверсии по группам. Сделайте выводы и предположения.\n",
    " - Построили график относительного изменения кумулятивной конверсии группы B к группе A.\n",
    " - Построили точечный график количества заказов по пользователям\n",
    " - Посчитали перцентили количества заказов на пользователя\n",
    " - Построили точечный график стоимостей заказов\n",
    " - Посчитали перцентили стоимости заказов\n",
    " - Посчитали статистическую значимость различий в конверсии между группами по «сырым» данным\n",
    " - Посчитали статистическую значимость различий в среднем чеке заказа между группами по «сырым» данным\n",
    " - Произвели \"осчистку\" данных от аномалий\n",
    " - Посчитали статистическую значимость различий в конверсии между группами по «очищенным» данным\n",
    " - Посчитали статистическую значимость различий в среднем чеке заказа между группами по «очищенным» данным\n",
    "\n",
    "\n",
    "**Общий итог.**\n",
    " \n",
    "\n",
    "- Есть статистически значимое различие по конверсии между группами как по сырым данным, так и после фильтрации аномалий.\n",
    "\n",
    "\n",
    "- Как по сырым, так и по отфильтрованным данным - нет статистически значимого различия по среднему чеку между группами (раз p-value больше уровня значимости, то никаких отличий между группами нет. Выигрыш группы А в данном случае просто шум, случайность).\n",
    "\n",
    "\n",
    "- График различия конверсии между группами сообщает, что результаты группы B лучше группы A: имеют тенденцию к росту, либо зафиксировались около среднего значения (в 13%), после удаления аномалий - 17.3%\n",
    "\n",
    "\n",
    "После очистки данных от аномалий - конверсия так же стат значима (17%).  А разницы в чеках так же нету. Так бывает - пользователи могут начать покупать чаще, но, например, делать более мелкие покупки.\n",
    "\n",
    "**Исходя из обнаруженных фактов, тест следует остановить (Значения комулятивных метрик стабилизировались более менее) и признать его успешным. Средний чек не поменялся, а конверсия выросла. Группа В лучше чем А, т.к. конверсия больше, при одинаковом среднем чеке, соответственно группа В приносит больше денежных средств бизнесу. Перейти к проверке следующей гипотезы**"
   ]
  }
 ],
 "metadata": {
  "ExecuteTimeLog": [
   {
    "duration": 288,
    "start_time": "2022-02-03T10:46:12.123Z"
   },
   {
    "duration": 1239,
    "start_time": "2022-02-03T10:46:16.451Z"
   },
   {
    "duration": 70,
    "start_time": "2022-02-03T10:46:51.048Z"
   },
   {
    "duration": 3,
    "start_time": "2022-02-03T10:47:35.697Z"
   },
   {
    "duration": 27573,
    "start_time": "2022-02-03T10:48:10.994Z"
   },
   {
    "duration": 1884,
    "start_time": "2022-02-03T10:48:52.309Z"
   },
   {
    "duration": 71,
    "start_time": "2022-02-03T10:48:54.196Z"
   },
   {
    "duration": 2846,
    "start_time": "2022-02-03T10:48:54.272Z"
   },
   {
    "duration": 1446,
    "start_time": "2022-02-03T10:49:37.258Z"
   },
   {
    "duration": 17,
    "start_time": "2022-02-03T10:49:57.838Z"
   },
   {
    "duration": 6978,
    "start_time": "2022-02-03T10:50:18.377Z"
   },
   {
    "duration": 6,
    "start_time": "2022-02-03T10:50:33.854Z"
   },
   {
    "duration": 15,
    "start_time": "2022-02-03T10:50:35.450Z"
   },
   {
    "duration": 2886,
    "start_time": "2022-02-03T10:50:39.753Z"
   },
   {
    "duration": 3912,
    "start_time": "2022-02-03T10:50:50.605Z"
   },
   {
    "duration": 16,
    "start_time": "2022-02-03T10:50:58.271Z"
   },
   {
    "duration": 1823,
    "start_time": "2022-02-03T10:51:06.274Z"
   },
   {
    "duration": 71,
    "start_time": "2022-02-03T10:51:08.099Z"
   },
   {
    "duration": 2980,
    "start_time": "2022-02-03T10:51:08.172Z"
   },
   {
    "duration": 3290,
    "start_time": "2022-02-03T10:51:11.155Z"
   },
   {
    "duration": 1334,
    "start_time": "2022-02-03T10:51:14.448Z"
   },
   {
    "duration": 9741,
    "start_time": "2022-02-03T10:51:15.790Z"
   },
   {
    "duration": 7,
    "start_time": "2022-02-03T10:51:46.676Z"
   },
   {
    "duration": 2908,
    "start_time": "2022-02-03T10:51:59.831Z"
   },
   {
    "duration": 69,
    "start_time": "2022-02-03T10:52:02.743Z"
   },
   {
    "duration": 2791,
    "start_time": "2022-02-03T10:52:02.815Z"
   },
   {
    "duration": 3556,
    "start_time": "2022-02-03T10:52:05.609Z"
   },
   {
    "duration": 10585,
    "start_time": "2022-02-03T10:52:09.168Z"
   },
   {
    "duration": 8029,
    "start_time": "2022-02-03T10:52:56.137Z"
   },
   {
    "duration": 3744,
    "start_time": "2022-02-03T10:53:04.168Z"
   },
   {
    "duration": 7,
    "start_time": "2022-02-03T11:00:19.166Z"
   },
   {
    "duration": 5,
    "start_time": "2022-02-03T11:00:27.026Z"
   },
   {
    "duration": 6,
    "start_time": "2022-02-03T11:00:29.979Z"
   },
   {
    "duration": 5,
    "start_time": "2022-02-03T11:04:22.866Z"
   },
   {
    "duration": 4,
    "start_time": "2022-02-03T11:04:25.724Z"
   },
   {
    "duration": 3,
    "start_time": "2022-02-03T11:04:27.752Z"
   },
   {
    "duration": 5,
    "start_time": "2022-02-03T11:04:31.253Z"
   },
   {
    "duration": 73,
    "start_time": "2022-02-03T11:09:03.623Z"
   },
   {
    "duration": 6,
    "start_time": "2022-02-03T11:10:19.399Z"
   },
   {
    "duration": 6,
    "start_time": "2022-02-03T11:10:33.254Z"
   },
   {
    "duration": 6,
    "start_time": "2022-02-03T11:10:56.623Z"
   },
   {
    "duration": 98,
    "start_time": "2022-02-03T11:11:27.095Z"
   },
   {
    "duration": 14,
    "start_time": "2022-02-03T11:11:29.970Z"
   },
   {
    "duration": 17,
    "start_time": "2022-02-03T11:11:42.001Z"
   },
   {
    "duration": 10,
    "start_time": "2022-02-03T11:24:45.054Z"
   },
   {
    "duration": 12,
    "start_time": "2022-02-03T11:25:38.344Z"
   },
   {
    "duration": 391,
    "start_time": "2022-02-03T11:26:33.601Z"
   },
   {
    "duration": 300,
    "start_time": "2022-02-03T11:26:50.399Z"
   },
   {
    "duration": 342,
    "start_time": "2022-02-03T11:27:15.776Z"
   },
   {
    "duration": 4,
    "start_time": "2022-02-03T11:28:15.547Z"
   },
   {
    "duration": 12,
    "start_time": "2022-02-03T11:28:40.425Z"
   },
   {
    "duration": 2,
    "start_time": "2022-02-03T11:29:11.097Z"
   },
   {
    "duration": 227,
    "start_time": "2022-02-03T11:29:12.693Z"
   },
   {
    "duration": 4,
    "start_time": "2022-02-03T11:29:25.176Z"
   },
   {
    "duration": 13,
    "start_time": "2022-02-03T11:29:51.410Z"
   },
   {
    "duration": 12,
    "start_time": "2022-02-03T11:30:07.964Z"
   },
   {
    "duration": 14,
    "start_time": "2022-02-03T11:30:15.806Z"
   },
   {
    "duration": 5,
    "start_time": "2022-02-03T11:32:13.640Z"
   },
   {
    "duration": 13,
    "start_time": "2022-02-03T11:32:48.446Z"
   },
   {
    "duration": 17,
    "start_time": "2022-02-03T11:33:02.141Z"
   },
   {
    "duration": 11,
    "start_time": "2022-02-03T11:33:15.251Z"
   },
   {
    "duration": 66,
    "start_time": "2022-02-03T11:40:22.886Z"
   },
   {
    "duration": 977,
    "start_time": "2022-02-03T12:05:52.913Z"
   },
   {
    "duration": 7,
    "start_time": "2022-02-03T12:07:21.372Z"
   },
   {
    "duration": 365,
    "start_time": "2022-02-03T12:08:34.952Z"
   },
   {
    "duration": 2808,
    "start_time": "2022-02-03T12:09:22.663Z"
   },
   {
    "duration": 70,
    "start_time": "2022-02-03T12:09:25.473Z"
   },
   {
    "duration": 2780,
    "start_time": "2022-02-03T12:09:25.547Z"
   },
   {
    "duration": 3044,
    "start_time": "2022-02-03T12:09:28.329Z"
   },
   {
    "duration": 10053,
    "start_time": "2022-02-03T12:09:31.375Z"
   },
   {
    "duration": 8698,
    "start_time": "2022-02-03T12:09:41.430Z"
   },
   {
    "duration": 3785,
    "start_time": "2022-02-03T12:09:50.131Z"
   },
   {
    "duration": 6,
    "start_time": "2022-02-03T12:09:53.918Z"
   },
   {
    "duration": 7,
    "start_time": "2022-02-03T12:09:53.925Z"
   },
   {
    "duration": 11,
    "start_time": "2022-02-03T12:09:53.934Z"
   },
   {
    "duration": 21,
    "start_time": "2022-02-03T12:09:53.947Z"
   },
   {
    "duration": 15,
    "start_time": "2022-02-03T12:09:54.008Z"
   },
   {
    "duration": 14,
    "start_time": "2022-02-03T12:09:54.025Z"
   },
   {
    "duration": 8,
    "start_time": "2022-02-03T12:09:54.041Z"
   },
   {
    "duration": 21,
    "start_time": "2022-02-03T12:09:54.051Z"
   },
   {
    "duration": 9,
    "start_time": "2022-02-03T12:09:54.075Z"
   },
   {
    "duration": 30,
    "start_time": "2022-02-03T12:09:54.086Z"
   },
   {
    "duration": 13,
    "start_time": "2022-02-03T12:09:54.119Z"
   },
   {
    "duration": 559,
    "start_time": "2022-02-03T12:09:54.134Z"
   },
   {
    "duration": 15,
    "start_time": "2022-02-03T12:10:28.183Z"
   },
   {
    "duration": 257,
    "start_time": "2022-02-03T12:11:15.661Z"
   },
   {
    "duration": 175,
    "start_time": "2022-02-03T12:12:24.371Z"
   },
   {
    "duration": 13,
    "start_time": "2022-02-03T12:16:43.778Z"
   },
   {
    "duration": 126,
    "start_time": "2022-02-03T12:18:59.160Z"
   },
   {
    "duration": 11,
    "start_time": "2022-02-03T12:19:03.662Z"
   },
   {
    "duration": 7,
    "start_time": "2022-02-03T12:21:20.067Z"
   },
   {
    "duration": 6,
    "start_time": "2022-02-03T12:22:29.032Z"
   },
   {
    "duration": 3,
    "start_time": "2022-02-03T12:22:58.395Z"
   },
   {
    "duration": 14,
    "start_time": "2022-02-03T12:29:45.072Z"
   },
   {
    "duration": 6,
    "start_time": "2022-02-03T12:33:56.108Z"
   },
   {
    "duration": 5,
    "start_time": "2022-02-03T12:34:09.624Z"
   },
   {
    "duration": 6,
    "start_time": "2022-02-03T12:35:10.657Z"
   },
   {
    "duration": 335,
    "start_time": "2022-02-03T12:35:46.427Z"
   },
   {
    "duration": 354,
    "start_time": "2022-02-03T12:35:51.653Z"
   },
   {
    "duration": 468,
    "start_time": "2022-02-03T12:36:15.225Z"
   },
   {
    "duration": 370,
    "start_time": "2022-02-03T12:36:21.440Z"
   },
   {
    "duration": 350,
    "start_time": "2022-02-03T12:36:24.713Z"
   },
   {
    "duration": 361,
    "start_time": "2022-02-03T12:36:28.181Z"
   },
   {
    "duration": 370,
    "start_time": "2022-02-03T12:36:35.666Z"
   },
   {
    "duration": 348,
    "start_time": "2022-02-03T12:36:44.629Z"
   },
   {
    "duration": 363,
    "start_time": "2022-02-03T12:37:20.160Z"
   },
   {
    "duration": 624,
    "start_time": "2022-02-03T12:37:26.094Z"
   },
   {
    "duration": 287,
    "start_time": "2022-02-03T12:37:29.220Z"
   },
   {
    "duration": 288,
    "start_time": "2022-02-03T12:37:38.231Z"
   },
   {
    "duration": 340,
    "start_time": "2022-02-03T12:37:49.172Z"
   },
   {
    "duration": 325,
    "start_time": "2022-02-03T12:37:57.591Z"
   },
   {
    "duration": 356,
    "start_time": "2022-02-03T12:38:02.069Z"
   },
   {
    "duration": 302,
    "start_time": "2022-02-03T12:38:09.231Z"
   },
   {
    "duration": 357,
    "start_time": "2022-02-03T12:38:14.682Z"
   },
   {
    "duration": 309,
    "start_time": "2022-02-03T12:38:18.936Z"
   },
   {
    "duration": 318,
    "start_time": "2022-02-03T12:38:23.523Z"
   },
   {
    "duration": 304,
    "start_time": "2022-02-03T12:38:33.034Z"
   },
   {
    "duration": 316,
    "start_time": "2022-02-03T12:40:15.575Z"
   },
   {
    "duration": 290,
    "start_time": "2022-02-03T12:40:28.834Z"
   },
   {
    "duration": 225,
    "start_time": "2022-02-03T12:40:40.463Z"
   },
   {
    "duration": 228,
    "start_time": "2022-02-03T12:40:46.922Z"
   },
   {
    "duration": 326,
    "start_time": "2022-02-03T12:40:51.222Z"
   },
   {
    "duration": 590,
    "start_time": "2022-02-03T12:41:00.982Z"
   },
   {
    "duration": 305,
    "start_time": "2022-02-03T12:41:09.449Z"
   },
   {
    "duration": 106,
    "start_time": "2022-02-03T12:42:47.478Z"
   },
   {
    "duration": 307,
    "start_time": "2022-02-03T12:43:00.311Z"
   },
   {
    "duration": 741,
    "start_time": "2022-02-03T14:51:16.071Z"
   },
   {
    "duration": 292,
    "start_time": "2022-02-03T14:52:24.234Z"
   },
   {
    "duration": 317,
    "start_time": "2022-02-03T14:53:59.256Z"
   },
   {
    "duration": 315,
    "start_time": "2022-02-03T14:54:53.373Z"
   },
   {
    "duration": 815,
    "start_time": "2022-02-03T14:55:09.829Z"
   },
   {
    "duration": 321,
    "start_time": "2022-02-03T14:55:18.653Z"
   },
   {
    "duration": 306,
    "start_time": "2022-02-03T14:55:33.614Z"
   },
   {
    "duration": 492,
    "start_time": "2022-02-03T14:55:55.644Z"
   },
   {
    "duration": 313,
    "start_time": "2022-02-03T14:56:36.908Z"
   },
   {
    "duration": 340,
    "start_time": "2022-02-03T15:02:52.133Z"
   },
   {
    "duration": 333,
    "start_time": "2022-02-03T15:03:06.767Z"
   },
   {
    "duration": 339,
    "start_time": "2022-02-03T15:03:20.817Z"
   },
   {
    "duration": 334,
    "start_time": "2022-02-03T15:03:45.910Z"
   },
   {
    "duration": 336,
    "start_time": "2022-02-03T15:04:28.304Z"
   },
   {
    "duration": 316,
    "start_time": "2022-02-03T15:04:41.532Z"
   },
   {
    "duration": 326,
    "start_time": "2022-02-03T15:05:00.332Z"
   },
   {
    "duration": 541,
    "start_time": "2022-02-03T15:05:18.366Z"
   },
   {
    "duration": 391,
    "start_time": "2022-02-03T15:05:21.792Z"
   },
   {
    "duration": 373,
    "start_time": "2022-02-03T15:08:43.562Z"
   },
   {
    "duration": 337,
    "start_time": "2022-02-03T15:09:12.511Z"
   },
   {
    "duration": 342,
    "start_time": "2022-02-03T15:09:32.215Z"
   },
   {
    "duration": 11,
    "start_time": "2022-02-03T15:10:41.953Z"
   },
   {
    "duration": 217,
    "start_time": "2022-02-03T15:11:00.194Z"
   },
   {
    "duration": 11,
    "start_time": "2022-02-03T15:11:15.808Z"
   },
   {
    "duration": 9,
    "start_time": "2022-02-03T15:11:24.951Z"
   },
   {
    "duration": 10,
    "start_time": "2022-02-03T15:11:49.270Z"
   },
   {
    "duration": 10,
    "start_time": "2022-02-03T15:11:53.694Z"
   },
   {
    "duration": 6,
    "start_time": "2022-02-03T15:13:08.713Z"
   },
   {
    "duration": 6,
    "start_time": "2022-02-03T15:13:16.963Z"
   },
   {
    "duration": 6,
    "start_time": "2022-02-03T15:13:26.904Z"
   },
   {
    "duration": 5,
    "start_time": "2022-02-03T15:14:01.149Z"
   },
   {
    "duration": 593,
    "start_time": "2022-02-03T15:17:28.440Z"
   },
   {
    "duration": 530,
    "start_time": "2022-02-03T15:18:17.396Z"
   },
   {
    "duration": 577,
    "start_time": "2022-02-03T15:19:06.550Z"
   },
   {
    "duration": 574,
    "start_time": "2022-02-03T15:19:32.025Z"
   },
   {
    "duration": 2952,
    "start_time": "2022-02-03T15:19:37.439Z"
   },
   {
    "duration": 70,
    "start_time": "2022-02-03T15:19:40.393Z"
   },
   {
    "duration": 3,
    "start_time": "2022-02-03T15:19:40.466Z"
   },
   {
    "duration": 9,
    "start_time": "2022-02-03T15:19:40.471Z"
   },
   {
    "duration": 7,
    "start_time": "2022-02-03T15:19:40.482Z"
   },
   {
    "duration": 17,
    "start_time": "2022-02-03T15:19:40.491Z"
   },
   {
    "duration": 9,
    "start_time": "2022-02-03T15:19:40.510Z"
   },
   {
    "duration": 14,
    "start_time": "2022-02-03T15:19:40.522Z"
   },
   {
    "duration": 22,
    "start_time": "2022-02-03T15:19:40.539Z"
   },
   {
    "duration": 14,
    "start_time": "2022-02-03T15:19:40.563Z"
   },
   {
    "duration": 18,
    "start_time": "2022-02-03T15:19:40.579Z"
   },
   {
    "duration": 21,
    "start_time": "2022-02-03T15:19:40.600Z"
   },
   {
    "duration": 16,
    "start_time": "2022-02-03T15:19:40.623Z"
   },
   {
    "duration": 7,
    "start_time": "2022-02-03T15:19:40.641Z"
   },
   {
    "duration": 19,
    "start_time": "2022-02-03T15:19:40.651Z"
   },
   {
    "duration": 21,
    "start_time": "2022-02-03T15:19:40.672Z"
   },
   {
    "duration": 30,
    "start_time": "2022-02-03T15:19:40.695Z"
   },
   {
    "duration": 13,
    "start_time": "2022-02-03T15:19:40.727Z"
   },
   {
    "duration": 192,
    "start_time": "2022-02-03T15:19:40.742Z"
   },
   {
    "duration": 194,
    "start_time": "2022-02-03T15:19:40.936Z"
   },
   {
    "duration": 9,
    "start_time": "2022-02-03T15:19:41.133Z"
   },
   {
    "duration": 19,
    "start_time": "2022-02-03T15:19:41.144Z"
   },
   {
    "duration": 390,
    "start_time": "2022-02-03T15:19:41.166Z"
   },
   {
    "duration": 357,
    "start_time": "2022-02-03T15:19:41.559Z"
   },
   {
    "duration": 331,
    "start_time": "2022-02-03T15:19:41.918Z"
   },
   {
    "duration": 4,
    "start_time": "2022-02-03T15:19:42.251Z"
   },
   {
    "duration": 729,
    "start_time": "2022-02-03T15:19:42.257Z"
   },
   {
    "duration": 291,
    "start_time": "2022-02-03T15:21:15.419Z"
   },
   {
    "duration": 330,
    "start_time": "2022-02-03T15:22:33.482Z"
   },
   {
    "duration": 319,
    "start_time": "2022-02-03T15:22:48.518Z"
   },
   {
    "duration": 348,
    "start_time": "2022-02-03T15:23:43.979Z"
   },
   {
    "duration": 309,
    "start_time": "2022-02-03T15:23:52.054Z"
   },
   {
    "duration": 340,
    "start_time": "2022-02-03T15:24:05.583Z"
   },
   {
    "duration": 450,
    "start_time": "2022-02-03T15:24:08.664Z"
   },
   {
    "duration": 302,
    "start_time": "2022-02-03T15:24:14.315Z"
   },
   {
    "duration": 290,
    "start_time": "2022-02-03T15:24:20.338Z"
   },
   {
    "duration": 334,
    "start_time": "2022-02-03T15:24:27.721Z"
   },
   {
    "duration": 351,
    "start_time": "2022-02-03T15:24:32.797Z"
   },
   {
    "duration": 349,
    "start_time": "2022-02-03T15:32:05.876Z"
   },
   {
    "duration": 320,
    "start_time": "2022-02-03T15:32:27.276Z"
   },
   {
    "duration": 366,
    "start_time": "2022-02-03T15:40:59.423Z"
   },
   {
    "duration": 399,
    "start_time": "2022-02-03T15:41:09.027Z"
   },
   {
    "duration": 378,
    "start_time": "2022-02-03T15:41:15.333Z"
   },
   {
    "duration": 427,
    "start_time": "2022-02-03T15:41:52.685Z"
   },
   {
    "duration": 473,
    "start_time": "2022-02-03T15:42:17.440Z"
   },
   {
    "duration": 402,
    "start_time": "2022-02-03T15:42:20.765Z"
   },
   {
    "duration": 411,
    "start_time": "2022-02-03T15:42:41.306Z"
   },
   {
    "duration": 497,
    "start_time": "2022-02-03T15:43:08.668Z"
   },
   {
    "duration": 386,
    "start_time": "2022-02-03T15:43:54.352Z"
   },
   {
    "duration": 361,
    "start_time": "2022-02-03T15:44:01.926Z"
   },
   {
    "duration": 363,
    "start_time": "2022-02-03T15:44:09.193Z"
   },
   {
    "duration": 66,
    "start_time": "2022-02-03T15:45:06.270Z"
   },
   {
    "duration": 665,
    "start_time": "2022-02-03T15:45:44.690Z"
   },
   {
    "duration": 336,
    "start_time": "2022-02-03T15:45:56.821Z"
   },
   {
    "duration": 372,
    "start_time": "2022-02-03T15:46:23.748Z"
   },
   {
    "duration": 622,
    "start_time": "2022-02-03T15:47:09.932Z"
   },
   {
    "duration": 630,
    "start_time": "2022-02-03T15:47:21.645Z"
   },
   {
    "duration": 639,
    "start_time": "2022-02-03T15:48:23.897Z"
   },
   {
    "duration": 3156,
    "start_time": "2022-02-03T15:49:14.045Z"
   },
   {
    "duration": 68,
    "start_time": "2022-02-03T15:49:17.203Z"
   },
   {
    "duration": 3,
    "start_time": "2022-02-03T15:49:17.274Z"
   },
   {
    "duration": 6,
    "start_time": "2022-02-03T15:49:17.279Z"
   },
   {
    "duration": 9,
    "start_time": "2022-02-03T15:49:17.287Z"
   },
   {
    "duration": 8,
    "start_time": "2022-02-03T15:49:17.298Z"
   },
   {
    "duration": 6,
    "start_time": "2022-02-03T15:49:17.307Z"
   },
   {
    "duration": 12,
    "start_time": "2022-02-03T15:49:17.316Z"
   },
   {
    "duration": 6,
    "start_time": "2022-02-03T15:49:17.330Z"
   },
   {
    "duration": 11,
    "start_time": "2022-02-03T15:49:17.338Z"
   },
   {
    "duration": 27,
    "start_time": "2022-02-03T15:49:17.352Z"
   },
   {
    "duration": 18,
    "start_time": "2022-02-03T15:49:17.381Z"
   },
   {
    "duration": 12,
    "start_time": "2022-02-03T15:49:17.408Z"
   },
   {
    "duration": 6,
    "start_time": "2022-02-03T15:49:17.422Z"
   },
   {
    "duration": 20,
    "start_time": "2022-02-03T15:49:17.430Z"
   },
   {
    "duration": 12,
    "start_time": "2022-02-03T15:49:17.452Z"
   },
   {
    "duration": 16,
    "start_time": "2022-02-03T15:49:17.466Z"
   },
   {
    "duration": 27,
    "start_time": "2022-02-03T15:49:17.484Z"
   },
   {
    "duration": 177,
    "start_time": "2022-02-03T15:49:17.513Z"
   },
   {
    "duration": 153,
    "start_time": "2022-02-03T15:49:17.692Z"
   },
   {
    "duration": 7,
    "start_time": "2022-02-03T15:49:17.847Z"
   },
   {
    "duration": 20,
    "start_time": "2022-02-03T15:49:17.856Z"
   },
   {
    "duration": 351,
    "start_time": "2022-02-03T15:49:17.879Z"
   },
   {
    "duration": 311,
    "start_time": "2022-02-03T15:49:18.232Z"
   },
   {
    "duration": 366,
    "start_time": "2022-02-03T15:49:18.545Z"
   },
   {
    "duration": 4,
    "start_time": "2022-02-03T15:49:18.913Z"
   },
   {
    "duration": 297,
    "start_time": "2022-02-03T15:49:18.919Z"
   },
   {
    "duration": 386,
    "start_time": "2022-02-03T15:49:19.218Z"
   },
   {
    "duration": 9,
    "start_time": "2022-02-03T15:50:23.644Z"
   },
   {
    "duration": 77,
    "start_time": "2022-02-03T15:50:25.557Z"
   },
   {
    "duration": 596,
    "start_time": "2022-02-03T15:50:27.717Z"
   },
   {
    "duration": 370,
    "start_time": "2022-02-03T15:50:58.268Z"
   },
   {
    "duration": 435,
    "start_time": "2022-02-03T15:51:57.095Z"
   },
   {
    "duration": 310,
    "start_time": "2022-02-03T15:52:03.756Z"
   },
   {
    "duration": 307,
    "start_time": "2022-02-03T15:52:09.926Z"
   },
   {
    "duration": 331,
    "start_time": "2022-02-03T15:52:18.025Z"
   },
   {
    "duration": 511,
    "start_time": "2022-02-03T15:52:39.375Z"
   },
   {
    "duration": 398,
    "start_time": "2022-02-03T15:52:51.174Z"
   },
   {
    "duration": 351,
    "start_time": "2022-02-03T15:53:37.384Z"
   },
   {
    "duration": 365,
    "start_time": "2022-02-03T15:53:45.484Z"
   },
   {
    "duration": 828,
    "start_time": "2022-02-03T15:54:47.401Z"
   },
   {
    "duration": 333,
    "start_time": "2022-02-03T15:55:19.688Z"
   },
   {
    "duration": 301,
    "start_time": "2022-02-03T15:55:42.822Z"
   },
   {
    "duration": 318,
    "start_time": "2022-02-03T15:56:20.430Z"
   },
   {
    "duration": 323,
    "start_time": "2022-02-03T15:56:26.730Z"
   },
   {
    "duration": 334,
    "start_time": "2022-02-03T15:56:55.707Z"
   },
   {
    "duration": 3099,
    "start_time": "2022-02-04T10:36:10.616Z"
   },
   {
    "duration": -1183,
    "start_time": "2022-02-04T10:36:14.903Z"
   },
   {
    "duration": -1188,
    "start_time": "2022-02-04T10:36:14.910Z"
   },
   {
    "duration": -1195,
    "start_time": "2022-02-04T10:36:14.919Z"
   },
   {
    "duration": -1200,
    "start_time": "2022-02-04T10:36:14.925Z"
   },
   {
    "duration": -1205,
    "start_time": "2022-02-04T10:36:14.931Z"
   },
   {
    "duration": -1208,
    "start_time": "2022-02-04T10:36:14.936Z"
   },
   {
    "duration": -1214,
    "start_time": "2022-02-04T10:36:14.943Z"
   },
   {
    "duration": -1218,
    "start_time": "2022-02-04T10:36:14.948Z"
   },
   {
    "duration": -1224,
    "start_time": "2022-02-04T10:36:14.956Z"
   },
   {
    "duration": -1231,
    "start_time": "2022-02-04T10:36:14.964Z"
   },
   {
    "duration": -1236,
    "start_time": "2022-02-04T10:36:14.970Z"
   },
   {
    "duration": -1240,
    "start_time": "2022-02-04T10:36:14.975Z"
   },
   {
    "duration": -1246,
    "start_time": "2022-02-04T10:36:14.982Z"
   },
   {
    "duration": -1250,
    "start_time": "2022-02-04T10:36:14.987Z"
   },
   {
    "duration": -1253,
    "start_time": "2022-02-04T10:36:14.992Z"
   },
   {
    "duration": -1258,
    "start_time": "2022-02-04T10:36:14.998Z"
   },
   {
    "duration": -1264,
    "start_time": "2022-02-04T10:36:15.005Z"
   },
   {
    "duration": -1267,
    "start_time": "2022-02-04T10:36:15.010Z"
   },
   {
    "duration": -1272,
    "start_time": "2022-02-04T10:36:15.016Z"
   },
   {
    "duration": -1276,
    "start_time": "2022-02-04T10:36:15.021Z"
   },
   {
    "duration": -1286,
    "start_time": "2022-02-04T10:36:15.033Z"
   },
   {
    "duration": -1289,
    "start_time": "2022-02-04T10:36:15.038Z"
   },
   {
    "duration": -1293,
    "start_time": "2022-02-04T10:36:15.043Z"
   },
   {
    "duration": -1298,
    "start_time": "2022-02-04T10:36:15.049Z"
   },
   {
    "duration": -1301,
    "start_time": "2022-02-04T10:36:15.054Z"
   },
   {
    "duration": -1305,
    "start_time": "2022-02-04T10:36:15.059Z"
   },
   {
    "duration": -1307,
    "start_time": "2022-02-04T10:36:15.063Z"
   },
   {
    "duration": -1312,
    "start_time": "2022-02-04T10:36:15.069Z"
   },
   {
    "duration": 1890,
    "start_time": "2022-02-04T10:36:47.240Z"
   },
   {
    "duration": -1186,
    "start_time": "2022-02-04T10:36:50.322Z"
   },
   {
    "duration": -1199,
    "start_time": "2022-02-04T10:36:50.336Z"
   },
   {
    "duration": -1206,
    "start_time": "2022-02-04T10:36:50.345Z"
   },
   {
    "duration": -1209,
    "start_time": "2022-02-04T10:36:50.351Z"
   },
   {
    "duration": -1218,
    "start_time": "2022-02-04T10:36:50.362Z"
   },
   {
    "duration": -1222,
    "start_time": "2022-02-04T10:36:50.368Z"
   },
   {
    "duration": -1231,
    "start_time": "2022-02-04T10:36:50.379Z"
   },
   {
    "duration": -1233,
    "start_time": "2022-02-04T10:36:50.384Z"
   },
   {
    "duration": -1241,
    "start_time": "2022-02-04T10:36:50.394Z"
   },
   {
    "duration": -1245,
    "start_time": "2022-02-04T10:36:50.400Z"
   },
   {
    "duration": -1254,
    "start_time": "2022-02-04T10:36:50.411Z"
   },
   {
    "duration": -1276,
    "start_time": "2022-02-04T10:36:50.435Z"
   },
   {
    "duration": -1286,
    "start_time": "2022-02-04T10:36:50.447Z"
   },
   {
    "duration": -1290,
    "start_time": "2022-02-04T10:36:50.453Z"
   },
   {
    "duration": -1298,
    "start_time": "2022-02-04T10:36:50.464Z"
   },
   {
    "duration": -1302,
    "start_time": "2022-02-04T10:36:50.470Z"
   },
   {
    "duration": -1311,
    "start_time": "2022-02-04T10:36:50.481Z"
   },
   {
    "duration": -1254,
    "start_time": "2022-02-04T10:36:50.487Z"
   },
   {
    "duration": -1269,
    "start_time": "2022-02-04T10:36:50.504Z"
   },
   {
    "duration": -1279,
    "start_time": "2022-02-04T10:36:50.516Z"
   },
   {
    "duration": -1289,
    "start_time": "2022-02-04T10:36:50.529Z"
   },
   {
    "duration": -1292,
    "start_time": "2022-02-04T10:36:50.534Z"
   },
   {
    "duration": -1299,
    "start_time": "2022-02-04T10:36:50.543Z"
   },
   {
    "duration": -1303,
    "start_time": "2022-02-04T10:36:50.549Z"
   },
   {
    "duration": -1313,
    "start_time": "2022-02-04T10:36:50.561Z"
   },
   {
    "duration": -1313,
    "start_time": "2022-02-04T10:36:50.564Z"
   },
   {
    "duration": -1322,
    "start_time": "2022-02-04T10:36:50.575Z"
   },
   {
    "duration": -1325,
    "start_time": "2022-02-04T10:36:50.581Z"
   },
   {
    "duration": 1494,
    "start_time": "2022-02-04T10:37:27.840Z"
   },
   {
    "duration": 62,
    "start_time": "2022-02-04T10:37:29.338Z"
   },
   {
    "duration": 4,
    "start_time": "2022-02-04T10:37:29.403Z"
   },
   {
    "duration": 6,
    "start_time": "2022-02-04T10:37:29.409Z"
   },
   {
    "duration": 7,
    "start_time": "2022-02-04T10:37:29.417Z"
   },
   {
    "duration": 7,
    "start_time": "2022-02-04T10:37:29.426Z"
   },
   {
    "duration": 6,
    "start_time": "2022-02-04T10:37:29.435Z"
   },
   {
    "duration": 11,
    "start_time": "2022-02-04T10:37:29.444Z"
   },
   {
    "duration": 8,
    "start_time": "2022-02-04T10:37:29.458Z"
   },
   {
    "duration": 12,
    "start_time": "2022-02-04T10:37:29.468Z"
   },
   {
    "duration": 57,
    "start_time": "2022-02-04T10:37:29.483Z"
   },
   {
    "duration": 14,
    "start_time": "2022-02-04T10:37:29.543Z"
   },
   {
    "duration": 17,
    "start_time": "2022-02-04T10:37:29.560Z"
   },
   {
    "duration": 57,
    "start_time": "2022-02-04T10:37:29.580Z"
   },
   {
    "duration": 18,
    "start_time": "2022-02-04T10:37:29.641Z"
   },
   {
    "duration": 8,
    "start_time": "2022-02-04T10:37:29.662Z"
   },
   {
    "duration": 69,
    "start_time": "2022-02-04T10:37:29.673Z"
   },
   {
    "duration": 10,
    "start_time": "2022-02-04T10:37:29.745Z"
   },
   {
    "duration": 438,
    "start_time": "2022-02-04T10:37:29.758Z"
   },
   {
    "duration": 292,
    "start_time": "2022-02-04T10:37:30.198Z"
   },
   {
    "duration": 8,
    "start_time": "2022-02-04T10:37:30.492Z"
   },
   {
    "duration": 44,
    "start_time": "2022-02-04T10:37:30.503Z"
   },
   {
    "duration": 545,
    "start_time": "2022-02-04T10:37:30.552Z"
   },
   {
    "duration": 520,
    "start_time": "2022-02-04T10:37:31.100Z"
   },
   {
    "duration": 609,
    "start_time": "2022-02-04T10:37:31.623Z"
   },
   {
    "duration": 5,
    "start_time": "2022-02-04T10:37:32.235Z"
   },
   {
    "duration": 499,
    "start_time": "2022-02-04T10:37:32.243Z"
   },
   {
    "duration": 12,
    "start_time": "2022-02-04T10:37:32.744Z"
   },
   {
    "duration": 619,
    "start_time": "2022-02-04T10:37:32.759Z"
   },
   {
    "duration": 20,
    "start_time": "2022-02-04T10:43:03.856Z"
   },
   {
    "duration": 526,
    "start_time": "2022-02-04T10:43:50.134Z"
   },
   {
    "duration": 575,
    "start_time": "2022-02-04T10:46:30.145Z"
   },
   {
    "duration": 316,
    "start_time": "2022-02-04T10:46:39.191Z"
   },
   {
    "duration": 308,
    "start_time": "2022-02-04T10:46:59.473Z"
   },
   {
    "duration": 27,
    "start_time": "2022-02-04T10:47:10.423Z"
   },
   {
    "duration": 213,
    "start_time": "2022-02-04T10:48:33.959Z"
   },
   {
    "duration": 10,
    "start_time": "2022-02-04T10:49:31.434Z"
   },
   {
    "duration": 17,
    "start_time": "2022-02-04T10:50:02.355Z"
   },
   {
    "duration": 7331,
    "start_time": "2022-02-04T10:50:40.689Z"
   },
   {
    "duration": 279,
    "start_time": "2022-02-04T10:51:11.405Z"
   },
   {
    "duration": 241,
    "start_time": "2022-02-04T10:51:20.503Z"
   },
   {
    "duration": 250,
    "start_time": "2022-02-04T10:52:08.282Z"
   },
   {
    "duration": 294,
    "start_time": "2022-02-04T10:52:12.220Z"
   },
   {
    "duration": 231,
    "start_time": "2022-02-04T10:52:17.942Z"
   },
   {
    "duration": 261,
    "start_time": "2022-02-04T10:52:25.520Z"
   },
   {
    "duration": 262,
    "start_time": "2022-02-04T10:52:31.621Z"
   },
   {
    "duration": 263,
    "start_time": "2022-02-04T10:52:35.145Z"
   },
   {
    "duration": 279,
    "start_time": "2022-02-04T10:52:42.516Z"
   },
   {
    "duration": 252,
    "start_time": "2022-02-04T10:52:50.338Z"
   },
   {
    "duration": 338,
    "start_time": "2022-02-04T10:52:55.087Z"
   },
   {
    "duration": 18,
    "start_time": "2022-02-04T10:54:37.690Z"
   },
   {
    "duration": 4,
    "start_time": "2022-02-04T10:56:12.997Z"
   },
   {
    "duration": 403,
    "start_time": "2022-02-04T10:56:20.751Z"
   },
   {
    "duration": 373,
    "start_time": "2022-02-04T10:56:28.586Z"
   },
   {
    "duration": 7,
    "start_time": "2022-02-04T10:59:49.545Z"
   },
   {
    "duration": 311,
    "start_time": "2022-02-04T11:03:12.335Z"
   },
   {
    "duration": 261,
    "start_time": "2022-02-04T11:03:18.761Z"
   },
   {
    "duration": 291,
    "start_time": "2022-02-04T11:06:50.498Z"
   },
   {
    "duration": 7977,
    "start_time": "2022-02-04T11:07:32.137Z"
   },
   {
    "duration": 391,
    "start_time": "2022-02-04T11:08:21.258Z"
   },
   {
    "duration": 6,
    "start_time": "2022-02-04T11:13:48.920Z"
   },
   {
    "duration": 324,
    "start_time": "2022-02-04T11:21:02.416Z"
   },
   {
    "duration": 12,
    "start_time": "2022-02-04T11:21:17.509Z"
   },
   {
    "duration": 24,
    "start_time": "2022-02-04T11:25:59.924Z"
   },
   {
    "duration": 1383,
    "start_time": "2022-02-04T11:26:23.867Z"
   },
   {
    "duration": 1344,
    "start_time": "2022-02-04T11:27:58.322Z"
   },
   {
    "duration": 1554,
    "start_time": "2022-02-04T11:28:55.284Z"
   },
   {
    "duration": 497,
    "start_time": "2022-02-04T11:30:05.672Z"
   },
   {
    "duration": 7,
    "start_time": "2022-02-04T11:30:53.529Z"
   },
   {
    "duration": 92,
    "start_time": "2022-02-04T11:31:12.512Z"
   },
   {
    "duration": 395,
    "start_time": "2022-02-04T11:31:25.567Z"
   },
   {
    "duration": 98,
    "start_time": "2022-02-04T11:31:50.468Z"
   },
   {
    "duration": 401,
    "start_time": "2022-02-04T11:32:13.945Z"
   },
   {
    "duration": 1430,
    "start_time": "2022-02-04T11:33:36.222Z"
   },
   {
    "duration": 310,
    "start_time": "2022-02-04T11:37:24.160Z"
   },
   {
    "duration": 22,
    "start_time": "2022-02-04T11:37:36.317Z"
   },
   {
    "duration": 603,
    "start_time": "2022-02-04T11:38:35.933Z"
   },
   {
    "duration": 18,
    "start_time": "2022-02-04T11:39:05.222Z"
   },
   {
    "duration": 191,
    "start_time": "2022-02-04T11:39:59.689Z"
   },
   {
    "duration": 324,
    "start_time": "2022-02-04T11:41:36.723Z"
   },
   {
    "duration": 17,
    "start_time": "2022-02-04T11:41:43.496Z"
   },
   {
    "duration": 299,
    "start_time": "2022-02-04T11:44:50.920Z"
   },
   {
    "duration": 136,
    "start_time": "2022-02-04T11:45:42.583Z"
   },
   {
    "duration": 233,
    "start_time": "2022-02-04T11:47:35.119Z"
   },
   {
    "duration": 276,
    "start_time": "2022-02-04T11:47:48.174Z"
   },
   {
    "duration": 17,
    "start_time": "2022-02-04T11:47:56.922Z"
   },
   {
    "duration": 657,
    "start_time": "2022-02-04T11:48:39.148Z"
   },
   {
    "duration": 18,
    "start_time": "2022-02-04T11:48:42.353Z"
   },
   {
    "duration": 472,
    "start_time": "2022-02-04T11:51:39.276Z"
   },
   {
    "duration": 1476,
    "start_time": "2022-02-04T11:55:17.695Z"
   },
   {
    "duration": 361,
    "start_time": "2022-02-04T11:58:42.026Z"
   },
   {
    "duration": 26,
    "start_time": "2022-02-04T11:58:55.921Z"
   },
   {
    "duration": 214,
    "start_time": "2022-02-04T11:59:38.947Z"
   },
   {
    "duration": 10,
    "start_time": "2022-02-04T12:00:16.127Z"
   },
   {
    "duration": 8,
    "start_time": "2022-02-04T12:00:25.046Z"
   },
   {
    "duration": 8,
    "start_time": "2022-02-04T12:00:29.408Z"
   },
   {
    "duration": 17,
    "start_time": "2022-02-04T12:01:08.872Z"
   },
   {
    "duration": 273,
    "start_time": "2022-02-04T12:03:18.766Z"
   },
   {
    "duration": 10,
    "start_time": "2022-02-04T12:03:31.141Z"
   },
   {
    "duration": 8,
    "start_time": "2022-02-04T12:06:38.643Z"
   },
   {
    "duration": 13,
    "start_time": "2022-02-04T12:08:10.390Z"
   },
   {
    "duration": 14,
    "start_time": "2022-02-04T12:19:15.237Z"
   },
   {
    "duration": 94,
    "start_time": "2022-02-04T12:28:13.627Z"
   },
   {
    "duration": 9,
    "start_time": "2022-02-04T12:30:40.766Z"
   },
   {
    "duration": 7455,
    "start_time": "2022-02-04T12:30:50.326Z"
   },
   {
    "duration": 7,
    "start_time": "2022-02-04T12:32:13.684Z"
   },
   {
    "duration": 6,
    "start_time": "2022-02-04T12:32:15.150Z"
   },
   {
    "duration": 6,
    "start_time": "2022-02-04T12:32:21.593Z"
   },
   {
    "duration": 7,
    "start_time": "2022-02-04T12:32:23.580Z"
   },
   {
    "duration": 6,
    "start_time": "2022-02-04T12:32:25.598Z"
   },
   {
    "duration": 7,
    "start_time": "2022-02-04T12:32:32.417Z"
   },
   {
    "duration": 7202,
    "start_time": "2022-02-04T12:32:52.010Z"
   },
   {
    "duration": 8,
    "start_time": "2022-02-04T12:34:04.809Z"
   },
   {
    "duration": 6,
    "start_time": "2022-02-04T12:34:06.579Z"
   },
   {
    "duration": 7,
    "start_time": "2022-02-04T12:34:15.387Z"
   },
   {
    "duration": 5,
    "start_time": "2022-02-04T12:34:20.955Z"
   },
   {
    "duration": 5,
    "start_time": "2022-02-04T12:34:25.502Z"
   },
   {
    "duration": 5,
    "start_time": "2022-02-04T12:35:52.951Z"
   },
   {
    "duration": 5,
    "start_time": "2022-02-04T12:36:23.778Z"
   },
   {
    "duration": 97,
    "start_time": "2022-02-04T12:47:33.263Z"
   },
   {
    "duration": 295,
    "start_time": "2022-02-04T12:50:50.485Z"
   },
   {
    "duration": 431,
    "start_time": "2022-02-04T12:51:35.835Z"
   },
   {
    "duration": 13,
    "start_time": "2022-02-04T12:51:52.993Z"
   },
   {
    "duration": 11,
    "start_time": "2022-02-04T12:51:55.181Z"
   },
   {
    "duration": 7,
    "start_time": "2022-02-04T13:01:08.816Z"
   },
   {
    "duration": 7,
    "start_time": "2022-02-04T13:01:10.719Z"
   },
   {
    "duration": 7,
    "start_time": "2022-02-04T13:01:12.571Z"
   },
   {
    "duration": 5,
    "start_time": "2022-02-04T13:01:14.613Z"
   },
   {
    "duration": 11,
    "start_time": "2022-02-04T13:01:18.785Z"
   },
   {
    "duration": 9,
    "start_time": "2022-02-04T13:01:21.372Z"
   },
   {
    "duration": 14,
    "start_time": "2022-02-04T13:09:01.192Z"
   },
   {
    "duration": 12,
    "start_time": "2022-02-04T13:09:15.050Z"
   },
   {
    "duration": 13,
    "start_time": "2022-02-04T13:16:00.555Z"
   },
   {
    "duration": 12,
    "start_time": "2022-02-04T13:16:04.864Z"
   },
   {
    "duration": 602,
    "start_time": "2022-02-04T13:45:00.577Z"
   },
   {
    "duration": 642,
    "start_time": "2022-02-04T14:01:30.150Z"
   },
   {
    "duration": 804,
    "start_time": "2022-02-04T14:01:55.488Z"
   },
   {
    "duration": 652,
    "start_time": "2022-02-04T14:03:08.638Z"
   },
   {
    "duration": 307,
    "start_time": "2022-02-04T16:08:09.533Z"
   },
   {
    "duration": 1467,
    "start_time": "2022-02-04T16:08:17.951Z"
   },
   {
    "duration": 64,
    "start_time": "2022-02-04T16:08:19.421Z"
   },
   {
    "duration": 37059,
    "start_time": "2022-02-04T16:08:19.489Z"
   },
   {
    "duration": 5636,
    "start_time": "2022-02-04T16:08:56.550Z"
   },
   {
    "duration": 3932,
    "start_time": "2022-02-04T16:09:02.189Z"
   },
   {
    "duration": 25,
    "start_time": "2022-02-04T16:09:06.124Z"
   },
   {
    "duration": 16,
    "start_time": "2022-02-04T16:09:06.151Z"
   },
   {
    "duration": 17,
    "start_time": "2022-02-04T16:09:06.170Z"
   },
   {
    "duration": 7,
    "start_time": "2022-02-04T16:09:06.234Z"
   },
   {
    "duration": 6,
    "start_time": "2022-02-04T16:09:06.243Z"
   },
   {
    "duration": 8,
    "start_time": "2022-02-04T16:09:06.251Z"
   },
   {
    "duration": 13,
    "start_time": "2022-02-04T16:09:06.261Z"
   },
   {
    "duration": 61,
    "start_time": "2022-02-04T16:09:06.276Z"
   },
   {
    "duration": 14,
    "start_time": "2022-02-04T16:09:06.339Z"
   },
   {
    "duration": 8,
    "start_time": "2022-02-04T16:09:06.355Z"
   },
   {
    "duration": 19,
    "start_time": "2022-02-04T16:09:06.365Z"
   },
   {
    "duration": 9,
    "start_time": "2022-02-04T16:09:06.431Z"
   },
   {
    "duration": 19,
    "start_time": "2022-02-04T16:09:06.443Z"
   },
   {
    "duration": 9,
    "start_time": "2022-02-04T16:09:06.464Z"
   },
   {
    "duration": 405,
    "start_time": "2022-02-04T16:09:06.476Z"
   },
   {
    "duration": 294,
    "start_time": "2022-02-04T16:09:06.884Z"
   },
   {
    "duration": 10,
    "start_time": "2022-02-04T16:09:07.180Z"
   },
   {
    "duration": 39,
    "start_time": "2022-02-04T16:09:07.196Z"
   },
   {
    "duration": 158,
    "start_time": "2022-02-04T16:09:07.238Z"
   },
   {
    "duration": 147,
    "start_time": "2022-02-04T16:09:07.398Z"
   },
   {
    "duration": 254,
    "start_time": "2022-02-04T16:09:07.548Z"
   },
   {
    "duration": 5,
    "start_time": "2022-02-04T16:09:07.804Z"
   },
   {
    "duration": 156,
    "start_time": "2022-02-04T16:09:07.811Z"
   },
   {
    "duration": 12,
    "start_time": "2022-02-04T16:09:07.970Z"
   },
   {
    "duration": 272,
    "start_time": "2022-02-04T16:09:07.984Z"
   },
   {
    "duration": 19,
    "start_time": "2022-02-04T16:09:08.259Z"
   },
   {
    "duration": 103,
    "start_time": "2022-02-04T16:09:08.280Z"
   },
   {
    "duration": 166,
    "start_time": "2022-02-04T16:09:08.386Z"
   },
   {
    "duration": 9,
    "start_time": "2022-02-04T16:09:08.554Z"
   },
   {
    "duration": 121,
    "start_time": "2022-02-04T16:09:08.566Z"
   },
   {
    "duration": 174,
    "start_time": "2022-02-04T16:09:08.690Z"
   },
   {
    "duration": 9,
    "start_time": "2022-02-04T16:09:08.866Z"
   },
   {
    "duration": 510,
    "start_time": "2022-02-04T16:09:08.878Z"
   },
   {
    "duration": 222,
    "start_time": "2022-02-04T16:09:09.391Z"
   },
   {
    "duration": 17,
    "start_time": "2022-02-04T16:09:09.615Z"
   },
   {
    "duration": 8,
    "start_time": "2022-02-04T16:09:09.634Z"
   },
   {
    "duration": 22,
    "start_time": "2022-02-04T16:09:09.645Z"
   },
   {
    "duration": 17,
    "start_time": "2022-02-04T16:09:09.670Z"
   },
   {
    "duration": 48,
    "start_time": "2022-02-04T16:09:09.690Z"
   },
   {
    "duration": 8,
    "start_time": "2022-02-04T16:09:09.741Z"
   },
   {
    "duration": 11,
    "start_time": "2022-02-04T16:09:09.752Z"
   },
   {
    "duration": 7,
    "start_time": "2022-02-04T16:09:09.765Z"
   },
   {
    "duration": 8,
    "start_time": "2022-02-04T16:09:09.775Z"
   },
   {
    "duration": 53,
    "start_time": "2022-02-04T16:09:09.785Z"
   },
   {
    "duration": 9,
    "start_time": "2022-02-04T16:09:09.840Z"
   },
   {
    "duration": 15,
    "start_time": "2022-02-04T16:09:09.851Z"
   },
   {
    "duration": 12,
    "start_time": "2022-02-04T16:09:09.868Z"
   },
   {
    "duration": 300,
    "start_time": "2022-02-04T16:09:09.883Z"
   },
   {
    "duration": 2708,
    "start_time": "2022-02-04T16:11:54.628Z"
   },
   {
    "duration": 59,
    "start_time": "2022-02-04T16:11:57.339Z"
   },
   {
    "duration": 3677,
    "start_time": "2022-02-04T16:11:57.400Z"
   },
   {
    "duration": 4019,
    "start_time": "2022-02-04T16:12:01.080Z"
   },
   {
    "duration": 1487,
    "start_time": "2022-02-04T16:12:05.102Z"
   },
   {
    "duration": 12072,
    "start_time": "2022-02-04T16:12:06.591Z"
   },
   {
    "duration": 10390,
    "start_time": "2022-02-04T16:12:18.665Z"
   },
   {
    "duration": 5373,
    "start_time": "2022-02-04T16:12:29.060Z"
   },
   {
    "duration": 6,
    "start_time": "2022-02-04T16:12:34.436Z"
   },
   {
    "duration": 5,
    "start_time": "2022-02-04T16:12:34.445Z"
   },
   {
    "duration": 7,
    "start_time": "2022-02-04T16:12:34.452Z"
   },
   {
    "duration": 15,
    "start_time": "2022-02-04T16:12:34.461Z"
   },
   {
    "duration": 66,
    "start_time": "2022-02-04T16:12:34.479Z"
   },
   {
    "duration": 12,
    "start_time": "2022-02-04T16:12:34.548Z"
   },
   {
    "duration": 5,
    "start_time": "2022-02-04T16:12:34.562Z"
   },
   {
    "duration": 71,
    "start_time": "2022-02-04T16:12:34.569Z"
   },
   {
    "duration": 9,
    "start_time": "2022-02-04T16:12:34.642Z"
   },
   {
    "duration": 17,
    "start_time": "2022-02-04T16:12:34.654Z"
   },
   {
    "duration": 58,
    "start_time": "2022-02-04T16:12:34.674Z"
   },
   {
    "duration": 273,
    "start_time": "2022-02-04T16:12:34.735Z"
   },
   {
    "duration": 225,
    "start_time": "2022-02-04T16:12:35.011Z"
   },
   {
    "duration": 9,
    "start_time": "2022-02-04T16:12:35.238Z"
   },
   {
    "duration": 20,
    "start_time": "2022-02-04T16:12:35.256Z"
   },
   {
    "duration": 255,
    "start_time": "2022-02-04T16:12:35.281Z"
   },
   {
    "duration": 293,
    "start_time": "2022-02-04T16:12:35.539Z"
   },
   {
    "duration": 302,
    "start_time": "2022-02-04T16:12:35.835Z"
   },
   {
    "duration": 6,
    "start_time": "2022-02-04T16:12:36.139Z"
   },
   {
    "duration": 204,
    "start_time": "2022-02-04T16:12:36.148Z"
   },
   {
    "duration": 82,
    "start_time": "2022-02-04T16:12:36.354Z"
   },
   {
    "duration": 312,
    "start_time": "2022-02-04T16:12:36.440Z"
   },
   {
    "duration": 91,
    "start_time": "2022-02-04T16:12:36.755Z"
   },
   {
    "duration": 105,
    "start_time": "2022-02-04T16:12:36.850Z"
   },
   {
    "duration": 96,
    "start_time": "2022-02-04T16:12:36.958Z"
   },
   {
    "duration": 8,
    "start_time": "2022-02-04T16:12:37.057Z"
   },
   {
    "duration": 129,
    "start_time": "2022-02-04T16:12:37.068Z"
   },
   {
    "duration": 112,
    "start_time": "2022-02-04T16:12:37.200Z"
   },
   {
    "duration": 21,
    "start_time": "2022-02-04T16:12:37.315Z"
   },
   {
    "duration": 370,
    "start_time": "2022-02-04T16:12:37.338Z"
   },
   {
    "duration": 105,
    "start_time": "2022-02-04T16:12:37.711Z"
   },
   {
    "duration": 17,
    "start_time": "2022-02-04T16:12:37.819Z"
   },
   {
    "duration": 10,
    "start_time": "2022-02-04T16:12:37.839Z"
   },
   {
    "duration": 9,
    "start_time": "2022-02-04T16:12:37.851Z"
   },
   {
    "duration": 12,
    "start_time": "2022-02-04T16:12:37.863Z"
   },
   {
    "duration": 60,
    "start_time": "2022-02-04T16:12:37.877Z"
   },
   {
    "duration": 7,
    "start_time": "2022-02-04T16:12:37.940Z"
   },
   {
    "duration": 9,
    "start_time": "2022-02-04T16:12:37.949Z"
   },
   {
    "duration": 9,
    "start_time": "2022-02-04T16:12:37.960Z"
   },
   {
    "duration": 7,
    "start_time": "2022-02-04T16:12:37.971Z"
   },
   {
    "duration": 58,
    "start_time": "2022-02-04T16:12:37.980Z"
   },
   {
    "duration": 10,
    "start_time": "2022-02-04T16:12:38.041Z"
   },
   {
    "duration": 13,
    "start_time": "2022-02-04T16:12:38.054Z"
   },
   {
    "duration": 21,
    "start_time": "2022-02-04T16:12:38.069Z"
   },
   {
    "duration": 341,
    "start_time": "2022-02-04T16:12:38.092Z"
   },
   {
    "duration": 1478,
    "start_time": "2022-02-04T18:03:22.130Z"
   },
   {
    "duration": 71,
    "start_time": "2022-02-04T18:03:23.610Z"
   },
   {
    "duration": 34849,
    "start_time": "2022-02-04T18:03:23.684Z"
   },
   {
    "duration": 5907,
    "start_time": "2022-02-04T18:03:58.536Z"
   },
   {
    "duration": 2272,
    "start_time": "2022-02-04T18:04:04.446Z"
   },
   {
    "duration": 33,
    "start_time": "2022-02-04T18:04:06.720Z"
   },
   {
    "duration": 19,
    "start_time": "2022-02-04T18:04:06.757Z"
   },
   {
    "duration": 16,
    "start_time": "2022-02-04T18:04:06.780Z"
   },
   {
    "duration": 49,
    "start_time": "2022-02-04T18:04:06.799Z"
   },
   {
    "duration": 6,
    "start_time": "2022-02-04T18:04:06.852Z"
   },
   {
    "duration": 9,
    "start_time": "2022-02-04T18:04:06.860Z"
   },
   {
    "duration": 14,
    "start_time": "2022-02-04T18:04:06.872Z"
   },
   {
    "duration": 14,
    "start_time": "2022-02-04T18:04:06.889Z"
   },
   {
    "duration": 58,
    "start_time": "2022-02-04T18:04:06.905Z"
   },
   {
    "duration": 8,
    "start_time": "2022-02-04T18:04:06.965Z"
   },
   {
    "duration": 65,
    "start_time": "2022-02-04T18:04:06.975Z"
   },
   {
    "duration": 11,
    "start_time": "2022-02-04T18:04:07.043Z"
   },
   {
    "duration": 24,
    "start_time": "2022-02-04T18:04:07.057Z"
   },
   {
    "duration": 10,
    "start_time": "2022-02-04T18:04:07.085Z"
   },
   {
    "duration": 370,
    "start_time": "2022-02-04T18:04:07.098Z"
   },
   {
    "duration": 287,
    "start_time": "2022-02-04T18:04:07.471Z"
   },
   {
    "duration": 14,
    "start_time": "2022-02-04T18:04:07.760Z"
   },
   {
    "duration": 19,
    "start_time": "2022-02-04T18:04:07.780Z"
   },
   {
    "duration": 156,
    "start_time": "2022-02-04T18:04:07.802Z"
   },
   {
    "duration": 133,
    "start_time": "2022-02-04T18:04:07.960Z"
   },
   {
    "duration": 311,
    "start_time": "2022-02-04T18:04:08.096Z"
   },
   {
    "duration": 5,
    "start_time": "2022-02-04T18:04:08.409Z"
   },
   {
    "duration": 131,
    "start_time": "2022-02-04T18:04:08.417Z"
   },
   {
    "duration": 12,
    "start_time": "2022-02-04T18:04:08.551Z"
   },
   {
    "duration": 223,
    "start_time": "2022-02-04T18:04:08.566Z"
   },
   {
    "duration": 21,
    "start_time": "2022-02-04T18:04:08.792Z"
   },
   {
    "duration": 90,
    "start_time": "2022-02-04T18:04:08.815Z"
   },
   {
    "duration": 167,
    "start_time": "2022-02-04T18:04:08.908Z"
   },
   {
    "duration": 7,
    "start_time": "2022-02-04T18:04:09.077Z"
   },
   {
    "duration": 128,
    "start_time": "2022-02-04T18:04:09.086Z"
   },
   {
    "duration": 165,
    "start_time": "2022-02-04T18:04:09.217Z"
   },
   {
    "duration": 7,
    "start_time": "2022-02-04T18:04:09.385Z"
   },
   {
    "duration": 496,
    "start_time": "2022-02-04T18:04:09.394Z"
   },
   {
    "duration": 224,
    "start_time": "2022-02-04T18:04:09.893Z"
   },
   {
    "duration": 10,
    "start_time": "2022-02-04T18:04:10.120Z"
   },
   {
    "duration": 19,
    "start_time": "2022-02-04T18:04:10.132Z"
   },
   {
    "duration": 14,
    "start_time": "2022-02-04T18:04:10.154Z"
   },
   {
    "duration": 15,
    "start_time": "2022-02-04T18:04:10.171Z"
   },
   {
    "duration": 7,
    "start_time": "2022-02-04T18:04:10.189Z"
   },
   {
    "duration": 6,
    "start_time": "2022-02-04T18:04:10.199Z"
   },
   {
    "duration": 47,
    "start_time": "2022-02-04T18:04:10.207Z"
   },
   {
    "duration": 7,
    "start_time": "2022-02-04T18:04:10.257Z"
   },
   {
    "duration": 12,
    "start_time": "2022-02-04T18:04:10.266Z"
   },
   {
    "duration": 15,
    "start_time": "2022-02-04T18:04:10.281Z"
   },
   {
    "duration": 12,
    "start_time": "2022-02-04T18:04:10.298Z"
   },
   {
    "duration": 42,
    "start_time": "2022-02-04T18:04:10.312Z"
   },
   {
    "duration": 12,
    "start_time": "2022-02-04T18:04:10.357Z"
   },
   {
    "duration": 223,
    "start_time": "2022-02-04T18:04:10.371Z"
   },
   {
    "duration": 2573,
    "start_time": "2022-02-04T18:04:18.454Z"
   },
   {
    "duration": 72,
    "start_time": "2022-02-04T18:04:21.030Z"
   },
   {
    "duration": 3923,
    "start_time": "2022-02-04T18:04:21.105Z"
   },
   {
    "duration": 3816,
    "start_time": "2022-02-04T18:04:25.031Z"
   },
   {
    "duration": 1566,
    "start_time": "2022-02-04T18:04:28.850Z"
   },
   {
    "duration": 12503,
    "start_time": "2022-02-04T18:04:30.419Z"
   },
   {
    "duration": 10628,
    "start_time": "2022-02-04T18:04:42.925Z"
   },
   {
    "duration": 5400,
    "start_time": "2022-02-04T18:04:53.558Z"
   },
   {
    "duration": 7,
    "start_time": "2022-02-04T18:04:58.961Z"
   },
   {
    "duration": 7,
    "start_time": "2022-02-04T18:04:58.971Z"
   },
   {
    "duration": 8,
    "start_time": "2022-02-04T18:04:58.981Z"
   },
   {
    "duration": 70,
    "start_time": "2022-02-04T18:04:58.992Z"
   },
   {
    "duration": 17,
    "start_time": "2022-02-04T18:04:59.065Z"
   },
   {
    "duration": 15,
    "start_time": "2022-02-04T18:04:59.085Z"
   },
   {
    "duration": 10,
    "start_time": "2022-02-04T18:04:59.103Z"
   },
   {
    "duration": 18,
    "start_time": "2022-02-04T18:04:59.149Z"
   },
   {
    "duration": 9,
    "start_time": "2022-02-04T18:04:59.170Z"
   },
   {
    "duration": 26,
    "start_time": "2022-02-04T18:04:59.181Z"
   },
   {
    "duration": 9,
    "start_time": "2022-02-04T18:04:59.210Z"
   },
   {
    "duration": 295,
    "start_time": "2022-02-04T18:04:59.222Z"
   },
   {
    "duration": 233,
    "start_time": "2022-02-04T18:04:59.520Z"
   },
   {
    "duration": 9,
    "start_time": "2022-02-04T18:04:59.756Z"
   },
   {
    "duration": 20,
    "start_time": "2022-02-04T18:04:59.771Z"
   },
   {
    "duration": 255,
    "start_time": "2022-02-04T18:04:59.794Z"
   },
   {
    "duration": 204,
    "start_time": "2022-02-04T18:05:00.052Z"
   },
   {
    "duration": 389,
    "start_time": "2022-02-04T18:05:00.259Z"
   },
   {
    "duration": 6,
    "start_time": "2022-02-04T18:05:00.652Z"
   },
   {
    "duration": 203,
    "start_time": "2022-02-04T18:05:00.661Z"
   },
   {
    "duration": 82,
    "start_time": "2022-02-04T18:05:00.867Z"
   },
   {
    "duration": 313,
    "start_time": "2022-02-04T18:05:00.952Z"
   },
   {
    "duration": 91,
    "start_time": "2022-02-04T18:05:01.268Z"
   },
   {
    "duration": 91,
    "start_time": "2022-02-04T18:05:01.363Z"
   },
   {
    "duration": 92,
    "start_time": "2022-02-04T18:05:01.456Z"
   },
   {
    "duration": 6,
    "start_time": "2022-02-04T18:05:01.551Z"
   },
   {
    "duration": 109,
    "start_time": "2022-02-04T18:05:01.559Z"
   },
   {
    "duration": 114,
    "start_time": "2022-02-04T18:05:01.670Z"
   },
   {
    "duration": 7,
    "start_time": "2022-02-04T18:05:01.787Z"
   },
   {
    "duration": 363,
    "start_time": "2022-02-04T18:05:01.797Z"
   },
   {
    "duration": 126,
    "start_time": "2022-02-04T18:05:02.163Z"
   },
   {
    "duration": 12,
    "start_time": "2022-02-04T18:05:02.292Z"
   },
   {
    "duration": 8,
    "start_time": "2022-02-04T18:05:02.307Z"
   },
   {
    "duration": 36,
    "start_time": "2022-02-04T18:05:02.317Z"
   },
   {
    "duration": 13,
    "start_time": "2022-02-04T18:05:02.355Z"
   },
   {
    "duration": 12,
    "start_time": "2022-02-04T18:05:02.370Z"
   },
   {
    "duration": 8,
    "start_time": "2022-02-04T18:05:02.384Z"
   },
   {
    "duration": 11,
    "start_time": "2022-02-04T18:05:02.394Z"
   },
   {
    "duration": 11,
    "start_time": "2022-02-04T18:05:02.407Z"
   },
   {
    "duration": 33,
    "start_time": "2022-02-04T18:05:02.421Z"
   },
   {
    "duration": 14,
    "start_time": "2022-02-04T18:05:02.457Z"
   },
   {
    "duration": 12,
    "start_time": "2022-02-04T18:05:02.474Z"
   },
   {
    "duration": 15,
    "start_time": "2022-02-04T18:05:02.489Z"
   },
   {
    "duration": 51,
    "start_time": "2022-02-04T18:05:02.507Z"
   },
   {
    "duration": 296,
    "start_time": "2022-02-04T18:05:02.562Z"
   },
   {
    "duration": 1498,
    "start_time": "2022-02-04T19:29:05.618Z"
   },
   {
    "duration": 75,
    "start_time": "2022-02-04T19:29:07.119Z"
   },
   {
    "duration": 648620,
    "start_time": "2022-02-04T19:29:07.198Z"
   },
   {
    "duration": 150741,
    "start_time": "2022-02-04T19:39:55.821Z"
   },
   {
    "duration": 121402,
    "start_time": "2022-02-04T19:42:26.565Z"
   },
   {
    "duration": 31,
    "start_time": "2022-02-04T19:44:27.970Z"
   },
   {
    "duration": 49,
    "start_time": "2022-02-04T19:44:28.004Z"
   },
   {
    "duration": 25,
    "start_time": "2022-02-04T19:44:28.056Z"
   },
   {
    "duration": 9,
    "start_time": "2022-02-04T19:44:28.087Z"
   },
   {
    "duration": 6,
    "start_time": "2022-02-04T19:44:28.100Z"
   },
   {
    "duration": 6,
    "start_time": "2022-02-04T19:44:28.150Z"
   },
   {
    "duration": 17,
    "start_time": "2022-02-04T19:44:28.159Z"
   },
   {
    "duration": 14,
    "start_time": "2022-02-04T19:44:28.178Z"
   },
   {
    "duration": 15,
    "start_time": "2022-02-04T19:44:28.194Z"
   },
   {
    "duration": 43,
    "start_time": "2022-02-04T19:44:28.212Z"
   },
   {
    "duration": 17,
    "start_time": "2022-02-04T19:44:28.258Z"
   },
   {
    "duration": 7,
    "start_time": "2022-02-04T19:44:28.277Z"
   },
   {
    "duration": 20,
    "start_time": "2022-02-04T19:44:28.286Z"
   },
   {
    "duration": 46,
    "start_time": "2022-02-04T19:44:28.309Z"
   },
   {
    "duration": 335,
    "start_time": "2022-02-04T19:44:28.358Z"
   },
   {
    "duration": 317,
    "start_time": "2022-02-04T19:44:28.696Z"
   },
   {
    "duration": 10,
    "start_time": "2022-02-04T19:44:29.017Z"
   },
   {
    "duration": 30,
    "start_time": "2022-02-04T19:44:29.029Z"
   },
   {
    "duration": 147,
    "start_time": "2022-02-04T19:44:29.062Z"
   },
   {
    "duration": 137,
    "start_time": "2022-02-04T19:44:29.212Z"
   },
   {
    "duration": 310,
    "start_time": "2022-02-04T19:44:29.352Z"
   },
   {
    "duration": 5,
    "start_time": "2022-02-04T19:44:29.667Z"
   },
   {
    "duration": 132,
    "start_time": "2022-02-04T19:44:29.676Z"
   },
   {
    "duration": 13,
    "start_time": "2022-02-04T19:44:29.811Z"
   },
   {
    "duration": 245,
    "start_time": "2022-02-04T19:44:29.827Z"
   },
   {
    "duration": 25,
    "start_time": "2022-02-04T19:44:30.075Z"
   },
   {
    "duration": 101,
    "start_time": "2022-02-04T19:44:30.104Z"
   },
   {
    "duration": 166,
    "start_time": "2022-02-04T19:44:30.207Z"
   },
   {
    "duration": 7,
    "start_time": "2022-02-04T19:44:30.375Z"
   },
   {
    "duration": 111,
    "start_time": "2022-02-04T19:44:30.385Z"
   },
   {
    "duration": 181,
    "start_time": "2022-02-04T19:44:30.498Z"
   },
   {
    "duration": 6,
    "start_time": "2022-02-04T19:44:30.682Z"
   },
   {
    "duration": 473,
    "start_time": "2022-02-04T19:44:30.690Z"
   },
   {
    "duration": 219,
    "start_time": "2022-02-04T19:44:31.166Z"
   },
   {
    "duration": 9,
    "start_time": "2022-02-04T19:44:31.388Z"
   },
   {
    "duration": 9,
    "start_time": "2022-02-04T19:44:31.400Z"
   },
   {
    "duration": 20,
    "start_time": "2022-02-04T19:44:31.411Z"
   },
   {
    "duration": 14,
    "start_time": "2022-02-04T19:44:31.449Z"
   },
   {
    "duration": 8,
    "start_time": "2022-02-04T19:44:31.465Z"
   },
   {
    "duration": 8,
    "start_time": "2022-02-04T19:44:31.475Z"
   },
   {
    "duration": 12,
    "start_time": "2022-02-04T19:44:31.486Z"
   },
   {
    "duration": 24,
    "start_time": "2022-02-04T19:44:31.501Z"
   },
   {
    "duration": 26,
    "start_time": "2022-02-04T19:44:31.528Z"
   },
   {
    "duration": 21,
    "start_time": "2022-02-04T19:44:31.557Z"
   },
   {
    "duration": 32,
    "start_time": "2022-02-04T19:44:31.580Z"
   },
   {
    "duration": 22,
    "start_time": "2022-02-04T19:44:31.615Z"
   },
   {
    "duration": 19,
    "start_time": "2022-02-04T19:44:31.640Z"
   },
   {
    "duration": 217,
    "start_time": "2022-02-04T19:44:31.662Z"
   },
   {
    "duration": 7,
    "start_time": "2022-02-04T19:44:42.238Z"
   },
   {
    "duration": 4,
    "start_time": "2022-02-04T19:44:43.876Z"
   },
   {
    "duration": 6,
    "start_time": "2022-02-04T19:44:45.081Z"
   },
   {
    "duration": 126,
    "start_time": "2022-02-04T19:45:38.041Z"
   },
   {
    "duration": 101,
    "start_time": "2022-02-04T20:01:50.600Z"
   },
   {
    "duration": 1230,
    "start_time": "2022-02-04T23:37:57.359Z"
   },
   {
    "duration": 126,
    "start_time": "2022-02-04T23:37:58.591Z"
   },
   {
    "duration": 53361,
    "start_time": "2022-02-04T23:37:58.720Z"
   },
   {
    "duration": 1969,
    "start_time": "2022-02-04T23:39:11.992Z"
   },
   {
    "duration": 87,
    "start_time": "2022-02-04T23:39:13.963Z"
   },
   {
    "duration": 1760,
    "start_time": "2022-02-04T23:39:35.269Z"
   },
   {
    "duration": 74,
    "start_time": "2022-02-04T23:39:37.031Z"
   },
   {
    "duration": 2324,
    "start_time": "2022-02-04T23:40:19.946Z"
   },
   {
    "duration": 76,
    "start_time": "2022-02-04T23:40:22.272Z"
   },
   {
    "duration": 3,
    "start_time": "2022-02-04T23:40:22.352Z"
   },
   {
    "duration": 6,
    "start_time": "2022-02-04T23:40:22.356Z"
   },
   {
    "duration": 6,
    "start_time": "2022-02-04T23:40:22.364Z"
   },
   {
    "duration": 11,
    "start_time": "2022-02-04T23:40:22.371Z"
   },
   {
    "duration": 5,
    "start_time": "2022-02-04T23:40:22.385Z"
   },
   {
    "duration": 6,
    "start_time": "2022-02-04T23:40:22.392Z"
   },
   {
    "duration": 22,
    "start_time": "2022-02-04T23:40:22.400Z"
   },
   {
    "duration": 6,
    "start_time": "2022-02-04T23:40:22.424Z"
   },
   {
    "duration": 8,
    "start_time": "2022-02-04T23:40:22.432Z"
   },
   {
    "duration": 22,
    "start_time": "2022-02-04T23:40:22.442Z"
   },
   {
    "duration": 16,
    "start_time": "2022-02-04T23:40:22.466Z"
   },
   {
    "duration": 14,
    "start_time": "2022-02-04T23:40:22.484Z"
   },
   {
    "duration": 14,
    "start_time": "2022-02-04T23:40:22.502Z"
   },
   {
    "duration": 17,
    "start_time": "2022-02-04T23:40:22.518Z"
   },
   {
    "duration": 10,
    "start_time": "2022-02-04T23:40:22.537Z"
   },
   {
    "duration": 19,
    "start_time": "2022-02-04T23:40:22.549Z"
   },
   {
    "duration": 13,
    "start_time": "2022-02-04T23:40:22.570Z"
   },
   {
    "duration": 183,
    "start_time": "2022-02-04T23:40:22.585Z"
   },
   {
    "duration": 150,
    "start_time": "2022-02-04T23:40:22.770Z"
   },
   {
    "duration": 7,
    "start_time": "2022-02-04T23:40:22.925Z"
   },
   {
    "duration": 16,
    "start_time": "2022-02-04T23:40:22.935Z"
   },
   {
    "duration": 566,
    "start_time": "2022-02-04T23:40:22.953Z"
   },
   {
    "duration": 610,
    "start_time": "2022-02-04T23:40:23.521Z"
   },
   {
    "duration": 411,
    "start_time": "2022-02-04T23:40:24.133Z"
   },
   {
    "duration": 4,
    "start_time": "2022-02-04T23:40:24.546Z"
   },
   {
    "duration": 408,
    "start_time": "2022-02-04T23:40:24.552Z"
   },
   {
    "duration": 8,
    "start_time": "2022-02-04T23:40:24.962Z"
   },
   {
    "duration": 389,
    "start_time": "2022-02-04T23:40:24.971Z"
   },
   {
    "duration": 13,
    "start_time": "2022-02-04T23:40:25.362Z"
   },
   {
    "duration": 283,
    "start_time": "2022-02-04T23:40:25.378Z"
   },
   {
    "duration": 294,
    "start_time": "2022-02-04T23:40:25.663Z"
   },
   {
    "duration": 6,
    "start_time": "2022-02-04T23:40:25.960Z"
   },
   {
    "duration": 306,
    "start_time": "2022-02-04T23:40:25.968Z"
   },
   {
    "duration": 291,
    "start_time": "2022-02-04T23:40:26.276Z"
   },
   {
    "duration": 6,
    "start_time": "2022-02-04T23:40:26.569Z"
   },
   {
    "duration": 258,
    "start_time": "2022-02-04T23:40:26.578Z"
   },
   {
    "duration": 65,
    "start_time": "2022-02-04T23:40:26.838Z"
   },
   {
    "duration": 10,
    "start_time": "2022-02-04T23:40:26.906Z"
   },
   {
    "duration": 9,
    "start_time": "2022-02-04T23:40:26.918Z"
   },
   {
    "duration": 16,
    "start_time": "2022-02-04T23:40:26.929Z"
   },
   {
    "duration": 9,
    "start_time": "2022-02-04T23:40:26.947Z"
   },
   {
    "duration": 6,
    "start_time": "2022-02-04T23:40:26.958Z"
   },
   {
    "duration": 33,
    "start_time": "2022-02-04T23:40:26.966Z"
   },
   {
    "duration": 14,
    "start_time": "2022-02-04T23:40:27.002Z"
   },
   {
    "duration": 8,
    "start_time": "2022-02-04T23:40:27.018Z"
   },
   {
    "duration": 9,
    "start_time": "2022-02-04T23:40:27.028Z"
   },
   {
    "duration": 10,
    "start_time": "2022-02-04T23:40:27.038Z"
   },
   {
    "duration": 9,
    "start_time": "2022-02-04T23:40:27.050Z"
   },
   {
    "duration": 10,
    "start_time": "2022-02-04T23:40:27.061Z"
   },
   {
    "duration": 30,
    "start_time": "2022-02-04T23:40:27.073Z"
   },
   {
    "duration": 342,
    "start_time": "2022-02-04T23:40:27.105Z"
   },
   {
    "duration": 187,
    "start_time": "2022-02-04T23:41:17.349Z"
   },
   {
    "duration": 321,
    "start_time": "2022-02-04T23:41:38.039Z"
   },
   {
    "duration": 207,
    "start_time": "2022-02-04T23:42:32.823Z"
   },
   {
    "duration": 415,
    "start_time": "2022-02-04T23:42:47.239Z"
   },
   {
    "duration": 585,
    "start_time": "2022-02-05T10:41:39.853Z"
   },
   {
    "duration": 330,
    "start_time": "2022-02-05T10:41:51.983Z"
   },
   {
    "duration": 1448,
    "start_time": "2022-02-05T10:42:09.346Z"
   },
   {
    "duration": 59,
    "start_time": "2022-02-05T10:42:10.796Z"
   },
   {
    "duration": 3,
    "start_time": "2022-02-05T10:42:10.858Z"
   },
   {
    "duration": 5,
    "start_time": "2022-02-05T10:42:10.864Z"
   },
   {
    "duration": 6,
    "start_time": "2022-02-05T10:42:10.871Z"
   },
   {
    "duration": 6,
    "start_time": "2022-02-05T10:42:10.879Z"
   },
   {
    "duration": 5,
    "start_time": "2022-02-05T10:42:10.887Z"
   },
   {
    "duration": 4,
    "start_time": "2022-02-05T10:42:10.895Z"
   },
   {
    "duration": 39,
    "start_time": "2022-02-05T10:42:10.902Z"
   },
   {
    "duration": 16,
    "start_time": "2022-02-05T10:42:10.943Z"
   },
   {
    "duration": 15,
    "start_time": "2022-02-05T10:42:10.962Z"
   },
   {
    "duration": 46,
    "start_time": "2022-02-05T10:42:10.979Z"
   },
   {
    "duration": 5,
    "start_time": "2022-02-05T10:42:11.027Z"
   },
   {
    "duration": 13,
    "start_time": "2022-02-05T10:42:11.035Z"
   },
   {
    "duration": 11,
    "start_time": "2022-02-05T10:42:11.050Z"
   },
   {
    "duration": 14,
    "start_time": "2022-02-05T10:42:11.064Z"
   },
   {
    "duration": 50,
    "start_time": "2022-02-05T10:42:11.080Z"
   },
   {
    "duration": 13,
    "start_time": "2022-02-05T10:42:11.133Z"
   },
   {
    "duration": 17,
    "start_time": "2022-02-05T10:42:11.148Z"
   },
   {
    "duration": 6,
    "start_time": "2022-02-05T10:42:11.170Z"
   },
   {
    "duration": 55,
    "start_time": "2022-02-05T10:42:11.178Z"
   },
   {
    "duration": 9,
    "start_time": "2022-02-05T10:42:11.236Z"
   },
   {
    "duration": 356,
    "start_time": "2022-02-05T10:42:11.252Z"
   },
   {
    "duration": 288,
    "start_time": "2022-02-05T10:42:11.611Z"
   },
   {
    "duration": 22,
    "start_time": "2022-02-05T10:42:11.902Z"
   },
   {
    "duration": 22,
    "start_time": "2022-02-05T10:42:11.927Z"
   },
   {
    "duration": 540,
    "start_time": "2022-02-05T10:42:11.952Z"
   },
   {
    "duration": 517,
    "start_time": "2022-02-05T10:42:12.494Z"
   },
   {
    "duration": 601,
    "start_time": "2022-02-05T10:42:13.013Z"
   },
   {
    "duration": 6,
    "start_time": "2022-02-05T10:42:13.623Z"
   },
   {
    "duration": 482,
    "start_time": "2022-02-05T10:42:13.632Z"
   },
   {
    "duration": 15,
    "start_time": "2022-02-05T10:42:14.117Z"
   },
   {
    "duration": 604,
    "start_time": "2022-02-05T10:42:14.135Z"
   },
   {
    "duration": 17,
    "start_time": "2022-02-05T10:42:14.742Z"
   },
   {
    "duration": 327,
    "start_time": "2022-02-05T10:42:14.762Z"
   },
   {
    "duration": 393,
    "start_time": "2022-02-05T10:42:15.092Z"
   },
   {
    "duration": 6,
    "start_time": "2022-02-05T10:42:15.488Z"
   },
   {
    "duration": 283,
    "start_time": "2022-02-05T10:42:15.496Z"
   },
   {
    "duration": 418,
    "start_time": "2022-02-05T10:42:15.781Z"
   },
   {
    "duration": 7,
    "start_time": "2022-02-05T10:42:16.202Z"
   },
   {
    "duration": 468,
    "start_time": "2022-02-05T10:42:16.212Z"
   },
   {
    "duration": 231,
    "start_time": "2022-02-05T10:42:16.682Z"
   },
   {
    "duration": 13,
    "start_time": "2022-02-05T10:42:16.915Z"
   },
   {
    "duration": 9,
    "start_time": "2022-02-05T10:42:16.930Z"
   },
   {
    "duration": 10,
    "start_time": "2022-02-05T10:42:16.941Z"
   },
   {
    "duration": 13,
    "start_time": "2022-02-05T10:42:16.954Z"
   },
   {
    "duration": 6,
    "start_time": "2022-02-05T10:42:16.969Z"
   },
   {
    "duration": 5,
    "start_time": "2022-02-05T10:42:16.977Z"
   },
   {
    "duration": 9,
    "start_time": "2022-02-05T10:42:17.023Z"
   },
   {
    "duration": 10,
    "start_time": "2022-02-05T10:42:17.034Z"
   },
   {
    "duration": 6,
    "start_time": "2022-02-05T10:42:17.047Z"
   },
   {
    "duration": 12,
    "start_time": "2022-02-05T10:42:17.055Z"
   },
   {
    "duration": 56,
    "start_time": "2022-02-05T10:42:17.069Z"
   },
   {
    "duration": 16,
    "start_time": "2022-02-05T10:42:17.128Z"
   },
   {
    "duration": 13,
    "start_time": "2022-02-05T10:42:17.147Z"
   },
   {
    "duration": 631,
    "start_time": "2022-02-05T10:42:17.163Z"
   },
   {
    "duration": 13,
    "start_time": "2022-02-05T10:43:56.210Z"
   },
   {
    "duration": 118,
    "start_time": "2022-02-05T10:44:25.011Z"
   },
   {
    "duration": 16,
    "start_time": "2022-02-05T10:44:54.388Z"
   },
   {
    "duration": 14,
    "start_time": "2022-02-05T10:46:36.337Z"
   },
   {
    "duration": 17,
    "start_time": "2022-02-05T10:46:47.200Z"
   },
   {
    "duration": 15,
    "start_time": "2022-02-05T10:46:57.453Z"
   },
   {
    "duration": 23,
    "start_time": "2022-02-05T10:49:26.793Z"
   },
   {
    "duration": 467,
    "start_time": "2022-02-05T10:53:23.241Z"
   },
   {
    "duration": 3,
    "start_time": "2022-02-05T10:53:37.342Z"
   },
   {
    "duration": 8,
    "start_time": "2022-02-05T10:53:40.740Z"
   },
   {
    "duration": 9135,
    "start_time": "2022-02-05T10:54:08.560Z"
   },
   {
    "duration": 9114,
    "start_time": "2022-02-05T10:54:36.791Z"
   },
   {
    "duration": 14,
    "start_time": "2022-02-05T10:55:04.821Z"
   },
   {
    "duration": 17,
    "start_time": "2022-02-05T10:55:40.008Z"
   },
   {
    "duration": 11,
    "start_time": "2022-02-05T10:56:10.309Z"
   },
   {
    "duration": 7,
    "start_time": "2022-02-05T10:57:08.540Z"
   },
   {
    "duration": 14,
    "start_time": "2022-02-05T10:57:11.306Z"
   },
   {
    "duration": 16,
    "start_time": "2022-02-05T10:57:37.397Z"
   },
   {
    "duration": 8592,
    "start_time": "2022-02-05T11:00:38.940Z"
   },
   {
    "duration": 17,
    "start_time": "2022-02-05T11:01:26.772Z"
   },
   {
    "duration": 9423,
    "start_time": "2022-02-05T11:01:39.368Z"
   },
   {
    "duration": 17,
    "start_time": "2022-02-05T11:01:56.073Z"
   },
   {
    "duration": 18,
    "start_time": "2022-02-05T11:02:05.205Z"
   },
   {
    "duration": 364,
    "start_time": "2022-02-05T11:02:22.481Z"
   },
   {
    "duration": -2118,
    "start_time": "2022-02-05T11:02:36.788Z"
   },
   {
    "duration": 18,
    "start_time": "2022-02-05T11:02:51.693Z"
   },
   {
    "duration": 8750,
    "start_time": "2022-02-05T11:05:09.380Z"
   },
   {
    "duration": 1464,
    "start_time": "2022-02-05T11:05:23.714Z"
   },
   {
    "duration": 60,
    "start_time": "2022-02-05T11:05:25.181Z"
   },
   {
    "duration": 4,
    "start_time": "2022-02-05T11:05:25.244Z"
   },
   {
    "duration": 4,
    "start_time": "2022-02-05T11:05:25.251Z"
   },
   {
    "duration": 5,
    "start_time": "2022-02-05T11:05:25.258Z"
   },
   {
    "duration": 4,
    "start_time": "2022-02-05T11:05:25.266Z"
   },
   {
    "duration": 8,
    "start_time": "2022-02-05T11:05:25.272Z"
   },
   {
    "duration": 9,
    "start_time": "2022-02-05T11:05:25.283Z"
   },
   {
    "duration": 46,
    "start_time": "2022-02-05T11:05:25.295Z"
   },
   {
    "duration": 16,
    "start_time": "2022-02-05T11:05:25.343Z"
   },
   {
    "duration": 14,
    "start_time": "2022-02-05T11:05:25.361Z"
   },
   {
    "duration": 48,
    "start_time": "2022-02-05T11:05:25.377Z"
   },
   {
    "duration": 6,
    "start_time": "2022-02-05T11:05:25.427Z"
   },
   {
    "duration": 8,
    "start_time": "2022-02-05T11:05:25.435Z"
   },
   {
    "duration": 10,
    "start_time": "2022-02-05T11:05:25.445Z"
   },
   {
    "duration": 12,
    "start_time": "2022-02-05T11:05:25.458Z"
   },
   {
    "duration": 54,
    "start_time": "2022-02-05T11:05:25.472Z"
   },
   {
    "duration": 10,
    "start_time": "2022-02-05T11:05:25.529Z"
   },
   {
    "duration": 16,
    "start_time": "2022-02-05T11:05:25.541Z"
   },
   {
    "duration": 10018,
    "start_time": "2022-02-05T11:05:25.560Z"
   },
   {
    "duration": -2160,
    "start_time": "2022-02-05T11:05:37.742Z"
   },
   {
    "duration": -2178,
    "start_time": "2022-02-05T11:05:37.762Z"
   },
   {
    "duration": -2195,
    "start_time": "2022-02-05T11:05:37.780Z"
   },
   {
    "duration": -2211,
    "start_time": "2022-02-05T11:05:37.797Z"
   },
   {
    "duration": -2226,
    "start_time": "2022-02-05T11:05:37.814Z"
   },
   {
    "duration": -2243,
    "start_time": "2022-02-05T11:05:37.832Z"
   },
   {
    "duration": -2258,
    "start_time": "2022-02-05T11:05:37.848Z"
   },
   {
    "duration": -2272,
    "start_time": "2022-02-05T11:05:37.864Z"
   },
   {
    "duration": -2289,
    "start_time": "2022-02-05T11:05:37.882Z"
   },
   {
    "duration": -2303,
    "start_time": "2022-02-05T11:05:37.898Z"
   },
   {
    "duration": -2319,
    "start_time": "2022-02-05T11:05:37.915Z"
   },
   {
    "duration": -2334,
    "start_time": "2022-02-05T11:05:37.931Z"
   },
   {
    "duration": -2349,
    "start_time": "2022-02-05T11:05:37.948Z"
   },
   {
    "duration": -2364,
    "start_time": "2022-02-05T11:05:37.964Z"
   },
   {
    "duration": -2430,
    "start_time": "2022-02-05T11:05:38.031Z"
   },
   {
    "duration": -2445,
    "start_time": "2022-02-05T11:05:38.048Z"
   },
   {
    "duration": -2462,
    "start_time": "2022-02-05T11:05:38.066Z"
   },
   {
    "duration": -2478,
    "start_time": "2022-02-05T11:05:38.083Z"
   },
   {
    "duration": -2493,
    "start_time": "2022-02-05T11:05:38.100Z"
   },
   {
    "duration": -2508,
    "start_time": "2022-02-05T11:05:38.116Z"
   },
   {
    "duration": -2524,
    "start_time": "2022-02-05T11:05:38.133Z"
   },
   {
    "duration": -2539,
    "start_time": "2022-02-05T11:05:38.150Z"
   },
   {
    "duration": -2553,
    "start_time": "2022-02-05T11:05:38.165Z"
   },
   {
    "duration": -2569,
    "start_time": "2022-02-05T11:05:38.182Z"
   },
   {
    "duration": -2585,
    "start_time": "2022-02-05T11:05:38.200Z"
   },
   {
    "duration": -2600,
    "start_time": "2022-02-05T11:05:38.216Z"
   },
   {
    "duration": -2615,
    "start_time": "2022-02-05T11:05:38.232Z"
   },
   {
    "duration": -2629,
    "start_time": "2022-02-05T11:05:38.248Z"
   },
   {
    "duration": -2645,
    "start_time": "2022-02-05T11:05:38.265Z"
   },
   {
    "duration": -2663,
    "start_time": "2022-02-05T11:05:38.284Z"
   },
   {
    "duration": -2686,
    "start_time": "2022-02-05T11:05:38.309Z"
   },
   {
    "duration": -2697,
    "start_time": "2022-02-05T11:05:38.322Z"
   },
   {
    "duration": -2708,
    "start_time": "2022-02-05T11:05:38.334Z"
   },
   {
    "duration": -2733,
    "start_time": "2022-02-05T11:05:38.360Z"
   },
   {
    "duration": -2745,
    "start_time": "2022-02-05T11:05:38.373Z"
   },
   {
    "duration": -2755,
    "start_time": "2022-02-05T11:05:38.385Z"
   },
   {
    "duration": -2779,
    "start_time": "2022-02-05T11:05:38.410Z"
   },
   {
    "duration": -2790,
    "start_time": "2022-02-05T11:05:38.422Z"
   },
   {
    "duration": -2800,
    "start_time": "2022-02-05T11:05:38.434Z"
   },
   {
    "duration": -2823,
    "start_time": "2022-02-05T11:05:38.458Z"
   },
   {
    "duration": -2834,
    "start_time": "2022-02-05T11:05:38.471Z"
   },
   {
    "duration": 16,
    "start_time": "2022-02-05T11:05:43.243Z"
   },
   {
    "duration": 11,
    "start_time": "2022-02-05T11:05:49.870Z"
   },
   {
    "duration": 12,
    "start_time": "2022-02-05T11:05:57.997Z"
   },
   {
    "duration": 11,
    "start_time": "2022-02-05T11:06:20.614Z"
   },
   {
    "duration": 17,
    "start_time": "2022-02-05T11:06:24.731Z"
   },
   {
    "duration": 18,
    "start_time": "2022-02-05T11:06:27.430Z"
   },
   {
    "duration": 17,
    "start_time": "2022-02-05T11:08:18.819Z"
   },
   {
    "duration": 19,
    "start_time": "2022-02-05T11:08:53.129Z"
   },
   {
    "duration": 17,
    "start_time": "2022-02-05T11:09:02.286Z"
   },
   {
    "duration": 18,
    "start_time": "2022-02-05T11:10:06.638Z"
   },
   {
    "duration": 9,
    "start_time": "2022-02-05T11:10:16.055Z"
   },
   {
    "duration": 16,
    "start_time": "2022-02-05T11:10:25.110Z"
   },
   {
    "duration": 344,
    "start_time": "2022-02-05T11:10:41.372Z"
   },
   {
    "duration": 13,
    "start_time": "2022-02-05T11:10:46.674Z"
   },
   {
    "duration": 15,
    "start_time": "2022-02-05T11:15:29.129Z"
   },
   {
    "duration": 17,
    "start_time": "2022-02-05T11:15:39.302Z"
   },
   {
    "duration": 18116,
    "start_time": "2022-02-05T11:15:46.137Z"
   },
   {
    "duration": 13,
    "start_time": "2022-02-05T11:16:22.295Z"
   },
   {
    "duration": 1818,
    "start_time": "2022-02-05T11:16:48.061Z"
   },
   {
    "duration": 61,
    "start_time": "2022-02-05T11:16:49.882Z"
   },
   {
    "duration": 4,
    "start_time": "2022-02-05T11:16:49.947Z"
   },
   {
    "duration": 11,
    "start_time": "2022-02-05T11:16:49.954Z"
   },
   {
    "duration": 6,
    "start_time": "2022-02-05T11:16:49.967Z"
   },
   {
    "duration": 21,
    "start_time": "2022-02-05T11:16:49.977Z"
   },
   {
    "duration": 17,
    "start_time": "2022-02-05T11:16:50.001Z"
   },
   {
    "duration": 8,
    "start_time": "2022-02-05T11:16:50.023Z"
   },
   {
    "duration": 29,
    "start_time": "2022-02-05T11:16:50.035Z"
   },
   {
    "duration": 17,
    "start_time": "2022-02-05T11:16:50.067Z"
   },
   {
    "duration": 44,
    "start_time": "2022-02-05T11:16:50.087Z"
   },
   {
    "duration": 8,
    "start_time": "2022-02-05T11:16:50.134Z"
   },
   {
    "duration": 7,
    "start_time": "2022-02-05T11:16:50.144Z"
   },
   {
    "duration": 8,
    "start_time": "2022-02-05T11:16:50.154Z"
   },
   {
    "duration": 12,
    "start_time": "2022-02-05T11:16:50.164Z"
   },
   {
    "duration": 53,
    "start_time": "2022-02-05T11:16:50.178Z"
   },
   {
    "duration": 16,
    "start_time": "2022-02-05T11:16:50.233Z"
   },
   {
    "duration": 11,
    "start_time": "2022-02-05T11:16:50.252Z"
   },
   {
    "duration": 34,
    "start_time": "2022-02-05T11:16:50.265Z"
   },
   {
    "duration": 33,
    "start_time": "2022-02-05T11:16:50.301Z"
   },
   {
    "duration": 12,
    "start_time": "2022-02-05T11:16:50.337Z"
   },
   {
    "duration": 26,
    "start_time": "2022-02-05T11:16:50.351Z"
   },
   {
    "duration": 11,
    "start_time": "2022-02-05T11:16:50.383Z"
   },
   {
    "duration": 41,
    "start_time": "2022-02-05T11:16:50.399Z"
   },
   {
    "duration": 7,
    "start_time": "2022-02-05T11:16:50.443Z"
   },
   {
    "duration": 388,
    "start_time": "2022-02-05T11:16:50.453Z"
   },
   {
    "duration": 282,
    "start_time": "2022-02-05T11:16:50.843Z"
   },
   {
    "duration": 10,
    "start_time": "2022-02-05T11:16:51.128Z"
   },
   {
    "duration": 35,
    "start_time": "2022-02-05T11:16:51.141Z"
   },
   {
    "duration": 567,
    "start_time": "2022-02-05T11:16:51.179Z"
   },
   {
    "duration": 574,
    "start_time": "2022-02-05T11:16:51.749Z"
   },
   {
    "duration": 1022,
    "start_time": "2022-02-05T11:16:52.326Z"
   },
   {
    "duration": 5,
    "start_time": "2022-02-05T11:16:53.351Z"
   },
   {
    "duration": 778,
    "start_time": "2022-02-05T11:16:53.358Z"
   },
   {
    "duration": 35,
    "start_time": "2022-02-05T11:16:54.139Z"
   },
   {
    "duration": 1003,
    "start_time": "2022-02-05T11:16:54.177Z"
   },
   {
    "duration": 20,
    "start_time": "2022-02-05T11:16:55.183Z"
   },
   {
    "duration": 358,
    "start_time": "2022-02-05T11:16:55.206Z"
   },
   {
    "duration": 366,
    "start_time": "2022-02-05T11:16:55.567Z"
   },
   {
    "duration": 8,
    "start_time": "2022-02-05T11:16:55.936Z"
   },
   {
    "duration": 331,
    "start_time": "2022-02-05T11:16:55.946Z"
   },
   {
    "duration": 472,
    "start_time": "2022-02-05T11:16:56.279Z"
   },
   {
    "duration": 8,
    "start_time": "2022-02-05T11:16:56.754Z"
   },
   {
    "duration": 518,
    "start_time": "2022-02-05T11:16:56.765Z"
   },
   {
    "duration": 259,
    "start_time": "2022-02-05T11:16:57.286Z"
   },
   {
    "duration": 10,
    "start_time": "2022-02-05T11:16:57.547Z"
   },
   {
    "duration": 11,
    "start_time": "2022-02-05T11:16:57.560Z"
   },
   {
    "duration": 26,
    "start_time": "2022-02-05T11:16:57.573Z"
   },
   {
    "duration": 36,
    "start_time": "2022-02-05T11:16:57.601Z"
   },
   {
    "duration": 8,
    "start_time": "2022-02-05T11:16:57.639Z"
   },
   {
    "duration": 8,
    "start_time": "2022-02-05T11:16:57.650Z"
   },
   {
    "duration": 16,
    "start_time": "2022-02-05T11:16:57.660Z"
   },
   {
    "duration": 16,
    "start_time": "2022-02-05T11:16:57.679Z"
   },
   {
    "duration": 6,
    "start_time": "2022-02-05T11:16:57.722Z"
   },
   {
    "duration": 15,
    "start_time": "2022-02-05T11:16:57.730Z"
   },
   {
    "duration": 17,
    "start_time": "2022-02-05T11:16:57.747Z"
   },
   {
    "duration": 19,
    "start_time": "2022-02-05T11:16:57.766Z"
   },
   {
    "duration": 41,
    "start_time": "2022-02-05T11:16:57.788Z"
   },
   {
    "duration": 547,
    "start_time": "2022-02-05T11:16:57.831Z"
   },
   {
    "duration": 21,
    "start_time": "2022-02-05T11:18:31.418Z"
   },
   {
    "duration": 15,
    "start_time": "2022-02-05T11:18:41.533Z"
   },
   {
    "duration": 16,
    "start_time": "2022-02-05T11:19:00.581Z"
   },
   {
    "duration": 17,
    "start_time": "2022-02-05T11:19:07.839Z"
   },
   {
    "duration": 812,
    "start_time": "2022-02-05T11:20:19.658Z"
   },
   {
    "duration": 18,
    "start_time": "2022-02-05T11:26:02.818Z"
   },
   {
    "duration": 23,
    "start_time": "2022-02-05T11:26:08.237Z"
   },
   {
    "duration": 33,
    "start_time": "2022-02-05T11:27:05.968Z"
   },
   {
    "duration": 35,
    "start_time": "2022-02-05T11:28:34.431Z"
   },
   {
    "duration": 624,
    "start_time": "2022-02-05T11:31:10.912Z"
   },
   {
    "duration": 670,
    "start_time": "2022-02-05T11:31:23.165Z"
   },
   {
    "duration": 635,
    "start_time": "2022-02-05T11:32:01.953Z"
   },
   {
    "duration": 742,
    "start_time": "2022-02-05T11:32:06.481Z"
   },
   {
    "duration": 729,
    "start_time": "2022-02-05T11:32:18.228Z"
   },
   {
    "duration": 601,
    "start_time": "2022-02-05T11:32:24.753Z"
   },
   {
    "duration": 602,
    "start_time": "2022-02-05T11:35:12.936Z"
   },
   {
    "duration": 555,
    "start_time": "2022-02-05T11:35:46.128Z"
   },
   {
    "duration": 574,
    "start_time": "2022-02-05T11:36:09.130Z"
   },
   {
    "duration": 545,
    "start_time": "2022-02-05T11:36:49.686Z"
   },
   {
    "duration": 535,
    "start_time": "2022-02-05T11:36:54.756Z"
   },
   {
    "duration": 557,
    "start_time": "2022-02-05T11:37:00.429Z"
   },
   {
    "duration": 551,
    "start_time": "2022-02-05T11:37:13.780Z"
   },
   {
    "duration": 527,
    "start_time": "2022-02-05T11:37:22.657Z"
   },
   {
    "duration": 645,
    "start_time": "2022-02-05T11:37:37.985Z"
   },
   {
    "duration": 573,
    "start_time": "2022-02-05T11:38:07.804Z"
   },
   {
    "duration": 645,
    "start_time": "2022-02-05T11:38:21.348Z"
   },
   {
    "duration": 568,
    "start_time": "2022-02-05T11:39:32.209Z"
   },
   {
    "duration": 823,
    "start_time": "2022-02-05T11:39:39.790Z"
   },
   {
    "duration": 692,
    "start_time": "2022-02-05T11:40:53.972Z"
   },
   {
    "duration": 927,
    "start_time": "2022-02-05T11:41:02.756Z"
   },
   {
    "duration": 629,
    "start_time": "2022-02-05T11:41:07.360Z"
   },
   {
    "duration": 634,
    "start_time": "2022-02-05T11:41:14.152Z"
   },
   {
    "duration": 1430,
    "start_time": "2022-02-05T11:41:20.127Z"
   },
   {
    "duration": 967,
    "start_time": "2022-02-05T11:41:22.673Z"
   },
   {
    "duration": 828,
    "start_time": "2022-02-05T11:41:29.386Z"
   },
   {
    "duration": 1057,
    "start_time": "2022-02-05T11:41:40.589Z"
   },
   {
    "duration": 1294,
    "start_time": "2022-02-05T11:41:43.390Z"
   },
   {
    "duration": 907,
    "start_time": "2022-02-05T11:41:46.571Z"
   },
   {
    "duration": 867,
    "start_time": "2022-02-05T11:42:05.724Z"
   },
   {
    "duration": 629,
    "start_time": "2022-02-05T11:42:54.645Z"
   },
   {
    "duration": 562,
    "start_time": "2022-02-05T11:43:07.952Z"
   },
   {
    "duration": 577,
    "start_time": "2022-02-05T11:43:44.250Z"
   },
   {
    "duration": 552,
    "start_time": "2022-02-05T11:44:05.092Z"
   },
   {
    "duration": 583,
    "start_time": "2022-02-05T11:44:11.217Z"
   },
   {
    "duration": 486,
    "start_time": "2022-02-05T11:44:19.237Z"
   },
   {
    "duration": 601,
    "start_time": "2022-02-05T11:44:28.525Z"
   },
   {
    "duration": 525,
    "start_time": "2022-02-05T11:44:40.607Z"
   },
   {
    "duration": 544,
    "start_time": "2022-02-05T11:44:50.784Z"
   },
   {
    "duration": 497,
    "start_time": "2022-02-05T11:45:01.005Z"
   },
   {
    "duration": 531,
    "start_time": "2022-02-05T11:45:10.655Z"
   },
   {
    "duration": 525,
    "start_time": "2022-02-05T11:45:20.663Z"
   },
   {
    "duration": 552,
    "start_time": "2022-02-05T11:45:31.678Z"
   },
   {
    "duration": 20,
    "start_time": "2022-02-05T11:46:15.032Z"
   },
   {
    "duration": 8432,
    "start_time": "2022-02-05T11:46:55.608Z"
   },
   {
    "duration": 551,
    "start_time": "2022-02-05T11:48:03.406Z"
   },
   {
    "duration": 723,
    "start_time": "2022-02-05T11:48:07.704Z"
   },
   {
    "duration": 142,
    "start_time": "2022-02-05T11:48:14.327Z"
   },
   {
    "duration": 640,
    "start_time": "2022-02-05T11:48:17.152Z"
   },
   {
    "duration": 694,
    "start_time": "2022-02-05T11:48:22.777Z"
   },
   {
    "duration": 534,
    "start_time": "2022-02-05T11:48:31.755Z"
   },
   {
    "duration": 534,
    "start_time": "2022-02-05T11:48:52.793Z"
   },
   {
    "duration": 1483,
    "start_time": "2022-02-05T11:55:47.529Z"
   },
   {
    "duration": 61,
    "start_time": "2022-02-05T11:55:49.015Z"
   },
   {
    "duration": 4,
    "start_time": "2022-02-05T11:55:49.079Z"
   },
   {
    "duration": 8,
    "start_time": "2022-02-05T11:55:49.085Z"
   },
   {
    "duration": 6,
    "start_time": "2022-02-05T11:55:49.096Z"
   },
   {
    "duration": 5,
    "start_time": "2022-02-05T11:55:49.105Z"
   },
   {
    "duration": 6,
    "start_time": "2022-02-05T11:55:49.113Z"
   },
   {
    "duration": 4,
    "start_time": "2022-02-05T11:55:49.125Z"
   },
   {
    "duration": 23,
    "start_time": "2022-02-05T11:55:49.132Z"
   },
   {
    "duration": 16,
    "start_time": "2022-02-05T11:55:49.157Z"
   },
   {
    "duration": 54,
    "start_time": "2022-02-05T11:55:49.176Z"
   },
   {
    "duration": 9,
    "start_time": "2022-02-05T11:55:49.233Z"
   },
   {
    "duration": 8,
    "start_time": "2022-02-05T11:55:49.244Z"
   },
   {
    "duration": 16,
    "start_time": "2022-02-05T11:55:49.254Z"
   },
   {
    "duration": 53,
    "start_time": "2022-02-05T11:55:49.272Z"
   },
   {
    "duration": 16,
    "start_time": "2022-02-05T11:55:49.328Z"
   },
   {
    "duration": 12,
    "start_time": "2022-02-05T11:55:49.346Z"
   },
   {
    "duration": 11,
    "start_time": "2022-02-05T11:55:49.361Z"
   },
   {
    "duration": 8960,
    "start_time": "2022-02-05T11:55:49.375Z"
   },
   {
    "duration": -2302,
    "start_time": "2022-02-05T11:56:00.642Z"
   },
   {
    "duration": -2316,
    "start_time": "2022-02-05T11:56:00.657Z"
   },
   {
    "duration": -2330,
    "start_time": "2022-02-05T11:56:00.673Z"
   },
   {
    "duration": -2337,
    "start_time": "2022-02-05T11:56:00.681Z"
   },
   {
    "duration": -2349,
    "start_time": "2022-02-05T11:56:00.695Z"
   },
   {
    "duration": -2359,
    "start_time": "2022-02-05T11:56:00.707Z"
   },
   {
    "duration": -2366,
    "start_time": "2022-02-05T11:56:00.715Z"
   },
   {
    "duration": -2377,
    "start_time": "2022-02-05T11:56:00.728Z"
   },
   {
    "duration": -2388,
    "start_time": "2022-02-05T11:56:00.740Z"
   },
   {
    "duration": -2395,
    "start_time": "2022-02-05T11:56:00.748Z"
   },
   {
    "duration": -2406,
    "start_time": "2022-02-05T11:56:00.761Z"
   },
   {
    "duration": -2418,
    "start_time": "2022-02-05T11:56:00.774Z"
   },
   {
    "duration": -2425,
    "start_time": "2022-02-05T11:56:00.782Z"
   },
   {
    "duration": -2436,
    "start_time": "2022-02-05T11:56:00.794Z"
   },
   {
    "duration": -2493,
    "start_time": "2022-02-05T11:56:00.853Z"
   },
   {
    "duration": -2501,
    "start_time": "2022-02-05T11:56:00.862Z"
   },
   {
    "duration": -2513,
    "start_time": "2022-02-05T11:56:00.875Z"
   },
   {
    "duration": -2524,
    "start_time": "2022-02-05T11:56:00.888Z"
   },
   {
    "duration": -2531,
    "start_time": "2022-02-05T11:56:00.896Z"
   },
   {
    "duration": -2541,
    "start_time": "2022-02-05T11:56:00.907Z"
   },
   {
    "duration": -2546,
    "start_time": "2022-02-05T11:56:00.914Z"
   },
   {
    "duration": -2557,
    "start_time": "2022-02-05T11:56:00.926Z"
   },
   {
    "duration": -2568,
    "start_time": "2022-02-05T11:56:00.938Z"
   },
   {
    "duration": -2573,
    "start_time": "2022-02-05T11:56:00.945Z"
   },
   {
    "duration": -2583,
    "start_time": "2022-02-05T11:56:00.957Z"
   },
   {
    "duration": -2589,
    "start_time": "2022-02-05T11:56:00.964Z"
   },
   {
    "duration": -2600,
    "start_time": "2022-02-05T11:56:00.976Z"
   },
   {
    "duration": -2611,
    "start_time": "2022-02-05T11:56:00.989Z"
   },
   {
    "duration": -2574,
    "start_time": "2022-02-05T11:56:00.997Z"
   },
   {
    "duration": -2586,
    "start_time": "2022-02-05T11:56:01.011Z"
   },
   {
    "duration": -2598,
    "start_time": "2022-02-05T11:56:01.024Z"
   },
   {
    "duration": -2603,
    "start_time": "2022-02-05T11:56:01.031Z"
   },
   {
    "duration": -2619,
    "start_time": "2022-02-05T11:56:01.048Z"
   },
   {
    "duration": -2630,
    "start_time": "2022-02-05T11:56:01.061Z"
   },
   {
    "duration": -2642,
    "start_time": "2022-02-05T11:56:01.074Z"
   },
   {
    "duration": -2648,
    "start_time": "2022-02-05T11:56:01.082Z"
   },
   {
    "duration": -2662,
    "start_time": "2022-02-05T11:56:01.097Z"
   },
   {
    "duration": -2674,
    "start_time": "2022-02-05T11:56:01.111Z"
   },
   {
    "duration": -2685,
    "start_time": "2022-02-05T11:56:01.124Z"
   },
   {
    "duration": -2691,
    "start_time": "2022-02-05T11:56:01.131Z"
   },
   {
    "duration": -2705,
    "start_time": "2022-02-05T11:56:01.146Z"
   },
   {
    "duration": 12,
    "start_time": "2022-02-05T11:56:20.694Z"
   },
   {
    "duration": 1485,
    "start_time": "2022-02-05T11:56:25.532Z"
   },
   {
    "duration": 57,
    "start_time": "2022-02-05T11:56:27.019Z"
   },
   {
    "duration": 3,
    "start_time": "2022-02-05T11:56:27.079Z"
   },
   {
    "duration": 4,
    "start_time": "2022-02-05T11:56:27.085Z"
   },
   {
    "duration": 4,
    "start_time": "2022-02-05T11:56:27.092Z"
   },
   {
    "duration": 5,
    "start_time": "2022-02-05T11:56:27.098Z"
   },
   {
    "duration": 5,
    "start_time": "2022-02-05T11:56:27.105Z"
   },
   {
    "duration": 4,
    "start_time": "2022-02-05T11:56:27.113Z"
   },
   {
    "duration": 20,
    "start_time": "2022-02-05T11:56:27.120Z"
   },
   {
    "duration": 17,
    "start_time": "2022-02-05T11:56:27.142Z"
   },
   {
    "duration": 16,
    "start_time": "2022-02-05T11:56:27.162Z"
   },
   {
    "duration": 9,
    "start_time": "2022-02-05T11:56:27.224Z"
   },
   {
    "duration": 4,
    "start_time": "2022-02-05T11:56:27.236Z"
   },
   {
    "duration": 8,
    "start_time": "2022-02-05T11:56:27.243Z"
   },
   {
    "duration": 11,
    "start_time": "2022-02-05T11:56:27.254Z"
   },
   {
    "duration": 64,
    "start_time": "2022-02-05T11:56:27.268Z"
   },
   {
    "duration": 13,
    "start_time": "2022-02-05T11:56:27.335Z"
   },
   {
    "duration": 14,
    "start_time": "2022-02-05T11:56:27.351Z"
   },
   {
    "duration": 55,
    "start_time": "2022-02-05T11:56:27.368Z"
   },
   {
    "duration": 13,
    "start_time": "2022-02-05T11:56:27.425Z"
   },
   {
    "duration": 10,
    "start_time": "2022-02-05T11:56:27.441Z"
   },
   {
    "duration": 28,
    "start_time": "2022-02-05T11:56:27.453Z"
   },
   {
    "duration": 7,
    "start_time": "2022-02-05T11:56:27.488Z"
   },
   {
    "duration": 16,
    "start_time": "2022-02-05T11:56:27.523Z"
   },
   {
    "duration": 732,
    "start_time": "2022-02-05T11:56:27.542Z"
   },
   {
    "duration": 9,
    "start_time": "2022-02-05T11:56:28.277Z"
   },
   {
    "duration": 362,
    "start_time": "2022-02-05T11:56:28.288Z"
   },
   {
    "duration": 284,
    "start_time": "2022-02-05T11:56:28.653Z"
   },
   {
    "duration": 21,
    "start_time": "2022-02-05T11:56:28.940Z"
   },
   {
    "duration": 27,
    "start_time": "2022-02-05T11:56:28.963Z"
   },
   {
    "duration": 669,
    "start_time": "2022-02-05T11:56:28.993Z"
   },
   {
    "duration": 569,
    "start_time": "2022-02-05T11:56:29.665Z"
   },
   {
    "duration": 823,
    "start_time": "2022-02-05T11:56:30.237Z"
   },
   {
    "duration": 6,
    "start_time": "2022-02-05T11:56:31.064Z"
   },
   {
    "duration": 988,
    "start_time": "2022-02-05T11:56:31.074Z"
   },
   {
    "duration": 69,
    "start_time": "2022-02-05T11:56:32.065Z"
   },
   {
    "duration": 845,
    "start_time": "2022-02-05T11:56:32.137Z"
   },
   {
    "duration": 40,
    "start_time": "2022-02-05T11:56:32.985Z"
   },
   {
    "duration": 278,
    "start_time": "2022-02-05T11:56:33.028Z"
   },
   {
    "duration": 420,
    "start_time": "2022-02-05T11:56:33.309Z"
   },
   {
    "duration": 7,
    "start_time": "2022-02-05T11:56:33.731Z"
   },
   {
    "duration": 284,
    "start_time": "2022-02-05T11:56:33.741Z"
   },
   {
    "duration": 384,
    "start_time": "2022-02-05T11:56:34.027Z"
   },
   {
    "duration": 11,
    "start_time": "2022-02-05T11:56:34.413Z"
   },
   {
    "duration": 459,
    "start_time": "2022-02-05T11:56:34.427Z"
   },
   {
    "duration": 226,
    "start_time": "2022-02-05T11:56:34.889Z"
   },
   {
    "duration": 10,
    "start_time": "2022-02-05T11:56:35.117Z"
   },
   {
    "duration": 8,
    "start_time": "2022-02-05T11:56:35.130Z"
   },
   {
    "duration": 13,
    "start_time": "2022-02-05T11:56:35.141Z"
   },
   {
    "duration": 12,
    "start_time": "2022-02-05T11:56:35.157Z"
   },
   {
    "duration": 9,
    "start_time": "2022-02-05T11:56:35.172Z"
   },
   {
    "duration": 43,
    "start_time": "2022-02-05T11:56:35.184Z"
   },
   {
    "duration": 10,
    "start_time": "2022-02-05T11:56:35.229Z"
   },
   {
    "duration": 9,
    "start_time": "2022-02-05T11:56:35.242Z"
   },
   {
    "duration": 6,
    "start_time": "2022-02-05T11:56:35.253Z"
   },
   {
    "duration": 12,
    "start_time": "2022-02-05T11:56:35.262Z"
   },
   {
    "duration": 49,
    "start_time": "2022-02-05T11:56:35.276Z"
   },
   {
    "duration": 12,
    "start_time": "2022-02-05T11:56:35.328Z"
   },
   {
    "duration": 13,
    "start_time": "2022-02-05T11:56:35.342Z"
   },
   {
    "duration": 609,
    "start_time": "2022-02-05T11:56:35.358Z"
   },
   {
    "duration": 118,
    "start_time": "2022-02-05T11:58:58.920Z"
   },
   {
    "duration": 11,
    "start_time": "2022-02-05T12:00:26.270Z"
   },
   {
    "duration": 9,
    "start_time": "2022-02-05T12:02:58.904Z"
   },
   {
    "duration": 10,
    "start_time": "2022-02-05T12:03:03.387Z"
   },
   {
    "duration": 107,
    "start_time": "2022-02-05T12:06:35.889Z"
   },
   {
    "duration": 184,
    "start_time": "2022-02-05T12:20:11.294Z"
   },
   {
    "duration": 259,
    "start_time": "2022-02-05T12:20:29.687Z"
   },
   {
    "duration": 13,
    "start_time": "2022-02-05T12:20:35.408Z"
   },
   {
    "duration": 15,
    "start_time": "2022-02-05T12:23:08.999Z"
   },
   {
    "duration": 15,
    "start_time": "2022-02-05T12:23:23.272Z"
   },
   {
    "duration": 15,
    "start_time": "2022-02-05T12:24:20.815Z"
   },
   {
    "duration": 13,
    "start_time": "2022-02-05T12:24:26.147Z"
   },
   {
    "duration": 13,
    "start_time": "2022-02-05T12:25:39.811Z"
   },
   {
    "duration": 1590,
    "start_time": "2022-02-05T13:26:02.190Z"
   },
   {
    "duration": 59,
    "start_time": "2022-02-05T13:26:03.783Z"
   },
   {
    "duration": 4,
    "start_time": "2022-02-05T13:26:03.845Z"
   },
   {
    "duration": 5,
    "start_time": "2022-02-05T13:26:03.851Z"
   },
   {
    "duration": 6,
    "start_time": "2022-02-05T13:26:03.859Z"
   },
   {
    "duration": 6,
    "start_time": "2022-02-05T13:26:03.867Z"
   },
   {
    "duration": 15,
    "start_time": "2022-02-05T13:26:03.875Z"
   },
   {
    "duration": 28,
    "start_time": "2022-02-05T13:26:03.894Z"
   },
   {
    "duration": 25,
    "start_time": "2022-02-05T13:26:03.927Z"
   },
   {
    "duration": 16,
    "start_time": "2022-02-05T13:26:03.955Z"
   },
   {
    "duration": 52,
    "start_time": "2022-02-05T13:26:03.974Z"
   },
   {
    "duration": 15,
    "start_time": "2022-02-05T13:26:04.029Z"
   },
   {
    "duration": 7,
    "start_time": "2022-02-05T13:26:04.047Z"
   },
   {
    "duration": 20,
    "start_time": "2022-02-05T13:26:04.056Z"
   },
   {
    "duration": 17,
    "start_time": "2022-02-05T13:26:04.079Z"
   },
   {
    "duration": 33,
    "start_time": "2022-02-05T13:26:04.099Z"
   },
   {
    "duration": 19,
    "start_time": "2022-02-05T13:26:04.135Z"
   },
   {
    "duration": 11,
    "start_time": "2022-02-05T13:26:04.157Z"
   },
   {
    "duration": 27,
    "start_time": "2022-02-05T13:26:04.170Z"
   },
   {
    "duration": 27,
    "start_time": "2022-02-05T13:26:04.200Z"
   },
   {
    "duration": 12,
    "start_time": "2022-02-05T13:26:04.230Z"
   },
   {
    "duration": 20,
    "start_time": "2022-02-05T13:26:04.244Z"
   },
   {
    "duration": 6,
    "start_time": "2022-02-05T13:26:04.270Z"
   },
   {
    "duration": 50,
    "start_time": "2022-02-05T13:26:04.279Z"
   },
   {
    "duration": 1051,
    "start_time": "2022-02-05T13:26:04.332Z"
   },
   {
    "duration": 10,
    "start_time": "2022-02-05T13:26:05.386Z"
   },
   {
    "duration": 365,
    "start_time": "2022-02-05T13:26:05.399Z"
   },
   {
    "duration": 289,
    "start_time": "2022-02-05T13:26:05.766Z"
   },
   {
    "duration": 9,
    "start_time": "2022-02-05T13:26:06.058Z"
   },
   {
    "duration": 28,
    "start_time": "2022-02-05T13:26:06.069Z"
   },
   {
    "duration": 657,
    "start_time": "2022-02-05T13:26:06.124Z"
   },
   {
    "duration": 559,
    "start_time": "2022-02-05T13:26:06.784Z"
   },
   {
    "duration": 890,
    "start_time": "2022-02-05T13:26:07.345Z"
   },
   {
    "duration": 7,
    "start_time": "2022-02-05T13:26:08.238Z"
   },
   {
    "duration": 809,
    "start_time": "2022-02-05T13:26:08.248Z"
   },
   {
    "duration": 12,
    "start_time": "2022-02-05T13:26:09.061Z"
   },
   {
    "duration": 655,
    "start_time": "2022-02-05T13:26:09.076Z"
   },
   {
    "duration": 22,
    "start_time": "2022-02-05T13:26:09.734Z"
   },
   {
    "duration": 281,
    "start_time": "2022-02-05T13:26:09.759Z"
   },
   {
    "duration": 380,
    "start_time": "2022-02-05T13:26:10.042Z"
   },
   {
    "duration": 7,
    "start_time": "2022-02-05T13:26:10.424Z"
   },
   {
    "duration": 306,
    "start_time": "2022-02-05T13:26:10.433Z"
   },
   {
    "duration": 396,
    "start_time": "2022-02-05T13:26:10.742Z"
   },
   {
    "duration": 7,
    "start_time": "2022-02-05T13:26:11.140Z"
   },
   {
    "duration": 476,
    "start_time": "2022-02-05T13:26:11.149Z"
   },
   {
    "duration": 221,
    "start_time": "2022-02-05T13:26:11.628Z"
   },
   {
    "duration": 9,
    "start_time": "2022-02-05T13:26:11.852Z"
   },
   {
    "duration": 8,
    "start_time": "2022-02-05T13:26:11.864Z"
   },
   {
    "duration": 19,
    "start_time": "2022-02-05T13:26:11.874Z"
   },
   {
    "duration": 20,
    "start_time": "2022-02-05T13:26:11.924Z"
   },
   {
    "duration": 8,
    "start_time": "2022-02-05T13:26:11.947Z"
   },
   {
    "duration": 7,
    "start_time": "2022-02-05T13:26:11.958Z"
   },
   {
    "duration": 8,
    "start_time": "2022-02-05T13:26:11.968Z"
   },
   {
    "duration": 50,
    "start_time": "2022-02-05T13:26:11.978Z"
   },
   {
    "duration": 8,
    "start_time": "2022-02-05T13:26:12.031Z"
   },
   {
    "duration": 14,
    "start_time": "2022-02-05T13:26:12.042Z"
   },
   {
    "duration": 13,
    "start_time": "2022-02-05T13:26:12.058Z"
   },
   {
    "duration": 63,
    "start_time": "2022-02-05T13:26:12.074Z"
   },
   {
    "duration": 15,
    "start_time": "2022-02-05T13:26:12.140Z"
   },
   {
    "duration": 597,
    "start_time": "2022-02-05T13:26:12.157Z"
   },
   {
    "duration": 1417,
    "start_time": "2022-02-05T18:05:45.187Z"
   },
   {
    "duration": 62,
    "start_time": "2022-02-05T18:05:46.607Z"
   },
   {
    "duration": 4,
    "start_time": "2022-02-05T18:05:46.672Z"
   },
   {
    "duration": 7,
    "start_time": "2022-02-05T18:05:46.678Z"
   },
   {
    "duration": 7,
    "start_time": "2022-02-05T18:05:46.687Z"
   },
   {
    "duration": 8,
    "start_time": "2022-02-05T18:05:46.696Z"
   },
   {
    "duration": 12,
    "start_time": "2022-02-05T18:05:46.706Z"
   },
   {
    "duration": 13,
    "start_time": "2022-02-05T18:05:46.720Z"
   },
   {
    "duration": 24,
    "start_time": "2022-02-05T18:05:46.738Z"
   },
   {
    "duration": 16,
    "start_time": "2022-02-05T18:05:46.765Z"
   },
   {
    "duration": 48,
    "start_time": "2022-02-05T18:05:46.784Z"
   },
   {
    "duration": 7,
    "start_time": "2022-02-05T18:05:46.834Z"
   },
   {
    "duration": 4,
    "start_time": "2022-02-05T18:05:46.843Z"
   },
   {
    "duration": 7,
    "start_time": "2022-02-05T18:05:46.850Z"
   },
   {
    "duration": 12,
    "start_time": "2022-02-05T18:05:46.859Z"
   },
   {
    "duration": 60,
    "start_time": "2022-02-05T18:05:46.873Z"
   },
   {
    "duration": 13,
    "start_time": "2022-02-05T18:05:46.935Z"
   },
   {
    "duration": 10,
    "start_time": "2022-02-05T18:05:46.950Z"
   },
   {
    "duration": 20,
    "start_time": "2022-02-05T18:05:46.962Z"
   },
   {
    "duration": 10,
    "start_time": "2022-02-05T18:05:46.984Z"
   },
   {
    "duration": 5,
    "start_time": "2022-02-05T18:05:47.033Z"
   },
   {
    "duration": 17,
    "start_time": "2022-02-05T18:05:47.041Z"
   },
   {
    "duration": 6,
    "start_time": "2022-02-05T18:05:47.060Z"
   },
   {
    "duration": 17,
    "start_time": "2022-02-05T18:05:47.068Z"
   },
   {
    "duration": 60037,
    "start_time": "2022-02-05T18:05:47.087Z"
   },
   {
    "duration": 12,
    "start_time": "2022-02-05T18:06:47.134Z"
   },
   {
    "duration": 373,
    "start_time": "2022-02-05T18:06:47.153Z"
   },
   {
    "duration": 281,
    "start_time": "2022-02-05T18:06:47.529Z"
   },
   {
    "duration": 25,
    "start_time": "2022-02-05T18:06:47.813Z"
   },
   {
    "duration": 22,
    "start_time": "2022-02-05T18:06:47.841Z"
   },
   {
    "duration": 692,
    "start_time": "2022-02-05T18:06:47.866Z"
   },
   {
    "duration": 591,
    "start_time": "2022-02-05T18:06:48.560Z"
   },
   {
    "duration": 1049,
    "start_time": "2022-02-05T18:06:49.154Z"
   },
   {
    "duration": 6,
    "start_time": "2022-02-05T18:06:50.206Z"
   },
   {
    "duration": 782,
    "start_time": "2022-02-05T18:06:50.215Z"
   },
   {
    "duration": 17,
    "start_time": "2022-02-05T18:06:51.000Z"
   },
   {
    "duration": 641,
    "start_time": "2022-02-05T18:06:51.032Z"
   },
   {
    "duration": 20,
    "start_time": "2022-02-05T18:06:51.675Z"
   },
   {
    "duration": 293,
    "start_time": "2022-02-05T18:06:51.698Z"
   },
   {
    "duration": 445,
    "start_time": "2022-02-05T18:06:51.993Z"
   },
   {
    "duration": 8,
    "start_time": "2022-02-05T18:06:52.441Z"
   },
   {
    "duration": 432,
    "start_time": "2022-02-05T18:06:52.452Z"
   },
   {
    "duration": 563,
    "start_time": "2022-02-05T18:06:52.887Z"
   },
   {
    "duration": 7,
    "start_time": "2022-02-05T18:06:53.453Z"
   },
   {
    "duration": 499,
    "start_time": "2022-02-05T18:06:53.463Z"
   },
   {
    "duration": 401,
    "start_time": "2022-02-05T18:06:53.964Z"
   },
   {
    "duration": 12,
    "start_time": "2022-02-05T18:06:54.368Z"
   },
   {
    "duration": 11,
    "start_time": "2022-02-05T18:06:54.383Z"
   },
   {
    "duration": 42,
    "start_time": "2022-02-05T18:06:54.398Z"
   },
   {
    "duration": 17,
    "start_time": "2022-02-05T18:06:54.443Z"
   },
   {
    "duration": 7,
    "start_time": "2022-02-05T18:06:54.463Z"
   },
   {
    "duration": 9,
    "start_time": "2022-02-05T18:06:54.472Z"
   },
   {
    "duration": 13,
    "start_time": "2022-02-05T18:06:54.483Z"
   },
   {
    "duration": 35,
    "start_time": "2022-02-05T18:06:54.498Z"
   },
   {
    "duration": 7,
    "start_time": "2022-02-05T18:06:54.536Z"
   },
   {
    "duration": 14,
    "start_time": "2022-02-05T18:06:54.546Z"
   },
   {
    "duration": 14,
    "start_time": "2022-02-05T18:06:54.562Z"
   },
   {
    "duration": 15,
    "start_time": "2022-02-05T18:06:54.578Z"
   },
   {
    "duration": 13,
    "start_time": "2022-02-05T18:06:54.632Z"
   },
   {
    "duration": 565,
    "start_time": "2022-02-05T18:06:54.648Z"
   },
   {
    "duration": 1090,
    "start_time": "2022-02-06T11:47:04.333Z"
   },
   {
    "duration": 68,
    "start_time": "2022-02-06T11:47:05.425Z"
   },
   {
    "duration": 2,
    "start_time": "2022-02-06T11:47:05.495Z"
   },
   {
    "duration": 5,
    "start_time": "2022-02-06T11:47:05.499Z"
   },
   {
    "duration": 5,
    "start_time": "2022-02-06T11:47:05.506Z"
   },
   {
    "duration": 6,
    "start_time": "2022-02-06T11:47:05.513Z"
   },
   {
    "duration": 5,
    "start_time": "2022-02-06T11:47:05.521Z"
   },
   {
    "duration": 5,
    "start_time": "2022-02-06T11:47:05.528Z"
   },
   {
    "duration": 14,
    "start_time": "2022-02-06T11:47:05.534Z"
   },
   {
    "duration": 11,
    "start_time": "2022-02-06T11:47:05.550Z"
   },
   {
    "duration": 11,
    "start_time": "2022-02-06T11:47:05.562Z"
   },
   {
    "duration": 5,
    "start_time": "2022-02-06T11:47:05.575Z"
   },
   {
    "duration": 3,
    "start_time": "2022-02-06T11:47:05.582Z"
   },
   {
    "duration": 5,
    "start_time": "2022-02-06T11:47:05.587Z"
   },
   {
    "duration": 39,
    "start_time": "2022-02-06T11:47:05.593Z"
   },
   {
    "duration": 8,
    "start_time": "2022-02-06T11:47:05.634Z"
   },
   {
    "duration": 7,
    "start_time": "2022-02-06T11:47:05.644Z"
   },
   {
    "duration": 8,
    "start_time": "2022-02-06T11:47:05.652Z"
   },
   {
    "duration": 9,
    "start_time": "2022-02-06T11:47:05.661Z"
   },
   {
    "duration": 8,
    "start_time": "2022-02-06T11:47:05.671Z"
   },
   {
    "duration": 4,
    "start_time": "2022-02-06T11:47:05.680Z"
   },
   {
    "duration": 50,
    "start_time": "2022-02-06T11:47:05.685Z"
   },
   {
    "duration": 4,
    "start_time": "2022-02-06T11:47:05.739Z"
   },
   {
    "duration": 10,
    "start_time": "2022-02-06T11:47:05.745Z"
   },
   {
    "duration": 479,
    "start_time": "2022-02-06T11:47:05.757Z"
   },
   {
    "duration": 7,
    "start_time": "2022-02-06T11:47:06.238Z"
   },
   {
    "duration": 200,
    "start_time": "2022-02-06T11:47:06.247Z"
   },
   {
    "duration": 145,
    "start_time": "2022-02-06T11:47:06.449Z"
   },
   {
    "duration": 7,
    "start_time": "2022-02-06T11:47:06.596Z"
   },
   {
    "duration": 25,
    "start_time": "2022-02-06T11:47:06.604Z"
   },
   {
    "duration": 352,
    "start_time": "2022-02-06T11:47:06.631Z"
   },
   {
    "duration": 310,
    "start_time": "2022-02-06T11:47:06.985Z"
   },
   {
    "duration": 525,
    "start_time": "2022-02-06T11:47:07.297Z"
   },
   {
    "duration": 3,
    "start_time": "2022-02-06T11:47:07.824Z"
   },
   {
    "duration": 300,
    "start_time": "2022-02-06T11:47:07.829Z"
   },
   {
    "duration": 7,
    "start_time": "2022-02-06T11:47:08.131Z"
   },
   {
    "duration": 502,
    "start_time": "2022-02-06T11:47:08.139Z"
   },
   {
    "duration": 10,
    "start_time": "2022-02-06T11:47:08.643Z"
   },
   {
    "duration": 144,
    "start_time": "2022-02-06T11:47:08.655Z"
   },
   {
    "duration": 250,
    "start_time": "2022-02-06T11:47:08.801Z"
   },
   {
    "duration": 4,
    "start_time": "2022-02-06T11:47:09.053Z"
   },
   {
    "duration": 166,
    "start_time": "2022-02-06T11:47:09.058Z"
   },
   {
    "duration": 270,
    "start_time": "2022-02-06T11:47:09.225Z"
   },
   {
    "duration": 4,
    "start_time": "2022-02-06T11:47:09.497Z"
   },
   {
    "duration": 336,
    "start_time": "2022-02-06T11:47:09.502Z"
   },
   {
    "duration": 191,
    "start_time": "2022-02-06T11:47:09.840Z"
   },
   {
    "duration": 8,
    "start_time": "2022-02-06T11:47:10.033Z"
   },
   {
    "duration": 6,
    "start_time": "2022-02-06T11:47:10.042Z"
   },
   {
    "duration": 10,
    "start_time": "2022-02-06T11:47:10.050Z"
   },
   {
    "duration": 8,
    "start_time": "2022-02-06T11:47:10.062Z"
   },
   {
    "duration": 4,
    "start_time": "2022-02-06T11:47:10.071Z"
   },
   {
    "duration": 7,
    "start_time": "2022-02-06T11:47:10.077Z"
   },
   {
    "duration": 14,
    "start_time": "2022-02-06T11:47:10.085Z"
   },
   {
    "duration": 26,
    "start_time": "2022-02-06T11:47:10.101Z"
   },
   {
    "duration": 3,
    "start_time": "2022-02-06T11:47:10.129Z"
   },
   {
    "duration": 9,
    "start_time": "2022-02-06T11:47:10.134Z"
   },
   {
    "duration": 10,
    "start_time": "2022-02-06T11:47:10.145Z"
   },
   {
    "duration": 7,
    "start_time": "2022-02-06T11:47:10.157Z"
   },
   {
    "duration": 8,
    "start_time": "2022-02-06T11:47:10.166Z"
   },
   {
    "duration": 514,
    "start_time": "2022-02-06T11:47:10.175Z"
   },
   {
    "duration": 514,
    "start_time": "2022-02-06T11:50:02.921Z"
   },
   {
    "duration": 137,
    "start_time": "2022-02-06T11:51:25.619Z"
   },
   {
    "duration": 143,
    "start_time": "2022-02-06T11:51:49.513Z"
   },
   {
    "duration": 208,
    "start_time": "2022-02-06T11:51:54.500Z"
   },
   {
    "duration": 150,
    "start_time": "2022-02-06T11:52:27.899Z"
   },
   {
    "duration": 243,
    "start_time": "2022-02-06T11:53:26.263Z"
   },
   {
    "duration": 260,
    "start_time": "2022-02-06T11:53:40.290Z"
   },
   {
    "duration": 156,
    "start_time": "2022-02-06T11:55:52.094Z"
   },
   {
    "duration": 161,
    "start_time": "2022-02-06T11:56:22.673Z"
   },
   {
    "duration": 283,
    "start_time": "2022-02-06T11:57:05.844Z"
   },
   {
    "duration": 163,
    "start_time": "2022-02-06T11:57:24.313Z"
   },
   {
    "duration": 1050,
    "start_time": "2022-02-06T12:47:54.977Z"
   },
   {
    "duration": 61,
    "start_time": "2022-02-06T12:47:56.029Z"
   },
   {
    "duration": 14,
    "start_time": "2022-02-06T12:47:56.092Z"
   },
   {
    "duration": 10,
    "start_time": "2022-02-06T12:47:56.108Z"
   },
   {
    "duration": 10,
    "start_time": "2022-02-06T12:47:56.119Z"
   },
   {
    "duration": 6,
    "start_time": "2022-02-06T12:47:56.130Z"
   },
   {
    "duration": 10,
    "start_time": "2022-02-06T12:47:56.137Z"
   },
   {
    "duration": 5,
    "start_time": "2022-02-06T12:47:56.149Z"
   },
   {
    "duration": 7,
    "start_time": "2022-02-06T12:47:56.156Z"
   },
   {
    "duration": 7,
    "start_time": "2022-02-06T12:47:56.165Z"
   },
   {
    "duration": 7,
    "start_time": "2022-02-06T12:47:56.174Z"
   },
   {
    "duration": 7,
    "start_time": "2022-02-06T12:47:56.183Z"
   },
   {
    "duration": 38,
    "start_time": "2022-02-06T12:47:56.192Z"
   },
   {
    "duration": 6,
    "start_time": "2022-02-06T12:47:56.232Z"
   },
   {
    "duration": 4,
    "start_time": "2022-02-06T12:47:56.240Z"
   },
   {
    "duration": 10,
    "start_time": "2022-02-06T12:47:56.245Z"
   },
   {
    "duration": 6,
    "start_time": "2022-02-06T12:47:56.256Z"
   },
   {
    "duration": 10,
    "start_time": "2022-02-06T12:47:56.264Z"
   },
   {
    "duration": 483,
    "start_time": "2022-02-06T12:47:56.275Z"
   },
   {
    "duration": 7,
    "start_time": "2022-02-06T12:47:56.760Z"
   },
   {
    "duration": 206,
    "start_time": "2022-02-06T12:47:56.768Z"
   },
   {
    "duration": 152,
    "start_time": "2022-02-06T12:47:56.976Z"
   },
   {
    "duration": 6,
    "start_time": "2022-02-06T12:47:57.131Z"
   },
   {
    "duration": 15,
    "start_time": "2022-02-06T12:47:57.138Z"
   },
   {
    "duration": 355,
    "start_time": "2022-02-06T12:47:57.154Z"
   },
   {
    "duration": 312,
    "start_time": "2022-02-06T12:47:57.511Z"
   },
   {
    "duration": 757,
    "start_time": "2022-02-06T12:47:57.827Z"
   },
   {
    "duration": 4,
    "start_time": "2022-02-06T12:47:58.586Z"
   },
   {
    "duration": 323,
    "start_time": "2022-02-06T12:47:58.598Z"
   },
   {
    "duration": 8,
    "start_time": "2022-02-06T12:47:58.926Z"
   },
   {
    "duration": 401,
    "start_time": "2022-02-06T12:47:58.936Z"
   },
   {
    "duration": 11,
    "start_time": "2022-02-06T12:47:59.339Z"
   },
   {
    "duration": 170,
    "start_time": "2022-02-06T12:47:59.351Z"
   },
   {
    "duration": 277,
    "start_time": "2022-02-06T12:47:59.527Z"
   },
   {
    "duration": 5,
    "start_time": "2022-02-06T12:47:59.806Z"
   },
   {
    "duration": 222,
    "start_time": "2022-02-06T12:47:59.813Z"
   },
   {
    "duration": 300,
    "start_time": "2022-02-06T12:48:00.036Z"
   },
   {
    "duration": 5,
    "start_time": "2022-02-06T12:48:00.337Z"
   },
   {
    "duration": 258,
    "start_time": "2022-02-06T12:48:00.343Z"
   },
   {
    "duration": 108,
    "start_time": "2022-02-06T12:48:00.602Z"
   },
   {
    "duration": 13,
    "start_time": "2022-02-06T12:48:00.713Z"
   },
   {
    "duration": 9,
    "start_time": "2022-02-06T12:48:00.728Z"
   },
   {
    "duration": 16,
    "start_time": "2022-02-06T12:48:00.738Z"
   },
   {
    "duration": 17,
    "start_time": "2022-02-06T12:48:00.756Z"
   },
   {
    "duration": 16,
    "start_time": "2022-02-06T12:48:00.775Z"
   },
   {
    "duration": 24,
    "start_time": "2022-02-06T12:48:00.793Z"
   },
   {
    "duration": 10,
    "start_time": "2022-02-06T12:48:00.819Z"
   },
   {
    "duration": 14,
    "start_time": "2022-02-06T12:48:00.831Z"
   },
   {
    "duration": 17,
    "start_time": "2022-02-06T12:48:00.847Z"
   },
   {
    "duration": 17,
    "start_time": "2022-02-06T12:48:00.866Z"
   },
   {
    "duration": 10,
    "start_time": "2022-02-06T12:48:00.885Z"
   },
   {
    "duration": 8,
    "start_time": "2022-02-06T12:48:00.897Z"
   },
   {
    "duration": 8,
    "start_time": "2022-02-06T12:48:00.907Z"
   },
   {
    "duration": 387,
    "start_time": "2022-02-06T12:48:00.917Z"
   },
   {
    "duration": 250,
    "start_time": "2022-02-06T13:00:33.388Z"
   },
   {
    "duration": 1103,
    "start_time": "2022-02-06T13:16:50.056Z"
   },
   {
    "duration": 60,
    "start_time": "2022-02-06T13:16:51.161Z"
   },
   {
    "duration": 12,
    "start_time": "2022-02-06T13:16:51.223Z"
   },
   {
    "duration": 11,
    "start_time": "2022-02-06T13:16:51.236Z"
   },
   {
    "duration": 8,
    "start_time": "2022-02-06T13:16:51.248Z"
   },
   {
    "duration": 6,
    "start_time": "2022-02-06T13:16:51.257Z"
   },
   {
    "duration": 3,
    "start_time": "2022-02-06T13:16:51.265Z"
   },
   {
    "duration": 5,
    "start_time": "2022-02-06T13:16:51.271Z"
   },
   {
    "duration": 7,
    "start_time": "2022-02-06T13:16:51.278Z"
   },
   {
    "duration": 8,
    "start_time": "2022-02-06T13:16:51.328Z"
   },
   {
    "duration": 9,
    "start_time": "2022-02-06T13:16:51.338Z"
   },
   {
    "duration": 14,
    "start_time": "2022-02-06T13:16:51.349Z"
   },
   {
    "duration": 20,
    "start_time": "2022-02-06T13:16:51.365Z"
   },
   {
    "duration": 7,
    "start_time": "2022-02-06T13:16:51.387Z"
   },
   {
    "duration": 5,
    "start_time": "2022-02-06T13:16:51.396Z"
   },
   {
    "duration": 30,
    "start_time": "2022-02-06T13:16:51.402Z"
   },
   {
    "duration": 4,
    "start_time": "2022-02-06T13:16:51.434Z"
   },
   {
    "duration": 23,
    "start_time": "2022-02-06T13:16:51.440Z"
   },
   {
    "duration": 462,
    "start_time": "2022-02-06T13:16:51.465Z"
   },
   {
    "duration": 6,
    "start_time": "2022-02-06T13:16:51.930Z"
   },
   {
    "duration": 203,
    "start_time": "2022-02-06T13:16:51.938Z"
   },
   {
    "duration": 155,
    "start_time": "2022-02-06T13:16:52.142Z"
   },
   {
    "duration": 6,
    "start_time": "2022-02-06T13:16:52.302Z"
   },
   {
    "duration": 26,
    "start_time": "2022-02-06T13:16:52.311Z"
   },
   {
    "duration": 356,
    "start_time": "2022-02-06T13:16:52.338Z"
   },
   {
    "duration": 415,
    "start_time": "2022-02-06T13:16:52.696Z"
   },
   {
    "duration": 546,
    "start_time": "2022-02-06T13:16:53.113Z"
   },
   {
    "duration": 4,
    "start_time": "2022-02-06T13:16:53.660Z"
   },
   {
    "duration": 340,
    "start_time": "2022-02-06T13:16:53.666Z"
   },
   {
    "duration": 8,
    "start_time": "2022-02-06T13:16:54.007Z"
   },
   {
    "duration": 405,
    "start_time": "2022-02-06T13:16:54.016Z"
   },
   {
    "duration": 12,
    "start_time": "2022-02-06T13:16:54.422Z"
   },
   {
    "duration": 163,
    "start_time": "2022-02-06T13:16:54.436Z"
   },
   {
    "duration": 273,
    "start_time": "2022-02-06T13:16:54.600Z"
   },
   {
    "duration": 54,
    "start_time": "2022-02-06T13:16:54.875Z"
   },
   {
    "duration": 217,
    "start_time": "2022-02-06T13:16:54.931Z"
   },
   {
    "duration": 286,
    "start_time": "2022-02-06T13:16:55.150Z"
   },
   {
    "duration": 4,
    "start_time": "2022-02-06T13:16:55.438Z"
   },
   {
    "duration": 259,
    "start_time": "2022-02-06T13:16:55.443Z"
   },
   {
    "duration": 103,
    "start_time": "2022-02-06T13:16:55.704Z"
   },
   {
    "duration": 7,
    "start_time": "2022-02-06T13:16:55.809Z"
   },
   {
    "duration": 6,
    "start_time": "2022-02-06T13:16:55.827Z"
   },
   {
    "duration": 8,
    "start_time": "2022-02-06T13:16:55.835Z"
   },
   {
    "duration": 9,
    "start_time": "2022-02-06T13:16:55.845Z"
   },
   {
    "duration": 5,
    "start_time": "2022-02-06T13:16:55.855Z"
   },
   {
    "duration": 4,
    "start_time": "2022-02-06T13:16:55.862Z"
   },
   {
    "duration": 7,
    "start_time": "2022-02-06T13:16:55.868Z"
   },
   {
    "duration": 6,
    "start_time": "2022-02-06T13:16:55.876Z"
   },
   {
    "duration": 5,
    "start_time": "2022-02-06T13:16:55.884Z"
   },
   {
    "duration": 41,
    "start_time": "2022-02-06T13:16:55.890Z"
   },
   {
    "duration": 7,
    "start_time": "2022-02-06T13:16:55.933Z"
   },
   {
    "duration": 8,
    "start_time": "2022-02-06T13:16:55.942Z"
   },
   {
    "duration": 8,
    "start_time": "2022-02-06T13:16:55.952Z"
   },
   {
    "duration": 387,
    "start_time": "2022-02-06T13:16:55.961Z"
   },
   {
    "duration": 1499,
    "start_time": "2022-02-09T08:04:56.677Z"
   },
   {
    "duration": 40,
    "start_time": "2022-02-09T08:04:58.178Z"
   },
   {
    "duration": 20,
    "start_time": "2022-02-09T08:04:58.221Z"
   },
   {
    "duration": 15,
    "start_time": "2022-02-09T08:04:58.244Z"
   },
   {
    "duration": 13,
    "start_time": "2022-02-09T08:04:58.269Z"
   },
   {
    "duration": 9,
    "start_time": "2022-02-09T08:04:58.285Z"
   },
   {
    "duration": 7,
    "start_time": "2022-02-09T08:04:58.297Z"
   },
   {
    "duration": 9,
    "start_time": "2022-02-09T08:04:58.306Z"
   },
   {
    "duration": 57,
    "start_time": "2022-02-09T08:04:58.319Z"
   },
   {
    "duration": 20,
    "start_time": "2022-02-09T08:04:58.380Z"
   },
   {
    "duration": 15,
    "start_time": "2022-02-09T08:04:58.404Z"
   },
   {
    "duration": 51,
    "start_time": "2022-02-09T08:04:58.422Z"
   },
   {
    "duration": 22,
    "start_time": "2022-02-09T08:04:58.476Z"
   },
   {
    "duration": 11,
    "start_time": "2022-02-09T08:04:58.501Z"
   },
   {
    "duration": 8,
    "start_time": "2022-02-09T08:04:58.514Z"
   },
   {
    "duration": 48,
    "start_time": "2022-02-09T08:04:58.524Z"
   },
   {
    "duration": 11,
    "start_time": "2022-02-09T08:04:58.574Z"
   },
   {
    "duration": 18,
    "start_time": "2022-02-09T08:04:58.587Z"
   },
   {
    "duration": 625,
    "start_time": "2022-02-09T08:04:58.607Z"
   },
   {
    "duration": 10,
    "start_time": "2022-02-09T08:04:59.235Z"
   },
   {
    "duration": 531,
    "start_time": "2022-02-09T08:04:59.248Z"
   },
   {
    "duration": 289,
    "start_time": "2022-02-09T08:04:59.782Z"
   },
   {
    "duration": 9,
    "start_time": "2022-02-09T08:05:00.074Z"
   },
   {
    "duration": 31,
    "start_time": "2022-02-09T08:05:00.086Z"
   },
   {
    "duration": 728,
    "start_time": "2022-02-09T08:05:00.119Z"
   },
   {
    "duration": 594,
    "start_time": "2022-02-09T08:05:00.849Z"
   },
   {
    "duration": 832,
    "start_time": "2022-02-09T08:05:01.449Z"
   },
   {
    "duration": 5,
    "start_time": "2022-02-09T08:05:02.285Z"
   },
   {
    "duration": 667,
    "start_time": "2022-02-09T08:05:02.293Z"
   },
   {
    "duration": 30,
    "start_time": "2022-02-09T08:05:02.962Z"
   },
   {
    "duration": 611,
    "start_time": "2022-02-09T08:05:02.994Z"
   },
   {
    "duration": 22,
    "start_time": "2022-02-09T08:05:03.608Z"
   },
   {
    "duration": 448,
    "start_time": "2022-02-09T08:05:03.633Z"
   },
   {
    "duration": 558,
    "start_time": "2022-02-09T08:05:04.084Z"
   },
   {
    "duration": 58764,
    "start_time": "2022-02-09T08:04:05.881Z"
   },
   {
    "duration": 58757,
    "start_time": "2022-02-09T08:04:05.889Z"
   },
   {
    "duration": 58751,
    "start_time": "2022-02-09T08:04:05.896Z"
   },
   {
    "duration": 58745,
    "start_time": "2022-02-09T08:04:05.904Z"
   },
   {
    "duration": 58738,
    "start_time": "2022-02-09T08:04:05.912Z"
   },
   {
    "duration": 58730,
    "start_time": "2022-02-09T08:04:05.921Z"
   },
   {
    "duration": 58727,
    "start_time": "2022-02-09T08:04:05.926Z"
   },
   {
    "duration": 58723,
    "start_time": "2022-02-09T08:04:05.931Z"
   },
   {
    "duration": 58714,
    "start_time": "2022-02-09T08:04:05.941Z"
   },
   {
    "duration": 58694,
    "start_time": "2022-02-09T08:04:05.962Z"
   },
   {
    "duration": 58690,
    "start_time": "2022-02-09T08:04:05.968Z"
   },
   {
    "duration": 58686,
    "start_time": "2022-02-09T08:04:05.973Z"
   },
   {
    "duration": 58666,
    "start_time": "2022-02-09T08:04:05.994Z"
   },
   {
    "duration": 58660,
    "start_time": "2022-02-09T08:04:06.002Z"
   },
   {
    "duration": 58654,
    "start_time": "2022-02-09T08:04:06.009Z"
   },
   {
    "duration": 58650,
    "start_time": "2022-02-09T08:04:06.015Z"
   },
   {
    "duration": 58643,
    "start_time": "2022-02-09T08:04:06.023Z"
   },
   {
    "duration": 58638,
    "start_time": "2022-02-09T08:04:06.029Z"
   },
   {
    "duration": 58632,
    "start_time": "2022-02-09T08:04:06.037Z"
   },
   {
    "duration": 58628,
    "start_time": "2022-02-09T08:04:06.042Z"
   },
   {
    "duration": 312,
    "start_time": "2022-02-09T08:05:33.797Z"
   },
   {
    "duration": 391,
    "start_time": "2022-02-09T08:05:38.637Z"
   },
   {
    "duration": 360,
    "start_time": "2022-02-09T08:06:52.797Z"
   },
   {
    "duration": 349,
    "start_time": "2022-02-09T08:07:07.517Z"
   },
   {
    "duration": 1147,
    "start_time": "2022-02-09T15:37:08.786Z"
   },
   {
    "duration": 61,
    "start_time": "2022-02-09T15:37:09.935Z"
   },
   {
    "duration": 12,
    "start_time": "2022-02-09T15:37:09.997Z"
   },
   {
    "duration": 13,
    "start_time": "2022-02-09T15:37:10.011Z"
   },
   {
    "duration": 9,
    "start_time": "2022-02-09T15:37:10.025Z"
   },
   {
    "duration": 5,
    "start_time": "2022-02-09T15:37:10.036Z"
   },
   {
    "duration": 4,
    "start_time": "2022-02-09T15:37:10.043Z"
   },
   {
    "duration": 6,
    "start_time": "2022-02-09T15:37:10.049Z"
   },
   {
    "duration": 12,
    "start_time": "2022-02-09T15:37:10.056Z"
   },
   {
    "duration": 10,
    "start_time": "2022-02-09T15:37:10.069Z"
   },
   {
    "duration": 6,
    "start_time": "2022-02-09T15:37:10.081Z"
   },
   {
    "duration": 6,
    "start_time": "2022-02-09T15:37:10.089Z"
   },
   {
    "duration": 36,
    "start_time": "2022-02-09T15:37:10.096Z"
   },
   {
    "duration": 6,
    "start_time": "2022-02-09T15:37:10.134Z"
   },
   {
    "duration": 7,
    "start_time": "2022-02-09T15:37:10.141Z"
   },
   {
    "duration": 11,
    "start_time": "2022-02-09T15:37:10.150Z"
   },
   {
    "duration": 4,
    "start_time": "2022-02-09T15:37:10.163Z"
   },
   {
    "duration": 11,
    "start_time": "2022-02-09T15:37:10.168Z"
   },
   {
    "duration": 506,
    "start_time": "2022-02-09T15:37:10.180Z"
   },
   {
    "duration": 6,
    "start_time": "2022-02-09T15:37:10.687Z"
   },
   {
    "duration": 191,
    "start_time": "2022-02-09T15:37:10.695Z"
   },
   {
    "duration": 142,
    "start_time": "2022-02-09T15:37:10.887Z"
   },
   {
    "duration": 5,
    "start_time": "2022-02-09T15:37:11.033Z"
   },
   {
    "duration": 14,
    "start_time": "2022-02-09T15:37:11.040Z"
   },
   {
    "duration": 356,
    "start_time": "2022-02-09T15:37:11.055Z"
   },
   {
    "duration": 317,
    "start_time": "2022-02-09T15:37:11.412Z"
   },
   {
    "duration": 559,
    "start_time": "2022-02-09T15:37:11.731Z"
   },
   {
    "duration": 3,
    "start_time": "2022-02-09T15:37:12.291Z"
   },
   {
    "duration": 301,
    "start_time": "2022-02-09T15:37:12.296Z"
   },
   {
    "duration": 7,
    "start_time": "2022-02-09T15:37:12.599Z"
   },
   {
    "duration": 401,
    "start_time": "2022-02-09T15:37:12.607Z"
   },
   {
    "duration": 19,
    "start_time": "2022-02-09T15:37:13.010Z"
   },
   {
    "duration": 156,
    "start_time": "2022-02-09T15:37:13.031Z"
   },
   {
    "duration": 257,
    "start_time": "2022-02-09T15:37:13.189Z"
   },
   {
    "duration": 6,
    "start_time": "2022-02-09T15:37:13.448Z"
   },
   {
    "duration": 176,
    "start_time": "2022-02-09T15:37:13.455Z"
   },
   {
    "duration": 296,
    "start_time": "2022-02-09T15:37:13.632Z"
   },
   {
    "duration": 4,
    "start_time": "2022-02-09T15:37:13.930Z"
   },
   {
    "duration": 308,
    "start_time": "2022-02-09T15:37:13.935Z"
   },
   {
    "duration": 142,
    "start_time": "2022-02-09T15:37:14.244Z"
   },
   {
    "duration": 5,
    "start_time": "2022-02-09T15:37:14.388Z"
   },
   {
    "duration": 9,
    "start_time": "2022-02-09T15:37:14.394Z"
   },
   {
    "duration": 8,
    "start_time": "2022-02-09T15:37:14.405Z"
   },
   {
    "duration": 8,
    "start_time": "2022-02-09T15:37:14.427Z"
   },
   {
    "duration": 4,
    "start_time": "2022-02-09T15:37:14.436Z"
   },
   {
    "duration": 5,
    "start_time": "2022-02-09T15:37:14.441Z"
   },
   {
    "duration": 10,
    "start_time": "2022-02-09T15:37:14.447Z"
   },
   {
    "duration": 4,
    "start_time": "2022-02-09T15:37:14.459Z"
   },
   {
    "duration": 4,
    "start_time": "2022-02-09T15:37:14.465Z"
   },
   {
    "duration": 6,
    "start_time": "2022-02-09T15:37:14.471Z"
   },
   {
    "duration": 6,
    "start_time": "2022-02-09T15:37:14.479Z"
   },
   {
    "duration": 45,
    "start_time": "2022-02-09T15:37:14.487Z"
   },
   {
    "duration": 8,
    "start_time": "2022-02-09T15:37:14.534Z"
   },
   {
    "duration": 359,
    "start_time": "2022-02-09T15:37:14.544Z"
   },
   {
    "duration": 1466,
    "start_time": "2022-02-14T05:37:26.341Z"
   },
   {
    "duration": 43,
    "start_time": "2022-02-14T05:37:27.810Z"
   },
   {
    "duration": 20,
    "start_time": "2022-02-14T05:37:27.856Z"
   },
   {
    "duration": 15,
    "start_time": "2022-02-14T05:37:27.880Z"
   },
   {
    "duration": 14,
    "start_time": "2022-02-14T05:37:27.898Z"
   },
   {
    "duration": 40,
    "start_time": "2022-02-14T05:37:27.914Z"
   },
   {
    "duration": 5,
    "start_time": "2022-02-14T05:37:27.957Z"
   },
   {
    "duration": 7,
    "start_time": "2022-02-14T05:37:27.965Z"
   },
   {
    "duration": 10,
    "start_time": "2022-02-14T05:37:27.976Z"
   },
   {
    "duration": 61,
    "start_time": "2022-02-14T05:37:27.989Z"
   },
   {
    "duration": 16,
    "start_time": "2022-02-14T05:37:28.052Z"
   },
   {
    "duration": 12,
    "start_time": "2022-02-14T05:37:28.070Z"
   },
   {
    "duration": 13,
    "start_time": "2022-02-14T05:37:28.085Z"
   },
   {
    "duration": 11,
    "start_time": "2022-02-14T05:37:28.100Z"
   },
   {
    "duration": 6,
    "start_time": "2022-02-14T05:37:28.148Z"
   },
   {
    "duration": 21,
    "start_time": "2022-02-14T05:37:28.157Z"
   },
   {
    "duration": 7,
    "start_time": "2022-02-14T05:37:28.180Z"
   },
   {
    "duration": 15,
    "start_time": "2022-02-14T05:37:28.190Z"
   },
   {
    "duration": 659,
    "start_time": "2022-02-14T05:37:28.208Z"
   },
   {
    "duration": 10,
    "start_time": "2022-02-14T05:37:28.870Z"
   },
   {
    "duration": 356,
    "start_time": "2022-02-14T05:37:28.883Z"
   },
   {
    "duration": 272,
    "start_time": "2022-02-14T05:37:29.242Z"
   },
   {
    "duration": 12,
    "start_time": "2022-02-14T05:37:29.517Z"
   },
   {
    "duration": 29,
    "start_time": "2022-02-14T05:37:29.532Z"
   },
   {
    "duration": 638,
    "start_time": "2022-02-14T05:37:29.565Z"
   },
   {
    "duration": 575,
    "start_time": "2022-02-14T05:37:30.206Z"
   },
   {
    "duration": 776,
    "start_time": "2022-02-14T05:37:30.790Z"
   },
   {
    "duration": 7,
    "start_time": "2022-02-14T05:37:31.570Z"
   },
   {
    "duration": 545,
    "start_time": "2022-02-14T05:37:31.580Z"
   },
   {
    "duration": 25,
    "start_time": "2022-02-14T05:37:32.129Z"
   },
   {
    "duration": 598,
    "start_time": "2022-02-14T05:37:32.158Z"
   },
   {
    "duration": 21,
    "start_time": "2022-02-14T05:37:32.759Z"
   },
   {
    "duration": 307,
    "start_time": "2022-02-14T05:37:32.783Z"
   },
   {
    "duration": 366,
    "start_time": "2022-02-14T05:37:33.094Z"
   },
   {
    "duration": 9,
    "start_time": "2022-02-14T05:37:33.463Z"
   },
   {
    "duration": 312,
    "start_time": "2022-02-14T05:37:33.475Z"
   },
   {
    "duration": 393,
    "start_time": "2022-02-14T05:37:33.790Z"
   },
   {
    "duration": 8,
    "start_time": "2022-02-14T05:37:34.186Z"
   },
   {
    "duration": 478,
    "start_time": "2022-02-14T05:37:34.197Z"
   },
   {
    "duration": 225,
    "start_time": "2022-02-14T05:37:34.678Z"
   },
   {
    "duration": 11,
    "start_time": "2022-02-14T05:37:34.906Z"
   },
   {
    "duration": 31,
    "start_time": "2022-02-14T05:37:34.920Z"
   },
   {
    "duration": 13,
    "start_time": "2022-02-14T05:37:34.954Z"
   },
   {
    "duration": 16,
    "start_time": "2022-02-14T05:37:34.970Z"
   },
   {
    "duration": 9,
    "start_time": "2022-02-14T05:37:34.989Z"
   },
   {
    "duration": 50,
    "start_time": "2022-02-14T05:37:35.000Z"
   },
   {
    "duration": 13,
    "start_time": "2022-02-14T05:37:35.054Z"
   },
   {
    "duration": 11,
    "start_time": "2022-02-14T05:37:35.070Z"
   },
   {
    "duration": 9,
    "start_time": "2022-02-14T05:37:35.084Z"
   },
   {
    "duration": 15,
    "start_time": "2022-02-14T05:37:35.096Z"
   },
   {
    "duration": 46,
    "start_time": "2022-02-14T05:37:35.113Z"
   },
   {
    "duration": 16,
    "start_time": "2022-02-14T05:37:35.162Z"
   },
   {
    "duration": 14,
    "start_time": "2022-02-14T05:37:35.181Z"
   },
   {
    "duration": 588,
    "start_time": "2022-02-14T05:37:35.198Z"
   }
  ],
  "kernelspec": {
   "display_name": "Python 3",
   "language": "python",
   "name": "python3"
  },
  "language_info": {
   "codemirror_mode": {
    "name": "ipython",
    "version": 3
   },
   "file_extension": ".py",
   "mimetype": "text/x-python",
   "name": "python",
   "nbconvert_exporter": "python",
   "pygments_lexer": "ipython3",
   "version": "3.7.8"
  },
  "toc": {
   "base_numbering": 1,
   "nav_menu": {},
   "number_sections": true,
   "sideBar": true,
   "skip_h1_title": true,
   "title_cell": "Table of Contents",
   "title_sidebar": "Contents",
   "toc_cell": false,
   "toc_position": {
    "height": "calc(100% - 180px)",
    "left": "10px",
    "top": "150px",
    "width": "411.15px"
   },
   "toc_section_display": true,
   "toc_window_display": true
  }
 },
 "nbformat": 4,
 "nbformat_minor": 2
}
